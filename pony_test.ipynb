{
 "cells": [
  {
   "cell_type": "code",
   "execution_count": 1,
   "id": "1106b84e-a8a0-45f5-a350-c77ba9dd1455",
   "metadata": {},
   "outputs": [],
   "source": [
    "from pony.orm import Database, Required, db_session"
   ]
  },
  {
   "cell_type": "code",
   "execution_count": 2,
   "id": "eaf11a86-40d4-4adc-9853-b228a0d45f2c",
   "metadata": {},
   "outputs": [],
   "source": [
    "db = Database()"
   ]
  },
  {
   "cell_type": "code",
   "execution_count": 3,
   "id": "96aa9a60-7626-448c-bea2-3bf6ceccffdb",
   "metadata": {},
   "outputs": [],
   "source": [
    "class Person(db.Entity):\n",
    "    name = Required(str)\n",
    "    age = Required(int)"
   ]
  },
  {
   "cell_type": "code",
   "execution_count": 5,
   "id": "08388357-5f4b-4117-8317-9765ab4951d2",
   "metadata": {},
   "outputs": [],
   "source": [
    "db.bind(provider='sqlite', filename='/home/catskills/Desktop/metaculus/database.sqlite', create_db=True)"
   ]
  },
  {
   "cell_type": "code",
   "execution_count": 6,
   "id": "565e5fd6-d1aa-480e-a610-8ed8f0fa0b33",
   "metadata": {},
   "outputs": [],
   "source": [
    "db.generate_mapping(create_tables=True)"
   ]
  },
  {
   "cell_type": "code",
   "execution_count": 7,
   "id": "1161aba2-04ee-405e-b10a-92c535fafecf",
   "metadata": {},
   "outputs": [
    {
     "name": "stdout",
     "output_type": "stream",
     "text": [
      "John 30\n"
     ]
    }
   ],
   "source": [
    "with db_session:\n",
    "    # Insert a new person\n",
    "    p1 = Person(name=\"John\", age=30)\n",
    "\n",
    "    # Query the database\n",
    "    persons = Person.select()\n",
    "    for person in persons:\n",
    "        print(person.name, person.age)"
   ]
  },
  {
   "cell_type": "code",
   "execution_count": null,
   "id": "1846bdea-6712-46f3-99d8-31de227ce7f0",
   "metadata": {},
   "outputs": [],
   "source": []
  }
 ],
 "metadata": {
  "kernelspec": {
   "display_name": "trader",
   "language": "python",
   "name": "trader"
  },
  "language_info": {
   "codemirror_mode": {
    "name": "ipython",
    "version": 3
   },
   "file_extension": ".py",
   "mimetype": "text/x-python",
   "name": "python",
   "nbconvert_exporter": "python",
   "pygments_lexer": "ipython3",
   "version": "3.10.6"
  }
 },
 "nbformat": 4,
 "nbformat_minor": 5
}
