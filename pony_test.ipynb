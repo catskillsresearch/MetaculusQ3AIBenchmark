{
 "cells": [
  {
   "cell_type": "code",
   "execution_count": 1,
   "id": "681ebee0-6446-4863-8f0b-bf1259e6501a",
   "metadata": {},
   "outputs": [
    {
     "ename": "FileNotFoundError",
     "evalue": "[Errno 2] No such file or directory: 'questions/27637.json'",
     "output_type": "error",
     "traceback": [
      "\u001b[0;31m---------------------------------------------------------------------------\u001b[0m",
      "\u001b[0;31mFileNotFoundError\u001b[0m                         Traceback (most recent call last)",
      "Cell \u001b[0;32mIn [1], line 17\u001b[0m\n\u001b[1;32m     15\u001b[0m \u001b[38;5;28;01mfor\u001b[39;00m key \u001b[38;5;129;01min\u001b[39;00m history:\n\u001b[1;32m     16\u001b[0m     \u001b[38;5;28;01mfor\u001b[39;00m qid \u001b[38;5;129;01min\u001b[39;00m history[key]:\n\u001b[0;32m---> 17\u001b[0m         \u001b[38;5;28;01mwith\u001b[39;00m \u001b[38;5;28mopen\u001b[39m(\u001b[38;5;124mf\u001b[39m\u001b[38;5;124m'\u001b[39m\u001b[38;5;124mquestions/\u001b[39m\u001b[38;5;132;01m{\u001b[39;00mqid\u001b[38;5;132;01m}\u001b[39;00m\u001b[38;5;124m.json\u001b[39m\u001b[38;5;124m'\u001b[39m, \u001b[38;5;124m'\u001b[39m\u001b[38;5;124mr\u001b[39m\u001b[38;5;124m'\u001b[39m) \u001b[38;5;28;01mas\u001b[39;00m f:\n\u001b[1;32m     18\u001b[0m             qj \u001b[38;5;241m=\u001b[39m json\u001b[38;5;241m.\u001b[39mload(f)\n\u001b[1;32m     19\u001b[0m             publish_time \u001b[38;5;241m=\u001b[39m  date\u001b[38;5;241m.\u001b[39mfromisoformat(qj[\u001b[38;5;124m'\u001b[39m\u001b[38;5;124mpublish_time\u001b[39m\u001b[38;5;124m'\u001b[39m][\u001b[38;5;241m0\u001b[39m:\u001b[38;5;241m10\u001b[39m])\n",
      "\u001b[0;31mFileNotFoundError\u001b[0m: [Errno 2] No such file or directory: 'questions/27637.json'"
     ]
    }
   ],
   "source": []
  },
  {
   "cell_type": "code",
   "execution_count": 1,
   "id": "1846bdea-6712-46f3-99d8-31de227ce7f0",
   "metadata": {},
   "outputs": [
    {
     "name": "stdout",
     "output_type": "stream",
     "text": [
      "25871 0.0 2024-07-08\n",
      "25872 1.0 2024-07-08\n",
      "25874 1.0 2024-07-08\n",
      "25875 1.0 2024-07-08\n",
      "25933 1.0 2024-07-09\n",
      "25952 0.0 2024-07-10\n",
      "25953 1.0 2024-07-10\n",
      "25954 0.0 2024-07-10\n",
      "25956 0.0 2024-07-10\n",
      "25957 1.0 2024-07-10\n",
      "25958 0.0 2024-07-10\n",
      "25959 0.0 2024-07-10\n",
      "26004 1.0 2024-07-09\n",
      "26005 0.0 2024-07-09\n",
      "26006 1.0 2024-07-09\n",
      "26021 0.0 2024-07-11\n",
      "26095 0.0 2024-07-12\n",
      "26096 0.0 2024-07-12\n",
      "26097 0.0 2024-07-12\n",
      "26098 0.0 2024-07-12\n",
      "26100 1.0 2024-07-12\n",
      "26102 0.0 2024-07-12\n",
      "26139 0.0 2024-07-15\n",
      "26157 0.0 2024-07-15\n",
      "26158 1.0 2024-07-15\n",
      "26159 1.0 2024-07-15\n",
      "26189 1.0 2024-07-16\n",
      "26191 1.0 2024-07-16\n",
      "26192 0.0 2024-07-16\n",
      "26211 1.0 2024-07-17\n",
      "26232 0.0 2024-07-18\n",
      "26233 1.0 2024-07-18\n",
      "26236 0.0 2024-07-18\n",
      "26305 1.0 2024-07-19\n",
      "26388 0.0 2024-07-22\n",
      "26555 0.0 2024-07-24\n",
      "26570 0.0 2024-07-25\n",
      "26571 0.0 2024-07-25\n",
      "26572 1.0 2024-07-25\n",
      "26573 0.0 2024-07-25\n",
      "26646 0.0 2024-07-26\n",
      "26683 0.0 2024-07-29\n",
      "26981 1.0 2024-08-08\n",
      "27021 0.0 2024-08-06\n",
      "27136 1.0 2024-08-12\n",
      "27158 0.0 2024-08-14\n",
      "27200 0.0 2024-08-14\n"
     ]
    }
   ],
   "source": [
    "# Query existing database\n",
    "from pony.orm import *\n",
    "from db import db, start_db\n",
    "from Question import Question\n",
    "start_db()\n",
    "\n",
    "with db_session:\n",
    "    questions = select(q for q in Question if q.active_state == 'RESOLVED' and q.resolution != -2)\n",
    "    for question in questions:\n",
    "        print(question.id, question.resolution, question.ask_date)"
   ]
  },
  {
   "cell_type": "code",
   "execution_count": null,
   "id": "bf3c9c46-bfc8-448b-a658-804fe19cfd80",
   "metadata": {},
   "outputs": [],
   "source": []
  }
 ],
 "metadata": {
  "kernelspec": {
   "display_name": "trader",
   "language": "python",
   "name": "trader"
  },
  "language_info": {
   "codemirror_mode": {
    "name": "ipython",
    "version": 3
   },
   "file_extension": ".py",
   "mimetype": "text/x-python",
   "name": "python",
   "nbconvert_exporter": "python",
   "pygments_lexer": "ipython3",
   "version": "3.10.6"
  }
 },
 "nbformat": 4,
 "nbformat_minor": 5
}
