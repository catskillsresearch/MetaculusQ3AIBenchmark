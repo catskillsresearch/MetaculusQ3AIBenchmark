{
 "cells": [
  {
   "cell_type": "markdown",
   "metadata": {},
   "source": [
    "# 000 Forecasting Bot"
   ]
  },
  {
   "cell_type": "markdown",
   "metadata": {},
   "source": [
    "Starting from https://colab.research.google.com/drive/1_Il5h2Ed4zFa6Z3bROVCE68LZcSi4wHX?usp=sharing"
   ]
  },
  {
   "cell_type": "markdown",
   "metadata": {
    "jp-MarkdownHeadingCollapsed": true
   },
   "source": [
    "## Leaderboard"
   ]
  },
  {
   "cell_type": "markdown",
   "metadata": {},
   "source": [
    "### 10AUG24"
   ]
  },
  {
   "cell_type": "code",
   "execution_count": null,
   "metadata": {},
   "outputs": [],
   "source": [
    "%matplotlib inline\n",
    "import matplotlib.pylab as plt\n",
    "import pandas as pd\n",
    "df = pd.read_csv('leaderboard_20240810.csv')\n",
    "rank = df.index.values\n",
    "score = df['Total Spot Score'].values\n",
    "take = df['Take'].values\n",
    "plt.plot(rank, score/score.max(), label='score (normalized)')\n",
    "plt.plot(rank, take/take.max(), color='green', label='take (normalized)')\n",
    "plt.xlabel('Rank')\n",
    "plt.ylabel('Metric')\n",
    "plt.legend()\n",
    "plt.xlim([1,50])\n",
    "plt.title('AIQ3 Leaderboard as of 8/10/24');"
   ]
  },
  {
   "cell_type": "code",
   "execution_count": null,
   "metadata": {},
   "outputs": [],
   "source": [
    "plt.hist(score, bins=30, density=True);"
   ]
  },
  {
   "cell_type": "code",
   "execution_count": null,
   "metadata": {},
   "outputs": [],
   "source": [
    "df['Total Spot Score'].plot.hist(bins=50, density=True)\n",
    "plt.title('PDF of scores')\n",
    "plt.xlabel('Score')\n",
    "plt.ylabel('Probability Density')\n",
    "# Show the plot\n",
    "plt.show()\n",
    "df['Take'].plot.hist(bins=50, density=True)\n",
    "plt.title('PDF of take')\n",
    "plt.xlabel('Take')\n",
    "plt.ylabel('Probability Density')\n",
    "# Show the plot\n",
    "plt.show()"
   ]
  },
  {
   "cell_type": "code",
   "execution_count": null,
   "metadata": {},
   "outputs": [],
   "source": [
    "df_nonmf = df[df.Forecaster.apply(lambda x: 'mf-' not in x)]\n",
    "top20_take = df_nonmf['Take'][df.Take > 2000]\n",
    "top20_take.plot.hist(bins=50, density=True)\n",
    "plt.title('PDF of top 20 take')\n",
    "plt.xlabel('Take')\n",
    "plt.ylabel('Probability Density')"
   ]
  },
  {
   "cell_type": "markdown",
   "metadata": {},
   "source": [
    "## Imports"
   ]
  },
  {
   "cell_type": "code",
   "execution_count": 1,
   "metadata": {},
   "outputs": [],
   "source": [
    "from IPython.display import Markdown\n",
    "from omegaconf import OmegaConf\n",
    "import datetime,json, os, requests, re\n",
    "from openai import OpenAI\n",
    "from tqdm import tqdm"
   ]
  },
  {
   "cell_type": "markdown",
   "metadata": {},
   "source": [
    "## Today"
   ]
  },
  {
   "cell_type": "code",
   "execution_count": 2,
   "metadata": {},
   "outputs": [
    {
     "data": {
      "text/plain": [
       "'2024-08-15'"
      ]
     },
     "execution_count": 2,
     "metadata": {},
     "output_type": "execute_result"
    }
   ],
   "source": [
    "import datetime\n",
    "today = str(datetime.datetime.now())[0:10]\n",
    "today"
   ]
  },
  {
   "cell_type": "markdown",
   "metadata": {},
   "source": [
    "## API Keys"
   ]
  },
  {
   "cell_type": "markdown",
   "metadata": {},
   "source": [
    "In order to run this notebook as is, you'll need to enter a few API keys (use the key icon on the left to input them):\n",
    "\n",
    "- `METACULUS_TOKEN`: you can find your Metaculus token under your bot's user settings page: https://www.metaculus.com/accounts/settings/, or on the bot registration page where you created the account: https://www.metaculus.com/aib/\n",
    "- `OPENAPI_API_KEY`: get one from OpenAIs page: https://platform.openai.com/settings/profile?tab=api-keys\n",
    "- `PERPLEXITY_API_KEY` - used to search up-to-date information about the question. Get one from https://www.perplexity.ai/settings/api\n",
    "- `ASKNEWS_CLIENT_ID`, `ASKNEWS_SECRET`"
   ]
  },
  {
   "cell_type": "code",
   "execution_count": 3,
   "metadata": {},
   "outputs": [],
   "source": [
    "token_fn = \"tokens.yaml\""
   ]
  },
  {
   "cell_type": "raw",
   "metadata": {},
   "source": [
    "tokens = OmegaConf.create(\"\"\"\n",
    "METACULUS_TOKEN: xx\n",
    "OPENAI_API_KEY: yy\n",
    "OPENAI_MODEL: gpt-4o\n",
    "PERPLEXITY_API_KEY: zz\n",
    "PERPLEXITY_MODEL: llama-3-sonar-large-32k-online\"\"\")\n",
    "OmegaConf.save(config=tokens, f=token_fn)"
   ]
  },
  {
   "cell_type": "code",
   "execution_count": 4,
   "metadata": {},
   "outputs": [],
   "source": [
    "config = OmegaConf.load(token_fn)\n",
    "\n",
    "def pr(tokens):\n",
    "    print(OmegaConf.to_yaml(config))"
   ]
  },
  {
   "cell_type": "markdown",
   "metadata": {
    "id": "iDukuXArbgdm"
   },
   "source": [
    "## LLM and Metaculus Interaction"
   ]
  },
  {
   "cell_type": "markdown",
   "metadata": {
    "id": "iDukuXArbgdm"
   },
   "source": [
    "This section sets up some simple helper code you can use to get data about forecasting questions and to submit a prediction"
   ]
  },
  {
   "cell_type": "code",
   "execution_count": 5,
   "metadata": {
    "id": "HifodCwcGU0j"
   },
   "outputs": [],
   "source": [
    "AUTH_HEADERS = {\"headers\": {\"Authorization\": f\"Token {config.METACULUS_TOKEN}\"}}\n",
    "API_BASE_URL = \"https://www.metaculus.com/api2\"\n",
    "WARMUP_TOURNAMENT_ID = 3349\n",
    "SUBMIT_PREDICTION = True\n",
    "\n",
    "def find_number_before_percent(s):\n",
    "    # Use a regular expression to find all numbers followed by a '%'\n",
    "    matches = re.findall(r'(\\d+)%', s)\n",
    "    if matches:\n",
    "        # Return the last number found before a '%'\n",
    "        return int(matches[-1])\n",
    "    else:\n",
    "        # Return None if no number found\n",
    "        return None\n",
    "\n",
    "def post_question_comment(question_id, comment_text):\n",
    "    \"\"\"\n",
    "    Post a comment on the question page as the bot user.\n",
    "    \"\"\"\n",
    "\n",
    "    response = requests.post(\n",
    "        f\"{API_BASE_URL}/comments/\",\n",
    "        json={\n",
    "            \"comment_text\": comment_text,\n",
    "            \"submit_type\": \"N\",\n",
    "            \"include_latest_prediction\": True,\n",
    "            \"question\": question_id,\n",
    "        },\n",
    "        **AUTH_HEADERS,\n",
    "    )\n",
    "    response.raise_for_status()\n",
    "    print(\"Comment posted for \", question_id)\n",
    "\n",
    "def post_question_prediction(question_id, prediction_percentage):\n",
    "    \"\"\"\n",
    "    Post a prediction value (between 1 and 100) on the question.\n",
    "    \"\"\"\n",
    "    url = f\"{API_BASE_URL}/questions/{question_id}/predict/\"\n",
    "    response = requests.post(\n",
    "        url,\n",
    "        json={\"prediction\": float(prediction_percentage) / 100},\n",
    "        **AUTH_HEADERS,\n",
    "    )\n",
    "    response.raise_for_status()\n",
    "    print(\"Prediction posted for \", question_id)\n",
    "\n",
    "\n",
    "def get_question_details(question_id):\n",
    "    \"\"\"\n",
    "    Get all details about a specific question.\n",
    "    \"\"\"\n",
    "    url = f\"{API_BASE_URL}/questions/{question_id}/\"\n",
    "    response = requests.get(\n",
    "        url,\n",
    "        **AUTH_HEADERS,\n",
    "    )\n",
    "    response.raise_for_status()\n",
    "    return json.loads(response.content)\n",
    "\n",
    "def list_questions(tournament_id=WARMUP_TOURNAMENT_ID, offset=0, count=1000):\n",
    "    \"\"\"\n",
    "    List (all details) {count} questions from the {tournament_id}\n",
    "    \"\"\"\n",
    "    url_qparams = {\n",
    "        \"limit\": count,\n",
    "        \"offset\": offset,\n",
    "        \"has_group\": \"false\",\n",
    "        \"order_by\": \"-activity\",\n",
    "        \"forecast_type\": \"binary\",\n",
    "        \"project\": tournament_id,\n",
    "        \"status\": \"open\",\n",
    "        \"type\": \"forecast\",\n",
    "        \"include_description\": \"true\",\n",
    "    }\n",
    "    url = f\"{API_BASE_URL}/questions/\"\n",
    "    response = requests.get(url, **AUTH_HEADERS, params=url_qparams)\n",
    "    response.raise_for_status()\n",
    "    data = json.loads(response.content)\n",
    "    return data"
   ]
  },
  {
   "cell_type": "markdown",
   "metadata": {
    "jp-MarkdownHeadingCollapsed": true
   },
   "source": [
    "## Forecast outliers"
   ]
  },
  {
   "cell_type": "code",
   "execution_count": 6,
   "metadata": {},
   "outputs": [
    {
     "data": {
      "text/plain": [
       "100"
      ]
     },
     "execution_count": 6,
     "metadata": {},
     "output_type": "execute_result"
    }
   ],
   "source": [
    "url_qparams = {\n",
    "    \"project\": WARMUP_TOURNAMENT_ID,\n",
    "    \"type\": \"forecast\",\n",
    "    \"include_description\": \"true\",\n",
    "    \"limit\": 1000,\n",
    "}\n",
    "url = f\"{API_BASE_URL}/questions/\"\n",
    "response = requests.get(url, **AUTH_HEADERS, params=url_qparams)\n",
    "response.raise_for_status()\n",
    "data = json.loads(response.content)\n",
    "len(data['results'])"
   ]
  },
  {
   "cell_type": "code",
   "execution_count": 7,
   "metadata": {},
   "outputs": [
    {
     "name": "stdout",
     "output_type": "stream",
     "text": [
      "25852 PRACTICE: Will Donald Trump be elected to be US President in 2024?\n",
      "25876 Will exactly 2 Starship launches reach reach an altitude of 160 kilometers by Sept 30, 2024?\n",
      "25877 Will exactly 3 Starship launches reach reach an altitude of 160 kilometers by Sept 30, 2024?\n",
      "25878 Will exactly 2 or 3 Starship launches reach reach an altitude of 160 kilometers by Sept 30, 2024?\n",
      "25930 What will Trump's lead over Biden be greater than 2 and less than or equal to 3 on July 15, 2024, according to 538's national polling average?\n",
      "25931 What will Trump's lead over Biden be greater than 3 and less than or equal to 4 on July 15, 2024, according to 538's national polling average?\n",
      "25932 What will Trump's lead over Biden be greater than 2 and less than or equal to 4 on July 15, 2024, according to 538's national polling average?\n"
     ]
    }
   ],
   "source": [
    "questions = data['results']\n",
    "excluded = [q for q in questions if q['resolution']==-2]\n",
    "for q in excluded:\n",
    "    print(q['id'], q['title'])"
   ]
  },
  {
   "cell_type": "code",
   "execution_count": 8,
   "metadata": {},
   "outputs": [
    {
     "data": {
      "image/png": "[encoded data removed]",
      "text/plain": [
       "<Figure size 640x480 with 1 Axes>"
      ]
     },
     "metadata": {},
     "output_type": "display_data"
    }
   ],
   "source": [
    "import matplotlib.pylab as plt\n",
    "live = [q for q in questions if q['resolution']!=-2]\n",
    "plt.plot([q['number_of_forecasters'] for q in live]);\n",
    "plt.title('Forecasters over time for live questions')\n",
    "plt.xlabel('Question appearance order')\n",
    "plt.ylabel('Number of forecasts');"
   ]
  },
  {
   "cell_type": "code",
   "execution_count": 9,
   "metadata": {},
   "outputs": [],
   "source": [
    "unresolved = [q for q in live if q['active_state']!='RESOLVED']"
   ]
  },
  {
   "cell_type": "code",
   "execution_count": 10,
   "metadata": {},
   "outputs": [
    {
     "data": {
      "text/plain": [
       "0.7"
      ]
     },
     "execution_count": 10,
     "metadata": {},
     "output_type": "execute_result"
    }
   ],
   "source": [
    "q = unresolved[0]\n",
    "my_forecast = q['my_predictions']['predictions'][-1]['x']\n",
    "my_forecast"
   ]
  },
  {
   "cell_type": "code",
   "execution_count": 11,
   "metadata": {},
   "outputs": [
    {
     "name": "stdout",
     "output_type": "stream",
     "text": [
      "metaculus_prediction\n",
      "{'full': 0.5024689125622709, 'history': [{'t': 1720450200.370142, 'x': 0.8337676266572321}, {'t': 1720451373.706415, 'x': 0.8187277404948885}, {'t': 1720451389.565865, 'x': 0.8187257091644053}, {'t': 1720451406.039746, 'x': 0.8187235981169729}, {'t': 1720451425.714539, 'x': 0.8187210753412929}, {'t': 1720451443.074749, 'x': 0.8187188496759453}, {'t': 1720451445.618497, 'x': 0.8187185219941754}, {'t': 1720451668.536768, 'x': 0.8025548559812409}, {'t': 1720451675.324353, 'x': 0.8025539422318363}, {'t': 1720451680.677244, 'x': 0.8025532208419889}, {'t': 1720451687.469944, 'x': 0.8025523033770009}, {'t': 1720451692.927313, 'x': 0.8025515665763562}, {'t': 1720451694.634206, 'x': 0.8025513351056854}, {'t': 1720454178.276012, 'x': 0.7230904489824356}, {'t': 1720458154.499796, 'x': 0.7161695686997194}, {'t': 1720458309.208368, 'x': 0.7476343917622305}, {'t': 1720459439.449585, 'x': 0.7780937770580579}, {'t': 1720460754.261539, 'x': 0.7270302779436294}, {'t': 1720464615.437281, 'x': 0.7182977132586494}, {'t': 1720464803.54604, 'x': 0.7182836221425718}, {'t': 1720466934.354001, 'x': 0.7210387398422137}, {'t': 1720466991.092354, 'x': 0.7110746907837661}, {'t': 1720467028.68029, 'x': 0.7110721199195661}, {'t': 1720467042.782669, 'x': 0.7110711548299993}, {'t': 1720469445.355366, 'x': 0.7177559540291147}, {'t': 1720470124.829788, 'x': 0.5629158590120245}, {'t': 1720474261.374167, 'x': 0.553817400835054}, {'t': 1720478748.146235, 'x': 0.5154561153605863}, {'t': 1720481019.35404, 'x': 0.5846149470163693}, {'t': 1720481090.130185, 'x': 0.5912715370830793}, {'t': 1720484133.713611, 'x': 0.6193066460515297}, {'t': 1720489025.810188, 'x': 0.6213447789296721}, {'t': 1720496935.02118, 'x': 0.6204018864322737}, {'t': 1720499334.503558, 'x': 0.6208889017455651}, {'t': 1720508619.545002, 'x': 0.5933002165536589}, {'t': 1720514033.537639, 'x': 0.5945126598960937}, {'t': 1720516596.616872, 'x': 0.5708981444273153}, {'t': 1720521662.246124, 'x': 0.5708301912325511}, {'t': 1720523826.625283, 'x': 0.5709363610157983}, {'t': 1720525506.18597, 'x': 0.5028677081758062}, {'t': 1720528232.065253, 'x': 0.5092364340155682}, {'t': 1720530488.159644, 'x': 0.4889392147809964}, {'t': 1720530637.931403, 'x': 0.4886454330054744}, {'t': 1720533215.843185, 'x': 0.5043370438809948}, {'t': 1720534587.481425, 'x': 0.5047046189878269}, {'t': 1720534784.913204, 'x': 0.5024689125622709}], 'postdiction': 0.5059803550741016}\n",
      "community_prediction\n",
      "{'full': {'y': [0.0, 0.0, 0.0, 0.0, 0.0, 0.0, 0.0, 0.0, 0.0, 0.0, 0.15918, 0.0, 0.0, 0.0, 0.0, 0.58986, 0.0, 0.0, 0.0, 0.0, 0.02771, 0.0, 0.0, 0.0, 0.0, 0.0, 0.0, 0.0, 0.0, 0.0, 0.0, 0.0, 0.0, 0.0, 0.0, 0.0, 0.0, 0.0, 0.0, 0.0, 0.0, 0.0, 0.0, 0.73375, 0.0, 0.0, 0.0, 0.0, 0.0, 0.0, 0.92306, 0.0, 0.324, 0.0, 0.0, 0.06304, 0.0, 0.0, 1.0, 0.0, 0.18575, 0.0, 0.0, 0.0, 0.0, 0.75371, 0.0, 0.0, 0.0, 0.0, 0.29776, 0.0, 0.52671, 0.13534, 0.0, 0.36788, 0.0, 0.0, 0.0, 0.0, 1.03059, 0.0, 0.90391, 0.0, 0.0, 0.30244, 0.0, 0.114, 0.0, 0.0, 0.07804, 0.0, 0.0, 0.0, 0.0, 0.0, 0.0, 0.0, 0.0, 0.0, 0.0], 'q1': 0.5, 'q2': 0.65, 'q3': 0.8}, 'history': [{'t': 1720450200.361637, 'np': 1, 'nu': 1, 'x1': {'q1': 0.85, 'q2': 0.85, 'q3': 0.85}, 'x2': {'avg': 0.85, 'var': 0.0, 'weighted_avg': 0.85}}, {'t': 1720451373.699808, 'np': 2, 'nu': 2, 'x1': {'q1': 0.2, 'q2': 0.525, 'q3': 0.85}, 'x2': {'avg': 0.525, 'var': 0.106, 'weighted_avg': 0.525}}, {'t': 1720451389.559073, 'np': 3, 'nu': 2, 'x1': {'q1': 0.2, 'q2': 0.525, 'q3': 0.85}, 'x2': {'avg': 0.525, 'var': 0.106, 'weighted_avg': 0.525}}, {'t': 1720451406.031873, 'np': 4, 'nu': 2, 'x1': {'q1': 0.2, 'q2': 0.525, 'q3': 0.85}, 'x2': {'avg': 0.525, 'var': 0.106, 'weighted_avg': 0.525}}, {'t': 1720451425.706732, 'np': 5, 'nu': 2, 'x1': {'q1': 0.2, 'q2': 0.525, 'q3': 0.85}, 'x2': {'avg': 0.525, 'var': 0.106, 'weighted_avg': 0.525}}, {'t': 1720451443.065415, 'np': 6, 'nu': 2, 'x1': {'q1': 0.2, 'q2': 0.525, 'q3': 0.85}, 'x2': {'avg': 0.525, 'var': 0.106, 'weighted_avg': 0.525}}, {'t': 1720451445.611908, 'np': 7, 'nu': 2, 'x1': {'q1': 0.2, 'q2': 0.525, 'q3': 0.85}, 'x2': {'avg': 0.525, 'var': 0.106, 'weighted_avg': 0.525}}, {'t': 1720451668.530185, 'np': 8, 'nu': 3, 'x1': {'q1': 0.2, 'q2': 0.5, 'q3': 0.5}, 'x2': {'avg': 0.517, 'var': 0.071, 'weighted_avg': 0.477}}, {'t': 1720451675.316835, 'np': 9, 'nu': 3, 'x1': {'q1': 0.2, 'q2': 0.5, 'q3': 0.5}, 'x2': {'avg': 0.517, 'var': 0.071, 'weighted_avg': 0.477}}, {'t': 1720451680.669111, 'np': 10, 'nu': 3, 'x1': {'q1': 0.2, 'q2': 0.5, 'q3': 0.5}, 'x2': {'avg': 0.517, 'var': 0.071, 'weighted_avg': 0.477}}, {'t': 1720451687.461787, 'np': 11, 'nu': 3, 'x1': {'q1': 0.2, 'q2': 0.5, 'q3': 0.5}, 'x2': {'avg': 0.517, 'var': 0.071, 'weighted_avg': 0.477}}, {'t': 1720451692.919659, 'np': 12, 'nu': 3, 'x1': {'q1': 0.2, 'q2': 0.5, 'q3': 0.5}, 'x2': {'avg': 0.517, 'var': 0.071, 'weighted_avg': 0.477}}, {'t': 1720451694.625146, 'np': 13, 'nu': 3, 'x1': {'q1': 0.2, 'q2': 0.5, 'q3': 0.5}, 'x2': {'avg': 0.517, 'var': 0.071, 'weighted_avg': 0.477}}, {'t': 1720454178.265956, 'np': 14, 'nu': 4, 'x1': {'q1': 0.5, 'q2': 0.7, 'q3': 0.7}, 'x2': {'avg': 0.562, 'var': 0.059, 'weighted_avg': 0.56}}, {'t': 1720458154.490948, 'np': 15, 'nu': 5, 'x1': {'q1': 0.5, 'q2': 0.55, 'q3': 0.7}, 'x2': {'avg': 0.56, 'var': 0.047, 'weighted_avg': 0.557}}, {'t': 1720458309.20035, 'np': 16, 'nu': 6, 'x1': {'q1': 0.55, 'q2': 0.7, 'q3': 0.83}, 'x2': {'avg': 0.605, 'var': 0.05, 'weighted_avg': 0.634}}, {'t': 1720459439.440634, 'np': 17, 'nu': 6, 'x1': {'q1': 0.55, 'q2': 0.7, 'q3': 0.9}, 'x2': {'avg': 0.617, 'var': 0.056, 'weighted_avg': 0.654}}, {'t': 1720460754.253059, 'np': 18, 'nu': 7, 'x1': {'q1': 0.55, 'q2': 0.65, 'q3': 0.85}, 'x2': {'avg': 0.621, 'var': 0.048, 'weighted_avg': 0.653}}, {'t': 1720464615.428486, 'np': 19, 'nu': 8, 'x1': {'q1': 0.2, 'q2': 0.55, 'q3': 0.7}, 'x2': {'avg': 0.545, 'var': 0.083, 'weighted_avg': 0.502}}, {'t': 1720464803.539238, 'np': 20, 'nu': 8, 'x1': {'q1': 0.2, 'q2': 0.55, 'q3': 0.7}, 'x2': {'avg': 0.545, 'var': 0.083, 'weighted_avg': 0.502}}, {'t': 1720466934.346554, 'np': 21, 'nu': 9, 'x1': {'q1': 0.5, 'q2': 0.65, 'q3': 0.87}, 'x2': {'avg': 0.581, 'var': 0.084, 'weighted_avg': 0.582}}, {'t': 1720466991.084463, 'np': 22, 'nu': 10, 'x1': {'q1': 0.55, 'q2': 0.725, 'q3': 0.87}, 'x2': {'avg': 0.596, 'var': 0.077, 'weighted_avg': 0.611}}, {'t': 1720467028.672478, 'np': 23, 'nu': 10, 'x1': {'q1': 0.55, 'q2': 0.725, 'q3': 0.87}, 'x2': {'avg': 0.596, 'var': 0.077, 'weighted_avg': 0.611}}, {'t': 1720467042.774888, 'np': 24, 'nu': 10, 'x1': {'q1': 0.55, 'q2': 0.725, 'q3': 0.87}, 'x2': {'avg': 0.596, 'var': 0.077, 'weighted_avg': 0.611}}, {'t': 1720469445.345874, 'np': 25, 'nu': 10, 'x1': {'q1': 0.65, 'q2': 0.725, 'q3': 0.85}, 'x2': {'avg': 0.67, 'var': 0.04, 'weighted_avg': 0.717}}, {'t': 1720470124.822268, 'np': 26, 'nu': 11, 'x1': {'q1': 0.5, 'q2': 0.725, 'q3': 0.75}, 'x2': {'avg': 0.618, 'var': 0.063, 'weighted_avg': 0.598}}, {'t': 1720474261.360278, 'np': 27, 'nu': 12, 'x1': {'q1': 0.55, 'q2': 0.65, 'q3': 0.75}, 'x2': {'avg': 0.616, 'var': 0.058, 'weighted_avg': 0.599}}, {'t': 1720478748.1372, 'np': 28, 'nu': 13, 'x1': {'q1': 0.43, 'q2': 0.6, 'q3': 0.75}, 'x2': {'avg': 0.602, 'var': 0.056, 'weighted_avg': 0.569}}, {'t': 1720481019.344929, 'np': 29, 'nu': 13, 'x1': {'q1': 0.6, 'q2': 0.725, 'q3': 0.8}, 'x2': {'avg': 0.63, 'var': 0.056, 'weighted_avg': 0.634}}, {'t': 1720481090.117677, 'np': 30, 'nu': 14, 'x1': {'q1': 0.6, 'q2': 0.7, 'q3': 0.8}, 'x2': {'avg': 0.635, 'var': 0.052, 'weighted_avg': 0.645}}, {'t': 1720484133.701656, 'np': 31, 'nu': 15, 'x1': {'q1': 0.6, 'q2': 0.725, 'q3': 0.85}, 'x2': {'avg': 0.65, 'var': 0.052, 'weighted_avg': 0.677}}, {'t': 1720489025.800136, 'np': 32, 'nu': 16, 'x1': {'q1': 0.65, 'q2': 0.7, 'q3': 0.8}, 'x2': {'avg': 0.653, 'var': 0.049, 'weighted_avg': 0.681}}, {'t': 1720496935.009996, 'np': 33, 'nu': 17, 'x1': {'q1': 0.55, 'q2': 0.7, 'q3': 0.8}, 'x2': {'avg': 0.645, 'var': 0.047, 'weighted_avg': 0.657}}, {'t': 1720499334.494851, 'np': 34, 'nu': 18, 'x1': {'q1': 0.6, 'q2': 0.7, 'q3': 0.75}, 'x2': {'avg': 0.651, 'var': 0.045, 'weighted_avg': 0.67}}, {'t': 1720508619.533269, 'np': 35, 'nu': 19, 'x1': {'q1': 0.52, 'q2': 0.7, 'q3': 0.75}, 'x2': {'avg': 0.643, 'var': 0.043, 'weighted_avg': 0.647}}, {'t': 1720511691.120698, 'np': 36, 'nu': 20, 'x1': {'q1': 0.52, 'q2': 0.7, 'q3': 0.85}, 'x2': {'avg': 0.653, 'var': 0.043, 'weighted_avg': 0.674}}, {'t': 1720516596.603594, 'np': 37, 'nu': 21, 'x1': {'q1': 0.5, 'q2': 0.7, 'q3': 0.8}, 'x2': {'avg': 0.646, 'var': 0.042, 'weighted_avg': 0.651}}, {'t': 1720521662.235603, 'np': 38, 'nu': 21, 'x1': {'q1': 0.5, 'q2': 0.7, 'q3': 0.75}, 'x2': {'avg': 0.644, 'var': 0.042, 'weighted_avg': 0.656}}, {'t': 1720523826.61469, 'np': 39, 'nu': 21, 'x1': {'q1': 0.5, 'q2': 0.7, 'q3': 0.75}, 'x2': {'avg': 0.645, 'var': 0.042, 'weighted_avg': 0.659}}, {'t': 1720525506.176595, 'np': 40, 'nu': 22, 'x1': {'q1': 0.5, 'q2': 0.7, 'q3': 0.75}, 'x2': {'avg': 0.622, 'var': 0.051, 'weighted_avg': 0.594}}, {'t': 1720528232.056357, 'np': 41, 'nu': 23, 'x1': {'q1': 0.5, 'q2': 0.65, 'q3': 0.725}, 'x2': {'avg': 0.623, 'var': 0.049, 'weighted_avg': 0.601}}, {'t': 1720530488.148874, 'np': 42, 'nu': 24, 'x1': {'q1': 0.5, 'q2': 0.65, 'q3': 0.72}, 'x2': {'avg': 0.615, 'var': 0.048, 'weighted_avg': 0.581}}, {'t': 1720530637.920324, 'np': 43, 'nu': 24, 'x1': {'q1': 0.5, 'q2': 0.65, 'q3': 0.75}, 'x2': {'avg': 0.611, 'var': 0.046, 'weighted_avg': 0.587}}, {'t': 1720533215.833219, 'np': 44, 'nu': 24, 'x1': {'q1': 0.5, 'q2': 0.65, 'q3': 0.75}, 'x2': {'avg': 0.615, 'var': 0.048, 'weighted_avg': 0.61}}, {'t': 1720534587.471961, 'np': 45, 'nu': 24, 'x1': {'q1': 0.5, 'q2': 0.65, 'q3': 0.8}, 'x2': {'avg': 0.618, 'var': 0.049, 'weighted_avg': 0.618}}, {'t': 1720534784.901454, 'np': 46, 'nu': 25, 'x1': {'q1': 0.5, 'q2': 0.65, 'q3': 0.8}, 'x2': {'avg': 0.617, 'var': 0.047, 'weighted_avg': 0.614}}], 'unweighted': {'y': [0, 0, 0, 0, 0, 0, 0, 0, 0, 0, 1, 0, 0, 0, 0, 1, 0, 0, 0, 0, 1, 0, 0, 0, 0, 0, 0, 0, 0, 0, 0, 0, 0, 0, 0, 0, 0, 0, 0, 0, 0, 0, 0, 1, 0, 0, 0, 0, 0, 0, 3, 0, 1, 0, 0, 1, 0, 0, 1, 0, 1, 0, 0, 0, 0, 2, 0, 0, 0, 0, 2, 0, 1, 1, 0, 1, 0, 0, 0, 0, 2, 0, 1, 0, 0, 2, 0, 1, 0, 0, 1, 0, 0, 0, 0, 0, 0, 0, 0, 0, 0], 'q1': 0.5, 'q2': 0.65, 'q3': 0.8}}\n",
      "prediction_count\n",
      "46\n",
      "unweighted_community_prediction_v2\n",
      "None\n",
      "recency_weighted_community_prediction_v2\n",
      "None\n",
      "my_predictions\n",
      "{'id': 704509, 'predictions': [{'t': 1720481090.096992, 'x': 0.7}], 'points_won': None, 'user': 191284, 'question': 25873, 'active': True, 'log_score': None, 'absolute_log_score': None, 'coverage': None, 'username': '000_bot', 'unweighted_coverage': 0}\n",
      "user_prediction_sequence\n",
      "None\n"
     ]
    }
   ],
   "source": [
    "for x in [x for x in q.keys() if 'prediction' in x]:\n",
    "    print(x)\n",
    "    print(q[x])"
   ]
  },
  {
   "cell_type": "code",
   "execution_count": null,
   "metadata": {},
   "outputs": [],
   "source": [
    "q.keys()"
   ]
  },
  {
   "cell_type": "code",
   "execution_count": null,
   "metadata": {},
   "outputs": [],
   "source": [
    "df = pd.DataFrame(q['metaculus_prediction']['history'])\n",
    "df['t'] = pd.to_datetime(df['t'], unit='s')\n",
    "df.plot(x='t', y='x')\n",
    "plt.title(f'Metaculus prediction for {q[\"id\"]}');"
   ]
  },
  {
   "cell_type": "code",
   "execution_count": null,
   "metadata": {},
   "outputs": [],
   "source": [
    "q['community_prediction'].keys()"
   ]
  },
  {
   "cell_type": "code",
   "execution_count": null,
   "metadata": {},
   "outputs": [],
   "source": [
    "q['community_prediction']['full']['q2']"
   ]
  },
  {
   "cell_type": "code",
   "execution_count": null,
   "metadata": {},
   "outputs": [],
   "source": [
    "df = pd.DataFrame([(q['id'], q['title'], q['my_predictions']['predictions'][-1]['x'], q['community_prediction']['full']['q2']) for q in unresolved], columns=['id', 'title', 'bot', 'community'])"
   ]
  },
  {
   "cell_type": "code",
   "execution_count": null,
   "metadata": {},
   "outputs": [],
   "source": [
    "df.plot.scatter(y='bot', x='community')\n",
    "rho = df['bot'].corr(df['community'])\n",
    "plt.title(f'My bot vs bot crowd: Correlation {int(100*rho)}%');"
   ]
  },
  {
   "cell_type": "code",
   "execution_count": null,
   "metadata": {},
   "outputs": [],
   "source": [
    "import numpy as np\n",
    "df = pd.DataFrame([(q['id'], q['title'], q['my_predictions']['predictions'][-1]['x'], q['community_prediction']['full']['q2']) for q in unresolved], columns=['id', 'title', 'bot', 'community'])\n",
    "df['diff'] = np.abs(df.bot-df.community)\n",
    "df = df.sort_values(by='diff',ascending=False).reset_index(drop=True)\n",
    "pd.set_option('display.max_rows', 500)\n",
    "pd.set_option('display.max_colwidth', 150)\n",
    "df[df.index < 10]"
   ]
  },
  {
   "cell_type": "code",
   "execution_count": null,
   "metadata": {},
   "outputs": [],
   "source": [
    "diff10 = df[df.index < 10]\n",
    "diff10.plot.scatter(y='bot', x='community')\n",
    "rho = diff10['bot'].corr(diff10['community'])\n",
    "plt.title(f'My bot vs bot crowd on 10 top outliers: Correlation {int(100*rho)}%');"
   ]
  },
  {
   "cell_type": "code",
   "execution_count": null,
   "metadata": {},
   "outputs": [],
   "source": []
  },
  {
   "cell_type": "markdown",
   "metadata": {},
   "source": [
    "## IFP"
   ]
  },
  {
   "cell_type": "code",
   "execution_count": 6,
   "metadata": {},
   "outputs": [],
   "source": [
    "class IFP:\n",
    "\n",
    "    forecast_fields = ['question_id',\n",
    "                       'title',\n",
    "                       'feedback',\n",
    "                       'resolution_criteria', \n",
    "                       'background', \n",
    "                       'event', \n",
    "                       'model_domain']\n",
    "\n",
    "    forecast_format = f\"|{'|'.join(forecast_fields)}|\"\n",
    "\n",
    "    openai_max_tokens = 30000\n",
    "\n",
    "    def format(self):\n",
    "        rec = vars(self)\n",
    "        fmt = '|'.join([f\"{x}: {rec[x]}\" for x in self.forecast_fields])\n",
    "        return '|' + fmt + '|'\n",
    "\n",
    "    def over_openai_max(self):\n",
    "        sep = self.format()\n",
    "        return len(sep.split(' ')) > self.openai_max_tokens # Max limit for OpenAI\n",
    "\n",
    "    def record(self):\n",
    "        return self.format()\n",
    "        if self.over_openai_max(): \n",
    "            self.news = ' '.join(self.news.split(' ')[0:int(0.5*self.openai_max_tokens)])\n",
    "        if self.over_openai_max(): \n",
    "            self.research = ' '.join(self.research.split(' ')[0:int(0.5*self.openai_max_tokens)])\n",
    "        if self.over_openai_max(): \n",
    "            raise Exception('IFP record over OpenAI max')\n",
    "        return self.format()\n",
    "\n",
    "    def __init__(self, question_id):\n",
    "        self.question_id = question_id\n",
    "        self.question_details = get_question_details(self.question_id)\n",
    "        self.today = datetime.datetime.now().strftime(\"%Y-%m-%d\")   \n",
    "        self.title = self.question_details[\"title\"]\n",
    "        self.resolution_criteria = self.question_details[\"resolution_criteria\"]\n",
    "        self.background = self.question_details[\"description\"]\n",
    "        self.fine_print = self.question_details[\"fine_print\"]\n",
    "        self.event = ''\n",
    "        self.model_domain = ''\n",
    "        self.feedback = ''\n",
    "\n",
    "    def report(self):\n",
    "        rpt = f\"\"\"\n",
    "The future event is described by this question: [ {self.title} ]\n",
    "The resolution criteria are: [ {self.resolution_criteria} ]\n",
    "The background is: [ {self.background} ]\"\"\"\n",
    "        if self.fine_print:\n",
    "            rpt += f\"\"\"\n",
    "The fine print is: [ {self.fine_print} ]\"\"\"\n",
    "        return rpt\n",
    "\n",
    "    def upload(self):\n",
    "        post_question_prediction(self.question_id, self.forecast)\n",
    "        post_question_comment(self.question_id, self.rationale)"
   ]
  },
  {
   "cell_type": "code",
   "execution_count": 7,
   "metadata": {},
   "outputs": [],
   "source": [
    "unit_test = False"
   ]
  },
  {
   "cell_type": "code",
   "execution_count": 8,
   "metadata": {},
   "outputs": [],
   "source": [
    "if unit_test:\n",
    "    qid = 26775\n",
    "    ifp = IFP(qid)\n",
    "    ifps = {qid: ifp}\n",
    "    print(ifp.record())"
   ]
  },
  {
   "cell_type": "markdown",
   "metadata": {},
   "source": [
    "## News source (AskNews)"
   ]
  },
  {
   "cell_type": "raw",
   "metadata": {},
   "source": [
    "pip install asknews"
   ]
  },
  {
   "cell_type": "markdown",
   "metadata": {},
   "source": [
    "https://colab.research.google.com/drive/1tc383HraMZOiyfKFF1EXAtlTYbsuv3Q5?usp=sharing"
   ]
  },
  {
   "cell_type": "code",
   "execution_count": 52,
   "metadata": {},
   "outputs": [],
   "source": [
    "from asknews_sdk import AskNewsSDK\n",
    "import json\n",
    "\n",
    "def save_news(ifp, news):\n",
    "    fn = f'asknews_for_question/{ifp.question_id}.json'\n",
    "    with open(fn, 'w') as f:\n",
    "        json.dump(news, f)\n",
    "        print('saved', fn)\n",
    "\n",
    "class AskNews():\n",
    "\n",
    "    def __init__(self):\n",
    "        ASKNEWS_CLIENT_ID = config.ASKNEWS_CLIENT_ID\n",
    "        ASKNEWS_SECRET = config.ASKNEWS_SECRET\n",
    "        \n",
    "        self.ask = AskNewsSDK(\n",
    "              client_id=config.ASKNEWS_CLIENT_ID,\n",
    "              client_secret=config.ASKNEWS_SECRET,\n",
    "              scopes=[\"news\"]\n",
    "          )\n",
    "\n",
    "        self.cache = {}\n",
    "        \n",
    "    def query(self, \n",
    "              q, \n",
    "              method,    # use \"nl\" for natural language for your search, or \"kw\" for keyword, or 'both'\n",
    "              strategy,\n",
    "              return_type=\"dicts\"): # strategy=\"latest news\" enforces looking at the latest news only\n",
    "                         # strategy=\"news knowledge\" looks for relevant news within the past 60 days\n",
    "        return self.ask.news.search_news(\n",
    "            query=q, # your keyword query\n",
    "            n_articles=10, # control the number of articles to include in the context\n",
    "            return_type=return_type,  # you can also ask for \"dicts\" if you want more information\n",
    "            method=method, \n",
    "            strategy=strategy).as_dicts # strategy=\"latest news\" enforces looking at the latest news only,\n",
    "\n",
    "    def multi_strategy(self, q, return_type=\"dicts\"):\n",
    "        all = []\n",
    "        R = {}\n",
    "        for strategy in ['latest news', 'news knowledge']:\n",
    "            R[strategy] = []\n",
    "            for x in self.query(q, 'both', strategy):\n",
    "                all.append(x.summary if return_type==\"dicts\" else x)\n",
    "                x = x.dict()\n",
    "                x['article_url'] = x['article_url'].unicode_string()\n",
    "                for y in ['article_id', 'pub_date']:\n",
    "                    x[y] = str(x[y])\n",
    "                R[strategy].append(x)\n",
    "        print(\"ALL\")\n",
    "        print(all[0])\n",
    "        all = list(set(all))\n",
    "        return '\\n\\n'.join(all), R\n",
    "\n",
    "    def research(self, group, return_type=\"dicts\"):\n",
    "        q = '\\n'.join(ifp.title.strip() for ifp in group)\n",
    "        try:\n",
    "            return self.cache[q]\n",
    "        except:\n",
    "            news, self.R = self.multi_strategy(q,return_type)\n",
    "            for ifp in group:\n",
    "                save_news(ifp, self.R)\n",
    "            self.cache[q] = news\n",
    "        return news"
   ]
  },
  {
   "cell_type": "code",
   "execution_count": null,
   "metadata": {},
   "outputs": [],
   "source": [
    "if True or unit_test:\n",
    "    ask = AskNews()\n",
    "    group = [IFP(id) for id in [26771, 26772, 26773, 26774]]\n",
    "    news = ask.research(group)\n",
    "    print(news)"
   ]
  },
  {
   "cell_type": "code",
   "execution_count": 51,
   "metadata": {},
   "outputs": [
    {
     "data": {
      "text/plain": [
       "'2024-08-15 18:09:00+00:00'"
      ]
     },
     "execution_count": 51,
     "metadata": {},
     "output_type": "execute_result"
    }
   ],
   "source": [
    "str(ask.R['latest news'][0]['pub_date'])"
   ]
  },
  {
   "cell_type": "markdown",
   "metadata": {},
   "source": [
    "## LLMs"
   ]
  },
  {
   "cell_type": "markdown",
   "metadata": {},
   "source": [
    "### In general"
   ]
  },
  {
   "cell_type": "code",
   "execution_count": 54,
   "metadata": {},
   "outputs": [],
   "source": [
    "class LLM:\n",
    "    def __init__(self, system_role):\n",
    "        self.system_role = system_role\n",
    "        self.messages = [{\"role\": \"system\", \"content\": system_role}]\n",
    "        self.cache = {}\n",
    "\n",
    "    def chat(self, query):\n",
    "        try:\n",
    "            return self.cache[query]\n",
    "        except:\n",
    "            self.messages.append({\"role\": \"user\", \"content\": query})\n",
    "            text = self.message()\n",
    "            self.messages.append({\"role\": \"assistant\", \"content\": text})\n",
    "            self.cache[query] = text\n",
    "            return text"
   ]
  },
  {
   "cell_type": "markdown",
   "metadata": {},
   "source": [
    "### MetaAI"
   ]
  },
  {
   "cell_type": "markdown",
   "metadata": {},
   "source": [
    "https://pypi.org/project/meta-ai-api/1.0.6/"
   ]
  },
  {
   "cell_type": "code",
   "execution_count": 55,
   "metadata": {},
   "outputs": [],
   "source": [
    "from meta_ai_api import MetaAI as mai"
   ]
  },
  {
   "cell_type": "code",
   "execution_count": 56,
   "metadata": {},
   "outputs": [],
   "source": [
    "class MetaAI(LLM):\n",
    "\n",
    "    def __init__(self, system_role = \"Nice talker\"):\n",
    "        self.ai = mai()\n",
    "        super().__init__(system_role)\n",
    "        \n",
    "    def message(self):\n",
    "        self.response = self.ai.prompt(message=self.messages[-1]['content'])\n",
    "        return self.response['message']"
   ]
  },
  {
   "cell_type": "code",
   "execution_count": 57,
   "metadata": {},
   "outputs": [],
   "source": [
    "if unit_test:\n",
    "    ai = MetaAI()\n",
    "    r = ai.chat(ifp.title)\n",
    "    print(r)"
   ]
  },
  {
   "cell_type": "markdown",
   "metadata": {},
   "source": [
    "### HuggingChat"
   ]
  },
  {
   "cell_type": "markdown",
   "metadata": {},
   "source": [
    "https://pypi.org/project/hugchat/"
   ]
  },
  {
   "cell_type": "code",
   "execution_count": 58,
   "metadata": {},
   "outputs": [],
   "source": [
    "from hugchat import hugchat\n",
    "from hugchat.login import Login"
   ]
  },
  {
   "cell_type": "code",
   "execution_count": 59,
   "metadata": {},
   "outputs": [],
   "source": [
    "class HuggingChat(LLM):\n",
    "\n",
    "    def __init__(self, system_role = \"Nice talker\"):\n",
    "        # Log in to huggingface and grant authorization to huggingchat\n",
    "        EMAIL = config.HUGGINGFACE_USERNAME\n",
    "        PASSWD = config.HUGGINGFACE_PASSWORD\n",
    "        cookie_path_dir = \"./cookies/\" # NOTE: trailing slash (/) is required to avoid errors\n",
    "        sign = Login(EMAIL, PASSWD)\n",
    "        cookies = sign.login(cookie_dir_path=cookie_path_dir, save_cookies=True)\n",
    "        self.chatbot = hugchat.ChatBot(cookies=cookies.get_dict()) \n",
    "        super().__init__(system_role)\n",
    "        \n",
    "    def message(self):\n",
    "        result = ''.join([x['token'] for x in self.chatbot.chat(self.system_role + '\\n\\n' + self.messages[-1]['content']) if x])\n",
    "        return result\n",
    "\n",
    "    def web_search(self, query):\n",
    "        query_result = self.chatbot.query(query, web_search=True)\n",
    "        return query_result\n",
    "        print(query_result)\n",
    "        for source in query_result.web_search_sources:\n",
    "            print(source.link)\n",
    "            print(source.title)\n",
    "            print(source.hostname)\n",
    "\n",
    "    def available_models(self):\n",
    "        return [(i,str(x)) for i,x in enumerate(self.chatbot.get_available_llm_models())]\n",
    "\n",
    "    def switch_llm(self, i):\n",
    "        self.chatbot.switch_llm(i)\n",
    "\n",
    "    def conversation_info(self):\n",
    "        info = self.chatbot.get_conversation_info()\n",
    "        # print(info.id, info.title, info.model, info.system_prompt, info.history)\n",
    "        return info"
   ]
  },
  {
   "cell_type": "code",
   "execution_count": 60,
   "metadata": {},
   "outputs": [],
   "source": [
    "if unit_test:\n",
    "    hc = HuggingChat()\n",
    "    hc.switch_llm(1)\n",
    "    print(hc.chat(ifp.title))"
   ]
  },
  {
   "cell_type": "markdown",
   "metadata": {},
   "source": [
    "### Metaculus Anthropic"
   ]
  },
  {
   "cell_type": "code",
   "execution_count": 61,
   "metadata": {},
   "outputs": [],
   "source": [
    "import json\n",
    "\n",
    "class Claude(LLM):\n",
    "       \n",
    "    def message(self):\n",
    "        content = self.messages[-1]['content']\n",
    "        url = \"https://www.metaculus.com/proxy/anthropic/v1/messages\"\n",
    "        headers =  {\"Authorization\": f\"Token {config.METACULUS_TOKEN}\",\n",
    "                    \"anthropic-version\": \"2023-06-01\",\n",
    "                    \"content-type\": \"application/json\"}\n",
    "        data = {\"model\": \"claude-3-5-sonnet-20240620\",\n",
    "                \"max_tokens\": 1024,\n",
    "                \"messages\": [{\"role\": \"user\", \"content\": self.system_role + '\\n\\n' + content}]}\n",
    "        response = requests.post(url, headers=headers, data = json.dumps(data))\n",
    "        # Check the response status code\n",
    "        if response.status_code != 200:\n",
    "            print(\"Request failed with status code\", response.status_code)\n",
    "            print(response.text)\n",
    "        return response.json()['content'][0]['text']"
   ]
  },
  {
   "cell_type": "code",
   "execution_count": 62,
   "metadata": {},
   "outputs": [],
   "source": [
    "if unit_test:\n",
    "    claude = Claude('Please help me.')\n",
    "    print(claude.chat(ifp.title))"
   ]
  },
  {
   "cell_type": "markdown",
   "metadata": {},
   "source": [
    "### Perplexity"
   ]
  },
  {
   "cell_type": "code",
   "execution_count": 63,
   "metadata": {},
   "outputs": [],
   "source": [
    "class Perplexity(LLM):\n",
    "    def message(self):\n",
    "        url = \"https://api.perplexity.ai/chat/completions\"\n",
    "        headers = {\n",
    "            \"accept\": \"application/json\",\n",
    "            \"authorization\": f\"Bearer {config.PERPLEXITY_API_KEY}\",\n",
    "            \"content-type\": \"application/json\"  }\n",
    "        payload = {\"model\": config.PERPLEXITY_MODEL, \"messages\": self.messages }\n",
    "        response = requests.post(url=url, json=payload, headers=headers)\n",
    "        response.raise_for_status()\n",
    "        return response.json()[\"choices\"][0][\"message\"][\"content\"]"
   ]
  },
  {
   "cell_type": "code",
   "execution_count": 64,
   "metadata": {},
   "outputs": [],
   "source": [
    "if unit_test:\n",
    "    perp = Perplexity('You are the most deeply knowledgeable web search engine and insightful analyst')\n",
    "    print(perp.chat(ifp.title))"
   ]
  },
  {
   "cell_type": "markdown",
   "metadata": {},
   "source": [
    "### Metaculus OpenAI"
   ]
  },
  {
   "cell_type": "code",
   "execution_count": 65,
   "metadata": {},
   "outputs": [],
   "source": [
    "import json\n",
    "\n",
    "class MetacGPT(LLM):\n",
    "\n",
    "    def __init__(self, system_role):\n",
    "        super().__init__(system_role)\n",
    "        \n",
    "    def message(self):\n",
    "        url = \"https://www.metaculus.com/proxy/openai/v1/chat/completions\"\n",
    "        headers =  {\"Authorization\": f\"Token {config.METACULUS_TOKEN}\",\n",
    "                    \"content-type\": \"application/json\"}\n",
    "        data = {\"model\": \"gpt-4o\",\n",
    "                \"max_tokens\": 1024,\n",
    "                \"messages\": self.messages}\n",
    "        response = requests.post(url, headers=headers, data = json.dumps(data))\n",
    "        # Check the response status code\n",
    "        if response.status_code != 200:\n",
    "            print(\"Request failed with status code\", response.status_code)\n",
    "            print(response.text)\n",
    "        self.rec = response.json()\n",
    "        return self.rec ['choices'][0]['message']['content']"
   ]
  },
  {
   "cell_type": "code",
   "execution_count": 66,
   "metadata": {},
   "outputs": [],
   "source": [
    "if unit_test:\n",
    "    mgpt = MetacGPT('Please help me')\n",
    "    print(mgpt.chat('Bruce Bueno de Mesquita'))"
   ]
  },
  {
   "cell_type": "markdown",
   "metadata": {},
   "source": [
    "### OpenAI"
   ]
  },
  {
   "cell_type": "code",
   "execution_count": 67,
   "metadata": {},
   "outputs": [],
   "source": [
    "class ChatGPT(LLM):\n",
    "    def __init__(self, system_role):\n",
    "        super().__init__(system_role)\n",
    "        self.client = OpenAI(api_key=config.OPENAI_API_KEY)\n",
    "\n",
    "    def message(self):\n",
    "        chat_completion = self.client.chat.completions.create(\n",
    "            model=config.OPENAI_MODEL,\n",
    "            messages= self.messages)\n",
    "        return chat_completion.choices[0].message.content"
   ]
  },
  {
   "cell_type": "code",
   "execution_count": 68,
   "metadata": {},
   "outputs": [],
   "source": [
    "if unit_test:\n",
    "    oai = ChatGPT('You are the most deeply knowledgeable web search engine and insightful analyst')\n",
    "    print(oai.chat(ifp.title))"
   ]
  },
  {
   "cell_type": "markdown",
   "metadata": {
    "id": "9WUvm1tVmMkO"
   },
   "source": [
    "## Agents"
   ]
  },
  {
   "cell_type": "markdown",
   "metadata": {},
   "source": [
    "#### Agent"
   ]
  },
  {
   "cell_type": "code",
   "execution_count": 69,
   "metadata": {},
   "outputs": [],
   "source": [
    "class Agent:\n",
    "    def __init__(self, system_role, llm):\n",
    "        self.llm = llm(system_role)\n",
    "\n",
    "    def chat(self, prompt):\n",
    "        return self.llm.chat(prompt)"
   ]
  },
  {
   "cell_type": "markdown",
   "metadata": {},
   "source": [
    "#### Question correlator for common topic inference"
   ]
  },
  {
   "cell_type": "code",
   "execution_count": 70,
   "metadata": {},
   "outputs": [],
   "source": [
    "class QuestionRelator(Agent):\n",
    "    def __init__(self, llm):\n",
    "        self.system_role = f\"\"\"\n",
    "You are prompted with list of forecasting questions, each with an id and a title.\n",
    "Label each question with an underlying event.\n",
    "If the questions are for the same event, use the same name for the underlying event.\n",
    "Please return as separate lines formatted as |event|id|title|, do not add any other formatting.\n",
    "\"\"\"\n",
    "        super().__init__(self.system_role, llm)\n",
    "\n",
    "    def relate(self, ifps):\n",
    "        prompt = '\\n'.join([f\"{ifp.question_id}: {ifp.title}\" for ifp in ifps.values()])\n",
    "        KL = self.chat(prompt)\n",
    "        print(KL)\n",
    "        K1 = [x.split('|') for x in KL.split('\\n')]\n",
    "        self.topic_map = [(int(id),event) for _,event,id,_,_ in K1]\n",
    "        self.topics = set([event for id,event in self.topic_map])\n",
    "        self.topic_groups = {topic: [ifps[x] for x,y in self.topic_map if y == topic] for topic in self.topics}\n",
    "        for id,event in self.topic_map :\n",
    "            ifps[id].event = event\n",
    "        return self.topic_groups"
   ]
  },
  {
   "cell_type": "code",
   "execution_count": 71,
   "metadata": {},
   "outputs": [],
   "source": [
    "if unit_test:\n",
    "    try:\n",
    "        ifps\n",
    "    except:\n",
    "        test_day = '01AUG24'\n",
    "        ifps = {id: IFP(id) for id in history[test_day]}\n",
    "    qr = QuestionRelator(ChatGPT)\n",
    "    print(qr.relate(ifps))"
   ]
  },
  {
   "cell_type": "markdown",
   "metadata": {},
   "source": [
    "#### Model domain classifier"
   ]
  },
  {
   "cell_type": "code",
   "execution_count": 72,
   "metadata": {},
   "outputs": [],
   "source": [
    "class ModelDomainClassifier(Agent):\n",
    "    def __init__(self, llm):\n",
    "        self.system_role = f\"\"\"\n",
    "A question about an event is formatted as |id|question|criteria|background|fineprint|.\n",
    "You will report the model domain of the question, one of\n",
    "\n",
    "Rate over time\n",
    "Weather prediction\n",
    "State executive action\n",
    "Election outcome\n",
    "Geopolitics\n",
    "Sports performance\n",
    "Military conflict\n",
    "Civil unrest\n",
    "Dated product announcement\n",
    "Market price\n",
    "Macroeconomics\n",
    "Epidemic\n",
    "Disease\n",
    "Drug discovery\n",
    "Medical device\n",
    "Crime\n",
    "Leadership change\n",
    "AI performance\n",
    "Astronomy\n",
    "Astrophysics\n",
    "Other\n",
    "\"\"\"\n",
    "        super().__init__(self.system_role, llm)\n",
    "\n",
    "    def classify(self, ifp):\n",
    "        prompt = f\"|{ifp.question_id}|{ifp.title}|{ifp.resolution_criteria}|{ifp.background}|{ifp.fine_print}|\"\n",
    "        self.R = self.chat(prompt)\n",
    "        ifp.model_domain = self.R\n",
    "        print(ifp.question_id, ifp.title)\n",
    "        print(self.R)"
   ]
  },
  {
   "cell_type": "code",
   "execution_count": 73,
   "metadata": {},
   "outputs": [],
   "source": [
    "if unit_test:\n",
    "    mdc = ModelDomainClassifier(ChatGPT)\n",
    "    for ifp in ifps.values():\n",
    "        mdc.classify(ifp)"
   ]
  },
  {
   "cell_type": "markdown",
   "metadata": {},
   "source": [
    "#### Rate Analyzer"
   ]
  },
  {
   "cell_type": "code",
   "execution_count": 74,
   "metadata": {},
   "outputs": [],
   "source": [
    "class RateAnalyzer(Agent):\n",
    "    def __init__(self, llm):\n",
    "        self.system_role = f\"\"\"\n",
    "A group of events are given, formatted as \"GROUP\" followed by a group of questions separated by carriage returns, followed by \"NEWS\" followed by news on the topic.\n",
    "Today's date is {today}.\n",
    "If the question is about a level that changes at some rate over time, you will report \n",
    "1. today's date, \n",
    "2. the end date of the question, \n",
    "3. the time in days D from today to end date, \n",
    "4. the daily rate of change R of the quantity,\n",
    "5. today's value V of the quantity,\n",
    "6. the change in value dV of the quantity = D * r,\n",
    "7. the final value of the quantity F = V + dV.  Give your best estimate.\n",
    "Otherwise if the question is about the date that an event will occur, you will report\n",
    "1. today's date, \n",
    "2. the end (measurement) date of the question, \n",
    "3. the time in days D from today to end date, \n",
    "4. the specific date at which the event is most likely to occur, without reference to the end date of the question\n",
    "5. whether the likely event date is before, or on or after the question end date\n",
    "\n",
    "Provide only one type of answer, not both.\n",
    "\"\"\"\n",
    "        super().__init__(self.system_role, llm)\n",
    "\n",
    "    def assess(self, group, news):\n",
    "        titles = '\\n'.join([ifp.title.strip() for ifp in group])\n",
    "        self.q = f'GROUP\\n{titles}\\nNEWS\\n{news}'\n",
    "        self.rates = self.chat(self.q)\n",
    "        return self.rates"
   ]
  },
  {
   "cell_type": "code",
   "execution_count": 75,
   "metadata": {},
   "outputs": [],
   "source": [
    "if unit_test:\n",
    "    try:\n",
    "        group\n",
    "    except:\n",
    "        group = [IFP(id) for id in [26771, 26772, 26773, 26774]]\n",
    "\n",
    "    rates = RateAnalyzer(ChatGPT)\n",
    "    r = rates.assess(group, news)\n",
    "    print(r)"
   ]
  },
  {
   "cell_type": "markdown",
   "metadata": {},
   "source": [
    "#### Superforecaster"
   ]
  },
  {
   "cell_type": "code",
   "execution_count": 76,
   "metadata": {},
   "outputs": [],
   "source": [
    "class Superforecaster(Agent):\n",
    "    def __init__(self, llm):\n",
    "        self.system_role = f\"\"\"\n",
    "You are a superforecaster.  \n",
    "You assign a probability to questions about events.\n",
    "Questions are given as GROUP|group_description followed by NEWS|group_news followed by RATES|group_rates \n",
    "followed by the questions in the group formatted QUESTIONS followed by, for each question, {IFP.forecast_format}.\n",
    "Questions which are about the same event should be assigned consistent probabilities.\n",
    "Reply to questions with |ASSESSMENT|id|ZZ|rationale| where ZZ is an integer probability from 1 to 99 and rationale is your reasoning for the forecast.\n",
    "Separate each question with '^^^'.\n",
    "Do not add any additional headings or group labels or other formatting.\n",
    "After your initial forecast you may receive feedback of form |CRITIC|id|feedback|.\n",
    "Reply to each feedback with |id|ZZ|rationale| where ZZ is an integer probability from 1 to 99 and \n",
    "and rationale is a revised assessment which may be adjusted from a prior assessment due the feedback unless the feedback is \"I concur\".\n",
    "\"\"\"\n",
    "        super().__init__(self.system_role, llm)\n",
    "\n",
    "    def forecast(self, event, news, rates, group):\n",
    "        ifps = '\\n'.join([ifp.record() for ifp in group])\n",
    "        prompt = f\"GROUP|{event}\\nNEWS|{news}\\nRATES|{rates}\\nQUESTIONS\\n{ifps}\"\n",
    "        self.F0 = self.chat(prompt)\n",
    "        self.F1 = [x.strip().replace('\\n', '') for x in self.F0.split('^^^')]\n",
    "        self.F2 = [x.split('|') for x in self.F1] \n",
    "        self.F3 = [[x for x in y if x] for y in self.F2]\n",
    "        self.F4 = [(int(id),int(forecast),rationale) for _, id, forecast, rationale in self.F3]\n",
    "        self.ifps = {ifp.question_id: ifp for ifp in group}\n",
    "        for id, forecast, rationale in self.F4:\n",
    "            self.ifps[id].forecast = forecast\n",
    "            self.ifps[id].rationale = rationale\n",
    "            print(id, forecast, rationale)\n",
    "\n",
    "    def reassess(self, ifp):\n",
    "        prompt = f\"|CRITIC|{ifp.question_id}|{ifp.feedback}|\"\n",
    "        self.R0 = self.chat(prompt)\n",
    "        id,fcst,rationale = [x for x in self.R0.strip().split('|') if x]\n",
    "        id = int(id)\n",
    "        fcst = int(fcst)\n",
    "        ifps[id].forecast = fcst\n",
    "        ifps[id].rationale = rationale\n",
    "        print(id, fcst, rationale)"
   ]
  },
  {
   "cell_type": "code",
   "execution_count": 77,
   "metadata": {},
   "outputs": [],
   "source": [
    "if unit_test:\n",
    "    sf = Superforecaster(ChatGPT)\n",
    "    event = '2024 Grand Chess Tour'\n",
    "    group = qr.topic_groups[event]\n",
    "    sf.forecast(event, news, r, group)"
   ]
  },
  {
   "cell_type": "markdown",
   "metadata": {},
   "source": [
    "#### Critic"
   ]
  },
  {
   "cell_type": "code",
   "execution_count": 78,
   "metadata": {},
   "outputs": [],
   "source": [
    "class Critic (Agent):\n",
    "    def __init__(self, llm):\n",
    "\n",
    "        self.system_role = f\"\"\"\n",
    "You a very smart and worldly person reviewing a superforecaster's assignment of probabilities to events.\n",
    "You will receive an event with probabilities given as |event|id|question|zz|rationale|.\n",
    "zz is an integer probability from 1 to 99 and rationale is the student's logic for assigning probability of zz.\n",
    "You will reply with a line |id|feedback| where feedback is \"I concur\" if you see no problem with the rationale and zz otherwise presents possible problems with the rationale and zz.\n",
    "\"\"\"\n",
    "        super().__init__(self.system_role, llm)\n",
    "\n",
    "    def feedback(self, ifp):\n",
    "        self.fb = 'I prasldfkbeddy.'\n",
    "        prompt = f\"|{ifp.event}|{ifp.question_id}|{ifp.title}|{ifp.forecast}|{ifp.rationale}|\"\n",
    "        self.fb = self.chat(prompt)\n",
    "        if '|' in self.fb: # LLM obeyed system role\n",
    "            self.fb1 = self.fb.split('|')[2:]\n",
    "            self.fb = ''.join([x.strip() for x in self.fb1 if x])\n",
    "        ifp.feedback = self.fb \n",
    "        print(ifp.question_id, ifp.feedback)"
   ]
  },
  {
   "cell_type": "code",
   "execution_count": 79,
   "metadata": {},
   "outputs": [],
   "source": [
    "if unit_test:\n",
    "    for llm in [MetaAI, Claude, Perplexity, ChatGPT, HuggingChat]:\n",
    "        print(llm.__name__)\n",
    "        critic = Critic(llm)\n",
    "        critic.feedback(ifp) \n",
    "        print()"
   ]
  },
  {
   "cell_type": "markdown",
   "metadata": {},
   "source": [
    "#### Summarizer"
   ]
  },
  {
   "cell_type": "markdown",
   "metadata": {},
   "source": [
    "Add an agent to summarize the back and forth between critic and forecaster into a single cogent rationale that incorporates all that was discussed."
   ]
  },
  {
   "cell_type": "markdown",
   "metadata": {},
   "source": [
    "## IFP history"
   ]
  },
  {
   "cell_type": "code",
   "execution_count": 82,
   "metadata": {},
   "outputs": [],
   "source": [
    "history = { '08JUL24': [25876, 25877, 25875, 25873, 25871, 25878, 25874, 25872],\n",
    "            '09JUL24': [26006, 25936, 25935, 25934, 25933, 26004, 26005],\n",
    "            '10JUL24': [25955, 25956, 25957, 25960, 25959, 25954, 25953, 25952, 25958],\n",
    "            '11JUL24': [26019, 26018, 26017, 26020, 26022, 26021, 26023, 26024],\n",
    "            '12JUL24': [26095, 26096, 26097, 26098, 26099, 26100, 26101, 26102],\n",
    "            '15JUL24': [26133, 26134, 26138, 26139, 26140, 26157, 26158, 26159],\n",
    "            '16JUL24': [26189, 26190, 26191, 26192, 26193, 26194, 26195, 26196],\n",
    "            '17JUL24': [26210, 26211, 26212, 26213, 26214, 26215, 26216],\n",
    "            '18JUL24': [26232, 26233, 26234, 26235, 26236],\n",
    "            '19JUL24': [26302, 26303, 26304, 26305, 26306, 26307],\n",
    "            '22JUL24': [26387, 26388, 26389, 26390, 26391, 26392],\n",
    "            '23JUL24': [26404, 26405, 26406, 26407, 26408],\n",
    "            '24JUL24': [26550, 26551, 26552, 26553, 26554, 26555],\n",
    "            '25JUL24': [26568, 26569, 26570, 26571, 26572, 26573, 26574, 26575, 26576, 26577],\n",
    "            '26JUL24': [26638, 26639, 26640, 26641, 26642, 26643, 26644, 26645, 26646],\n",
    "            '29JUL24': [26665, 26666, 26667, 26668, 26669, 26670, 26671, 26683],\n",
    "            '30JUL24': [26700, 26701, 26702, 26703, 26704, 26705, 26706],\n",
    "            '31JUL24': [26816, 26817, 26818, 26819, 26820, 26821, 26844],\n",
    "            '01AUG24': [26771, 26772, 26773, 26774, 26775, 26776, 26777, 26778, 26779, 26780, 26781],\n",
    "            '02AUG24': [26837, 26838, 26839, 26840, 26841, 26842],\n",
    "            '05AUG24': [26913, 26914, 26915, 26916, 26917, 26918, 26919, 26920],\n",
    "            '06AUG24': [26957, 27019, 27020, 27021, 27022],\n",
    "            '07AUG24': [26958, 26959, 27017, 27018],\n",
    "            '08AUG24': [26975, 26976, 26977, 26978, 26979, 26980, 26981, 26982, 26983, 26984, 26985, 26986, 27039],\n",
    "            '09AUG24': [27085, 27086, 27087, 27088, 27089],\n",
    "            '10AUG24': [27132, 27133, 27134, 27135, 27136],\n",
    "            '13AUG24': [27137, 27138, 27140, 27141],\n",
    "            '14AUG24': [27157, 27158, 27159, 27160, 27161, 27200, 27219, 27220, 27221, 27222, 27223],\n",
    "            '15AUG24': [27248, 27249]}"
   ]
  },
  {
   "cell_type": "code",
   "execution_count": 81,
   "metadata": {},
   "outputs": [
    {
     "name": "stdout",
     "output_type": "stream",
     "text": [
      "2024-08-15 [27248, 27249]\n"
     ]
    }
   ],
   "source": [
    "ifps = list_questions()['results']\n",
    "today_ids = list(sorted([x['id'] for x in ifps]))\n",
    "print(today, today_ids)"
   ]
  },
  {
   "cell_type": "code",
   "execution_count": 83,
   "metadata": {},
   "outputs": [],
   "source": [
    "ifps = {id: IFP(id) for id in today_ids}"
   ]
  },
  {
   "cell_type": "markdown",
   "metadata": {},
   "source": [
    "## Forecasting process"
   ]
  },
  {
   "cell_type": "code",
   "execution_count": 84,
   "metadata": {},
   "outputs": [],
   "source": [
    "class Forecaster:\n",
    "    \n",
    "    def __init__(self, ifps):\n",
    "        self.max_tries = 4\n",
    "        self.qr = QuestionRelator(MetacGPT)\n",
    "        self.ask = AskNews()\n",
    "        self.mdc = ModelDomainClassifier(MetacGPT)\n",
    "        self.ifps = ifps\n",
    "        \n",
    "    def fit(self):\n",
    "        print('MODEL DOMAIN')\n",
    "        for ifp in self.ifps.values():\n",
    "            self.mdc.classify(ifp)\n",
    "        print()  \n",
    "        print('CORRELATOR')\n",
    "        self.rho = self.qr.relate(self.ifps)\n",
    "        print('FORECASTER')\n",
    "        for event, group in self.rho.items():\n",
    "            print('FORECASTING EVENT', event)\n",
    "            self.news = self.ask.research(group)   \n",
    "            print('NEWS')\n",
    "            print(self.news)\n",
    "            self.ra = RateAnalyzer(Claude)\n",
    "            self.rates = self.ra.assess(group, self.news)\n",
    "            print('RATES', self.rates)\n",
    "            self.sf = Superforecaster(MetacGPT)\n",
    "            self.sf.forecast(event, self.news, self.rates, group)\n",
    "            critic = Critic(MetacGPT)\n",
    "            for ifp in group:\n",
    "                print(\"REFINING\", ifp.question_id)\n",
    "                for i in range(self.max_tries):\n",
    "                    print(\"Pass\", i, \"of\", self.max_tries, \"on\", ifp.question_id)\n",
    "                    if 'concur' in ifp.feedback:\n",
    "                        print(\"concur 1\")\n",
    "                        break\n",
    "                    critic.feedback(ifp)\n",
    "                    if 'concur' in ifp.feedback:\n",
    "                        print(\"concur 2\")\n",
    "                        break\n",
    "                    self.sf.reassess(ifp)\n",
    "                print(\"===============================================\")\n",
    "\n",
    "    def report(self):\n",
    "        for ifp in self.ifps.values():\n",
    "            print(ifp.question_id, ifp.title)\n",
    "            print(\"Forecast\", ifp.forecast)\n",
    "            print(\"Rationale\", ifp.rationale, '\\n')\n",
    "\n",
    "    def upload(self):\n",
    "        for ifp in self.ifps.values():\n",
    "            ifp.upload()"
   ]
  },
  {
   "cell_type": "code",
   "execution_count": 85,
   "metadata": {},
   "outputs": [],
   "source": [
    "if unit_test:\n",
    "    test_day = '01AUG24'\n",
    "    ifps = {id: IFP(id) for id in history[test_day]}"
   ]
  },
  {
   "cell_type": "markdown",
   "metadata": {},
   "source": [
    "## Outlier reforecast"
   ]
  },
  {
   "cell_type": "raw",
   "metadata": {},
   "source": [
    "diff10.id.values\n",
    "\n",
    "ifps = {id: IFP(id) for id in diff10.id.values}\n",
    "\n",
    "fcst = Forecaster(ifps)\n",
    "\n",
    "fcst.fit()\n",
    "\n",
    "fcst.report()\n",
    "\n",
    "diff10 = diff10.copy()\n",
    "diff10['rebot'] = [ifps[id].forecast/100. for id in diff10.id.values]\n",
    "diff10['move'] = diff10.rebot - diff10.bot\n",
    "diff10[['bot', 'rebot', 'move']]\n",
    "\n",
    "diff10.plot.scatter(y='rebot', x='community')\n",
    "rho = diff10['rebot'].corr(diff10['community'])\n",
    "plt.title(f'Revised bot vs bot crowd on 10 top outliers: Correlation {int(100*rho)}%');"
   ]
  },
  {
   "cell_type": "markdown",
   "metadata": {},
   "source": [
    "## Daily forecast"
   ]
  },
  {
   "cell_type": "code",
   "execution_count": 86,
   "metadata": {},
   "outputs": [],
   "source": [
    "fcst = Forecaster(ifps)"
   ]
  },
  {
   "cell_type": "code",
   "execution_count": 87,
   "metadata": {},
   "outputs": [
    {
     "name": "stdout",
     "output_type": "stream",
     "text": [
      "MODEL DOMAIN\n",
      "27248 Will the Secretary of the US Department of Health and Human Services declare a public health emergency for mpox (monkeypox) before October 1, 2024?\n",
      "**Model Domain: Epidemic**\n",
      "27249 Will the 7-day average confirmed mpox cases in 2024 exceed the peak 7-day average confirmed mpox cases from the 2022-2023 outbreak by September 30, 2024?\n",
      "**Model Domain: Epidemic**\n",
      "\n",
      "CORRELATOR\n",
      "|mpox outbreak|27248|Will the Secretary of the US Department of Health and Human Services declare a public health emergency for mpox (monkeypox) before October 1, 2024?|\n",
      "|mpox outbreak|27249|Will the 7-day average confirmed mpox cases in 2024 exceed the peak 7-day average confirmed mpox cases from the 2022-2023 outbreak by September 30, 2024?|\n",
      "FORECASTER\n",
      "FORECASTING EVENT mpox outbreak\n",
      "ALL\n",
      "The World Health Organization (WHO) has declared mpox a global public health emergency for the second time in two years. According to Montreal public health, there have been four cases of mpox in 2024 and 11 in 2023. The two-dose vaccine is available at several clinics in Montreal, including Ville-Marie, Verdun, Downtown Montreal, Mercier-Hochelaga-Maisonneuve, Saint-Laurent, and Parc-Extension. Symptoms of mpox include swollen lymph nodes, extreme fatigue, muscle and joint pain, fever, headaches, and night sweats. To prevent the spread of the virus, those with symptoms should wear a mask, cover skin lesions, and avoid sharing objects. Appointments can be booked by calling 514-766-3974.\n",
      "saved asknews_for_question/27248.json\n",
      "saved asknews_for_question/27249.json\n",
      "NEWS\n",
      "The World Health Organization (WHO) has declared mpox a global health emergency due to concerns of a deadlier strain spreading in Africa. However, Alberta Health Services (AHS) states that the risk of catching mpox in central Alberta remains low. According to AHS, there have been seven cases of mpox in Alberta in 2024, with none reported in August. The WHO warns that the virus can spread easily between people and animals, and symptoms include fever, rash, headache, and swollen lymph nodes. AHS recommends that eligible residents, including sex workers and members of the LGBTQ-plus community, get vaccinated against mpox. Those who suspect they have been exposed or are experiencing symptoms should self-isolate and call 811 or their primary care physician. Testing is available for those who believe they have symptoms of mpox.\n",
      "\n",
      "The African Center for Disease Control and Prevention has declared a public health emergency due to the mpox virus, also known as monkeypox. The continent is experiencing the highest number of cases due to a new variant discovered in September 2023 in the Democratic Republic of the Congo, which has spread to other local countries. 'It's a true crisis,' said a health official. 'It's not just another challenge, but a true crisis that requires collective political action,' said Jean Kaseya, the director-general of the center. 'But let's be clear: this is not just an African problem, mpox is a global threat,' he added. In fact, Italy has already recorded over 1,000 cases of the disease in two years, with 441 in Lombardy. In the last two months, the Italian Ministry of Health has registered nine new diagnoses, with six in Veneto, two in Friuli-Venezia Giulia, and one in Lombardy. Of the total infected since 2022, 262 contracted mpox during travel abroad. Human-to-human transmission occurs through animals, and the disease has symptoms similar to smallpox, such as skin blisters, headaches, fever, and weakness.\n",
      "\n",
      "The African Centers for Disease Control and Prevention (CDC Africa) declared a continental health emergency due to the mpox outbreak, also known as monkeypox, and announced that a common response plan will be presented in the coming weeks. 'We declare today this public health emergency of international security to mobilize our institutions, our collective will, and our resources to act quickly and decisively,' said Jean Kaseya, director general of CDC Africa, in a teleconference press conference. Kaseya urged the member states of the African Union to 'give priority to the emergency authorization of mpox, which will play a crucial role in safeguarding public health and ensuring rapid access to life-saving interventions.' In the first 8 months of 2024, the continent has recorded over 15,000 cases and 461 deaths from this infection in 18 different countries. CDC Africa warned of the rapid spread of the disease last Thursday and announced their intention to declare a continental health emergency, their highest level of alert. According to Kaseya, there has been a 160% increase in mpox cases in Africa between 2023 and 2024, meaning 'there will be more than double the cases of 2023 and even more.' Kaseya stated that over 10 million doses of the vaccine are needed to contain the emergency, a figure far from the 200,000 available at present. 'We have a clear plan to ensure more than 10 million doses,' he assured, with 3 million doses expected to arrive in 2024, although he did not provide further details on the project.\n",
      "\n",
      "The African Centers for Disease Control and Prevention (CDC Africa) declared a public health emergency on Tuesday due to the Monkeypox (Mpox) epidemic, also known as 'monkeypox', which affects several countries on the continent. According to local authorities, Africa aims to prevent Mpox from becoming a pandemic. 'The Mpox has now crossed borders, affecting thousands of people across our continent. With a heavy heart, but with an unwavering commitment to our people, to our African citizens, we declare Mpox a continental public health emergency. This declaration is not just a formality, it's a clear call to action. It's the recognition that we cannot afford to be reactive anymore. We must be proactive and aggressive in our efforts to contain and eliminate this scourge,' said CDC Africa President Jean Kasenya. The announcement will also unlock funds for access to vaccines and a continental response. Additionally, the upcoming World Health Organization (WHO) emergency committee meeting will assess whether to declare the highest level of international health alert in response to the disease. According to the latest data from CDC Africa, since January 2022, there have been 38,465 cases in 16 African countries, with 1,456 deaths, including a 160% increase in cases in 2024 compared to the previous year. However, Africa is facing the spread of a new strain, detected in the Congo in September 2023 and nicknamed 'Clade Ib', which is more deadly and highly transmissible than previous strains. 'Clade Ib' causes skin eruptions all over the body, while previous strains were characterized by localized eruptions and lesions in the mouth, face, or genital organs. Known popularly as 'monkeypox', the viral disease spreads from animals to humans, but can be transmitted through close physical contact with an infected person.\n",
      "\n",
      "Canada has reported 1,515 confirmed mpox cases as of September 2023, with 45 hospitalizations and no deaths. However, the data does not include the most recent outbreak. The Public Health Agency of Canada has millions of doses of a smallpox vaccine approved to treat mpox, but it is not clear if they will be shared with Africa, where there have been 2,863 confirmed cases and 517 deaths in 13 countries, primarily in the Democratic Republic of the Congo. The Africa Centres for Disease Control and Prevention has declared a public health emergency of continental security, and the federal government has issued a notice for Canadians traveling to the DRC to 'practise enhanced health precautions.' The public health agency warns that the current numbers are 'just the tip of the iceberg' due to weaknesses in surveillance, laboratory testing, and contact tracing.\n",
      "\n",
      "The Africa CDC has declared Mpox as a 'public health emergency of continental concern'. According to Africa CDC president Jean Kasenya, 'This declaration is not a mere formality, it's a clear call to action. It's a recognition that we can no longer afford to be reactive. We must be proactive and aggressive in our efforts to contain and eliminate this scourge.' The declaration will allow for the release of funds for vaccine access and a coordinated continental response. The announcement comes ahead of a World Health Organization (WHO) emergency committee meeting to assess whether to declare the highest level of international health alert for the disease. Mpox, formerly known as monkeypox, is a viral disease that spreads from animals to humans and also through close physical contact with an infected person. Since January 2022, 38,465 cases have been reported in 16 African countries, resulting in 1,456 deaths, with a 160% increase in cases in 2024 compared to the previous year. A new strain, 'Clade Ib', has been detected in the Democratic Republic of Congo and is more deadly and contagious than previous strains. The 'Clade Ib' strain causes skin eruptions all over the body, whereas previous strains caused localized eruptions and lesions on the mouth, face, or genital areas. Mpox was first discovered in humans in 1970 in what is now the Democratic Republic of Congo, with the spread of the Clade I subtype, mainly limited to western and central African countries, where patients were generally infected by animals. In 2022, a global outbreak, carried by the Clade 2 subtype, spread to over 100 countries where the disease was not endemic, mainly affecting gay and bisexual men. The WHO had declared the highest level of alert in July 2022, but lifted it less than a year later in May 2023, after the outbreak had resulted in around 140 deaths among approximately 90,000 cases.\n",
      "\n",
      "The World Health Organization (WHO) has declared mpox a global public health emergency for the second time in two years. According to Montreal public health, there have been four cases of mpox in 2024 and 11 in 2023. The two-dose vaccine is available at several clinics in Montreal, including Ville-Marie, Verdun, Downtown Montreal, Mercier-Hochelaga-Maisonneuve, Saint-Laurent, and Parc-Extension. Symptoms of mpox include swollen lymph nodes, extreme fatigue, muscle and joint pain, fever, headaches, and night sweats. To prevent the spread of the virus, those with symptoms should wear a mask, cover skin lesions, and avoid sharing objects. Appointments can be booked by calling 514-766-3974.\n",
      "\n",
      "The Africa CDC, the health agency of the African Union, has declared 'a public health emergency', its highest level of alert, in response to the ongoing mpox epidemic in several countries on the continent. According to Jean Kasenya, the director of the Africa CDC, 'the mpox has now crossed borders, affecting thousands of people across our continent [...]. I announce, with a heavy heart but with an unwavering commitment to our people, to our African citizens, that we declare mpox as a continental public health emergency.' This declaration, which will allow for the release of funds for access to vaccines and a continental response, comes ahead of the World Health Organization's (WHO) emergency committee meeting to evaluate whether to declare the highest level of international health alert for this disease. The mpox, formerly known as monkeypox, is a zoonotic disease that spreads from animals to humans, but can also be transmitted between humans through close physical contact with an infected person. A new, more aggressive strain, known as 'Clade Ib', has been detected in the Democratic Republic of Congo and has caused a 160% increase in cases in 2024 compared to the previous year, according to data published last week by the Africa CDC. This strain causes skin eruptions all over the body, whereas previous strains were characterized by localized eruptions and lesions on the mouth, face, or genital areas. The mpox was first discovered in humans in 1970 in what is now the Democratic Republic of Congo, with the spread of the Clade I subtype (from which the new variant is a mutation), mainly limited to countries in West and Central Africa, where patients were generally infected by animals. In 2022, a global epidemic, carried by the Clade 2 subtype, spread to over 100 countries where the disease was not endemic. The WHO had then declared the highest level of alert in July 2022 in response to the surge in cases worldwide, and lifted it less than a year later, in May 2023. The epidemic had caused around 140 deaths out of approximately 90,000 cases.\n",
      "\n",
      "The World Health Organization (WHO) is likely to declare the current monkeypox (mpox) outbreak as a public health emergency of international concern, according to Tiago Correia, a professor of International Health and investigator at the Institute of Hygiene and Tropical Medicine of the Nova University of Lisbon (IHMT-UNL). 'If, in 2022, with a less severe strain, this category was declared, I would say that, given what is happening in African countries since 2023 with the clade1b, a more severe strain, the signs are that this will happen again,' argues the specialist. The new strain, detected in the Democratic Republic of Congo in September 2023, 'is more associated with animal-to-human transmission,' says Correia. Infections have increased by 160% in 2024. The investigator notes that, 'in addition to causing potentially more severe disease,' the variant clade1b 'deserves attention, especially in contexts where access to healthcare cannot be immediate and health resources are not significant.' 'This also leads me to believe that it may be classified as a public health emergency by the WHO,' he adds. Correia acknowledges that a decision of this magnitude is highly influenced by geopolitics. 'Once the concern is in Africa and does not affect critical points internationally, it is possible that there will be entities and experts who do not consider that there is a public health emergency,' he recalls. The African Centers for Disease Control and Prevention (CDC Africa) has already declared a 'continental public health emergency' due to the mpox outbreak. According to data released by CDC Africa last week, since January 2022, there have been 38,465 cases and 1,456 deaths in 16 African countries. In 2024, there was a 160% increase in infections compared to the previous year. The epidemic is putting pressure on the already fragile healthcare system in the Democratic Republic of Congo, where 90% of the cases have been reported. The country has registered 14,479 suspected and confirmed cases, and 455 deaths, as of August 3, according to the African Union's health agency, cited by Lusa. 'I would be surprised if it were not considered a public health emergency, given the pressure it is causing on African public health systems,' analyzes Correia. The specialist emphasizes that, currently, the risk of contagion of the disease in Portugal 'is extremely low,' but highlights the need for Portuguese and other Europeans to be aware of the evolution of the epidemiological situation in Africa, 'showing solidarity with the affected countries and being aware of the resources they need to control the epidemic, whether means of diagnosis and treatment or epidemiological surveillance.' 'Besides helping these countries, this prevents a chain reaction of the disease in others,' he sustains. Unlike previous strains, which caused localized skin lesions and mouth, face or genital organ problems, the clade 1b causes these types of skin problems throughout the body. Other symptoms may include fever, severe headaches and fatigue, according to Lusa. Some children may also experience respiratory problems and difficulty swallowing, making them more vulnerable to secondary bacterial infections and, in severe cases, the disease can cause sepsis. 'I would be surprised if it were not considered a public health emergency, given the pressure it is causing on African public health systems,' analyzes Correia. \n",
      "\n",
      "The World Health Organization (WHO) has declared mpox a global public health emergency for the second time, citing a surge in cases in Africa and a rise in cases in other countries like Canada. In Canada, Toronto Public Health is urging eligible residents to get vaccinated against mpox after a sharp rise in cases, with 93 confirmed cases as of July 31 compared to 21 cases for the same period in 2023. Dr. Mark Loeb, an infectious disease physician, expressed concern about the potential for the virus to continue spreading, particularly in under-resourced countries. Mpox is a disease caused by a virus, which causes symptoms such as a rash at the site of exposure, and can be spread through contact with bodily fluids or scabs and contaminated personal items. The WHO has identified two distinct genetic variants of mpox, Clade I and Clade II, with Clade II being the cause of the ongoing global outbreak. In Canada, the vaccine Imvamune is available for immunization against smallpox and mpox in adults 18 years of age and older who are at high risk for exposure. 'We have a lot of people that were immunized in 2022 when we had our first outbreak. Those people are still protected, so they don't need a booster dose. But anyone who hasn't yet … should get the vaccine,' said Dr. Rita Shahin, an associate medical officer with Toronto Public Health. 'We really encourage people to get in touch with their sexual-health-care provider or book an appointment. For individuals experiencing severe mpox symptoms, such as intense pain and fever, an antiviral drug called tecovirimat is available as a treatment option,' she added. \n",
      "\n",
      "The African Center for Disease Control and Prevention (CDC Africa) has declared 'public health emergency', the highest level of alert, due to the Monkeypox (Mpox) epidemic, also known as 'monkeypox', in several countries on the continent. 'Mpox has now crossed borders, affecting thousands of people across our continent (…). With a heavy heart, but with an unwavering commitment to our people, to our African citizens, we are declaring Mpox a continental public health emergency,' said CDC Africa President Jean Kasenya in a press conference. 'This declaration is not just a formality, it's a clear call to action. It's the recognition that we cannot afford to be reactive. We must be proactive and aggressive in our efforts to contain and eliminate this scourge,' he added. This announcement, which will allow the release of funds for access to vaccines and a continental response, comes ahead of a meeting of the World Health Organization's (WHO) emergency committee to assess whether to declare the highest level of alert at the international level in response to this disease. Since January 2022, there have been 38,465 cases in 16 African countries, with 1,456 deaths, including a 160% increase in cases in 2024 compared to the previous year, according to data published last week by CDC Africa. The continent is facing the spread of a new strain, detected in the Democratic Republic of Congo (DRCongo) in September 2023 and nicknamed 'Clade Ib', which is more deadly and more transmissible than previous strains. 'Clade Ib' causes skin eruptions all over the body, while previous strains were characterized by localized eruptions and lesions in the mouth, face, or genital organs. Mpox was first discovered in humans in 1970 in what is now the DRCongo (formerly Zaire), with the spread of the Clade I subtype (from which the new variant is a mutation), which has since been mainly confined to countries in West and Central Africa, where patients are generally infected by infected animals. In 2022, a global epidemic of the Clade 2 subtype spread to over a hundred countries where the disease was not endemic, affecting mainly homosexual and bisexual men. The WHO declared a maximum alert in July 2022 in response to this global outbreak, but lifted it less than a year later, in May 2023. The epidemic caused around 140 deaths in a total estimated 90,000 cases.\n",
      "\n",
      "The African Union's health agency declared a 'public health emergency' on Tuesday, August 13, due to the growing mpox epidemic on the continent. This is the highest level of alert. The agency has also launched a 'clear call to action' to stop the spread of the disease, formerly known as monkeypox. This announcement will allow for the release of funds for access to vaccines and a continental response. Mpox is a viral disease that spreads from animals to humans and also transmits through close physical contact with an infected person. A total of 38,465 cases have been reported in 16 African countries since January 2022, with 1,456 deaths, with a 160% increase in cases in 2024 compared to the previous year, according to data published by the Africa CDC in early August. The continent is facing the spread of a new strain of the virus, detected in the Democratic Republic of Congo in September 2023 and called 'Clade Ib', which is more deadly and transmissible than previous ones. Cases have been reported in various regions of the continent (Morocco, Egypt, Sudan, Côte d'Ivoire, Liberia, Nigeria, DRC, Rwanda, Kenya, Mozambique, South Africa...). According to the Africa CDC, the virus's mortality rate is above 3% and children under 15 years old are the most affected, representing at least 60% of cases, as stated by the Africa CDC, 'the situation is a public health emergency'.\n",
      "\n",
      "The Africa CDC has declared 'a public health emergency', the highest level of alert, due to the mpox epidemic affecting several countries in the continent, announced the agency's director on Tuesday. The mpox, previously known as monkeypox, is a viral disease that spreads from animals to humans, but also transmits through close physical contact with an infected person. 'The mpox has already crossed borders, affecting thousands of people on our continent,' said Africa CDC President Jean Kaseya in a press conference. 'We declare mpox a continental public health emergency,' he added. This announcement, which will facilitate the release of funds for access to vaccines and a continental response, occurs before the World Health Organization's (WHO) emergency committee meeting to evaluate whether to declare the highest level of alert internationally for this disease. A total of 38,465 cases were registered in 16 African countries since January 2022, and 1,456 deaths. There was a 160% increase in cases in 2024 compared to the previous year, according to data published last week by Africa CDC. The United States stated on Tuesday that it maintains 'close coordination' with the DRC, other affected countries, and health organizations. 'We are closely monitoring the spread of mpox in Central Africa. We are pleased to see international leadership in this region,' said Vedant Patel, spokesperson for the Department of State. The continent is facing the spread of a new strain, detected in the Democratic Republic of Congo (DRC) in September 2023 and called 'Clade Ib', which is more deadly and transmissible than previous ones. 'Clade Ib' causes skin eruptions on the body, while previous strains were characterized by localized eruptions and lesions in the mouth, face, or genital areas. Mpox was first discovered in humans in 1970 in the DRC (formerly Zaire), with the spread of a clade I subtype (whose new variant is a mutation) and was regularly transmitted through contact with animals. In 2022, a global epidemic, caused by the clade 2 subtype, spread to over 100 countries and caused 140 deaths out of 90,000 cases.\n",
      "\n",
      "The World Health Organization (WHO) has declared mpox as a public health emergency of international concern. According to WHO Director-General Tedros Adhanom Ghebreyesus, the WHO's Emergency Committee, convened on Wednesday to assess the resurgence of mpox in the Democratic Republic of the Congo (DRC) and other African countries, has deemed the current situation warrants this declaration. The DRC has seen a steady increase in cases over the past decade, with over 15,600 reported cases and 537 deaths in 2024 alone, surpassing the total of 2023 (1,145 cases and 7 deaths). Mpox is a viral disease caused by the monkeypox virus, characterized by skin rash or mucosal lesions that can last from two to four weeks, fever, headaches, muscle and back pains, fatigue, and swollen lymph nodes. The virus can be transmitted through physical contact with an infected person, contaminated materials, or infected animals. The WHO official stated that the agency is working with governments, the African Centers for Disease Control and Prevention, and other partners to understand and address the factors driving the outbreaks. They are providing machines to analyze blood samples and confirm mpox cases, supporting laboratories to sequence viral samples, and collaborating in research, contact tracing, and healthcare worker training, among other measures. Two WHO-recommended and approved vaccines are currently being used to combat the mpox outbreak. The official called on manufacturers to express interest in producing these vaccines to accelerate access to 'low-income countries that have yet to issue their own national regulatory approval'.\n",
      "\n",
      "The African Centers for Disease Control and Prevention declared a 'public health emergency of international concern' due to the mpox virus, previously known as 'monkeypox'. The continent has seen the highest number of cases of the disease due to a new variant discovered in September 2023 in the Democratic Republic of Congo, which has spread to other local countries. According to Jean Kaseya, the director-general of the African center, 'This is not just another challenge, but a true crisis that requires collective political action.' He added, 'But let's be clear: this is not just an African problem, mpox is a global threat.' Italy, for example, has recorded over 1,000 cases of the disease in two years, with 441 in the Lombardy region. In the last two months, the Italian Ministry of Health reported nine new diagnoses, with six in the Veneto region, two in the Friuli-Venezia Giulia region, and one in the Lombardy region. Of the total infected since 2022, 262 contracted the virus during international travel. Human-to-human transmission occurs through animals, and the disease has symptoms similar to smallpox, including skin blisters, headaches, fever, and weakness.\n",
      "\n",
      "The African Center for Disease Control and Prevention (CDC Africa) has declared a 'public health emergency' due to the outbreak of the 'monkeypox' virus, also known as Mpox, in several African countries. According to CDC Africa President Jean Kasenya, 'This declaration is not just a formality, it's a clear call to action. We need to be proactive and aggressive in our efforts to contain and eliminate this scourge.' The declaration will allow for the release of funds for vaccine access and a continental response. This comes ahead of a World Health Organization (WHO) emergency committee meeting to assess whether to declare the highest level of international health alert in response to the disease. Since January 2022, there have been 38,465 cases in 16 African countries, with 1,456 deaths, including a 160% increase in cases in 2024 compared to the previous year, according to CDC Africa data. A new strain, 'Clade Ib', detected in the Democratic Republic of Congo in September 2023, is more deadly and transmissible than previous strains. 'Clade Ib' causes skin eruptions throughout the body, whereas previous strains were characterized by localized eruptions in the mouth, face, or genital organs. Mpox was first discovered in humans in 1970 in what is now the Democratic Republic of Congo, and has since been mainly confined to Western and Central African countries, where people are generally infected by animals. In 2022, a global outbreak of the Clade 2 subtype spread to over 100 countries where the disease was not endemic, mainly affecting gay and bisexual men.\n",
      "\n",
      "The Africa CDC is 'probablely' going to declare a 'public health emergency' next week due to the Mpox outbreak in several African countries. The new strain of Mpox, also known as monkeypox, detected in the Democratic Republic of Congo (DRC) in September 2023 and reported in several neighboring countries, is feared to spread the virus. 'We are taking the necessary measures, we decide when there is an emergency, we take the appropriate decisions and speak with one voice,' said Jean Kaseya, director of the Africa CDC. At least 16 countries on the continent have already reported cases of Mpox, with 887 cases reported last week and five deaths. The decision by the agency will allow for the release of funds and a continental response. The World Health Organization (WHO) has also announced a meeting 'as soon as possible' of the emergency committee to evaluate whether to declare the highest level of alert. 'Considering the spread of Mpox outside of the DRC and the possibility of a new international spread within and outside of Africa, I have decided to convene an emergency committee (...) to advise me on whether the outbreak constitutes a public health emergency of international concern,' said WHO Director-General Tedros Adhanom Ghebreyesus. The new strain of Mpox is more deadly and contagious than previous ones and can be transmitted from person to person. It causes skin eruptions all over the body, unlike previous strains which were localized to the mouth, face, or genital areas. The DRC is the most affected country with 14,479 confirmed and suspected cases and 455 deaths as of August 3, according to the Africa CDC.\n",
      "\n",
      "The state of São Paulo has reported 315 confirmed cases of Mpox (formerly known as monkeypox) in the first seven months of 2024, according to the state's health department. This represents a 257% increase from the same period in 2023, when 88 cases were reported. The World Health Organization (WHO) has declared Mpox a Public Health Emergency of International Concern (PHEIC), the highest level of alert, due to the rapid spread of a new variant of the virus in Africa. The WHO has expressed concern about the potential for Mpox to spread globally, but notes that the risk to Brazil is currently low. The Brazilian Ministry of Health has stated that it is updating its recommendations and contingency plan for the disease, but has not provided further details. Experts suggest that vaccination, particularly for those who have had close contact with infected individuals, is crucial to prevent outbreaks like the one in the Democratic Republic of Congo. Two vaccines are recommended by the WHO, but neither is being used on a large scale in Brazil. A mass vaccination campaign is unlikely, unless there is a significant global health emergency. The WHO has emphasized the importance of coordination and collaboration among countries to respond to the outbreak. 'It is a warning, not a cause for panic,' said Dr. Clarissa Damaso, a virologist and member of the WHO's emergency committee. 'The declaration reflects the WHO's concern to prevent the situation from worsening and to improve it.' \n",
      "\n",
      "The World Health Organization (WHO) has declared the mpox outbreaks in Africa a global health emergency due to the spread of the virus among children and adults in over a dozen countries and the limited availability of vaccine doses on the continent. The Africa Centers for Disease Control and Prevention had previously announced the outbreaks as a public health emergency with over 500 deaths. In other news, a recent survey by the Social Weather Stations (SWS) showed that Filipinos are more satisfied with the Senate (66% satisfaction rating) than the House of Representatives (60% satisfaction rating), but both institutions posted lower satisfaction ratings compared to the previous survey. Additionally, the camp of former Bamban, Tarlac Mayor Alice Guo is planning to appeal the Office of the Ombudsman's decision to dismiss her from government service.\n",
      "\n",
      "The Africa CDC has declared a public health emergency across the continent due to the rapid spread of the Mpox virus. According to the Africa CDC, 2,822 people have been infected with the virus in 13 African countries between January and August 8, with 14,719 suspected cases reported. The virus has claimed 517 lives, with 511 of those deaths occurring in the Democratic Republic of Congo. Africa CDC Director Jean Kaseya said, 'Declaring Mpox as a Continent-wide Public Health Emergency is not a decision taken lightly, it's a responsibility.' Kaseya called on African governments to work with the Africa CDC to prevent the spread of the virus and promised to bring vaccines to the continent. The Africa CDC will hold weekly meetings to discuss case and death numbers. Mpox, a rare disease caused by an endemic virus, is divided into two types: Congo and West Africa. The virus can cause high fever, itchy blisters, tremors, headaches, muscle aches, fatigue, and death, with a mortality rate of around 5%. The World Health Organization changed the name of the disease from 'monkeypox' to 'Mpox – M' in November 2023, citing that the previous name was 'racist and stigmatizing.' The Turkish Medical Association stated in July 2022 that the disease is transmitted from animals to humans and from human to human through close contact with infected wounds, blisters, and body fluids, as well as contaminated clothing and objects, and prolonged face-to-face contact. The first symptoms can appear 5-21 days after infection.\n",
      "RATES 1. Today's date: 2024-08-15\n",
      "2. End date of the question: 2024-10-01\n",
      "3. Time in days from today to end date: 47 days\n",
      "4. Specific date at which the event is most likely to occur: 2024-09-15\n",
      "5. The likely event date is before the question end date\n",
      "\n",
      "Based on the news provided, it appears that the mpox situation has escalated significantly, particularly in Africa. The Africa CDC has already declared a continental public health emergency, and the WHO has convened an emergency committee to assess whether to declare the highest level of international health alert. Given these developments and the rapid spread of a new, more virulent strain, it's highly likely that the US Department of Health and Human Services will declare a public health emergency for mpox before October 1, 2024.\n",
      "\n",
      "The estimated date of September 15, 2024, takes into account the time needed for the situation to further develop and for the US to respond to the global health crisis. This date is before the question's end date of October 1, 2024, allowing for a proactive response from the US government in light of the evolving global situation.\n",
      "27248 65 Given the rapid escalation of mpox cases in Africa, the declaration of a continental emergency by the Africa CDC, and WHO's high likelihood of calling for the highest level of international health alert, there is a substantial probability that the HHS will follow suit before October 1, 2024. The US has a precedent for declaring public health emergencies in response to significant international outbreaks, particularly when a new, more virulent strain is involved. The additional element of geopolitical considerations further increases the likelihood that the US will act within the given timeframe.\n",
      "27249 75 The increasing trend and rapid dissemination of the more virulent Clade I variant of mpox in Africa suggest a high likelihood of surpassing the previous peak 7-day average of confirmed cases by September 30, 2024. Africa CDC data indicates a 160% increase in cases, highlighting the potential for a sharp rise in global cases if the virus spreads beyond Africa. Given the current trajectory and inadequate containment measures, it is likely that the average will exceed the peak observed during the 2022-2023 outbreak.\n",
      "REFINING 27248\n",
      "Pass 0 of 4 on 27248\n",
      "27248 I concur\n",
      "concur 2\n",
      "===============================================\n",
      "REFINING 27249\n",
      "Pass 0 of 4 on 27249\n",
      "27249 While the rationale highlights important trends and indicators, forecasting outbreaks can be inherently uncertain due to numerous unpredictable factors such as containment efforts, public health responses, and viral mutation. Considering these uncertainties, a probability of 75% might be somewhat high. It might be prudent to account for potential variances in outbreak trajectories and the effectiveness of interventions.\n",
      "27249 65 Acknowledging the inherent uncertainties in forecasting outbreaks, including potential containment efforts, public health responses, and viral mutation, it is prudent to lower the probability. While the trend and indicators support a high likelihood of exceeding the previous peak 7-day average, the unpredictability of effective interventions suggests adjusting the probability to reflect these variances more conservatively.\n",
      "Pass 1 of 4 on 27249\n",
      "27249 I concur\n",
      "concur 2\n",
      "===============================================\n"
     ]
    }
   ],
   "source": [
    "fcst.fit()"
   ]
  },
  {
   "cell_type": "code",
   "execution_count": 88,
   "metadata": {},
   "outputs": [
    {
     "name": "stdout",
     "output_type": "stream",
     "text": [
      "27248 Will the Secretary of the US Department of Health and Human Services declare a public health emergency for mpox (monkeypox) before October 1, 2024?\n",
      "Forecast 65\n",
      "Rationale Given the rapid escalation of mpox cases in Africa, the declaration of a continental emergency by the Africa CDC, and WHO's high likelihood of calling for the highest level of international health alert, there is a substantial probability that the HHS will follow suit before October 1, 2024. The US has a precedent for declaring public health emergencies in response to significant international outbreaks, particularly when a new, more virulent strain is involved. The additional element of geopolitical considerations further increases the likelihood that the US will act within the given timeframe. \n",
      "\n",
      "27249 Will the 7-day average confirmed mpox cases in 2024 exceed the peak 7-day average confirmed mpox cases from the 2022-2023 outbreak by September 30, 2024?\n",
      "Forecast 65\n",
      "Rationale Acknowledging the inherent uncertainties in forecasting outbreaks, including potential containment efforts, public health responses, and viral mutation, it is prudent to lower the probability. While the trend and indicators support a high likelihood of exceeding the previous peak 7-day average, the unpredictability of effective interventions suggests adjusting the probability to reflect these variances more conservatively. \n",
      "\n"
     ]
    }
   ],
   "source": [
    "fcst.report()"
   ]
  },
  {
   "cell_type": "code",
   "execution_count": 89,
   "metadata": {},
   "outputs": [
    {
     "name": "stdout",
     "output_type": "stream",
     "text": [
      "Prediction posted for  27248\n",
      "Comment posted for  27248\n",
      "Prediction posted for  27249\n",
      "Comment posted for  27249\n"
     ]
    }
   ],
   "source": [
    "fcst.upload()"
   ]
  },
  {
   "cell_type": "code",
   "execution_count": null,
   "metadata": {},
   "outputs": [],
   "source": []
  }
 ],
 "metadata": {
  "colab": {
   "provenance": []
  },
  "kernelspec": {
   "display_name": "Python 3 (ipykernel)",
   "language": "python",
   "name": "python3"
  },
  "language_info": {
   "codemirror_mode": {
    "name": "ipython",
    "version": 3
   },
   "file_extension": ".py",
   "mimetype": "text/x-python",
   "name": "python",
   "nbconvert_exporter": "python",
   "pygments_lexer": "ipython3",
   "version": "3.10.6"
  }
 },
 "nbformat": 4,
 "nbformat_minor": 4
}
