{
 "cells": [
  {
   "cell_type": "markdown",
   "metadata": {},
   "source": [
    "# 000 Forecasting Bot"
   ]
  },
  {
   "cell_type": "code",
   "execution_count": 1,
   "metadata": {},
   "outputs": [],
   "source": [
    "%load_ext autoreload\n",
    "%autoreload 2"
   ]
  },
  {
   "cell_type": "code",
   "execution_count": 2,
   "metadata": {},
   "outputs": [],
   "source": [
    "from IFP import IFP, list_questions"
   ]
  },
  {
   "cell_type": "code",
   "execution_count": 3,
   "metadata": {},
   "outputs": [],
   "source": [
    "ifps = list_questions()['results']"
   ]
  },
  {
   "cell_type": "code",
   "execution_count": 4,
   "metadata": {},
   "outputs": [
    {
     "data": {
      "text/plain": [
       "[27966, 27967, 27968, 27969]"
      ]
     },
     "execution_count": 4,
     "metadata": {},
     "output_type": "execute_result"
    }
   ],
   "source": [
    "today_ids = list(sorted([x['id'] for x in ifps])) if ifps else [27238, 27239, 27240, 27241]\n",
    "today_ids"
   ]
  },
  {
   "cell_type": "code",
   "execution_count": 5,
   "metadata": {},
   "outputs": [],
   "source": [
    "ifps = {id: IFP(id) for id in today_ids}"
   ]
  },
  {
   "cell_type": "code",
   "execution_count": 6,
   "metadata": {},
   "outputs": [],
   "source": [
    "from Forecaster import Forecaster"
   ]
  },
  {
   "cell_type": "code",
   "execution_count": 7,
   "metadata": {},
   "outputs": [],
   "source": [
    "fcst = Forecaster(ifps)"
   ]
  },
  {
   "cell_type": "code",
   "execution_count": 8,
   "metadata": {},
   "outputs": [
    {
     "name": "stdout",
     "output_type": "stream",
     "text": [
      "MODEL DOMAIN\n",
      "27966 Will Greystone Logistics, Inc., file its 10-K annual report with the SEC before October 1, 2024?\n",
      "Corporate action\n",
      "27967 Before October 1, 2024, will Tech Crunch report new layoffs at Tesla?\n",
      "Corporate action\n",
      "27968 Will Taylor Swift win 5 or more awards at the 2024 MTV Video Music Awards?\n",
      "Entertainment\n",
      "27969 Will Fargo win the 2024 Primetime Emmy Award for Outstanding Limited or Anthology Series?\n",
      "Entertainment\n",
      "CORRELATOR\n",
      "|Greystone Logistics 10-K Filing|27966|Will Greystone Logistics, Inc., file its 10-K annual report with the SEC before October 1, 2024?|\n",
      "|Tesla Layoffs|27967|Before October 1, 2024, will Tech Crunch report new layoffs at Tesla?|\n",
      "|Taylor Swift Awards|27968|Will Taylor Swift win 5 or more awards at the 2024 MTV Video Music Awards?|\n",
      "|Fargo Emmy Award|27969|Will Fargo win the 2024 Primetime Emmy Award for Outstanding Limited or Anthology Series?|\n",
      "NEWS\n",
      "ASKING\n",
      "Researching Will Fargo win the 2024 Primetime Emmy Award for Outstanding Limited or Anthology Series?\n",
      "ALL\n",
      "The 2024 Emmy Predictions for Best Drama Writing have been released, with 'Shōgun' being a strong contender. The FX series has extended the trend of at least one series earning multiple Best Drama Writing Emmy notices at once. The nominees include Peter Morgan and Meriel Sheibani-Clare for 'The Crown', Geneva Robertson-Dworet and Graham Wagner for 'Fallout', Francesca Sloane and Donald Glover for 'Mr. & Mrs. Smith', Rachel Kondo and Justin Marks for 'Shōgun', and Rachel Kondo and Caillin Puente for 'Shōgun'. According to Gold Derby users, 'Crimson Sky' from 'Shōgun' is the most likely to win, with over 70% of users predicting it will be chosen over 'Anjin'.\n",
      "saved asknews_for_question/27969.json\n",
      "ASKING\n",
      "Researching Will Greystone Logistics, Inc., file its 10-K annual report with the SEC before October 1, 2024?\n",
      "ALL\n",
      "SITE Centers Corp. (NYSE: SITC) announced that Curbline Properties Corp. (Curbline) has publicly filed a Registration Statement on Form 10 with the Securities and Exchange Commission (SEC) on September 3, 2024, as part of the company's plan to spin-off its convenience assets into a separate publicly traded company. The spin-off is subject to certain conditions, including the SEC declaring the Form 10 effective and approval by the SITE Centers Board of Directors. Curbline will become an independent, publicly traded company upon its spin-off from SITE Centers, expected to occur on October 1, 2024, and will trade under the ticker symbol CURB on the NYSE. SITE Centers considers certain information in this press release to be forward-looking statements, including the ability to complete the spin-off in a timely manner or at all, and the impact of the spin-off on the business of SITE Centers and Curbline.\n",
      "saved asknews_for_question/27966.json\n",
      "ASKING\n",
      "Researching Will Taylor Swift win 5 or more awards at the 2024 MTV Video Music Awards?\n",
      "ALL\n",
      "Taylor Swift's image was removed from Disney World's All-Star Music Resort Hall of Fame, causing a stir among her fans, known as Swifties. The removal was revealed on TikTok by user @belle.lea2, who captioned the video, 'Imagine to my Horror coming to all star music and seeing they took Taylor Alison Swift down.' Swifties flooded the comment section with reactions, including 'HOW DARE THEY' and 'NOOOO ILL CRY THAT WAS MY FAVORITE PART ABT ALL STAR MUSIC.' Meanwhile, Taylor Swift and her NFL boyfriend Travis Kelce are reportedly planning to commemorate their alleged 'split' by doing something 'super special' on September 28, the date of their supposed breakup. An insider said, 'Taylor was unbothered and quite amused by this. She usually pays these things no mind at all, but this was some hilarious AI realness.' The couple is said to be planning a fun date night on National Beer Drinking Day, which coincidentally falls on September 28.\n",
      "saved asknews_for_question/27968.json\n",
      "ASKING\n",
      "Researching Before October 1, 2024, will Tech Crunch report new layoffs at Tesla?\n",
      "ALL\n",
      "The Nasdaq and S&amp;P 500 indexes rose on Thursday after a services activity survey showed a rise in economic activity, and weekly jobless claims declined. The Institute for Supply Management survey showed services sector activity rose to 51.5 in August, above expectations. The number of Americans filing new applications for jobless benefits declined last week, according to a Labor Department report. However, ADP National Employment data showed private employers hired the fewest number of workers in 3-1/2 years in August. Traders' bets for a 25-basis point reduction in interest rates at the Fed's September meeting now stand at 55%. Ross Mayfield, investment strategist at Baird, said, 'The one positive you could take away is that layoffs seem to remain somewhat muted.' The tech-heavy Nasdaq outperformed, led by Nvidia, Amazon.com, and Apple, while Tesla's shares jumped 6% after it said it will launch the full self-driving advanced driver assistance software in the first quarter next year in Europe and China, pending regulatory approval.\n",
      "saved asknews_for_question/27967.json\n",
      "RATES\n",
      "RATES Fargo Emmy Award {'Fargo Emmy Award': \"1. Today's date: 2024-09-05\\n2. End (measurement) date: 2024-09-15\\n3. Time in days D from today to end date: 10 days\\n4. Specific date at which the event is most likely to occur: 2024-09-15 (the date of the Emmy Awards ceremony)\\n5. Likely event date is on or after the question end date: On\", 'Greystone Logistics 10-K Filing': None, 'Taylor Swift Awards': None, 'Tesla Layoffs': None}\n",
      "RATES Greystone Logistics 10-K Filing {'Fargo Emmy Award': \"1. Today's date: 2024-09-05\\n2. End (measurement) date: 2024-09-15\\n3. Time in days D from today to end date: 10 days\\n4. Specific date at which the event is most likely to occur: 2024-09-15 (the date of the Emmy Awards ceremony)\\n5. Likely event date is on or after the question end date: On\", 'Greystone Logistics 10-K Filing': \"Today's date: 2024-09-05\\nEnd date of the question: 2024-10-01\\nTime in days D from today to end date: 26 days\\nMost likely date for the filing: Difficult to predict\\nWhether the likely filing date is before, or on or after the end date of the question: Difficult to predict\\n\\n**Note:** Without concrete information on Greystone Logistics, Inc.'s filing behavior or any recent developments, it is challenging to predict exactly when the company will file its 10-K annual report with the SEC. The given news emphasizes the consequences of failing to file on time but does not provide specific information about Greystone's filing plans or history.\", 'Taylor Swift Awards': None, 'Tesla Layoffs': None}\n",
      "RATES Taylor Swift Awards {'Fargo Emmy Award': \"1. Today's date: 2024-09-05\\n2. End (measurement) date: 2024-09-15\\n3. Time in days D from today to end date: 10 days\\n4. Specific date at which the event is most likely to occur: 2024-09-15 (the date of the Emmy Awards ceremony)\\n5. Likely event date is on or after the question end date: On\", 'Greystone Logistics 10-K Filing': \"Today's date: 2024-09-05\\nEnd date of the question: 2024-10-01\\nTime in days D from today to end date: 26 days\\nMost likely date for the filing: Difficult to predict\\nWhether the likely filing date is before, or on or after the end date of the question: Difficult to predict\\n\\n**Note:** Without concrete information on Greystone Logistics, Inc.'s filing behavior or any recent developments, it is challenging to predict exactly when the company will file its 10-K annual report with the SEC. The given news emphasizes the consequences of failing to file on time but does not provide specific information about Greystone's filing plans or history.\", 'Taylor Swift Awards': \"1. Today's Date: 2024-09-05\\n2. End Date: 2024-09-11\\n3. Time in Days (D): 6 days\\n4. Specific Date Most Likely to Occur: Sept 11, 2024\\n5. Likely Event Date is: On or After the End Date\", 'Tesla Layoffs': None}\n",
      "RATES Tesla Layoffs {'Fargo Emmy Award': \"1. Today's date: 2024-09-05\\n2. End (measurement) date: 2024-09-15\\n3. Time in days D from today to end date: 10 days\\n4. Specific date at which the event is most likely to occur: 2024-09-15 (the date of the Emmy Awards ceremony)\\n5. Likely event date is on or after the question end date: On\", 'Greystone Logistics 10-K Filing': \"Today's date: 2024-09-05\\nEnd date of the question: 2024-10-01\\nTime in days D from today to end date: 26 days\\nMost likely date for the filing: Difficult to predict\\nWhether the likely filing date is before, or on or after the end date of the question: Difficult to predict\\n\\n**Note:** Without concrete information on Greystone Logistics, Inc.'s filing behavior or any recent developments, it is challenging to predict exactly when the company will file its 10-K annual report with the SEC. The given news emphasizes the consequences of failing to file on time but does not provide specific information about Greystone's filing plans or history.\", 'Taylor Swift Awards': \"1. Today's Date: 2024-09-05\\n2. End Date: 2024-09-11\\n3. Time in Days (D): 6 days\\n4. Specific Date Most Likely to Occur: Sept 11, 2024\\n5. Likely Event Date is: On or After the End Date\", 'Tesla Layoffs': \"1. Today's date: 2024-09-05\\n2. The end date of the question: 2024-10-01\\n3. Time in days D from today to end date: 26 days\\n4. Most likely date of event: Given the recent patterns of layoffs, the ongoing pivots, and the historical context of such decisions till the recent past, the most likely date might be around 2024-09-30\\n5. Event likely on or after the question's end date: Before\"}\n",
      "FORECASTING Fargo Emmy Award\n",
      "27969 40 Fargo is a strong contender for the 2024 Primetime Emmy Award for Outstanding Limited or Anthology Series, given its critical acclaim and multiple nominations, including Best Limited Series and acting categories. However, the competition is stiff, particularly from True Detective: Night Country, which led with 19 nominations, and Lessons in Chemistry, which has also garnered significant buzz. Given the competitive landscape, I assess the probability of Fargo winning at 40%.\n",
      "FORECASTING Greystone Logistics 10-K Filing\n",
      "27966 30 Given that Greystone Logistics, Inc., received a notification of failure to file its annual report on August 30, 2024, and there is no concrete information about their filing behavior or any recent developments pointing toward an imminent filing, the likelihood of them filing the 10-K before October 1, 2024, seems relatively low. The company has 15 days to file after the notification, but without additional recent info, caution is warranted. \n",
      "FORECASTING Taylor Swift Awards\n",
      "27968 70 Taylor Swift has a strong track record at the MTV VMAs, and with 10 nominations this year, she has a high likelihood of winning multiple awards. Given that she won 7 out of 8 nominations last year and has strong entries in major categories such as Video of the Year and Artist of the Year, it is reasonable to believe she could win 5 or more awards in the 2024 show. However, there is still competition from other artists like Post Malone. Thus, I estimate a 70% probability.\n",
      "FORECASTING Tesla Layoffs\n",
      "27967 45 Given the historical context of multiple layoff rounds at Tesla in 2024, the shift in focus towards hiring for emerging technologies, and the current investor sentiment, there is a moderate probability of additional layoffs being announced before October 1, 2024. While recent news has focused on hiring, economic pressures and the dynamics of the industry could still lead to further layoffs, especially as AI and automation projects evolve.\n"
     ]
    }
   ],
   "source": [
    "fcst.fit()"
   ]
  },
  {
   "cell_type": "code",
   "execution_count": 9,
   "metadata": {},
   "outputs": [
    {
     "name": "stdout",
     "output_type": "stream",
     "text": [
      "27966 30\n",
      "27967 45\n",
      "27968 70\n",
      "27969 40\n"
     ]
    }
   ],
   "source": [
    "for ifp in ifps.values():\n",
    "    try:\n",
    "        print(ifp.id, ifp.forecast)\n",
    "    except:\n",
    "        print(ifp.id, 'none')"
   ]
  },
  {
   "cell_type": "code",
   "execution_count": 10,
   "metadata": {},
   "outputs": [
    {
     "name": "stdout",
     "output_type": "stream",
     "text": [
      "27966 Will Greystone Logistics, Inc., file its 10-K annual report with the SEC before October 1, 2024?\n",
      "Forecast 30\n",
      "Rationale Given that Greystone Logistics, Inc., received a notification of failure to file its annual report on August 30, 2024, and there is no concrete information about their filing behavior or any recent developments pointing toward an imminent filing, the likelihood of them filing the 10-K before October 1, 2024, seems relatively low. The company has 15 days to file after the notification, but without additional recent info, caution is warranted.  \n",
      "\n",
      "27967 Before October 1, 2024, will Tech Crunch report new layoffs at Tesla?\n",
      "Forecast 45\n",
      "Rationale Given the historical context of multiple layoff rounds at Tesla in 2024, the shift in focus towards hiring for emerging technologies, and the current investor sentiment, there is a moderate probability of additional layoffs being announced before October 1, 2024. While recent news has focused on hiring, economic pressures and the dynamics of the industry could still lead to further layoffs, especially as AI and automation projects evolve. \n",
      "\n",
      "27968 Will Taylor Swift win 5 or more awards at the 2024 MTV Video Music Awards?\n",
      "Forecast 70\n",
      "Rationale Taylor Swift has a strong track record at the MTV VMAs, and with 10 nominations this year, she has a high likelihood of winning multiple awards. Given that she won 7 out of 8 nominations last year and has strong entries in major categories such as Video of the Year and Artist of the Year, it is reasonable to believe she could win 5 or more awards in the 2024 show. However, there is still competition from other artists like Post Malone. Thus, I estimate a 70% probability. \n",
      "\n",
      "27969 Will Fargo win the 2024 Primetime Emmy Award for Outstanding Limited or Anthology Series?\n",
      "Forecast 40\n",
      "Rationale Fargo is a strong contender for the 2024 Primetime Emmy Award for Outstanding Limited or Anthology Series, given its critical acclaim and multiple nominations, including Best Limited Series and acting categories. However, the competition is stiff, particularly from True Detective: Night Country, which led with 19 nominations, and Lessons in Chemistry, which has also garnered significant buzz. Given the competitive landscape, I assess the probability of Fargo winning at 40%. \n",
      "\n"
     ]
    }
   ],
   "source": [
    "fcst.report()"
   ]
  },
  {
   "cell_type": "code",
   "execution_count": 11,
   "metadata": {},
   "outputs": [
    {
     "name": "stdout",
     "output_type": "stream",
     "text": [
      "Prediction posted for  27966\n",
      "Comment posted for  27966\n",
      "Prediction posted for  27967\n",
      "Comment posted for  27967\n",
      "Prediction posted for  27968\n",
      "Comment posted for  27968\n",
      "Prediction posted for  27969\n",
      "Comment posted for  27969\n"
     ]
    }
   ],
   "source": [
    "fcst.upload()"
   ]
  },
  {
   "cell_type": "code",
   "execution_count": null,
   "metadata": {},
   "outputs": [],
   "source": []
  }
 ],
 "metadata": {
  "colab": {
   "provenance": []
  },
  "kernelspec": {
   "display_name": "trader",
   "language": "python",
   "name": "trader"
  },
  "language_info": {
   "codemirror_mode": {
    "name": "ipython",
    "version": 3
   },
   "file_extension": ".py",
   "mimetype": "text/x-python",
   "name": "python",
   "nbconvert_exporter": "python",
   "pygments_lexer": "ipython3",
   "version": "3.10.6"
  }
 },
 "nbformat": 4,
 "nbformat_minor": 4
}
