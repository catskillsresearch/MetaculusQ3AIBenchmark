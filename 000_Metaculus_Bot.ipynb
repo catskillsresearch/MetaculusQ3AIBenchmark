{
 "cells": [
  {
   "cell_type": "markdown",
   "metadata": {},
   "source": [
    "# 000 Forecasting Bot"
   ]
  },
  {
   "cell_type": "code",
   "execution_count": 1,
   "metadata": {},
   "outputs": [],
   "source": [
    "%load_ext autoreload\n",
    "%autoreload 2"
   ]
  },
  {
   "cell_type": "code",
   "execution_count": 2,
   "metadata": {},
   "outputs": [],
   "source": [
    "from IFP import IFP, list_questions"
   ]
  },
  {
   "cell_type": "code",
   "execution_count": 3,
   "metadata": {},
   "outputs": [],
   "source": [
    "ifps = list_questions()['results']"
   ]
  },
  {
   "cell_type": "code",
   "execution_count": 5,
   "metadata": {},
   "outputs": [
    {
     "data": {
      "text/plain": [
       "[28006, 28007, 28008]"
      ]
     },
     "execution_count": 5,
     "metadata": {},
     "output_type": "execute_result"
    }
   ],
   "source": [
    "today_ids = list(sorted([x['id'] for x in ifps])) if ifps else [27238, 27239, 27240, 27241]\n",
    "today_ids"
   ]
  },
  {
   "cell_type": "code",
   "execution_count": 6,
   "metadata": {},
   "outputs": [],
   "source": [
    "ifps = {id: IFP(id) for id in today_ids}"
   ]
  },
  {
   "cell_type": "code",
   "execution_count": 7,
   "metadata": {},
   "outputs": [],
   "source": [
    "from Forecaster import Forecaster"
   ]
  },
  {
   "cell_type": "code",
   "execution_count": 8,
   "metadata": {},
   "outputs": [],
   "source": [
    "fcst = Forecaster(ifps)"
   ]
  },
  {
   "cell_type": "code",
   "execution_count": 10,
   "metadata": {},
   "outputs": [
    {
     "name": "stdout",
     "output_type": "stream",
     "text": [
      "MODEL DOMAIN\n",
      "28006 Will Kamala Harris say \"I'm speaking\" in the presidential debate with Donald Trump?\n",
      "Election outcome\n",
      "28007 Will the national price of gasoline exceed $3.25 per gallon when accessed by Metaculus Admins on October 1, 2024?\n",
      "Market price\n",
      "28008 Will the US weekly 30-year fixed mortgage rate be above 6.35% on October 1, 2024, according to Freddie Mac?\n",
      "Rate change\n",
      "CORRELATOR\n",
      "NEWS\n",
      "RATES\n",
      "FORECASTING National gasoline price on October 1, 2024\n",
      "28007 25 Current trends indicate a steady decline in gas prices, supported by factors such as lower demand and decreasing oil prices. Based on recent historical trends and the calculated rate of change, it is expected that the national average price will be around $3.138 per gallon by October 1, 2024. Hence, there is a relatively low probability that it will exceed $3.25 per gallon.\n",
      "FORECASTING US mortgage rate on October 1, 2024\n",
      "28008 25 The US weekly 30-year fixed mortgage rate is currently at 6.35% and has been decreasing steadily. With expectations for further Federal Reserve interest rate cuts and the ongoing trend of falling mortgage rates, it is more likely that the rate will stay at or below 6.35% by October 1, 2024.\n",
      "FORECASTING Kamala Harris presidential debate with Donald Trump\n",
      "28006 85 Kamala Harris has a history of utilizing the phrase \"I'm speaking\" in debates, and given the planned debate format with Trump, it seems likely she may use it again to assert herself or make a point. The microphone rules also suggest situations where she might need to use the phrase due to disruptions despite the rules. The probability reflects a high likelihood considering her past behavior and the circumstances of the debate.\n"
     ]
    }
   ],
   "source": [
    "fcst.fit()"
   ]
  },
  {
   "cell_type": "code",
   "execution_count": 11,
   "metadata": {},
   "outputs": [
    {
     "name": "stdout",
     "output_type": "stream",
     "text": [
      "28006 85\n",
      "28007 25\n",
      "28008 25\n"
     ]
    }
   ],
   "source": [
    "for ifp in ifps.values():\n",
    "    try:\n",
    "        print(ifp.id, ifp.forecast)\n",
    "    except:\n",
    "        print(ifp.id, 'none')"
   ]
  },
  {
   "cell_type": "code",
   "execution_count": 12,
   "metadata": {},
   "outputs": [
    {
     "name": "stdout",
     "output_type": "stream",
     "text": [
      "28006 Will Kamala Harris say \"I'm speaking\" in the presidential debate with Donald Trump?\n",
      "Forecast 85\n",
      "Rationale Kamala Harris has a history of utilizing the phrase \"I'm speaking\" in debates, and given the planned debate format with Trump, it seems likely she may use it again to assert herself or make a point. The microphone rules also suggest situations where she might need to use the phrase due to disruptions despite the rules. The probability reflects a high likelihood considering her past behavior and the circumstances of the debate. \n",
      "\n",
      "28007 Will the national price of gasoline exceed $3.25 per gallon when accessed by Metaculus Admins on October 1, 2024?\n",
      "Forecast 25\n",
      "Rationale Current trends indicate a steady decline in gas prices, supported by factors such as lower demand and decreasing oil prices. Based on recent historical trends and the calculated rate of change, it is expected that the national average price will be around $3.138 per gallon by October 1, 2024. Hence, there is a relatively low probability that it will exceed $3.25 per gallon. \n",
      "\n",
      "28008 Will the US weekly 30-year fixed mortgage rate be above 6.35% on October 1, 2024, according to Freddie Mac?\n",
      "Forecast 25\n",
      "Rationale The US weekly 30-year fixed mortgage rate is currently at 6.35% and has been decreasing steadily. With expectations for further Federal Reserve interest rate cuts and the ongoing trend of falling mortgage rates, it is more likely that the rate will stay at or below 6.35% by October 1, 2024. \n",
      "\n"
     ]
    }
   ],
   "source": [
    "fcst.report()"
   ]
  },
  {
   "cell_type": "code",
   "execution_count": 13,
   "metadata": {},
   "outputs": [
    {
     "name": "stdout",
     "output_type": "stream",
     "text": [
      "Prediction posted for  28006\n",
      "Comment posted for  28006\n",
      "Prediction posted for  28007\n",
      "Comment posted for  28007\n",
      "Prediction posted for  28008\n",
      "Comment posted for  28008\n"
     ]
    }
   ],
   "source": [
    "fcst.upload()"
   ]
  },
  {
   "cell_type": "code",
   "execution_count": null,
   "metadata": {},
   "outputs": [],
   "source": []
  }
 ],
 "metadata": {
  "colab": {
   "provenance": []
  },
  "kernelspec": {
   "display_name": "trader",
   "language": "python",
   "name": "trader"
  },
  "language_info": {
   "codemirror_mode": {
    "name": "ipython",
    "version": 3
   },
   "file_extension": ".py",
   "mimetype": "text/x-python",
   "name": "python",
   "nbconvert_exporter": "python",
   "pygments_lexer": "ipython3",
   "version": "3.10.6"
  }
 },
 "nbformat": 4,
 "nbformat_minor": 4
}
