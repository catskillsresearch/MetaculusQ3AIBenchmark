{
 "cells": [
  {
   "cell_type": "markdown",
   "metadata": {},
   "source": [
    "# 000 Forecasting Bot"
   ]
  },
  {
   "cell_type": "code",
   "execution_count": 1,
   "metadata": {},
   "outputs": [],
   "source": [
    "%load_ext autoreload\n",
    "%autoreload 2"
   ]
  },
  {
   "cell_type": "code",
   "execution_count": 2,
   "metadata": {},
   "outputs": [],
   "source": [
    "from IFP import IFP, list_questions"
   ]
  },
  {
   "cell_type": "code",
   "execution_count": 3,
   "metadata": {},
   "outputs": [],
   "source": [
    "ifps = list_questions()['results']"
   ]
  },
  {
   "cell_type": "code",
   "execution_count": 4,
   "metadata": {},
   "outputs": [
    {
     "data": {
      "text/plain": [
       "[27637, 27638, 27639, 27640]"
      ]
     },
     "execution_count": 4,
     "metadata": {},
     "output_type": "execute_result"
    }
   ],
   "source": [
    "today_ids = list(sorted([x['id'] for x in ifps])) if ifps else [27238, 27239, 27240, 27241]\n",
    "today_ids"
   ]
  },
  {
   "cell_type": "code",
   "execution_count": 5,
   "metadata": {},
   "outputs": [],
   "source": [
    "ifps = {id: IFP(id) for id in today_ids}"
   ]
  },
  {
   "cell_type": "code",
   "execution_count": 6,
   "metadata": {},
   "outputs": [],
   "source": [
    "from Forecaster import Forecaster"
   ]
  },
  {
   "cell_type": "code",
   "execution_count": 7,
   "metadata": {},
   "outputs": [],
   "source": [
    "fcst = Forecaster(ifps)"
   ]
  },
  {
   "cell_type": "code",
   "execution_count": 13,
   "metadata": {},
   "outputs": [],
   "source": [
    "self = fcst"
   ]
  },
  {
   "cell_type": "code",
   "execution_count": 14,
   "metadata": {},
   "outputs": [
    {
     "name": "stdout",
     "output_type": "stream",
     "text": [
      "MODEL DOMAIN\n"
     ]
    }
   ],
   "source": [
    "        print('MODEL DOMAIN')\n",
    "        for ifp in self.ifps.values():\n",
    "            self.mdc.classify(ifp)"
   ]
  },
  {
   "cell_type": "code",
   "execution_count": null,
   "metadata": {},
   "outputs": [],
   "source": [
    "        print('CORRELATOR')\n",
    "        self.rho = self.qr.relate(self.ifps)"
   ]
  },
  {
   "cell_type": "code",
   "execution_count": 15,
   "metadata": {},
   "outputs": [
    {
     "data": {
      "text/plain": [
       "{'Meta layoffs': [<IFP.IFP at 0x7fac3f1f2c50>],\n",
       " 'YouTube ban in Russia': [<IFP.IFP at 0x7fac3f1f3040>],\n",
       " '2024 MTV VMAs': [<IFP.IFP at 0x7fac3f1f0c70>],\n",
       " 'Bloomberg Billionaires Index': [<IFP.IFP at 0x7fac3f1f0b50>]}"
      ]
     },
     "execution_count": 15,
     "metadata": {},
     "output_type": "execute_result"
    }
   ],
   "source": [
    "self.rho"
   ]
  },
  {
   "cell_type": "code",
   "execution_count": 17,
   "metadata": {},
   "outputs": [
    {
     "name": "stdout",
     "output_type": "stream",
     "text": [
      "ASKING\n",
      "Researching Before October 1, 2024, will Tech Crunch report new layoffs at Meta, Facebook or Instagram?\n",
      "ALL\n",
      "Apple has laid off 100 employees, citing economic reasons. The company has informed its employees about the decision on August 27, 2024. The layoffs are part of Apple's fourth round of layoffs in 2024. The affected employees are from the Apple Books and Apple Bookstore teams. However, the company has also laid off some employees from other service departments, including News. Apple has stated that it will provide affected employees with 60 days to find a new position within the company. This move is seen as a continuation of the industry's trend of downsizing. Other tech giants like Google, Intel, and Amazon have also laid off thousands of employees in 2024, citing the slow-down of the US economy and the aftermath of the pandemic. Apple's layoffs, although fewer in number compared to its competitors, raise questions about the company's future strategy. The company's focus on services, such as Apple News, suggests that it may be shifting its priorities to more profitable and strategic areas.\n",
      "saved asknews_for_question/27638.json\n",
      "ASKING\n",
      "Researching Will YouTube be banned in Russia before October 1, 2024?\n",
      "ALL\n",
      "Russian internet providers have begun to develop their own solutions to bypass YouTube's slowdown, allowing their customers to use the platform normally. According to 'Kommerstant', this is done by implementing special software, which is considered lawful by lawyers. The providers believe they are unlikely to be held accountable, as there is no official ban on YouTube in Russia. The government has not provided explanations for the slowdown. The director of 'Komfortel', Dmitry Petrov, thinks that operators are looking for ways to attract new subscribers before the active season by using bypassing means. Major providers 'Megafon', 'MTS', 'Vimpelcom', and 'Rostelecom' declined to comment on the information. 'Kommerstant' has sent a request to Roskomnadzor, but has not received a response yet.\n",
      "saved asknews_for_question/27640.json\n",
      "ASKING\n",
      "Researching Will \"Dilemma\" by Green Day win the award for Best Rock at the 2024 MTV VMAs?\n",
      "ALL\n",
      "The 2024 MTV Video Music Awards (VMAs) is set to take place on September 11 at the UBS Arena in New York. The show will feature a star-studded lineup of performers, including Katy Perry, who will receive the Michael Jackson Video Vanguard Award. Other performers include Sabrina Carpenter, Chappell Roan, GloRilla, Benson Boone, LISA, Halsey, Camila Cabello, Shawn Mendes, Karol G, Rauw Alejandro, Anitta, Lenny Kravitz, and LL Cool J. The performers will showcase their talents in various categories, including Best New Artist, Best Pop, and Best K-Pop. Megan Thee Stallion will host the show, and the event is expected to be filled with iconic moments and memorable performances.\n",
      "saved asknews_for_question/27637.json\n",
      "ASKING\n",
      "Researching Will the median person on Bloomberg's Billionaires Index be from the United States on September 16, 2024?\n",
      "ALL\n",
      "Despite rising interest rates and natural disasters, billionaires are still buying homes in six cities, according to a report from Realtor.com. The cities are Malibu, San Francisco, Aspen, New York City, Miami, and Palm Beach, all of which have seen sales over $50 million in 2024. The ultra-rich are finding ways to mitigate the risks, such as buying homes with hurricane-proof features, fire suppression systems, and private teams of firefighters. They are also able to pay all-cash or negotiate special deals with banks due to their longstanding relationships and massive holdings. 'For every excuse not to buy, billionaires find a workaround,' the report said.\n",
      "saved asknews_for_question/27639.json\n"
     ]
    }
   ],
   "source": [
    "        self.news = {event: None for event in self.rho}\n",
    "        for event, group in self.rho.items():\n",
    "            if self.news[event] is None:\n",
    "                print('ASKING')\n",
    "                self.news[event] = self.ask.research(group)   "
   ]
  },
  {
   "cell_type": "code",
   "execution_count": 19,
   "metadata": {},
   "outputs": [],
   "source": [
    "from RateAnalyzer import RateAnalyzer"
   ]
  },
  {
   "cell_type": "code",
   "execution_count": 20,
   "metadata": {},
   "outputs": [
    {
     "name": "stdout",
     "output_type": "stream",
     "text": [
      "RATES\n",
      "RATES Meta layoffs {'Meta layoffs': \"1. Today's date: 2024-08-28\\n2. End date of the question: 2024-10-01\\n3. Time in days from today to end date: 34 days\\n4. Specific date at which the event is most likely to occur: 2024-09-15\\n5. The likely event date is before the question end date\\n\\nBased on the provided news, there are no explicit mentions of upcoming layoffs at Meta, Facebook, or Instagram. However, the tech industry has been experiencing ongoing layoffs, and Meta has previously made significant cuts to its workforce. While Meta has announced plans to increase headcount in 2024, the company may still make strategic adjustments to its workforce.\\n\\nGiven the current economic climate and the ongoing trend of tech layoffs, it's possible that Meta could announce new layoffs before October 1, 2024. The estimated date of September 15, 2024, is chosen as a midpoint between the current date and the question's end date, allowing for the possibility of such an announcement occurring within this timeframe.\\n\\nIt's important to note that this is a speculative estimate based on general industry trends and past behavior, as there is no concrete information in the provided news about specific planned layoffs at Meta, Facebook, or Instagram before October 1, 2024.\", 'YouTube ban in Russia': None, '2024 MTV VMAs': None, 'Bloomberg Billionaires Index': None}\n",
      "RATES YouTube ban in Russia {'Meta layoffs': \"1. Today's date: 2024-08-28\\n2. End date of the question: 2024-10-01\\n3. Time in days from today to end date: 34 days\\n4. Specific date at which the event is most likely to occur: 2024-09-15\\n5. The likely event date is before the question end date\\n\\nBased on the provided news, there are no explicit mentions of upcoming layoffs at Meta, Facebook, or Instagram. However, the tech industry has been experiencing ongoing layoffs, and Meta has previously made significant cuts to its workforce. While Meta has announced plans to increase headcount in 2024, the company may still make strategic adjustments to its workforce.\\n\\nGiven the current economic climate and the ongoing trend of tech layoffs, it's possible that Meta could announce new layoffs before October 1, 2024. The estimated date of September 15, 2024, is chosen as a midpoint between the current date and the question's end date, allowing for the possibility of such an announcement occurring within this timeframe.\\n\\nIt's important to note that this is a speculative estimate based on general industry trends and past behavior, as there is no concrete information in the provided news about specific planned layoffs at Meta, Facebook, or Instagram before October 1, 2024.\", 'YouTube ban in Russia': '1. Today\\'s date: 2024-08-28\\n2. End date of the question: 2024-10-01\\n3. Time in days from today to end date: 34 days\\n4. Specific date at which the event is most likely to occur: 2024-09-15\\n5. The likely event date is before the question end date\\n\\nBased on the provided news, there are several factors suggesting that YouTube may be banned in Russia before October 1, 2024:\\n\\n1. Increasing tensions between Russian authorities and YouTube, with accusations of the platform being \"hostile\" towards Russia.\\n2. Ongoing restrictions and slowdowns of YouTube in Russia, which began in August 2024.\\n3. Reports from sources close to the Russian administration suggesting a complete ban by September 2024.\\n4. Statements from Russian officials, including Dmitry Medvedev, indicating dissatisfaction with YouTube\\'s policies.\\n5. The development of alternative platforms like VK to potentially replace YouTube.\\n\\nHowever, there are also contradictory statements from Russian officials denying plans to completely ban YouTube. Given the escalating situation and the timeline mentioned in some reports, it seems likely that a ban could be implemented around mid-September 2024, before the question\\'s end date of October 1, 2024.', '2024 MTV VMAs': None, 'Bloomberg Billionaires Index': None}\n",
      "RATES 2024 MTV VMAs {'Meta layoffs': \"1. Today's date: 2024-08-28\\n2. End date of the question: 2024-10-01\\n3. Time in days from today to end date: 34 days\\n4. Specific date at which the event is most likely to occur: 2024-09-15\\n5. The likely event date is before the question end date\\n\\nBased on the provided news, there are no explicit mentions of upcoming layoffs at Meta, Facebook, or Instagram. However, the tech industry has been experiencing ongoing layoffs, and Meta has previously made significant cuts to its workforce. While Meta has announced plans to increase headcount in 2024, the company may still make strategic adjustments to its workforce.\\n\\nGiven the current economic climate and the ongoing trend of tech layoffs, it's possible that Meta could announce new layoffs before October 1, 2024. The estimated date of September 15, 2024, is chosen as a midpoint between the current date and the question's end date, allowing for the possibility of such an announcement occurring within this timeframe.\\n\\nIt's important to note that this is a speculative estimate based on general industry trends and past behavior, as there is no concrete information in the provided news about specific planned layoffs at Meta, Facebook, or Instagram before October 1, 2024.\", 'YouTube ban in Russia': '1. Today\\'s date: 2024-08-28\\n2. End date of the question: 2024-10-01\\n3. Time in days from today to end date: 34 days\\n4. Specific date at which the event is most likely to occur: 2024-09-15\\n5. The likely event date is before the question end date\\n\\nBased on the provided news, there are several factors suggesting that YouTube may be banned in Russia before October 1, 2024:\\n\\n1. Increasing tensions between Russian authorities and YouTube, with accusations of the platform being \"hostile\" towards Russia.\\n2. Ongoing restrictions and slowdowns of YouTube in Russia, which began in August 2024.\\n3. Reports from sources close to the Russian administration suggesting a complete ban by September 2024.\\n4. Statements from Russian officials, including Dmitry Medvedev, indicating dissatisfaction with YouTube\\'s policies.\\n5. The development of alternative platforms like VK to potentially replace YouTube.\\n\\nHowever, there are also contradictory statements from Russian officials denying plans to completely ban YouTube. Given the escalating situation and the timeline mentioned in some reports, it seems likely that a ban could be implemented around mid-September 2024, before the question\\'s end date of October 1, 2024.', '2024 MTV VMAs': \"Based on the provided information, I will answer regarding the date that the event (2024 MTV VMAs) will occur:\\n\\n1. Today's date: 2024-08-28\\n2. End date of the question: Not specified in the question\\n3. Time in days from today to end date: Not applicable\\n4. Specific date at which the event is most likely to occur: 2024-09-11\\n5. Whether the likely event date is before, or on or after the question end date: Not applicable (no end date specified in the question)\\n\\nThe 2024 MTV Video Music Awards are consistently reported to take place on September 11, 2024, at the UBS Arena in Elmont, New York. This date is mentioned multiple times in the news updates provided, and appears to be the confirmed date for the event.\", 'Bloomberg Billionaires Index': None}\n",
      "RATES Bloomberg Billionaires Index {'Meta layoffs': \"1. Today's date: 2024-08-28\\n2. End date of the question: 2024-10-01\\n3. Time in days from today to end date: 34 days\\n4. Specific date at which the event is most likely to occur: 2024-09-15\\n5. The likely event date is before the question end date\\n\\nBased on the provided news, there are no explicit mentions of upcoming layoffs at Meta, Facebook, or Instagram. However, the tech industry has been experiencing ongoing layoffs, and Meta has previously made significant cuts to its workforce. While Meta has announced plans to increase headcount in 2024, the company may still make strategic adjustments to its workforce.\\n\\nGiven the current economic climate and the ongoing trend of tech layoffs, it's possible that Meta could announce new layoffs before October 1, 2024. The estimated date of September 15, 2024, is chosen as a midpoint between the current date and the question's end date, allowing for the possibility of such an announcement occurring within this timeframe.\\n\\nIt's important to note that this is a speculative estimate based on general industry trends and past behavior, as there is no concrete information in the provided news about specific planned layoffs at Meta, Facebook, or Instagram before October 1, 2024.\", 'YouTube ban in Russia': '1. Today\\'s date: 2024-08-28\\n2. End date of the question: 2024-10-01\\n3. Time in days from today to end date: 34 days\\n4. Specific date at which the event is most likely to occur: 2024-09-15\\n5. The likely event date is before the question end date\\n\\nBased on the provided news, there are several factors suggesting that YouTube may be banned in Russia before October 1, 2024:\\n\\n1. Increasing tensions between Russian authorities and YouTube, with accusations of the platform being \"hostile\" towards Russia.\\n2. Ongoing restrictions and slowdowns of YouTube in Russia, which began in August 2024.\\n3. Reports from sources close to the Russian administration suggesting a complete ban by September 2024.\\n4. Statements from Russian officials, including Dmitry Medvedev, indicating dissatisfaction with YouTube\\'s policies.\\n5. The development of alternative platforms like VK to potentially replace YouTube.\\n\\nHowever, there are also contradictory statements from Russian officials denying plans to completely ban YouTube. Given the escalating situation and the timeline mentioned in some reports, it seems likely that a ban could be implemented around mid-September 2024, before the question\\'s end date of October 1, 2024.', '2024 MTV VMAs': \"Based on the provided information, I will answer regarding the date that the event (2024 MTV VMAs) will occur:\\n\\n1. Today's date: 2024-08-28\\n2. End date of the question: Not specified in the question\\n3. Time in days from today to end date: Not applicable\\n4. Specific date at which the event is most likely to occur: 2024-09-11\\n5. Whether the likely event date is before, or on or after the question end date: Not applicable (no end date specified in the question)\\n\\nThe 2024 MTV Video Music Awards are consistently reported to take place on September 11, 2024, at the UBS Arena in Elmont, New York. This date is mentioned multiple times in the news updates provided, and appears to be the confirmed date for the event.\", 'Bloomberg Billionaires Index': \"Based on the information provided, I will answer the question about whether the median person on Bloomberg's Billionaires Index will be from the United States on September 16, 2024.\\n\\n1. Today's date: 2024-08-28\\n2. End date of the question: 2024-09-16\\n3. Time in days from today to end date: 19 days\\n4. Specific date at which the event is most likely to occur: 2024-09-16\\n5. The likely event date is on or after the question end date\\n\\nThe news provided doesn't give enough information to determine with certainty whether the median person on Bloomberg's Billionaires Index will be from the United States on September 16, 2024. However, based on the current trends and information given:\\n\\n1. The top billionaires are predominantly from the United States, with Elon Musk, Jeff Bezos, and Mark Zuckerberg occupying the top three positions.\\n2. Out of the top 10 richest people, only one (Bernard Arnault) is non-American.\\n3. There are 813 American billionaires with a combined net worth of $5.7 trillion as of 2024.\\n4. The wealth of American billionaires has generally been increasing, while some non-American billionaires (like Bernard Arnault) have seen declines in their wealth.\\n\\nGiven these factors, it seems likely that the median person on Bloomberg's Billionaires Index will be from the United States on September 16, 2024. The dominance of American billionaires in the top positions and their large overall number suggest that this trend will likely continue in the near future.\"}\n"
     ]
    }
   ],
   "source": [
    "        print('RATES')\n",
    "        self.rates = {event: None for event in self.rho}\n",
    "        for event, group in self.rho.items():\n",
    "            if self.rates[event] is None:\n",
    "                self.ra = RateAnalyzer(self.gpt)\n",
    "                self.rates[event] = self.ra.assess(group, self.news[event])\n",
    "                print('RATES', event, self.rates)"
   ]
  },
  {
   "cell_type": "code",
   "execution_count": 22,
   "metadata": {},
   "outputs": [],
   "source": [
    "from Superforecaster import Superforecaster"
   ]
  },
  {
   "cell_type": "code",
   "execution_count": 28,
   "metadata": {},
   "outputs": [],
   "source": [
    "from MetacGPT import MetacGPT\n",
    "from Critic import Critic"
   ]
  },
  {
   "cell_type": "code",
   "execution_count": 29,
   "metadata": {},
   "outputs": [],
   "source": [
    "self.gpt = MetacGPT"
   ]
  },
  {
   "cell_type": "code",
   "execution_count": 30,
   "metadata": {},
   "outputs": [
    {
     "name": "stdout",
     "output_type": "stream",
     "text": [
      "FORECASTING Meta layoffs\n",
      "REPLY {'id': 'chatcmpl-A1BvNJTKMTVMdT61ndBfMVHx5BQeI', 'object': 'chat.completion', 'created': 1724847529, 'model': 'gpt-4o-2024-05-13', 'choices': [{'index': 0, 'message': {'role': 'assistant', 'content': '|ASSESSMENT|27638|45|Given the current economic climate and ongoing trends of tech layoffs, Meta may announce new layoffs before October 1, 2024. The company has made significant workforce cuts in the past, and while it plans to increase headcount in 2024, strategic adjustments are still possible. The estimated date of September 15, 2024, allows for the possibility of such an announcement occurring within this timeframe, making it a speculative but plausible scenario.|', 'refusal': None}, 'logprobs': None, 'finish_reason': 'stop'}], 'usage': {'prompt_tokens': 4753, 'completion_tokens': 99, 'total_tokens': 4852}, 'system_fingerprint': 'fp_a2ff031fb5'}\n",
      "27638 45 Given the current economic climate and ongoing trends of tech layoffs, Meta may announce new layoffs before October 1, 2024. The company has made significant workforce cuts in the past, and while it plans to increase headcount in 2024, strategic adjustments are still possible. The estimated date of September 15, 2024, allows for the possibility of such an announcement occurring within this timeframe, making it a speculative but plausible scenario.\n",
      "REFINING 27638\n",
      "Pass 0 of 4 on 27638\n",
      "REPLY {'id': 'chatcmpl-A1BvOu0eqFmlwIFvPSONRdEaDCKe7', 'object': 'chat.completion', 'created': 1724847530, 'model': 'gpt-4o-2024-05-13', 'choices': [{'index': 0, 'message': {'role': 'assistant', 'content': '|27638|I concur|', 'refusal': None}, 'logprobs': None, 'finish_reason': 'stop'}], 'usage': {'prompt_tokens': 233, 'completion_tokens': 7, 'total_tokens': 240}, 'system_fingerprint': 'fp_cb7cc8e106'}\n",
      "27638 I concur\n",
      "concur 2\n",
      "===============================================\n",
      "FORECASTING YouTube ban in Russia\n",
      "REPLY {'id': 'chatcmpl-A1BvPtT5nopehq2FeZxiVsqym5SNT', 'object': 'chat.completion', 'created': 1724847531, 'model': 'gpt-4o-2024-05-13', 'choices': [{'index': 0, 'message': {'role': 'assistant', 'content': '|ASSESSMENT|27640|75|Given the escalating restrictions and slowdowns, along with statements from high-level officials expressing dissatisfaction with YouTube, there is a strong likelihood that YouTube may be banned by the Russian government. The denial from some officials adds uncertainty, but the balance of information points towards a likely ban before October 1, 2024. I estimate a 75% probability of the ban occurring within the specified timeframe.|', 'refusal': None}, 'logprobs': None, 'finish_reason': 'stop'}], 'usage': {'prompt_tokens': 5475, 'completion_tokens': 90, 'total_tokens': 5565}, 'system_fingerprint': 'fp_a2ff031fb5'}\n",
      "27640 75 Given the escalating restrictions and slowdowns, along with statements from high-level officials expressing dissatisfaction with YouTube, there is a strong likelihood that YouTube may be banned by the Russian government. The denial from some officials adds uncertainty, but the balance of information points towards a likely ban before October 1, 2024. I estimate a 75% probability of the ban occurring within the specified timeframe.\n",
      "REFINING 27640\n",
      "Pass 0 of 4 on 27640\n",
      "REPLY {'id': 'chatcmpl-A1BvQx3GYvRjo5PPBqTL3Ysg2gNw8', 'object': 'chat.completion', 'created': 1724847532, 'model': 'gpt-4o-2024-05-13', 'choices': [{'index': 0, 'message': {'role': 'assistant', 'content': '|27640|There are several factors at play, such as the historical actions of the Russian government in limiting foreign media, recent statements from officials, and political climate shifts. However, the 75% probability may seem a bit high given that official denials add significant uncertainty. Scaling it down slightly to account for the unpredictable nature of political decisions and the fact that outright bans are drastic steps, a probability around 60-65% might reflect the situation more appropriately.|', 'refusal': None}, 'logprobs': None, 'finish_reason': 'stop'}], 'usage': {'prompt_tokens': 221, 'completion_tokens': 94, 'total_tokens': 315}, 'system_fingerprint': 'fp_a2ff031fb5'}\n",
      "27640 There are several factors at play, such as the historical actions of the Russian government in limiting foreign media, recent statements from officials, and political climate shifts. However, the 75% probability may seem a bit high given that official denials add significant uncertainty. Scaling it down slightly to account for the unpredictable nature of political decisions and the fact that outright bans are drastic steps, a probability around 60-65% might reflect the situation more appropriately.\n",
      "REPLY {'id': 'chatcmpl-A1BvSIinwGNF0H9GqiVWhOZVdCJNu', 'object': 'chat.completion', 'created': 1724847534, 'model': 'gpt-4o-2024-05-13', 'choices': [{'index': 0, 'message': {'role': 'assistant', 'content': '|27640|65|Considering the criticism and acknowledging the unpredictable nature of political decisions, it is prudent to adjust the probability slightly downward. The current probability better accounts for the balance between the significant likelihood suggested by ongoing actions and the uncertainty added by the official denials. I now estimate a 65% probability of YouTube being banned in Russia before October 1, 2024.|', 'refusal': None}, 'logprobs': None, 'finish_reason': 'stop'}], 'usage': {'prompt_tokens': 5671, 'completion_tokens': 78, 'total_tokens': 5749}, 'system_fingerprint': 'fp_a2ff031fb5'}\n",
      "27640 65 Considering the criticism and acknowledging the unpredictable nature of political decisions, it is prudent to adjust the probability slightly downward. The current probability better accounts for the balance between the significant likelihood suggested by ongoing actions and the uncertainty added by the official denials. I now estimate a 65% probability of YouTube being banned in Russia before October 1, 2024.\n",
      "Pass 1 of 4 on 27640\n",
      "REPLY {'id': 'chatcmpl-A1BvTGZYt1porfpuKtBDfkvwuxQyI', 'object': 'chat.completion', 'created': 1724847535, 'model': 'gpt-4o-2024-05-13', 'choices': [{'index': 0, 'message': {'role': 'assistant', 'content': '|27640|I concur|', 'refusal': None}, 'logprobs': None, 'finish_reason': 'stop'}], 'usage': {'prompt_tokens': 423, 'completion_tokens': 7, 'total_tokens': 430}, 'system_fingerprint': 'fp_a2ff031fb5'}\n",
      "27640 I concur\n",
      "concur 2\n",
      "===============================================\n",
      "FORECASTING 2024 MTV VMAs\n",
      "REPLY {'id': 'chatcmpl-A1BvTClc4dIw3ZMBGLgtWFjEYdGE0', 'object': 'chat.completion', 'created': 1724847535, 'model': 'gpt-4o-2024-05-13', 'choices': [{'index': 0, 'message': {'role': 'assistant', 'content': '|ASSESSMENT|27637|25|Green Day\\'s \"Dilemma\" faces strong competition for the Best Rock award at the 2024 MTV VMAs. Other notable nominees like Coldplay, Kings of Leon, and U2 also have substantial fan bases and critical recognition. Given that Coldplay and U2 are especially known for their impactful music videos and have historically been strong contenders, I estimate Green Day\\'s \"Dilemma\" to have a moderate chance of winning, but not the highest.|', 'refusal': None}, 'logprobs': None, 'finish_reason': 'stop'}], 'usage': {'prompt_tokens': 5401, 'completion_tokens': 103, 'total_tokens': 5504}, 'system_fingerprint': 'fp_a2ff031fb5'}\n",
      "27637 25 Green Day's \"Dilemma\" faces strong competition for the Best Rock award at the 2024 MTV VMAs. Other notable nominees like Coldplay, Kings of Leon, and U2 also have substantial fan bases and critical recognition. Given that Coldplay and U2 are especially known for their impactful music videos and have historically been strong contenders, I estimate Green Day's \"Dilemma\" to have a moderate chance of winning, but not the highest.\n",
      "REFINING 27637\n",
      "Pass 0 of 4 on 27637\n",
      "REPLY {'id': 'chatcmpl-A1BvV5wQVILejczyYSa4gnBmETpwk', 'object': 'chat.completion', 'created': 1724847537, 'model': 'gpt-4o-2024-05-13', 'choices': [{'index': 0, 'message': {'role': 'assistant', 'content': '|27637|I concur|', 'refusal': None}, 'logprobs': None, 'finish_reason': 'stop'}], 'usage': {'prompt_tokens': 242, 'completion_tokens': 7, 'total_tokens': 249}, 'system_fingerprint': 'fp_a2ff031fb5'}\n",
      "27637 I concur\n",
      "concur 2\n",
      "===============================================\n",
      "FORECASTING Bloomberg Billionaires Index\n",
      "REPLY {'id': 'chatcmpl-A1BvWxeckWEGj1xLLcrVCJ1o90ZeE', 'object': 'chat.completion', 'created': 1724847538, 'model': 'gpt-4o-2024-05-13', 'choices': [{'index': 0, 'message': {'role': 'assistant', 'content': '|ASSESSMENT|27639|85|Considering the current dominance of American billionaires in the Bloomberg Billionaires Index and the recent trends indicating an increase in the wealth of American billionaires while other non-American billionaires have seen declines, it is likely that the median person on the index will be from the United States on September 16, 2024. The substantial representation of Americans in the top positions and the overall number of American billionaires support this prediction.|\\n', 'refusal': None}, 'logprobs': None, 'finish_reason': 'stop'}], 'usage': {'prompt_tokens': 5486, 'completion_tokens': 95, 'total_tokens': 5581}, 'system_fingerprint': 'fp_a2ff031fb5'}\n",
      "27639 85 Considering the current dominance of American billionaires in the Bloomberg Billionaires Index and the recent trends indicating an increase in the wealth of American billionaires while other non-American billionaires have seen declines, it is likely that the median person on the index will be from the United States on September 16, 2024. The substantial representation of Americans in the top positions and the overall number of American billionaires support this prediction.\n",
      "REFINING 27639\n",
      "Pass 0 of 4 on 27639\n",
      "REPLY {'id': 'chatcmpl-A1BvXYix2dTfcUDqd4va4zthRT65n', 'object': 'chat.completion', 'created': 1724847539, 'model': 'gpt-4o-2024-05-13', 'choices': [{'index': 0, 'message': {'role': 'assistant', 'content': '|27639|I concur|', 'refusal': None}, 'logprobs': None, 'finish_reason': 'stop'}], 'usage': {'prompt_tokens': 233, 'completion_tokens': 7, 'total_tokens': 240}, 'system_fingerprint': 'fp_157b3831f5'}\n",
      "27639 I concur\n",
      "concur 2\n",
      "===============================================\n"
     ]
    }
   ],
   "source": [
    "            \n",
    "        for event, group in self.rho.items():\n",
    "            print('FORECASTING', event)\n",
    "            self.sf = Superforecaster(self.gpt)\n",
    "            self.sf.forecast(event, self.news[event], self.rates[event], group)\n",
    "            critic = Critic(self.gpt)\n",
    "            for ifp in group:\n",
    "                print(\"REFINING\", ifp.id)\n",
    "                for i in range(self.max_tries):\n",
    "                    print(\"Pass\", i, \"of\", self.max_tries, \"on\", ifp.id)\n",
    "                    if 'concur' in ifp.feedback:\n",
    "                        print(\"concur 1\")\n",
    "                        break\n",
    "                    critic.feedback(ifp)\n",
    "                    if 'concur' in ifp.feedback:\n",
    "                        print(\"concur 2\")\n",
    "                        break\n",
    "                    self.sf.reassess(ifp)\n",
    "                print(\"===============================================\")            "
   ]
  },
  {
   "cell_type": "code",
   "execution_count": null,
   "metadata": {},
   "outputs": [],
   "source": [
    "fcst.fit()"
   ]
  },
  {
   "cell_type": "code",
   "execution_count": 31,
   "metadata": {},
   "outputs": [
    {
     "name": "stdout",
     "output_type": "stream",
     "text": [
      "27637 Will \"Dilemma\" by Green Day win the award for Best Rock at the 2024 MTV VMAs?\n",
      "Forecast 25\n",
      "Rationale Green Day's \"Dilemma\" faces strong competition for the Best Rock award at the 2024 MTV VMAs. Other notable nominees like Coldplay, Kings of Leon, and U2 also have substantial fan bases and critical recognition. Given that Coldplay and U2 are especially known for their impactful music videos and have historically been strong contenders, I estimate Green Day's \"Dilemma\" to have a moderate chance of winning, but not the highest. \n",
      "\n",
      "27638 Before October 1, 2024, will Tech Crunch report new layoffs at Meta, Facebook or Instagram?\n",
      "Forecast 45\n",
      "Rationale Given the current economic climate and ongoing trends of tech layoffs, Meta may announce new layoffs before October 1, 2024. The company has made significant workforce cuts in the past, and while it plans to increase headcount in 2024, strategic adjustments are still possible. The estimated date of September 15, 2024, allows for the possibility of such an announcement occurring within this timeframe, making it a speculative but plausible scenario. \n",
      "\n",
      "27639 Will the median person on Bloomberg's Billionaires Index be from the United States on September 16, 2024?\n",
      "Forecast 85\n",
      "Rationale Considering the current dominance of American billionaires in the Bloomberg Billionaires Index and the recent trends indicating an increase in the wealth of American billionaires while other non-American billionaires have seen declines, it is likely that the median person on the index will be from the United States on September 16, 2024. The substantial representation of Americans in the top positions and the overall number of American billionaires support this prediction. \n",
      "\n",
      "27640 Will YouTube be banned in Russia before October 1, 2024?\n",
      "Forecast 65\n",
      "Rationale Considering the criticism and acknowledging the unpredictable nature of political decisions, it is prudent to adjust the probability slightly downward. The current probability better accounts for the balance between the significant likelihood suggested by ongoing actions and the uncertainty added by the official denials. I now estimate a 65% probability of YouTube being banned in Russia before October 1, 2024. \n",
      "\n"
     ]
    }
   ],
   "source": [
    "fcst.report()"
   ]
  },
  {
   "cell_type": "code",
   "execution_count": 32,
   "metadata": {},
   "outputs": [
    {
     "name": "stdout",
     "output_type": "stream",
     "text": [
      "Prediction posted for  27637\n",
      "Comment posted for  27637\n",
      "Prediction posted for  27638\n",
      "Comment posted for  27638\n",
      "Prediction posted for  27639\n",
      "Comment posted for  27639\n",
      "Prediction posted for  27640\n",
      "Comment posted for  27640\n"
     ]
    }
   ],
   "source": [
    "fcst.upload()"
   ]
  },
  {
   "cell_type": "code",
   "execution_count": null,
   "metadata": {},
   "outputs": [],
   "source": []
  }
 ],
 "metadata": {
  "colab": {
   "provenance": []
  },
  "kernelspec": {
   "display_name": "trader",
   "language": "python",
   "name": "trader"
  },
  "language_info": {
   "codemirror_mode": {
    "name": "ipython",
    "version": 3
   },
   "file_extension": ".py",
   "mimetype": "text/x-python",
   "name": "python",
   "nbconvert_exporter": "python",
   "pygments_lexer": "ipython3",
   "version": "3.10.6"
  }
 },
 "nbformat": 4,
 "nbformat_minor": 4
}
