{
 "cells": [
  {
   "cell_type": "markdown",
   "metadata": {},
   "source": [
    "# 000 Forecasting Bot"
   ]
  },
  {
   "cell_type": "code",
   "execution_count": 1,
   "metadata": {},
   "outputs": [],
   "source": [
    "%load_ext autoreload\n",
    "%autoreload 2"
   ]
  },
  {
   "cell_type": "code",
   "execution_count": 2,
   "metadata": {},
   "outputs": [],
   "source": [
    "from IFP import IFP, list_questions"
   ]
  },
  {
   "cell_type": "code",
   "execution_count": 3,
   "metadata": {},
   "outputs": [],
   "source": [
    "ifps = list_questions()['results']"
   ]
  },
  {
   "cell_type": "code",
   "execution_count": 4,
   "metadata": {},
   "outputs": [
    {
     "data": {
      "text/plain": [
       "[28020, 28021, 28022]"
      ]
     },
     "execution_count": 4,
     "metadata": {},
     "output_type": "execute_result"
    }
   ],
   "source": [
    "today_ids = list(sorted([x['id'] for x in ifps])) if ifps else [27238, 27239, 27240, 27241]\n",
    "today_ids"
   ]
  },
  {
   "cell_type": "code",
   "execution_count": 5,
   "metadata": {},
   "outputs": [],
   "source": [
    "ifps = {id: IFP(id) for id in today_ids}"
   ]
  },
  {
   "cell_type": "code",
   "execution_count": 6,
   "metadata": {},
   "outputs": [],
   "source": [
    "from Forecaster import Forecaster"
   ]
  },
  {
   "cell_type": "code",
   "execution_count": 7,
   "metadata": {},
   "outputs": [],
   "source": [
    "fcst = Forecaster(ifps)"
   ]
  },
  {
   "cell_type": "code",
   "execution_count": 8,
   "metadata": {},
   "outputs": [
    {
     "name": "stdout",
     "output_type": "stream",
     "text": [
      "MODEL DOMAIN\n",
      "28020 Will the Boeing Starliner Commercial Crew program be canceled before October 1, 2024?\n",
      "Aerospace technology\n",
      "28021 Will the New York Yankees win more games than the Baltimore Orioles in the 2024 MLB season, before October 1, 2024?\n",
      "Sports performance\n",
      "28022 Will SpaceX make any new posts on its Updates page before October 1, 2024? \n",
      "Aerospace technology\n",
      "CORRELATOR\n",
      "|Boeing Starliner Program|28020|Will the Boeing Starliner Commercial Crew program be canceled before October 1, 2024?|\n",
      "|2024 MLB Season Outcome|28021|Will the New York Yankees win more games than the Baltimore Orioles in the 2024 MLB season, before October 1, 2024?|\n",
      "|SpaceX Updates|28022|Will SpaceX make any new posts on its Updates page before October 1, 2024?|\n",
      "NEWS\n",
      "ASKING\n",
      "Researching Will the Boeing Starliner Commercial Crew program be canceled before October 1, 2024?\n",
      "ALL\n",
      "NASA's decision to leave astronauts Butch Wilmore and Suni Williams on the International Space Station due to issues with Boeing's Starliner spacecraft has been vindicated after the craft's return to Earth. The Starliner experienced a failed thruster and temporary guidance system blackout during re-entry, raising questions about its safety. NASA's commercial crew program manager Steve Stich said, 'I think we made the right decision not to have Butch and Suni on board.' The issues with Starliner's thrusters, which failed during docking with the ISS, and overheating problems have led to a chasm between NASA and Boeing, with NASA viewing the data and uncertainty differently than Boeing. The next Starliner launch, scheduled for August 2025, is now uncertain due to the ongoing concerns about Boeing's space flight ambitions.\n",
      "saved asknews_for_question/28020.json\n",
      "ASKING\n",
      "Researching Will the New York Yankees win more games than the Baltimore Orioles in the 2024 MLB season, before October 1, 2024?\n",
      "ALL\n",
      "The Baltimore Orioles (82-63) and Boston Red Sox (73-71) play the 2nd game of a 3-game series on Tuesday. The Orioles need a win to stay 1½ games behind the AL East-leading New York Yankees. They have done well against the Red Sox this season, taking 7 of the 11 meetings and outscoring Boston 66-54. The recommended bet is the Orioles (-108) to win, as they have a good shot to get back on track. Additionally, the recommended bet is the Under 9.5 (-118) in the total, as the Under has hit in 3 of the last 5 meetings and both pitchers, RHP Albert Suarez and RHP Kutter Crawford, have been reliable for Under bettors.\n",
      "saved asknews_for_question/28021.json\n",
      "ASKING\n",
      "Researching Will SpaceX make any new posts on its Updates page before October 1, 2024?\n",
      "ALL\n",
      "Focus Entertainment has announced that the first post-launch update for Warhammer 40,000: Space Marine 2 will be released this week. The patch will address persistent crashing issues, optimize performance, and fix a bug that has prevented some players from joining multiplayer matches. According to a Steam post, the bug has caused players to get stuck on 'Joining Server' and lose out on rewards after being disconnected from the server. The update will also include private PvE lobbies, ultrawide support, and the Battle Barge Sparring Arena. A post-launch roadmap has been shared, which includes several free updates, including Season 2 in Fall 2024, featuring new PvE missions, a new lethal difficulty, and new cosmetics.\n",
      "saved asknews_for_question/28022.json\n",
      "RATES\n",
      "RATES Boeing Starliner Program {'Boeing Starliner Program': \"1. Today's Date: 2024-09-10\\n2. End Date: 2024-10-01\\n3. Time in Days (D): 21\\n4. Specific Date of Likely Event: 2024-09-07\\n5. Likely Event Date is before the Question End Date\", '2024 MLB Season Outcome': None, 'SpaceX Updates': None}\n",
      "RATES 2024 MLB Season Outcome {'Boeing Starliner Program': \"1. Today's Date: 2024-09-10\\n2. End Date: 2024-10-01\\n3. Time in Days (D): 21\\n4. Specific Date of Likely Event: 2024-09-07\\n5. Likely Event Date is before the Question End Date\", '2024 MLB Season Outcome': \"### Date and Likelihood Evaluation:\\n\\n1. **Today's Date:** 2024-09-10\\n2. **End Date of the Question:** 2024-10-01\\n3. **Time in Days D from Today to End Date:** 21 days\\n4. **The Specific Date at Which the Event is Most Likely to Occur:** The MLB season ends on October 1, 2024.\\n5. **Whether the Likely Event Date is Before, or On or After the Question End Date:** On the question end date (2024-10-01)\\n\\nGiven the current and detailed competitive outlook for both the New York Yankees and Baltimore Orioles as of 2024-09-10, it's most likely that the determination of whether the Yankees will win more games than the Orioles will come right up to, or conclude on, the end date of the MLB regular season, which is October 1, 2024.\", 'SpaceX Updates': None}\n",
      "RATES SpaceX Updates {'Boeing Starliner Program': \"1. Today's Date: 2024-09-10\\n2. End Date: 2024-10-01\\n3. Time in Days (D): 21\\n4. Specific Date of Likely Event: 2024-09-07\\n5. Likely Event Date is before the Question End Date\", '2024 MLB Season Outcome': \"### Date and Likelihood Evaluation:\\n\\n1. **Today's Date:** 2024-09-10\\n2. **End Date of the Question:** 2024-10-01\\n3. **Time in Days D from Today to End Date:** 21 days\\n4. **The Specific Date at Which the Event is Most Likely to Occur:** The MLB season ends on October 1, 2024.\\n5. **Whether the Likely Event Date is Before, or On or After the Question End Date:** On the question end date (2024-10-01)\\n\\nGiven the current and detailed competitive outlook for both the New York Yankees and Baltimore Orioles as of 2024-09-10, it's most likely that the determination of whether the Yankees will win more games than the Orioles will come right up to, or conclude on, the end date of the MLB regular season, which is October 1, 2024.\", 'SpaceX Updates': \"1. Today's date: 2024-09-10\\n2. End date of the question: 2024-10-01\\n3. Time in days (D): 21 days\\n4. Specific date at which the event is most likely to occur: September 18, 2024 (assuming SpaceX typically posts updates every 1-2 weeks based on past behavior)\\n5. Whether the likely event date is before, or on or after the question end date: Before the question end date\"}\n",
      "FORECASTING Boeing Starliner Program\n",
      "28020 10 Given the current timeline and indications from both Boeing and NASA, it is unlikely that the Boeing Starliner Commercial Crew program will be canceled before October 1, 2024. While there are severe technical issues and financial concerns, both parties appear committed to continue working on resolving these issues and have not indicated any immediate plans to cease the program. Therefore, the probability of cancellation by the specified date is low.\n",
      "FORECASTING 2024 MLB Season Outcome\n",
      "28021 60 Given the slight advantages in schedule difficulty and home games for the Yankees, along with their recent performance improvements and the Orioles' more challenging remaining schedule, I estimate a 60% probability that the Yankees will finish the 2024 MLB season with more wins than the Orioles by October 1, 2024. This forecast accounts for the current standings, remaining games, and both teams' recent form as described in the background information.\n",
      "FORECASTING SpaceX Updates\n",
      "28022 85 SpaceX is actively involved in numerous high-visibility missions, including Polaris Dawn. Given their track record of regular updates around such events, it is highly likely they will post at least one new update before October 1, 2024. This is especially true since updates tend to follow significant mission milestones or operational updates.\n"
     ]
    }
   ],
   "source": [
    "fcst.fit()"
   ]
  },
  {
   "cell_type": "code",
   "execution_count": 9,
   "metadata": {},
   "outputs": [
    {
     "name": "stdout",
     "output_type": "stream",
     "text": [
      "28020 10\n",
      "28021 60\n",
      "28022 85\n"
     ]
    }
   ],
   "source": [
    "for ifp in ifps.values():\n",
    "    try:\n",
    "        print(ifp.id, ifp.forecast)\n",
    "    except:\n",
    "        print(ifp.id, 'none')"
   ]
  },
  {
   "cell_type": "code",
   "execution_count": 10,
   "metadata": {},
   "outputs": [
    {
     "name": "stdout",
     "output_type": "stream",
     "text": [
      "28020 Will the Boeing Starliner Commercial Crew program be canceled before October 1, 2024?\n",
      "Forecast 10\n",
      "Rationale Given the current timeline and indications from both Boeing and NASA, it is unlikely that the Boeing Starliner Commercial Crew program will be canceled before October 1, 2024. While there are severe technical issues and financial concerns, both parties appear committed to continue working on resolving these issues and have not indicated any immediate plans to cease the program. Therefore, the probability of cancellation by the specified date is low. \n",
      "\n",
      "28021 Will the New York Yankees win more games than the Baltimore Orioles in the 2024 MLB season, before October 1, 2024?\n",
      "Forecast 60\n",
      "Rationale Given the slight advantages in schedule difficulty and home games for the Yankees, along with their recent performance improvements and the Orioles' more challenging remaining schedule, I estimate a 60% probability that the Yankees will finish the 2024 MLB season with more wins than the Orioles by October 1, 2024. This forecast accounts for the current standings, remaining games, and both teams' recent form as described in the background information. \n",
      "\n",
      "28022 Will SpaceX make any new posts on its Updates page before October 1, 2024? \n",
      "Forecast 85\n",
      "Rationale SpaceX is actively involved in numerous high-visibility missions, including Polaris Dawn. Given their track record of regular updates around such events, it is highly likely they will post at least one new update before October 1, 2024. This is especially true since updates tend to follow significant mission milestones or operational updates. \n",
      "\n"
     ]
    }
   ],
   "source": [
    "fcst.report()"
   ]
  },
  {
   "cell_type": "code",
   "execution_count": 11,
   "metadata": {},
   "outputs": [
    {
     "name": "stdout",
     "output_type": "stream",
     "text": [
      "Prediction posted for  28020\n",
      "Comment posted for  28020\n",
      "Prediction posted for  28021\n",
      "Comment posted for  28021\n",
      "Prediction posted for  28022\n",
      "Comment posted for  28022\n"
     ]
    }
   ],
   "source": [
    "fcst.upload()"
   ]
  },
  {
   "cell_type": "code",
   "execution_count": null,
   "metadata": {},
   "outputs": [],
   "source": []
  }
 ],
 "metadata": {
  "colab": {
   "provenance": []
  },
  "kernelspec": {
   "display_name": "trader",
   "language": "python",
   "name": "trader"
  },
  "language_info": {
   "codemirror_mode": {
    "name": "ipython",
    "version": 3
   },
   "file_extension": ".py",
   "mimetype": "text/x-python",
   "name": "python",
   "nbconvert_exporter": "python",
   "pygments_lexer": "ipython3",
   "version": "3.10.6"
  }
 },
 "nbformat": 4,
 "nbformat_minor": 4
}
