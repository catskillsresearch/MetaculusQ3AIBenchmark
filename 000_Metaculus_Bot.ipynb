{
 "cells": [
  {
   "cell_type": "markdown",
   "metadata": {},
   "source": [
    "# 000 Forecasting Bot"
   ]
  },
  {
   "cell_type": "markdown",
   "metadata": {},
   "source": [
    "Starting from https://colab.research.google.com/drive/1_Il5h2Ed4zFa6Z3bROVCE68LZcSi4wHX?usp=sharing"
   ]
  },
  {
   "cell_type": "markdown",
   "metadata": {
    "jp-MarkdownHeadingCollapsed": true
   },
   "source": [
    "## Imports"
   ]
  },
  {
   "cell_type": "code",
   "execution_count": 1,
   "metadata": {},
   "outputs": [],
   "source": [
    "from IPython.display import Markdown\n",
    "from omegaconf import OmegaConf\n",
    "import datetime,json, os, requests, re\n",
    "from openai import OpenAI\n",
    "from tqdm import tqdm"
   ]
  },
  {
   "cell_type": "markdown",
   "metadata": {
    "jp-MarkdownHeadingCollapsed": true
   },
   "source": [
    "## Today"
   ]
  },
  {
   "cell_type": "code",
   "execution_count": 2,
   "metadata": {},
   "outputs": [
    {
     "data": {
      "text/plain": [
       "'2024-08-03'"
      ]
     },
     "execution_count": 2,
     "metadata": {},
     "output_type": "execute_result"
    }
   ],
   "source": [
    "import datetime\n",
    "today = str(datetime.datetime.now())[0:10]\n",
    "today"
   ]
  },
  {
   "cell_type": "markdown",
   "metadata": {
    "jp-MarkdownHeadingCollapsed": true
   },
   "source": [
    "## API Keys"
   ]
  },
  {
   "cell_type": "markdown",
   "metadata": {},
   "source": [
    "In order to run this notebook as is, you'll need to enter a few API keys (use the key icon on the left to input them):\n",
    "\n",
    "- `METACULUS_TOKEN`: you can find your Metaculus token under your bot's user settings page: https://www.metaculus.com/accounts/settings/, or on the bot registration page where you created the account: https://www.metaculus.com/aib/\n",
    "- `OPENAPI_API_KEY`: get one from OpenAIs page: https://platform.openai.com/settings/profile?tab=api-keys\n",
    "- `PERPLEXITY_API_KEY` - used to search up-to-date information about the question. Get one from https://www.perplexity.ai/settings/api\n",
    "- `ASKNEWS_CLIENT_ID`, `ASKNEWS_SECRET`"
   ]
  },
  {
   "cell_type": "code",
   "execution_count": 3,
   "metadata": {},
   "outputs": [],
   "source": [
    "token_fn = \"tokens.yaml\""
   ]
  },
  {
   "cell_type": "raw",
   "metadata": {},
   "source": [
    "tokens = OmegaConf.create(\"\"\"\n",
    "METACULUS_TOKEN: xx\n",
    "OPENAI_API_KEY: yy\n",
    "OPENAI_MODEL: gpt-4o\n",
    "PERPLEXITY_API_KEY: zz\n",
    "PERPLEXITY_MODEL: llama-3-sonar-large-32k-online\"\"\")\n",
    "OmegaConf.save(config=tokens, f=token_fn)"
   ]
  },
  {
   "cell_type": "code",
   "execution_count": 4,
   "metadata": {},
   "outputs": [],
   "source": [
    "config = OmegaConf.load(token_fn)\n",
    "\n",
    "def pr(tokens):\n",
    "    print(OmegaConf.to_yaml(config))"
   ]
  },
  {
   "cell_type": "markdown",
   "metadata": {
    "id": "iDukuXArbgdm",
    "jp-MarkdownHeadingCollapsed": true
   },
   "source": [
    "## LLM and Metaculus Interaction"
   ]
  },
  {
   "cell_type": "markdown",
   "metadata": {
    "id": "iDukuXArbgdm"
   },
   "source": [
    "This section sets up some simple helper code you can use to get data about forecasting questions and to submit a prediction"
   ]
  },
  {
   "cell_type": "code",
   "execution_count": 5,
   "metadata": {
    "id": "HifodCwcGU0j"
   },
   "outputs": [],
   "source": [
    "AUTH_HEADERS = {\"headers\": {\"Authorization\": f\"Token {config.METACULUS_TOKEN}\"}}\n",
    "API_BASE_URL = \"https://www.metaculus.com/api2\"\n",
    "WARMUP_TOURNAMENT_ID = 3349\n",
    "SUBMIT_PREDICTION = True\n",
    "\n",
    "def find_number_before_percent(s):\n",
    "    # Use a regular expression to find all numbers followed by a '%'\n",
    "    matches = re.findall(r'(\\d+)%', s)\n",
    "    if matches:\n",
    "        # Return the last number found before a '%'\n",
    "        return int(matches[-1])\n",
    "    else:\n",
    "        # Return None if no number found\n",
    "        return None\n",
    "\n",
    "def post_question_comment(question_id, comment_text):\n",
    "    \"\"\"\n",
    "    Post a comment on the question page as the bot user.\n",
    "    \"\"\"\n",
    "\n",
    "    response = requests.post(\n",
    "        f\"{API_BASE_URL}/comments/\",\n",
    "        json={\n",
    "            \"comment_text\": comment_text,\n",
    "            \"submit_type\": \"N\",\n",
    "            \"include_latest_prediction\": True,\n",
    "            \"question\": question_id,\n",
    "        },\n",
    "        **AUTH_HEADERS,\n",
    "    )\n",
    "    response.raise_for_status()\n",
    "    print(\"Comment posted for \", question_id)\n",
    "\n",
    "def post_question_prediction(question_id, prediction_percentage):\n",
    "    \"\"\"\n",
    "    Post a prediction value (between 1 and 100) on the question.\n",
    "    \"\"\"\n",
    "    url = f\"{API_BASE_URL}/questions/{question_id}/predict/\"\n",
    "    response = requests.post(\n",
    "        url,\n",
    "        json={\"prediction\": float(prediction_percentage) / 100},\n",
    "        **AUTH_HEADERS,\n",
    "    )\n",
    "    response.raise_for_status()\n",
    "    print(\"Prediction posted for \", question_id)\n",
    "\n",
    "\n",
    "def get_question_details(question_id):\n",
    "    \"\"\"\n",
    "    Get all details about a specific question.\n",
    "    \"\"\"\n",
    "    url = f\"{API_BASE_URL}/questions/{question_id}/\"\n",
    "    response = requests.get(\n",
    "        url,\n",
    "        **AUTH_HEADERS,\n",
    "    )\n",
    "    response.raise_for_status()\n",
    "    return json.loads(response.content)\n",
    "\n",
    "def list_questions(tournament_id=WARMUP_TOURNAMENT_ID, offset=0, count=1000):\n",
    "    \"\"\"\n",
    "    List (all details) {count} questions from the {tournament_id}\n",
    "    \"\"\"\n",
    "    url_qparams = {\n",
    "        \"limit\": count,\n",
    "        \"offset\": offset,\n",
    "        \"has_group\": \"false\",\n",
    "        \"order_by\": \"-activity\",\n",
    "        \"forecast_type\": \"binary\",\n",
    "        \"project\": tournament_id,\n",
    "        \"status\": \"open\",\n",
    "        \"type\": \"forecast\",\n",
    "        \"include_description\": \"true\",\n",
    "    }\n",
    "    url = f\"{API_BASE_URL}/questions/\"\n",
    "    response = requests.get(url, **AUTH_HEADERS, params=url_qparams)\n",
    "    response.raise_for_status()\n",
    "    data = json.loads(response.content)\n",
    "    return data"
   ]
  },
  {
   "cell_type": "markdown",
   "metadata": {},
   "source": [
    "## IFP"
   ]
  },
  {
   "cell_type": "code",
   "execution_count": 191,
   "metadata": {},
   "outputs": [],
   "source": [
    "class IFP:\n",
    "\n",
    "    forecast_fields = ['question_id',\n",
    "                       'title',\n",
    "                       'feedback',\n",
    "                       'resolution_criteria', \n",
    "                       'background', \n",
    "                       'event', \n",
    "                       'model_domain']\n",
    "\n",
    "    forecast_format = f\"|{'|'.join(forecast_fields)}|\"\n",
    "\n",
    "    openai_max_tokens = 30000\n",
    "\n",
    "    def format(self):\n",
    "        rec = vars(self)\n",
    "        fmt = '|'.join([f\"{x}: {rec[x]}\" for x in self.forecast_fields])\n",
    "        return '|' + fmt + '|'\n",
    "\n",
    "    def over_openai_max(self):\n",
    "        sep = self.format()\n",
    "        return len(sep.split(' ')) > self.openai_max_tokens # Max limit for OpenAI\n",
    "\n",
    "    def record(self):\n",
    "        return self.format()\n",
    "        if self.over_openai_max(): \n",
    "            self.news = ' '.join(self.news.split(' ')[0:int(0.5*self.openai_max_tokens)])\n",
    "        if self.over_openai_max(): \n",
    "            self.research = ' '.join(self.research.split(' ')[0:int(0.5*self.openai_max_tokens)])\n",
    "        if self.over_openai_max(): \n",
    "            raise Exception('IFP record over OpenAI max')\n",
    "        return self.format()\n",
    "\n",
    "    def __init__(self, question_id):\n",
    "        self.question_id = question_id\n",
    "        self.question_details = get_question_details(self.question_id)\n",
    "        self.today = datetime.datetime.now().strftime(\"%Y-%m-%d\")   \n",
    "        self.title = self.question_details[\"title\"]\n",
    "        self.resolution_criteria = self.question_details[\"resolution_criteria\"]\n",
    "        self.background = self.question_details[\"description\"]\n",
    "        self.fine_print = self.question_details[\"fine_print\"]\n",
    "        self.event = ''\n",
    "        self.model_domain = ''\n",
    "        self.feedback = ''\n",
    "\n",
    "    def report(self):\n",
    "        rpt = f\"\"\"\n",
    "The future event is described by this question: [ {self.title} ]\n",
    "The resolution criteria are: [ {self.resolution_criteria} ]\n",
    "The background is: [ {self.background} ]\"\"\"\n",
    "        if self.fine_print:\n",
    "            rpt += f\"\"\"\n",
    "The fine print is: [ {self.fine_print} ]\"\"\"\n",
    "        return rpt\n",
    "\n",
    "    def upload(self):\n",
    "        post_question_prediction(self.question_id, self.forecast)\n",
    "        post_question_comment(self.question_id, self.rationale)"
   ]
  },
  {
   "cell_type": "code",
   "execution_count": 192,
   "metadata": {},
   "outputs": [],
   "source": [
    "unit_test = True"
   ]
  },
  {
   "cell_type": "code",
   "execution_count": 193,
   "metadata": {},
   "outputs": [
    {
     "name": "stdout",
     "output_type": "stream",
     "text": [
      "|question_id: 26775|title: Will someone other than Fabiano Caruana, Alireza Firouzja, Praggnanandhaa Rameshbabu, or Gukesh Dommaraju win the 2024 Grand Chess Tour?|feedback: |resolution_criteria: This question will resolve Yes if someone other than Fabiano Caruana, Alireza Firouzja, Praggnanandhaa Rameshbabu, or Gukesh Dommaraju wins the 2024 Grand Chess Tour, according to the Grand Chess Tour site or credible sources.|background: The Grand Chess Tour consists of [five chess tournaments](https://grandchesstour.org/tours/2024/), where the nine Tour players (listed above) can recieve Grand Chess Tour points, according to their place in the tournaments. Three of the five tournaments are already finished with the \"2024 SAINT LOUIS RAPID & BLITZ\" and the \"2024 SINQUEFIELD CUP\" still to go.  Leaving one tournament with the quicker time controls of \"Blitz\" and \"Rapid\" as well as one tournament in a longer, \"Classical\" time control still to be played.\n",
      "\n",
      "The [current standings](https://grandchesstour.org/tours/2024/standings/) show Caruana leading the Tour with 22.25 points in front of Firouzja with 17.58 points and Praggnanandhaa with 16.25 points.\n",
      "\n",
      "See also Wikipedia: [Grand Chess Tour 2024](https://en.wikipedia.org/wiki/Grand_Chess_Tour_2024)|event: |model_domain: |\n"
     ]
    }
   ],
   "source": [
    "if unit_test:\n",
    "    qid = 26775\n",
    "    ifp = IFP(qid)\n",
    "    ifps = {qid: ifp}\n",
    "    print(ifp.record())"
   ]
  },
  {
   "cell_type": "code",
   "execution_count": 194,
   "metadata": {},
   "outputs": [
    {
     "data": {
      "text/plain": [
       "'|question_id|title|feedback|resolution_criteria|background|event|model_domain|'"
      ]
     },
     "execution_count": 194,
     "metadata": {},
     "output_type": "execute_result"
    }
   ],
   "source": [
    "IFP.forecast_format"
   ]
  },
  {
   "cell_type": "markdown",
   "metadata": {},
   "source": [
    "## News source (AskNews)"
   ]
  },
  {
   "cell_type": "raw",
   "metadata": {},
   "source": [
    "pip install asknews"
   ]
  },
  {
   "cell_type": "markdown",
   "metadata": {},
   "source": [
    "https://colab.research.google.com/drive/1tc383HraMZOiyfKFF1EXAtlTYbsuv3Q5?usp=sharing"
   ]
  },
  {
   "cell_type": "code",
   "execution_count": 199,
   "metadata": {},
   "outputs": [],
   "source": [
    "from asknews_sdk import AskNewsSDK\n",
    "\n",
    "def asknews_to_dict(x):\n",
    "    return dict([x.split(': ', 1) for x in x.split('\\n')])\n",
    "\n",
    "class AskNews():\n",
    "\n",
    "    def __init__(self):\n",
    "        ASKNEWS_CLIENT_ID = config.ASKNEWS_CLIENT_ID\n",
    "        ASKNEWS_SECRET = config.ASKNEWS_SECRET\n",
    "        \n",
    "        self.ask = AskNewsSDK(\n",
    "              client_id=config.ASKNEWS_CLIENT_ID,\n",
    "              client_secret=config.ASKNEWS_SECRET,\n",
    "              scopes=[\"news\"]\n",
    "          )\n",
    "        \n",
    "    def query(self, \n",
    "              q, \n",
    "              method,    # use \"nl\" for natural language for your search, or \"kw\" for keyword, or 'both'\n",
    "              strategy): # strategy=\"latest news\" enforces looking at the latest news only\n",
    "                         # strategy=\"news knowledge\" looks for relevant news within the past 60 days\n",
    "        return ask.ask.news.search_news(\n",
    "            query=q, # your keyword query\n",
    "            n_articles=10, # control the number of articles to include in the context\n",
    "            return_type=\"dicts\",  # you can also ask for \"dicts\" if you want more information\n",
    "            method=method, \n",
    "            strategy=strategy).as_dicts # strategy=\"latest news\" enforces looking at the latest news only,\n",
    "\n",
    "    def multi_strategy(self, q):\n",
    "        all = []\n",
    "        for strategy in ['latest news', 'news knowledge']:\n",
    "            for x in self.query(q, 'both', strategy):\n",
    "                all.append(x.summary)\n",
    "        all = list(set(all))\n",
    "        return '\\n\\n'.join(all)\n",
    "\n",
    "    def research(self, event, group):\n",
    "        q = '\\n'.join(ifp.title.strip() for ifp in group)\n",
    "        news = self.multi_strategy(q)\n",
    "        return news"
   ]
  },
  {
   "cell_type": "code",
   "execution_count": 200,
   "metadata": {},
   "outputs": [
    {
     "name": "stdout",
     "output_type": "stream",
     "text": [
      "The Superbet Chess Classic Romania resumed after a rest day, with GM Fabiano Caruana maintaining his lead after drawing with GM Ian Nepomniachtchi. GM Alireza Firouzja joined GMs Praggnanandhaa Rameshbabu and Gukesh Dommaraju in second place after defeating GM Wesley So. The games of GM Nodirbek Abdusattorov vs. GM Anish Giri and GM Maxime Vachier-Lagrave vs. GM Gukesh Dommaraju also ended in draws. The tournament will continue with the seventh round on July 3.\n",
      "\n",
      "Russian grandmaster Yan Nepomnyashchy was surprised by the loss of Norwegian Magnus Carlsen to Hungarian Richard Rapport at the World Rapid and Blitz Chess Championship. Nepomnyashchy was seated next to the table and watched the game. The tournament is taking place from August 1 to 6 in Astana, Kazakhstan, with 315 top chess players participating. Carlsen, 33, is a 16-time world chess champion (2013-2023) and the winner of the 2023 World Cup.\n",
      "\n",
      "Russian grandmaster Yan Nepomnyashchy was surprised by his teammate Magnus Carlsen's loss to Richard Rapport of Hungary in the team world championship. Nepomnyashchy played a draw with Hikaru Martirosyan of Armenia in his own game. The WR Chess Team ultimately lost 1-5 to the Chessy team. After five rounds, Al-Ain ACMG UAE is leading with 21.5 points, followed closely by Chessy with 21 points. WR Chess Team, with Carlsen and Nepomnyashchy, is currently in 11th place with 16 points. The team world championship is being held in Astana, Kazakhstan from August 1 to 6.\n",
      "\n",
      "Fabiano Caruana is back to being the number two in the world with a 2800+ rating after beating Bogdan-Daniel Deac in the Superbet Chess Classic Romania. Praggnanandhaa Rameshbabu and Gukesh Dommaraju are tied for second place. The tournament was visited by Garry Kasparov, who made the ceremonial first move in the game between Alireza Firouzja and Gukesh. Kasparov emphasized the importance of preserving classical chess, saying 'The preservation of classical chess, I think, is very important for helping players to realize their full potential, to put on display what they can do.' Caruana explained his winning strategy, saying 'It's a very tricky kind of modern line.' Praggnanandhaa's win over Anish Giri was due to a single move, 19.b4!, which put Giri in trouble. Ian Nepomniachtchi and Wesley So drew, while Nodirbek Abdusattorov and Maxime Vachier-Lagrave also drew. The tournament continues with the fifth round on Sunday, June 30.\n",
      "\n",
      "The World Rapid and Blitz Chess Championship has started in Astana, Kazakhstan. The first day of the tournament saw a surprise defeat for Magnus Carlsen, the world's top-ranked chess player, in the third round. Carlsen's team, WR Chess Team, was leading the tournament with three wins, but they lost to Chessy in the third round. The team's performance was disappointing, as they had won 10 matches in a row last year without losing. The tournament is being held in Astana, and it features 38 teams from around the world. The teams are competing in a Swiss system, where the top teams are paired against each other in the early rounds. The championship is not only a competition between teams, but also a cultural event, with various side events and exhibitions. One of the side events is a photography exhibition by Stev Bonhage, a world-renowned photographer, who has captured the world of chess through his lens. The exhibition features 24 photographs on textile basis, showcasing the beauty and complexity of chess. The championship will continue for several days, with the top teams competing for the title.\n",
      "\n",
      "Azerbaijani chess player Ayan Allahverdiyeva is in the lead in the rapid and blitz championship among youth in Tashkent, Uzbekistan. According to Idman.biz, after 6 rounds in the rapid tournament, Allahverdiyeva is in first place with 4.5 points, taking the 3rd place among players under 20 years old. Her teammate, Khazar Babazade, has 3.5 points and is ranked 14th. The final 3 rounds of the rapid tournament will take place tomorrow, and the last day of the competition will feature a blitz tournament. 'It will be a challenging day for all the players,' said the organizers. 'The players will have to show their skills in both rapid and blitz chess.' \n",
      "\n",
      "In the second round of the Superbet Chess Classic, Gukesh Dommaraju drew with Ian Nepomniachtchi, while Rameshbabu Praggnanandhaa shared points with Maxime Vachier-Lagrave. Alireza Firouzja won against Nodirbek Abdusattorov, and Fabiano Caruana drew with Wesley So. The tournament is a part of the Grand Chess tour in Bucharest, with a prize money of $350,000. Gukesh and Caruana are currently leading the tournament with 1.5 points each, followed by Alireza, Praggnanandhaa, Giri, Vachier-Lagrave, and Nepomniachtchi with one point each.\n",
      "\n",
      "Magnus Carlsen led WR Chess to a win over GMs Daniil Dubov and Ding Liren, but his team trails Al-Ain ACMG UAE by three points. Al-Ain's GM Parham Maghsoodloo was the standout performer, defeating GMs Ian Nepomniachtchi, Jorden van Foreest, and Timur Gareyev. With one day and four rounds remaining, Al-Ain holds the sole lead, a point ahead of Decade China Team and two points clear of Chessy and Team MGD1. According to the FIDE World Rapid Team Championship Standings, Al-Ain has taken the top spot, with Decade China and Chessy following closely behind.\n",
      "\n",
      "Fabiano Caruana, the world's second-ranked chess player, successfully defended his Superbet Classic title by winning all three rapid games in a four-way tiebreaker against Indian Grandmasters D Gukesh and R Praggnanandhaa, as well as France's Alireza Firouzja. The classical section of the competition ended in a four-way tie for first place, with Caruana ultimately emerging victorious and claiming the first prize of USD 68,500.\n",
      "\n",
      "In the seventh round of the Superbet Chess Classic 2024, Grandmaster D. Gukesh drew with tournament leader Fabiano Caruana, while R. Praggnanandhaa drew with Ian Nepomniachtchi. The results left the lead positions unchanged, with Caruana still in first place with 4.5 points. Gukesh, Praggnanandhaa, and Alireza Firouzja are all half a point behind. The tournament will conclude with two more rounds, with the next round likely to decide the final outcome.\n",
      "\n",
      "Hans Moke Niemann, a 21-year-old American grandmaster, has been accused of cheating multiple times in his chess career. Despite this, he has continued to climb the chess rankings, reaching a career-high rating of 2711. Niemann's aggressive playing style and arrogant showmanship have made him a polarizing figure in the chess community. He has been involved in several high-profile controversies, including a lawsuit against top-ranked player Magnus Carlsen and a ban from the Saint Louis Chess Club for destroying a hotel room and making disparaging comments about other players. Despite these setbacks, Niemann remains confident in his abilities and has vowed to become the number one chess player in the world. His rivalry with Carlsen is expected to be a major storyline in the chess world, with the two players set to face off in a potential rematch. 'I accept and I encourage any further attacks on my career and life,' Niemann said in an interview. 'By trying to destroy me, you know, someone who is so innocent, it only destroys themselves from within. So I hope that they continue. Because they're just feeding the monster.'\n",
      "\n",
      "The World Chess Championship has started in Tashkent, Uzbekistan, with around 300 players from 17 countries competing for the win. The tournament will be held in rapid and blitz formats on August 2-4 and 6-7, respectively. According to the organizers, the participants have arrived from Azerbaijan, Belarus, China, Spain, Hungary, India, Iran, Kazakhstan, Kyrgyzstan, Mongolia, Nigeria, Slovenia, Russia, Tajikistan, Turkmenistan, UAE, and the US. The prestigious tournament will begin after the opening ceremony, and the winners and prize-winners will be announced on August 7. 'The World Chess Championship is a significant event that brings together the best chess players from around the world,' said the organizers. 'We are excited to see the competition and the skills of the players.' \n",
      "\n",
      "The Superbet Classic, the second event of the 2024 Grand Chess Tour, has started with two wins for Fabiano Caruana and D Gukesh. Caruana's win came after he played a 'dodgy' opening, which he described as 'much worse than dodgy', even 'close to lost'. However, he managed to outplay Alireza Firouzja in a complex battle. Gukesh also won his first classical game since his victory at the Candidates Tournament, outplaying Bogdan-Daniel Deac in a position that saw the evaluation favouring either contender at different points of the game. The remaining three games ended drawn, with Nodirbek Abdusattorov and R Praggnanandhaa playing the longest encounter that ended peacefully.\n",
      "\n",
      "The U.S. Open chess tournament has reached a thrilling point, with nine players tied for first place after the seventh round. The $60,000 prize fund is up for grabs, with a number of top players still in the running for the $10,000 top prize and a spot in the U.S. Championship. According to IM Sandeep Sethuraman, 'it really felt like a national event' when the three separate playing schedules merged. The players in the lead include GM Jianchao Zhou, GM Elshan Moradiabadi, GM Fidel Corrales, GM Semen Khanin, GM Akshat Chandra, GM Mackenzie Molner, FM Tanitoluwa Adewumi, CM Avi Kaplan, and Nicholas Ladan. With two rounds to go, the competition is heating up, and the U.S. Open National Blitz Championship begins at noon today.\n",
      "\n",
      "Alireza Firouzja has joined the top three at the Superbet Chess Classic after defeating Wesley So in the sixth round. Firouzja sacrificed a pawn to gain a strong initiative and converted his positional advantage into a 31-move win. The victory allowed him to catch up with Praggnanandhaa and Gukesh, who are now tied for second place, half a point behind leader Fabiano Caruana. Caruana remains the only player with a +2 score. The three youngsters, Firouzja, Praggnanandhaa, and Gukesh, have realistic chances of claiming overall victory in the Grand Chess Tour. Gukesh showed great defensive abilities to hold the balance in his game with black against Maxime Vachier-Lagrave, while Firouzja put together a strong attack against So.\n",
      "\n",
      "After the fourth round of the international chess tournament in Požarevac, Serbia, three players are tied for first place in the standings with 3 points: Vang Shi-Xiu (China, FIDE rating 2422), Mohan Kushagra (India, 2367), and Wang Yan-Bin (China, 2435). Ahmad Ahmadzada (Azerbaijan, 2481) is half a point behind. The tournament, RUDAR VIII (GM), is being held from July 30 to August 6 in Požarevac, Serbia, and features 10 players from Serbia, China, India, Azerbaijan, Norway, and Montenegro.\n",
      "\n",
      "The Superbet Chess Classic Romania continued with the second round, where Alireza Firouzja bounced back from his loss in the first round by defeating Nodirbek Abdusattorov. Fabiano Caruana and Wesley So drew their game, with Caruana coming close to winning but ultimately spoiling his own chances. The other three games of the round ended in draws, with Ian Nepomniachtchi vs. Gukesh Dommaraju, Praggnanandhaa Rameshbabu vs. Maxime Vachier-Lagrave, and Bogdan-Daniel Deac vs. Anish Giri all finishing in stalemate. The tournament continues with the third round on Friday, June 28.\n",
      "\n",
      "After the fourth round of the international chess tournament in Vanadzor, Armenia, on August 3, Karen Grigoryan leads the tournament with a perfect score of 4 points, according to the results published on chess-results.com. Grigoryan, with a FIDE rating of 2567, is followed closely by Robert Piliposyan and Arthur Gabrielean, who are both half a point behind. The 'Vanadzor Open 2024' tournament, which is being held from August 1 to 7, features 42 chess players competing in a 9-round Swiss system with a classical time control.\n",
      "\n",
      "Fabiano Caruana won the Superbet Chess Classic Romania tournament after a thrilling tiebreaker. He finished with 5/9 points, tied with Alireza Firouzja, Rameshbabu Pragganandha, and Gukesh Dommaraju. Caruana won all three tiebreaker games against his opponents, including a crucial win against Firouzja. The tournament saw a high number of draws, with 38 out of 45 games ending in a tie. Caruana said in an interview, 'Maybe we played a bit boringly, but at least the final was exciting.' Firouzja acknowledged his defeat. The tournament was part of the Grand Chess Tour 2024, which took place in Bucharest from June 26 to July 5.\n",
      "\n",
      "The Superbet Chess Classic Romania, the second leg of the 2024 Grand Chess Tour, has started with wins for GMs Gukesh Dommaraju and Fabiano Caruana. Gukesh defeated wildcard GM Bogdan-Daniel Deac, while Caruana came back from a difficult position to beat GM Alireza Firouzja. The first round saw draws in the games Nodirbek Abdusattorov vs. Praggnanandhaa Rameshbabu, Maxime Vachier-Lagrave vs. Ian Nepomniachtchi, and Anish Giri vs. Wesley So. The tournament continues with the second round on Thursday, June 27.\n"
     ]
    }
   ],
   "source": [
    "if unit_test:\n",
    "    ask = AskNews()\n",
    "    event = '2024 Grand Chess Tour'\n",
    "    group = [IFP(id) for id in [26771, 26772, 26773, 26774]]\n",
    "    news = ask.research(event, group)\n",
    "    print(news)"
   ]
  },
  {
   "cell_type": "markdown",
   "metadata": {
    "jp-MarkdownHeadingCollapsed": true
   },
   "source": [
    "## LLMs"
   ]
  },
  {
   "cell_type": "markdown",
   "metadata": {
    "jp-MarkdownHeadingCollapsed": true
   },
   "source": [
    "### In general"
   ]
  },
  {
   "cell_type": "code",
   "execution_count": 12,
   "metadata": {},
   "outputs": [],
   "source": [
    "class LLM:\n",
    "    def __init__(self, system_role):\n",
    "        self.system_role = system_role\n",
    "        self.messages = [{\"role\": \"system\", \"content\": system_role}]\n",
    "\n",
    "    def chat(self, query):\n",
    "        self.messages.append({\"role\": \"user\", \"content\": query})\n",
    "        text = self.message()\n",
    "        self.messages.append({\"role\": \"assistant\", \"content\": text})\n",
    "        return text"
   ]
  },
  {
   "cell_type": "markdown",
   "metadata": {},
   "source": [
    "### MetaAI"
   ]
  },
  {
   "cell_type": "markdown",
   "metadata": {},
   "source": [
    "https://pypi.org/project/meta-ai-api/1.0.6/"
   ]
  },
  {
   "cell_type": "code",
   "execution_count": 13,
   "metadata": {},
   "outputs": [],
   "source": [
    "from meta_ai_api import MetaAI as mai"
   ]
  },
  {
   "cell_type": "code",
   "execution_count": 73,
   "metadata": {},
   "outputs": [],
   "source": [
    "class MetaAI(LLM):\n",
    "\n",
    "    def __init__(self, system_role = \"Nice talker\"):\n",
    "        self.ai = mai()\n",
    "        super().__init__(system_role)\n",
    "        \n",
    "    def message(self):\n",
    "        self.response = self.ai.prompt(message=self.messages[-1]['content'])\n",
    "        return self.response['message']"
   ]
  },
  {
   "cell_type": "code",
   "execution_count": 74,
   "metadata": {},
   "outputs": [
    {
     "name": "stdout",
     "output_type": "stream",
     "text": [
      "Will someone other than Fabiano Caruana, Alireza Firouzja, Praggnanandhaa Rameshbabu, or Gukesh Dommaraju win the 2024 Grand Chess Tour?\n",
      "The 2024 Grand Chess Tour is still ongoing, and the current standings are as follows ¹:\n",
      "Fabiano Caruana: 22.25 points\n",
      "Alireza Firouzja: 17.58 points\n",
      "Praggnanandhaa Rameshbabu: 16.25 points\n",
      "Gukesh D: 14.25 points\n",
      "Other players, such as Magnus Carlsen, Wei Yi, and Jan-Krzysztof Duda, have also performed well in individual tournaments ². However, it's important to note that the tour consists of multiple events, and the overall winner will be determined by the cumulative points earned throughout the tour.\n",
      "The tour's format and scoring system are as follows ¹:\n",
      "Two classical tournaments with a time control of 25 minutes plus a 10-second increment per move\n",
      "Three rapid and blitz tournaments with a time control of 5+2\n",
      "Tour points are awarded based on the combined results of both portions\n",
      "The player with the most tour points at the end of the five tournaments will be declared the winner\n",
      "The 2024 Grand Chess Tour is scheduled to conclude on August 31, 2024 ¹.\n",
      "\n"
     ]
    }
   ],
   "source": [
    "if unit_test:\n",
    "    ai = MetaAI()\n",
    "    r = ai.chat(ifp.title)\n",
    "    print(r)"
   ]
  },
  {
   "cell_type": "markdown",
   "metadata": {},
   "source": [
    "### HuggingChat"
   ]
  },
  {
   "cell_type": "markdown",
   "metadata": {},
   "source": [
    "https://pypi.org/project/hugchat/"
   ]
  },
  {
   "cell_type": "code",
   "execution_count": 16,
   "metadata": {},
   "outputs": [],
   "source": [
    "from hugchat import hugchat\n",
    "from hugchat.login import Login"
   ]
  },
  {
   "cell_type": "code",
   "execution_count": 80,
   "metadata": {},
   "outputs": [],
   "source": [
    "class HuggingChat(LLM):\n",
    "\n",
    "    def __init__(self, system_role = \"Nice talker\"):\n",
    "        # Log in to huggingface and grant authorization to huggingchat\n",
    "        EMAIL = config.HUGGINGFACE_USERNAME\n",
    "        PASSWD = config.HUGGINGFACE_PASSWORD\n",
    "        cookie_path_dir = \"./cookies/\" # NOTE: trailing slash (/) is required to avoid errors\n",
    "        sign = Login(EMAIL, PASSWD)\n",
    "        cookies = sign.login(cookie_dir_path=cookie_path_dir, save_cookies=True)\n",
    "        self.chatbot = hugchat.ChatBot(cookies=cookies.get_dict()) \n",
    "        super().__init__(system_role)\n",
    "        \n",
    "    def message(self):\n",
    "        result = ''.join([x['token'] for x in self.chatbot.chat(self.system_role + '\\n\\n' + self.messages[-1]['content']) if x])\n",
    "        return result\n",
    "\n",
    "    def web_search(self, query):\n",
    "        query_result = self.chatbot.query(query, web_search=True)\n",
    "        return query_result\n",
    "        print(query_result)\n",
    "        for source in query_result.web_search_sources:\n",
    "            print(source.link)\n",
    "            print(source.title)\n",
    "            print(source.hostname)\n",
    "\n",
    "    def available_models(self):\n",
    "        return [(i,str(x)) for i,x in enumerate(self.chatbot.get_available_llm_models())]\n",
    "\n",
    "    def switch_llm(self, i):\n",
    "        self.chatbot.switch_llm(i)\n",
    "\n",
    "    def conversation_info(self):\n",
    "        info = self.chatbot.get_conversation_info()\n",
    "        # print(info.id, info.title, info.model, info.system_prompt, info.history)\n",
    "        return info"
   ]
  },
  {
   "cell_type": "code",
   "execution_count": 81,
   "metadata": {},
   "outputs": [
    {
     "name": "stdout",
     "output_type": "stream",
     "text": [
      "It's difficult to predict with certainty, but I can provide some insights.\n",
      "\n",
      "The 2024 Grand Chess Tour will likely feature a strong field of top grandmasters, and while Fabiano Caruana, Alireza Firouzja, Praggnanandhaa Rameshbabu, and Gukesh Dommaraju are indeed among the favorites, there are other talented players who could potentially challenge for the title.\n",
      "\n",
      "Some possible dark horses to consider:\n",
      "\n",
      "1. Maxime Vachier-Lagrave (France): A consistent top-10 player, Vachier-Lagrave has a strong all-around game and has shown the ability to perform well in rapid and blitz formats.\n",
      "2. Viswanathan Anand (India): The former World Champion has been playing some of the best chess of his life in recent years, and his experience and skill make him a formidable opponent.\n",
      "3. Sergey Karjakin (Russia): A former World Championship challenger, Karjakin has a strong record in rapid and blitz events and is always a threat to win.\n",
      "4. Leinier Domínguez (USA): A versatile player with a strong tactical sense, Domínguez has had success in various formats and could make a deep run in the Grand Chess Tour.\n",
      "5. Magnus Carlsen (Norway): Although he's not as dominant as he once was, Carlsen is still one of the best players in the world and can't be counted out. He's shown the ability to perform well in rapid and blitz events, and his experience and skill make him a threat to win.\n",
      "\n",
      "Of course, this is not an exhaustive list, and other players could also make a strong run in the 2024 Grand Chess Tour. Ultimately, the outcome will depend on various factors, including the players' form, preparation, and performance on the day.\n",
      "\n",
      "What do you think? Do you have a favorite to win the 2024 Grand Chess Tour?\n"
     ]
    }
   ],
   "source": [
    "if unit_test:\n",
    "    hc = HuggingChat()\n",
    "    hc.switch_llm(1)\n",
    "    print(hc.chat(ifp.title))"
   ]
  },
  {
   "cell_type": "markdown",
   "metadata": {},
   "source": [
    "### Metaculus Anthropic"
   ]
  },
  {
   "cell_type": "code",
   "execution_count": 82,
   "metadata": {},
   "outputs": [],
   "source": [
    "import json\n",
    "\n",
    "class Claude(LLM):\n",
    "       \n",
    "    def message(self):\n",
    "        content = self.messages[-1]['content']\n",
    "        url = \"https://www.metaculus.com/proxy/anthropic/v1/messages\"\n",
    "        headers =  {\"Authorization\": f\"Token {config.METACULUS_TOKEN}\",\n",
    "                    \"anthropic-version\": \"2023-06-01\",\n",
    "                    \"content-type\": \"application/json\"}\n",
    "        data = {\"model\": \"claude-3-5-sonnet-20240620\",\n",
    "                \"max_tokens\": 1024,\n",
    "                \"messages\": [{\"role\": \"user\", \"content\": self.system_role + '\\n\\n' + content}]}\n",
    "        response = requests.post(url, headers=headers, data = json.dumps(data))\n",
    "        # Check the response status code\n",
    "        if response.status_code != 200:\n",
    "            print(\"Request failed with status code\", response.status_code)\n",
    "            print(response.text)\n",
    "        return response.json()['content'][0]['text']"
   ]
  },
  {
   "cell_type": "code",
   "execution_count": 83,
   "metadata": {},
   "outputs": [
    {
     "name": "stdout",
     "output_type": "stream",
     "text": [
      "It's difficult to predict with certainty who will win the 2024 Grand Chess Tour, as chess tournaments can be unpredictable and player performance can vary. However, I can provide some context:\n",
      "\n",
      "1. The players you've mentioned are indeed strong contenders, but they're not the only top players in the world.\n",
      "\n",
      "2. Other potential winners could include:\n",
      "   - Magnus Carlsen (if he participates)\n",
      "   - Ding Liren\n",
      "   - Ian Nepomniachtchi\n",
      "   - Hikaru Nakamura\n",
      "   - Wesley So\n",
      "   - Levon Aronian\n",
      "   - Anish Giri\n",
      "\n",
      "3. The Grand Chess Tour typically features a mix of established top players and rising stars, so there's always potential for surprises.\n",
      "\n",
      "4. Form and preparation leading up to the tournament will play a crucial role.\n",
      "\n",
      "5. The tournament format and specific participants for 2024 haven't been announced yet, which could impact the outcome.\n",
      "\n",
      "Given these factors, it's entirely possible that someone other than the four players you mentioned could win the 2024 Grand Chess Tour. However, without more information about the tournament and the players' form closer to the event, it's impossible to give a definitive answer.\n"
     ]
    }
   ],
   "source": [
    "claude = Claude('Please help me.')\n",
    "print(claude.chat(ifp.title))"
   ]
  },
  {
   "cell_type": "markdown",
   "metadata": {},
   "source": [
    "### Perplexity"
   ]
  },
  {
   "cell_type": "code",
   "execution_count": 21,
   "metadata": {},
   "outputs": [],
   "source": [
    "class Perplexity(LLM):\n",
    "    def message(self):\n",
    "        url = \"https://api.perplexity.ai/chat/completions\"\n",
    "        headers = {\n",
    "            \"accept\": \"application/json\",\n",
    "            \"authorization\": f\"Bearer {config.PERPLEXITY_API_KEY}\",\n",
    "            \"content-type\": \"application/json\"  }\n",
    "        payload = {\"model\": config.PERPLEXITY_MODEL, \"messages\": self.messages }\n",
    "        response = requests.post(url=url, json=payload, headers=headers)\n",
    "        response.raise_for_status()\n",
    "        return response.json()[\"choices\"][0][\"message\"][\"content\"]"
   ]
  },
  {
   "cell_type": "code",
   "execution_count": 22,
   "metadata": {},
   "outputs": [
    {
     "name": "stdout",
     "output_type": "stream",
     "text": [
      "The question of whether someone other than Fabiano Caruana, Alireza Firouzja, Praggnanandhaa Rameshbabu, or Gukesh Dommaraju will win the 2024 Grand Chess Tour is a topic of ongoing debate and speculation. Here are some key points from the sources:\n",
      "\n",
      "1. **Field of the 2024 Grand Chess Tour**: The field includes top players such as Fabiano Caruana, Maxime Vachier-Lagrave, Wesley So, Gukesh Dommaraju, Ian Nepomniachtchi, Alireza Firouzja, Anish Giri, Rameshbabu Praggnanandhaa, and Nodirbek Abdusattorov.\n",
      "\n",
      "2. **Recent Performances**: Alireza Firouzja has shown resilience by bouncing back from a loss in the opening round of the Superbet Chess Classic Romania to win against Nodirbek Abdusattorov. Fabiano Caruana also had a strong game against Wesley So, although it ended in a draw.\n",
      "\n",
      "3. **Candidates Tournament Predictions**: Fabiano Caruana is considered the favorite to win the 2024 Candidates Tournament due to his consistent performance and extensive experience in such tournaments. However, other players like Hikaru Nakamura, Ian Nepomniachtchi, and the young Indian talents Praggnanandhaa and Gukesh Dommaraju also have strong chances.\n",
      "\n",
      "4. **Grand Chess Tour Dynamics**: The Grand Chess Tour is known for its competitive nature, and while Caruana, Firouzja, Praggnanandhaa, and Gukesh are strong contenders, other players like Maxime Vachier-Lagrave, Wesley So, and Anish Giri could also make a significant impact.\n",
      "\n",
      "Given these points, while the named players are strong contenders, the competitive nature of the Grand Chess Tour and the Candidates Tournament means that other players could also emerge as winners. Therefore, it is possible that someone other than Fabiano Caruana, Alireza Firouzja, Praggnanandhaa Rameshbabu, or Gukesh Dommaraju could win the 2024 Grand Chess Tour.\n"
     ]
    }
   ],
   "source": [
    "perp = Perplexity('You are the most deeply knowledgeable web search engine and insightful analyst')\n",
    "print(perp.chat(ifp.title))"
   ]
  },
  {
   "cell_type": "markdown",
   "metadata": {},
   "source": [
    "### Metaculus OpenAI"
   ]
  },
  {
   "cell_type": "code",
   "execution_count": 84,
   "metadata": {},
   "outputs": [],
   "source": [
    "import json\n",
    "\n",
    "class MetacGPT(LLM):\n",
    "\n",
    "    def __init__(self, system_role):\n",
    "        super().__init__(system_role)\n",
    "        \n",
    "    def message(self):\n",
    "        url = \"https://www.metaculus.com/proxy/openai/v1/chat/completions\"\n",
    "        headers =  {\"Authorization\": f\"Token {config.METACULUS_TOKEN}\",\n",
    "                    \"content-type\": \"application/json\"}\n",
    "        data = {\"model\": \"gpt-3.5-turbo\",\n",
    "                \"max_tokens\": 1024,\n",
    "                \"messages\": self.messages}\n",
    "        response = requests.post(url, headers=headers, data = json.dumps(data))\n",
    "        # Check the response status code\n",
    "        if response.status_code != 200:\n",
    "            print(\"Request failed with status code\", response.status_code)\n",
    "            print(response.text)\n",
    "        return response.json()['content'][0]['text']"
   ]
  },
  {
   "cell_type": "code",
   "execution_count": 85,
   "metadata": {},
   "outputs": [],
   "source": [
    "if unit_test and False:\n",
    "    mgpt = MetacGPT('Please help me')\n",
    "    mgpt.chat('Bruce Bueno de Mesquita')"
   ]
  },
  {
   "cell_type": "markdown",
   "metadata": {},
   "source": [
    "### OpenAI"
   ]
  },
  {
   "cell_type": "code",
   "execution_count": 25,
   "metadata": {},
   "outputs": [],
   "source": [
    "class ChatGPT(LLM):\n",
    "    def __init__(self, system_role):\n",
    "        super().__init__(system_role)\n",
    "        self.client = OpenAI(api_key=config.OPENAI_API_KEY)\n",
    "\n",
    "    def message(self):\n",
    "        chat_completion = self.client.chat.completions.create(\n",
    "            model=config.OPENAI_MODEL,\n",
    "            messages= self.messages)\n",
    "        return chat_completion.choices[0].message.content"
   ]
  },
  {
   "cell_type": "code",
   "execution_count": 26,
   "metadata": {},
   "outputs": [
    {
     "name": "stdout",
     "output_type": "stream",
     "text": [
      "Predicting the outcome of chess tournaments, including the Grand Chess Tour (GCT), involves a high degree of uncertainty due to the many variables at play. These include player form, physical and mental condition, preparation, and even elements of luck. While Fabiano Caruana, Alireza Firouzja, Praggnanandhaa Rameshbabu, and Gukesh Dommaraju are among the top talents and are considered strong contenders, several other players could also potentially win the 2024 Grand Chess Tour. \n",
      "\n",
      "A few notable contenders who could challenge the aforementioned players include:\n",
      "\n",
      "1. **Magnus Carlsen**: The reigning World Chess Champion (as of my knowledge cut-off in 2021) and often considered one of the greatest chess players of all time. His participation alone raises the competitive bar significantly.\n",
      "\n",
      "2. **Levon Aronian**: An established Grandmaster who has been a consistent performer in elite tournaments over the years.\n",
      "\n",
      "3. **Ian Nepomniachtchi**: Known for his sharp and aggressive play, Nepomniachtchi has been a top contender in recent years.\n",
      "\n",
      "4. **Wesley So**: Winner of multiple GCT events and a formidable rapid and blitz player.\n",
      "\n",
      "5. **Hikaru Nakamura**: A dominant force in fast time controls and also capable of outstanding performances in classical formats.\n",
      "\n",
      "6. **Ding Liren**: A very consistent top player with several high-stakes victories under his belt.\n",
      "\n",
      "The unpredictability of the sport and the depth of talent in the field mean that many players have the potential to triumph. While Caruana, Firouzja, Praggnanandhaa, and Gukesh are exceptional talents and among the favorites, it would not be a shock to see another top player emerge as the winner in 2024. Chess tournaments, especially those comprising multiple formats like the Grand Chess Tour, are often decided by a small margin of error, making it an exciting and unpredictable endeavor.\n"
     ]
    }
   ],
   "source": [
    "if unit_test:\n",
    "    oai = ChatGPT('You are the most deeply knowledgeable web search engine and insightful analyst')\n",
    "    print(oai.chat(ifp.title))"
   ]
  },
  {
   "cell_type": "markdown",
   "metadata": {
    "id": "9WUvm1tVmMkO"
   },
   "source": [
    "## Agents"
   ]
  },
  {
   "cell_type": "markdown",
   "metadata": {
    "jp-MarkdownHeadingCollapsed": true
   },
   "source": [
    "#### Agent"
   ]
  },
  {
   "cell_type": "code",
   "execution_count": 27,
   "metadata": {},
   "outputs": [],
   "source": [
    "class Agent:\n",
    "    def __init__(self, system_role, llm):\n",
    "        self.llm = llm(system_role)\n",
    "\n",
    "    def chat(self, prompt):\n",
    "        return self.llm.chat(prompt)"
   ]
  },
  {
   "cell_type": "markdown",
   "metadata": {},
   "source": [
    "#### Question correlator for common topic inference"
   ]
  },
  {
   "cell_type": "code",
   "execution_count": 181,
   "metadata": {},
   "outputs": [],
   "source": [
    "class QuestionRelator(Agent):\n",
    "    def __init__(self, llm):\n",
    "        self.system_role = f\"\"\"\n",
    "You are prompted with list of forecasting questions, each with an id and a title.\n",
    "Label each question with an underlying event.\n",
    "If the questions are for the same event, use the same name for the underlying event.\n",
    "Please return as separate lines formatted as |event|id|title|, do not add any other formatting.\n",
    "\"\"\"\n",
    "        super().__init__(self.system_role, llm)\n",
    "\n",
    "    def relate(self, ifps):\n",
    "        prompt = '\\n'.join([f\"{ifp.question_id}: {ifp.title}\" for ifp in ifps.values()])\n",
    "        KL = self.chat(prompt)\n",
    "        K1 = [x.split('|') for x in KL.split('\\n')]\n",
    "        self.topic_map = [(int(id),event) for _,event,id,_,_ in K1]\n",
    "        self.topics = set([event for id,event in self.topic_map])\n",
    "        self.topic_groups = {topic: [ifps[x] for x,y in self.topic_map if y == topic] for topic in self.topics}\n",
    "        for id,event in self.topic_map :\n",
    "            ifps[id].event = event\n",
    "        return self.topic_groups"
   ]
  },
  {
   "cell_type": "code",
   "execution_count": 182,
   "metadata": {},
   "outputs": [
    {
     "name": "stdout",
     "output_type": "stream",
     "text": [
      "{'Bitcoin Price': [<__main__.IFP object at 0x7f213fcacd60>], '2024 Grand Chess Tour': [<__main__.IFP object at 0x7f213f9b3a00>, <__main__.IFP object at 0x7f213fcae860>, <__main__.IFP object at 0x7f213fb062f0>, <__main__.IFP object at 0x7f213fcafb80>, <__main__.IFP object at 0x7f213f98fdf0>], 'William Ruto Presidency': [<__main__.IFP object at 0x7f213fcae2c0>], 'Seattle-Tacoma-Bellevue Air Quality': [<__main__.IFP object at 0x7f213f98feb0>, <__main__.IFP object at 0x7f213f98fbe0>, <__main__.IFP object at 0x7f213fcac970>, <__main__.IFP object at 0x7f213fcad390>]}\n"
     ]
    }
   ],
   "source": [
    "if unit_test:\n",
    "    try:\n",
    "        ifps\n",
    "    except:\n",
    "        test_day = '01AUG24'\n",
    "        ifps = {id: IFP(id) for id in history[test_day]}\n",
    "    qr = QuestionRelator(ChatGPT)\n",
    "    print(qr.relate(ifps))"
   ]
  },
  {
   "cell_type": "markdown",
   "metadata": {
    "jp-MarkdownHeadingCollapsed": true
   },
   "source": [
    "#### Model domain classifier"
   ]
  },
  {
   "cell_type": "code",
   "execution_count": 30,
   "metadata": {},
   "outputs": [],
   "source": [
    "class ModelDomainClassifier(Agent):\n",
    "    def __init__(self, llm):\n",
    "        self.system_role = f\"\"\"\n",
    "A question about an event is formatted as |id|question|criteria|background|fineprint|.\n",
    "You will report the model domain of the question, one of\n",
    "\n",
    "Rate over time\n",
    "Election outcome\n",
    "Sports performance\n",
    "Military conflict\n",
    "Civil unrest\n",
    "Dated product announcement\n",
    "Market price\n",
    "Macroeconomics\n",
    "Epidemic\n",
    "Disease\n",
    "Drug discovery\n",
    "Medical device\n",
    "Crime\n",
    "Leadership change\n",
    "Other\n",
    "\"\"\"\n",
    "        super().__init__(self.system_role, llm)\n",
    "\n",
    "    def classify(self, ifp):\n",
    "        prompt = f\"|{ifp.question_id}|{ifp.title}|{ifp.resolution_criteria}|{ifp.background}|{ifp.fine_print}|\"\n",
    "        self.R = self.chat(prompt)\n",
    "        ifp.model_domain = self.R\n",
    "        print(ifp.question_id, ifp.title)\n",
    "        print(self.R)"
   ]
  },
  {
   "cell_type": "code",
   "execution_count": 31,
   "metadata": {},
   "outputs": [
    {
     "name": "stdout",
     "output_type": "stream",
     "text": [
      "26775 Will someone other than Fabiano Caruana, Alireza Firouzja, Praggnanandhaa Rameshbabu, or Gukesh Dommaraju win the 2024 Grand Chess Tour?\n",
      "Sports performance\n"
     ]
    }
   ],
   "source": [
    "if unit_test:\n",
    "    mdc = ModelDomainClassifier(ChatGPT)\n",
    "    mdc.classify(ifp)"
   ]
  },
  {
   "cell_type": "markdown",
   "metadata": {
    "jp-MarkdownHeadingCollapsed": true
   },
   "source": [
    "#### Rate Analyzer"
   ]
  },
  {
   "cell_type": "code",
   "execution_count": 205,
   "metadata": {},
   "outputs": [],
   "source": [
    "class RateAnalyzer(Agent):\n",
    "    def __init__(self, llm):\n",
    "        self.system_role = f\"\"\"\n",
    "A group of events are given, formatted as \"GROUP\" followed by a group of questions separated by carriage returns, followed by \"NEWS\" followed by news on the topic.\n",
    "Today's date is {today}.\n",
    "If the question is about a level that changes at some rate over time, you will report \n",
    "1. today's date, \n",
    "2. the end date of the question, \n",
    "3. the time in days D from today to end date, \n",
    "4. the daily rate of change R of the quantity,\n",
    "5. today's value V of the quantity,\n",
    "6. the change in value dV of the quantity = D * r,\n",
    "7. the final value of the quantity F = V + dV.  Give your best estimate.\n",
    "Otherwise if the question is about the date that an event will occur, you will report\n",
    "1. today's date, \n",
    "2. the end (measurement) date of the question, \n",
    "3. the time in days D from today to end date, \n",
    "4. the specific date at which the event is most likely to occur, without reference to the end date of the question\n",
    "5. whether the likely event date is before, or on or after the question end date\n",
    "\n",
    "Provide only one type of answer, not both.\n",
    "\"\"\"\n",
    "        super().__init__(self.system_role, llm)\n",
    "\n",
    "    def assess(self, group, news):\n",
    "        titles = '\\n'.join([ifp.title.strip() for ifp in group])\n",
    "        self.q = f'GROUP\\n{titles}\\nNEWS\\n{news}'\n",
    "        self.rates = self.chat(self.q)\n",
    "        return self.rates"
   ]
  },
  {
   "cell_type": "code",
   "execution_count": 209,
   "metadata": {},
   "outputs": [
    {
     "name": "stdout",
     "output_type": "stream",
     "text": [
      "1. Today's date: 2024-08-03 \n",
      "2. End date of the question: 2024-12-31\n",
      "3. Time in days (D) from today to end date: 151 days\n",
      "4. Most likely event date: Information not provided directly\n",
      "5. Likely event date status: On or after the end date of the question\n",
      "\n",
      "The news updates and continuous tournament results imply a high level of competition among Fabiano Caruana, Alireza Firouzja, Praggnanandhaa Rameshbabu, and Gukesh Dommaraju. Estimating the exact event date accurately is challenging due to the ongoing nature of the Grand Chess Tour stretching over multiple tournaments within the year. Based on the fragmented match details and standings, it is likely that the final outcome of whether these players will win the 2024 Grand Chess Tour will be determined on or after the year-end date of 2024-12-31.\n"
     ]
    }
   ],
   "source": [
    "if unit_test:\n",
    "    try:\n",
    "        group\n",
    "    except:\n",
    "        group = [IFP(id) for id in [26771, 26772, 26773, 26774]]\n",
    "\n",
    "    rates = RateAnalyzer(ChatGPT)\n",
    "    r = rates.assess(group, news)\n",
    "    print(r)"
   ]
  },
  {
   "cell_type": "markdown",
   "metadata": {},
   "source": [
    "#### Superforecaster"
   ]
  },
  {
   "cell_type": "code",
   "execution_count": 221,
   "metadata": {},
   "outputs": [],
   "source": [
    "class Superforecaster(Agent):\n",
    "    def __init__(self, llm):\n",
    "        self.system_role = f\"\"\"\n",
    "You are a superforecaster.  \n",
    "You assign a probability to questions about events.\n",
    "Questions are given as GROUP|group_description followed by NEWS|group_news followed by RATES|group_rates \n",
    "followed by the questions in the group formatted QUESTIONS followed by, for each question, {IFP.forecast_format}.\n",
    "Questions which are about the same event should be assigned consistent probabilities.\n",
    "Reply to questions with |ASSESSMENT|id|ZZ|rationale| where ZZ is an integer probability from 1 to 99 and rationale is your reasoning for the forecast.\n",
    "Separate each question with '^^^'.\n",
    "Do not add any additional headings or group labels or other formatting.\n",
    "After your initial forecast you may receive feedback of form |CRITIC|id|feedback|.\n",
    "Reply to each feedback with |id|ZZ|rationale| where ZZ is an integer probability from 1 to 99 and \n",
    "and rationale is a revised assessment which may be adjusted from a prior assessment due the feedback unless the feedback is \"I concur\".\n",
    "\"\"\"\n",
    "        super().__init__(self.system_role, llm)\n",
    "\n",
    "    def forecast(self, event, news, rates, group):\n",
    "        ifps = '\\n'.join([ifp.record() for ifp in group])\n",
    "        prompt = f\"GROUP|{event}\\nNEWS|{news}\\nRATES|{rates}\\nQUESTIONS\\n{ifps}\"\n",
    "        self.F0 = self.chat(prompt)\n",
    "        self.F1 = [x.strip().replace('\\n', '') for x in self.F0.split('^^^')]\n",
    "        self.F2 = [x.split('|') for x in self.F1] \n",
    "        self.F3 = [[x for x in y if x] for y in self.F2]\n",
    "        self.F4 = [(int(id),int(forecast),rationale) for _, id, forecast, rationale in self.F3]\n",
    "        self.ifps = {ifp.question_id: ifp for ifp in group}\n",
    "        for id, forecast, rationale in self.F4:\n",
    "            self.ifps[id].forecast = forecast\n",
    "            self.ifps[id].rationale = rationale\n",
    "            print(id, forecast, rationale)\n",
    "\n",
    "    def reassess(self, ifp):\n",
    "        prompt = f\"|CRITIC|{ifp.question_id}|{ifp.feedback}|\"\n",
    "        self.R0 = self.chat(prompt)\n",
    "        id,fcst,rationale = [x for x in self.R0.strip().split('|') if x]\n",
    "        id = int(id)\n",
    "        fcst = int(fcst)\n",
    "        ifps[id].forecast = fcst\n",
    "        ifps[id].rationale = rationale\n",
    "        print(id, fcst, rationale)"
   ]
  },
  {
   "cell_type": "code",
   "execution_count": 222,
   "metadata": {},
   "outputs": [
    {
     "name": "stdout",
     "output_type": "stream",
     "text": [
      "26771 45 Fabiano Caruana is currently leading the Grand Chess Tour with 22.25 points. However, with two tournaments still to go, the lead could change. His performance in the remaining tournaments will be critical.\n",
      "26772 25 Alireza Firouzja is in second place with 17.58 points. While he has a solid chance, closing the gap with Caruana will be challenging given Caruana's current form and lead.\n",
      "26773 20 Praggnanandhaa Rameshbabu is currently in third place with 16.25 points. He has shown potential, but overtaking Caruana and Firouzja will be difficult given the current standings and remaining tournaments.\n",
      "26774 10 Gukesh Dommaraju, despite his strong performances, is less likely to win given his current ranking and the points gap from the leader, Caruana.\n",
      "26775 10 Given the current standings, it is less likely that someone outside of Caruana, Firouzja, Praggnanandhaa, or Gukesh will clinch the Tour. However, it is not impossible.\n"
     ]
    }
   ],
   "source": [
    "if unit_test:\n",
    "    sf = Superforecaster(ChatGPT)\n",
    "    event = '2024 Grand Chess Tour'\n",
    "    group = qr.topic_groups[event]\n",
    "    sf.forecast(event, news, r, group)"
   ]
  },
  {
   "cell_type": "markdown",
   "metadata": {},
   "source": [
    "#### Critic"
   ]
  },
  {
   "cell_type": "code",
   "execution_count": 263,
   "metadata": {},
   "outputs": [],
   "source": [
    "class Critic (Agent):\n",
    "    def __init__(self, llm):\n",
    "\n",
    "        self.system_role = f\"\"\"\n",
    "You a very smart and worldly person reviewing a superforecaster's assignment of probabilities to events.\n",
    "You will receive an event with probabilities given as |event|id|question|zz|rationale|.\n",
    "zz is an integer probability from 1 to 99 and rationale is the student's logic for assigning probability of zz.\n",
    "You will reply with a line |id|feedback| where feedback is \"I concur\" if you see no problem with the rationale and zz otherwise presents possible problems with the rationale and zz.\n",
    "\"\"\"\n",
    "        super().__init__(self.system_role, llm)\n",
    "\n",
    "    def feedback(self, ifp):\n",
    "        self.fb = 'I prasldfkbeddy.'\n",
    "        prompt = f\"|{ifp.event}|{ifp.question_id}|{ifp.title}|{ifp.forecast}|{ifp.rationale}|\"\n",
    "        self.fb = self.chat(prompt)\n",
    "        if '|' in self.fb: # LLM obeyed system role\n",
    "            self.fb1 = self.fb.split('|')[2:]\n",
    "            self.fb = ''.join([x.strip() for x in self.fb1 if x])\n",
    "        ifp.feedback = self.fb \n",
    "        print(ifp.question_id, ifp.feedback)"
   ]
  },
  {
   "cell_type": "code",
   "execution_count": 264,
   "metadata": {},
   "outputs": [
    {
     "name": "stdout",
     "output_type": "stream",
     "text": [
      "MetaAI\n",
      "26780 Bitcoin Price Prediction\n",
      "Based on your input, I'll provide a balanced analysis:\n",
      "Current Price: $26,780\n",
      "Target Date: October 1, 2024\n",
      "Predicted Probability: 57%\n",
      "The cryptocurrency market is known for its volatility, and Bitcoin's price can fluctuate rapidly. While there are mixed drivers and uncertainties, the potential for unexpected events to drive prices upward cannot be ruled out. A significant rally within the next two months is plausible, increasing the probability of reaching a new all-time high before October 1, 2024, to 57%.\n",
      "Please note that cryptocurrency investments carry risks, and this prediction is not investment advice. Always do your own research and consider multiple sources before making any investment decisions.\n",
      "\n",
      "\n",
      "Claude\n",
      "26780 I concur\n",
      "\n",
      "Perplexity\n",
      "26780 The rationale is sound, considering the historical volatility of Bitcoin and the potential for significant price swings. The probability of 57% reflects a balanced view of the mixed drivers and uncertainties in the market. I concur.\n",
      "\n",
      "ChatGPT\n",
      "26780 It seems your rationale does not sufficiently address the balance between historical precedent and future uncertainties, especially over a 1-year horizon. While the volatility and possibility for rapid rallies are acknowledged, the probability of 57% might be too high without specific catalysts or historical frequency support. Consider a more conservative approach given the uncertainties.\n",
      "\n",
      "HuggingChat\n",
      "26780 I concur\n",
      "\n"
     ]
    }
   ],
   "source": [
    "if unit_test:\n",
    "    for llm in [MetaAI, Claude, Perplexity, ChatGPT, HuggingChat]:\n",
    "        print(llm.__name__)\n",
    "        critic = Critic(llm)\n",
    "        critic.feedback(ifp) \n",
    "        print()"
   ]
  },
  {
   "cell_type": "markdown",
   "metadata": {
    "jp-MarkdownHeadingCollapsed": true
   },
   "source": [
    "#### Summarizer"
   ]
  },
  {
   "cell_type": "markdown",
   "metadata": {},
   "source": [
    "Add an agent to summarize the back and forth between critic and forecaster into a single cogent rationale that incorporates all that was discussed."
   ]
  },
  {
   "cell_type": "markdown",
   "metadata": {
    "jp-MarkdownHeadingCollapsed": true
   },
   "source": [
    "## IFP history"
   ]
  },
  {
   "cell_type": "code",
   "execution_count": 97,
   "metadata": {},
   "outputs": [],
   "source": [
    "history = { '08JUL24': [25876, 25877, 25875, 25873, 25871, 25878, 25874, 25872],\n",
    "            '09JUL24': [26006, 25936, 25935, 25934, 25933, 26004, 26005],\n",
    "            '10JUL24': [25955, 25956, 25957, 25960, 25959, 25954, 25953, 25952, 25958],\n",
    "            '11JUL24': [26019, 26018, 26017, 26020, 26022, 26021, 26023, 26024],\n",
    "            '12JUL24': [26095, 26096, 26097, 26098, 26099, 26100, 26101, 26102],\n",
    "            '15JUL24': [26133, 26134, 26138, 26139, 26140, 26157, 26158, 26159],\n",
    "            '16JUL24': [26189, 26190, 26191, 26192, 26193, 26194, 26195, 26196],\n",
    "            '17JUL24': [26210, 26211, 26212, 26213, 26214, 26215, 26216],\n",
    "            '18JUL24': [26232, 26233, 26234, 26235, 26236],\n",
    "            '19JUL24': [26302, 26303, 26304, 26305, 26306, 26307],\n",
    "            '22JUL24': [26387, 26388, 26389, 26390, 26391, 26392],\n",
    "            '23JUL24': [26404, 26405, 26406, 26407, 26408],\n",
    "            '24JUL24': [26550, 26551, 26552, 26553, 26554, 26555],\n",
    "            '25JUL24': [26568, 26569, 26570, 26571, 26572, 26573, 26574, 26575, 26576, 26577],\n",
    "            '26JUL24': [26638, 26639, 26640, 26641, 26642, 26643, 26644, 26645, 26646],\n",
    "            '29JUL24': [26665, 26666, 26667, 26668, 26669, 26670, 26671, 26683],\n",
    "            '30JUL24': [26700, 26701, 26702, 26703, 26704, 26705, 26706],\n",
    "            '31JUL24': [26816, 26817, 26818, 26819, 26820, 26821, 26844],\n",
    "            '01AUG24': [26771, 26772, 26773, 26774, 26775, 26776, 26777, 26778, 26779, 26780, 26781],\n",
    "            '02AUG24': [26837, 26838, 26839, 26840, 26841, 26842]}"
   ]
  },
  {
   "cell_type": "markdown",
   "metadata": {},
   "source": [
    "## Forecasting process"
   ]
  },
  {
   "cell_type": "code",
   "execution_count": 265,
   "metadata": {},
   "outputs": [],
   "source": [
    "class Forecaster:\n",
    "    \n",
    "    def __init__(self, ifps):\n",
    "        self.max_tries = 4\n",
    "        self.qr = QuestionRelator(ChatGPT)\n",
    "        self.ask = AskNews()\n",
    "        self.critic = Critic(HuggingChat)\n",
    "        self.mdc = ModelDomainClassifier(ChatGPT)\n",
    "        self.ifps = ifps\n",
    "        \n",
    "    def fit(self):\n",
    "        print('MODEL DOMAIN')\n",
    "        for ifp in self.ifps.values():\n",
    "            self.mdc.classify(ifp)\n",
    "        print()  \n",
    "        print('CORRELATOR')\n",
    "        self.rho = self.qr.relate(self.ifps)\n",
    "        for event, group in self.rho.items():\n",
    "            news = self.ask.research(event, group)\n",
    "            ra = RateAnalyzer(ChatGPT)\n",
    "            rates = ra.assess(group, news)\n",
    "            sf = Superforecaster(ChatGPT)\n",
    "            sf.forecast(event, news, r, group)\n",
    "            critic = Critic(HuggingChat)\n",
    "            for ifp in group:\n",
    "                print(\"Refining\", ifp.question_id)\n",
    "                for i in range(self.max_tries):\n",
    "                    print(\"Pass\", i, \"of\", self.max_tries, \"on\", ifp.question_id)\n",
    "                    if 'concur' in ifp.feedback:\n",
    "                        print(\"concur 1\")\n",
    "                        break\n",
    "                    critic.feedback(ifp)\n",
    "                    if 'concur' in ifp.feedback:\n",
    "                        print(\"concur 2\")\n",
    "                        break\n",
    "                    sf.reassess(ifp)\n",
    "                print(\"===============================================\")\n",
    "\n",
    "    def report(self):\n",
    "        for ifp in self.ifps.values():\n",
    "            print(ifp.question_id, ifp.title)\n",
    "            print(\"Forecast\", ifp.forecast)\n",
    "            print(\"Rationale\", ifp.rationale, '\\n')\n",
    "\n",
    "    def upload(self):\n",
    "        for ifp in self.ifps.values():\n",
    "            ifp.upload()"
   ]
  },
  {
   "cell_type": "code",
   "execution_count": 244,
   "metadata": {},
   "outputs": [],
   "source": [
    "if unit_test:\n",
    "    test_day = '01AUG24'\n",
    "    ifps = {id: IFP(id) for id in history[test_day]}"
   ]
  },
  {
   "cell_type": "code",
   "execution_count": 266,
   "metadata": {},
   "outputs": [],
   "source": [
    "fcst = Forecaster(ifps)"
   ]
  },
  {
   "cell_type": "code",
   "execution_count": null,
   "metadata": {},
   "outputs": [
    {
     "name": "stdout",
     "output_type": "stream",
     "text": [
      "MODEL DOMAIN\n",
      "26771 Will Fabiano Caruana win the 2024 Grand Chess Tour?\n",
      "**Sports performance**\n",
      "26772 Will Alireza Firouzja win the 2024 Grand Chess Tour?\n",
      "**Sports performance**\n",
      "26773 Will Praggnanandhaa Rameshbabu win the 2024 Grand Chess Tour?\n",
      "**Sports performance**\n",
      "26774 Will Gukesh Dommaraju win the 2024 Grand Chess Tour?\n",
      "**Sports performance**\n",
      "26775 Will someone other than Fabiano Caruana, Alireza Firouzja, Praggnanandhaa Rameshbabu, or Gukesh Dommaraju win the 2024 Grand Chess Tour?\n",
      "**Sports performance**\n",
      "26776 Will the Seattle-Tacoma-Bellevue WA metro area experience exactly 1 day with an Air Quality Index value above 150 in the 3rd quarter of 2024?\n",
      "**Rate over time**\n",
      "26777 Will the Seattle-Tacoma-Bellevue WA metro area experience 2 to 5 days with an Air Quality Index value above 150 in the 3rd quarter of 2024?\n",
      "**Rate over time**\n",
      "26778 Will the Seattle-Tacoma-Bellevue WA metro area experience 6 to 10 days with an Air Quality Index value above 150 in the 3rd quarter of 2024?\n",
      "**Rate over time**\n",
      "26779 Will the Seattle-Tacoma-Bellevue WA metro area experience 11 or more days with an Air Quality Index value above 150 in the 3rd quarter of 2024?\n",
      "**Rate over time**\n",
      "26780 Will Bitcoin reach a new all-time high before October 1, 2024?\n",
      "**Market price**\n",
      "26781 Will William Ruto cease to be President of Kenya before October 1, 2024?\n",
      "**Leadership change**\n",
      "\n",
      "CORRELATOR\n",
      "26780 30 Given Bitcoin's historical trends around halving events and the mixture of bullish and bearish reports, the probability that Bitcoin will reach an all-time high before October 1, 2024, is moderately low but not insignificant. The consistent volatility and various external factors, such as potential economic downturns, add uncertainty. While halving and optimistic predictions from analysts offer a bullish perspective, significant recent corrections and macroeconomic concerns temper this optimism. Therefore, I estimate a 30% chance for Bitcoin to reach a new all-time high before the given date.\n",
      "Refining 26780\n",
      "Pass 0 of 4 on 26780\n",
      "concur 1\n",
      "===============================================\n",
      "26771 60 Fabiano Caruana is currently leading the Tour standings with a sizable margin. Given his consistent performance and lead, he is the current favorite. However, the competition is still close, with strong contenders behind him.\n",
      "26772 20 While Alireza Firouzja is in second place in the standings, he is still trailing Caruana by a significant margin. Although he has the potential to win, the likelihood is lower given Caruana's current performance and lead.\n",
      "26773 15 Praggnanandhaa Rameshbabu is in third place and also has potential, but the probability of him winning is lower compared to Caruana due to the points gap and competition.\n",
      "26774 10 Gukesh Dommaraju is tied for second place but considering the competitive nature and his standing behind Firouzja and Caruana, his chances are slimmer.\n",
      "26775 15 Given the current standings, it's less likely for someone other than the top four to win. However, with two tournaments left, there's a small chance that an underdog could outperform.\n",
      "Refining 26771\n",
      "Pass 0 of 4 on 26771\n",
      "26771 I concur\n",
      "concur 2\n",
      "===============================================\n",
      "Refining 26772\n",
      "Pass 0 of 4 on 26772\n",
      "26772 I concur\n",
      "concur 2\n",
      "===============================================\n",
      "Refining 26773\n",
      "Pass 0 of 4 on 26773\n",
      "26773 The probability seems reasonable, but consider that Firouzja was assigned a 20% chance of winning, and Praggnanandhaa is only one place behind him in the standings. Is the gap between their probabilities too large, or is there a specific reason why Praggnanandhaa's chances are significantly lower than Firouzja's?\n",
      "26773 18 Considering that Praggnanandhaa is only one place behind Firouzja in the standings, the gap in probabilities should be smaller to reflect his competitive position. However, Firouzja's slightly better performance justifies a still modest difference.\n",
      "Pass 1 of 4 on 26773\n",
      "26773 I concur\n",
      "concur 2\n",
      "===============================================\n",
      "Refining 26774\n",
      "Pass 0 of 4 on 26774\n",
      "26774 The rationale seems to contradict the information that Gukesh Dommaraju is tied for second place, implying he is on par with Firouzja. Given this, a 10% chance of winning seems too low, especially considering Firouzja has a 20% chance. Shouldn't Gukesh's probability be closer to Firouzja's, given their tied standing?\n",
      "26774 20 Gukesh Dommaraju's probability of winning should indeed be closer to Firouzja's, given their tied standing in the current rankings. This adjustment better reflects his competitive position.\n",
      "Pass 1 of 4 on 26774\n",
      "26774 I concur\n",
      "concur 2\n",
      "===============================================\n",
      "Refining 26775\n",
      "Pass 0 of 4 on 26775\n"
     ]
    }
   ],
   "source": [
    "fcst.fit()"
   ]
  },
  {
   "cell_type": "code",
   "execution_count": null,
   "metadata": {},
   "outputs": [],
   "source": [
    "fcst.report()"
   ]
  },
  {
   "cell_type": "markdown",
   "metadata": {},
   "source": [
    "## Daily forecast"
   ]
  },
  {
   "cell_type": "markdown",
   "metadata": {},
   "source": [
    "### Get IFP ids"
   ]
  },
  {
   "cell_type": "code",
   "execution_count": null,
   "metadata": {},
   "outputs": [],
   "source": [
    "ifps = list_questions()['results']\n",
    "today_ids = list(sorted([x['id'] for x in ifps]))\n",
    "print(today, today_ids)"
   ]
  },
  {
   "cell_type": "markdown",
   "metadata": {},
   "source": [
    "## Forecast"
   ]
  },
  {
   "cell_type": "code",
   "execution_count": null,
   "metadata": {},
   "outputs": [],
   "source": [
    "ifps = {id: IFP(id) for id in today_ids}"
   ]
  },
  {
   "cell_type": "code",
   "execution_count": null,
   "metadata": {},
   "outputs": [],
   "source": [
    "fcst = Forecaster(ifps)\n",
    "fcst.fit()"
   ]
  },
  {
   "cell_type": "code",
   "execution_count": null,
   "metadata": {},
   "outputs": [],
   "source": [
    "fcst.report()"
   ]
  },
  {
   "cell_type": "code",
   "execution_count": null,
   "metadata": {},
   "outputs": [],
   "source": [
    "fcst.upload()"
   ]
  }
 ],
 "metadata": {
  "colab": {
   "provenance": []
  },
  "kernelspec": {
   "display_name": "Python 3 (ipykernel)",
   "language": "python",
   "name": "python3"
  },
  "language_info": {
   "codemirror_mode": {
    "name": "ipython",
    "version": 3
   },
   "file_extension": ".py",
   "mimetype": "text/x-python",
   "name": "python",
   "nbconvert_exporter": "python",
   "pygments_lexer": "ipython3",
   "version": "3.10.6"
  }
 },
 "nbformat": 4,
 "nbformat_minor": 4
}
