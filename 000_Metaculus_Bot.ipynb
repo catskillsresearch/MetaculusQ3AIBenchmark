{
 "cells": [
  {
   "cell_type": "markdown",
   "metadata": {},
   "source": [
    "# 000 Forecasting Bot"
   ]
  },
  {
   "cell_type": "markdown",
   "metadata": {},
   "source": [
    "Starting from https://colab.research.google.com/drive/1_Il5h2Ed4zFa6Z3bROVCE68LZcSi4wHX?usp=sharing"
   ]
  },
  {
   "cell_type": "markdown",
   "metadata": {
    "jp-MarkdownHeadingCollapsed": true
   },
   "source": [
    "## Leaderboard"
   ]
  },
  {
   "cell_type": "markdown",
   "metadata": {},
   "source": [
    "### 10AUG24"
   ]
  },
  {
   "cell_type": "code",
   "execution_count": null,
   "metadata": {},
   "outputs": [],
   "source": [
    "%matplotlib inline\n",
    "import matplotlib.pylab as plt\n",
    "import pandas as pd\n",
    "df = pd.read_csv('leaderboard_20240810.csv')\n",
    "rank = df.index.values\n",
    "score = df['Total Spot Score'].values\n",
    "take = df['Take'].values\n",
    "plt.plot(rank, score/score.max(), label='score (normalized)')\n",
    "plt.plot(rank, take/take.max(), color='green', label='take (normalized)')\n",
    "plt.xlabel('Rank')\n",
    "plt.ylabel('Metric')\n",
    "plt.legend()\n",
    "plt.xlim([1,50])\n",
    "plt.title('AIQ3 Leaderboard as of 8/10/24');"
   ]
  },
  {
   "cell_type": "code",
   "execution_count": null,
   "metadata": {},
   "outputs": [],
   "source": [
    "plt.hist(score, bins=30, density=True);"
   ]
  },
  {
   "cell_type": "code",
   "execution_count": null,
   "metadata": {},
   "outputs": [],
   "source": [
    "df['Total Spot Score'].plot.hist(bins=50, density=True)\n",
    "plt.title('PDF of scores')\n",
    "plt.xlabel('Score')\n",
    "plt.ylabel('Probability Density')\n",
    "# Show the plot\n",
    "plt.show()\n",
    "df['Take'].plot.hist(bins=50, density=True)\n",
    "plt.title('PDF of take')\n",
    "plt.xlabel('Take')\n",
    "plt.ylabel('Probability Density')\n",
    "# Show the plot\n",
    "plt.show()"
   ]
  },
  {
   "cell_type": "code",
   "execution_count": null,
   "metadata": {},
   "outputs": [],
   "source": [
    "df_nonmf = df[df.Forecaster.apply(lambda x: 'mf-' not in x)]\n",
    "top20_take = df_nonmf['Take'][df.Take > 2000]\n",
    "top20_take.plot.hist(bins=50, density=True)\n",
    "plt.title('PDF of top 20 take')\n",
    "plt.xlabel('Take')\n",
    "plt.ylabel('Probability Density')"
   ]
  },
  {
   "cell_type": "markdown",
   "metadata": {},
   "source": [
    "## Imports"
   ]
  },
  {
   "cell_type": "code",
   "execution_count": 1,
   "metadata": {},
   "outputs": [],
   "source": [
    "from IPython.display import Markdown\n",
    "from omegaconf import OmegaConf\n",
    "import datetime,json, os, requests, re\n",
    "from openai import OpenAI\n",
    "from tqdm import tqdm"
   ]
  },
  {
   "cell_type": "markdown",
   "metadata": {},
   "source": [
    "## Today"
   ]
  },
  {
   "cell_type": "code",
   "execution_count": 2,
   "metadata": {},
   "outputs": [
    {
     "data": {
      "text/plain": [
       "'2024-08-13'"
      ]
     },
     "execution_count": 2,
     "metadata": {},
     "output_type": "execute_result"
    }
   ],
   "source": [
    "import datetime\n",
    "today = str(datetime.datetime.now())[0:10]\n",
    "today"
   ]
  },
  {
   "cell_type": "markdown",
   "metadata": {},
   "source": [
    "## API Keys"
   ]
  },
  {
   "cell_type": "markdown",
   "metadata": {},
   "source": [
    "In order to run this notebook as is, you'll need to enter a few API keys (use the key icon on the left to input them):\n",
    "\n",
    "- `METACULUS_TOKEN`: you can find your Metaculus token under your bot's user settings page: https://www.metaculus.com/accounts/settings/, or on the bot registration page where you created the account: https://www.metaculus.com/aib/\n",
    "- `OPENAPI_API_KEY`: get one from OpenAIs page: https://platform.openai.com/settings/profile?tab=api-keys\n",
    "- `PERPLEXITY_API_KEY` - used to search up-to-date information about the question. Get one from https://www.perplexity.ai/settings/api\n",
    "- `ASKNEWS_CLIENT_ID`, `ASKNEWS_SECRET`"
   ]
  },
  {
   "cell_type": "code",
   "execution_count": 3,
   "metadata": {},
   "outputs": [],
   "source": [
    "token_fn = \"tokens.yaml\""
   ]
  },
  {
   "cell_type": "raw",
   "metadata": {},
   "source": [
    "tokens = OmegaConf.create(\"\"\"\n",
    "METACULUS_TOKEN: xx\n",
    "OPENAI_API_KEY: yy\n",
    "OPENAI_MODEL: gpt-4o\n",
    "PERPLEXITY_API_KEY: zz\n",
    "PERPLEXITY_MODEL: llama-3-sonar-large-32k-online\"\"\")\n",
    "OmegaConf.save(config=tokens, f=token_fn)"
   ]
  },
  {
   "cell_type": "code",
   "execution_count": 4,
   "metadata": {},
   "outputs": [],
   "source": [
    "config = OmegaConf.load(token_fn)\n",
    "\n",
    "def pr(tokens):\n",
    "    print(OmegaConf.to_yaml(config))"
   ]
  },
  {
   "cell_type": "markdown",
   "metadata": {
    "id": "iDukuXArbgdm"
   },
   "source": [
    "## LLM and Metaculus Interaction"
   ]
  },
  {
   "cell_type": "markdown",
   "metadata": {
    "id": "iDukuXArbgdm"
   },
   "source": [
    "This section sets up some simple helper code you can use to get data about forecasting questions and to submit a prediction"
   ]
  },
  {
   "cell_type": "code",
   "execution_count": 5,
   "metadata": {
    "id": "HifodCwcGU0j"
   },
   "outputs": [],
   "source": [
    "AUTH_HEADERS = {\"headers\": {\"Authorization\": f\"Token {config.METACULUS_TOKEN}\"}}\n",
    "API_BASE_URL = \"https://www.metaculus.com/api2\"\n",
    "WARMUP_TOURNAMENT_ID = 3349\n",
    "SUBMIT_PREDICTION = True\n",
    "\n",
    "def find_number_before_percent(s):\n",
    "    # Use a regular expression to find all numbers followed by a '%'\n",
    "    matches = re.findall(r'(\\d+)%', s)\n",
    "    if matches:\n",
    "        # Return the last number found before a '%'\n",
    "        return int(matches[-1])\n",
    "    else:\n",
    "        # Return None if no number found\n",
    "        return None\n",
    "\n",
    "def post_question_comment(question_id, comment_text):\n",
    "    \"\"\"\n",
    "    Post a comment on the question page as the bot user.\n",
    "    \"\"\"\n",
    "\n",
    "    response = requests.post(\n",
    "        f\"{API_BASE_URL}/comments/\",\n",
    "        json={\n",
    "            \"comment_text\": comment_text,\n",
    "            \"submit_type\": \"N\",\n",
    "            \"include_latest_prediction\": True,\n",
    "            \"question\": question_id,\n",
    "        },\n",
    "        **AUTH_HEADERS,\n",
    "    )\n",
    "    response.raise_for_status()\n",
    "    print(\"Comment posted for \", question_id)\n",
    "\n",
    "def post_question_prediction(question_id, prediction_percentage):\n",
    "    \"\"\"\n",
    "    Post a prediction value (between 1 and 100) on the question.\n",
    "    \"\"\"\n",
    "    url = f\"{API_BASE_URL}/questions/{question_id}/predict/\"\n",
    "    response = requests.post(\n",
    "        url,\n",
    "        json={\"prediction\": float(prediction_percentage) / 100},\n",
    "        **AUTH_HEADERS,\n",
    "    )\n",
    "    response.raise_for_status()\n",
    "    print(\"Prediction posted for \", question_id)\n",
    "\n",
    "\n",
    "def get_question_details(question_id):\n",
    "    \"\"\"\n",
    "    Get all details about a specific question.\n",
    "    \"\"\"\n",
    "    url = f\"{API_BASE_URL}/questions/{question_id}/\"\n",
    "    response = requests.get(\n",
    "        url,\n",
    "        **AUTH_HEADERS,\n",
    "    )\n",
    "    response.raise_for_status()\n",
    "    return json.loads(response.content)\n",
    "\n",
    "def list_questions(tournament_id=WARMUP_TOURNAMENT_ID, offset=0, count=1000):\n",
    "    \"\"\"\n",
    "    List (all details) {count} questions from the {tournament_id}\n",
    "    \"\"\"\n",
    "    url_qparams = {\n",
    "        \"limit\": count,\n",
    "        \"offset\": offset,\n",
    "        \"has_group\": \"false\",\n",
    "        \"order_by\": \"-activity\",\n",
    "        \"forecast_type\": \"binary\",\n",
    "        \"project\": tournament_id,\n",
    "        \"status\": \"open\",\n",
    "        \"type\": \"forecast\",\n",
    "        \"include_description\": \"true\",\n",
    "    }\n",
    "    url = f\"{API_BASE_URL}/questions/\"\n",
    "    response = requests.get(url, **AUTH_HEADERS, params=url_qparams)\n",
    "    response.raise_for_status()\n",
    "    data = json.loads(response.content)\n",
    "    return data"
   ]
  },
  {
   "cell_type": "markdown",
   "metadata": {
    "jp-MarkdownHeadingCollapsed": true
   },
   "source": [
    "## Forecast outliers"
   ]
  },
  {
   "cell_type": "code",
   "execution_count": 6,
   "metadata": {},
   "outputs": [
    {
     "data": {
      "text/plain": [
       "100"
      ]
     },
     "execution_count": 6,
     "metadata": {},
     "output_type": "execute_result"
    }
   ],
   "source": [
    "url_qparams = {\n",
    "    \"project\": WARMUP_TOURNAMENT_ID,\n",
    "    \"type\": \"forecast\",\n",
    "    \"include_description\": \"true\",\n",
    "    \"limit\": 1000,\n",
    "}\n",
    "url = f\"{API_BASE_URL}/questions/\"\n",
    "response = requests.get(url, **AUTH_HEADERS, params=url_qparams)\n",
    "response.raise_for_status()\n",
    "data = json.loads(response.content)\n",
    "len(data['results'])"
   ]
  },
  {
   "cell_type": "code",
   "execution_count": 7,
   "metadata": {},
   "outputs": [
    {
     "name": "stdout",
     "output_type": "stream",
     "text": [
      "25852 PRACTICE: Will Donald Trump be elected to be US President in 2024?\n",
      "25876 Will exactly 2 Starship launches reach reach an altitude of 160 kilometers by Sept 30, 2024?\n",
      "25877 Will exactly 3 Starship launches reach reach an altitude of 160 kilometers by Sept 30, 2024?\n",
      "25878 Will exactly 2 or 3 Starship launches reach reach an altitude of 160 kilometers by Sept 30, 2024?\n",
      "25930 What will Trump's lead over Biden be greater than 2 and less than or equal to 3 on July 15, 2024, according to 538's national polling average?\n",
      "25931 What will Trump's lead over Biden be greater than 3 and less than or equal to 4 on July 15, 2024, according to 538's national polling average?\n",
      "25932 What will Trump's lead over Biden be greater than 2 and less than or equal to 4 on July 15, 2024, according to 538's national polling average?\n"
     ]
    }
   ],
   "source": [
    "questions = data['results']\n",
    "excluded = [q for q in questions if q['resolution']==-2]\n",
    "for q in excluded:\n",
    "    print(q['id'], q['title'])"
   ]
  },
  {
   "cell_type": "code",
   "execution_count": 8,
   "metadata": {},
   "outputs": [
    {
     "data": {
      "image/png": "[encoded data removed]",
      "text/plain": [
       "<Figure size 640x480 with 1 Axes>"
      ]
     },
     "metadata": {},
     "output_type": "display_data"
    }
   ],
   "source": [
    "import matplotlib.pylab as plt\n",
    "live = [q for q in questions if q['resolution']!=-2]\n",
    "plt.plot([q['number_of_forecasters'] for q in live]);\n",
    "plt.title('Forecasters over time for live questions')\n",
    "plt.xlabel('Question appearance order')\n",
    "plt.ylabel('Number of forecasts');"
   ]
  },
  {
   "cell_type": "code",
   "execution_count": 9,
   "metadata": {},
   "outputs": [],
   "source": [
    "unresolved = [q for q in live if q['active_state']!='RESOLVED']"
   ]
  },
  {
   "cell_type": "code",
   "execution_count": 10,
   "metadata": {},
   "outputs": [
    {
     "data": {
      "text/plain": [
       "0.7"
      ]
     },
     "execution_count": 10,
     "metadata": {},
     "output_type": "execute_result"
    }
   ],
   "source": [
    "q = unresolved[0]\n",
    "my_forecast = q['my_predictions']['predictions'][-1]['x']\n",
    "my_forecast"
   ]
  },
  {
   "cell_type": "code",
   "execution_count": 11,
   "metadata": {},
   "outputs": [
    {
     "name": "stdout",
     "output_type": "stream",
     "text": [
      "metaculus_prediction\n",
      "{'full': 0.5024689125622709, 'history': [{'t': 1720450200.370142, 'x': 0.8337676266572321}, {'t': 1720451373.706415, 'x': 0.8187277404948885}, {'t': 1720451389.565865, 'x': 0.8187257091644053}, {'t': 1720451406.039746, 'x': 0.8187235981169729}, {'t': 1720451425.714539, 'x': 0.8187210753412929}, {'t': 1720451443.074749, 'x': 0.8187188496759453}, {'t': 1720451445.618497, 'x': 0.8187185219941754}, {'t': 1720451668.536768, 'x': 0.8025548559812409}, {'t': 1720451675.324353, 'x': 0.8025539422318363}, {'t': 1720451680.677244, 'x': 0.8025532208419889}, {'t': 1720451687.469944, 'x': 0.8025523033770009}, {'t': 1720451692.927313, 'x': 0.8025515665763562}, {'t': 1720451694.634206, 'x': 0.8025513351056854}, {'t': 1720454178.276012, 'x': 0.7230904489824356}, {'t': 1720458154.499796, 'x': 0.7161695686997194}, {'t': 1720458309.208368, 'x': 0.7476343917622305}, {'t': 1720459439.449585, 'x': 0.7780937770580579}, {'t': 1720460754.261539, 'x': 0.7270302779436294}, {'t': 1720464615.437281, 'x': 0.7182977132586494}, {'t': 1720464803.54604, 'x': 0.7182836221425718}, {'t': 1720466934.354001, 'x': 0.7210387398422137}, {'t': 1720466991.092354, 'x': 0.7110746907837661}, {'t': 1720467028.68029, 'x': 0.7110721199195661}, {'t': 1720467042.782669, 'x': 0.7110711548299993}, {'t': 1720469445.355366, 'x': 0.7177559540291147}, {'t': 1720470124.829788, 'x': 0.5629158590120245}, {'t': 1720474261.374167, 'x': 0.553817400835054}, {'t': 1720478748.146235, 'x': 0.5154561153605863}, {'t': 1720481019.35404, 'x': 0.5846149470163693}, {'t': 1720481090.130185, 'x': 0.5912715370830793}, {'t': 1720484133.713611, 'x': 0.6193066460515297}, {'t': 1720489025.810188, 'x': 0.6213447789296721}, {'t': 1720496935.02118, 'x': 0.6204018864322737}, {'t': 1720499334.503558, 'x': 0.6208889017455651}, {'t': 1720508619.545002, 'x': 0.5933002165536589}, {'t': 1720514033.537639, 'x': 0.5945126598960937}, {'t': 1720516596.616872, 'x': 0.5708981444273153}, {'t': 1720521662.246124, 'x': 0.5708301912325511}, {'t': 1720523826.625283, 'x': 0.5709363610157983}, {'t': 1720525506.18597, 'x': 0.5028677081758062}, {'t': 1720528232.065253, 'x': 0.5092364340155682}, {'t': 1720530488.159644, 'x': 0.4889392147809964}, {'t': 1720530637.931403, 'x': 0.4886454330054744}, {'t': 1720533215.843185, 'x': 0.5043370438809948}, {'t': 1720534587.481425, 'x': 0.5047046189878269}, {'t': 1720534784.913204, 'x': 0.5024689125622709}], 'postdiction': 0.5059803550741016}\n",
      "community_prediction\n",
      "{'full': {'y': [0.0, 0.0, 0.0, 0.0, 0.0, 0.0, 0.0, 0.0, 0.0, 0.0, 0.15918, 0.0, 0.0, 0.0, 0.0, 0.58986, 0.0, 0.0, 0.0, 0.0, 0.02771, 0.0, 0.0, 0.0, 0.0, 0.0, 0.0, 0.0, 0.0, 0.0, 0.0, 0.0, 0.0, 0.0, 0.0, 0.0, 0.0, 0.0, 0.0, 0.0, 0.0, 0.0, 0.0, 0.73375, 0.0, 0.0, 0.0, 0.0, 0.0, 0.0, 0.92306, 0.0, 0.324, 0.0, 0.0, 0.06304, 0.0, 0.0, 1.0, 0.0, 0.18575, 0.0, 0.0, 0.0, 0.0, 0.75371, 0.0, 0.0, 0.0, 0.0, 0.29776, 0.0, 0.52671, 0.13534, 0.0, 0.36788, 0.0, 0.0, 0.0, 0.0, 1.03059, 0.0, 0.90391, 0.0, 0.0, 0.30244, 0.0, 0.114, 0.0, 0.0, 0.07804, 0.0, 0.0, 0.0, 0.0, 0.0, 0.0, 0.0, 0.0, 0.0, 0.0], 'q1': 0.5, 'q2': 0.65, 'q3': 0.8}, 'history': [{'t': 1720450200.361637, 'np': 1, 'nu': 1, 'x1': {'q1': 0.85, 'q2': 0.85, 'q3': 0.85}, 'x2': {'avg': 0.85, 'var': 0.0, 'weighted_avg': 0.85}}, {'t': 1720451373.699808, 'np': 2, 'nu': 2, 'x1': {'q1': 0.2, 'q2': 0.525, 'q3': 0.85}, 'x2': {'avg': 0.525, 'var': 0.106, 'weighted_avg': 0.525}}, {'t': 1720451389.559073, 'np': 3, 'nu': 2, 'x1': {'q1': 0.2, 'q2': 0.525, 'q3': 0.85}, 'x2': {'avg': 0.525, 'var': 0.106, 'weighted_avg': 0.525}}, {'t': 1720451406.031873, 'np': 4, 'nu': 2, 'x1': {'q1': 0.2, 'q2': 0.525, 'q3': 0.85}, 'x2': {'avg': 0.525, 'var': 0.106, 'weighted_avg': 0.525}}, {'t': 1720451425.706732, 'np': 5, 'nu': 2, 'x1': {'q1': 0.2, 'q2': 0.525, 'q3': 0.85}, 'x2': {'avg': 0.525, 'var': 0.106, 'weighted_avg': 0.525}}, {'t': 1720451443.065415, 'np': 6, 'nu': 2, 'x1': {'q1': 0.2, 'q2': 0.525, 'q3': 0.85}, 'x2': {'avg': 0.525, 'var': 0.106, 'weighted_avg': 0.525}}, {'t': 1720451445.611908, 'np': 7, 'nu': 2, 'x1': {'q1': 0.2, 'q2': 0.525, 'q3': 0.85}, 'x2': {'avg': 0.525, 'var': 0.106, 'weighted_avg': 0.525}}, {'t': 1720451668.530185, 'np': 8, 'nu': 3, 'x1': {'q1': 0.2, 'q2': 0.5, 'q3': 0.5}, 'x2': {'avg': 0.517, 'var': 0.071, 'weighted_avg': 0.477}}, {'t': 1720451675.316835, 'np': 9, 'nu': 3, 'x1': {'q1': 0.2, 'q2': 0.5, 'q3': 0.5}, 'x2': {'avg': 0.517, 'var': 0.071, 'weighted_avg': 0.477}}, {'t': 1720451680.669111, 'np': 10, 'nu': 3, 'x1': {'q1': 0.2, 'q2': 0.5, 'q3': 0.5}, 'x2': {'avg': 0.517, 'var': 0.071, 'weighted_avg': 0.477}}, {'t': 1720451687.461787, 'np': 11, 'nu': 3, 'x1': {'q1': 0.2, 'q2': 0.5, 'q3': 0.5}, 'x2': {'avg': 0.517, 'var': 0.071, 'weighted_avg': 0.477}}, {'t': 1720451692.919659, 'np': 12, 'nu': 3, 'x1': {'q1': 0.2, 'q2': 0.5, 'q3': 0.5}, 'x2': {'avg': 0.517, 'var': 0.071, 'weighted_avg': 0.477}}, {'t': 1720451694.625146, 'np': 13, 'nu': 3, 'x1': {'q1': 0.2, 'q2': 0.5, 'q3': 0.5}, 'x2': {'avg': 0.517, 'var': 0.071, 'weighted_avg': 0.477}}, {'t': 1720454178.265956, 'np': 14, 'nu': 4, 'x1': {'q1': 0.5, 'q2': 0.7, 'q3': 0.7}, 'x2': {'avg': 0.562, 'var': 0.059, 'weighted_avg': 0.56}}, {'t': 1720458154.490948, 'np': 15, 'nu': 5, 'x1': {'q1': 0.5, 'q2': 0.55, 'q3': 0.7}, 'x2': {'avg': 0.56, 'var': 0.047, 'weighted_avg': 0.557}}, {'t': 1720458309.20035, 'np': 16, 'nu': 6, 'x1': {'q1': 0.55, 'q2': 0.7, 'q3': 0.83}, 'x2': {'avg': 0.605, 'var': 0.05, 'weighted_avg': 0.634}}, {'t': 1720459439.440634, 'np': 17, 'nu': 6, 'x1': {'q1': 0.55, 'q2': 0.7, 'q3': 0.9}, 'x2': {'avg': 0.617, 'var': 0.056, 'weighted_avg': 0.654}}, {'t': 1720460754.253059, 'np': 18, 'nu': 7, 'x1': {'q1': 0.55, 'q2': 0.65, 'q3': 0.85}, 'x2': {'avg': 0.621, 'var': 0.048, 'weighted_avg': 0.653}}, {'t': 1720464615.428486, 'np': 19, 'nu': 8, 'x1': {'q1': 0.2, 'q2': 0.55, 'q3': 0.7}, 'x2': {'avg': 0.545, 'var': 0.083, 'weighted_avg': 0.502}}, {'t': 1720464803.539238, 'np': 20, 'nu': 8, 'x1': {'q1': 0.2, 'q2': 0.55, 'q3': 0.7}, 'x2': {'avg': 0.545, 'var': 0.083, 'weighted_avg': 0.502}}, {'t': 1720466934.346554, 'np': 21, 'nu': 9, 'x1': {'q1': 0.5, 'q2': 0.65, 'q3': 0.87}, 'x2': {'avg': 0.581, 'var': 0.084, 'weighted_avg': 0.582}}, {'t': 1720466991.084463, 'np': 22, 'nu': 10, 'x1': {'q1': 0.55, 'q2': 0.725, 'q3': 0.87}, 'x2': {'avg': 0.596, 'var': 0.077, 'weighted_avg': 0.611}}, {'t': 1720467028.672478, 'np': 23, 'nu': 10, 'x1': {'q1': 0.55, 'q2': 0.725, 'q3': 0.87}, 'x2': {'avg': 0.596, 'var': 0.077, 'weighted_avg': 0.611}}, {'t': 1720467042.774888, 'np': 24, 'nu': 10, 'x1': {'q1': 0.55, 'q2': 0.725, 'q3': 0.87}, 'x2': {'avg': 0.596, 'var': 0.077, 'weighted_avg': 0.611}}, {'t': 1720469445.345874, 'np': 25, 'nu': 10, 'x1': {'q1': 0.65, 'q2': 0.725, 'q3': 0.85}, 'x2': {'avg': 0.67, 'var': 0.04, 'weighted_avg': 0.717}}, {'t': 1720470124.822268, 'np': 26, 'nu': 11, 'x1': {'q1': 0.5, 'q2': 0.725, 'q3': 0.75}, 'x2': {'avg': 0.618, 'var': 0.063, 'weighted_avg': 0.598}}, {'t': 1720474261.360278, 'np': 27, 'nu': 12, 'x1': {'q1': 0.55, 'q2': 0.65, 'q3': 0.75}, 'x2': {'avg': 0.616, 'var': 0.058, 'weighted_avg': 0.599}}, {'t': 1720478748.1372, 'np': 28, 'nu': 13, 'x1': {'q1': 0.43, 'q2': 0.6, 'q3': 0.75}, 'x2': {'avg': 0.602, 'var': 0.056, 'weighted_avg': 0.569}}, {'t': 1720481019.344929, 'np': 29, 'nu': 13, 'x1': {'q1': 0.6, 'q2': 0.725, 'q3': 0.8}, 'x2': {'avg': 0.63, 'var': 0.056, 'weighted_avg': 0.634}}, {'t': 1720481090.117677, 'np': 30, 'nu': 14, 'x1': {'q1': 0.6, 'q2': 0.7, 'q3': 0.8}, 'x2': {'avg': 0.635, 'var': 0.052, 'weighted_avg': 0.645}}, {'t': 1720484133.701656, 'np': 31, 'nu': 15, 'x1': {'q1': 0.6, 'q2': 0.725, 'q3': 0.85}, 'x2': {'avg': 0.65, 'var': 0.052, 'weighted_avg': 0.677}}, {'t': 1720489025.800136, 'np': 32, 'nu': 16, 'x1': {'q1': 0.65, 'q2': 0.7, 'q3': 0.8}, 'x2': {'avg': 0.653, 'var': 0.049, 'weighted_avg': 0.681}}, {'t': 1720496935.009996, 'np': 33, 'nu': 17, 'x1': {'q1': 0.55, 'q2': 0.7, 'q3': 0.8}, 'x2': {'avg': 0.645, 'var': 0.047, 'weighted_avg': 0.657}}, {'t': 1720499334.494851, 'np': 34, 'nu': 18, 'x1': {'q1': 0.6, 'q2': 0.7, 'q3': 0.75}, 'x2': {'avg': 0.651, 'var': 0.045, 'weighted_avg': 0.67}}, {'t': 1720508619.533269, 'np': 35, 'nu': 19, 'x1': {'q1': 0.52, 'q2': 0.7, 'q3': 0.75}, 'x2': {'avg': 0.643, 'var': 0.043, 'weighted_avg': 0.647}}, {'t': 1720511691.120698, 'np': 36, 'nu': 20, 'x1': {'q1': 0.52, 'q2': 0.7, 'q3': 0.85}, 'x2': {'avg': 0.653, 'var': 0.043, 'weighted_avg': 0.674}}, {'t': 1720516596.603594, 'np': 37, 'nu': 21, 'x1': {'q1': 0.5, 'q2': 0.7, 'q3': 0.8}, 'x2': {'avg': 0.646, 'var': 0.042, 'weighted_avg': 0.651}}, {'t': 1720521662.235603, 'np': 38, 'nu': 21, 'x1': {'q1': 0.5, 'q2': 0.7, 'q3': 0.75}, 'x2': {'avg': 0.644, 'var': 0.042, 'weighted_avg': 0.656}}, {'t': 1720523826.61469, 'np': 39, 'nu': 21, 'x1': {'q1': 0.5, 'q2': 0.7, 'q3': 0.75}, 'x2': {'avg': 0.645, 'var': 0.042, 'weighted_avg': 0.659}}, {'t': 1720525506.176595, 'np': 40, 'nu': 22, 'x1': {'q1': 0.5, 'q2': 0.7, 'q3': 0.75}, 'x2': {'avg': 0.622, 'var': 0.051, 'weighted_avg': 0.594}}, {'t': 1720528232.056357, 'np': 41, 'nu': 23, 'x1': {'q1': 0.5, 'q2': 0.65, 'q3': 0.725}, 'x2': {'avg': 0.623, 'var': 0.049, 'weighted_avg': 0.601}}, {'t': 1720530488.148874, 'np': 42, 'nu': 24, 'x1': {'q1': 0.5, 'q2': 0.65, 'q3': 0.72}, 'x2': {'avg': 0.615, 'var': 0.048, 'weighted_avg': 0.581}}, {'t': 1720530637.920324, 'np': 43, 'nu': 24, 'x1': {'q1': 0.5, 'q2': 0.65, 'q3': 0.75}, 'x2': {'avg': 0.611, 'var': 0.046, 'weighted_avg': 0.587}}, {'t': 1720533215.833219, 'np': 44, 'nu': 24, 'x1': {'q1': 0.5, 'q2': 0.65, 'q3': 0.75}, 'x2': {'avg': 0.615, 'var': 0.048, 'weighted_avg': 0.61}}, {'t': 1720534587.471961, 'np': 45, 'nu': 24, 'x1': {'q1': 0.5, 'q2': 0.65, 'q3': 0.8}, 'x2': {'avg': 0.618, 'var': 0.049, 'weighted_avg': 0.618}}, {'t': 1720534784.901454, 'np': 46, 'nu': 25, 'x1': {'q1': 0.5, 'q2': 0.65, 'q3': 0.8}, 'x2': {'avg': 0.617, 'var': 0.047, 'weighted_avg': 0.614}}], 'unweighted': {'y': [0, 0, 0, 0, 0, 0, 0, 0, 0, 0, 1, 0, 0, 0, 0, 1, 0, 0, 0, 0, 1, 0, 0, 0, 0, 0, 0, 0, 0, 0, 0, 0, 0, 0, 0, 0, 0, 0, 0, 0, 0, 0, 0, 1, 0, 0, 0, 0, 0, 0, 3, 0, 1, 0, 0, 1, 0, 0, 1, 0, 1, 0, 0, 0, 0, 2, 0, 0, 0, 0, 2, 0, 1, 1, 0, 1, 0, 0, 0, 0, 2, 0, 1, 0, 0, 2, 0, 1, 0, 0, 1, 0, 0, 0, 0, 0, 0, 0, 0, 0, 0], 'q1': 0.5, 'q2': 0.65, 'q3': 0.8}}\n",
      "prediction_count\n",
      "46\n",
      "unweighted_community_prediction_v2\n",
      "None\n",
      "recency_weighted_community_prediction_v2\n",
      "None\n",
      "my_predictions\n",
      "{'id': 704509, 'predictions': [{'t': 1720481090.096992, 'x': 0.7}], 'points_won': None, 'user': 191284, 'question': 25873, 'active': True, 'log_score': None, 'absolute_log_score': None, 'coverage': None, 'username': '000_bot', 'unweighted_coverage': 0}\n",
      "user_prediction_sequence\n",
      "None\n"
     ]
    }
   ],
   "source": [
    "for x in [x for x in q.keys() if 'prediction' in x]:\n",
    "    print(x)\n",
    "    print(q[x])"
   ]
  },
  {
   "cell_type": "code",
   "execution_count": null,
   "metadata": {},
   "outputs": [],
   "source": [
    "q.keys()"
   ]
  },
  {
   "cell_type": "code",
   "execution_count": null,
   "metadata": {},
   "outputs": [],
   "source": [
    "df = pd.DataFrame(q['metaculus_prediction']['history'])\n",
    "df['t'] = pd.to_datetime(df['t'], unit='s')\n",
    "df.plot(x='t', y='x')\n",
    "plt.title(f'Metaculus prediction for {q[\"id\"]}');"
   ]
  },
  {
   "cell_type": "code",
   "execution_count": null,
   "metadata": {},
   "outputs": [],
   "source": [
    "q['community_prediction'].keys()"
   ]
  },
  {
   "cell_type": "code",
   "execution_count": null,
   "metadata": {},
   "outputs": [],
   "source": [
    "q['community_prediction']['full']['q2']"
   ]
  },
  {
   "cell_type": "code",
   "execution_count": null,
   "metadata": {},
   "outputs": [],
   "source": [
    "df = pd.DataFrame([(q['id'], q['title'], q['my_predictions']['predictions'][-1]['x'], q['community_prediction']['full']['q2']) for q in unresolved], columns=['id', 'title', 'bot', 'community'])"
   ]
  },
  {
   "cell_type": "code",
   "execution_count": null,
   "metadata": {},
   "outputs": [],
   "source": [
    "df.plot.scatter(y='bot', x='community')\n",
    "rho = df['bot'].corr(df['community'])\n",
    "plt.title(f'My bot vs bot crowd: Correlation {int(100*rho)}%');"
   ]
  },
  {
   "cell_type": "code",
   "execution_count": null,
   "metadata": {},
   "outputs": [],
   "source": [
    "import numpy as np\n",
    "df = pd.DataFrame([(q['id'], q['title'], q['my_predictions']['predictions'][-1]['x'], q['community_prediction']['full']['q2']) for q in unresolved], columns=['id', 'title', 'bot', 'community'])\n",
    "df['diff'] = np.abs(df.bot-df.community)\n",
    "df = df.sort_values(by='diff',ascending=False).reset_index(drop=True)\n",
    "pd.set_option('display.max_rows', 500)\n",
    "pd.set_option('display.max_colwidth', 150)\n",
    "df[df.index < 10]"
   ]
  },
  {
   "cell_type": "code",
   "execution_count": null,
   "metadata": {},
   "outputs": [],
   "source": [
    "diff10 = df[df.index < 10]\n",
    "diff10.plot.scatter(y='bot', x='community')\n",
    "rho = diff10['bot'].corr(diff10['community'])\n",
    "plt.title(f'My bot vs bot crowd on 10 top outliers: Correlation {int(100*rho)}%');"
   ]
  },
  {
   "cell_type": "code",
   "execution_count": null,
   "metadata": {},
   "outputs": [],
   "source": []
  },
  {
   "cell_type": "markdown",
   "metadata": {},
   "source": [
    "## IFP"
   ]
  },
  {
   "cell_type": "code",
   "execution_count": 11,
   "metadata": {},
   "outputs": [],
   "source": [
    "class IFP:\n",
    "\n",
    "    forecast_fields = ['question_id',\n",
    "                       'title',\n",
    "                       'feedback',\n",
    "                       'resolution_criteria', \n",
    "                       'background', \n",
    "                       'event', \n",
    "                       'model_domain']\n",
    "\n",
    "    forecast_format = f\"|{'|'.join(forecast_fields)}|\"\n",
    "\n",
    "    openai_max_tokens = 30000\n",
    "\n",
    "    def format(self):\n",
    "        rec = vars(self)\n",
    "        fmt = '|'.join([f\"{x}: {rec[x]}\" for x in self.forecast_fields])\n",
    "        return '|' + fmt + '|'\n",
    "\n",
    "    def over_openai_max(self):\n",
    "        sep = self.format()\n",
    "        return len(sep.split(' ')) > self.openai_max_tokens # Max limit for OpenAI\n",
    "\n",
    "    def record(self):\n",
    "        return self.format()\n",
    "        if self.over_openai_max(): \n",
    "            self.news = ' '.join(self.news.split(' ')[0:int(0.5*self.openai_max_tokens)])\n",
    "        if self.over_openai_max(): \n",
    "            self.research = ' '.join(self.research.split(' ')[0:int(0.5*self.openai_max_tokens)])\n",
    "        if self.over_openai_max(): \n",
    "            raise Exception('IFP record over OpenAI max')\n",
    "        return self.format()\n",
    "\n",
    "    def __init__(self, question_id):\n",
    "        self.question_id = question_id\n",
    "        self.question_details = get_question_details(self.question_id)\n",
    "        self.today = datetime.datetime.now().strftime(\"%Y-%m-%d\")   \n",
    "        self.title = self.question_details[\"title\"]\n",
    "        self.resolution_criteria = self.question_details[\"resolution_criteria\"]\n",
    "        self.background = self.question_details[\"description\"]\n",
    "        self.fine_print = self.question_details[\"fine_print\"]\n",
    "        self.event = ''\n",
    "        self.model_domain = ''\n",
    "        self.feedback = ''\n",
    "\n",
    "    def report(self):\n",
    "        rpt = f\"\"\"\n",
    "The future event is described by this question: [ {self.title} ]\n",
    "The resolution criteria are: [ {self.resolution_criteria} ]\n",
    "The background is: [ {self.background} ]\"\"\"\n",
    "        if self.fine_print:\n",
    "            rpt += f\"\"\"\n",
    "The fine print is: [ {self.fine_print} ]\"\"\"\n",
    "        return rpt\n",
    "\n",
    "    def upload(self):\n",
    "        post_question_prediction(self.question_id, self.forecast)\n",
    "        post_question_comment(self.question_id, self.rationale)"
   ]
  },
  {
   "cell_type": "code",
   "execution_count": 12,
   "metadata": {},
   "outputs": [],
   "source": [
    "unit_test = False"
   ]
  },
  {
   "cell_type": "code",
   "execution_count": 13,
   "metadata": {},
   "outputs": [],
   "source": [
    "if unit_test:\n",
    "    qid = 26775\n",
    "    ifp = IFP(qid)\n",
    "    ifps = {qid: ifp}\n",
    "    print(ifp.record())"
   ]
  },
  {
   "cell_type": "markdown",
   "metadata": {},
   "source": [
    "## News source (AskNews)"
   ]
  },
  {
   "cell_type": "raw",
   "metadata": {},
   "source": [
    "pip install asknews"
   ]
  },
  {
   "cell_type": "markdown",
   "metadata": {},
   "source": [
    "https://colab.research.google.com/drive/1tc383HraMZOiyfKFF1EXAtlTYbsuv3Q5?usp=sharing"
   ]
  },
  {
   "cell_type": "code",
   "execution_count": 14,
   "metadata": {},
   "outputs": [],
   "source": [
    "from asknews_sdk import AskNewsSDK\n",
    "\n",
    "class AskNews():\n",
    "\n",
    "    def __init__(self):\n",
    "        ASKNEWS_CLIENT_ID = config.ASKNEWS_CLIENT_ID\n",
    "        ASKNEWS_SECRET = config.ASKNEWS_SECRET\n",
    "        \n",
    "        self.ask = AskNewsSDK(\n",
    "              client_id=config.ASKNEWS_CLIENT_ID,\n",
    "              client_secret=config.ASKNEWS_SECRET,\n",
    "              scopes=[\"news\"]\n",
    "          )\n",
    "\n",
    "        self.cache = {}\n",
    "        \n",
    "    def query(self, \n",
    "              q, \n",
    "              method,    # use \"nl\" for natural language for your search, or \"kw\" for keyword, or 'both'\n",
    "              strategy,\n",
    "              return_type=\"dicts\"): # strategy=\"latest news\" enforces looking at the latest news only\n",
    "                         # strategy=\"news knowledge\" looks for relevant news within the past 60 days\n",
    "        return self.ask.news.search_news(\n",
    "            query=q, # your keyword query\n",
    "            n_articles=10, # control the number of articles to include in the context\n",
    "            return_type=return_type,  # you can also ask for \"dicts\" if you want more information\n",
    "            method=method, \n",
    "            strategy=strategy).as_dicts # strategy=\"latest news\" enforces looking at the latest news only,\n",
    "\n",
    "    def multi_strategy(self, q, return_type=\"dicts\"):\n",
    "        all = []\n",
    "        for strategy in ['latest news', 'news knowledge']:\n",
    "            for x in self.query(q, 'both', strategy):\n",
    "                all.append(x.summary if return_type==\"dicts\" else x)\n",
    "        print(\"ALL\")\n",
    "        print(all[0])\n",
    "        all = list(set(all))\n",
    "        return '\\n\\n'.join(all)\n",
    "\n",
    "    def research(self, group, return_type=\"dicts\"):\n",
    "        q = '\\n'.join(ifp.title.strip() for ifp in group)\n",
    "        try:\n",
    "            return self.cache[q]\n",
    "        except:\n",
    "            news = self.multi_strategy(q,return_type)\n",
    "            self.cache[q] = news\n",
    "        return news"
   ]
  },
  {
   "cell_type": "code",
   "execution_count": 15,
   "metadata": {},
   "outputs": [],
   "source": [
    "if unit_test:\n",
    "    ask = AskNews()\n",
    "    group = [IFP(id) for id in [26771, 26772, 26773, 26774]]\n",
    "    news = ask.research(group)\n",
    "    print(news)"
   ]
  },
  {
   "cell_type": "markdown",
   "metadata": {},
   "source": [
    "## LLMs"
   ]
  },
  {
   "cell_type": "markdown",
   "metadata": {},
   "source": [
    "### In general"
   ]
  },
  {
   "cell_type": "code",
   "execution_count": 16,
   "metadata": {},
   "outputs": [],
   "source": [
    "class LLM:\n",
    "    def __init__(self, system_role):\n",
    "        self.system_role = system_role\n",
    "        self.messages = [{\"role\": \"system\", \"content\": system_role}]\n",
    "        self.cache = {}\n",
    "\n",
    "    def chat(self, query):\n",
    "        try:\n",
    "            return self.cache[query]\n",
    "        except:\n",
    "            self.messages.append({\"role\": \"user\", \"content\": query})\n",
    "            text = self.message()\n",
    "            self.messages.append({\"role\": \"assistant\", \"content\": text})\n",
    "            self.cache[query] = text\n",
    "            return text"
   ]
  },
  {
   "cell_type": "markdown",
   "metadata": {},
   "source": [
    "### MetaAI"
   ]
  },
  {
   "cell_type": "markdown",
   "metadata": {},
   "source": [
    "https://pypi.org/project/meta-ai-api/1.0.6/"
   ]
  },
  {
   "cell_type": "code",
   "execution_count": 17,
   "metadata": {},
   "outputs": [],
   "source": [
    "from meta_ai_api import MetaAI as mai"
   ]
  },
  {
   "cell_type": "code",
   "execution_count": 18,
   "metadata": {},
   "outputs": [],
   "source": [
    "class MetaAI(LLM):\n",
    "\n",
    "    def __init__(self, system_role = \"Nice talker\"):\n",
    "        self.ai = mai()\n",
    "        super().__init__(system_role)\n",
    "        \n",
    "    def message(self):\n",
    "        self.response = self.ai.prompt(message=self.messages[-1]['content'])\n",
    "        return self.response['message']"
   ]
  },
  {
   "cell_type": "code",
   "execution_count": 19,
   "metadata": {},
   "outputs": [],
   "source": [
    "if unit_test:\n",
    "    ai = MetaAI()\n",
    "    r = ai.chat(ifp.title)\n",
    "    print(r)"
   ]
  },
  {
   "cell_type": "markdown",
   "metadata": {},
   "source": [
    "### HuggingChat"
   ]
  },
  {
   "cell_type": "markdown",
   "metadata": {},
   "source": [
    "https://pypi.org/project/hugchat/"
   ]
  },
  {
   "cell_type": "code",
   "execution_count": 20,
   "metadata": {},
   "outputs": [],
   "source": [
    "from hugchat import hugchat\n",
    "from hugchat.login import Login"
   ]
  },
  {
   "cell_type": "code",
   "execution_count": 21,
   "metadata": {},
   "outputs": [],
   "source": [
    "class HuggingChat(LLM):\n",
    "\n",
    "    def __init__(self, system_role = \"Nice talker\"):\n",
    "        # Log in to huggingface and grant authorization to huggingchat\n",
    "        EMAIL = config.HUGGINGFACE_USERNAME\n",
    "        PASSWD = config.HUGGINGFACE_PASSWORD\n",
    "        cookie_path_dir = \"./cookies/\" # NOTE: trailing slash (/) is required to avoid errors\n",
    "        sign = Login(EMAIL, PASSWD)\n",
    "        cookies = sign.login(cookie_dir_path=cookie_path_dir, save_cookies=True)\n",
    "        self.chatbot = hugchat.ChatBot(cookies=cookies.get_dict()) \n",
    "        super().__init__(system_role)\n",
    "        \n",
    "    def message(self):\n",
    "        result = ''.join([x['token'] for x in self.chatbot.chat(self.system_role + '\\n\\n' + self.messages[-1]['content']) if x])\n",
    "        return result\n",
    "\n",
    "    def web_search(self, query):\n",
    "        query_result = self.chatbot.query(query, web_search=True)\n",
    "        return query_result\n",
    "        print(query_result)\n",
    "        for source in query_result.web_search_sources:\n",
    "            print(source.link)\n",
    "            print(source.title)\n",
    "            print(source.hostname)\n",
    "\n",
    "    def available_models(self):\n",
    "        return [(i,str(x)) for i,x in enumerate(self.chatbot.get_available_llm_models())]\n",
    "\n",
    "    def switch_llm(self, i):\n",
    "        self.chatbot.switch_llm(i)\n",
    "\n",
    "    def conversation_info(self):\n",
    "        info = self.chatbot.get_conversation_info()\n",
    "        # print(info.id, info.title, info.model, info.system_prompt, info.history)\n",
    "        return info"
   ]
  },
  {
   "cell_type": "code",
   "execution_count": 22,
   "metadata": {},
   "outputs": [],
   "source": [
    "if unit_test:\n",
    "    hc = HuggingChat()\n",
    "    hc.switch_llm(1)\n",
    "    print(hc.chat(ifp.title))"
   ]
  },
  {
   "cell_type": "markdown",
   "metadata": {},
   "source": [
    "### Metaculus Anthropic"
   ]
  },
  {
   "cell_type": "code",
   "execution_count": 23,
   "metadata": {},
   "outputs": [],
   "source": [
    "import json\n",
    "\n",
    "class Claude(LLM):\n",
    "       \n",
    "    def message(self):\n",
    "        content = self.messages[-1]['content']\n",
    "        url = \"https://www.metaculus.com/proxy/anthropic/v1/messages\"\n",
    "        headers =  {\"Authorization\": f\"Token {config.METACULUS_TOKEN}\",\n",
    "                    \"anthropic-version\": \"2023-06-01\",\n",
    "                    \"content-type\": \"application/json\"}\n",
    "        data = {\"model\": \"claude-3-5-sonnet-20240620\",\n",
    "                \"max_tokens\": 1024,\n",
    "                \"messages\": [{\"role\": \"user\", \"content\": self.system_role + '\\n\\n' + content}]}\n",
    "        response = requests.post(url, headers=headers, data = json.dumps(data))\n",
    "        # Check the response status code\n",
    "        if response.status_code != 200:\n",
    "            print(\"Request failed with status code\", response.status_code)\n",
    "            print(response.text)\n",
    "        return response.json()['content'][0]['text']"
   ]
  },
  {
   "cell_type": "code",
   "execution_count": 24,
   "metadata": {},
   "outputs": [],
   "source": [
    "if unit_test:\n",
    "    claude = Claude('Please help me.')\n",
    "    print(claude.chat(ifp.title))"
   ]
  },
  {
   "cell_type": "markdown",
   "metadata": {},
   "source": [
    "### Perplexity"
   ]
  },
  {
   "cell_type": "code",
   "execution_count": 25,
   "metadata": {},
   "outputs": [],
   "source": [
    "class Perplexity(LLM):\n",
    "    def message(self):\n",
    "        url = \"https://api.perplexity.ai/chat/completions\"\n",
    "        headers = {\n",
    "            \"accept\": \"application/json\",\n",
    "            \"authorization\": f\"Bearer {config.PERPLEXITY_API_KEY}\",\n",
    "            \"content-type\": \"application/json\"  }\n",
    "        payload = {\"model\": config.PERPLEXITY_MODEL, \"messages\": self.messages }\n",
    "        response = requests.post(url=url, json=payload, headers=headers)\n",
    "        response.raise_for_status()\n",
    "        return response.json()[\"choices\"][0][\"message\"][\"content\"]"
   ]
  },
  {
   "cell_type": "code",
   "execution_count": 26,
   "metadata": {},
   "outputs": [],
   "source": [
    "if unit_test:\n",
    "    perp = Perplexity('You are the most deeply knowledgeable web search engine and insightful analyst')\n",
    "    print(perp.chat(ifp.title))"
   ]
  },
  {
   "cell_type": "markdown",
   "metadata": {},
   "source": [
    "### Metaculus OpenAI"
   ]
  },
  {
   "cell_type": "code",
   "execution_count": 27,
   "metadata": {},
   "outputs": [],
   "source": [
    "import json\n",
    "\n",
    "class MetacGPT(LLM):\n",
    "\n",
    "    def __init__(self, system_role):\n",
    "        super().__init__(system_role)\n",
    "        \n",
    "    def message(self):\n",
    "        url = \"https://www.metaculus.com/proxy/openai/v1/chat/completions\"\n",
    "        headers =  {\"Authorization\": f\"Token {config.METACULUS_TOKEN}\",\n",
    "                    \"content-type\": \"application/json\"}\n",
    "        data = {\"model\": \"gpt-4o\",\n",
    "                \"max_tokens\": 1024,\n",
    "                \"messages\": self.messages}\n",
    "        response = requests.post(url, headers=headers, data = json.dumps(data))\n",
    "        # Check the response status code\n",
    "        if response.status_code != 200:\n",
    "            print(\"Request failed with status code\", response.status_code)\n",
    "            print(response.text)\n",
    "        self.rec = response.json()\n",
    "        return self.rec ['choices'][0]['message']['content']"
   ]
  },
  {
   "cell_type": "code",
   "execution_count": 28,
   "metadata": {},
   "outputs": [],
   "source": [
    "if unit_test:\n",
    "    mgpt = MetacGPT('Please help me')\n",
    "    print(mgpt.chat('Bruce Bueno de Mesquita'))"
   ]
  },
  {
   "cell_type": "markdown",
   "metadata": {},
   "source": [
    "### OpenAI"
   ]
  },
  {
   "cell_type": "code",
   "execution_count": 29,
   "metadata": {},
   "outputs": [],
   "source": [
    "class ChatGPT(LLM):\n",
    "    def __init__(self, system_role):\n",
    "        super().__init__(system_role)\n",
    "        self.client = OpenAI(api_key=config.OPENAI_API_KEY)\n",
    "\n",
    "    def message(self):\n",
    "        chat_completion = self.client.chat.completions.create(\n",
    "            model=config.OPENAI_MODEL,\n",
    "            messages= self.messages)\n",
    "        return chat_completion.choices[0].message.content"
   ]
  },
  {
   "cell_type": "code",
   "execution_count": 30,
   "metadata": {},
   "outputs": [],
   "source": [
    "if unit_test:\n",
    "    oai = ChatGPT('You are the most deeply knowledgeable web search engine and insightful analyst')\n",
    "    print(oai.chat(ifp.title))"
   ]
  },
  {
   "cell_type": "markdown",
   "metadata": {
    "id": "9WUvm1tVmMkO"
   },
   "source": [
    "## Agents"
   ]
  },
  {
   "cell_type": "markdown",
   "metadata": {},
   "source": [
    "#### Agent"
   ]
  },
  {
   "cell_type": "code",
   "execution_count": 31,
   "metadata": {},
   "outputs": [],
   "source": [
    "class Agent:\n",
    "    def __init__(self, system_role, llm):\n",
    "        self.llm = llm(system_role)\n",
    "\n",
    "    def chat(self, prompt):\n",
    "        return self.llm.chat(prompt)"
   ]
  },
  {
   "cell_type": "markdown",
   "metadata": {},
   "source": [
    "#### Question correlator for common topic inference"
   ]
  },
  {
   "cell_type": "code",
   "execution_count": 32,
   "metadata": {},
   "outputs": [],
   "source": [
    "class QuestionRelator(Agent):\n",
    "    def __init__(self, llm):\n",
    "        self.system_role = f\"\"\"\n",
    "You are prompted with list of forecasting questions, each with an id and a title.\n",
    "Label each question with an underlying event.\n",
    "If the questions are for the same event, use the same name for the underlying event.\n",
    "Please return as separate lines formatted as |event|id|title|, do not add any other formatting.\n",
    "\"\"\"\n",
    "        super().__init__(self.system_role, llm)\n",
    "\n",
    "    def relate(self, ifps):\n",
    "        prompt = '\\n'.join([f\"{ifp.question_id}: {ifp.title}\" for ifp in ifps.values()])\n",
    "        KL = self.chat(prompt)\n",
    "        print(KL)\n",
    "        K1 = [x.split('|') for x in KL.split('\\n')]\n",
    "        self.topic_map = [(int(id),event) for _,event,id,_,_ in K1]\n",
    "        self.topics = set([event for id,event in self.topic_map])\n",
    "        self.topic_groups = {topic: [ifps[x] for x,y in self.topic_map if y == topic] for topic in self.topics}\n",
    "        for id,event in self.topic_map :\n",
    "            ifps[id].event = event\n",
    "        return self.topic_groups"
   ]
  },
  {
   "cell_type": "code",
   "execution_count": 33,
   "metadata": {},
   "outputs": [],
   "source": [
    "if unit_test:\n",
    "    try:\n",
    "        ifps\n",
    "    except:\n",
    "        test_day = '01AUG24'\n",
    "        ifps = {id: IFP(id) for id in history[test_day]}\n",
    "    qr = QuestionRelator(ChatGPT)\n",
    "    print(qr.relate(ifps))"
   ]
  },
  {
   "cell_type": "markdown",
   "metadata": {},
   "source": [
    "#### Model domain classifier"
   ]
  },
  {
   "cell_type": "code",
   "execution_count": 34,
   "metadata": {},
   "outputs": [],
   "source": [
    "class ModelDomainClassifier(Agent):\n",
    "    def __init__(self, llm):\n",
    "        self.system_role = f\"\"\"\n",
    "A question about an event is formatted as |id|question|criteria|background|fineprint|.\n",
    "You will report the model domain of the question, one of\n",
    "\n",
    "Rate over time\n",
    "Weather prediction\n",
    "State executive action\n",
    "Election outcome\n",
    "Geopolitics\n",
    "Sports performance\n",
    "Military conflict\n",
    "Civil unrest\n",
    "Dated product announcement\n",
    "Market price\n",
    "Macroeconomics\n",
    "Epidemic\n",
    "Disease\n",
    "Drug discovery\n",
    "Medical device\n",
    "Crime\n",
    "Leadership change\n",
    "AI performance\n",
    "Astronomy\n",
    "Astrophysics\n",
    "Other\n",
    "\"\"\"\n",
    "        super().__init__(self.system_role, llm)\n",
    "\n",
    "    def classify(self, ifp):\n",
    "        prompt = f\"|{ifp.question_id}|{ifp.title}|{ifp.resolution_criteria}|{ifp.background}|{ifp.fine_print}|\"\n",
    "        self.R = self.chat(prompt)\n",
    "        ifp.model_domain = self.R\n",
    "        print(ifp.question_id, ifp.title)\n",
    "        print(self.R)"
   ]
  },
  {
   "cell_type": "code",
   "execution_count": 35,
   "metadata": {},
   "outputs": [],
   "source": [
    "if unit_test:\n",
    "    mdc = ModelDomainClassifier(ChatGPT)\n",
    "    for ifp in ifps.values():\n",
    "        mdc.classify(ifp)"
   ]
  },
  {
   "cell_type": "markdown",
   "metadata": {},
   "source": [
    "#### Rate Analyzer"
   ]
  },
  {
   "cell_type": "code",
   "execution_count": 36,
   "metadata": {},
   "outputs": [],
   "source": [
    "class RateAnalyzer(Agent):\n",
    "    def __init__(self, llm):\n",
    "        self.system_role = f\"\"\"\n",
    "A group of events are given, formatted as \"GROUP\" followed by a group of questions separated by carriage returns, followed by \"NEWS\" followed by news on the topic.\n",
    "Today's date is {today}.\n",
    "If the question is about a level that changes at some rate over time, you will report \n",
    "1. today's date, \n",
    "2. the end date of the question, \n",
    "3. the time in days D from today to end date, \n",
    "4. the daily rate of change R of the quantity,\n",
    "5. today's value V of the quantity,\n",
    "6. the change in value dV of the quantity = D * r,\n",
    "7. the final value of the quantity F = V + dV.  Give your best estimate.\n",
    "Otherwise if the question is about the date that an event will occur, you will report\n",
    "1. today's date, \n",
    "2. the end (measurement) date of the question, \n",
    "3. the time in days D from today to end date, \n",
    "4. the specific date at which the event is most likely to occur, without reference to the end date of the question\n",
    "5. whether the likely event date is before, or on or after the question end date\n",
    "\n",
    "Provide only one type of answer, not both.\n",
    "\"\"\"\n",
    "        super().__init__(self.system_role, llm)\n",
    "\n",
    "    def assess(self, group, news):\n",
    "        titles = '\\n'.join([ifp.title.strip() for ifp in group])\n",
    "        self.q = f'GROUP\\n{titles}\\nNEWS\\n{news}'\n",
    "        self.rates = self.chat(self.q)\n",
    "        return self.rates"
   ]
  },
  {
   "cell_type": "code",
   "execution_count": 37,
   "metadata": {},
   "outputs": [],
   "source": [
    "if unit_test:\n",
    "    try:\n",
    "        group\n",
    "    except:\n",
    "        group = [IFP(id) for id in [26771, 26772, 26773, 26774]]\n",
    "\n",
    "    rates = RateAnalyzer(ChatGPT)\n",
    "    r = rates.assess(group, news)\n",
    "    print(r)"
   ]
  },
  {
   "cell_type": "markdown",
   "metadata": {},
   "source": [
    "#### Superforecaster"
   ]
  },
  {
   "cell_type": "code",
   "execution_count": 38,
   "metadata": {},
   "outputs": [],
   "source": [
    "class Superforecaster(Agent):\n",
    "    def __init__(self, llm):\n",
    "        self.system_role = f\"\"\"\n",
    "You are a superforecaster.  \n",
    "You assign a probability to questions about events.\n",
    "Questions are given as GROUP|group_description followed by NEWS|group_news followed by RATES|group_rates \n",
    "followed by the questions in the group formatted QUESTIONS followed by, for each question, {IFP.forecast_format}.\n",
    "Questions which are about the same event should be assigned consistent probabilities.\n",
    "Reply to questions with |ASSESSMENT|id|ZZ|rationale| where ZZ is an integer probability from 1 to 99 and rationale is your reasoning for the forecast.\n",
    "Separate each question with '^^^'.\n",
    "Do not add any additional headings or group labels or other formatting.\n",
    "After your initial forecast you may receive feedback of form |CRITIC|id|feedback|.\n",
    "Reply to each feedback with |id|ZZ|rationale| where ZZ is an integer probability from 1 to 99 and \n",
    "and rationale is a revised assessment which may be adjusted from a prior assessment due the feedback unless the feedback is \"I concur\".\n",
    "\"\"\"\n",
    "        super().__init__(self.system_role, llm)\n",
    "\n",
    "    def forecast(self, event, news, rates, group):\n",
    "        ifps = '\\n'.join([ifp.record() for ifp in group])\n",
    "        prompt = f\"GROUP|{event}\\nNEWS|{news}\\nRATES|{rates}\\nQUESTIONS\\n{ifps}\"\n",
    "        self.F0 = self.chat(prompt)\n",
    "        self.F1 = [x.strip().replace('\\n', '') for x in self.F0.split('^^^')]\n",
    "        self.F2 = [x.split('|') for x in self.F1] \n",
    "        self.F3 = [[x for x in y if x] for y in self.F2]\n",
    "        self.F4 = [(int(id),int(forecast),rationale) for _, id, forecast, rationale in self.F3]\n",
    "        self.ifps = {ifp.question_id: ifp for ifp in group}\n",
    "        for id, forecast, rationale in self.F4:\n",
    "            self.ifps[id].forecast = forecast\n",
    "            self.ifps[id].rationale = rationale\n",
    "            print(id, forecast, rationale)\n",
    "\n",
    "    def reassess(self, ifp):\n",
    "        prompt = f\"|CRITIC|{ifp.question_id}|{ifp.feedback}|\"\n",
    "        self.R0 = self.chat(prompt)\n",
    "        id,fcst,rationale = [x for x in self.R0.strip().split('|') if x]\n",
    "        id = int(id)\n",
    "        fcst = int(fcst)\n",
    "        ifps[id].forecast = fcst\n",
    "        ifps[id].rationale = rationale\n",
    "        print(id, fcst, rationale)"
   ]
  },
  {
   "cell_type": "code",
   "execution_count": 39,
   "metadata": {},
   "outputs": [],
   "source": [
    "if unit_test:\n",
    "    sf = Superforecaster(ChatGPT)\n",
    "    event = '2024 Grand Chess Tour'\n",
    "    group = qr.topic_groups[event]\n",
    "    sf.forecast(event, news, r, group)"
   ]
  },
  {
   "cell_type": "markdown",
   "metadata": {},
   "source": [
    "#### Critic"
   ]
  },
  {
   "cell_type": "code",
   "execution_count": 40,
   "metadata": {},
   "outputs": [],
   "source": [
    "class Critic (Agent):\n",
    "    def __init__(self, llm):\n",
    "\n",
    "        self.system_role = f\"\"\"\n",
    "You a very smart and worldly person reviewing a superforecaster's assignment of probabilities to events.\n",
    "You will receive an event with probabilities given as |event|id|question|zz|rationale|.\n",
    "zz is an integer probability from 1 to 99 and rationale is the student's logic for assigning probability of zz.\n",
    "You will reply with a line |id|feedback| where feedback is \"I concur\" if you see no problem with the rationale and zz otherwise presents possible problems with the rationale and zz.\n",
    "\"\"\"\n",
    "        super().__init__(self.system_role, llm)\n",
    "\n",
    "    def feedback(self, ifp):\n",
    "        self.fb = 'I prasldfkbeddy.'\n",
    "        prompt = f\"|{ifp.event}|{ifp.question_id}|{ifp.title}|{ifp.forecast}|{ifp.rationale}|\"\n",
    "        self.fb = self.chat(prompt)\n",
    "        if '|' in self.fb: # LLM obeyed system role\n",
    "            self.fb1 = self.fb.split('|')[2:]\n",
    "            self.fb = ''.join([x.strip() for x in self.fb1 if x])\n",
    "        ifp.feedback = self.fb \n",
    "        print(ifp.question_id, ifp.feedback)"
   ]
  },
  {
   "cell_type": "code",
   "execution_count": 41,
   "metadata": {},
   "outputs": [],
   "source": [
    "if unit_test:\n",
    "    for llm in [MetaAI, Claude, Perplexity, ChatGPT, HuggingChat]:\n",
    "        print(llm.__name__)\n",
    "        critic = Critic(llm)\n",
    "        critic.feedback(ifp) \n",
    "        print()"
   ]
  },
  {
   "cell_type": "markdown",
   "metadata": {},
   "source": [
    "#### Summarizer"
   ]
  },
  {
   "cell_type": "markdown",
   "metadata": {},
   "source": [
    "Add an agent to summarize the back and forth between critic and forecaster into a single cogent rationale that incorporates all that was discussed."
   ]
  },
  {
   "cell_type": "markdown",
   "metadata": {},
   "source": [
    "## IFP history"
   ]
  },
  {
   "cell_type": "code",
   "execution_count": 45,
   "metadata": {},
   "outputs": [],
   "source": [
    "history = { '08JUL24': [25876, 25877, 25875, 25873, 25871, 25878, 25874, 25872],\n",
    "            '09JUL24': [26006, 25936, 25935, 25934, 25933, 26004, 26005],\n",
    "            '10JUL24': [25955, 25956, 25957, 25960, 25959, 25954, 25953, 25952, 25958],\n",
    "            '11JUL24': [26019, 26018, 26017, 26020, 26022, 26021, 26023, 26024],\n",
    "            '12JUL24': [26095, 26096, 26097, 26098, 26099, 26100, 26101, 26102],\n",
    "            '15JUL24': [26133, 26134, 26138, 26139, 26140, 26157, 26158, 26159],\n",
    "            '16JUL24': [26189, 26190, 26191, 26192, 26193, 26194, 26195, 26196],\n",
    "            '17JUL24': [26210, 26211, 26212, 26213, 26214, 26215, 26216],\n",
    "            '18JUL24': [26232, 26233, 26234, 26235, 26236],\n",
    "            '19JUL24': [26302, 26303, 26304, 26305, 26306, 26307],\n",
    "            '22JUL24': [26387, 26388, 26389, 26390, 26391, 26392],\n",
    "            '23JUL24': [26404, 26405, 26406, 26407, 26408],\n",
    "            '24JUL24': [26550, 26551, 26552, 26553, 26554, 26555],\n",
    "            '25JUL24': [26568, 26569, 26570, 26571, 26572, 26573, 26574, 26575, 26576, 26577],\n",
    "            '26JUL24': [26638, 26639, 26640, 26641, 26642, 26643, 26644, 26645, 26646],\n",
    "            '29JUL24': [26665, 26666, 26667, 26668, 26669, 26670, 26671, 26683],\n",
    "            '30JUL24': [26700, 26701, 26702, 26703, 26704, 26705, 26706],\n",
    "            '31JUL24': [26816, 26817, 26818, 26819, 26820, 26821, 26844],\n",
    "            '01AUG24': [26771, 26772, 26773, 26774, 26775, 26776, 26777, 26778, 26779, 26780, 26781],\n",
    "            '02AUG24': [26837, 26838, 26839, 26840, 26841, 26842],\n",
    "            '05AUG24': [26913, 26914, 26915, 26916, 26917, 26918, 26919, 26920],\n",
    "            '06AUG24': [26957, 27019, 27020, 27021, 27022],\n",
    "            '07AUG24': [26958, 26959, 27017, 27018],\n",
    "            '08AUG24': [26975, 26976, 26977, 26978, 26979, 26980, 26981, 26982, 26983, 26984, 26985, 26986, 27039],\n",
    "            '09AUG24': [27085, 27086, 27087, 27088, 27089],\n",
    "            '10AUG24': [27132, 27133, 27134, 27135, 27136],\n",
    "            '13AUG24': [27137, 27138, 27140, 27141]}"
   ]
  },
  {
   "cell_type": "code",
   "execution_count": 43,
   "metadata": {},
   "outputs": [
    {
     "name": "stdout",
     "output_type": "stream",
     "text": [
      "2024-08-13 [27137, 27138, 27140, 27141]\n"
     ]
    }
   ],
   "source": [
    "ifps = list_questions()['results']\n",
    "today_ids = list(sorted([x['id'] for x in ifps]))\n",
    "print(today, today_ids)"
   ]
  },
  {
   "cell_type": "code",
   "execution_count": 46,
   "metadata": {},
   "outputs": [],
   "source": [
    "ifps = {id: IFP(id) for id in today_ids}"
   ]
  },
  {
   "cell_type": "markdown",
   "metadata": {},
   "source": [
    "## Forecasting process"
   ]
  },
  {
   "cell_type": "code",
   "execution_count": 47,
   "metadata": {},
   "outputs": [],
   "source": [
    "class Forecaster:\n",
    "    \n",
    "    def __init__(self, ifps):\n",
    "        self.max_tries = 4\n",
    "        self.qr = QuestionRelator(MetacGPT)\n",
    "        self.ask = AskNews()\n",
    "        self.mdc = ModelDomainClassifier(MetacGPT)\n",
    "        self.ifps = ifps\n",
    "        \n",
    "    def fit(self):\n",
    "        print('MODEL DOMAIN')\n",
    "        for ifp in self.ifps.values():\n",
    "            self.mdc.classify(ifp)\n",
    "        print()  \n",
    "        print('CORRELATOR')\n",
    "        self.rho = self.qr.relate(self.ifps)\n",
    "        print('FORECASTER')\n",
    "        for event, group in self.rho.items():\n",
    "            print('FORECASTING EVENT', event)\n",
    "            self.news = self.ask.research(group)   \n",
    "            print('NEWS')\n",
    "            print(self.news)\n",
    "            self.ra = RateAnalyzer(Claude)\n",
    "            self.rates = self.ra.assess(group, self.news)\n",
    "            print('RATES', self.rates)\n",
    "            self.sf = Superforecaster(MetacGPT)\n",
    "            self.sf.forecast(event, self.news, self.rates, group)\n",
    "            critic = Critic(MetacGPT)\n",
    "            for ifp in group:\n",
    "                print(\"REFINING\", ifp.question_id)\n",
    "                for i in range(self.max_tries):\n",
    "                    print(\"Pass\", i, \"of\", self.max_tries, \"on\", ifp.question_id)\n",
    "                    if 'concur' in ifp.feedback:\n",
    "                        print(\"concur 1\")\n",
    "                        break\n",
    "                    critic.feedback(ifp)\n",
    "                    if 'concur' in ifp.feedback:\n",
    "                        print(\"concur 2\")\n",
    "                        break\n",
    "                    self.sf.reassess(ifp)\n",
    "                print(\"===============================================\")\n",
    "\n",
    "    def report(self):\n",
    "        for ifp in self.ifps.values():\n",
    "            print(ifp.question_id, ifp.title)\n",
    "            print(\"Forecast\", ifp.forecast)\n",
    "            print(\"Rationale\", ifp.rationale, '\\n')\n",
    "\n",
    "    def upload(self):\n",
    "        for ifp in self.ifps.values():\n",
    "            ifp.upload()"
   ]
  },
  {
   "cell_type": "code",
   "execution_count": 48,
   "metadata": {},
   "outputs": [],
   "source": [
    "if unit_test:\n",
    "    test_day = '01AUG24'\n",
    "    ifps = {id: IFP(id) for id in history[test_day]}"
   ]
  },
  {
   "cell_type": "markdown",
   "metadata": {},
   "source": [
    "## Outlier reforecast"
   ]
  },
  {
   "cell_type": "raw",
   "metadata": {},
   "source": [
    "diff10.id.values\n",
    "\n",
    "ifps = {id: IFP(id) for id in diff10.id.values}\n",
    "\n",
    "fcst = Forecaster(ifps)\n",
    "\n",
    "fcst.fit()\n",
    "\n",
    "fcst.report()\n",
    "\n",
    "diff10 = diff10.copy()\n",
    "diff10['rebot'] = [ifps[id].forecast/100. for id in diff10.id.values]\n",
    "diff10['move'] = diff10.rebot - diff10.bot\n",
    "diff10[['bot', 'rebot', 'move']]\n",
    "\n",
    "diff10.plot.scatter(y='rebot', x='community')\n",
    "rho = diff10['rebot'].corr(diff10['community'])\n",
    "plt.title(f'Revised bot vs bot crowd on 10 top outliers: Correlation {int(100*rho)}%');"
   ]
  },
  {
   "cell_type": "markdown",
   "metadata": {},
   "source": [
    "## Daily forecast"
   ]
  },
  {
   "cell_type": "code",
   "execution_count": 49,
   "metadata": {},
   "outputs": [],
   "source": [
    "fcst = Forecaster(ifps)"
   ]
  },
  {
   "cell_type": "code",
   "execution_count": 50,
   "metadata": {},
   "outputs": [
    {
     "name": "stdout",
     "output_type": "stream",
     "text": [
      "MODEL DOMAIN\n",
      "27137 Will at least 200 Benin Bronzes go from the British Museum to Nigeria before October 1, 2024?\n",
      "Geopolitics\n",
      "27138 On September 17, 2024, will Nvidia's market capitalization be larger than Apple's?\n",
      "Market price\n",
      "27140 Will the  CBOE S&P 500 3-Month Volatility Index (VXVCLS)        \n",
      " be higher Year-over-Year on September 20, 2024?\n",
      "Market price\n",
      "27141 Will the Crimean Bridge be hit with an attack before Sept 30, 2024?\n",
      "Military conflict\n",
      "\n",
      "CORRELATOR\n",
      "|Benin Bronzes Transfer|27137|Will at least 200 Benin Bronzes go from the British Museum to Nigeria before October 1, 2024?|\n",
      "|Nvidia Market Cap vs. Apple|27138|On September 17, 2024, will Nvidia's market capitalization be larger than Apple's?|\n",
      "|CBOE S&P 500 3-Month Volatility Index|27140|Will the  CBOE S&P 500 3-Month Volatility Index (VXVCLS) be higher Year-over-Year on September 20, 2024?|\n",
      "|Crimean Bridge Attack|27141|Will the Crimean Bridge be hit with an attack before Sept 30, 2024?|\n",
      "FORECASTER\n",
      "FORECASTING EVENT Crimean Bridge Attack\n",
      "ALL\n",
      "Infrastructure targets were hit in the Ukrainian city of Sumy, according to the local regional administration. The attack, which occurred on August 13, was described as a 'rocket and aviation strike on infrastructure objects in the city of Sumy.' The type and number of targeted objects were not specified. This is not the first time Ukraine's infrastructure has been targeted by Russian forces, which began on October 10, 2022, two days after the Crimea Bridge explosion. Since then, air raid sirens have been sounded daily in Ukrainian regions, sometimes across the entire country. In contrast, Russian presidential press secretary Dmitry Peskov has stated that Russian forces do not target residential homes or social infrastructure in their battles with the Ukrainian military.\n",
      "NEWS\n",
      "On July 17, 2023, Sea Baby drones attacked the Crimean Bridge, causing significant damage. The SBU (Security Service of Ukraine) recalled how it happened. The drones, moving in two groups, remained undetected and destroyed one section of the bridge and significantly damaged another. This operation cut off a logistical artery that supplied Russian forces in southern Ukraine. This was the second successful SBU attack on the Crimean Bridge, following the first one in October 2022. The SBU used a truck loaded with explosives to damage the bridge. 'The SBU implemented two unique and different special operations to hit the bridge from land and sea. Both were successful,' said SBU Head Vasyl Malyuk.\n",
      "\n",
      "Russia is rapidly strengthening the defense of the illegally built Crimean Bridge with air defense systems and barges due to the activity of the Ukrainian military on the front. According to the 'ATESH' partisan movement, the Russians have begun to deploy barges in two rows along the bridge and are conducting work to drive in piles for the construction of a new fence. 'All these measures are aimed at protecting the bridge from possible attacks by the Ukrainian military. In recent days, additional air defense systems have been deployed across the bridge, and mobile anti-aircraft defense points have been set up,' the partisans said. This comes after the partisans previously recorded the overturning of Russian air defense systems in Crimea, near the Crimean Bridge, but on Russian territory. The partisans do not rule out that the Russian military is expecting attacks on the bridge and do not want to leave the air defense system in Crimea after the destruction of the structure.\n",
      "\n",
      "Ukrainian military intelligence chief, Kyrylo Budanov, did not rule out the possibility of destroying the Crimean Bridge, built by Russian occupiers, by the end of the year. When asked if the bridge could be destroyed in the near future, Budanov said, 'Everyone is working. And those who are working on distant strikes are also working on this. It's all a complex issue. Work is underway.' He also asked what exactly is meant by 'near future', to which a journalist replied that it means within the next 'few months' or 'this year'. Budanov concluded, 'I would also like that. If we look at it in the near future, then there are chances.' The context is that the bridge, which connects Crimea to Russia, was built by Russia after occupying the peninsula in 2015. The road bridge was opened in 2018, and the railway bridge was opened in 2019-2020. During the full-scale war, there have been two explosions on the Crimean Bridge. The first occurred on October 8, 2022, and damaged the railway track and several sections of the road. The second explosion occurred on July 17, 2023, and seriously damaged two sections of the bridge. Both attacks were carried out by Ukrainian special services. In March 2024, the head of the SBU, Vasyl Malyuk, said that Ukraine has the potential to completely destroy the Crimean Bridge, but Russia is not currently using it to transport weapons and ammunition. According to Budanov, the US-supplied ATACMS long-range missiles could destroy the bridge, 'the question is just how many.' The Crimean Bridge should be destroyed as part of the 'desacralization of Crimea,' Budanov said. The Ukrainian government has repeatedly stated its intention to de-occupy all Ukrainian territories seized by Russia since 2014, including Crimea. President Volodymyr Zelensky believes that liberating Crimea will be easier than Donbas.\n",
      "\n",
      "Ukrainian Head of the Main Intelligence Directorate of the Ministry of Defense, Kirill Budanov, spoke in an interview with the National Television Channel about the plans to destroy the Crimean Bridge, drone attacks on Russian territory, the impact of Russia's actions in 2024, and the possibility of an anti-Putin uprising. 'Telegraph' gathered the main points from the interview. The Crimean Bridge can be destroyed in 2024. 'Everyone is working on it. And those who work on long-range attacks are also working on this. It's all a complex solution. The work is underway... I would also like this. If we look at it in the short term, then there are chances,' Budanov said. Russian terrorists are currently holding some territory in the north of Kharkiv region, but they will be expelled soon. 'They are left on the occupied territories of Kharkiv region, but it's a matter of time,' Budanov assured. Russia's tasks for 2024 are 'minimum' and 'maximum'. 'The maximum task is to gain control over Ukraine. The minimum task is to reach the administrative borders of the Donetsk and Luhansk regions. It has not changed once,' Budanov said. The likelihood of an uprising in Russia is low. 'Unfortunately, we have to acknowledge that they have adapted their society to these problems quite systematically. And in principle, the level of demand in their society is much lower than in ours. A riot like the one made by Prigozhin can only be done by a strong leader. And such a leader is not seen,' Budanov concluded. Drone attacks on Russia are effective. 'Recently, drones reached certain Russian airfields, including 'Olenya' and so on. There are damaged bombers. This allowed us to delay at least a few days the attacks on us,' Budanov explained.\n",
      "\n",
      "The Israeli Defense Forces (IDF) announced that Israeli airstrikes hit military targets of the Hezbollah movement in southern Lebanon. According to the IDF, the airstrikes targeted military objects in the areas of Kfar Kela, Marwaheen, and Meis al-Jabal. The situation on the Israeli-Lebanese border has been tense since the start of the Israeli military operation in the Gaza Strip in October 2023. Both the Israeli army and Hezbollah fighters have been conducting daily attacks on each other's positions along the border.\n",
      "\n",
      "The Israeli city of Nahariya, located near the border with Lebanon, is preparing for a massive attack by the Hezbollah. Since the Hamas attack on October 7, Hezbollah has launched daily rocket attacks on Israeli territory. Arié, a municipal employee, said, 'If we look south, we see the Haifa mountain, a strategic city that will be the first to be targeted by Hezbollah because it has a military port, refineries, power plants, and armament factories.' He added, 'When Hezbollah wants to, it can attack us from the north, which is only 9 km away.' Last week, a drone attack on the city killed one person and injured 17 others. The city has installed 'migouniot', concrete cubes that serve as bomb shelters, on its beaches. Arié explained, 'These are mini-labyrinths in concrete, it's very hot, there's no air, you suffocate, but you have to stay there for at least 10 minutes in case of an alert.' The city's residents, including new immigrants, are preparing for the worst, but they have chosen to stay in the city despite the risks.\n",
      "\n",
      "The movement of vehicles on the Crimean Bridge has been resumed after a one-hour suspension. The bridge's traffic has been periodically interrupted due to the threat of attacks from Ukrainian armed formations. After a drone attack on the Crimean Bridge on July 17, 2023, the road part of the bridge was damaged, and it later resumed operation in reverse mode. Russian President Vladimir Putin has stated that plans to enhance the bridge's security are being considered and will be implemented. He emphasized that it is premature to evaluate these plans before their implementation. Putin also mentioned that after the completion of all security measures, the measures will be noticeable, referring to both physical and technical protection.\n",
      "\n",
      "Russian media is speculating about another Ukrainian military offensive, with some 'experts' predicting a large-scale attack in late summer and a massive strike by F-16 jets on the Crimean Bridge. According to Russian 'military expert' Andrey Klintsevich, 'I think there will be another large-scale offensive operation by Ukraine in late August to early September. It's possible that it will be in the south. They will try to cut off the land corridor to Crimea again.' He also suggested that part of the attack could target the Zaporizhzhia Nuclear Power Plant. Klintsevich claimed that the US is behind the potential attack, saying 'Closing the land corridor to Crimea together with a massive strike by F-16 jets on the Crimean Bridge is the image of victory that the White House can sell to voters. They will strive for this.' Meanwhile, Ukrainian forces continue to push into the Kursk region of Russia, with some units advancing up to 30 km from the border, according to a participant in the operation. Ukrainian Commander-in-Chief Alexander Syrskyi stated that Ukraine has control over approximately 1000 square kilometers of Russian territory. President Volodymyr Zelensky has officially stated that the goal of the operation in Kursk is to secure the Ukrainian border, which has been repeatedly shelled from Russian territory. He claimed that Ukrainian forces have taken control of areas in Kursk that were used to shell the Sumy region.\n",
      "\n",
      "The Russian Ministry of Transport has strengthened the work of stationary inspection and surveillance complexes on the Crimean Bridge to ensure the safety of tourists traveling to and from Crimea. The decision was made to increase security measures after several incidents, including an attack by Ukrainian drones on July 17, 2023, which damaged the bridge's road section, and an explosion on October 8, 2023, which damaged three spans of the bridge and killed three people. The FSB Russia has identified the organizer of the attack as the Main Intelligence Directorate of the Ukrainian Ministry of Defense. Russian President Vladimir Putin has stated that plans to strengthen the security of the Crimean Bridge are being considered and will be implemented, and that the measures will be physical and technical, not ideological.\n",
      "\n",
      "As of 7:00 Moscow time, over 1,000 cars are waiting in line to cross the Crimean Bridge, according to a Telegram channel providing updates on the crossing. 1,035 cars are waiting on the Taman side, with a wait time of over three hours, while 45 cars are waiting on the Kerch side. The bridge is typically closed during rocket attacks and drone strikes on the peninsula. For example, on July 15, the bridge was closed twice overnight - once to counter a drone attack and again due to rocket attack warnings. According to the Ministry of Defense, six drones were shot down over Crimea that night.\n",
      "\n",
      "A Russian 'expert' named Andriy Klynetsky predicted that Ukraine will launch a more massive attack on the Crimean Peninsula and target the illegal Crimean Bridge with F-16 fighter jets. Klynetsky claimed that the US is setting a 'broader' goal for Ukraine. 'I think there will be a more large-scale offensive operation by Ukraine in late August to early September. It's possible that it will be in the south. They will try to cut off the land corridor to Crimea again,' he said. Klynetsky also suggested that part of the Ukrainian forces may advance towards the Zaporizhzhia Nuclear Power Plant. He warned that the goal of the US is to create a 'victory image' that can be sold to American voters. 'Cutting off the land corridor to Crimea and a massive strike by F-16s on the Crimean Bridge is the image of victory that the White House can sell to voters. They will strive for this,' he said. Klynetsky also mentioned that the goal of the Ukrainian operation in the Kursk region is to draw Russian reserves into the area. If successful, Russia would not be able to 'rapidly redeploy' its forces to the Zaporizhzhia or Kherson regions. As a reminder, the ISW reported that the operation in the Kursk region is a 'key moment in the war that has the potential to change its trajectory.' Analysts support the experiments on the front lines. Dmitry Likhovy, a spokesperson for the OSUW 'Tavria', said that Russia is redeploying units to the Kursk direction from the Transnistrian region. According to him, the enemy has 'the most holes in its defense' in the Kursk region.\n",
      "\n",
      "According to the Lebanese official news agency NNA, an Israeli airstrike targeted a car in the Baraaşit village near the border. The Lebanese Health Ministry announced that two people in the car were killed in the attack. Meanwhile, the Hezbollah Movement released a statement on its official Telegram account, detailing its attacks on Israeli military positions in Lebanon. The statement mentioned that Israeli soldiers at the Es-Smake military base were targeted with artillery fire, while guided missiles and intelligence equipment in the Mitat military base and the Misgav Am settlement were hit with suitable weapons. 'It was a great day for us to take revenge on the Israeli military,' said the statement, without specifying the exact date of the attacks. However, it is worth noting that the statement was released on August 13, 2024, which suggests that the attacks may have occurred on this date.\n",
      "\n",
      "The head of the Crimean parliament, Vladimir Konstantinov, announced that the damage assessment from the terrorist attacks on the Crimean Bridge will begin in Crimea. The assessment will be conducted at a high level with the involvement of experts. Ukraine has organized two terrorist attacks on the bridge, in October 2022 and July 2023. Konstantinov noted that security measures on the bridge were strengthened after these incidents. He also expressed confidence that those responsible for the attacks, who do not hide their actions and even boast about them, will receive fair punishment. Earlier, the head of the State Duma's Committee on International Affairs, Leonid Slutsky, stated that the Crimean Bridge is securely protected and remains an unattainable goal for the 'terrorist regime' of Ukrainian leader Vladimir Zelensky.\n",
      "\n",
      "Ukrainian intelligence chief Kirill Budanov has stated that there is a possibility of destroying the Crimean Bridge in the near future. 'If we look at it in the near future, there are chances', he said in response to a question about whether the Crimean Bridge will be destroyed in the coming months. The Crimean Bridge has been attacked twice before - in October 2022 and July 2023. In the first attack, a truck exploded, causing a fire on a train carrying fuel, and two highway sections collapsed, resulting in four deaths. In the second attack, two drones hit the bridge, causing one highway section to collapse and another to shift, resulting in two deaths. According to Ukrainian President Volodymyr Zelensky, the Crimean Bridge is not just a small logistics road, but is used for 'militarizing Crimea'. Russian President Vladimir Putin has denied that the bridge is used for military purposes. Budanov has been added to Russia's wanted list and is under arrest in absentia. He is accused of organizing the October 2022 attack on the Crimean Bridge and attempting to commit a terrorist act. The Russian government has described Budanov as a terrorist and has included him in the list of terrorists and extremists. 'The Kiev regime openly talks about its aggressive and terrorist plans regarding Russian infrastructure, thereby demonstrating its true nature and proving the correctness of the President's decision to start a special military operation', said Dmitry Peskov, a representative of the Russian President.\n",
      "\n",
      "On the night of August 12, Lebanon launched approximately 30 rockets at Israeli territory. According to the Israeli Defense Forces (IDF), 'After sirens sounded in northern Israel, around 30 rockets launched from Lebanon towards the Kabri area were detected, with some falling on open terrain.' There were no reports of casualties. This incident comes as American and Israeli officials warn that Iran may soon attack Israeli territory, with sources citing August 5 as a possible date. American officials expect Iran's response to follow a similar scenario to the April 13 attack, but anticipate it may be more extensive and involve 'Hezbollah'.\n",
      "\n",
      "The Israeli Defense Forces (IDF) attacked several military targets in southern Lebanon belonging to the Lebanese movement 'Hezbollah'. According to the IDF, the targets included 'Kfar Kela, Marwaheen and Meis El Jabal'. This comes after reports that 'Hezbollah' was preparing an attack on Israel in retaliation for the death of its commander Fuaad Shukr. 'Hezbollah' has threatened Tel Aviv with revenge for the death of its commander.\n",
      "\n",
      "Infrastructure targets were hit in the Ukrainian city of Sumy, according to the local regional administration. The attack, which occurred on August 13, was described as a 'rocket and aviation strike on infrastructure objects in the city of Sumy.' The type and number of targeted objects were not specified. This is not the first time Ukraine's infrastructure has been targeted by Russian forces, which began on October 10, 2022, two days after the Crimea Bridge explosion. Since then, air raid sirens have been sounded daily in Ukrainian regions, sometimes across the entire country. In contrast, Russian presidential press secretary Dmitry Peskov has stated that Russian forces do not target residential homes or social infrastructure in their battles with the Ukrainian military.\n",
      "\n",
      "The fate of the Crimean Bridge depends on Ukraine's ability to 'outsmart' Russia, according to military expert Viktor Litovkin. He compared the situation to a 'battle of the shield and the sword', where Ukraine's forces must try to outmaneuver Russia's defenses. Litovkin noted that the Crimean Bridge is well-guarded, but there is always a chance for human error. The Ukrainian military has threatened to attack the bridge again, with the head of the Main Intelligence Directorate, Kirill Budanov, stating that they have a 'good chance' of a successful attack. Meanwhile, a Russian MP has called the attacks on the bridge 'war crimes' that will not go unpunished. The bridge has been attacked twice before, once by a truck bomb in October 2022 and again by sea drones in July 2023.\n",
      "\n",
      "On June 23, 2024, Crimea was hit by a massive rocket attack, with loud explosions reported in Sevastopol and Balaklava. Telegram channels of the occupying forces reported that the Russian air defense system was working on the peninsula. According to 24 Channel, here is what is known about the rocket attack on Crimea. The enemy attacked the Kiev region with 'Calibers' in the morning, causing damage and casualties. Two houses were completely destroyed, and there were reports of injuries and fatalities. The Russian air defense system was reportedly active in the Saki, Yevpatoria, Inkerman, and Bakhchysarai areas, with detonations heard in the Kazachya Bay area, where the 810th Marine Brigade is based. The Suvorov Bay area was also affected, with smoke seen over the bay and the northern part of the city, including the beaches of Uchkuivka and Tolstik. The Crimean Bridge was closed, and there were reports of people injured by debris from the Russian air defense system. Some Telegram users reported that the sirens in Sevastopol only sounded after the first explosion. The local aquarium even kept children out of the underground toilet, telling them it was a drill and that there was a shelter further away. The Russian air defense system reportedly shot down one of the rockets over the center of Sevastopol. As a result, people were injured, and there were reports of fatalities.\n",
      "\n",
      "Ukrainian intelligence chief, Kirill Budanov, has announced plans to attack the Crimean Bridge, stating that 'all are working on distant strikes and on this (destroying the Crimean Bridge) as well. This all needs, let's say, a comprehensive solution. Work is ongoing.' When asked about the likelihood of a successful attack, Budanov replied that 'there are chances.' Ukrainian authorities have repeatedly threatened to destroy the Crimean Bridge, with President Volodymyr Zelensky announcing plans for a new counterattack in April, which included the destruction of the bridge. In May, Ukraine's security service listed the bridge as one of its 'top priorities.' The Guardian reported that Ukraine's intelligence agency plans to attack the bridge again in 2024, citing high-ranking officials. The bridge was previously attacked on October 8, 2022, when a truck exploded, causing a fire and partial collapse of the bridge. The FSB immediately blamed Ukraine for the attack. In July 2023, Ukraine launched a drone attack on the bridge, which damaged the road section and injured a child, killing her parents. The bridge was fully restored and reopened on October 14.\n",
      "RATES 1. Today's date: 2024-08-13\n",
      "2. End date of the question: 2024-09-30\n",
      "3. Time in days from today to end date: 48 days\n",
      "4. Specific date at which the event is most likely to occur: 2024-08-31\n",
      "5. The likely event date is before the question end date\n",
      "\n",
      "Based on the provided news, there are several factors suggesting that an attack on the Crimean Bridge is likely to occur before September 30, 2024:\n",
      "\n",
      "1. Ukrainian intelligence chief Kirill Budanov has stated that there are \"chances\" of destroying the Crimean Bridge in the near future.\n",
      "\n",
      "2. There have been previous successful attacks on the bridge in October 2022 and July 2023, demonstrating Ukraine's capability and intent.\n",
      "\n",
      "3. Ukraine's security services have listed the bridge as one of their \"top priorities.\"\n",
      "\n",
      "4. Reports indicate that Ukraine is planning another attack on the bridge in 2024.\n",
      "\n",
      "5. Russia has been strengthening defenses around the bridge, suggesting they anticipate future attacks.\n",
      "\n",
      "6. There are predictions of a large-scale Ukrainian offensive in late August to early September, which could include an attack on the bridge.\n",
      "\n",
      "Given these factors, it seems most likely that an attack could occur around the end of August or early September, before the question's end date. The specific date of August 31, 2024, is an estimate based on the mentioned timeframe for a potential large-scale offensive.\n",
      "27141 80 Given the evidence presented, including statements from Ukrainian officials about imminent plans to attack and the historical precedence of successful previous attacks, there is a significant likelihood that an attack on the Crimean Bridge will occur before September 30, 2024. The uptick in defensive measures by Russia further supports the anticipation of potential attacks. Thus, I assess the probability of another attack occurring within the specified timeframe to be 80%.\n",
      "REFINING 27141\n",
      "Pass 0 of 4 on 27141\n",
      "27141 I concur\n",
      "concur 2\n",
      "===============================================\n",
      "FORECASTING EVENT CBOE S&P 500 3-Month Volatility Index\n",
      "ALL\n",
      "According to Bank of America Securities, the S&P 500 may struggle in the next two months, based on the history of past volatility spikes. The Cboe Volatility Index (VIX) surged to 65.73 last week, its highest level since the Covid-19 pandemic. Historically, the S&P 500 is lower two months after the VIX spikes above 45, with a median loss of 0.72%. However, Stephen Suttmeier, technical research strategist at BofA Securities, notes that 'time is needed for the US equity market to stabilize after a VIX spike.' While the VIX has since fallen back to below 20, indicating a return to a risk-on bias, investors should be aware of the potential for near-term market struggles. In fact, the S&P 500 has struggled to follow through on the market resurgence seen late last week, and may be in for a tougher path ahead.\n",
      "NEWS\n",
      "According to Bank of America Securities, the S&P 500 may struggle in the next two months, based on the history of past volatility spikes. The Cboe Volatility Index (VIX) surged to 65.73 last week, its highest level since the Covid-19 pandemic. Historically, the S&P 500 is lower two months after the VIX spikes above 45, with a median loss of 0.72%. However, Stephen Suttmeier, technical research strategist at BofA Securities, notes that 'time is needed for the US equity market to stabilize after a VIX spike.' While the VIX has since fallen back to below 20, indicating a return to a risk-on bias, investors should be aware of the potential for near-term market struggles. In fact, the S&P 500 has struggled to follow through on the market resurgence seen late last week, and may be in for a tougher path ahead.\n",
      "\n",
      "The CBOE Volatility Index (VIX) reached a 16-year high of 65.73 on Monday, August 5th, due to the stock market sell-off. Historically, the S&P 500 has formed various bottoming patterns following VIX spikes, including 'V' bottoms, double bottoms, head and shoulders bottoms, and triangles. According to Bank of America's technical strategists, it is too soon to tell what pattern develops on the SPX after the August 2024 panic spike on the VIX. However, they note that the SPX often struggles for four to eight weeks after an initial VIX spike above 45, with average and median returns of 0.95% and -0.72%, respectively. In contrast, the index tends to perform better over longer periods following a significant VIX spike, with 80% of the time being up 13 weeks after the spike, and 80% of the time being up one year after the spike, with average and median returns of 5.46% and 5.17%, and 14.07% and 18.18%, respectively.\n",
      "\n",
      "Stocks rebounded on Tuesday, recovering some of the losses from the previous week's decline. The Dow Jones Industrial Average rose 1.4%, while the S&P 500 and Nasdaq Composite gained 2% each. This bounceback follows Monday's selloff, which was the worst single-day drop for the S&P and Dow since September 2022. The S&P is on pace for its largest single-day gain since February 22 and its second-best day of 2024. The indexes have fallen significantly this month due to recession concerns and a subpar labor market report. However, the Chicago Board Options Exchange's CBOE Volatility Index (VIX) came down by almost 40% to 24, indicating traders expect calmer waters ahead. American stocks are still up solidly over a longer timeframe, with the S&P returning 10% year-to-date, 18% over the last 12 months, and 29% over the last two years.\n",
      "\n",
      "Stocks rebounded on Tuesday, with the Dow Jones Industrial Average rising 1.4% and the S&P 500 and Nasdaq Composite gaining 2% each. The S&P is on pace for its largest single-day gain since February 22 and its second-best day of 2024. The bounceback follows Monday's 3% decline in the S&P 500, which was the worst single-day drop since September 2022. The indexes have fallen significantly this month due to recession concerns, a subpar labor market report, and Japan's interest rate hike. The bond market also showed signs of recovery, with 2-year and 10-year U.S. Treasury note yields gaining 10 basis points. The Chicago Board Options Exchange's CBOE Volatility Index (VIX) decreased by almost 40% to 24, indicating traders expect calmer waters ahead. Despite this, American stocks are still up solidly over a longer timeframe, with the S&P returning 10% year-to-date, 18% over the last 12 months, and 29% over the last two years.\n",
      "\n",
      "The CBOE Volatility Index (VIX) has risen to 65.73, a level reminiscent of the 2008 and 2020 market crises. This increase in the 'fear gauge' of the market has sparked concerns about the future of the S&P 500. Historically, such spikes in the VIX have been followed by significant declines in the S&P 500. However, according to a study by the Bank of America, only two times in the past 11 instances of such spikes has the S&P 500 closed above the critical level of 45. The analysts warn that it is too early to determine which pattern will emerge this time. In the past, the S&P 500 has often formed various bottoming patterns after such volatility spikes, including V-bottoms, double bottoms, and inverse SKS or triangle formations. The experts advise investors to be cautious in the next four to eight weeks, as the S&P 500 has often struggled in this period after a VIX spike over 45. However, they also note that the index has historically recovered well after such events, with 80% of instances showing positive returns of over 5% within 13 weeks, and an average return of 14.07% one year after the spike.\n",
      "\n",
      "The CBOE Volatility Index (VIX) reached a record high of 65.73 on Monday, August 5th, marking its highest level since the COVID-19 spike in 2020. Historically, the S&P 500 has formed various bottoming patterns following VIX spikes, including 'V' bottoms, double bottoms, head and shoulders bottoms, and triangles. According to Bank of America's technical strategists, it is too soon to tell what pattern develops on the SPX after the August 2024 panic spike on the VIX. However, they note that the S&P 500 often struggles for four to eight weeks after an initial VIX spike above 45, with the index up only 40% of the time during this period. In contrast, the index tends to perform better over longer periods, with 80% of the time the S&P 500 is up 13 weeks after a VIX spike, and 80% of the time one year after the spike, with average and median returns of 5.46% and 5.17%, and 14.07% and 18.18%, respectively. As strategists put it, 'time is needed for the U.S. equity market to stabilize after a VIX spike,' and 'these SPX returns suggest that lackluster to weaker returns prior to the Presidential election, which lines up with election year seasonality.'\n",
      "\n",
      "The CBOE Volatility Index (VIX) reached a high of 65.73 on Monday, its highest level since the COVID-19 peak of 85.47 and the second highest since the 2008 peak of 89.53. The VIX, also known as the 'fear gauge' of the market, has experienced 11 panic peaks above 45 in the past week, with only the 2008 and 2020 peaks resulting in weekly closures above this level, accompanied by greater declines in the S&P 500 (SPX), according to Bank of America strategists. The VIX had closed at 20.37 on Friday, August 9, below its Monday surge above 45, indicating some stability for US equities. Historically, the S&P 500 has formed various patterns after VIX peaks, including 'V' bottoms in 1997, 2001, and 2020, double bottoms in 1998, 2011, and 2015, and a head-and-shoulders bottom in 2002, 2008-2009, and 2010. 'It's too early to say what pattern is developing in the SPX after the August 2024 panic peak in the VIX', wrote the strategists in a note. 'However, just like in 1997 and 2018, the August 2024 VIX peak occurs with the SPX above its 40-week moving average (MA)'. After an initial VIX peak above 45, the S&P 500 often struggles for four to eight weeks. The index of reference only shows an increase in the 40% of cases during the eight weeks following a VIX surge, with an average return of 0.95% and a median return of -0.72%. In contrast, the S&P 500 rises in 66% of cases, with an average return of 1.41% and a median return of 1.95% during all eight-week periods since 1992. 'These SPX returns suggest that the US equity market needs time to stabilize after a VIX increase', noted the strategists. 'They also indicate mediocre to weak returns before presidential elections, which coincides with the typical election-year seasonality.' However, the index tends to behave better in longer periods after a significant VIX surge. Thirteen weeks after a VIX peak, the SPX rises in 80% of cases, with an average return of 5.46% and a median return of 5.17%, according to BofA. A year after the surge, the SPX also rises in 80% of cases, with an average return of 14.07% and a median return of 18.18%.\n",
      "\n",
      "Last week was a wild ride for stocks, with major indexes suffering their worst one-day losses since September 2022. However, markets recovered by the end of the week. This week is expected to be just as volatile, with several economic and earnings reports that could impact the market. The CBOE Volatility Index (VIX), also known as the Fear Index, is a key indicator to watch, as it measures investor fear and has been rising in recent days. According to the article, 'Above 30 is concerning, but the index hit nearly 66 on Aug. 5 as the Dow was losing 1,000 points.' This week's key reports include the Producer Price Index, Consumer Price Index, and Retail sales, which are expected to show a 2% increase for July over July 2023. Additionally, several major companies will be reporting their earnings, including Home Depot, Cisco Systems, Walmart Inc., Applied Materials, and Deere & Co. These reports have the potential to move markets and should be closely watched.\n",
      "\n",
      "The Cboe Volatility Index (VIX), a measure of investor anxiety, hit a 3-month high of 19.48 on August 1, before closing at 18.59. This spike coincided with a decline in US stocks, with the S&P 500 shedding 1.4% and the Nasdaq Composite 2.3%. The VIX has been rising as investors become increasingly wary of corporate earnings and economic growth. The S&P 500 is down 4% from its July 16 peak, and 1.5 million VIX options were traded on August 1, nearly double the average daily volume, indicating heightened market apprehension. The VVIX index, which measures expected volatility in the VIX, rose 16.93 points to 111.18, indicating expectations of significant near-term market swings.\n",
      "\n",
      "Wall Street's fear gauge, the Cboe Volatility Index (VIX), spiked to its highest level in over four years, reaching 62.27, as global market turmoil deepened. The VIX index, which measures investor fear, jumped 172% and has not been this high since March 2020. The surge in VIX is attributed to the weaker-than-expected July jobs report, which reignited fears of a recession. The report showed the economy added just 114,000 workers last month, with the unemployment rate jumping to 4.3%, the highest level since October 2021. This triggered the Sahm Rule, an indicator that signals a recession when the three-month moving average of the jobless rate is at least a half-percentage point higher than the 12-month low. Stocks crashed on Friday, with the S&P 500 experiencing its worst day since October 2022, and the sell-off continued in early trading Monday. 'The U.S. is the locomotive of the global economic train and increasing concern about a slowdown, or possible recession, has markets around the world in turmoil,' said Greg McBride, chief financial analyst at Bankrate. The slowdown in job growth raises questions about whether the Federal Reserve waited too long to cut interest rates, which are currently near a 23-year high.\n",
      "\n",
      "Investors are expecting a potential increase in stock-market volatility ahead of the November 5th US presidential election, according to Garrett DeSimone, head of quantitative research at OptionMetrics. The Cboe Volatility Index's futures curve suggests a steep increase in volatility from September to October, followed by a flattening out. This pattern is similar to the one seen around the 2020 presidential election. The VIX index has declined since Friday, but the shape of the futures curve remains the same, with the October contract trading above the September contract. The Federal Reserve's potential rate cut in September may also be influencing the VIX's futures curve. Investors are closely monitoring inflation and economic growth data for clues on the potential path of rates this year.\n",
      "\n",
      "The Cboe Volatility Index (VIX) futures are at a critical point, with August contracts trading at 24.4. Historically, this level has signaled that the S&P 500 Index is close to a near-term bottom. However, the recent weak jobs growth and concerns about the Federal Reserve's interest rate policy have led to increased uncertainty, causing investors to buy options to protect against a further selloff. This has resulted in the VIX futures inverting, indicating that current uncertainty is higher than that expected in the future. As one market observer noted, the VIX is 'a signal that the here-and-now uncertainty is higher than that further down the line.' \n",
      "\n",
      "A wild week in US stocks has investors bracing for more turbulence ahead, with inflation data, corporate earnings, and presidential polls set to provide key signals. The S&P 500 is still down around 6% from its record high, despite recent rallies. Investors are now worried about the economy, with many pricing in the risk of a more severe downturn following weaker-than-expected manufacturing and employment data. 'Everybody is now worried about the economy,' said Bob Kalman, a portfolio manager at Miramar Capital. The Cboe Volatility Index, known as Wall Street's fear gauge, has seen its biggest one-day jump ever and may take months to dissipate. The US will report consumer price data on Wednesday, which could bolster fears that the Federal Reserve has sent the economy into a tailspin. Corporate earnings have been neither strong enough nor weak enough to give the market direction, said Charles Lemonides, head of hedge fund ValueWorks LLC. The end of the month brings earnings from chip giant Nvidia, and the Fed's annual Jackson Hole gathering will give policymakers another chance to fine tune their monetary policy message before their September meeting.\n",
      "\n",
      "The Cboe Volatility Index (VIX) reached a three-month high of 19.48 on August 1, 2024, before decreasing to 18.59. The increase occurred as the S&P 500 fell by nearly 1.4%. The Nasdaq Composite Index fell by 2.3%, bringing it within two percentage points of its record high reached in the previous month. The VIX Index, which has an average value of 13.96 for the year so far, has increased in recent weeks as investors have become increasingly concerned about corporate earnings and economic growth. According to Trade Alert, 1.5 million VIX options changed hands on August 1, nearly double the average daily volume for these options. The VIX Index is now closer to its long-term average of 19.5. The VVIX Index, which indicates expected volatility of the VIX, closed at 111.18 with a gain of 16.93 points, signaling that investors expect significant volatility in the VIX in the near future, as said by the market expert, 'The increase in VIX options trading is a clear indication of investor anxiety and expectation of market volatility.' \n",
      "\n",
      "Wall Street experienced a significant sell-off today, causing the highest market volatility in the past three months. The S&P 500 index fell 2.3% after disappointing earnings reports from tech giants Tesla and Alphabet. The decline has raised questions about the sustainability of the 2024 rally. The Cboe Volatility Index, often referred to as a 'fear gauge', reached an unprecedented high of 18.46. Despite the decline, market strategists believe the sell-off is not panic-driven. Matthew Tym, head of equity derivatives trading at Cantor Fitzgerald, observed that the market's reaction is normal and investors are not rushing to buy protection. The recent market decline follows a strong performance over the past few months, with the S&P 500 and Nasdaq 100 indices down 14% and 13%, respectively, from their highs. Nvidia, a key contributor to the market's gains, fell 6% today but has still gained around 130% since the beginning of the year. The VIX index is currently high, but below the levels seen during the October sell-off. Investors are considering factors such as Big Tech earnings, political uncertainty, and potential changes in Federal Reserve policy, as well as the traditional weakness in stock prices in September and October. Some investors are seeking protection, while others believe the market will stabilize. Seth Golden, CEO of Finom Group, has taken a position against volatility-tracking ETFs such as ProShares Ultra VIX Short-Term Futures ETF and Barclays iPath Series B S&P 500 VIX Short-Term Futures ETN, expecting a decline in volatility.\n",
      "\n",
      "The stock market has been in a state of turmoil, with the S&P 500 experiencing its largest one-day sell-off since 2022, falling by 3%. Several factors have contributed to the decline, including high valuations, weak US employment data, and the exhaustion of the 'carry trade' in Japan. The low trading volume has exacerbated the market's volatility, with the Cboe Vix index remaining above 25 points, a value higher than the entire year. Analyst Jim Reid of Deutsche Bank Research believes that the violent market movements of the past few days have been amplified by the low liquidity of August. August is typically the slowest month of the year for trading, with around 9.3 billion shares changing hands in the main US exchanges per day, according to Dow Jones Market Data, which is nearly 30% less than the 13.2 billion shares of the peak month of March. The low trading volume has led to a rapid decline in prices, with a shortage of buyers contributing to the downward spiral. 'My base hypothesis is that the violent movements of the past few days have been exaggerated by the low liquidity of August,' Reid explained in a note. The trading activity is expected to return to normal in September, but historically, the trading volume increases only slightly in September and October. According to Dow Jones Market Data, the average daily trading volume of the market does not exceed 10 billion shares per day before November. The upcoming US presidential elections add another layer of uncertainty, with the candidates now neck and neck. 'We continue to predict that the S&P 500 will move below its historical highs of July 16 until the November elections,' said Yardeni Research in a note on Monday 5. And, while waiting for a new high after the elections, the strategist admitted that 'many things must go right.'\n",
      "\n",
      "The recent 8.49% correction in the S&P 500 Index may seem painful, but it is actually less volatile than the average year. According to historical data, a mild correction (5% or more) occurs 3.4 times a year on average. The Volatility Index (VIX) has seen its third-largest spike since 2000, but historical data suggests that large spikes followed by rapid declines lead to strong returns one year forward. The VIX has also witnessed its largest 4-day percentage decline (-47.2%) since 1990, which has led to positive forward S&P 500 total returns in every instance. Investors should monitor the S&P 500 Index ETF (SPY) and the VIX to get an idea of whether volatility is creeping back into the market. Additionally, investors can watch the Semiconductor ETF (SMH) and defense names such as Northrop Grumman (NOC) for market clues.\n",
      "\n",
      "The Cboe Volatility Index (VIX) has reached a level that in the past has signaled the S&P 500 Index was close to a near-term bottom. The VIX has inverted, with August futures trading at 24.4 and September futures trading at 23.8. This has led to a surge in options trading, with investors seeking to protect themselves from further market declines. Steve Sosnick, chief strategist at Interactive Brokers LLC, said, 'The fact that we had such a huge spike in volatility on Friday is emblematic of the end of a short-term negative move in the stock market.' However, Tanvir Sandhu, Bloomberg Intelligence's chief global derivatives strategist, noted that elevated volatility of VIX can suggest expectations for a more volatile period. Realized volatility has also climbed sharply, more than doubling since early July to the highest level since November. This may limit how much some funds that look to limit volatility can invest.\n",
      "\n",
      "Stocks have continued to rebound after last week's market meltdown as traders await inflation data that will help shape the Federal Reserve's next steps. Equities have extended gains into a third consecutive session, with investors looking for the numbers to land in a 'sweet spot' - cool enough to rule out a September rate cut, but warm enough to push aside recession concerns. According to Chris Larkin at E*Trade, 'investors will be looking for the numbers to land in a sweet spot — cool enough that no one will be second-guessing the likelihood of a September rate cut, but warm enough to push aside the recession concerns that have rattled the markets recently.' The S&P 500 hovered around 5,350, while the Cboe Volatility Index was fairly stable around 20. Treasury 10-year yields were little changed at 3.93%. Investors will have a brief window to buy the dip in US stocks at the end of this month as selling pressure from systematic funds eases while companies boost share buybacks, according to Scott Rubner at Goldman Sachs Group Inc. 'This will be my last bearish equity markets call for August as we are ending the worst of the equity supply and demand mismatch for August,' Rubner wrote in a note to client.\n",
      "RATES 1. Today's date: 2024-08-13\n",
      "2. End date of the question: 2024-09-20\n",
      "3. Time in days from today to end date: 38 days\n",
      "4. The specific date at which the event is most likely to occur: 2024-09-20\n",
      "5. The likely event date is on the question end date\n",
      "\n",
      "The question asks about the CBOE S&P 500 3-Month Volatility Index (VXVCLS) being higher year-over-year on September 20, 2024. This is a specific date question, not a question about a level changing over time. The event in question (whether the index will be higher year-over-year) will be determined on the exact date mentioned in the question, September 20, 2024.\n",
      "\n",
      "Based on the provided news, there's significant volatility in the market, with the VIX having reached high levels recently. However, predicting the exact level of the VXVCLS on a specific future date is challenging. The news suggests that market volatility could persist in the near term, but also indicates that markets often stabilize some time after volatility spikes.\n",
      "\n",
      "Given that the question asks about a year-over-year comparison on a specific date, the most likely date for this event to occur (or be measured) is exactly on September 20, 2024, which is the date specified in the question.\n",
      "27140 75 Given the current market conditions and the historical data provided, it is highly likely that the CBOE S&P 500 3-Month Volatility Index (VXVCLS) will be higher Year-over-Year on September 20, 2024. The recent spikes in volatility and the overall market sentiment suggest that the index will remain elevated for a considerable period. Historical trends indicate that after significant spikes, volatility tends to stay high for several months before settling down. Hence, I assign a 75% probability to this outcome.\n",
      "REFINING 27140\n",
      "Pass 0 of 4 on 27140\n",
      "27140 I concur\n",
      "concur 2\n",
      "===============================================\n",
      "FORECASTING EVENT Nvidia Market Cap vs. Apple\n",
      "ALL\n",
      "Apple is the largest stock in the S&P 500, making up 6.99% of the index. The company's shares appear to be breaking out, moving higher and through important resistance. This could set the stage for a move higher, as new buyers will have a hard time finding someone to buy shares from, forcing them to bid premiums to the prices of previous trades. If Apple can hold above the $218 resistance level, it could lead the entire market higher, making it the 'alpha stock' that the rest follow. As one analyst noted, 'Apple could be the alpha stock that the rest follow.' \n",
      "NEWS\n",
      "Nvidia has surpassed Apple and Microsoft to become the world's largest capitalized company on the stock market. The company's stock has increased by eight times since the launch of ChatGPT in November 2022. The recent 10-for-1 stock split on June 7th has contributed to the acceleration of the stock's growth, making it more accessible to investors. The recent decline in interest rates also favors growth stocks, including Nvidia. Nvidia's popularity is due to its graphics processing units (GPUs), which are capable of handling a large amount of calculations necessary for developing generative AI programs. Generative AI allows users to obtain text, images, videos, code, or sound based on a request formulated in everyday language. Despite being pursued by competitors like AMD and Intel, as well as tech giants like Apple and Microsoft, Nvidia maintains a comfortable lead in the market for semi-conductors used for generative AI. Analysts at Wedbush Securities estimate that Nvidia's GPUs are the new gold or oil of the technology sector. They believe that Nvidia, Apple, and Microsoft are now engaged in a race to reach a market capitalization of $4 billion.\n",
      "\n",
      "The NASDAQ 100 index in New York closed at 18,542.03 points on Monday, a 0.16% increase from the previous day. The daily high was 18,665.75 points, while the daily low was 18,433.61 points. The index has increased by 12.08% since the beginning of 2024, with a year high of 20,690.97 points and a year low of 16,249.19 points. The top performers in the NASDAQ 100 were Super micro computer (+6.33%), NVIDIA (+4.08%), Pinduoduo (+3.21%), Starbucks (+2.58%), and DexCom (+2.16%). The worst performers were Lucid (-9.09%), Warner Bros. Discovery (-4.48%), brand new (-4.29%), Card A (-3.75%), and The Kraft Heinz Company (-3.12%). NVIDIA was the most traded stock, with 61,628,187 shares traded. The Apple shares are valued at 3.010 trillion in the NASDAQ 100, weighted by market capitalization. According to FactSet estimates, the lowest price-to-earnings ratio (P/E) stock in the NASDAQ 100 is JDcom at 8.85 in 2024, while the highest dividend yield is expected to be 4.54% for The Kraft Heinz Company in 2024.\n",
      "\n",
      "Nvidia surpassed Microsoft and Apple as the largest company by market capitalization, reaching a value of $3.34 billion. This has led to a surge in the stock market, with a 3.7% increase in value just an hour before the close. Nvidia has been growing rapidly, with its stock price increasing by 170% this year and its value multiplying by nine since 2022, coinciding with the boom in artificial intelligence. The company's dominance in the market for chips used in large technology companies such as Microsoft, OpenAI, Meta, and Alphabet, with an 80% market share, suggests that its value is unlikely to stop growing.\n",
      "\n",
      "Apple is the largest stock in the S&P 500, making up 6.99% of the index. The company's shares appear to be breaking out, moving higher and through important resistance. This could set the stage for a move higher, as new buyers will have a hard time finding someone to buy shares from, forcing them to bid premiums to the prices of previous trades. If Apple can hold above the $218 resistance level, it could lead the entire market higher, making it the 'alpha stock' that the rest follow. As one analyst noted, 'Apple could be the alpha stock that the rest follow.' \n",
      "\n",
      "Nvidia surpassed Microsoft and Apple as the most valuable company in the world, with a market capitalization of $3.34 billion. This has led to a surge in the company's stock price, with a 3.7% increase one hour before the close. Nvidia has been in a close competition with Apple and Microsoft for the top three spots in the market. Microsoft's market capitalization is $3.31 billion, while Apple's is $3.284 billion. Nvidia's stock has increased by 170% this year, and its value has multiplied by nine since 2022, coinciding with the growth of artificial intelligence. Nvidia's dominance in the market, with 80% of the market share of chips used in large technology companies such as Microsoft, OpenAI, Meta, and Alphabet, suggests that the company's value is unlikely to stop growing.\n",
      "\n",
      "Nvidia surpassed Microsoft and Apple as the largest company by market capitalization, reaching a value of $3.34 trillion. This has led to a surge in the company's stock price, with a 3.51% increase at the close of the session. Nvidia has been growing rapidly, with its stock price increasing by 181% this year and its value multiplying by nine since 2022, coinciding with the growth of artificial intelligence. The company's dominance in the market for chips used in large technology companies such as Microsoft, OpenAI, Meta, and Alphabet suggests that its value is unlikely to stop growing. Wall Street reacted positively to the news, with the Dow Jones Industrial Average and the S&P 500 both reaching new highs.\n",
      "\n",
      "According to The Motley Fool, Nvidia and Meta Platforms have the potential to overtake Microsoft's market cap in the long run. Nvidia's dominance in the AI chip market, with a 80% market share, and its expected revenue of $200 billion in data center revenue next year, make it a strong contender. Analysts estimate Nvidia's earnings to clock an annual growth rate of 42% over the next five years, higher than Microsoft's 13% annual earnings growth. Meta Platforms, on the other hand, is expected to grow at a faster pace than the industry it operates in, with a revenue forecast of $161 billion in 2024. If Meta could bump its digital ad market share to 40% in 2034, its revenue could hit a whopping $704 billion, making it a bigger company than Microsoft. 'Nvidia could keep growing at a faster pace than Microsoft beyond the next five years, potentially over the next decade,' said KeyBanc Capital Markets analyst John Vinh. 'Meta's ability to drive greater returns for advertisers with the help of AI-powered ad campaigns is helping the company attract more ad dollars,' said Meta's management on the recent earnings conference call.\n",
      "\n",
      "Warren Buffett's Berkshire Hathaway has a market cap of $922 billion and could join the $1 trillion club within a year. The company has a 58-year track record of 19.8% annual growth and has outperformed the S&P 500. Berkshire's largest holding is Apple, which it has spent $38 billion accumulating since 2016. The company also has significant positions in energy companies Chevron and Occidental Petroleum, as well as in consumer and logistics businesses. Berkshire's financial growth is supporting its stock's market-beating gains, with a compound annual return of 19.8% since 1965. The company has generated $183.5 billion in revenue in the first half of 2024, up 3.1% from the same period last year. Berkshire's net income for the first half of the year was $43.3 billion. With a record $277 billion in cash, Berkshire is well-positioned to seize new opportunities and fuel long-term growth. Additionally, the U.S. Federal Reserve could cut interest rates, which will be a tailwind for Berkshire's consumer, transportation, and logistics businesses. As Buffett authorized the repurchase of $2.9 billion of Berkshire shares in the first half of 2024, a clear sign that he still believes the conglomerate represents a good value.\n",
      "\n",
      "Investors are wondering whether the recent decline in Nvidia's stock price represents a buying opportunity ahead of the company's highly anticipated financial report. The company's sales have skyrocketed since the start of 2023, driven by the rapid adoption of generative AI by cloud infrastructure providers. Nvidia's graphics processing units (GPUs) are the gold standard for these applications. Analysts at Bank of America have found that in the 12 months following a stock-split announcement, stock-split stocks gained 25%, on average, compared to just 12% for the S&P 500. Since Nvidia announced its stock split on May 22, the stock has actually fallen 19%. The company's GPUs are the gold standard for AI processing, and while there's always the threat of competition, no heir apparent has emerged. Most experts believe it's still early innings for generative AI as adoption continues to ramp up. Even the most conservative estimates suggest that generative AI will be a trillion-dollar market, with some forecasts multitudes higher. Nvidia stock trades at a premium of 38 times earnings, but the company's triple-digit growth, industry-leading position, and long track record show that it's worth every penny.\n",
      "\n",
      "Nvidia Corporation briefly became the most valuable company in the world, surpassing Microsoft and Apple, with a market capitalization of $3.33 trillion. The company's stock has been steadily rising, gaining 207% over the last year and 152% year-to-date in 2024. A recent survey by Benzinga found that 37% of respondents believed Nvidia would reclaim the $3 trillion market capitalization within a month, which proved correct. Nvidia's recent earnings report and stock split may signal the end of recent catalysts, potentially shifting investor focus away from the stock. The company's weighting in the Technology Select Sector SPDR Fund XLK has increased to 20.7%, making it the second-largest holding after Microsoft.\n",
      "\n",
      "The S&P 500 closed the trading day stable, with a slight increase of 0.00 percent to 5,344.39 points. The index has a market value of 44.554 trillion euros. The S&P 500 reached its daily high of 5,371.20 points and its lowest level of 5,324.37 points. Since the beginning of 2024, the index has climbed by 12.68 percent. The top stocks in the S&P 500 include KeyCorp (+9.10 percent to USD 15.94), Super Micro Computer (+6.33 percent to USD 540.98), and NVIDIA (+4.08 percent to USD 109.02). The weakest S&P 500 stocks are SVB Financial Group (-45.00 percent to USD 0.01), Albemarle (-6.92 percent to USD 76.00), and Hanesbrands (-5.25 percent to USD 5.77). NVIDIA shares have the largest trading volume in the S&P 500, with 61,627,188 shares recently traded via the NYSE. Apple shares have the highest market capitalization of 3.010 trillion euros.\n",
      "\n",
      "Warren Buffett's sale of a large amount of Apple Inc shares is expected to increase Apple's influence in major stock indices. Due to Berkshire Hathaway's long-term investment strategy, Apple's weighting in indices was previously depressed. However, with the sale, index providers will now calculate Apple's weight based on its true market capitalization, rather than float-adjusted market capitalization. This means that passive funds tracking these indices may have to buy up to US$40 billion of Apple stock when they next rebalance, which is triple the average daily trading volume of Apple's shares over the past month, according to Piper Sandler & Co.\n",
      "\n",
      "Nvidia has surpassed Apple as the most valuable company in the world, with a market capitalization of over $3 trillion. The company's strong first-quarter financial results and guidance, as well as a recent stock split, have fueled excitement among investors. A poll conducted by Benzinga found that 59.5% of respondents would rather invest in Nvidia, while 40.5% would choose Apple. Analysts are bullish on Nvidia's future, with price targets ranging from $125 to $200. Apple's recent WWDC event received mixed reactions, with some analysts criticizing the company's lack of emphasis on AI developments. Nvidia's stock has surged 209% over the past year and 174% year-to-date in 2024, while Apple's stock has risen 15% over the last year and 11% year-to-date in 2024.\n",
      "\n",
      "Nvidia surpassed Microsoft and Apple as the largest publicly traded company in the world, with a market capitalization of $3.34 billion. This has led to a surge in the company's stock price, with a 3.7% increase just before the close. Nvidia has been growing rapidly, with its stock price increasing by 170% this year and its value multiplying by nine since 2022, coinciding with the growth of artificial intelligence. The company's dominance in the market for chips used in large technology companies such as Microsoft, OpenAI, Meta, and Alphabet suggests that its value is likely to continue growing.\n",
      "\n",
      "Microsoft is the second-largest company in the world with a market cap of $2.99 trillion. However, two other tech giants, Nvidia and Meta Platforms, have the potential to overtake Microsoft's market cap in the long run. Nvidia's market cap is $2.56 trillion and is expected to grow due to its dominance in the AI chip market. The company is expected to generate $200 billion in data center revenue next year, with a growth rate of 42% over the next five years. Meta Platforms, on the other hand, has a market cap of $1.25 trillion and is growing rapidly due to the adoption of its AI-powered advertising tools. The company's revenue is expected to increase to $161 billion in 2024, with a potential to reach $704 billion in 2034 if it grabs a 40% share of the digital ad market. Both Nvidia and Meta Platforms have the potential to become bigger companies than Microsoft in the coming decade.\n",
      "\n",
      "Apple Inc. (AAPL) is the Stock of the Day due to its potential to lead the broader market higher. The stock appears to be breaking out of resistance around the $218 level, which could set the stage for a move higher. With 7% of the S&P 500 Index, a bullish effect on the entire market is possible. According to the article, 'the traders and investors who created the resistance with their sell orders are out of the way,' allowing for a potential uptrend. If Apple can hold above this resistance, it could lead the entire market higher, making it the 'alpha stock' that the rest follow. 'Like an alpha dog is the leader of a pack, Apple could be the alpha stock that the rest follow,' the article states.\n",
      "\n",
      "Nvidia has surpassed Microsoft and Apple to become the world's most valuable company, with a market capitalization of $3.335 billion. The company's stock price has risen 3.5% to $135.58 per share, driven by its success in the artificial intelligence (AI) market. Nvidia's GPUs are crucial for AI development, and its focus on AI generative models has given it a competitive edge over its competitors. The company's market capitalization has increased by 180% since the beginning of 2024, and analysts predict that it will continue to grow. Nvidia's success is attributed to its strategic decision to split its stock in June 2024, making it more accessible to small investors and increasing investor confidence. The company's growth is also driven by the decline in interest rates, which has made it more attractive to investors. Nvidia is now considered the leader in the technology sector, and its market capitalization is expected to continue to rise.\n",
      "\n",
      "Nvidia surpassed Microsoft to become the most valuable company in the US, with a market capitalization of $3.34 trillion. Apple is the third most valuable company in the US, with a market capitalization of $3.27 trillion. Nvidia's stock has risen about 175% this year and has been the best performer in the S&P 500 index in 2023. The company is a leader in the technology sector, driven by the growth of artificial intelligence. The US government has opened an antitrust investigation into Nvidia, Microsoft, and OpenAI to determine if they are engaging in anti-competitive practices.\n",
      "\n",
      "Nvidia's stock price rose 4.1% on Monday, according to S&P Global Market Intelligence. The company's share price was boosted by news of a potential delay in the release of its first-generation Blackwell processors, as well as a new AI training deal with the state of California. UBS maintained a buy rating on the stock and a one-year price target of $150 per share, suggesting near-term upside of 38%. The bank expects strong demand for Nvidia's processors, despite some analysts projecting a near-term peak in earnings for 2025. UBS also expects profits to grow in 2026. The Motley Fool's Stock Advisor analyst team did not include Nvidia in their list of top 10 stocks to buy, but notes that the company's stock has quadrupled the return of the S&P 500 since 2002.\n",
      "\n",
      "Nvidia has surpassed Microsoft and Apple to become the most valuable company in the world. The company's stock price rose by up to 3.4% to $135.4, giving it a market capitalization of $3.332 billion, surpassing Microsoft's $3.325 billion and Apple's $3.282 billion. Nvidia has dominated the market for high-performance chips, with a 170% increase in value since the beginning of the year. The company has also split its stock 1:10, making it more attractive to small investors. The dividend payment will be $0.01 per share, paid on June 28, 2024, to shareholders who held the stock on June 11, 2024.\n",
      "RATES 1. Today's date: 2024-08-13\n",
      "2. End date of the question: 2024-09-17\n",
      "3. Time in days from today to end date: 35 days\n",
      "4. Specific date at which the event is most likely to occur: 2024-08-13 (today)\n",
      "5. The likely event date is before the question end date\n",
      "\n",
      "Based on the provided news, Nvidia has already surpassed Apple to become the world's largest capitalized company on the stock market. This event has already occurred, and Nvidia's market capitalization is reported to be $3.34 trillion, while Apple's is $3.284 trillion. Given the strong performance of Nvidia in the AI chip market and its rapid growth, it is likely that Nvidia's market capitalization will remain larger than Apple's on September 17, 2024. However, the stock market is dynamic, and situations can change quickly. The most recent information suggests that Nvidia's market cap is larger than Apple's as of today (2024-08-13), and this is likely to continue through the question's end date.\n",
      "27138 85 Currently, Nvidia's market capitalization is larger than Apple's, and given the strong performance of Nvidia's stock driven by its dominance in the AI chip market, it is likely to maintain this lead in the near term. However, market conditions can change quickly, and the stock prices of both companies are subject to volatility. I estimate a high probability but not a certainty, hence 85%.\n",
      "REFINING 27138\n",
      "Pass 0 of 4 on 27138\n",
      "27138 I concur\n",
      "concur 2\n",
      "===============================================\n",
      "FORECASTING EVENT Benin Bronzes Transfer\n",
      "ALL\n",
      "The Iwalewahaus at the University of Bayreuth has received a significant donation of Nigerian art, including seven paintings and two batik pieces from the private collection of Albert Spiegel, a former head of the Foreign Cultural Policy Department at the German Foreign Office in Berlin. The artworks, which also include photographs, slides, and reports, are by Nigerian artists, mainly from Oshogbo and Ife, and are in the tradition of Iwalewahaus founder Ulli Beier. The donation includes a painting by Middle Art, who depicts his traumatic experiences in the Nigerian civil war on his works. According to the university, Spiegel's donation is invaluable in light of the planned exhibitions in the coming months. The Iwalewahaus now houses the largest public collection of contemporary African art in Europe.\n",
      "NEWS\n",
      "A total of 63 ancient tombs, dating back 2,500 years, were discovered in the city of Diametta, Egypt. The tombs were found in a protected archaeological site and are believed to belong to a wealthy and influential group. According to Dr. Salima Ikram, a professor of Egyptology, 'The type of objects, especially the gold amulets, show that it was a rich necropolis and that the city it belonged to had a significant social stratification.' The tombs contain gold amulets, ushabti statues, bronze coins, and other valuable artifacts, suggesting that the individuals buried there were of high social status. The discovery has sparked interest in the role of the city in ancient Egyptian trade and commerce, particularly its connection to the Mediterranean Sea. Further analysis and research are needed to fully understand the significance of the find.\n",
      "\n",
      "Prince Williams Adeleye, Chair of the Ogbomosoland Committee for Arts and Culture, has revealed plans to rejuvenate the cultural heritage of Ogbomosoland, a region in Oyo State, Nigeria. According to Adeleye, 'many countries have thrived on tourism', and Ogbomosoland has a wealth of tourism potential, including ancient palaces, shrines, cultural festivals, and deities. The committee has lined up a series of activities, including the Egungun festival and a special cuisine festival, to showcase the region's cultural and tourism potentials between December 19 and 24, 2024. Adeleye stated, 'We are aligning with the position of the federal and state governments in promoting domestic tourism, arts and culture. We are working towards rejuvenating the cultural heritage and showcasing it to the world, with the intent of promoting peace, creating jobs, and developing the city economically.' \n",
      "\n",
      "The King's Palace in Benin City has received two stolen Benin Bronzes back. Representatives of the Stanley Museum of Art in Iowa handed over the artifacts to the Oba of Benin, according to Radio France Internationale. The Oba is the traditional ruler of Benin City. The artifacts include a brass plate and a wooden and iron sculpture of a hen. The Benin Bronzes are masks, tablets, and sculptures made in the 16th century in the former Kingdom of Benin, which is now in present-day Nigeria. British colonial soldiers and traders looted between 3,000 and 5,000 of these exhibits in 1897 and later sold them to European museums and collectors.\n",
      "\n",
      "The University of Iowa Stanley Art Museum has become the first American museum to return Benin bronzes to Nigeria. The museum returned two artifacts, a bronze plaque and a wooden pedestal, to the Benin royal family's former head and guardian, the Benin Oba, during a formal ceremony at the Benin Palace in Nigeria on July 15. According to Lauren Lessing, the museum's director, the two artworks were stolen from the Benin Oba in 1897. The Benin Bronzes, which number around 5,000, were looted by British forces during a raid on the Benin Palace in 1897. Many of the artifacts were sold at auction in London and dispersed to museums in the US, Germany, and other European countries. In 2023, the Nigerian government declared that the Benin Oba, Oba Ewuare II, was the legal guardian of the artifacts. The British Museum, which has over 900 Benin Bronzes, has been called upon to return the artifacts to Nigeria, but has refused, citing a UK law that allows museums to retain cultural artifacts. The return of the Benin Bronzes has become a symbol of the West's willingness to return stolen cultural artifacts to their countries of origin.\n",
      "\n",
      "The 'MM'-Podcast discusses the restitution of Benin Bronzes, which were looted from the Kingdom of Benin (now Nigeria) by British forces in 1897. The podcast explores the history of the Bronzes, their journey to Mannheim, and the ongoing debate about their restitution. The Reiss-Engelhorn Museums in Mannheim hold around 11,000 artifacts from African countries, including the Benin Bronzes. The podcast features interviews with Nelly Friedland, the director of the ethnological collection, and Nicole Amoussou, an anti-racism trainer, who shares her personal story of arriving in Germany and visiting an ethnological museum. The article raises questions about the ownership of cultural artifacts and the need for restitution and repatriation.\n",
      "\n",
      "The Oba Ewuare II of Benin has expressed hope that other American museums will follow the example of the Stanley Museum in returning looted artifacts to their original owners. In 1897, British colonial troops seized thousands of objects, including the famous Benin bronzes, from the royal palace in Benin City. The returned plaque represents a high-ranking officer with his ceremonial sword and is believed to have been dedicated to the cult of maternal ancestors. Over 900 Benin artifacts are still held by the British Museum, with the institution remaining open to discussions with Nigerian partners about restitution. The report by Felwine Sarr and Bénédicte Savoy, commissioned by French President Emmanuel Macron in 2018, found that 90-95% of Africa's artistic and cultural heritage is held outside the continent.\n",
      "\n",
      "The Oba of Benin, Omo N' Oba N' Edo, Uku Akpolokpolo, Oba Ewuare II, will receive looted Benin Bronzes from a prominent Museum in the United States on July 15. The event is expected to attract a large audience, including defenders of Edo heritage. This is not the first time the Oba has received returned artifacts, as he received two items from Germany in May 2024.\n",
      "\n",
      "The Oba of Benin, Ewuare II, welcomed the University of Iowa Stanley Museum of Art's decision to return two Benin Bronzes, a brass plaque and a wooden sculpture of a hen, which were stolen by British forces in the 19th century. The Oba hopes that other American museums will follow suit, as the artefacts hold spiritual as well as artistic importance. The Stanley Museum's curator, Cory Gundlach, acknowledged the violence and loss associated with the objects and expressed the museum's commitment to acknowledging this chapter in history and using it as a catalyst for positive change.\n",
      "\n",
      "The Africa 50 General Assembly will take place in Madagascar on September 19, 2024, bringing together decision-makers, leaders, shareholders, investors, and project promoters. The event is considered a platform for Madagascar's economic attractiveness on the continental and international levels. Africa 50, a pan-African platform for infrastructure investments, expects the presence of representatives from its 31 member countries. The assembly is crucial for advancing the debate on African infrastructure, as stated by Africa 50, and is designed to promote innovation, investment, and information, as well as to realize bankable projects across the continent. Africa 50 aims to optimize environmental, social, and economic impact and motivate investors. Madagascar is expected to benefit greatly from this event, with investments being a key focus. The assembly's base of investors consists of 28 African countries, two African central banks, and the African Development Bank, with other countries expected to join. The current sovereign shareholders are: Benin, Burkina Faso, Cameroon, Djibouti, Egypt, Gabon, Gambia, Ghana, Guinea, Côte d'Ivoire, Kenya, Madagascar, Malawi, Mali, Mauritania, Morocco, Mauritius, Niger, Nigeria, Democratic Republic of the Congo, Republic of the Congo, Rwanda, Senegal, Sierra Leone, Sudan, Togo, Tunisia, and Zimbabwe. The banking shareholders are the West African States Central Bank (BCEAO) and Bank Al-Maghrib. The engaged capital is $878 million. Africa 50's intervention accelerates the execution of private projects and public-private partnerships, mobilizing significant global capital. Its impact on the continent's development positively affects the lives of millions of Africans. 'The General Assembly is a crucial event for advancing the debate on African infrastructure,' says Africa 50. 'It is designed to promote innovation, investment, and information, as well as to realize bankable projects across the continent.'\n",
      "\n",
      "The Stanley Museum of Art at the University of Iowa in the US has returned bronze artifacts known as the Benin Bronzes to Nigeria, according to ArtNet News. The museum handed over a copper plate and a wooden altar from its collection to Ize-Victor, the Oba of Benin, in a ceremony held at the former palace of the Kingdom of Benin, now in Edo State, Nigeria. The artifacts were among thousands of items looted by the British during the 1897 siege. Ize-Victor took office in 2016, succeeding his grandfather, Oba Ewuare II, who ruled from 1888 to 1897. Although the Oba no longer rules Benin, the title still holds significant cultural importance, and the leader is seen as a symbol of unity and guardian of the history of the Edo people. Last year, the Nigerian government officially recognized the Oba as the rightful owner of the looted artifacts. Cory Gundlah, the curator of African art at the museum, said, 'It's impossible to forget the violence and loss associated with these objects. The Stanley Museum of Art is committed to acknowledging this dark chapter in history and using it as a catalyst for positive change.' This is the first time an American museum has returned works to the previous royal family of the Benin Empire. The Smithsonian Institution's Board of Regents voted in 2022 to return 29 bronze pieces from Benin to the Nigerian National Commission for Museums and Monuments. In December 2022, German museums returned 21 pieces from their collections in a ceremony held in Abuja, Nigeria. Most of the remaining bronze pieces are held in the British Museum's collection, and an online database called Digital Benin, launched in 2020, has cataloged around 5,246 historical pieces from Benin held in 131 institutions in 20 countries.\n",
      "\n",
      "The Festival de Máscaras in Porto-Novo, the capital of Benín, combines traditional heritage with modern tourism. The three-day event, supported by both the national and municipal governments, attracts visitors from neighboring countries such as Togo and Burkina Faso, as well as locals from across Benín who showcase their unique masks and costumes. As a former French colony known as Dahomey until 1975, Benín preserves memories of past festivities. In the south, Ouidah, a city that was once under Portuguese rule, is home to the 'Door of No Return', a monument commemorating the enslaved people who were forcibly taken aboard slave ships and never returned. 'The festival is a celebration of our rich cultural heritage,' said a local, 'and a reminder of the importance of preserving our traditions.' \n",
      "\n",
      "The Benin delegation returned home with several medals from the Open de la diaspora Ghana 2024, which took place from August 9-10. The team, which included taekwondo athletes, performed well and won two gold medals, three silver medals, and one bronze medal. Gracia Aniambossou, one of the medalists, also won the title of best female athlete. According to the results, the Benin delegation could have achieved an 8/8 record if two of their athletes had not been eliminated in the quarterfinals. The medal winners were: Romaric Kiki and Gracia Aniambossou (gold), Raylino Odjo, Gloria Kiton, and Ralph Ahouanougan (silver), and Anges Houadjeto (bronze). 'It was a great day,' said the Benin delegation, as they returned home with their medals. \n",
      "\n",
      "The 2024 Paris Olympics have come to a close, with Africa increasing its number of medals won to 39, up from 38 at the 2020 Tokyo Olympics. However, the Benin team, with a delegation of five members, failed to win any medals, just like in their previous 13 Olympic participations. The US topped the medal count with 126 medals, including 40 gold, 44 silver, and 42 bronze. China and Japan followed closely behind. Among African nations, Kenya led the pack with 11 medals, including 4 gold, 2 silver, and 5 bronze. Algeria, South Africa, Ethiopia, Egypt, Tunisia, Botswana, Uganda, and Morocco also won gold medals. The 2028 Olympics will be held in Los Angeles, USA. As the French handed over the torch to the Americans at the closing ceremony, the Benin team remains stuck in a medal-less rut, with no sign of improvement in sight. As the article puts it, 'Le Bénin est resté fidèle à lui-même' (The Benin has remained faithful to itself), implying that the team's performance has not changed over the years. 'La malédiction continue toujours de planer sur le Bénin dans cette compétition planétaire' (The curse continues to hang over Benin in this global competition), suggesting that the team is still struggling to win its first Olympic medal. \n",
      "\n",
      "The Acropolis Museum is hosting a temporary exhibition titled 'Treasures of Ancient Basilicata - The Invisible Heritage' from October 17, 2024, to January 31, 2025. The exhibition, curated by Massimo Osanna and Anna Maria Mauro, focuses on the culture of Basilicata from the end of the Bronze Age to the 6th century BC. It includes 312 objects selected from museums in the region, showcasing personal items offered to the deceased, as well as objects brought by the Greeks that mingled with the local culture. The exhibits reveal the choice of burial customs, including cremation and incineration, and the ritual display of wealth during burial ceremonies. The exhibition is structured into two sections, covering the Iron Age and the Early Archaic and Archaic Periods. According to Professor Nikolaos Stampolidis, the General Director of the Acropolis Museum, 'The wealth of the exhibition's objects indicates its importance, as it will occupy the entire space of the temporary exhibition hall of the Acropolis Museum. This is yet another proof of the creative relationships between the Acropolis Museum and the museums of Italy.' \n",
      "\n",
      "The Iwalewahaus at the University of Bayreuth has received a significant donation of Nigerian art, including seven paintings and two batik pieces from the private collection of Albert Spiegel, a former head of the Foreign Cultural Policy Department at the German Foreign Office in Berlin. The artworks, which also include photographs, slides, and reports, are by Nigerian artists, mainly from Oshogbo and Ife, and are in the tradition of Iwalewahaus founder Ulli Beier. The donation includes a painting by Middle Art, who depicts his traumatic experiences in the Nigerian civil war on his works. According to the university, Spiegel's donation is invaluable in light of the planned exhibitions in the coming months. The Iwalewahaus now houses the largest public collection of contemporary African art in Europe.\n",
      "\n",
      "The Oba of Benin, Oba Ewuare II, will receive looted Benin Bronzes from a prominent US Museum on Monday, July 15th, 2024. According to the Chief Press Secretary to the Oba, Osaigbovo, the US-based Museum delegations will present the artifacts to the Monarch in his palace. The event is scheduled to hold at 12 noon and is expected to attract all and sundry, including defenders of Edo heritage.\n",
      "\n",
      "Egypt is not the only country demanding the return of artifacts from the British Museum. Several countries around the world are also demanding the return of their artifacts, including the Parthenon Marbles and the Benin Bronzes. The British Museum has been holding onto these rare artifacts, and the issue has become a point of contention. The British Museum has been accused of holding onto the artifacts in a way that is 'like cutting the Mona Lisa in half.' The UK has insisted that it has the right to keep the artifacts, citing a 1963 law that prohibits the permanent disposal of the museum's main collection. However, this has not stopped the controversy. In November last year, a diplomatic row broke out between the UK and Greece over the Parthenon Marbles. The UK has insisted that it has not breached its commitment to Greece not to use the visit 'to stir up controversy' over the long-standing dispute. In March 2023, Prime Minister Rishi Sunak reaffirmed his position that the artifacts should remain in Britain. The British Museum holds over 900 bronze pieces from Benin, which are decorative plaques taken during the colonial conflict in the late 19th century. The British took these artifacts, which are mostly made of copper but also include some ivory and wooden pieces, during the British military's invasion of Benin City, Nigeria, in 1897. The British military burned down the city's palace with thousands of bronze statues and other works of art - collectively known as the 'Benin Bronzes' - and sold them later in London to recoup the costs of the military mission. These exceptional artifacts, which are of great artistic and historical importance, have ended up in museums in the UK, Europe, and the US, where claims for their return have been made since the mid-20th century. There are currently around 5,000 Benin Bronzes 'scattered' around the world. The British Museum also holds two Moai statues, which are of great importance to the city of Rapa Nui. One of the statues, weighing four tons and standing 7 feet 10 inches tall, is one of the most important spiritual stones among the 900 famous Moai stones found on the island of Easter Island.\n",
      "\n",
      "Researchers from Nigerian and US universities have urged the government to preserve the Sungbo-Eredo archaeological monument and develop it into a tourist attraction. The monument, stretching from Eredo in Lagos State to Ijebu in Ogun State, is approximately 1,000 square kilometers in size and is the longest single pre-industrial territorial earthwork in Africa. According to Prof. Gerard Chouin, 'This marks a significant milestone in the efforts to conserve and promote this historic monument.' The researchers presented a LiDAR survey to officials, emphasizing the importance of preserving the monument for its potential listing as a UNESCO World Heritage Site. Government officials, including the Director General of the National Commission for Museums and Monuments, Mr Olu Holloway, have assured that the preservation of the monument will be addressed urgently. Local leaders, such as the Alara of Ilara-Epe and the Baale of Eredo, have also expressed optimism about the monument's potential to boost the local economy and create jobs.\n",
      "\n",
      "The Egyptian Museum has announced new ticket prices for Egyptians and foreigners. For Egyptians, the prices are: 350 EGP for adults, 200 EGP for youth, 200 EGP for students, and 200 EGP for seniors. For foreigners, the prices are: 1200 EGP for adults, 750 EGP for youth, and 750 EGP for students. The museum houses a vast collection of unique and rare artifacts, including the treasures of King Tutankhamun, which are being displayed for the first time since their discovery in November 1922. The museum also features the collection of Queen Hetepheres, the mother of King Khufu, builder of the Great Pyramid of Giza, as well as the Boat Museum of King Khufu and various collections of artifacts from the Predynastic to the Greek and Roman periods. As the museum's director said, 'It was a great day.' (Note: The last sentence is not a direct quote from the article, but rather an example of how to use single quotes for quotes. The article does not contain any direct quotes.)\n",
      "\n",
      "The Stanley Museum of Art at the University of Iowa in the United States has returned bronze artifacts known as the Benin Bronzes to Nigeria. According to news.artnet, the museum handed over a copper plate and a wooden altar from its collection to Iyayi II, the Oba of Benin, in a ceremony held at the former palace of the Kingdom of Benin, now in Edo State, Nigeria. The artifacts were among thousands of items looted by the British during the 1897 siege. Iyayi II took office in 2016, succeeding his grandfather, who was a descendant of Oba Ovonramwen Nogbaisi, who ruled from 1888 until the British campaign, which contributed to the establishment of modern Nigeria. Although the Oba no longer rules Benin, the title still holds significant cultural importance, and the leader is seen as a symbol of unity and guardian of the history of the Edo people. Last year, the Nigerian government officially recognized the Oba as the rightful owner of the looted artifacts. Cory Gundlausch, the curator of African art at the museum, said, 'It's impossible to forget the violence and loss associated with these objects. The Stanley Museum of Art is committed to acknowledging this tragic chapter in history and using it as a catalyst for positive change.' This is the first time an American museum has returned works from the former royal family of the Benin Empire. The Smithsonian Institution's Board of Regents voted in 2022 to return a collection of 29 Benin bronzes to the Nigerian National Committee for Museums and Monuments. In December 2022, German museums returned 21 artifacts in a ceremony held in Abuja, the Nigerian capital, and most of the remaining bronze artifacts are housed in the British Museum's collection.\n",
      "RATES Today's date: 2024-08-13\n",
      "End date of question: 2024-10-01\n",
      "Time in days from today to end date: 49 days\n",
      "\n",
      "The specific date at which the event is most likely to occur: There is no clear indication in the provided news that 200 Benin Bronzes will be returned from the British Museum to Nigeria by October 1, 2024. The news mentions several instances of Benin Bronzes being returned from various institutions, but not specifically from the British Museum in the quantity or timeframe specified in the question.\n",
      "\n",
      "The likely event date is: on or after the question end date\n",
      "\n",
      "The news does not provide enough information to determine if 200 Benin Bronzes will be returned from the British Museum to Nigeria before October 1, 2024. While there is a growing trend of museums returning these artifacts, the British Museum, which holds over 900 Benin Bronzes, has not announced any plans for a large-scale return. The museum has cited UK law as a barrier to permanent removal from their collection. Without more specific information about the British Museum's plans, it's unlikely that such a significant return would occur before the given date.\n",
      "27137 2 Based on the current news and background information, it seems highly unlikely that at least 200 Benin Bronzes will be returned from the British Museum to Nigeria before October 1, 2024. The British Museum has over 900 Benin Bronzes and has cited UK laws as a barrier to permanently removing these artifacts from their collection. Despite the growing trend of returning artifacts to their countries of origin, there is no specific indication that the British Museum plans such a large-scale return imminently.\n",
      "REFINING 27137\n",
      "Pass 0 of 4 on 27137\n",
      "27137 I concur\n",
      "concur 2\n",
      "===============================================\n"
     ]
    }
   ],
   "source": [
    "fcst.fit()"
   ]
  },
  {
   "cell_type": "code",
   "execution_count": 51,
   "metadata": {},
   "outputs": [
    {
     "name": "stdout",
     "output_type": "stream",
     "text": [
      "27137 Will at least 200 Benin Bronzes go from the British Museum to Nigeria before October 1, 2024?\n",
      "Forecast 2\n",
      "Rationale Based on the current news and background information, it seems highly unlikely that at least 200 Benin Bronzes will be returned from the British Museum to Nigeria before October 1, 2024. The British Museum has over 900 Benin Bronzes and has cited UK laws as a barrier to permanently removing these artifacts from their collection. Despite the growing trend of returning artifacts to their countries of origin, there is no specific indication that the British Museum plans such a large-scale return imminently. \n",
      "\n",
      "27138 On September 17, 2024, will Nvidia's market capitalization be larger than Apple's?\n",
      "Forecast 85\n",
      "Rationale Currently, Nvidia's market capitalization is larger than Apple's, and given the strong performance of Nvidia's stock driven by its dominance in the AI chip market, it is likely to maintain this lead in the near term. However, market conditions can change quickly, and the stock prices of both companies are subject to volatility. I estimate a high probability but not a certainty, hence 85%. \n",
      "\n",
      "27140 Will the  CBOE S&P 500 3-Month Volatility Index (VXVCLS)        \n",
      " be higher Year-over-Year on September 20, 2024?\n",
      "Forecast 75\n",
      "Rationale Given the current market conditions and the historical data provided, it is highly likely that the CBOE S&P 500 3-Month Volatility Index (VXVCLS) will be higher Year-over-Year on September 20, 2024. The recent spikes in volatility and the overall market sentiment suggest that the index will remain elevated for a considerable period. Historical trends indicate that after significant spikes, volatility tends to stay high for several months before settling down. Hence, I assign a 75% probability to this outcome. \n",
      "\n",
      "27141 Will the Crimean Bridge be hit with an attack before Sept 30, 2024?\n",
      "Forecast 80\n",
      "Rationale Given the evidence presented, including statements from Ukrainian officials about imminent plans to attack and the historical precedence of successful previous attacks, there is a significant likelihood that an attack on the Crimean Bridge will occur before September 30, 2024. The uptick in defensive measures by Russia further supports the anticipation of potential attacks. Thus, I assess the probability of another attack occurring within the specified timeframe to be 80%. \n",
      "\n"
     ]
    }
   ],
   "source": [
    "fcst.report()"
   ]
  },
  {
   "cell_type": "code",
   "execution_count": 52,
   "metadata": {},
   "outputs": [
    {
     "name": "stdout",
     "output_type": "stream",
     "text": [
      "Prediction posted for  27137\n",
      "Comment posted for  27137\n",
      "Prediction posted for  27138\n",
      "Comment posted for  27138\n",
      "Prediction posted for  27140\n",
      "Comment posted for  27140\n",
      "Prediction posted for  27141\n",
      "Comment posted for  27141\n"
     ]
    }
   ],
   "source": [
    "fcst.upload()"
   ]
  },
  {
   "cell_type": "code",
   "execution_count": null,
   "metadata": {},
   "outputs": [],
   "source": []
  }
 ],
 "metadata": {
  "colab": {
   "provenance": []
  },
  "kernelspec": {
   "display_name": "Python 3 (ipykernel)",
   "language": "python",
   "name": "python3"
  },
  "language_info": {
   "codemirror_mode": {
    "name": "ipython",
    "version": 3
   },
   "file_extension": ".py",
   "mimetype": "text/x-python",
   "name": "python",
   "nbconvert_exporter": "python",
   "pygments_lexer": "ipython3",
   "version": "3.10.6"
  }
 },
 "nbformat": 4,
 "nbformat_minor": 4
}
