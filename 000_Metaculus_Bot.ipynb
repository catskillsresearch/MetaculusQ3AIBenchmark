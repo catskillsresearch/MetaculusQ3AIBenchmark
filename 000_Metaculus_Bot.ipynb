{
 "cells": [
  {
   "cell_type": "markdown",
   "metadata": {},
   "source": [
    "# 000 Forecasting Bot"
   ]
  },
  {
   "cell_type": "markdown",
   "metadata": {},
   "source": [
    "Starting from https://colab.research.google.com/drive/1_Il5h2Ed4zFa6Z3bROVCE68LZcSi4wHX?usp=sharing"
   ]
  },
  {
   "cell_type": "markdown",
   "metadata": {},
   "source": [
    "## Imports"
   ]
  },
  {
   "cell_type": "code",
   "execution_count": 1,
   "metadata": {},
   "outputs": [],
   "source": [
    "from IPython.display import Markdown"
   ]
  },
  {
   "cell_type": "markdown",
   "metadata": {},
   "source": [
    "## Today"
   ]
  },
  {
   "cell_type": "code",
   "execution_count": 2,
   "metadata": {},
   "outputs": [
    {
     "data": {
      "text/plain": [
       "'2024-07-30'"
      ]
     },
     "execution_count": 2,
     "metadata": {},
     "output_type": "execute_result"
    }
   ],
   "source": [
    "import datetime\n",
    "today = str(datetime.datetime.now())[0:10]\n",
    "today"
   ]
  },
  {
   "cell_type": "markdown",
   "metadata": {},
   "source": [
    "## 000_bot"
   ]
  },
  {
   "cell_type": "markdown",
   "metadata": {},
   "source": [
    "### API Keys"
   ]
  },
  {
   "cell_type": "markdown",
   "metadata": {},
   "source": [
    "In order to run this notebook as is, you'll need to enter a few API keys (use the key icon on the left to input them):\n",
    "\n",
    "- `METACULUS_TOKEN`: you can find your Metaculus token under your bot's user settings page: https://www.metaculus.com/accounts/settings/, or on the bot registration page where you created the account: https://www.metaculus.com/aib/\n",
    "- `OPENAPI_API_KEY`: get one from OpenAIs page: https://platform.openai.com/settings/profile?tab=api-keys\n",
    "- `PERPLEXITY_API_KEY` - used to search up-to-date information about the question. Get one from https://www.perplexity.ai/settings/api"
   ]
  },
  {
   "cell_type": "code",
   "execution_count": 3,
   "metadata": {},
   "outputs": [],
   "source": [
    "from omegaconf import OmegaConf\n",
    "\n",
    "tokens = OmegaConf.create(\"\"\"\n",
    "METACULUS_TOKEN: xx\n",
    "OPENAI_API_KEY: yy\n",
    "OPENAI_MODEL: gpt-4o\n",
    "PERPLEXITY_API_KEY: zz\n",
    "PERPLEXITY_MODEL: llama-3-sonar-large-32k-online\"\"\")\n",
    "\n",
    "token_fn = \"tokens.yaml\"\n",
    "# OmegaConf.save(config=tokens, f=token_fn)\n",
    "config = OmegaConf.load(token_fn)\n",
    "\n",
    "def pr(tokens):\n",
    "    print(OmegaConf.to_yaml(config))"
   ]
  },
  {
   "cell_type": "raw",
   "metadata": {},
   "source": [
    "pr(config)"
   ]
  },
  {
   "cell_type": "markdown",
   "metadata": {
    "id": "iDukuXArbgdm"
   },
   "source": [
    "### LLM and Metaculus Interaction"
   ]
  },
  {
   "cell_type": "markdown",
   "metadata": {
    "id": "iDukuXArbgdm"
   },
   "source": [
    "This section sets up some simple helper code you can use to get data about forecasting questions and to submit a prediction"
   ]
  },
  {
   "cell_type": "code",
   "execution_count": 4,
   "metadata": {
    "id": "HifodCwcGU0j"
   },
   "outputs": [],
   "source": [
    "import datetime\n",
    "import json\n",
    "import os\n",
    "import requests\n",
    "import re\n",
    "from openai import OpenAI\n",
    "from tqdm import tqdm"
   ]
  },
  {
   "cell_type": "code",
   "execution_count": 5,
   "metadata": {
    "id": "HifodCwcGU0j"
   },
   "outputs": [],
   "source": [
    "AUTH_HEADERS = {\"headers\": {\"Authorization\": f\"Token {config.METACULUS_TOKEN}\"}}\n",
    "API_BASE_URL = \"https://www.metaculus.com/api2\"\n",
    "WARMUP_TOURNAMENT_ID = 3349\n",
    "SUBMIT_PREDICTION = True\n",
    "\n",
    "def find_number_before_percent(s):\n",
    "    # Use a regular expression to find all numbers followed by a '%'\n",
    "    matches = re.findall(r'(\\d+)%', s)\n",
    "    if matches:\n",
    "        # Return the last number found before a '%'\n",
    "        return int(matches[-1])\n",
    "    else:\n",
    "        # Return None if no number found\n",
    "        return None\n",
    "\n",
    "def post_question_comment(question_id, comment_text):\n",
    "    \"\"\"\n",
    "    Post a comment on the question page as the bot user.\n",
    "    \"\"\"\n",
    "\n",
    "    response = requests.post(\n",
    "        f\"{API_BASE_URL}/comments/\",\n",
    "        json={\n",
    "            \"comment_text\": comment_text,\n",
    "            \"submit_type\": \"N\",\n",
    "            \"include_latest_prediction\": True,\n",
    "            \"question\": question_id,\n",
    "        },\n",
    "        **AUTH_HEADERS,\n",
    "    )\n",
    "    response.raise_for_status()\n",
    "    print(\"Comment posted for \", question_id)\n",
    "\n",
    "def post_question_prediction(question_id, prediction_percentage):\n",
    "    \"\"\"\n",
    "    Post a prediction value (between 1 and 100) on the question.\n",
    "    \"\"\"\n",
    "    url = f\"{API_BASE_URL}/questions/{question_id}/predict/\"\n",
    "    response = requests.post(\n",
    "        url,\n",
    "        json={\"prediction\": float(prediction_percentage) / 100},\n",
    "        **AUTH_HEADERS,\n",
    "    )\n",
    "    response.raise_for_status()\n",
    "    print(\"Prediction posted for \", question_id)\n",
    "\n",
    "\n",
    "def get_question_details(question_id):\n",
    "    \"\"\"\n",
    "    Get all details about a specific question.\n",
    "    \"\"\"\n",
    "    url = f\"{API_BASE_URL}/questions/{question_id}/\"\n",
    "    response = requests.get(\n",
    "        url,\n",
    "        **AUTH_HEADERS,\n",
    "    )\n",
    "    response.raise_for_status()\n",
    "    return json.loads(response.content)\n",
    "\n",
    "def list_questions(tournament_id=WARMUP_TOURNAMENT_ID, offset=0, count=1000):\n",
    "    \"\"\"\n",
    "    List (all details) {count} questions from the {tournament_id}\n",
    "    \"\"\"\n",
    "    url_qparams = {\n",
    "        \"limit\": count,\n",
    "        \"offset\": offset,\n",
    "        \"has_group\": \"false\",\n",
    "        \"order_by\": \"-activity\",\n",
    "        \"forecast_type\": \"binary\",\n",
    "        \"project\": tournament_id,\n",
    "        \"status\": \"open\",\n",
    "        \"type\": \"forecast\",\n",
    "        \"include_description\": \"true\",\n",
    "    }\n",
    "    url = f\"{API_BASE_URL}/questions/\"\n",
    "    response = requests.get(url, **AUTH_HEADERS, params=url_qparams)\n",
    "    response.raise_for_status()\n",
    "    data = json.loads(response.content)\n",
    "    return data"
   ]
  },
  {
   "cell_type": "markdown",
   "metadata": {},
   "source": [
    "### IFP"
   ]
  },
  {
   "cell_type": "code",
   "execution_count": 6,
   "metadata": {},
   "outputs": [],
   "source": [
    "class IFP:\n",
    "\n",
    "    def __init__(self, question_id):\n",
    "        self.question_id = question_id\n",
    "        self.question_details = get_question_details(self.question_id)\n",
    "        self.today = datetime.datetime.now().strftime(\"%Y-%m-%d\")   \n",
    "        self.title = self.question_details[\"title\"]\n",
    "        self.resolution_criteria = self.question_details[\"resolution_criteria\"]\n",
    "        self.background = self.question_details[\"description\"]\n",
    "        self.fine_print = self.question_details[\"fine_print\"]\n",
    "\n",
    "    def report(self):\n",
    "        rpt = f\"\"\"\n",
    "The future event is described by this question: [ {self.title} ]\n",
    "The resolution criteria are: [ {self.resolution_criteria} ]\n",
    "The background is: [ {self.background} ]\"\"\"\n",
    "        if self.fine_print:\n",
    "            rpt += f\"\"\"\n",
    "The fine print is: [ {self.fine_print} ]\"\"\"\n",
    "        return rpt"
   ]
  },
  {
   "cell_type": "markdown",
   "metadata": {},
   "source": [
    "### LLMs"
   ]
  },
  {
   "cell_type": "code",
   "execution_count": 7,
   "metadata": {},
   "outputs": [],
   "source": [
    "class LLM:\n",
    "    def __init__(self, system_role):\n",
    "        self.messages = [{\"role\": \"system\", \"content\": system_role}]\n",
    "\n",
    "    def chat(self, query):\n",
    "        self.messages.append({\"role\": \"user\", \"content\": query})\n",
    "        text = self.message()\n",
    "        self.messages.append({\"role\": \"assistant\", \"content\": text})\n",
    "        return text\n",
    "\n",
    "class Perplexity(LLM):\n",
    "    def message(self):\n",
    "        url = \"https://api.perplexity.ai/chat/completions\"\n",
    "        headers = {\n",
    "            \"accept\": \"application/json\",\n",
    "            \"authorization\": f\"Bearer {config.PERPLEXITY_API_KEY}\",\n",
    "            \"content-type\": \"application/json\"  }\n",
    "        payload = {\"model\": config.PERPLEXITY_MODEL, \"messages\": self.messages }\n",
    "        response = requests.post(url=url, json=payload, headers=headers)\n",
    "        response.raise_for_status()\n",
    "        return response.json()[\"choices\"][0][\"message\"][\"content\"]\n",
    "\n",
    "class ChatGPT(LLM):\n",
    "    def __init__(self, system_role):\n",
    "        super().__init__(system_role)\n",
    "        self.client = OpenAI(api_key=config.OPENAI_API_KEY)\n",
    "\n",
    "    def message(self):\n",
    "        chat_completion = self.client.chat.completions.create(\n",
    "            model=config.OPENAI_MODEL,\n",
    "            messages= self.messages)\n",
    "        return chat_completion.choices[0].message.content"
   ]
  },
  {
   "cell_type": "markdown",
   "metadata": {},
   "source": [
    "### Test questions"
   ]
  },
  {
   "cell_type": "raw",
   "metadata": {},
   "source": [
    "jul25 = [26638, 26639, 26640, 26641, 26642, 26643, 26644, 26645, 26646]\n",
    "\n",
    "ifps = {id: IFP(id) for id in jul25}"
   ]
  },
  {
   "cell_type": "markdown",
   "metadata": {
    "id": "9WUvm1tVmMkO"
   },
   "source": [
    "### Agents"
   ]
  },
  {
   "cell_type": "code",
   "execution_count": 8,
   "metadata": {},
   "outputs": [],
   "source": [
    "class Agent:\n",
    "    def __init__(self, system_role, llm):\n",
    "        self.llm = llm(system_role)\n",
    "\n",
    "    def chat(self, prompt):\n",
    "        return self.llm.chat(prompt)"
   ]
  },
  {
   "cell_type": "markdown",
   "metadata": {},
   "source": [
    "## Rate Analyzer(TBD: ChatGPT is better)"
   ]
  },
  {
   "cell_type": "raw",
   "metadata": {},
   "source": [
    "class RateAnalyzer(Agent):\n",
    "    def __init__(self, llm):\n",
    "        self.system_role = f\"\"\"\n",
    "A question about an event is formatted as |id|question|criteria|background|fineprint|.\n",
    "Today's date is {today}.\n",
    "You will report \n",
    "1. today's date, \n",
    "2. the end date of the question, \n",
    "3. the time in days D from today to end date, \n",
    "4. the daily rate of change R of the quantity,\n",
    "5. today's value V of the quantity,\n",
    "6. the change in value dV of the quantity = D * r,\n",
    "7. the final value of the quantity F = V + dV.  Give your best estimate.\n",
    "\"\"\"\n",
    "        super().__init__(self.system_role, llm)\n",
    "\n",
    "    def recherche(self, ifp):\n",
    "        prompt = f\"|{ifp.question_id}|{ifp.title}|{ifp.resolution_criteria}|{ifp.background}|{ifp.fine_print}|\"\n",
    "        self.R = self.chat(prompt)\n",
    "        ifp.rates = self.R\n",
    "        print(ifp.question_id, ifp.title)\n",
    "        print(self.R)\n",
    "\n",
    "    def analyze(self, ifps):\n",
    "        for ifp in tqdm(ifps):\n",
    "            self.recherche(ifps[ifp])"
   ]
  },
  {
   "cell_type": "raw",
   "metadata": {},
   "source": [
    "rates = RateAnalyzer(Perplexity)\n",
    "rates.analyze(ifps)"
   ]
  },
  {
   "cell_type": "markdown",
   "metadata": {},
   "source": [
    "#### Researcher"
   ]
  },
  {
   "cell_type": "code",
   "execution_count": 9,
   "metadata": {},
   "outputs": [],
   "source": [
    "class Researcher(Agent):\n",
    "    def __init__(self, llm):\n",
    "        self.system_role = f\"\"\"\n",
    "You are an open source intelligence analyst.\n",
    "You summarize news related to questions about events.\n",
    "A question about an event is formatted as |id|question|criteria|background|fineprint|.\n",
    "You will find on the web and report any reliable information you can gather about the question.\n",
    "Do not make an assessment of probability.\n",
    "Do not repeat information provided to you already in the prompt.\"\"\"\n",
    "        super().__init__(self.system_role, llm)\n",
    "\n",
    "    def recherche(self, ifp):\n",
    "        prompt = f\"|{ifp.question_id}|{ifp.title}|{ifp.resolution_criteria}|{ifp.background}|{ifp.fine_print}|\"\n",
    "        self.R = self.chat(prompt)\n",
    "        ifp.news = self.R\n",
    "        print(ifp.question_id, ifp.title)\n",
    "        print(self.R)\n",
    "\n",
    "    def research(self, ifps):\n",
    "        for ifp in tqdm(ifps):\n",
    "            self.recherche(ifps[ifp])"
   ]
  },
  {
   "cell_type": "raw",
   "metadata": {},
   "source": [
    "researcher = Researcher(ChatGPT)"
   ]
  },
  {
   "cell_type": "raw",
   "metadata": {},
   "source": [
    "researcher.research(ifps)"
   ]
  },
  {
   "cell_type": "markdown",
   "metadata": {},
   "source": [
    "### Question relator"
   ]
  },
  {
   "cell_type": "code",
   "execution_count": 10,
   "metadata": {},
   "outputs": [],
   "source": [
    "class QuestionRelator(Agent):\n",
    "    def __init__(self, llm):\n",
    "        self.system_role = f\"\"\"\n",
    "You are prompted with list of forecasting questions, each with an id and a title.\n",
    "Label each question with an underlying event.\n",
    "If the questions are for the same event, use the same name for the underlying event.\n",
    "Please return as separate lines formatted as |event|id|title|, do not add any other formatting.\n",
    "\"\"\"\n",
    "        super().__init__(self.system_role, llm)\n",
    "\n",
    "    def relate(self, ifps):\n",
    "        prompt = '\\n'.join([f\"{ifp.question_id}: {ifp.title}\" for ifp in ifps.values()])\n",
    "        KL = self.chat(prompt)\n",
    "        K1 = [x.split('|') for x in KL.split('\\n')]\n",
    "        K2 = [(int(id),event) for _,event,id,_,_ in K1]\n",
    "        for id,event in K2:\n",
    "            ifps[id].event = event\n",
    "            print(id, event)"
   ]
  },
  {
   "cell_type": "raw",
   "metadata": {},
   "source": [
    "qr = QuestionRelator(ChatGPT)"
   ]
  },
  {
   "cell_type": "raw",
   "metadata": {},
   "source": [
    "qr.relate(ifps)"
   ]
  },
  {
   "cell_type": "markdown",
   "metadata": {},
   "source": [
    "#### Superforecaster"
   ]
  },
  {
   "cell_type": "code",
   "execution_count": 11,
   "metadata": {},
   "outputs": [],
   "source": [
    "class Superforecaster(Agent):\n",
    "    def __init__(self, llm):\n",
    "        self.system_role = f\"\"\"\n",
    "You are a superforecaster.  \n",
    "You assign a probability to questions about events.\n",
    "Questions are given as separate groups of lines formatted as |FORECAST|event|id|question|news|criteria|background|fineprint|.\n",
    "Groups are separated by '^^^'.\n",
    "Questions which are about the same event should be assigned consistent probabilities.\n",
    "Reply to questions with |ASSESSMENT|id|ZZ|rationale| where ZZ is an integer probability from 1 to 99 and rationale is your reasoning for the forecast.\n",
    "Separate each question with '^^^'.\n",
    "Do not add any additional headings or group labels or other formatting.\n",
    "After your initial forecast you may receive feedback of form |CRITIC|id|feedback|.\n",
    "Reply to each feedback with |id|ZZ|rationale| where ZZ is an integer probability from 1 to 99 and \n",
    "and rationale is a revised assessment which may be adjusted from a prior assessment due the feedback unless the feedback is \"I concur\".\n",
    "\"\"\"\n",
    "        super().__init__(self.system_role, llm)\n",
    "\n",
    "    def forecast(self, ifps):\n",
    "        prompt = '^^^'.join([f\"FORECAST|{ifp.event}|{ifp.question_id}|{ifp.news}|{ifp.resolution_criteria}|{ifp.background}|{ifp.fine_print}|\" for ifp in ifps.values()])\n",
    "        self.F0 = self.chat(prompt)\n",
    "        self.F1 = [x.strip().replace('\\n', '') for x in self.F0.split('^^^')]\n",
    "        self.F2 = [x.split('|') for x in self.F1] \n",
    "        self.F3 = [[x for x in y if x] for y in self.F2]\n",
    "        self.F4 = [(int(id),int(forecast),rationale) for _, id, forecast, rationale in self.F3]\n",
    "        for id, forecast, rationale in self.F4:\n",
    "            ifps[id].forecast = forecast\n",
    "            ifps[id].rationale = rationale\n",
    "            print(id, forecast, rationale)\n",
    "\n",
    "    def reassess(self, ifp):\n",
    "        prompt = f\"|CRITIC|{ifp.question_id}|{ifp.feedback}|\"\n",
    "        self.R0 = self.chat(prompt)\n",
    "        id,fcst,rationale = [x for x in self.R0.strip().split('|') if x]\n",
    "        id = int(id)\n",
    "        fcst = int(fcst)\n",
    "        ifps[id].forecast = fcst\n",
    "        ifps[id].rationale = rationale\n",
    "        print(id, fcst, rationale)"
   ]
  },
  {
   "cell_type": "raw",
   "metadata": {},
   "source": [
    "sf = Superforecaster(ChatGPT)"
   ]
  },
  {
   "cell_type": "raw",
   "metadata": {},
   "source": [
    "sf.forecast(ifps)\n",
    "\n",
    "for ifp in ifps.values():\n",
    "    if ifp.feedback != 'I concur':\n",
    "        sf.reassess(ifp)"
   ]
  },
  {
   "cell_type": "markdown",
   "metadata": {},
   "source": [
    "#### Critic"
   ]
  },
  {
   "cell_type": "code",
   "execution_count": 12,
   "metadata": {},
   "outputs": [],
   "source": [
    "class Critic (Agent):\n",
    "    def __init__(self, llm):\n",
    "\n",
    "        self.system_role = f\"\"\"\n",
    "You a very smart and worldly person reviewing a superforecaster's assignment of probabilities to events.\n",
    "You will receive an event with probabilities given as |event|id|question|zz|rationale|news|criteria|background|fineprint|.\n",
    "zz is an integer probability from 1 to 99 and rationale is the student's logic for assigning probability of zz.\n",
    "You will reply with a line |id|feedback| where feedback is \"I concur\" if you see no problem with the rationale and zz otherwise presents possible problems with the rationale and zz.\n",
    "\"\"\"\n",
    "        super().__init__(self.system_role, llm)\n",
    "\n",
    "    def feedback(self, ifp):\n",
    "        prompt = f\"|{ifp.event}|{ifp.question_id}|{ifp.title}|{ifp.forecast}|{ifp.rationale}|{ifp.news}|{ifp.resolution_criteria}|{ifp.background}|{ifp.fine_print}|\"\n",
    "        self.fb = self.chat(prompt)\n",
    "        self.fb1 = self.fb.split('|')\n",
    "        self.fb2 = [x for x in self.fb1 if x]\n",
    "        try:\n",
    "            id,feedback = self.fb2\n",
    "            ifps[int(id)].feedback = feedback\n",
    "            print(id, feedback)\n",
    "        except:\n",
    "            print('problem', self.fb2)\n",
    "            ifps[int(id)].feedback = 'I concur'"
   ]
  },
  {
   "cell_type": "raw",
   "metadata": {},
   "source": [
    "categories = {\"Market Price\": \"The current or future prices or comparative price / value of goods, services, commodities, stocks, treasuries, indices, and other traded financial products. This excludes products which aren't traded and subject to supply and demand.\",\n",
    "                \"Macroeconomics\": \"A quantifiable measure with historical values being above, below, or between values. This includes all-time records, record lows, record highs, or simply exceeding a value at a specified time.\",\n",
    "                \"Epidemic\": \"The rate of spread of a disease\",\n",
    "                \"Disease\": \"A new outbreak of an old or new disease\",\n",
    "                \"Medical Device\": \"Invention or distribution of a new medical device\",\n",
    "                \"Drug Discovery\": \"Invention of a new drug for a specific medical condition\",\n",
    "                \"Civil Unrest\": \"Riots and protests\",\n",
    "                \"Crime\": \"Crime statistics\",\n",
    "                \"Elections\": \"Elections\",\n",
    "                \"Leadership change\": \"Leadership change but not from an election\",\n",
    "                \"Sports\": \"Sporting event outcomes and sport statistics\"}"
   ]
  },
  {
   "cell_type": "raw",
   "metadata": {},
   "source": [
    "dfc = pd.DataFrame(categories.items())\n",
    "text = \"\"\n",
    "for cat in categories:\n",
    "    descr = categories[cat]\n",
    "    text += f\"* {cat}: {descr}\\n\"\n",
    "dfc"
   ]
  },
  {
   "cell_type": "raw",
   "metadata": {},
   "source": [
    "critic = Critic(Perplexity)"
   ]
  },
  {
   "cell_type": "raw",
   "metadata": {},
   "source": [
    "for ifp in ifps.values():\n",
    "    critic.feedback(ifp)"
   ]
  },
  {
   "cell_type": "markdown",
   "metadata": {},
   "source": [
    "## Summarizer"
   ]
  },
  {
   "cell_type": "markdown",
   "metadata": {},
   "source": [
    "Add an agent to summarize the back and forth between critic and forecaster into a single cogent rationale that incorporates all that was discussed."
   ]
  },
  {
   "cell_type": "markdown",
   "metadata": {},
   "source": [
    "### Forecasting process"
   ]
  },
  {
   "cell_type": "raw",
   "metadata": {},
   "source": [
    "ifps = {id: IFP(id) for id in jul25}"
   ]
  },
  {
   "cell_type": "code",
   "execution_count": 13,
   "metadata": {},
   "outputs": [],
   "source": [
    "def forecasting(ifps):\n",
    "    max_tries = 4\n",
    "    \n",
    "    analyst = Researcher(ChatGPT)\n",
    "    analyst.research(ifps)\n",
    "    \n",
    "    qr = QuestionRelator(ChatGPT)\n",
    "    qr.relate(ifps)\n",
    "    \n",
    "    sf = Superforecaster(ChatGPT)\n",
    "    sf.forecast(ifps)\n",
    "    \n",
    "    for ifp in ifps.values():\n",
    "        print(\"Refining\", ifp.question_id)\n",
    "        ifp.feedback = ''\n",
    "        critic = Critic(Perplexity)\n",
    "        for i in range(max_tries):\n",
    "            print(\"Pass\", i, \"of\", max_tries, \"on\", ifp.question_id)\n",
    "            if 'I concur' in ifp.feedback:\n",
    "                break\n",
    "            critic.feedback(ifp)\n",
    "            if 'I concur' in ifp.feedback:\n",
    "                break\n",
    "            sf.reassess(ifp)\n",
    "        print(\"===============================================\")\n",
    "\n",
    "    for ifp in ifps.values():\n",
    "        print(ifp.question_id, ifp.title)\n",
    "        print(\"Forecast\", ifp.forecast)\n",
    "        print(\"Rationale\", ifp.rationale, '\\n')"
   ]
  },
  {
   "cell_type": "code",
   "execution_count": 14,
   "metadata": {},
   "outputs": [],
   "source": [
    "def upload(ifp):\n",
    "    post_question_prediction(ifp.question_id, ifp.forecast)\n",
    "    post_question_comment(ifp.question_id, ifp.rationale)"
   ]
  },
  {
   "cell_type": "code",
   "execution_count": 15,
   "metadata": {},
   "outputs": [],
   "source": [
    "def uploads(ifps):\n",
    "    for ifp in ifps.values():\n",
    "        upload(ifp)"
   ]
  },
  {
   "cell_type": "markdown",
   "metadata": {},
   "source": [
    "## Daily forecast"
   ]
  },
  {
   "cell_type": "markdown",
   "metadata": {},
   "source": [
    "### Get IFP ids"
   ]
  },
  {
   "cell_type": "code",
   "execution_count": 16,
   "metadata": {},
   "outputs": [],
   "source": [
    "ifps = list_questions()['results']\n",
    "today_ids = list(sorted([x['id'] for x in ifps]))\n",
    "# today_ids = [25876, 25877, 25875, 25873, 25871, 25878, 25874, 25872] # 08JUL24\n",
    "# today_ids = [26006, 25936, 25935, 25934, 25933, 26004, 26005] # 09JUL24\n",
    "# today_ids = [25955, 25956, 25957, 25960, 25959, 25954, 25953, 25952, 25958] # 10JUL24\n",
    "# today_ids = [26019, 26018, 26017, 26020, 26022, 26021, 26023, 26024] # 11JUL24\n",
    "# today_ids = [26095, 26096, 26097, 26098, 26099, 26100, 26101, 26102] # 12JUL24\n",
    "# today_ids = [26133, 26134, 26138, 26139, 26140, 26157, 26158, 26159] # 15JUL24\n",
    "# today_ids = [26189, 26190, 26191, 26192, 26193, 26194, 26195, 26196] # 16JUL24\n",
    "# today_ids = [26210, 26211, 26212, 26213, 26214, 26215, 26216] # 17JUL24\n",
    "# today_ids = [26232, 26233, 26234, 26235, 26236] # 18JUL24\n",
    "# today_ids = [26302, 26303, 26304, 26305, 26306, 26307] # 19JUL24\n",
    "# today_ids = [26387, 26388, 26389, 26390, 26391, 26392] # 22JUL24\n",
    "# today_ids = [26404, 26405, 26406, 26407, 26408] # 23JUL24\n",
    "# today_ids = [26550, 26551, 26552, 26553, 26554, 26555] # 24JUL24\n",
    "# today_ids = [26568, 26569, 26570, 26571, 26572, 26573, 26574, 26575, 26576, 26577] # 25JUL24\n",
    "# today_ids = [26638, 26639, 26640, 26641, 26642, 26643, 26644, 26645, 26646] # 26JUL24\n",
    "# today_ids = [26665, 26666, 26667, 26668, 26669, 26670, 26671, 26683] # 29JUL24\n",
    "# today_ids = [26700, 26701, 26702, 26703, 26704, 26705, 26706] # 30JUL24"
   ]
  },
  {
   "cell_type": "code",
   "execution_count": 18,
   "metadata": {
    "scrolled": true
   },
   "outputs": [
    {
     "data": {
      "text/plain": [
       "[26700, 26701, 26702, 26703, 26704, 26705, 26706]"
      ]
     },
     "execution_count": 18,
     "metadata": {},
     "output_type": "execute_result"
    }
   ],
   "source": [
    "today_ids"
   ]
  },
  {
   "cell_type": "markdown",
   "metadata": {},
   "source": [
    "## Forecast"
   ]
  },
  {
   "cell_type": "code",
   "execution_count": 19,
   "metadata": {},
   "outputs": [],
   "source": [
    "ifps = {id: IFP(id) for id in today_ids}"
   ]
  },
  {
   "cell_type": "code",
   "execution_count": 20,
   "metadata": {},
   "outputs": [
    {
     "name": "stderr",
     "output_type": "stream",
     "text": [
      " 14%|██████▍                                      | 1/7 [00:02<00:14,  2.37s/it]"
     ]
    },
    {
     "name": "stdout",
     "output_type": "stream",
     "text": [
      "26700 Will the total market cap of all cryptocurrencies be more than $1.5 trillion on September 29, 2024?\n",
      "As of now, there isn't a way to provide information about the total market capitalization of all cryptocurrencies on September 29, 2024. You can monitor the total market cap of cryptocurrencies via CoinMarketCap's charts [here](https://coinmarketcap.com/charts/) as the date approaches. You might also consider checking news and updates regularly around that time frame for any forecasts or changes in the cryptocurrency market.\n"
     ]
    },
    {
     "name": "stderr",
     "output_type": "stream",
     "text": [
      " 29%|████████████▊                                | 2/7 [00:05<00:13,  2.66s/it]"
     ]
    },
    {
     "name": "stdout",
     "output_type": "stream",
     "text": [
      "26701 Will the total market cap of all cryptocurrencies be more than $2 trillion on September 29, 2024?\n",
      "As of now, it's not possible to provide the total market capitalization of all cryptocurrencies on September 29, 2024. However, you can monitor the total market cap of cryptocurrencies via CoinMarketCap's charts [here](https://coinmarketcap.com/charts/). To get the most accurate and up-to-date information, you should check this resource as that date approaches.\n",
      "\n",
      "Additionally, you may consider keeping an eye on relevant news sources, economic reports, regulatory changes, and technological advancements in the cryptocurrency world, as these factors can significantly influence the market cap.\n"
     ]
    },
    {
     "name": "stderr",
     "output_type": "stream",
     "text": [
      " 43%|███████████████████▎                         | 3/7 [00:07<00:09,  2.35s/it]"
     ]
    },
    {
     "name": "stdout",
     "output_type": "stream",
     "text": [
      "26702 Will the total market cap of all cryptocurrencies be more than $1.5 trillion and less than or equal to $2 trillion on September 29, 2024?\n",
      "As of now, it is not possible to determine the total market capitalization of all cryptocurrencies on September 29, 2024. However, you can monitor the total market cap of cryptocurrencies via CoinMarketCap's charts [here](https://coinmarketcap.com/charts/). To check if the total market cap falls between $1.5 trillion and $2 trillion, you will need to review this resource around the specified date.\n",
      "\n",
      "For ongoing updates, you can also keep an eye on cryptocurrency news, economic trends, regulatory developments, and significant changes in the technology or adoption of cryptocurrencies, as these factors can impact the market cap.\n"
     ]
    },
    {
     "name": "stderr",
     "output_type": "stream",
     "text": [
      " 57%|█████████████████████████▋                   | 4/7 [00:10<00:07,  2.55s/it]"
     ]
    },
    {
     "name": "stdout",
     "output_type": "stream",
     "text": [
      "26703 Will Venezuela invade Guyana before September 30, 2024?\n",
      "As of now, there have been no credible reports indicating that Venezuela has invaded Guyana or that Venezuelan ground troops have entered Guyanese territory. To determine whether this event occurs before September 30, 2024, you should monitor credible news sources and official announcements from the Government of Venezuela, the United Nations Security Council, and other relevant institutions.\n",
      "\n",
      "Key developments to keep an eye on would include:\n",
      "\n",
      "- Announcements or acknowledgments from the Government of Venezuela or any two Permanent Members of the UN Security Council regarding Venezuelan troops entering Guyanese territory.\n",
      "- Reporting from credible sources that specifies the number of troops involved (more than 100) and confirms that they are acting on orders from the Venezuelan government without permission from Guyana or the UN.\n",
      "\n",
      "To stay updated, you can follow major international news outlets and specialized geopolitical analysis sources, as well as official statements from the relevant governments and international organizations.\n"
     ]
    },
    {
     "name": "stderr",
     "output_type": "stream",
     "text": [
      " 71%|████████████████████████████████▏            | 5/7 [00:13<00:05,  2.71s/it]"
     ]
    },
    {
     "name": "stdout",
     "output_type": "stream",
     "text": [
      "26704 Will the median person on Bloomberg's Billionaires Index come from the Energy industry on September 16, 2024?\n",
      "As of the current date, it is not possible to determine if the median person on Bloomberg's Billionaires Index (ranked 250th) will come from the Energy industry on September 16, 2024. This information will only be available when the data is accessed and verified by Metaculus Admins on that specific date after 5:00 PM Eastern Time.\n",
      "\n",
      "To get the most accurate information closer to the deadline, you can monitor Bloomberg's Billionaires Index [here](https://www.bloomberg.com/billionaires/) and keep an eye on the rankings and industry classifications of individuals around the 250th position as the date approaches. This will provide an indication of whether an individual from the Energy industry is likely to be in the median position.\n",
      "\n",
      "In the meantime, staying updated with major financial news, industry trends, and any key economic shifts that might influence the rankings of individuals from different sectors can also offer insights into potential changes in the composition of the list.\n"
     ]
    },
    {
     "name": "stderr",
     "output_type": "stream",
     "text": [
      " 86%|██████████████████████████████████████▌      | 6/7 [00:18<00:03,  3.78s/it]"
     ]
    },
    {
     "name": "stdout",
     "output_type": "stream",
     "text": [
      "26705 Will Apple announce an iPhone with a graphene thermal system before October 1, 2024?\n",
      "\n",
      "As of now, Apple has not officially announced an iPhone with a graphene thermal system. However, according to the provided [MacRumors](https://www.macrumors.com/roundup/iphone-16/) source, there is speculation and expectation that the upcoming iPhone 16 models might include such a system.\n",
      "\n",
      "To determine if this occurs before October 1, 2024, you should monitor Apple's official announcements and press releases closely. Apple's official announcements are typically made during their worldwide developer conferences (WWDC) and special event keynotes, which are streamed and widely covered by major tech news outlets.\n",
      "\n",
      "Here are some actions you can take to stay updated:\n",
      "\n",
      "1. Follow Apple's [official newsroom](https://www.apple.com/newsroom/) for the latest press releases and product announcements.\n",
      "2. Keep an eye on major tech news websites such as MacRumors, The Verge, and TechCrunch, which frequently report on Apple announcements.\n",
      "3. Watch Apple's keynote events, which are usually streamed live on their website and YouTube channel.\n",
      "\n",
      "If Apple officially announces an iPhone model with a graphene thermal system before October 1, 2024, this question will resolve as Yes. If no such announcement is made by that date, it will resolve as No.\n"
     ]
    },
    {
     "name": "stderr",
     "output_type": "stream",
     "text": [
      "100%|█████████████████████████████████████████████| 7/7 [00:21<00:00,  3.10s/it]"
     ]
    },
    {
     "name": "stdout",
     "output_type": "stream",
     "text": [
      "26706 Before October 1, 2024, will Stripe announce on the news section of its website that it is planning an IPO?\n",
      "As of now, there have been no announcements on the [news section of Stripe’s website](https://stripe.com/newsroom/news) regarding plans for an IPO. To determine if this occurs before October 1, 2024, you should regularly check the specified news section of Stripe's website for any updates.\n",
      "\n",
      "To stay updated and potentially catch the announcement if it happens, you can:\n",
      "\n",
      "- Regularly visit the [news section of Stripe’s website](https://stripe.com/newsroom/news).\n",
      "- Set up Google Alerts for news on Stripe’s IPO plans.\n",
      "- Follow financial news and major business news websites for any hints or unofficial information that might indicate an upcoming announcement.\n",
      "\n",
      "If Stripe announces an IPO in the [news section](https://stripe.com/newsroom/news) of its website before October 1, 2024, this question will resolve as Yes. If there is no such announcement by that date, it will resolve as No.\n"
     ]
    },
    {
     "name": "stderr",
     "output_type": "stream",
     "text": [
      "\n"
     ]
    },
    {
     "name": "stdout",
     "output_type": "stream",
     "text": [
      "26700 Cryptocurrency Market Cap\n",
      "26701 Cryptocurrency Market Cap\n",
      "26702 Cryptocurrency Market Cap\n",
      "26703 Venezuela-Guyana Conflict\n",
      "26704 Bloomberg's Billionaires Index\n",
      "26705 Apple iPhone Development\n",
      "26706 Stripe IPO\n",
      "26700 65 The current market capitalization of cryptocurrencies is at $2.35 trillion. Given the volatility of the cryptocurrency market, there is a reasonable chance it could dip below $1.5 trillion, but the threshold is relatively low. Various macroeconomic factors, regulatory changes, and technological developments will likely influence the market. Therefore, a moderate probability of 65% is assigned, allowing for both growth and potential declines in market cap by September 29, 2024.\n",
      "26701 40 With the current market capitalization already at $2.35 trillion, a reduction to below $2 trillion is plausible but not the most likely scenario given historical volatility patterns and market dynamics. Considering this, a probability of 40% is reasonable as it acknowledges both potential declines due to adverse factors and continued growth or stability in the market.\n",
      "26702 35 Given the current market cap of $2.35 trillion, it is somewhat unlikely that the market cap will fluctuate within the narrow $1.5 trillion to $2 trillion range. The historical trend in the crypto market often shows significant upward or downward movements. As such, a probability of 35% reflects the lower likelihood of this specific scenario transpiring.\n",
      "26703 25 While tensions between Venezuela and Guyana exist, there have been no credible reports of an imminent invasion or large-scale military action. Considering the international diplomatic sensitivities and potential geopolitical ramifications, a moderate probability is warranted. Current dynamics suggest a lower likelihood, so a 25% probability is appropriate.\n",
      "26704 55 The energy sector's representation at the 250th rank is currently high, with many nearby positions occupied by individuals from the Energy industry. Given the cyclical nature of industries and wealth, it seems fairly likely that an Energy sector individual will remain within the 250th position by September 16, 2024. A probability of 55% reflects this moderate likelihood.\n",
      "26705 30 While there are speculations and some expectations about Apple introducing a graphene thermal system in iPhone 16 models, it is not yet an official announcement. Apple historically keeps such features tightly under wraps until major product launches. Given the uncertainty and past patterns of incremental rather than radical changes, a probability of 30% is assigned.\n",
      "26706 20 Stripe has not shown strong indications of moving towards an IPO imminently, despite market speculation and previous cash-out opportunities for employees. IPOs require significant preparatory work and official announcements. Given the lack of current signals, a lower probability of 20% seems fitting, reflecting the cautious optimism balanced by prevailing uncertainty.\n",
      "Refining 26700\n",
      "Pass 0 of 4 on 26700\n",
      "26700 I concur\n",
      "===============================================\n",
      "Refining 26701\n",
      "Pass 0 of 4 on 26701\n",
      "26701 I concur\n",
      "===============================================\n",
      "Refining 26702\n",
      "Pass 0 of 4 on 26702\n",
      "26702 I concur\n",
      "===============================================\n",
      "Refining 26703\n",
      "Pass 0 of 4 on 26703\n",
      "26703 I concur\n",
      "===============================================\n",
      "Refining 26704\n",
      "Pass 0 of 4 on 26704\n",
      "26704 The rationale seems to rely on the current high representation of the Energy sector around the 250th rank, but it does not provide any concrete evidence or trends that would suggest this will persist until September 16, 2024. The probability of 55% appears somewhat arbitrary and may not fully account for potential changes in the rankings due to market fluctuations or other factors.\n",
      "26704 45 Revisiting the probability given the feedback, the forecast should account for potential fluctuations that might affect the Bloomberg Billionaires Index rankings. While the current data shows a high representation of individuals from the Energy sector around the 250th position, the market's volatility and sector-specific dynamics can shift these rankings. A revised probability of 45% better reflects the uncertainty and potential changes in the billionaire rankings within the year.\n",
      "Pass 1 of 4 on 26704\n",
      "26704 I concur.\n",
      "===============================================\n",
      "Refining 26705\n",
      "Pass 0 of 4 on 26705\n",
      "26705 The probability of 30% seems low given the consistent rumors and expectations from credible sources such as MacRumors and PhoneArena. The sources suggest that Apple is actively working on a graphene thermal system for the iPhone 16 models, which are expected to be released in September. Considering the historical pattern of Apple's product launches and the consistency of these rumors, a higher probability, such as 60% or 70%, might be more appropriate.\n",
      "26705 50 Considering the detailed feedback and the credibility of sources like MacRumors and PhoneArena, which consistently indicate that Apple is working on a graphene thermal system, there is indeed a stronger case to be made for the likelihood of such an announcement. While it is still speculative, the historical pattern of Apple's innovation and product releases suggests a moderate probability increase. A revised probability of 50% reflects a balanced perspective between the speculative nature and the credible rumors.\n",
      "Pass 1 of 4 on 26705\n",
      "26705 I concur.\n",
      "===============================================\n",
      "Refining 26706\n",
      "Pass 0 of 4 on 26706\n",
      "26706 I concur\n",
      "===============================================\n",
      "26700 Will the total market cap of all cryptocurrencies be more than $1.5 trillion on September 29, 2024?\n",
      "Forecast 65\n",
      "Rationale The current market capitalization of cryptocurrencies is at $2.35 trillion. Given the volatility of the cryptocurrency market, there is a reasonable chance it could dip below $1.5 trillion, but the threshold is relatively low. Various macroeconomic factors, regulatory changes, and technological developments will likely influence the market. Therefore, a moderate probability of 65% is assigned, allowing for both growth and potential declines in market cap by September 29, 2024. \n",
      "\n",
      "26701 Will the total market cap of all cryptocurrencies be more than $2 trillion on September 29, 2024?\n",
      "Forecast 40\n",
      "Rationale With the current market capitalization already at $2.35 trillion, a reduction to below $2 trillion is plausible but not the most likely scenario given historical volatility patterns and market dynamics. Considering this, a probability of 40% is reasonable as it acknowledges both potential declines due to adverse factors and continued growth or stability in the market. \n",
      "\n",
      "26702 Will the total market cap of all cryptocurrencies be more than $1.5 trillion and less than or equal to $2 trillion on September 29, 2024?\n",
      "Forecast 35\n",
      "Rationale Given the current market cap of $2.35 trillion, it is somewhat unlikely that the market cap will fluctuate within the narrow $1.5 trillion to $2 trillion range. The historical trend in the crypto market often shows significant upward or downward movements. As such, a probability of 35% reflects the lower likelihood of this specific scenario transpiring. \n",
      "\n",
      "26703 Will Venezuela invade Guyana before September 30, 2024?\n",
      "Forecast 25\n",
      "Rationale While tensions between Venezuela and Guyana exist, there have been no credible reports of an imminent invasion or large-scale military action. Considering the international diplomatic sensitivities and potential geopolitical ramifications, a moderate probability is warranted. Current dynamics suggest a lower likelihood, so a 25% probability is appropriate. \n",
      "\n",
      "26704 Will the median person on Bloomberg's Billionaires Index come from the Energy industry on September 16, 2024?\n",
      "Forecast 45\n",
      "Rationale Revisiting the probability given the feedback, the forecast should account for potential fluctuations that might affect the Bloomberg Billionaires Index rankings. While the current data shows a high representation of individuals from the Energy sector around the 250th position, the market's volatility and sector-specific dynamics can shift these rankings. A revised probability of 45% better reflects the uncertainty and potential changes in the billionaire rankings within the year. \n",
      "\n",
      "26705 Will Apple announce an iPhone with a graphene thermal system before October 1, 2024?\n",
      "\n",
      "Forecast 50\n",
      "Rationale Considering the detailed feedback and the credibility of sources like MacRumors and PhoneArena, which consistently indicate that Apple is working on a graphene thermal system, there is indeed a stronger case to be made for the likelihood of such an announcement. While it is still speculative, the historical pattern of Apple's innovation and product releases suggests a moderate probability increase. A revised probability of 50% reflects a balanced perspective between the speculative nature and the credible rumors. \n",
      "\n",
      "26706 Before October 1, 2024, will Stripe announce on the news section of its website that it is planning an IPO?\n",
      "Forecast 20\n",
      "Rationale Stripe has not shown strong indications of moving towards an IPO imminently, despite market speculation and previous cash-out opportunities for employees. IPOs require significant preparatory work and official announcements. Given the lack of current signals, a lower probability of 20% seems fitting, reflecting the cautious optimism balanced by prevailing uncertainty. \n",
      "\n"
     ]
    }
   ],
   "source": [
    "forecasting(ifps)"
   ]
  },
  {
   "cell_type": "markdown",
   "metadata": {},
   "source": [
    "## Upload"
   ]
  },
  {
   "cell_type": "code",
   "execution_count": 21,
   "metadata": {},
   "outputs": [
    {
     "name": "stdout",
     "output_type": "stream",
     "text": [
      "Prediction posted for  26700\n",
      "Comment posted for  26700\n",
      "Prediction posted for  26701\n",
      "Comment posted for  26701\n",
      "Prediction posted for  26702\n",
      "Comment posted for  26702\n",
      "Prediction posted for  26703\n",
      "Comment posted for  26703\n",
      "Prediction posted for  26704\n",
      "Comment posted for  26704\n",
      "Prediction posted for  26705\n",
      "Comment posted for  26705\n",
      "Prediction posted for  26706\n",
      "Comment posted for  26706\n"
     ]
    }
   ],
   "source": [
    "uploads(ifps)"
   ]
  },
  {
   "cell_type": "code",
   "execution_count": 22,
   "metadata": {},
   "outputs": [
    {
     "data": {
      "text/plain": [
       "7"
      ]
     },
     "execution_count": 22,
     "metadata": {},
     "output_type": "execute_result"
    }
   ],
   "source": [
    "len(today_ids)"
   ]
  },
  {
   "cell_type": "code",
   "execution_count": null,
   "metadata": {},
   "outputs": [],
   "source": []
  }
 ],
 "metadata": {
  "colab": {
   "provenance": []
  },
  "kernelspec": {
   "display_name": "Python 3 (ipykernel)",
   "language": "python",
   "name": "python3"
  },
  "language_info": {
   "codemirror_mode": {
    "name": "ipython",
    "version": 3
   },
   "file_extension": ".py",
   "mimetype": "text/x-python",
   "name": "python",
   "nbconvert_exporter": "python",
   "pygments_lexer": "ipython3",
   "version": "3.10.6"
  }
 },
 "nbformat": 4,
 "nbformat_minor": 4
}
