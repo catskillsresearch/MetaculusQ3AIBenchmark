{
 "cells": [
  {
   "cell_type": "markdown",
   "metadata": {},
   "source": [
    "# 000 Forecasting Bot"
   ]
  },
  {
   "cell_type": "markdown",
   "metadata": {},
   "source": [
    "Starting from https://colab.research.google.com/drive/1_Il5h2Ed4zFa6Z3bROVCE68LZcSi4wHX?usp=sharing"
   ]
  },
  {
   "cell_type": "markdown",
   "metadata": {},
   "source": [
    "## Imports"
   ]
  },
  {
   "cell_type": "code",
   "execution_count": 1,
   "metadata": {},
   "outputs": [],
   "source": [
    "from IPython.display import Markdown"
   ]
  },
  {
   "cell_type": "markdown",
   "metadata": {},
   "source": [
    "## 000_bot"
   ]
  },
  {
   "cell_type": "markdown",
   "metadata": {},
   "source": [
    "### API Keys"
   ]
  },
  {
   "cell_type": "markdown",
   "metadata": {},
   "source": [
    "In order to run this notebook as is, you'll need to enter a few API keys (use the key icon on the left to input them):\n",
    "\n",
    "- `METACULUS_TOKEN`: you can find your Metaculus token under your bot's user settings page: https://www.metaculus.com/accounts/settings/, or on the bot registration page where you created the account: https://www.metaculus.com/aib/\n",
    "- `OPENAPI_API_KEY`: get one from OpenAIs page: https://platform.openai.com/settings/profile?tab=api-keys\n",
    "- `PERPLEXITY_API_KEY` - used to search up-to-date information about the question. Get one from https://www.perplexity.ai/settings/api"
   ]
  },
  {
   "cell_type": "code",
   "execution_count": 2,
   "metadata": {},
   "outputs": [],
   "source": [
    "from omegaconf import OmegaConf\n",
    "\n",
    "tokens = OmegaConf.create(\"\"\"\n",
    "METACULUS_TOKEN: xx\n",
    "OPENAI_API_KEY: yy\n",
    "OPENAI_MODEL: gpt-4o\n",
    "PERPLEXITY_API_KEY: zz\n",
    "PERPLEXITY_MODEL: llama-3-sonar-large-32k-online\"\"\")\n",
    "\n",
    "token_fn = \"tokens.yaml\"\n",
    "# OmegaConf.save(config=tokens, f=token_fn)\n",
    "config = OmegaConf.load(token_fn)\n",
    "\n",
    "def pr(tokens):\n",
    "    print(OmegaConf.to_yaml(config))"
   ]
  },
  {
   "cell_type": "raw",
   "metadata": {},
   "source": [
    "pr(config)"
   ]
  },
  {
   "cell_type": "markdown",
   "metadata": {
    "id": "iDukuXArbgdm"
   },
   "source": [
    "### LLM and Metaculus Interaction"
   ]
  },
  {
   "cell_type": "markdown",
   "metadata": {
    "id": "iDukuXArbgdm"
   },
   "source": [
    "This section sets up some simple helper code you can use to get data about forecasting questions and to submit a prediction"
   ]
  },
  {
   "cell_type": "code",
   "execution_count": 3,
   "metadata": {
    "id": "HifodCwcGU0j"
   },
   "outputs": [],
   "source": [
    "import datetime\n",
    "import json\n",
    "import os\n",
    "import requests\n",
    "import re\n",
    "from openai import OpenAI\n",
    "from tqdm import tqdm"
   ]
  },
  {
   "cell_type": "code",
   "execution_count": 4,
   "metadata": {
    "id": "HifodCwcGU0j"
   },
   "outputs": [],
   "source": [
    "AUTH_HEADERS = {\"headers\": {\"Authorization\": f\"Token {config.METACULUS_TOKEN}\"}}\n",
    "API_BASE_URL = \"https://www.metaculus.com/api2\"\n",
    "WARMUP_TOURNAMENT_ID = 3349\n",
    "SUBMIT_PREDICTION = True\n",
    "\n",
    "def find_number_before_percent(s):\n",
    "    # Use a regular expression to find all numbers followed by a '%'\n",
    "    matches = re.findall(r'(\\d+)%', s)\n",
    "    if matches:\n",
    "        # Return the last number found before a '%'\n",
    "        return int(matches[-1])\n",
    "    else:\n",
    "        # Return None if no number found\n",
    "        return None\n",
    "\n",
    "def post_question_comment(question_id, comment_text):\n",
    "    \"\"\"\n",
    "    Post a comment on the question page as the bot user.\n",
    "    \"\"\"\n",
    "\n",
    "    response = requests.post(\n",
    "        f\"{API_BASE_URL}/comments/\",\n",
    "        json={\n",
    "            \"comment_text\": comment_text,\n",
    "            \"submit_type\": \"N\",\n",
    "            \"include_latest_prediction\": True,\n",
    "            \"question\": question_id,\n",
    "        },\n",
    "        **AUTH_HEADERS,\n",
    "    )\n",
    "    response.raise_for_status()\n",
    "    print(\"Comment posted for \", question_id)\n",
    "\n",
    "def post_question_prediction(question_id, prediction_percentage):\n",
    "    \"\"\"\n",
    "    Post a prediction value (between 1 and 100) on the question.\n",
    "    \"\"\"\n",
    "    url = f\"{API_BASE_URL}/questions/{question_id}/predict/\"\n",
    "    response = requests.post(\n",
    "        url,\n",
    "        json={\"prediction\": float(prediction_percentage) / 100},\n",
    "        **AUTH_HEADERS,\n",
    "    )\n",
    "    response.raise_for_status()\n",
    "    print(\"Prediction posted for \", question_id)\n",
    "\n",
    "\n",
    "def get_question_details(question_id):\n",
    "    \"\"\"\n",
    "    Get all details about a specific question.\n",
    "    \"\"\"\n",
    "    url = f\"{API_BASE_URL}/questions/{question_id}/\"\n",
    "    response = requests.get(\n",
    "        url,\n",
    "        **AUTH_HEADERS,\n",
    "    )\n",
    "    response.raise_for_status()\n",
    "    return json.loads(response.content)\n",
    "\n",
    "def list_questions(tournament_id=WARMUP_TOURNAMENT_ID, offset=0, count=1000):\n",
    "    \"\"\"\n",
    "    List (all details) {count} questions from the {tournament_id}\n",
    "    \"\"\"\n",
    "    url_qparams = {\n",
    "        \"limit\": count,\n",
    "        \"offset\": offset,\n",
    "        \"has_group\": \"false\",\n",
    "        \"order_by\": \"-activity\",\n",
    "        \"forecast_type\": \"binary\",\n",
    "        \"project\": tournament_id,\n",
    "        \"status\": \"open\",\n",
    "        \"type\": \"forecast\",\n",
    "        \"include_description\": \"true\",\n",
    "    }\n",
    "    url = f\"{API_BASE_URL}/questions/\"\n",
    "    response = requests.get(url, **AUTH_HEADERS, params=url_qparams)\n",
    "    response.raise_for_status()\n",
    "    data = json.loads(response.content)\n",
    "    return data"
   ]
  },
  {
   "cell_type": "markdown",
   "metadata": {},
   "source": [
    "### IFP"
   ]
  },
  {
   "cell_type": "code",
   "execution_count": 5,
   "metadata": {},
   "outputs": [],
   "source": [
    "class IFP:\n",
    "\n",
    "    def __init__(self, question_id):\n",
    "        self.question_id = question_id\n",
    "        self.question_details = get_question_details(self.question_id)\n",
    "        self.today = datetime.datetime.now().strftime(\"%Y-%m-%d\")   \n",
    "        self.title = self.question_details[\"title\"]\n",
    "        self.resolution_criteria = self.question_details[\"resolution_criteria\"]\n",
    "        self.background = self.question_details[\"description\"]\n",
    "        self.fine_print = self.question_details[\"fine_print\"]\n",
    "\n",
    "    def report(self):\n",
    "        rpt = f\"\"\"\n",
    "The future event is described by this question: [ {self.title} ]\n",
    "The resolution criteria are: [ {self.resolution_criteria} ]\n",
    "The background is: [ {self.background} ]\"\"\"\n",
    "        if self.fine_print:\n",
    "            rpt += f\"\"\"\n",
    "The fine print is: [ {self.fine_print} ]\"\"\"\n",
    "        return rpt"
   ]
  },
  {
   "cell_type": "markdown",
   "metadata": {},
   "source": [
    "### LLMs"
   ]
  },
  {
   "cell_type": "code",
   "execution_count": 6,
   "metadata": {},
   "outputs": [],
   "source": [
    "class LLM:\n",
    "    def __init__(self, system_role):\n",
    "        self.messages = [{\"role\": \"system\", \"content\": system_role}]\n",
    "\n",
    "    def chat(self, query):\n",
    "        self.messages.append({\"role\": \"user\", \"content\": query})\n",
    "        text = self.message()\n",
    "        self.messages.append({\"role\": \"assistant\", \"content\": text})\n",
    "        return text\n",
    "\n",
    "class Perplexity(LLM):\n",
    "    def message(self):\n",
    "        url = \"https://api.perplexity.ai/chat/completions\"\n",
    "        headers = {\n",
    "            \"accept\": \"application/json\",\n",
    "            \"authorization\": f\"Bearer {config.PERPLEXITY_API_KEY}\",\n",
    "            \"content-type\": \"application/json\"  }\n",
    "        payload = {\"model\": config.PERPLEXITY_MODEL, \"messages\": self.messages }\n",
    "        response = requests.post(url=url, json=payload, headers=headers)\n",
    "        response.raise_for_status()\n",
    "        return response.json()[\"choices\"][0][\"message\"][\"content\"]\n",
    "\n",
    "class ChatGPT(LLM):\n",
    "    def __init__(self, system_role):\n",
    "        super().__init__(system_role)\n",
    "        self.client = OpenAI(api_key=config.OPENAI_API_KEY)\n",
    "\n",
    "    def message(self):\n",
    "        chat_completion = self.client.chat.completions.create(\n",
    "            model=config.OPENAI_MODEL,\n",
    "            messages= self.messages)\n",
    "        return chat_completion.choices[0].message.content"
   ]
  },
  {
   "cell_type": "markdown",
   "metadata": {},
   "source": [
    "### Test questions"
   ]
  },
  {
   "cell_type": "code",
   "execution_count": 101,
   "metadata": {},
   "outputs": [],
   "source": [
    "jul25 = [26568, 26569, 26570, 26571, 26572, 26573, 26574, 26575, 26576, 26577]\n",
    "\n",
    "ifps = {id: IFP(id) for id in jul25}"
   ]
  },
  {
   "cell_type": "markdown",
   "metadata": {
    "id": "9WUvm1tVmMkO"
   },
   "source": [
    "### Agents"
   ]
  },
  {
   "cell_type": "code",
   "execution_count": 102,
   "metadata": {},
   "outputs": [],
   "source": [
    "class Agent:\n",
    "    def __init__(self, system_role, llm):\n",
    "        self.llm = llm(system_role)\n",
    "\n",
    "    def chat(self, prompt):\n",
    "        return self.llm.chat(prompt)"
   ]
  },
  {
   "cell_type": "markdown",
   "metadata": {},
   "source": [
    "#### Analyst"
   ]
  },
  {
   "cell_type": "code",
   "execution_count": 133,
   "metadata": {},
   "outputs": [],
   "source": [
    "class Analyst(Agent):\n",
    "    def __init__(self, llm):\n",
    "        self.system_role = f\"\"\"\n",
    "You are an open source intelligence analyst.\n",
    "You summarize news related to questions about events.\n",
    "Questions are given as separate lines formatted as |event|id|question|.\n",
    "You will find and report any reliable information you can gather about these questions.\n",
    "Replace with a line for each question formatted as |NEWS|id|news|.\n",
    "Do not add a header line.  The news should be a detailed research report in a single paragraph of about 200 words more or less.\n",
    "\"\"\"\n",
    "        super().__init__(self.system_role, llm)\n",
    "\n",
    "    def research(self, ifps):\n",
    "        prompt = '\\n'.join([f\"{ifp.question_id}: {ifp.title}\" for ifp in ifps.values()])\n",
    "        R = self.chat(prompt)\n",
    "        R1 = R.split('\\n\\n')\n",
    "        R2 = [x.replace('\\n','') for x in R1]       \n",
    "        R3 = [x.split('|') for x in R2]\n",
    "        R4 = [(int(x),y) for _,_,x,_,y in R3]\n",
    "        for id,news in R4:\n",
    "            ifps[id].news = news\n",
    "            print(id, news)"
   ]
  },
  {
   "cell_type": "code",
   "execution_count": 134,
   "metadata": {},
   "outputs": [],
   "source": [
    "analyst = Analyst(ChatGPT)"
   ]
  },
  {
   "cell_type": "code",
   "execution_count": 135,
   "metadata": {},
   "outputs": [
    {
     "name": "stdout",
     "output_type": "stream",
     "text": [
      "26568 As of October 2023, Chasiv Yar, located in the Donetsk region of Ukraine, remains contested between Ukrainian forces and Russian-backed separatists. The overall military situation in Eastern Ukraine is fluid with ongoing skirmishes and no clear indication of a decisive victory for either side. Based on current patterns, it is uncertain whether Russia will have control of Chasiv Yar on October 1, 2024. Predictive analysis would have to consider numerous variables, including international diplomatic developments, military strategies, and the continued support of Western nations to Ukraine.\n",
      "26569 The Atlantic Ocean's sea surface temperature reached an unprecedented peak in 2023, breaking historical records due to ongoing climate change factors. Predictions for 2024 suggest that unless significant mitigation efforts are taken globally, temperatures may continue to rise. Climate models indicate a growing likelihood that the Atlantic could set new records in daily mean sea surface temperatures before October 1, 2024, influenced by greenhouse gas emissions, El Niño events, and other climatic variables.\n",
      "26570 As of now, there is no definitive information on whether Poland will win the 2024 Warhammer 40,000 World Team Championship. The championship is highly competitive with many strong teams from various countries. Poland has performed well in past tournaments, but the outcome will depend on team preparations, strategies, and their performance during the event itself.\n",
      "26571 Germany has a strong presence in the Warhammer 40,000 competitive scene, but it is too early to predict if they will win the 2024 World Team Championship. The tournament's results will depend on numerous factors, including team performance during the event, the skills of individual players, and the strategies employed. Historical data shows that while Germany is a strong contender, the outcome remains uncertain.\n",
      "26572 The likelihood of the USA, Sweden, England, or France winning the 2024 Warhammer 40,000 World Team Championship is currently uncertain. Each of these countries has competitive teams with histories of strong performances. The championship's outcome will be influenced by factors such as team composition, preparation, and on-the-day performance. History has shown that any of these nations could potentially secure the title given the right circumstances.\n",
      "26573 Predicting a win for a country other than Poland, Germany, USA, Sweden, England, or France in the 2024 Warhammer 40,000 World Team Championship is challenging given the historical dominance of these nations in the competitive scene. However, it is always possible for an underdog or emerging team to surpass expectations and secure a victory, depending on their preparation and performance at the event.\n",
      "26574 As of October 2023, the CDC has not reported a significant surge in H5 (avian influenza) human cases in the United States. For the CDC to report exactly 11 total human cases of H5 by October 1, 2024, would require a specific and limited outbreak scenario. Current trends and biosecurity measures make such a precise prediction difficult, but public health surveillance remains vigilant.\n",
      "26575 CDC data as of October 2023 does not indicate a high number of human H5 cases in the United States. However, predicting that the CDC will report 12 to 20 total human cases by October 1, 2024, includes a broader range, which might occur if there is a localized outbreak or increased transmission. Public health measures are continually adapted to prevent such scenarios, but the exact numbers remain unpredictable.\n",
      "26576 It is currently unlikely that the CDC will report 21 to 100 total human cases of H5 in the United States by October 1, 2024, based on existing surveillance data and biosecurity measures. A significant outbreak would have to occur for cases to rise to this level, and ongoing efforts focus on preventing such widespread transmission. Public health initiatives aim to detect and contain outbreaks early.\n",
      "26577 The CDC reporting more than 100 total human cases of avian influenza (H5) in the United States by October 1, 2024, would suggest a severe and widespread outbreak, which is currently deemed unlikely given existing biosecurity controls and pandemic preparedness strategies. Ongoing monitoring and rapid response measures are designed to prevent such extensive transmission, making this scenario improbable under current conditions.\n"
     ]
    }
   ],
   "source": [
    "analyst.research(ifps)"
   ]
  },
  {
   "cell_type": "markdown",
   "metadata": {},
   "source": [
    "### Question relator"
   ]
  },
  {
   "cell_type": "code",
   "execution_count": 144,
   "metadata": {},
   "outputs": [
    {
     "name": "stdout",
     "output_type": "stream",
     "text": [
      "26568 Russia's control of Chasiv Yar\n",
      "26569 Atlantic Ocean sea surface temperature\n",
      "26570 2024 Warhammer 40,000 World Team Championship winner\n",
      "26571 2024 Warhammer 40,000 World Team Championship winner\n",
      "26572 2024 Warhammer 40,000 World Team Championship winner\n",
      "26573 2024 Warhammer 40,000 World Team Championship winner\n",
      "26574 H5 human cases in the United States\n",
      "26575 H5 human cases in the United States\n",
      "26576 H5 human cases in the United States\n",
      "26577 H5 human cases in the United States\n"
     ]
    }
   ],
   "source": [
    "class QuestionRelator(Agent):\n",
    "    def __init__(self, llm):\n",
    "        self.system_role = f\"\"\"\n",
    "You are prompted with list of forecasting questions, each with an id and a title.\n",
    "Label each question with an underlying event.\n",
    "If the questions are for the same event, use the same name for the underlying event.\n",
    "Please return as separate lines formatted as |event|id|title|, do not add any other formatting.\n",
    "\"\"\"\n",
    "        super().__init__(self.system_role, llm)\n",
    "\n",
    "    def relate(self, ifps):\n",
    "        prompt = '\\n'.join([f\"{ifp.question_id}: {ifp.title}\" for ifp in ifps.values()])\n",
    "        KL = self.chat(prompt)\n",
    "        K1 = [x.split('|') for x in KL.split('\\n')]\n",
    "        K2 = [(int(id),event) for _,event,id,_,_ in K1]\n",
    "        for id,event in K2:\n",
    "            ifps[id].event = event\n",
    "            print(id, event)\n",
    "\n",
    "qr = QuestionRelator(ChatGPT)\n",
    "\n",
    "qr.relate(ifps)"
   ]
  },
  {
   "cell_type": "markdown",
   "metadata": {},
   "source": [
    "#### Superforecaster"
   ]
  },
  {
   "cell_type": "code",
   "execution_count": 353,
   "metadata": {},
   "outputs": [],
   "source": [
    "class Superforecaster(Agent):\n",
    "    def __init__(self, llm):\n",
    "        self.system_role = f\"\"\"\n",
    "You are a superforecaster.  \n",
    "You assign a probability to questions about events.\n",
    "Questions are given as separate groups of lines formatted as |FORECAST|event|id|question|news|criteria|background|fineprint|.\n",
    "Groups are separated by '^^^'.\n",
    "Questions which are about the same event should be assigned consistent probabilities.\n",
    "Reply to questions with |ASSESSMENT|id|ZZ|rationale| where ZZ is an integer probability from 1 to 99 and rationale is your reasoning for the forecast.\n",
    "Separate each question with '^^^'.\n",
    "Do not add any additional headings or group labels or other formatting.\n",
    "After your initial forecast you may receive feedback of form |CRITIC|id|feedback|.\n",
    "Reply to each feedback with |id|ZZ|rationale| where ZZ is an integer probability from 1 to 99 and \n",
    "and rationale is a revised assessment which may be adjusted from a prior assessment due the feedback unless the feedback is \"I concur\".\n",
    "\"\"\"\n",
    "        super().__init__(self.system_role, llm)\n",
    "\n",
    "    def forecast(self, ifps):\n",
    "        prompt = '^^^'.join([f\"FORECAST|{ifp.event}|{ifp.question_id}|{ifp.news}|{ifp.resolution_criteria}|{ifp.background}|{ifp.fine_print}|\" for ifp in ifps.values()])\n",
    "        self.F0 = self.chat(prompt)\n",
    "        self.F1 = [x.strip().replace('\\n', '') for x in self.F0.split('^^^')]\n",
    "        self.F2 = [x.split('|') for x in self.F1] \n",
    "        self.F3 = [[x for x in y if x] for y in self.F2]\n",
    "        self.F4 = [(int(id),int(forecast),rationale) for _, id, forecast, rationale in self.F3]\n",
    "        for id, forecast, rationale in self.F4:\n",
    "            ifps[id].forecast = forecast\n",
    "            ifps[id].rationale = rationale\n",
    "            print(id, forecast, rationale)\n",
    "\n",
    "    def reassess(self, ifp):\n",
    "        prompt = f\"|CRITIC|{ifp.question_id}|{ifp.feedback}|\"\n",
    "        self.R0 = self.chat(prompt)\n",
    "        id,fcst,rationale = [x for x in self.R0.strip().split('|') if x]\n",
    "        id = int(id)\n",
    "        fcst = int(fcst)\n",
    "        ifps[id].forecast = fcst\n",
    "        ifps[id].rationale = rationale\n",
    "        print(id, fcst, rationale)"
   ]
  },
  {
   "cell_type": "code",
   "execution_count": 354,
   "metadata": {},
   "outputs": [],
   "source": [
    "sf = Superforecaster(ChatGPT)"
   ]
  },
  {
   "cell_type": "code",
   "execution_count": 355,
   "metadata": {},
   "outputs": [
    {
     "name": "stdout",
     "output_type": "stream",
     "text": [
      "26568 35 The fighting in Chasiv Yar remains intense and fluid, with Russia making incremental advances but not maintaining decisive control. The uncertainty around future support to Ukraine and the unpredictable nature of the conflict make it less than likely, but not highly unlikely, that Russia will have firm control by October 1, 2024.\n",
      "26569 85 The consistent trend of rising sea surface temperatures, ongoing climate change, and recent record-breaking patterns strongly suggest that the Atlantic Ocean is likely to surpass its 2023 peak temperature before October 1, 2024.\n",
      "26570 15 Although Poland has historically performed well in Warhammer 40,000 tournaments, the highly competitive nature of the WTC and the many strong contenders make it less likely Poland will win the 2024 championship.\n",
      "26571 20 Germany is a strong competitor but has not consistently dominated the WTC tournaments. Combined with the competitive nature of the event, there is a moderate but limited probability they will win in 2024.\n",
      "26572 50 USA, Sweden, England, and France all have strong teams with histories of good performances, making them collectively the most likely group to produce the winner of the 2024 WTC, but the competition remains unpredictable.\n",
      "26573 15 While it is possible for an underdog nation to win the 2024 WTC, historical trends and the strength of traditionally dominant teams make it unlikely but not impossible.\n",
      "26574 10 Given the recent rise in human cases of H5, a small, specific value like 11 cases is plausible but improbable unless the outbreak follows a precise and limited trajectory. Current surveillance and biosecurity measures further constrain this likelihood.\n",
      "26575 60 The broader range of 12 to 20 cases covers a more realistic scenario of a potential localized outbreak or increasing human transmission, considering the recent spike in cases and ongoing monitoring efforts. This range is moderately likely.\n",
      "26576 25 A significantly higher number of cases (21 to 100) would indicate a more serious outbreak, which, while possible given recent trends, remains relatively unlikely due to enhanced biosecurity and containment efforts.\n",
      "26577 5 Given the high level of public health preparedness and current biosecurity measures, a severe outbreak resulting in more than 100 human cases in the U.S. by October 2024 is highly improbable.\n"
     ]
    }
   ],
   "source": [
    "sf.forecast(ifps)"
   ]
  },
  {
   "cell_type": "code",
   "execution_count": 337,
   "metadata": {},
   "outputs": [
    {
     "name": "stdout",
     "output_type": "stream",
     "text": [
      "26570 30 Acknowledging Poland's history of strong performances and the rigorous nature of the competition, their chances are higher than initially assessed. Although they face significant competition, historical success warrants a revised, higher probability.\n",
      "26571 25 Considering Germany's strong presence in the Warhammer 40,000 competitive scene and their historical performances, their chances of winning are higher than initially assessed. While they face tough competition, their proven track record warrants a more optimistic probability.\n",
      "26576 15 Given the current biosecurity measures and monitoring systems in place to prevent widespread transmission, the probability of 21-100 cases is lower than initially assessed. While some risk remains, the likelihood is reduced due to effective containment efforts.\n"
     ]
    }
   ],
   "source": [
    "for ifp in ifps.values():\n",
    "    if ifp.feedback != 'I concur':\n",
    "        sf.reassess(ifp)"
   ]
  },
  {
   "cell_type": "markdown",
   "metadata": {},
   "source": [
    "#### Critic"
   ]
  },
  {
   "cell_type": "code",
   "execution_count": 347,
   "metadata": {},
   "outputs": [],
   "source": [
    "class Critic (Agent):\n",
    "    def __init__(self, llm):\n",
    "\n",
    "        self.system_role = f\"\"\"\n",
    "You a very smart and worldly person reviewing a superforecaster's assignment of probabilities to events.\n",
    "You will receive an event with probabilities given as |event|id|question|zz|rationale|news|criteria|background|fineprint|.\n",
    "zz is an integer probability from 1 to 99 and rationale is the student's logic for assigning probability of zz.\n",
    "You will reply with a line |id|feedback| where feedback is \"I concur\" if you see no problem with the rationale and zz otherwise presents possible problems with the rationale and zz.\n",
    "\"\"\"\n",
    "        super().__init__(self.system_role, llm)\n",
    "\n",
    "    def feedback(self, ifp):\n",
    "        prompt = f\"|{ifp.event}|{ifp.question_id}|{ifp.title}|{ifp.forecast}|{ifp.rationale}|{ifp.news}|{ifp.resolution_criteria}|{ifp.background}|{ifp.fine_print}|\"\n",
    "        self.fb = self.chat(prompt)\n",
    "        self.fb1 = self.fb.split('|')\n",
    "        self.fb2 = [x for x in self.fb1 if x]\n",
    "        try:\n",
    "            id,feedback = self.fb2\n",
    "            ifps[int(id)].feedback = feedback\n",
    "            print(id, feedback)\n",
    "        except:\n",
    "            print('problem', self.fb2)\n",
    "            ifps[int(id)].feedback = 'I concur'"
   ]
  },
  {
   "cell_type": "raw",
   "metadata": {},
   "source": [
    "categories = {\"Market Price\": \"The current or future prices or comparative price / value of goods, services, commodities, stocks, treasuries, indices, and other traded financial products. This excludes products which aren't traded and subject to supply and demand.\",\n",
    "                \"Macroeconomics\": \"A quantifiable measure with historical values being above, below, or between values. This includes all-time records, record lows, record highs, or simply exceeding a value at a specified time.\",\n",
    "                \"Epidemic\": \"The rate of spread of a disease\",\n",
    "                \"Disease\": \"A new outbreak of an old or new disease\",\n",
    "                \"Medical Device\": \"Invention or distribution of a new medical device\",\n",
    "                \"Drug Discovery\": \"Invention of a new drug for a specific medical condition\",\n",
    "                \"Civil Unrest\": \"Riots and protests\",\n",
    "                \"Crime\": \"Crime statistics\",\n",
    "                \"Elections\": \"Elections\",\n",
    "                \"Leadership change\": \"Leadership change but not from an election\",\n",
    "                \"Sports\": \"Sporting event outcomes and sport statistics\"}"
   ]
  },
  {
   "cell_type": "raw",
   "metadata": {},
   "source": [
    "dfc = pd.DataFrame(categories.items())\n",
    "text = \"\"\n",
    "for cat in categories:\n",
    "    descr = categories[cat]\n",
    "    text += f\"* {cat}: {descr}\\n\"\n",
    "dfc"
   ]
  },
  {
   "cell_type": "code",
   "execution_count": 348,
   "metadata": {},
   "outputs": [],
   "source": [
    "critic = Critic(Perplexity)"
   ]
  },
  {
   "cell_type": "code",
   "execution_count": 349,
   "metadata": {},
   "outputs": [
    {
     "name": "stdout",
     "output_type": "stream",
     "text": [
      "26568 The probability of 50 seems reasonable given the ongoing conflict and the fluid nature of the military situation in Eastern Ukraine. The recent reports of Russian advances and Ukrainian retreats in Chasiv Yar suggest that the situation is volatile, and it is difficult to predict with certainty whether Russia will have control of the town on October 1, 2024. The continued support of Western nations to Ukraine and the potential impact of diplomatic developments on the conflict also add to the uncertainty. Overall, a probability of 50 reflects the current state of uncertainty and the need for ongoing monitoring of the situation to make more accurate predictions.\n",
      "26569 The probability of 85 seems reasonable given the ongoing record-breaking heat in the Atlantic Ocean. The recent data shows that the daily mean sea surface temperature has been consistently high, with over 90% of the tropical Atlantic experiencing record or near-record warm temperatures. Climate models and seasonal forecasts suggest that the Atlantic could set new records in daily mean sea surface temperatures before October 1, 2024, influenced by factors such as greenhouse gas emissions, El Niño events, and other climatic variables. The current trend and predictions support the likelihood of surpassing 2023's record peak temperature before October 1, 2024.\n",
      "26570 The probability of 45 seems reasonable given the competitive nature of the 2024 Warhammer 40,000 World Team Championship. While Poland has performed well in past tournaments, the outcome of the championship will depend on various factors such as team preparations, strategies, and their performance during the event itself. The seeding groups and the Swiss format of the tournament add to the unpredictability of the outcome.\n",
      "26571 The probability of 45 seems reasonable given Germany's strong competitive presence and historical performances in the Warhammer 40,000 scene. While their consistent track record supports a more favorable probability adjustment, the outcome of the 2024 World Team Championship remains uncertain due to various factors such as team performance during the event, the skills of individual players, and the strategies employed.\n",
      "26572 The probability of 40 seems reasonable given the competitive nature of the 2024 Warhammer 40,000 World Team Championship. Each of the mentioned countries (USA, Sweden, England, and France) has a strong presence in the Warhammer 40,000 scene and has historically performed well in tournaments. The outcome of the championship will depend on various factors such as team composition, preparation, and on-the-day performance.\n",
      "26573 The probability of 30 seems reasonable given the historical dominance of Poland, Germany, USA, Sweden, England, and France in the Warhammer 40,000 competitive scene. While it is possible for an underdog or emerging team to surpass expectations and secure a victory, the likelihood of this happening is lower than that of one of the historically strong teams winning.\n",
      "26574 The probability of 20 seems reasonable given the current trends and biosecurity measures in place. While the CDC has reported 11 human cases of H5 in the United States since 2022, the likelihood of exactly 11 cases by October 1, 2024, is uncertain due to ongoing surveillance and potential future outbreaks.\n",
      "26575 The probability of 35 seems reasonable given the current trends and public health measures in place. While the CDC has reported 11 human cases of H5 in the United States since 2022, the likelihood of 12 to 20 cases by October 1, 2024, is uncertain due to ongoing surveillance and potential future outbreaks.\n",
      "26576 The probability of 15 seems reasonable given the current trends and public health measures in place. While the CDC has reported 11 human cases of H5 in the United States since 2022, the likelihood of 21 to 100 cases by October 1, 2024, is uncertain due to ongoing surveillance and potential future outbreaks.\n",
      "26577 The probability of 5 seems reasonable given the current trends and public health measures in place. While the CDC has reported 11 human cases of H5 in the United States since 2022, the likelihood of more than 100 cases by October 1, 2024, is uncertain due to ongoing surveillance and potential future outbreaks.\n"
     ]
    }
   ],
   "source": [
    "for ifp in ifps.values():\n",
    "    critic.feedback(ifp)"
   ]
  },
  {
   "cell_type": "markdown",
   "metadata": {},
   "source": [
    "### Forecasting process"
   ]
  },
  {
   "cell_type": "code",
   "execution_count": null,
   "metadata": {},
   "outputs": [],
   "source": [
    "ifps = {id: IFP(id) for id in jul25}"
   ]
  },
  {
   "cell_type": "code",
   "execution_count": 361,
   "metadata": {},
   "outputs": [],
   "source": [
    "def forecasting(ifps):\n",
    "    max_tries = 4\n",
    "    \n",
    "    analyst = Analyst(ChatGPT)\n",
    "    analyst.research(ifps)\n",
    "    \n",
    "    qr = QuestionRelator(ChatGPT)\n",
    "    qr.relate(ifps)\n",
    "    \n",
    "    sf = Superforecaster(ChatGPT)\n",
    "    sf.forecast(ifps)\n",
    "    \n",
    "    for ifp in ifps.values():\n",
    "        print(\"Refining\", ifp.question_id)\n",
    "        ifp.feedback = ''\n",
    "        critic = Critic(Perplexity)\n",
    "        for i in range(max_tries):\n",
    "            print(\"Pass\", i, \"of\", max_tries, \"on\", ifp.question_id)\n",
    "            if ifp.feedback == 'I concur':\n",
    "                break\n",
    "            critic.feedback(ifp)\n",
    "            if ifp.feedback == 'I concur':\n",
    "                break\n",
    "            sf.reassess(ifp)\n",
    "        print(\"===============================================\")\n",
    "\n",
    "    for ifp in ifps.values():\n",
    "        print(ifp.question_id, ifp.title)\n",
    "        print(\"Forecast\", ifp.forecast)\n",
    "        print(\"Rationale\", ifp.rationale, '\\n')"
   ]
  },
  {
   "cell_type": "code",
   "execution_count": 363,
   "metadata": {},
   "outputs": [],
   "source": [
    "def upload(ifp):\n",
    "    post_question_prediction(ifp.question_id, ifp.forecast)\n",
    "    post_question_comment(ifp.question_id, ifp.rationale)"
   ]
  },
  {
   "cell_type": "code",
   "execution_count": 364,
   "metadata": {},
   "outputs": [],
   "source": [
    "def uploads(ifps):\n",
    "    for ifp in ifps.values():\n",
    "        upload(ifp)"
   ]
  },
  {
   "cell_type": "markdown",
   "metadata": {},
   "source": [
    "## Daily forecast"
   ]
  },
  {
   "cell_type": "markdown",
   "metadata": {},
   "source": [
    "### Get IFP ids"
   ]
  },
  {
   "cell_type": "code",
   "execution_count": 365,
   "metadata": {},
   "outputs": [],
   "source": [
    "ifps = list_questions()['results']\n",
    "today_ids = list(sorted([x['id'] for x in ifps]))\n",
    "# today_ids = [25876, 25877, 25875, 25873, 25871, 25878, 25874, 25872] # 08JUL24\n",
    "# today_ids = [26006, 25936, 25935, 25934, 25933, 26004, 26005] # 09JUL24\n",
    "# today_ids = [25955, 25956, 25957, 25960, 25959, 25954, 25953, 25952, 25958] # 10JUL24\n",
    "# today_ids = [26019, 26018, 26017, 26020, 26022, 26021, 26023, 26024] # 11JUL24\n",
    "# today_ids = [26095, 26096, 26097, 26098, 26099, 26100, 26101, 26102] # 12JUL24\n",
    "# today_ids = [26133, 26134, 26138, 26139, 26140, 26157, 26158, 26159] # 15JUL24\n",
    "# today_ids = [26189, 26190, 26191, 26192, 26193, 26194, 26195, 26196] # 16JUL24\n",
    "# today_ids = [26210, 26211, 26212, 26213, 26214, 26215, 26216] # 17JUL24\n",
    "# today_ids = [26232, 26233, 26234, 26235, 26236] # 18JUL24\n",
    "# today_ids = [26302, 26303, 26304, 26305, 26306, 26307] # 19JUL24\n",
    "# today_ids = [26387, 26388, 26389, 26390, 26391, 26392] # 22JUL24\n",
    "# today_ids = [26404, 26405, 26406, 26407, 26408] # 23JUL24\n",
    "# today_ids = [26550, 26551, 26552, 26553, 26554, 26555] # 24JUL24\n",
    "# today_ids = [26568, 26569, 26570, 26571, 26572, 26573, 26574, 26575, 26576, 26577] # 25JUL24\n",
    "# today_ids = [26638, 26639, 26640, 26641, 26642, 26643, 26644, 26645, 26646] # 26JUL24"
   ]
  },
  {
   "cell_type": "code",
   "execution_count": 366,
   "metadata": {
    "scrolled": true
   },
   "outputs": [
    {
     "data": {
      "text/plain": [
       "[26638, 26639, 26640, 26641, 26642, 26643, 26644, 26645, 26646]"
      ]
     },
     "execution_count": 366,
     "metadata": {},
     "output_type": "execute_result"
    }
   ],
   "source": [
    "today_ids"
   ]
  },
  {
   "cell_type": "markdown",
   "metadata": {},
   "source": [
    "## Forecast"
   ]
  },
  {
   "cell_type": "code",
   "execution_count": 367,
   "metadata": {},
   "outputs": [],
   "source": [
    "ifps = {id: IFP(id) for id in today_ids}"
   ]
  },
  {
   "cell_type": "code",
   "execution_count": 368,
   "metadata": {},
   "outputs": [
    {
     "name": "stdout",
     "output_type": "stream",
     "text": [
      "26638 As of now, there are ongoing legal challenges to provisions of the Clean Air Act, particularly those that involve the Environmental Protection Agency's (EPA) authority to regulate greenhouse gas emissions. A key case to watch is West Virginia v. Environmental Protection Agency, argued before the Supreme Court in 2022, which questions the extent of the EPA's authority under the Clean Air Act. Chevron deference, a judicial doctrine that compels courts to defer to a federal agency's reasonable interpretation of ambiguous laws, remains a pivotal issue in these cases. If the Chevron doctrine is overturned or significantly narrowed, it could impact the outcome of such challenges. Notably, legal experts expect that the Supreme Court's decision in the matter may trigger a wave of lower federal court cases re-evaluating prior rulings under a new framework. However, the specific timeline for any ruling before October 1, 2024, remains uncertain, although the courts' calendars and the urgency of environmental regulation litigation suggest possible developments within that timeframe.\n",
      "26639 As of now, no formal agreements have been announced regarding the number of debates between Donald Trump and the Democratic nominee for the 2024 presidential election. Historically, presidential candidates have participated in a series of debates, typically three, organized by the Commission on Presidential Debates. However, President Trump has previously expressed dissatisfaction with the commission and its processes. Given his unpredictable approach and potential changes in debate formats or rules, it is difficult to definitively state whether he will debate the Democratic nominee more than once before October 1, 2024. The final decision will likely depend on campaign strategies, negotiation outcomes, and Trump's personal inclination at the time.\n",
      "26640 No formal schedule for 2024 presidential debates has been released, and it remains uncertain whether Donald Trump will debate the Democratic nominee before October 1, 2024. Trump has a history of unconventional campaign strategies and has previously criticized the established debate commission. However, participating in debates is a key campaign component, and both major party nominees have historically engaged in them. The decision will likely depend on strategic considerations by Trump's campaign and the broader political context leading up to the election.\n",
      "26641 There are currently no confirmed details regarding the format or the number of presidential debates between Donald Trump and the Democratic nominee for the 2024 election. Historically, presidential elections have featured several debates, but Trump's unpredictable nature and past criticisms of debate formats raise questions about his participation. Decisions on debate participation will depend on evolving campaign strategies and negotiations. Trump's previous willingness to deviate from norms suggests that fewer than two debates are a possibility, but this remains speculative at this point.\n",
      "26642 As of October 2023, the Spanish Wikipedia contains over 1.8 million articles and has been steadily growing. The growth trajectory of Wikipedia projects suggests it could cross the 2 million article mark before October 1, 2024, based on historical expansion rates. The influx of new articles is driven both by organic growth and concerted efforts by the Wikipedia community to expand its content. While predicting the exact timing of such milestones is tricky, the given trends support the likelihood of achieving this milestone within the specified timeframe.\n",
      "26643 As of October 2023, Spanish Wikipedia has over 1.8 million articles. The pace of growth has been consistent, with the Wikipedia community actively contributing new articles. If the current trend continues, it is possible that Spanish Wikipedia could exceed 2 million articles before September 15, 2024. This prediction is based on an analysis of past growth patterns and the active engagement of the Spanish-speaking Wikipedia community in content creation and expansion.\n",
      "26644 With the Spanish Wikipedia currently hosting over 1.8 million articles and observing consistent growth, it is plausible that the 2 million article milestone could be reached between September 15, 2024, and October 1, 2024. The community's efforts to expand the platform have shown steady progress, making this a realistic timeframe for achieving the milestone, especially if growth accelerates due to particular initiatives or campaigns aimed at increasing content.\n",
      "26645 As of now, Saudi Arabia has not formally established diplomatic relations with Israel. However, there have been significant developments in Middle Eastern geopolitics, including the normalization agreements between Israel and several Arab nations known as the Abraham Accords. Reports and diplomatic sources suggest that Saudi Arabia has been engaged in quiet diplomacy and may be considering normalization with Israel, influenced by factors like regional security concerns and cooperation against common threats. While the precise timing is uncertain, there is speculation that Saudi-Israeli relations could be formalized before September 30, 2024, depending on the geopolitical landscape and ongoing diplomatic negotiations.\n",
      "26646 The men's 100m dash remains one of the most anticipated events in the Olympics, with the current Olympic record being 9.63 seconds set by Usain Bolt in 2012. As of now, no athlete has officially surpassed this record in sanctioned events. The 2024 Paris Summer Olympics will feature some of the fastest sprinters globally, including rising stars and veterans targeting this prestigious record. While predicting a record-breaking performance is challenging, advancements in training, nutrition, and track technology contribute to athletes continually pushing the boundaries of speed. Thus, there is potential for the record to be broken, but it remains speculative until the competition occurs.\n",
      "26639 Donald Trump presidential debates\n",
      "26640 Donald Trump presidential debates\n",
      "26641 Donald Trump presidential debates\n",
      "26642 Spanish Wikipedia article count\n",
      "26643 Spanish Wikipedia article count\n",
      "26644 Spanish Wikipedia article count\n",
      "26638 Clean Air Act challenge ruling\n",
      "26645 Saudi Arabia-Israel diplomatic relations\n",
      "26646 Paris 2024 Summer Olympics men's 100m dash\n",
      "26638 70 The overturning of the Chevron doctrine by the Supreme Court significantly impacts the likelihood of major Clean Air Act provisions being struck down. The legal landscape is now more favorable for successful challenges against the EPA's regulations. Given the current political and judicial climate, it is realistic to expect that at least one court ruling will emerge before October 1, 2024, targeting a major provision of the Clean Air Act and citing Chevron's overturning as a rationale.\n",
      "26639 20 While presidential debates are traditional, Trump's unpredictable nature and dissatisfaction with past debate formats, combined with uncertainties following Biden's departure, make it less likely that more than one debate will occur. The logistics and negotiation complexities further reduce the likelihood of multiple debates before October 1, 2024.\n",
      "26640 60 Despite Trump's unpredictable nature, the historical precedent of at least one presidential debate and logistical preparations make it more likely that at least one debate will be held. This probability is bolstered by the importance of debates in reaching undecided voters and the proven negotiations for at least one debate with Biden earlier.\n",
      "26641 40 Given Trump's prior criticism of debate formats and the disruption caused by Biden's withdrawal, there's a reasonably higher probability of fewer than two debates. The chaotic nature of the debate logistics and Trump's strategic unpredictability lowers the chance of multiple debates occurring before October 1, 2024.\n",
      "26642 80 With the current article count at 1,968,552 as of June 24, 2024, and the historical growth rates, it is highly probable that the Spanish Wikipedia will exceed 2 million articles before October 1, 2024. The consistent growth and active contribution from the community support this likelihood.\n",
      "26643 90 Given the article count of 1,968,552 as of June 24, 2024, and the rapid and consistent increase in articles, it is very likely that the Spanish Wikipedia will exceed 2 million articles before September 15, 2024. The historical pace of growth and active community engagement strongly support this outcome.\n",
      "26644 60 The Spanish Wikipedia is on a steady growth trajectory, with a high probability of reaching 2 million articles before October 1, 2024. Considering the current count and past growth rates, it's plausible that the milestone will be reached between September 15 and October 1, 2024, especially given the community momentum.\n",
      "26645 50 Given recent trends and geopolitical dynamics, including the changing alliances in the Middle East and Saudi Arabia's diplomatic engagements, the likelihood of establishing diplomatic relations with Israel before September 30, 2024, is balanced. Both pressures for normalization and conservative elements within Saudi Arabia contribute to an evenly split probability.\n",
      "26646 30 While advancements in training and technology continually push athletes to new limits, breaking Usain Bolt's 2012 Olympic record remains a significant challenge. Current field performances suggest it's possible but unlikely, given the exceptional nature of Bolt's record. Thus, the probability of seeing a sub-9.63 second time in the 2024 Olympics remains low but not negligible.\n",
      "Refining 26638\n",
      "Pass 0 of 4 on 26638\n",
      "26638 I concur\n",
      "===============================================\n",
      "Refining 26639\n",
      "Pass 0 of 4 on 26639\n",
      "26639 The rationale seems sound, but the probability of 20 is too low. Given the historical precedent of multiple debates in presidential elections and the ongoing dynamics between Trump and the Democratic nominee, it is more likely that there will be multiple debates before October 1, 2024. The probability should be higher, around 60-70, considering the complexities and uncertainties involved in the debate negotiations and formats.\n",
      "26639 40 Increasing the probability to account for the historical precedent of multiple debates and the potential for evolving campaign strategies that may favor more than one debate. While Trump's unpredictable nature still plays a significant role, the complexities and importance of debates in the electoral process justify a higher probability.\n",
      "Pass 1 of 4 on 26639\n",
      "26639 The rationale is sound, but the probability of 40 is still too low. Given the historical precedent of multiple debates, the ongoing dynamics between Trump and the Democratic nominee, and the recent developments in the campaign, it is more likely that there will be multiple debates before October 1, 2024. The probability should be higher, around 70-80, considering the complexities and importance of debates in the electoral process.\n",
      "26639 60 Taking into account the historical precedent of multiple debates, the evolving dynamics of the 2024 campaign, and the importance of debates, the probability has been adjusted to reflect a more balanced expectation. While Trump's unpredictability is a factor, the likelihood of multiple debates happening before October 1, 2024, is reasonably higher given these considerations.\n",
      "Pass 2 of 4 on 26639\n",
      "26639 I concur. The rationale is sound, and the probability of 60 is reasonable given the historical precedent of multiple debates and the evolving dynamics of the 2024 campaign. Trump's commitment to debating Harris and his willingness to hold more than one debate support this probability.\n",
      "26639 60 The rationale and probability adjustment remain sound given the historical context and the evolving campaign dynamics. The commitment to multiple debates in previous elections and recent developments in the 2024 campaign indicate a reasonable likelihood of more than one debate occurring before October 1, 2024.\n",
      "Pass 3 of 4 on 26639\n",
      "26639 I concur. The rationale and probability adjustment remain sound given the historical context and the evolving campaign dynamics. The commitment to multiple debates in previous elections and recent developments in the 2024 campaign indicate a reasonable likelihood of more than one debate occurring before October 1, 2024.\n",
      "26639 60 The rationale and probability adjustment remain sound given the historical context and the evolving campaign dynamics. The commitment to multiple debates in previous elections and recent developments in the 2024 campaign indicate a reasonable likelihood of more than one debate occurring before October 1, 2024.\n",
      "===============================================\n",
      "Refining 26640\n",
      "Pass 0 of 4 on 26640\n",
      "26640 I concur\n",
      "===============================================\n",
      "Refining 26641\n",
      "Pass 0 of 4 on 26641\n",
      "26641 I concur\n",
      "===============================================\n",
      "Refining 26642\n",
      "Pass 0 of 4 on 26642\n",
      "26642 I concur\n",
      "===============================================\n",
      "Refining 26643\n",
      "Pass 0 of 4 on 26643\n",
      "26643 I concur\n",
      "===============================================\n",
      "Refining 26644\n",
      "Pass 0 of 4 on 26644\n",
      "26644 I concur\n",
      "===============================================\n",
      "Refining 26645\n",
      "Pass 0 of 4 on 26645\n",
      "26645 The probability of 50 seems reasonable given the ongoing diplomatic efforts and the complex geopolitical dynamics at play. The rationale correctly highlights the balancing factors influencing Saudi Arabia's decision, including pressures for normalization and conservative elements within the country. The criteria for resolution are clear and well-defined, ensuring a precise outcome. Overall, I concur with the assigned probability and rationale.\n",
      "26645 50 The rationale remains balanced and the probability accurately reflects the ongoing diplomatic efforts and complex geopolitical dynamics. The factors influencing Saudi Arabia's decision are well captured, justifying a 50% likelihood of establishing diplomatic relations with Israel before September 30, 2024. The criteria for resolution are clear and precise, supporting the assessment.\n",
      "Pass 1 of 4 on 26645\n",
      "26645 The probability of 50 seems reasonable given the ongoing diplomatic efforts and the complex geopolitical dynamics at play. The rationale correctly highlights the balancing factors influencing Saudi Arabia's decision, including pressures for normalization and conservative elements within the country. The criteria for resolution are clear and well-defined, ensuring a precise outcome. Overall, I concur with the assigned probability and rationale.\n",
      "26645 50 The rationale and probability are consistent and reasonable, reflecting the intricate balance of diplomatic efforts and geopolitical dynamics. The probability of 50% accurately captures the likelihood of diplomatic relations between Saudi Arabia and Israel being established before September 30, 2024. The detailed criteria for resolution further support a precise and balanced assessment.\n",
      "Pass 2 of 4 on 26645\n",
      "26645 The probability of 50 seems reasonable given the ongoing diplomatic efforts and the complex geopolitical dynamics at play. The rationale correctly highlights the balancing factors influencing Saudi Arabia's decision, including pressures for normalization and conservative elements within the country. The criteria for resolution are clear and well-defined, ensuring a precise outcome. Overall, I concur with the assigned probability and rationale.\n",
      "26645 50 The rationale and probability assessment of 50% accurately reflect the current geopolitical situation and ongoing efforts toward normalization between Saudi Arabia and Israel. The balanced consideration of influencing factors, clear criteria for resolution, and the complex diplomatic landscape justifies maintaining this probability.\n",
      "Pass 3 of 4 on 26645\n",
      "26645 The probability of 50 seems reasonable given the ongoing diplomatic efforts and the complex geopolitical dynamics at play. The rationale correctly highlights the balancing factors influencing Saudi Arabia's decision, including pressures for normalization and conservative elements within the country. The criteria for resolution are clear and well-defined, ensuring a precise outcome. Overall, I concur with the assigned probability and rationale.\n",
      "26645 50 The rationale and probability assessment of 50% accurately reflect the balanced consideration of ongoing diplomatic efforts, pressures for normalization, and conservative elements within Saudi Arabia influencing the decision. The criteria for resolution ensure a clear and precise outcome, justifying the maintained probability.\n",
      "===============================================\n",
      "Refining 26646\n",
      "Pass 0 of 4 on 26646\n",
      "26646 I concur\n",
      "===============================================\n",
      "26638 Before October 1, 2024, will a federal court rule in favor of a challenge to a major Clean Air Act provision, citing Chevron's overturning as a key factor?\n",
      "Forecast 70\n",
      "Rationale The overturning of the Chevron doctrine by the Supreme Court significantly impacts the likelihood of major Clean Air Act provisions being struck down. The legal landscape is now more favorable for successful challenges against the EPA's regulations. Given the current political and judicial climate, it is realistic to expect that at least one court ruling will emerge before October 1, 2024, targeting a major provision of the Clean Air Act and citing Chevron's overturning as a rationale. \n",
      "\n",
      "26639 Will Donald Trump debate the Democratic nominee for president more than once before October 1, 2024?\n",
      "Forecast 60\n",
      "Rationale The rationale and probability adjustment remain sound given the historical context and the evolving campaign dynamics. The commitment to multiple debates in previous elections and recent developments in the 2024 campaign indicate a reasonable likelihood of more than one debate occurring before October 1, 2024. \n",
      "\n",
      "26640 Will Donald Trump debate the Democratic nominee for president before October 1, 2024?\n",
      "Forecast 60\n",
      "Rationale Despite Trump's unpredictable nature, the historical precedent of at least one presidential debate and logistical preparations make it more likely that at least one debate will be held. This probability is bolstered by the importance of debates in reaching undecided voters and the proven negotiations for at least one debate with Biden earlier. \n",
      "\n",
      "26641 Will Donald Trump debate the Democratic nominee for president less than twice before October 1, 2024?\n",
      "Forecast 40\n",
      "Rationale Given Trump's prior criticism of debate formats and the disruption caused by Biden's withdrawal, there's a reasonably higher probability of fewer than two debates. The chaotic nature of the debate logistics and Trump's strategic unpredictability lowers the chance of multiple debates occurring before October 1, 2024. \n",
      "\n",
      "26642 Will the Spanish Wikipedia first exceed 2 million articles before October 1, 2024?\n",
      "Forecast 80\n",
      "Rationale With the current article count at 1,968,552 as of June 24, 2024, and the historical growth rates, it is highly probable that the Spanish Wikipedia will exceed 2 million articles before October 1, 2024. The consistent growth and active contribution from the community support this likelihood. \n",
      "\n",
      "26643 Will the Spanish Wikipedia first exceed 2 million articles before Seotember 15, 2024?\n",
      "Forecast 90\n",
      "Rationale Given the article count of 1,968,552 as of June 24, 2024, and the rapid and consistent increase in articles, it is very likely that the Spanish Wikipedia will exceed 2 million articles before September 15, 2024. The historical pace of growth and active community engagement strongly support this outcome. \n",
      "\n",
      "26644 Will the Spanish Wikipedia first exceed 2 million articles betweeen September 15, 2024 and October 1, 2024?\n",
      "Forecast 60\n",
      "Rationale The Spanish Wikipedia is on a steady growth trajectory, with a high probability of reaching 2 million articles before October 1, 2024. Considering the current count and past growth rates, it's plausible that the milestone will be reached between September 15 and October 1, 2024, especially given the community momentum. \n",
      "\n",
      "26645 Will Saudi Arabia establish diplomatic relations with Israel before September 30, 2024?\n",
      "\n",
      "Forecast 50\n",
      "Rationale The rationale and probability assessment of 50% accurately reflect the balanced consideration of ongoing diplomatic efforts, pressures for normalization, and conservative elements within Saudi Arabia influencing the decision. The criteria for resolution ensure a clear and precise outcome, justifying the maintained probability. \n",
      "\n",
      "26646 At the Paris Summer Olympics in 2024, will the men's 100m dash winning time break the Olympic record of 9.63s?\n",
      "Forecast 30\n",
      "Rationale While advancements in training and technology continually push athletes to new limits, breaking Usain Bolt's 2012 Olympic record remains a significant challenge. Current field performances suggest it's possible but unlikely, given the exceptional nature of Bolt's record. Thus, the probability of seeing a sub-9.63 second time in the 2024 Olympics remains low but not negligible. \n",
      "\n"
     ]
    }
   ],
   "source": [
    "forecasting(ifps)"
   ]
  },
  {
   "cell_type": "markdown",
   "metadata": {},
   "source": [
    "## Next time"
   ]
  },
  {
   "cell_type": "markdown",
   "metadata": {},
   "source": [
    "Add an agent to summarize the back and forth between critic and forecaster into a single cogent rationale that incorporates all that was discussed."
   ]
  },
  {
   "cell_type": "markdown",
   "metadata": {},
   "source": [
    "## Upload"
   ]
  },
  {
   "cell_type": "code",
   "execution_count": 369,
   "metadata": {},
   "outputs": [
    {
     "name": "stdout",
     "output_type": "stream",
     "text": [
      "Prediction posted for  26638\n",
      "Comment posted for  26638\n",
      "Prediction posted for  26639\n",
      "Comment posted for  26639\n",
      "Prediction posted for  26640\n",
      "Comment posted for  26640\n",
      "Prediction posted for  26641\n",
      "Comment posted for  26641\n",
      "Prediction posted for  26642\n",
      "Comment posted for  26642\n",
      "Prediction posted for  26643\n",
      "Comment posted for  26643\n",
      "Prediction posted for  26644\n",
      "Comment posted for  26644\n",
      "Prediction posted for  26645\n",
      "Comment posted for  26645\n",
      "Prediction posted for  26646\n",
      "Comment posted for  26646\n"
     ]
    }
   ],
   "source": [
    "uploads(ifps)"
   ]
  },
  {
   "cell_type": "code",
   "execution_count": 370,
   "metadata": {},
   "outputs": [
    {
     "data": {
      "text/plain": [
       "9"
      ]
     },
     "execution_count": 370,
     "metadata": {},
     "output_type": "execute_result"
    }
   ],
   "source": [
    "len(today_ids)"
   ]
  },
  {
   "cell_type": "code",
   "execution_count": null,
   "metadata": {},
   "outputs": [],
   "source": []
  }
 ],
 "metadata": {
  "colab": {
   "provenance": []
  },
  "kernelspec": {
   "display_name": "Python 3 (ipykernel)",
   "language": "python",
   "name": "python3"
  },
  "language_info": {
   "codemirror_mode": {
    "name": "ipython",
    "version": 3
   },
   "file_extension": ".py",
   "mimetype": "text/x-python",
   "name": "python",
   "nbconvert_exporter": "python",
   "pygments_lexer": "ipython3",
   "version": "3.10.6"
  }
 },
 "nbformat": 4,
 "nbformat_minor": 4
}
