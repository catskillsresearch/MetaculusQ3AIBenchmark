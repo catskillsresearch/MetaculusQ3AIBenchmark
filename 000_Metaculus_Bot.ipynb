{
 "cells": [
  {
   "cell_type": "markdown",
   "metadata": {},
   "source": [
    "# 000 Forecasting Bot"
   ]
  },
  {
   "cell_type": "markdown",
   "metadata": {},
   "source": [
    "Starting from https://colab.research.google.com/drive/1_Il5h2Ed4zFa6Z3bROVCE68LZcSi4wHX?usp=sharing"
   ]
  },
  {
   "cell_type": "markdown",
   "metadata": {},
   "source": [
    "## API Keys"
   ]
  },
  {
   "cell_type": "markdown",
   "metadata": {},
   "source": [
    "In order to run this notebook as is, you'll need to enter a few API keys (use the key icon on the left to input them):\n",
    "\n",
    "- `METACULUS_TOKEN`: you can find your Metaculus token under your bot's user settings page: https://www.metaculus.com/accounts/settings/, or on the bot registration page where you created the account: https://www.metaculus.com/aib/\n",
    "- `OPENAPI_API_KEY`: get one from OpenAIs page: https://platform.openai.com/settings/profile?tab=api-keys\n",
    "- `PERPLEXITY_API_KEY` - used to search up-to-date information about the question. Get one from https://www.perplexity.ai/settings/api"
   ]
  },
  {
   "cell_type": "code",
   "execution_count": 1,
   "metadata": {},
   "outputs": [],
   "source": [
    "from omegaconf import OmegaConf\n",
    "\n",
    "tokens = OmegaConf.create(\"\"\"\n",
    "METACULUS_TOKEN: xx\n",
    "OPENAI_API_KEY: yy\n",
    "OPENAI_MODEL: gpt-4o\n",
    "PERPLEXITY_API_KEY: zz\n",
    "PERPLEXITY_MODEL: llama-3-sonar-large-32k-online\"\"\")\n",
    "\n",
    "token_fn = \"tokens.yaml\"\n",
    "# OmegaConf.save(config=tokens, f=token_fn)\n",
    "config = OmegaConf.load(token_fn)\n",
    "\n",
    "def pr(tokens):\n",
    "    print(OmegaConf.to_yaml(config))"
   ]
  },
  {
   "cell_type": "raw",
   "metadata": {},
   "source": [
    "pr(config)"
   ]
  },
  {
   "cell_type": "markdown",
   "metadata": {},
   "source": [
    "## Prompt Engineering"
   ]
  },
  {
   "cell_type": "markdown",
   "metadata": {},
   "source": [
    "### Perplexity Prompt"
   ]
  },
  {
   "cell_type": "code",
   "execution_count": 2,
   "metadata": {},
   "outputs": [],
   "source": [
    "PERPLEXITY_PROMPT = \"\"\"\n",
    "You are an assistant to a superforecaster.\n",
    "The superforecaster will give you a question they intend to forecast on.\n",
    "To be a great assistant, you generate a concise but detailed rundown of the most relevant news, including if the question would resolve Yes or No based on current information.\n",
    "You do not produce forecasts yourself.\n",
    "You do not make statements about difficulty of prediction.\n",
    "You only provide evidence for predictions.\n",
    "You never draw conclusions.\n",
    "If the question is about a financial time series, please provide a year's worth of daily data if possible.\n",
    "\"\"\""
   ]
  },
  {
   "cell_type": "markdown",
   "metadata": {
    "id": "K1v6Sy5K-NJT"
   },
   "source": [
    "### OpenAI Prompt"
   ]
  },
  {
   "cell_type": "markdown",
   "metadata": {
    "id": "K1v6Sy5K-NJT"
   },
   "source": [
    "You can change the prompt below to experiment. Key parameters that you can include in your prompt are:\n",
    "\n",
    "*   `{title}` The question itself\n",
    "*   `{summary_report}` A up to date news compliation generated from Perplexity\n",
    "*   `{background}` The background section of the Metaculus question. This comes from the `description` field on the question\n",
    "*   `{fine_print}` The fine print section of the question\n",
    "*   `{today}` Today's date. Remember that your bot doesn't know the date unless you tell it explicitly!\n",
    "\n",
    "\n",
    "**IMPORTANT**: As you experiment with changing the prompt, be aware that the last number output by GPT will be used as the forecast probability. The last line in the template specifies that."
   ]
  },
  {
   "cell_type": "code",
   "execution_count": 3,
   "metadata": {
    "id": "vNStT_eV8tLG"
   },
   "outputs": [],
   "source": [
    "PROMPT_TEMPLATE = \"\"\"\n",
    "You are a professional forecaster interviewing for a job.\n",
    "The interviewer is also a professional forecaster, with a strong track record of\n",
    "accurate forecasts of the future. They will ask you a question, and your task is\n",
    "to provide the most accurate forecast you can. To do this, you evaluate past data\n",
    "and trends carefully, make use of comparison classes of similar events, take into\n",
    "account base rates about how past events unfolded, and outline the best reasons\n",
    "for and against any particular outcome. Don't use forecasting predictions from Metaculus or any other crowd forecasting site.\n",
    "If there is a well-known mathematical model for this type of question, please cite and apply the model, and show the steps of your work to apply it.\n",
    "For viral transmission questions, describe the best viral transmission model for that kind of virus, and apply it.\n",
    "You know that great forecasters don't just forecast according to the \"vibe\" of the question and the considerations.\n",
    "Instead, they think about the question in a structured way, recording their\n",
    "reasoning as they go, and they always consider multiple perspectives that\n",
    "usually give different conclusions, which they reason about together.\n",
    "You can't know the future, and the interviewer knows that, so you do not need\n",
    "to hedge your uncertainty, you are simply trying to give the most accurate numbers\n",
    "that will be evaluated when the events later unfold.\n",
    "If the question is about a financial time series, estimate the time from today to the resolution date of the question,\n",
    "and if you are provided with a time series or can find one, use it to calibrate an appropriate statistical model, \n",
    "and then apply statistical reasoning to estimate the probability of the event being discussed,\n",
    "and show your work including any and all intermediate calculations.\n",
    "\n",
    "Your interview question is:\n",
    "{title}\n",
    "\n",
    "Your research assistant says:\n",
    "{summary_report}\n",
    "\n",
    "background:\n",
    "{background}\n",
    "\n",
    "fine_print:\n",
    "{fine_print}\n",
    "\n",
    "Today is {today}.\n",
    "\n",
    "You write your rationale and give your final answer as: \"Probability: ZZ%\", 0-100\n",
    "\"\"\""
   ]
  },
  {
   "cell_type": "markdown",
   "metadata": {
    "id": "iDukuXArbgdm"
   },
   "source": [
    "## LLM and Metaculus Interaction"
   ]
  },
  {
   "cell_type": "markdown",
   "metadata": {
    "id": "iDukuXArbgdm"
   },
   "source": [
    "This section sets up some simple helper code you can use to get data about forecasting questions and to submit a prediction"
   ]
  },
  {
   "cell_type": "code",
   "execution_count": 4,
   "metadata": {
    "id": "HifodCwcGU0j"
   },
   "outputs": [],
   "source": [
    "import datetime\n",
    "import json\n",
    "import os\n",
    "import requests\n",
    "import re\n",
    "from openai import OpenAI\n",
    "from tqdm import tqdm"
   ]
  },
  {
   "cell_type": "code",
   "execution_count": 5,
   "metadata": {
    "id": "HifodCwcGU0j"
   },
   "outputs": [],
   "source": [
    "AUTH_HEADERS = {\"headers\": {\"Authorization\": f\"Token {config.METACULUS_TOKEN}\"}}\n",
    "API_BASE_URL = \"https://www.metaculus.com/api2\"\n",
    "WARMUP_TOURNAMENT_ID = 3349\n",
    "SUBMIT_PREDICTION = True\n",
    "\n",
    "def find_number_before_percent(s):\n",
    "    # Use a regular expression to find all numbers followed by a '%'\n",
    "    matches = re.findall(r'(\\d+)%', s)\n",
    "    if matches:\n",
    "        # Return the last number found before a '%'\n",
    "        return int(matches[-1])\n",
    "    else:\n",
    "        # Return None if no number found\n",
    "        return None\n",
    "\n",
    "def post_question_comment(question_id, comment_text):\n",
    "    \"\"\"\n",
    "    Post a comment on the question page as the bot user.\n",
    "    \"\"\"\n",
    "\n",
    "    response = requests.post(\n",
    "        f\"{API_BASE_URL}/comments/\",\n",
    "        json={\n",
    "            \"comment_text\": comment_text,\n",
    "            \"submit_type\": \"N\",\n",
    "            \"include_latest_prediction\": True,\n",
    "            \"question\": question_id,\n",
    "        },\n",
    "        **AUTH_HEADERS,\n",
    "    )\n",
    "    response.raise_for_status()\n",
    "    print(\"Comment posted for \", question_id)\n",
    "\n",
    "def post_question_prediction(question_id, prediction_percentage):\n",
    "    \"\"\"\n",
    "    Post a prediction value (between 1 and 100) on the question.\n",
    "    \"\"\"\n",
    "    url = f\"{API_BASE_URL}/questions/{question_id}/predict/\"\n",
    "    response = requests.post(\n",
    "        url,\n",
    "        json={\"prediction\": float(prediction_percentage) / 100},\n",
    "        **AUTH_HEADERS,\n",
    "    )\n",
    "    response.raise_for_status()\n",
    "    print(\"Prediction posted for \", question_id)\n",
    "\n",
    "\n",
    "def get_question_details(question_id):\n",
    "    \"\"\"\n",
    "    Get all details about a specific question.\n",
    "    \"\"\"\n",
    "    url = f\"{API_BASE_URL}/questions/{question_id}/\"\n",
    "    response = requests.get(\n",
    "        url,\n",
    "        **AUTH_HEADERS,\n",
    "    )\n",
    "    response.raise_for_status()\n",
    "    return json.loads(response.content)\n",
    "\n",
    "def list_questions(tournament_id=WARMUP_TOURNAMENT_ID, offset=0, count=1000):\n",
    "    \"\"\"\n",
    "    List (all details) {count} questions from the {tournament_id}\n",
    "    \"\"\"\n",
    "    url_qparams = {\n",
    "        \"limit\": count,\n",
    "        \"offset\": offset,\n",
    "        \"has_group\": \"false\",\n",
    "        \"order_by\": \"-activity\",\n",
    "        \"forecast_type\": \"binary\",\n",
    "        \"project\": tournament_id,\n",
    "        \"status\": \"open\",\n",
    "        \"type\": \"forecast\",\n",
    "        \"include_description\": \"true\",\n",
    "    }\n",
    "    url = f\"{API_BASE_URL}/questions/\"\n",
    "    response = requests.get(url, **AUTH_HEADERS, params=url_qparams)\n",
    "    response.raise_for_status()\n",
    "    data = json.loads(response.content)\n",
    "    return data\n",
    "\n",
    "def call_perplexity(query):\n",
    "    url = \"https://api.perplexity.ai/chat/completions\"\n",
    "    headers = {\n",
    "        \"accept\": \"application/json\",\n",
    "        \"authorization\": f\"Bearer {config.PERPLEXITY_API_KEY}\",\n",
    "        \"content-type\": \"application/json\",\n",
    "    }\n",
    "    payload = {\n",
    "        \"model\": config.PERPLEXITY_MODEL,\n",
    "        \"messages\": [\n",
    "            {\n",
    "                \"role\": \"system\",\n",
    "                \"content\": PERPLEXITY_PROMPT,\n",
    "            },\n",
    "            {\"role\": \"user\", \"content\": query},\n",
    "        ],\n",
    "    }\n",
    "    response = requests.post(url=url, json=payload, headers=headers)\n",
    "    response.raise_for_status()\n",
    "    content = response.json()[\"choices\"][0][\"message\"][\"content\"]\n",
    "    return content\n",
    "\n",
    "def get_gpt_prediction(question_details):\n",
    "    today = datetime.datetime.now().strftime(\"%Y-%m-%d\")\n",
    "    client = OpenAI(api_key=config.OPENAI_API_KEY)\n",
    "\n",
    "    title = question_details[\"title\"]\n",
    "    resolution_criteria = question_details[\"resolution_criteria\"]\n",
    "    background = question_details[\"description\"]\n",
    "    fine_print = question_details[\"fine_print\"]\n",
    "\n",
    "    # Comment this line to not use perplexity\n",
    "    summary_report = call_perplexity(title)\n",
    "\n",
    "    chat_completion = client.chat.completions.create(\n",
    "        #model=\"gpt-3.5-turbo-1106\",\n",
    "        model=config.OPENAI_MODEL,\n",
    "        messages=[\n",
    "        {\n",
    "            \"role\": \"user\",\n",
    "            \"content\": PROMPT_TEMPLATE.format(\n",
    "                title=title,\n",
    "                summary_report=summary_report,\n",
    "                today=today,\n",
    "                background=background,\n",
    "                fine_print=fine_print,\n",
    "            )\n",
    "        }\n",
    "        ]\n",
    "    )\n",
    "\n",
    "    gpt_text = chat_completion.choices[0].message.content\n",
    "\n",
    "    # Regular expression to find the number following 'Probability: '\n",
    "    probability_match = find_number_before_percent(gpt_text)\n",
    "\n",
    "    # Extract the number if a match is found\n",
    "    probability = None\n",
    "    if probability_match:\n",
    "        probability = int(probability_match) # int(match.group(1))\n",
    "        print(f\"The extracted probability is: {probability}%\")\n",
    "        probability = min(max(probability, 1), 99) # To prevent extreme forecasts\n",
    "\n",
    "    return probability, summary_report, gpt_text"
   ]
  },
  {
   "cell_type": "markdown",
   "metadata": {
    "id": "9WUvm1tVmMkO"
   },
   "source": [
    "## Forecaster"
   ]
  },
  {
   "cell_type": "code",
   "execution_count": 6,
   "metadata": {},
   "outputs": [],
   "source": [
    "class Forecaster:\n",
    "\n",
    "    def __init__(self, question_id):\n",
    "        self.question_id = question_id\n",
    "        self.forecast()\n",
    "\n",
    "    def forecast(self):\n",
    "        self.question_details = get_question_details(self.question_id)\n",
    "        self.prediction, self.perplexity_result, self.gpt_result = get_gpt_prediction(self.question_details)\n",
    "        self.comment = f\"PERPLEXITY {config.PERPLEXITY_MODEL}\\n\\n\" + self.perplexity_result + \"\\n\\n#########\\n\\n\" + f\"GPT {config.OPENAI_MODEL}\\n\\n\" + self.gpt_result\n",
    "\n",
    "    def str(self):\n",
    "        rpt = \"\"\n",
    "        rpt += f\"\"\"\n",
    "# {self.question_id} {self.question_details['title']}\n",
    "\n",
    "## FORECAST\n",
    "{self.prediction}\n",
    "\n",
    "## PERPLEXITY\n",
    "{self.perplexity_result}\n",
    "\n",
    "## OPENAI\n",
    "{self.gpt_result}\n",
    "\"\"\"\n",
    "        return rpt\n",
    "\n",
    "    def upload(self):\n",
    "        post_question_prediction(self.question_id, self.prediction)\n",
    "        post_question_comment(self.question_id, self.comment)"
   ]
  },
  {
   "cell_type": "markdown",
   "metadata": {},
   "source": [
    "## Daily forecast"
   ]
  },
  {
   "cell_type": "markdown",
   "metadata": {},
   "source": [
    "### Get IFP ids"
   ]
  },
  {
   "cell_type": "code",
   "execution_count": 7,
   "metadata": {},
   "outputs": [],
   "source": [
    "ifps = list_questions()['results']\n",
    "today_ids = [x['id'] for x in ifps]\n",
    "# today_ids = [25876, 25877, 25875, 25873, 25871, 25878, 25874, 25872] # 08JUL24\n",
    "# today_ids = [26006, 25936, 25935, 25934, 25933, 26004, 26005] # 09JUL24\n",
    "# today_ids = [25955, 25956, 25957, 25960, 25959, 25954, 25953, 25952, 25958] # 10JUL24\n",
    "# today_ids = [26019, 26018, 26017, 26020, 26022, 26021, 26023, 26024] # 11JUL24"
   ]
  },
  {
   "cell_type": "code",
   "execution_count": 8,
   "metadata": {},
   "outputs": [
    {
     "data": {
      "text/plain": [
       "[26019, 26018, 26017, 26020, 26022, 26021, 26023, 26024]"
      ]
     },
     "execution_count": 8,
     "metadata": {},
     "output_type": "execute_result"
    }
   ],
   "source": [
    "today_ids"
   ]
  },
  {
   "cell_type": "markdown",
   "metadata": {},
   "source": [
    "## Forecast"
   ]
  },
  {
   "cell_type": "code",
   "execution_count": 9,
   "metadata": {},
   "outputs": [
    {
     "name": "stderr",
     "output_type": "stream",
     "text": [
      " 12%|█████▋                                       | 1/8 [00:16<01:55, 16.52s/it]"
     ]
    },
    {
     "name": "stdout",
     "output_type": "stream",
     "text": [
      "The extracted probability is: 75%\n"
     ]
    },
    {
     "name": "stderr",
     "output_type": "stream",
     "text": [
      " 25%|███████████▎                                 | 2/8 [00:32<01:38, 16.44s/it]"
     ]
    },
    {
     "name": "stdout",
     "output_type": "stream",
     "text": [
      "The extracted probability is: 25%\n"
     ]
    },
    {
     "name": "stderr",
     "output_type": "stream",
     "text": [
      " 38%|████████████████▉                            | 3/8 [00:52<01:28, 17.69s/it]"
     ]
    },
    {
     "name": "stdout",
     "output_type": "stream",
     "text": [
      "The extracted probability is: 80%\n"
     ]
    },
    {
     "name": "stderr",
     "output_type": "stream",
     "text": [
      " 50%|██████████████████████▌                      | 4/8 [01:10<01:12, 18.03s/it]"
     ]
    },
    {
     "name": "stdout",
     "output_type": "stream",
     "text": [
      "The extracted probability is: 99%\n"
     ]
    },
    {
     "name": "stderr",
     "output_type": "stream",
     "text": [
      " 62%|████████████████████████████▏                | 5/8 [01:26<00:51, 17.14s/it]"
     ]
    },
    {
     "name": "stdout",
     "output_type": "stream",
     "text": [
      "The extracted probability is: 21%\n"
     ]
    },
    {
     "name": "stderr",
     "output_type": "stream",
     "text": [
      " 75%|█████████████████████████████████▊           | 6/8 [01:43<00:34, 17.16s/it]"
     ]
    },
    {
     "name": "stdout",
     "output_type": "stream",
     "text": [
      "The extracted probability is: 10%\n"
     ]
    },
    {
     "name": "stderr",
     "output_type": "stream",
     "text": [
      " 88%|███████████████████████████████████████▍     | 7/8 [01:58<00:16, 16.51s/it]"
     ]
    },
    {
     "name": "stdout",
     "output_type": "stream",
     "text": [
      "The extracted probability is: 65%\n"
     ]
    },
    {
     "name": "stderr",
     "output_type": "stream",
     "text": [
      "100%|█████████████████████████████████████████████| 8/8 [02:19<00:00, 17.41s/it]"
     ]
    },
    {
     "name": "stdout",
     "output_type": "stream",
     "text": [
      "The extracted probability is: 47%\n"
     ]
    },
    {
     "name": "stderr",
     "output_type": "stream",
     "text": [
      "\n"
     ]
    }
   ],
   "source": [
    "predictions = {}\n",
    "for question_id in tqdm(today_ids):\n",
    "    predictions[question_id] = Forecaster(question_id)"
   ]
  },
  {
   "cell_type": "markdown",
   "metadata": {},
   "source": [
    "## Report"
   ]
  },
  {
   "cell_type": "code",
   "execution_count": 10,
   "metadata": {},
   "outputs": [
    {
     "data": {
      "text/markdown": [
       "\n",
       "# 26019 Will exactly 1 or 2 Starship launches reach an altitude of 160 kilometers between July 1, 2024 and Sept 30, 2024?\n",
       "\n",
       "## FORECAST\n",
       "75\n",
       "\n",
       "## PERPLEXITY\n",
       "Here is a concise rundown of the most relevant news related to the query:\n",
       "\n",
       "- **Starship Integrated Flight Test 2 (IFT-2)**: On November 18, 2023, SpaceX conducted the second integrated flight test of the Starship launch vehicle. The mission achieved an altitude of 149 km (93 mi) but did not complete its planned orbit due to telemetry loss and subsequent destruction of the second stage.\n",
       "- **Starship Development**: As of July 2024, Starship is the most massive and powerful launch vehicle ever built, with ongoing development and testing. The fifth integrated flight test (IFT-5) is expected to occur in August 2024, aiming to catch the Super Heavy booster with the launch tower's \"chopstick\" arms.\n",
       "- **Recent Launches**: Starship has had four test flights so far, with the fourth flight being a complete success, featuring both stages returning to Earth for ocean splashdowns as planned.\n",
       "- **Upcoming Launches**: The fifth integrated flight test is expected to take place in the next few weeks, with the goal of catching the Super Heavy booster with the launch tower's arms. The sixth integrated flight test is also planned, with Ship 31 having completed a successful cryogenic test.\n",
       "\n",
       "Based on current information, there is no definitive answer to whether exactly 1 or 2 Starship launches will reach an altitude of 160 kilometers between July 1, 2024, and September 30, 2024. However, the upcoming fifth and sixth integrated flight tests could potentially contribute to this outcome.\n",
       "\n",
       "## OPENAI\n",
       "### Step 1: Understanding the Problem\n",
       "We need to forecast the probability that exactly 1 or 2 Starship launches will reach an altitude of 160 kilometers between July 1, 2024, and September 30, 2024.\n",
       "\n",
       "Key Points:\n",
       "- Today is July 11, 2024.\n",
       "- Starship has had four test flights at various altitudes, with mixed success rates.\n",
       "- The fifth and sixth Integrated Flight Tests (IFT-5 and IFT-6) are scheduled for the coming months.\n",
       "\n",
       "Given these points, let’s follow a structured method to forecast the probability:\n",
       "\n",
       "### Step 2: Assess the Historical Data\n",
       "\n",
       "1. **Past Performance:**\n",
       "\n",
       "   - Total launches so far: 4\n",
       "   - Success count: 2 (one partial success at 149 km in IFT-2; one complete success with splashdowns in IFT-4)\n",
       "   - Failure count: 2 (including IFT-1 and IFT-3 with varied outcomes)\n",
       "\n",
       "2. **Success Rate:**\n",
       "\n",
       "   - Calculate success rate: \\( \\text{Success Rate} = \\frac{\\text{Number of Successful Flights}}{\\text{Total Flights}} = \\frac{2}{4} = 0.5 \\) or 50%\n",
       "\n",
       "### Step 3: Upcoming Flight Predictions\n",
       "\n",
       "1. **Scheduled Flights:**\n",
       "\n",
       "   - IFT-5: Scheduled for August 2024\n",
       "   - IFT-6: Likely within the timeframe given the current pace (~every 2-3 months)\n",
       "\n",
       "### Step 4: Statistical Modeling\n",
       "\n",
       "Assume the probability of a flight successfully reaching 160 km is independent and follows a Bernoulli distribution with \\( p = 0.5 \\).\n",
       "\n",
       "1. **Predicting Probabilities for Exactly 1 or 2 Successes (Binomial Distribution):**\n",
       "\n",
       "   - Let \\( X \\) be the number of successful launches. \\( X \\) follows a binomial distribution: \n",
       "     \\[ P(X = k) = \\binom{n}{k} p^k (1-p)^{n-k} \\]\n",
       "\n",
       "   - \\( n = 2 \\) (number of trials, considering IFT-5 and IFT-6)\n",
       "   - \\( p = 0.5 \\) (probability of success)\n",
       "\n",
       "2. **Calculations:**\n",
       "\n",
       "   \\[ P(X = 1) = \\binom{2}{1} (0.5)^1 (0.5)^{2-1} = 2 \\cdot 0.5 \\cdot 0.5 = 0.5 \\]\n",
       "   \\[ P(X = 2) = \\binom{2}{2} (0.5)^2 (0.5)^{2-2} = 1 \\cdot 0.25 \\cdot 1 = 0.25 \\]\n",
       "\n",
       "3. **Combined Probability:**\n",
       "\n",
       "   \\[ P(1 \\leq X \\leq 2) = P(X = 1) + P(X = 2) = 0.5 + 0.25 = 0.75 \\]\n",
       "\n",
       "### Step 5: Considering Other Factors\n",
       "\n",
       "1. **Operational Adjustments:**\n",
       "\n",
       "   - Rapid prototyping might increase chances of successful adjustments.\n",
       "   - Risks of mechanical or software failures could still affect results.\n",
       "\n",
       "2. **External Factors:**\n",
       "\n",
       "   - Weather conditions may lead to necessary postponements/rescheduling.\n",
       "   - Regulatory and logistical hurdles could influence launch schedules.\n",
       "\n",
       "### Step 6: Final Assessment\n",
       "\n",
       "Finally, considering all factors (historical success rate, scheduled flights, statistical modeling, and external factors), the best estimate for the probability is derived.\n",
       "\n",
       "### Answer\n",
       "\n",
       "**Probability: 75%**\n",
       "\n",
       "# 26018 Will exactly 2 Starship launches reach an altitude of 160 kilometers between July 1, 2024 and Sept 30, 2024?\n",
       "\n",
       "## FORECAST\n",
       "25\n",
       "\n",
       "## PERPLEXITY\n",
       "Here is a concise rundown of the most relevant news for the query:\n",
       "\n",
       "**Current Status:**\n",
       "- As of July 2024, SpaceX is preparing for the fifth test flight of its Starship megarocket, which could take place in the next few weeks.\n",
       "- The Starship has completed four test flights so far, with the most recent one being successful.\n",
       "\n",
       "**Relevant Information:**\n",
       "- The second integrated flight test (IFT-2) reached an altitude of 149 km (93 mi) but did not achieve orbit.\n",
       "- The fourth test flight was a complete success, with both Super Heavy and Ship coming back to Earth for ocean splashdowns as planned.\n",
       "- Elon Musk aims to attempt a booster tower catch during the fifth integrated flight test, which is expected to launch in late July.\n",
       "- There are ongoing preparations for the sixth integrated flight test, with Ship 31 completing a successful cryogenic test in July.\n",
       "\n",
       "**Resolution:**\n",
       "Based on current information, it is unclear whether exactly two Starship launches will reach an altitude of 160 kilometers between July 1, 2024, and September 30, 2024. The upcoming fifth and sixth integrated flight tests will likely provide more data to determine the resolution of this query.\n",
       "\n",
       "## OPENAI\n",
       "### Rationale\n",
       "\n",
       "#### Step 1: Historical Data Analysis\n",
       "First, we review the historical data regarding the Starship program's launches and their outcomes.\n",
       "\n",
       "- **Previous Launches**: The relevant data indicates that the Starship has completed four test flights. One of these flights (IFT-3) reached 234 km, indicating surpassing the required 160 km altitude. \n",
       "- **Success Rate**: Out of the four launches, one was wholly successful (IFT-4), while two failed to reach the 160 km altitude (though IFT-2 came close at 149 km).\n",
       "\n",
       "#### Step 2: Upcoming Launches and Schedule\n",
       "Next, evaluating the upcoming launch schedule:\n",
       "- **Fifth Integrated Flight Test (IFT-5)**: Expected to occur in late July 2024.\n",
       "- **Sixth Integrated Flight Test (IFT-6)**: Preparations indicate it might be ready shortly after IFT-5. Given SpaceX’s rapid iteration pace, a plausible date is mid to late August 2024.\n",
       "\n",
       "### Step 3: Model Assumptions\n",
       "- **Launch Frequency**: Assuming SpaceX maintains their testing pace, we might reasonably expect at least these two launches (IFT-5 and IFT-6) to occur within the time frame of July 1 to September 30, 2024. \n",
       "- **Success Rate Estimation**: Based on historical data, and assuming incremental improvements are made with each iteration, we assume an optimistic adjustment in the success rate for upcoming missions. An estimated 50-60% success rate for each upcoming flight to at least reach the 160 km altitude seems rational.\n",
       "\n",
       "#### Step 4: Independent Event Probability Model\n",
       "Using the binomial distribution model, where:\n",
       "- \\( p \\) = probability of a single launch reaching 160 km altitude,\n",
       "- \\( n \\) = number of trials (launches),\n",
       "- \\( X \\) = number of successful events (in this case, \\( X = 2 \\)).\n",
       "\n",
       "Given a conservative success probability of \\( p = 0.55 \\), and \\( n = 2 \\) (two predicted launches):\n",
       "\n",
       "1. **Probability of 0 success (both fail)**:\n",
       "   \\( P(X = 0) = (1 - p)^2 = (0.45)^2 = 0.2025 \\)\n",
       "\n",
       "2. **Probability of 1 success (one fails, one succeeds)**:\n",
       "   \\( P(X = 1) = 2 \\times p \\times (1 - p) = 2 \\times 0.55 \\times 0.45 = 0.495 \\)\n",
       "\n",
       "3. **Probability of 2 successes**:\n",
       "   \\( P(X = 2) = p^2 = (0.55)^2 = 0.3025 \\)\n",
       "\n",
       "Thus, the overall probability of exactly 2 launches reaching the 160 km altitude is approximately 30.25%.\n",
       "\n",
       "### Final Answer\n",
       "Considering historical trends, current preparedness, and the upcoming projected flights, the most accurate forecast based on the given data and modeled assumptions would indicate:\n",
       "\n",
       "**Probability: 30.25%**\n",
       "\n",
       "# 26017 Will exactly 1 Starship launch reach an altitude of 160 kilometers between July 1, 2024 and Sept 30, 2024?\n",
       "\n",
       "## FORECAST\n",
       "80\n",
       "\n",
       "## PERPLEXITY\n",
       "The question asks if exactly one Starship launch will reach an altitude of at least 160 kilometers between July 1, 2024, and September 30, 2024. \n",
       "\n",
       "### Relevant News:\n",
       "- **Starship Development and Testing**: SpaceX is actively developing and testing the Starship, with multiple successful test flights, including the fourth test flight, which demonstrated significant progress in re-entry and splashdown capabilities.\n",
       "- **Upcoming Launches**: SpaceX plans to increase the launch rate of Starship, aiming for at least six missions in 2024. The fifth integrated flight test (IFT-5) is expected to occur in August 2024, with a planned tower catch of the Super Heavy booster.\n",
       "- **Production and Capacity**: SpaceX is working to accelerate production of Starship vehicles to support higher flight rates. The company plans to build more vehicles and launch towers, including a second launch tower at Starbase and one at Cape Canaveral, Florida.\n",
       "\n",
       "### Current Status:\n",
       "Based on the current information, it is difficult to predict with certainty whether exactly one Starship launch will reach an altitude of 160 kilometers between July 1, 2024, and September 30, 2024. However, SpaceX's aggressive testing and launch schedule suggest that multiple launches are likely to occur during this period.\n",
       "\n",
       "## OPENAI\n",
       "### Rationale and Approach\n",
       "\n",
       "To forecast whether exactly one Starship launch will reach an altitude of 160 kilometers between July 1, 2024, and September 30, 2024, we must explicitly consider and model several factors:\n",
       "\n",
       "1. **Launch Schedule and Frequency**: Analyze the planned launch rate and historical frequency of launches.\n",
       "2. **Success Rates**: Evaluate the success rate of previous Starship launches in reaching altitudes of at least 160 kilometers.\n",
       "3. **Modeling Launches**: Apply a suitable statistical model to forecast the number of successful launches.\n",
       "4. **Calculation of Probabilities**: Mathematically calculate the probability of exactly one successful launch within the specified timeframe.\n",
       "\n",
       "#### Step-by-Step Evaluation\n",
       "\n",
       "### 1. Launch Schedule and Frequency\n",
       "\n",
       "- According to the provided news, SpaceX plans at least six Starship missions in 2024.\n",
       "- Specifically, for the period between July 1, 2024, and September 30, 2024, one launch (IFT-5 in August) is confirmed.\n",
       "\n",
       "### 2. Success Rates\n",
       "\n",
       "- Historical success: Integrated Test Flight 3 (IFT-3) successfully reached an altitude of 234 kilometers.\n",
       "- Past data suggests rapid development and some successful test flights, giving a possible success rate.\n",
       "\n",
       "Given the successful flight earlier in March 2024 and assuming SpaceX maintains this success rate, we need to estimate the probability of success per launch.\n",
       "\n",
       "Let's assume:\n",
       "- Probability of each launch reaching at least 160 km: \\( P_{\\text{success}} \\)\n",
       "\n",
       "From past data:\n",
       "- Assume \\( P_{\\text{success}} \\approx 0.8 \\) (based on high recent success - IFT-3 reaching 234 km).\n",
       "\n",
       "### 3. Modeling Launches\n",
       "\n",
       "Considering the Poisson Binomial distribution to predict the number of successful launches in multiple trials, where each trial has its own probability of success. The important function of this distribution is to handle different success probabilities for each trial:\n",
       "\n",
       "- Number of launches in the period = \\( N \\)\n",
       "- \\( N = 1 \\) (confirmed IFT-5 in August)\n",
       "- Success probabilities (similar for simplicity): \\( P_{\\text{success}} = 0.8 \\)\n",
       "\n",
       "### 4. Calculation of Probabilities\n",
       "\n",
       "#### Poisson Binomial Distribution Calculation\n",
       "\n",
       "The Poisson Binomial distribution lets us compute the probability of having exactly \\( k \\) successes in \\( n \\) independent trials with varying success probabilities:\n",
       "\n",
       "The probability mass function is:\n",
       "\n",
       "\\[ P(X = k) = \\sum_{A \\subseteq \\{1, 2, ..., n\\}, |A|=k} \\prod_{i \\in A} p_i \\prod_{j \\in A^c} (1-p_j) \\]\n",
       "\n",
       "For our situation, where:\n",
       "- \\( N = 1 \\) launch\n",
       "- \\( P_1 = 0.8 \\)\n",
       "\n",
       "The probability calculation is straightforward because \\( N = 1 \\):\n",
       "\n",
       "\\[ P(X = 1) = P_1 = 0.8 \\]\n",
       "\n",
       "So, the probability of having exactly one successful launch (reaching 160 km) out of the scheduled one launch is directly \\( P_{\\text{success}} \\).\n",
       "\n",
       "### Final Answer\n",
       "\n",
       "Given the single confirmed launch within the window, and assuming the probability of that launch reaching 160 km as 0.8 (based on historical data), the probability that exactly one Starship launch will reach at least 160 kilometers between July 1, 2024, and September 30, 2024 is:\n",
       "\n",
       "**Probability: 80%**\n",
       "\n",
       "### Probability: 80%\n",
       "\n",
       "# 26020 Will the Consumer Price Index for All Urban Consumers (CPI-U) exceed 316.000 for August 2024, according to FRED?\n",
       "\n",
       "## FORECAST\n",
       "99\n",
       "\n",
       "## PERPLEXITY\n",
       "The Consumer Price Index for All Urban Consumers (CPI-U) is currently at 314.164 as of June 2024. The latest available data from FRED indicates that the CPI-U has been steadily increasing over the past year, with a 3.0% change from the previous year as of June 2024. While there is no direct indication that the CPI-U will exceed 316.000 for August 2024, the ongoing upward trend suggests that it is possible. However, it is essential to monitor future updates to the CPI-U data to determine if it will reach or exceed the specified value.\n",
       "\n",
       "Here is a year's worth of daily CPI-U data:\n",
       "\n",
       "| Date | CPI-U |\n",
       "| --- | --- |\n",
       "| July 12, 2023 | 303.454 |\n",
       "| August 12, 2023 | 304.531 |\n",
       "| September 12, 2023 | 305.609 |\n",
       "| October 12, 2023 | 306.687 |\n",
       "| November 12, 2023 | 307.765 |\n",
       "| December 12, 2023 | 308.843 |\n",
       "| January 12, 2024 | 309.921 |\n",
       "| February 12, 2024 | 311.000 |\n",
       "| March 12, 2024 | 312.079 |\n",
       "| April 12, 2024 | 313.158 |\n",
       "| May 12, 2024 | 313.964 |\n",
       "| June 12, 2024 | 314.164 |\n",
       "\n",
       "Please note that this data is subject to updates and revisions, and the actual value for August 2024 may differ from the current trend.\n",
       "\n",
       "## OPENAI\n",
       "To forecast whether the Consumer Price Index for All Urban Consumers (CPI-U) will exceed 316.000 for August 2024, according to FRED, we will follow a structured approach:\n",
       "\n",
       "1. **Data Analysis**:\n",
       "    - We have the CPI-U data for the past year (July 12, 2023 - June 12, 2024).\n",
       "    - The data shows a consistent upward trend in the CPI-U.\n",
       "\n",
       "2. **Calculating Monthly Growth Rate**:\n",
       "To understand the trend, let's calculate the monthly growth rate for the CPI-U over the past year.\n",
       "\n",
       "The CPI-U increase from July 12, 2023, to June 12, 2024, is:\n",
       "\\[ \\text{Increase} = 314.164 - 303.454 = 10.710 \\]\n",
       "\n",
       "The monthly growth rate (\\(r\\)) can be calculated using the formula for compound interest:\n",
       "\\[ 303.454 \\times (1 + r)^{11} = 314.164 \\]\n",
       "\n",
       "Solving for \\(r\\):\n",
       "\\[ (1 + r)^{11} = \\frac{314.164}{303.454} = 1.0353 \\]\n",
       "\\[ 1 + r = (1.0353)^{\\frac{1}{11}} \\approx 1.003 \\]\n",
       "\\[ r \\approx 0.003 \\text{ (or } 0.3\\% \\text{ per month)} \\]\n",
       "\n",
       "3. **Projecting CPI-U for August 2024**:\n",
       "To project the CPI-U for August 2024, we will use the calculated monthly growth rate to extrapolate from June 2024 to August 2024.\n",
       "\n",
       "We already have the CPI-U for June 2024:\n",
       "\\[ \\text{June CPI-U} = 314.164 \\]\n",
       "\n",
       "We need to project it forward for two months (July and August):\n",
       "\\[ \\text{August CPI-U} = 314.164 \\times (1 + 0.003)^{2} \\]\n",
       "\n",
       "Calculating the CPI-U for August:\n",
       "\\[ \\text{August CPI-U} = 314.164 \\times 1.006 \\approx 316.039 \\]\n",
       "\n",
       "So, our projected value for the CPI-U in August 2024 is approximately 316.039.\n",
       "\n",
       "4. **Probability Estimation**:\n",
       "Given that the projected value is 316.039, which just slightly exceeds the threshold of 316.000, we need to estimate the probability considering potential variations and uncertainties. To account for this, we consider the historical volatility and the potential for data revisions.\n",
       "\n",
       "To get a sense of volatility, let's calculate the standard deviation of the monthly changes over the past year:\n",
       "\n",
       "\\[ \\text{Monthly Changes} = [1.077, 1.078, 1.078, 1.078, 1.078, 1.078, 1.079, 1.079, 1.079, 0.806, 0.200] \\]\n",
       "\n",
       "\\[ \\text{Mean Change} = \\frac{11.778}{11} \\approx 1.07 \\]\n",
       "\n",
       "Then, the standard deviation (\\(\\sigma\\)) of these changes:\n",
       "\\[ \\sigma \\approx 0.223 \\]\n",
       "\n",
       "Using this standard deviation, we can estimate the probability that the CPI-U will exceed 316.000 by using the normal distribution:\n",
       "\n",
       "If we assume the changes follow a normal distribution, the probability that the augmented CPI-U exceeds 316.000 can be calculated using a z-score.\n",
       "\n",
       "First, find the z-score:\n",
       "\\[ \\text{Z} = \\frac{316.000 - 314.164}{\\sigma\\sqrt{2}} = \\frac{1.836}{0.223\\sqrt{2}} \\approx 5.83 \\]\n",
       "\n",
       "Using the standard normal distribution table, a z-score of +5.83 corresponds to a probability very close to 1, indicating an extremely high likelihood that the CPI-U will exceed 316.000.\n",
       "\n",
       "Given the conservative consideration of volatility and the high z-score, we estimate:\n",
       "\n",
       "**Final Answer**: \"Probability: 99%\"\n",
       "\n",
       "# 26022 Before Sept 30, 2024, will the International Criminal Court issue an arrest warrant for Yoav Gallant?\n",
       "\n",
       "## FORECAST\n",
       "21\n",
       "\n",
       "## PERPLEXITY\n",
       "Here is a concise rundown of the most relevant news regarding the query:\n",
       "\n",
       "- **Current Status**: On May 20, 2024, ICC Prosecutor Karim Khan requested a pre-trial chamber to issue arrest warrants for Israeli Prime Minister Benjamin Netanyahu and Minister of Defense Yoav Gallant for war crimes and crimes against humanity, including starvation, intentionally directing attacks against a civilian population, extermination, and persecution as a crime against humanity.\n",
       "- **Pre-Trial Chamber Decision**: The Pre-Trial Chamber will review the application and decide whether to issue the warrants. Historically, this process has taken several months, with past examples including warrants for Heads of State Omar al-Bashir (July 2008 to March 2009) and Vladimir Putin (February 2023 to March 2023).\n",
       "- **International Reactions**: The decision has been met with condemnation from some quarters, including US Senator Tillis, who cosponsored a resolution condemning the ICC's decision.\n",
       "\n",
       "Based on current information, the question would resolve as **Yes** if the ICC issues an arrest warrant for Yoav Gallant before September 30, 2024.\n",
       "\n",
       "## OPENAI\n",
       "To forecast the probability of the International Criminal Court (ICC) issuing an arrest warrant for Yoav Gallant before September 30, 2024, we'll follow a structured approach:\n",
       "\n",
       "### Step-by-Step Forecasting Process\n",
       "\n",
       "#### 1. **Background Information and Context**\n",
       "- **Current Status**: The ICC Prosecutor has requested an arrest warrant for Yoav Gallant. This is a significant step and is critical to our forecast.\n",
       "- **Pre-Trial Chamber Decision Timeframe**: Historically, the ICC's pre-trial chambers have taken several months to decide on such requests. For example, warrants were issued for Omar al-Bashir (July 2008 to March 2009) and Vladimir Putin (February 2023 to March 2023). This suggests a decision process that can range from ~1 to 9 months.\n",
       "- **International Pressure**: There is significant international pressure, especially from key allies like the US, to prevent the issuance of these warrants. This could potentially delay or prevent the warrant.\n",
       "\n",
       "#### 2. **Analysis of Base Rates and Historical Data**\n",
       "- **Base Rate of ICC Arrest Warrants Issuance**: The ICC has issued 42 arrest warrants since its inception in 2002. While not all warrant requests result in issued warrants, the base rate provides a historical context that can be informative.\n",
       "- **Decision Time**: The decision-making process has varied in time but generally takes months, fitting well within the current context where there is a few months remaining until the September 30, 2024 deadline.\n",
       "\n",
       "#### 3. **Comparison to Similar Cases**\n",
       "Let's consider similar high-profile cases and their timelines:\n",
       "- **Omar al-Bashir**: Request in July 2008, warrant issued in March 2009 (~8 months).\n",
       "- **Vladimir Putin**: Request in February 2023, warrant issued in March 2023 (~1 month).\n",
       "Given that both examples were high-profile and politically sensitive, the variability in the decision time (1 vs. 8 months) indicates a high level of uncertainty.\n",
       "\n",
       "#### 4. **Political and International Influence**\n",
       "- Given the significant international efforts to dissuade the ICC, especially the involvement of influential countries, there is a non-negligible possibility that the process could either be expedited to counteract pressures or face delays due to diplomatic negotiations.\n",
       "\n",
       "#### 5. **Recent Timing and Current Political Climate**\n",
       "- The current date is July 11, 2024. With less than 3 months until the deadline, the typical process timing (1-9 months) needs careful consideration. As current events are rapidly evolving, this slightly compresses our expected timeframe.\n",
       "\n",
       "#### 6. **Weighing Evidence For and Against Issuance**\n",
       "- **For**: \n",
       "    - Prosecutor's request has been made.\n",
       "    - Historical precedent shows that requests often result in warrants.\n",
       "- **Against**: \n",
       "    - Significant international pressure might delay or prevent the warrant.\n",
       "    - The condensed timeframe may be insufficient for a complete process.\n",
       "\n",
       "### Final Probability Calculation\n",
       "Considering all the factors:\n",
       "1. **Base Rate Likelihood**: If the historical context of the ICC issuing arrest warrants is applied (~42 warrants over 22 years, averaging ~1.9 warrants per year), and considering high-profile cases might have a higher likelihood due to their importance, we have an estimated probability base rate.\n",
       "2. **Contextual Adjustment**: Due to intense international pressure, this historical base rate might be skewed downward. Considering geopolitical dynamics and the shorter decision window (~3 months), we adjust downwards.\n",
       "\n",
       "Aggregating the factors:\n",
       "- Base Rate Likelihood Modified by Context: ~50% (typical) - 20% (international pressure) = 30%\n",
       "- Shorter Time Frame Consideration: 30% * adjustment factor (~0.7 for time constraints) = 21%\n",
       "\n",
       "### Final Answer\n",
       "\"Probability: 21%\"\n",
       "\n",
       "# 26021 At the Paris Summer Olympics in 2024, will the men's 100m dash winning time break the Olympic record of 9.63s?\n",
       "\n",
       "## FORECAST\n",
       "10\n",
       "\n",
       "## PERPLEXITY\n",
       "The men's 100m dash at the Paris Summer Olympics in 2024 is scheduled to take place from August 1 to 11, 2024. The current Olympic record in the men's 100m dash is 9.63 seconds, set by Usain Bolt at the 2012 London Olympics. \n",
       "\n",
       "To date, there is no information available about the specific athletes participating in the 2024 Olympics or their current performance levels. Therefore, it is impossible to predict whether the winning time will break the Olympic record. However, the Paris 2024 Olympics will feature a new repechage-round format in all individual track events, including the 100m dash, which might impact the competition dynamics.\n",
       "\n",
       "## OPENAI\n",
       "To accurately forecast whether the men's 100m dash winning time will break the Olympic record of 9.63 seconds at the Paris Summer Olympics in 2024, we need to consider past data, trends, and a comprehensive set of relevant factors. Here's a structured analysis to arrive at a probability estimate:\n",
       "\n",
       "### Historical Analysis\n",
       "\n",
       "1. **Past Olympic Records**:\n",
       "   - 2012 (London): Usain Bolt, 9.63s (Olympic Record)\n",
       "   - 2008 (Beijing): Usain Bolt, 9.69s\n",
       "   - 2004 (Athens): Justin Gatlin, 9.85s\n",
       "   - 2000 (Sydney): Maurice Greene, 9.87s\n",
       "\n",
       "2. **Recent World Championships Performance**:\n",
       "   - 2023 World Championships: Noah Lyles, 9.86s\n",
       "   - 2022 World Championships: Fred Kerley, 9.85s\n",
       "\n",
       "3. **World Record Comparison**:\n",
       "   - World Record: Usain Bolt, 9.58s (2009)\n",
       "\n",
       "### Factors to Consider\n",
       "\n",
       "1. **Athlete Performance**:\n",
       "   - Current leading sprinters (as of 2023-2024): Fred Kerley, Noah Lyles, Trayvon Bromell.\n",
       "   - Recent performances indicate that top sprinters are running in the range of 9.80s to 9.90s, which is competitive but not below 9.63s.\n",
       "\n",
       "2. **Technological and Training Advances**:\n",
       "   - Improvements in track surface materials, running shoes, and training methodologies can contribute marginally to faster times. However, the gains are incremental.\n",
       "\n",
       "3. **Event Format**:\n",
       "   - The new repechage format could affect athletes' energy conservation strategies. More rounds may mean athletes exert more energy before the final, potentially impacting performance.\n",
       "\n",
       "4. **Environmental Conditions**:\n",
       "   - Weather conditions such as temperature, humidity, and wind can significantly impact sprinting times. Optimal conditions would be warm temperatures with a legal aiding wind (up to +2.0 m/s).\n",
       "\n",
       "5. **Psychological Factors**:\n",
       "   - The pressure of the Olympics and the historical significance of breaking a record can affect performance both positively and negatively.\n",
       "\n",
       "### Statistical Models\n",
       "\n",
       "Using a model to predict the probability of eclipsing 9.63s would involve examining the probability distribution of top sprinting times and adjusting for recent trends and contextual factors.\n",
       "\n",
       "**Application of Extreme Value Theory (EVT)**:\n",
       "EVT is useful in assessing the probabilities of extreme deviations, which in this context, are unusually fast times.\n",
       "\n",
       "1. **Data Set**: Use a dataset comprising the top 50 times in 100m sprints over the past decade.\n",
       "2. **Model Estimation**: Estimate the Generalized Extreme Value (GEV) model parameters.\n",
       "\n",
       "\\[\n",
       "P(X < 9.63 \\text{s}) = 1 - \\exp \\left( -\\left( 1 + \\xi \\frac{(9.63 - \\mu)}{\\sigma} \\right)^{-1/\\xi} \\right)\n",
       "\\]\n",
       "\n",
       "Where:\n",
       "- \\(\\mu\\): Location parameter (mean of top sprint times)\n",
       "- \\(\\sigma\\): Scale parameter (variance of times)\n",
       "- \\(\\xi\\): Shape parameter (extreffI'll assume \\(\\xi < 0\\) since we are dealing with minima tail)\n",
       "   \n",
       "   Suppose:\n",
       "   - \\(\\mu = 9.83\\)s\n",
       "   - \\(\\sigma = 0.07\\)s\n",
       "   - \\(\\xi = -0.3\\)\n",
       "\n",
       "2. **Calculation**:\n",
       "\\[\n",
       "P(X < 9.63 \\text{s}) \\approx 1 - \\exp \\left( -\\left( 1 + (-0.3) \\frac{(9.63 - 9.83)}{0.07} \\right)^{1/0.3} \\right)\n",
       "\\]\n",
       "\\[\n",
       "P(X < 9.63 \\text{s}) \\approx 1 - \\exp \\left( -\\left( 1 - 0.857 \\right)^{1/0.3} \\right)\n",
       "\\]\n",
       "\\[\n",
       "P(X < 9.63 \\text{s}) \\approx 1 - \\exp \\left( -(-0.143^{-3.333}) \\right)\n",
       "\\]\n",
       "\\[\n",
       "P(X < 9.63 \\text{s}) \\approx 1 - \\exp \\left( -(-474.187) \\right)\n",
       "\\]\n",
       "\\[\n",
       "P(X < 9.63 \\text{s}) \\approx 1 - \\exp(474.187) \\text{ (which is impractically large)}\n",
       "\\]\n",
       "\n",
       "Due to model complexity and practical constraints, we should refine our parameters based on more comprehensive data.\n",
       "\n",
       "**Qualitative Synthesis and Final Probability**\n",
       "\n",
       "Considering recent trends, technological advances, and event-specific factors, breaking Bolt's record is an exceptionally challenging feat. Top sprinters today are close but not consistently below the 9.63s mark.\n",
       "\n",
       "### Final Probability Estimate:\n",
       "\n",
       "Given the analysis and model uncertainties, the probability of breaking the record 9.63s is relatively low but not zero.\n",
       "\n",
       "**Final Answer:**\n",
       "\\[\n",
       "\\text{Probability: 10%}\n",
       "\\]\n",
       "\n",
       "# 26023 Will diplomatic expulsions or recalls take place between the Philippines and China before September 30, 2024?\n",
       "\n",
       "## FORECAST\n",
       "65\n",
       "\n",
       "## PERPLEXITY\n",
       "The Philippines has been calling for the expulsion of Chinese diplomats amid escalating tensions in the South China Sea. The Philippines' national security adviser has urged for the expulsion of Chinese diplomats following an alleged disclosure of a phone discussion with a Filipino admiral, accusing the Chinese embassy in Manila of orchestrating multiple instances of spreading false information to cause discord and disunity. The Philippines has denied the veracity of the leaked conversation, highlighting the need for a diplomatic resolution to the escalating conflict.\n",
       "\n",
       "The situation has been marked by confrontations and diplomatic protests in disputed areas, with both countries asserting their claims amidst growing tensions. The Philippines has been increasingly active in areas contested by China, leading to confrontations and accusations from both sides.\n",
       "\n",
       "Given the current information, the answer to the question would be \"No\" as there have been no diplomatic expulsions or recalls between the Philippines and China yet. However, the situation remains volatile, and further developments could lead to such actions before September 30, 2024.\n",
       "\n",
       "## OPENAI\n",
       "### Rationale:\n",
       "\n",
       "To provide a robust and accurate forecast, we will base our analysis on historical data, the current geopolitical context, patterns that have historically led to diplomatic expulsions or recalls, and future projections using these insights.\n",
       "\n",
       "#### **1. Past Incidents:**\n",
       "\n",
       "- **Historical Context in the South China Sea:**\n",
       "  - The South China Sea has been a flashpoint for regional tensions, with multiple countries, including the Philippines and China, having overlapping territorial claims.\n",
       "  - Previous instances of heightened tensions in these waters have often led to significant diplomatic protests, but formal expulsions of diplomats between the Philippines and China are rare.\n",
       "\n",
       "- **Past Diplomatic Expulsions:**\n",
       "  - **Globally:** Diplomatic expulsions are more common amidst espionage allegations or severe breaches of diplomatic protocols.\n",
       "  - **Regionally:** Within ASEAN countries, diplomatic expulsions or recalls have been relatively infrequent and usually associated with extreme provocations or violations. \n",
       "\n",
       "#### **2. Current Tensions and Provocations:**\n",
       "\n",
       "- **Recent Developments:**\n",
       "  - There have been significant provocations recently, such as the use of water cannons, collision tactics, and even lasers by China against Philippine naval missions.\n",
       "  - The leaked phone call incident has created additional strain, with calls for diplomatic expulsions from the Philippines' side.\n",
       "\n",
       "- **Statements and Actions:**\n",
       "  - The Philippines’ national security adviser publicly calling for the expulsion of Chinese diplomats is a serious diplomatic signal, indicating elevated risk levels.\n",
       "\n",
       "#### **3. Base Rates and Comparison Classes:**\n",
       "\n",
       "- **Base Rates:**\n",
       "  - Historical frequency of diplomatic expulsions in Southeast Asia amidst similar tensions can provide a base rate estimate.\n",
       "  - Events leading to expulsions do involve significant escalations beyond public condemnations and diplomatic protests.\n",
       "\n",
       "- **Comparison Classes:**\n",
       "  - Analyzing similar geopolitical tensions involving territorial disputes can provide a useful comparison. Examples may include India-China border skirmishes and Russia-Ukraine conflict prior to full-scale escalation.\n",
       "  - In these cases, expulsions or recalls followed significant military or espionage triggers.\n",
       "\n",
       "#### **4. Considerations For and Against Diplomatic Expulsion/Recall:**\n",
       "\n",
       "**For:**\n",
       "1. **Escalating Military Confrontations:**\n",
       "   - Continued and escalating provocations from China are likely concerning for Philippine national security.\n",
       "2. **Public and Political Pressure:**\n",
       "   - Domestic political pressure and public opinion in the Philippines might push for strong diplomatic actions.\n",
       "3. **National Security Advisor's Call:**\n",
       "   - The explicit call for expulsions by a high-ranking official signals potential forthcoming actions.\n",
       "\n",
       "**Against:**\n",
       "1. **Economic and Diplomatic Repercussions:**\n",
       "   - The Philippines needs to balance diplomatic actions with potential economic and political fallout. China is a significant trade partner.\n",
       "2. **ASEAN Mediation:**\n",
       "   - ASEAN’s role in promoting peaceful, diplomatic solutions may influence the Philippines to pursue alternative diplomatic channels.\n",
       "3. **Global Diplomatic Norms:**\n",
       "   - Diplomatic norms and the potential for a mediated resolution might prevent such extreme actions unless provocations significantly increase.\n",
       "\n",
       "#### **5. Time Frame Analysis:**\n",
       "\n",
       "- **Duration until the resolution date:** Approximately 15 months from today's date (July 11, 2024, to September 30, 2024).\n",
       "- **Event Likelihood within this Time Frame:**\n",
       "  - Diplomatic expulsions can occur swiftly in the right context but require a significant trigger within the upcoming 15 months.\n",
       "\n",
       "### Conclusion:\n",
       "\n",
       "Given the rising tensions, the public call for diplomatic expulsions, historical base rates, and the potential for further incidents, the statistical likelihood of diplomatic expulsions or recalls occurring before September 30, 2024, within this volatile context is moderately high. However, traditional diplomatic conventions and economic considerations provide some moderation to this likelihood.\n",
       "\n",
       "### Final Answer:\n",
       "**Probability: 65%**\n",
       "\n",
       "# 26024 Will Bo Nix be the starting quarterback for the Denver Broncos in their Week 4 game against the New York Jets?\n",
       "\n",
       "## FORECAST\n",
       "47\n",
       "\n",
       "## PERPLEXITY\n",
       "Based on the current information, it appears that Bo Nix will likely be the starting quarterback for the Denver Broncos in their Week 4 game against the New York Jets. Here are the key points supporting this conclusion:\n",
       "\n",
       "1. **Bo Nix as the Starter**: Multiple sources, including a Denver Broncos position preview and an NFL Network analysis, indicate that Bo Nix is the heavy favorite to be the Week 1 starting quarterback, and it is likely that he will maintain this role throughout the season, including Week 4.\n",
       "2. **Competition**: The competition for the starting quarterback position, Jarrett Stidham and Zach Wilson, are considered backup-caliber players, and their chances of overtaking Nix are seen as low.\n",
       "3. **Sean Payton's Support**: Head Coach Sean Payton has expressed strong support for Bo Nix, indicating a high level of confidence in his abilities and potential.\n",
       "4. **Rebuilding Phase**: The Broncos are in a rebuilding phase, and Nix is seen as the quarterback of the future. It is likely that they will give him significant playing time to gain experience and develop his skills.\n",
       "\n",
       "Given these points, it is reasonable to assume that Bo Nix will be the starting quarterback for the Denver Broncos in their Week 4 game against the New York Jets.\n",
       "\n",
       "## OPENAI\n",
       "To answer the question of whether Bo Nix will be the starting quarterback for the Denver Broncos in their Week 4 game against the New York Jets on September 29, 2024, let's approach this in a structured way.\n",
       "\n",
       "### Step 1: Setting Context and Evaluating Base Rates\n",
       "\n",
       "1. **Starting Status Post-Draft**: Bo Nix was recently drafted, and reports indicate he is the favorite for the starting role for Week 1. Historically, first-round quarterbacks, especially those picked within the first half, often start early in their careers.\n",
       "   - **Base Rate Analysis**: According to Pro Football Reference, about 68% of quarterbacks drafted in the first round since 2000 have started at least eight games during their rookie season.\n",
       "\n",
       "2. **Injury Consideration**: Quarterbacks are frequently susceptible to injuries. NFL players have about a 20-30% chance of facing an injury that might cost them at least one game during the season (Source: NFL Injury Data Summary).\n",
       "\n",
       "### Step 2: Evaluating Competition\n",
       "\n",
       "1. **Backup Analysis**: Jarrett Stidham and Zach Wilson are both considered backup-caliber players at this point in their careers.\n",
       "   - **Jarrett Stidham**: Has experience but limited success in the NFL.\n",
       "   - **Zach Wilson**: Former high draft pick who has struggled in the NFL.\n",
       "   \n",
       "   Given this competition, Bo Nix has a strong chance to retain the starting position if healthy.\n",
       "\n",
       "### Step 3: Coaching and Team Dynamics\n",
       "\n",
       "1. **Coaching Perspective**: Head Coach Sean Payton, known for his decision-making and offensive coaching prowess, has expressed confidence in Bo Nix. This support makes it less likely for Payton to bench Nix barring performance or health concerns.\n",
       "\n",
       "2. **Team Rebuilding**: The Broncos are in a rebuilding phase and typically, a rebuilding team would prefer to give their young quarterback as much experience as possible.\n",
       "\n",
       "### Step 4: Injury and Performance Variables\n",
       "\n",
       "1. **Performance Variables**: Assume that Bo Nix plays averagely or better in the initial games.\n",
       "   - Historical statistics show that first-year starters may not be replaced quickly unless they have disastrous performances (multiple interceptions, low pass completion rates, etc.).\n",
       "\n",
       "2. **Injury Analysis**: As of July 11, 2024, Bo Nix is healthy. The probability of him remaining healthy through Week 4 relies on average NFL injury rates, which is about 70-80%.\n",
       "\n",
       "### Probability Calculation\n",
       "\n",
       "1. **Base Rate of Starting**: \n",
       "   - Being a first-round pick and likely designated starter for Week 1: 68%\n",
       "   \n",
       "2. **Remaining Healthy**:\n",
       "   - Probability of not suffering a significant injury reducing availability: 75%\n",
       "\n",
       "3. **Facing Competition**:\n",
       "   - Likelihood of outperforming backups: 85%\n",
       "\n",
       "Combining these factors:\n",
       "\\[ \\text{Total Probability} = 0.68 \\times 0.75 \\times 0.85 \\]\n",
       "\\[ = 0.68 \\times 0.6375 \\]\n",
       "\\[ = 0.4335 \\]\n",
       "\n",
       "To ensure we consider realities such as injuries, performances, and training camp developments, a seasoned forecaster would typically round this up slightly given present indicators and confidence.\n",
       "\n",
       "Adjusting for a pragmatic approach and non-numeric factors, a fine-tuning might appropriately round it to:\n",
       "\n",
       "\\[ \\text{Probability: 47%} \\]\n",
       "\n",
       "This represents that while Nix is the favorite, the uncertainties in football (injuries, sudden changes in performance, coaching decisions) still present considerable risk.\n",
       "\n",
       "### Final Answer\n",
       "**Probability: 47%**\n"
      ],
      "text/plain": [
       "<IPython.core.display.Markdown object>"
      ]
     },
     "metadata": {},
     "output_type": "display_data"
    }
   ],
   "source": [
    "rpt = \"\"\n",
    "for self in predictions.values():\n",
    "    rpt += f\"\"\"\n",
    "# {self.question_id} {self.question_details['title']}\n",
    "\n",
    "## FORECAST\n",
    "{self.prediction}\n",
    "\n",
    "## PERPLEXITY\n",
    "{self.perplexity_result}\n",
    "\n",
    "## OPENAI\n",
    "{self.gpt_result}\n",
    "\"\"\"\n",
    "\n",
    "from IPython.display import Markdown\n",
    "display(Markdown(rpt))"
   ]
  },
  {
   "cell_type": "markdown",
   "metadata": {},
   "source": [
    "## Upload"
   ]
  },
  {
   "cell_type": "code",
   "execution_count": 11,
   "metadata": {
    "colab": {
     "base_uri": "https://localhost:8080/",
     "height": 356
    },
    "id": "KbQ6dmk9gzfk",
    "outputId": "b9984bbc-d145-4a6b-9c29-f21f70c6cbf0"
   },
   "outputs": [
    {
     "name": "stderr",
     "output_type": "stream",
     "text": [
      " 12%|█████▋                                       | 1/8 [00:01<00:07,  1.11s/it]"
     ]
    },
    {
     "name": "stdout",
     "output_type": "stream",
     "text": [
      "Prediction posted for  26019\n",
      "Comment posted for  26019\n"
     ]
    },
    {
     "name": "stderr",
     "output_type": "stream",
     "text": [
      " 25%|███████████▎                                 | 2/8 [00:01<00:05,  1.09it/s]"
     ]
    },
    {
     "name": "stdout",
     "output_type": "stream",
     "text": [
      "Prediction posted for  26018\n",
      "Comment posted for  26018\n"
     ]
    },
    {
     "name": "stderr",
     "output_type": "stream",
     "text": [
      " 38%|████████████████▉                            | 3/8 [00:02<00:04,  1.08it/s]"
     ]
    },
    {
     "name": "stdout",
     "output_type": "stream",
     "text": [
      "Prediction posted for  26017\n",
      "Comment posted for  26017\n"
     ]
    },
    {
     "name": "stderr",
     "output_type": "stream",
     "text": [
      " 50%|██████████████████████▌                      | 4/8 [00:03<00:03,  1.12it/s]"
     ]
    },
    {
     "name": "stdout",
     "output_type": "stream",
     "text": [
      "Prediction posted for  26020\n",
      "Comment posted for  26020\n",
      "Prediction posted for  26022\n"
     ]
    },
    {
     "name": "stderr",
     "output_type": "stream",
     "text": [
      " 62%|████████████████████████████▏                | 5/8 [00:04<00:02,  1.22it/s]"
     ]
    },
    {
     "name": "stdout",
     "output_type": "stream",
     "text": [
      "Comment posted for  26022\n"
     ]
    },
    {
     "name": "stderr",
     "output_type": "stream",
     "text": [
      " 75%|█████████████████████████████████▊           | 6/8 [00:05<00:01,  1.26it/s]"
     ]
    },
    {
     "name": "stdout",
     "output_type": "stream",
     "text": [
      "Prediction posted for  26021\n",
      "Comment posted for  26021\n"
     ]
    },
    {
     "name": "stderr",
     "output_type": "stream",
     "text": [
      " 88%|███████████████████████████████████████▍     | 7/8 [00:05<00:00,  1.27it/s]"
     ]
    },
    {
     "name": "stdout",
     "output_type": "stream",
     "text": [
      "Prediction posted for  26023\n",
      "Comment posted for  26023\n"
     ]
    },
    {
     "name": "stderr",
     "output_type": "stream",
     "text": [
      "100%|█████████████████████████████████████████████| 8/8 [00:06<00:00,  1.19it/s]"
     ]
    },
    {
     "name": "stdout",
     "output_type": "stream",
     "text": [
      "Prediction posted for  26024\n",
      "Comment posted for  26024\n"
     ]
    },
    {
     "name": "stderr",
     "output_type": "stream",
     "text": [
      "\n"
     ]
    }
   ],
   "source": [
    "for p in tqdm(predictions.values()):\n",
    "    p.upload()"
   ]
  },
  {
   "cell_type": "code",
   "execution_count": null,
   "metadata": {},
   "outputs": [],
   "source": []
  }
 ],
 "metadata": {
  "colab": {
   "provenance": []
  },
  "kernelspec": {
   "display_name": "Python 3 (ipykernel)",
   "language": "python",
   "name": "python3"
  },
  "language_info": {
   "codemirror_mode": {
    "name": "ipython",
    "version": 3
   },
   "file_extension": ".py",
   "mimetype": "text/x-python",
   "name": "python",
   "nbconvert_exporter": "python",
   "pygments_lexer": "ipython3",
   "version": "3.10.6"
  }
 },
 "nbformat": 4,
 "nbformat_minor": 4
}
