{
 "cells": [
  {
   "cell_type": "markdown",
   "metadata": {},
   "source": [
    "# 000 Forecasting Bot"
   ]
  },
  {
   "cell_type": "code",
   "execution_count": 1,
   "metadata": {},
   "outputs": [],
   "source": [
    "%load_ext autoreload\n",
    "%autoreload 2"
   ]
  },
  {
   "cell_type": "code",
   "execution_count": 2,
   "metadata": {},
   "outputs": [],
   "source": [
    "from IFP import IFP, list_questions"
   ]
  },
  {
   "cell_type": "code",
   "execution_count": 3,
   "metadata": {},
   "outputs": [],
   "source": [
    "ifps = list_questions()['results']"
   ]
  },
  {
   "cell_type": "code",
   "execution_count": 4,
   "metadata": {},
   "outputs": [
    {
     "data": {
      "text/plain": [
       "[28334, 28335, 28336]"
      ]
     },
     "execution_count": 4,
     "metadata": {},
     "output_type": "execute_result"
    }
   ],
   "source": [
    "today_ids = list(sorted([x['id'] for x in ifps])) if ifps else [27238, 27239, 27240, 27241]\n",
    "today_ids"
   ]
  },
  {
   "cell_type": "code",
   "execution_count": 5,
   "metadata": {},
   "outputs": [],
   "source": [
    "from Forecaster import Forecaster"
   ]
  },
  {
   "cell_type": "code",
   "execution_count": 6,
   "metadata": {},
   "outputs": [],
   "source": [
    "forecasters = [Forecaster({id: IFP(id) for id in today_ids}) for i in range(5)]"
   ]
  },
  {
   "cell_type": "code",
   "execution_count": 7,
   "metadata": {},
   "outputs": [
    {
     "name": "stdout",
     "output_type": "stream",
     "text": [
      "MODEL DOMAIN\n",
      "28334 Will there be a deadly attack within Israel causing at least five deaths before October 1, 2024?\n",
      "Civil unrest\n",
      "28335 Will any of the Waltons be worth $100 billion or more on September 30, 2024, according to Forbes?\n",
      "Market cap\n",
      "28336 Will Prince Tom Iseghohi win the September 21, 2024 Edo state gubernatorial election in Nigeria?\n",
      "Election outcome\n",
      "CORRELATOR\n",
      "|Attack in Israel|28334|Will there be a deadly attack within Israel causing at least five deaths before October 1, 2024?|\n",
      "|Net Worth of Waltons|28335|Will any of the Waltons be worth $100 billion or more on September 30, 2024, according to Forbes?|\n",
      "|Edo State Election|28336|Will Prince Tom Iseghohi win the September 21, 2024 Edo state gubernatorial election in Nigeria?|\n",
      "NEWS\n",
      "ASKING\n",
      "Researching Will any of the Waltons be worth $100 billion or more on September 30, 2024, according to Forbes?\n",
      "ALL\n",
      "A 'buy-and-hold' investor who invested $10,000 in Johnson & Johnson (JNJ) on September 20, 2004, would have seen their investment grow to $50,498.45 by September 18, 2024, with an annualized rate of return of 8.43%. This is due to a combination of share price change and dividend reinvestment. The company paid investors a total of $58.17/share in dividends over the 20 holding period. The current yield of JNJ is approximately 2.99%, and the yield on cost is 5.16%. As Warren Buffett said, 'Someone's sitting in the shade today because someone planted a tree a long time ago.' This investment result is a testament to the power of long-term investing and the importance of considering a 20-year holding period when investing in stocks.\n",
      "saved asknews_for_question/28335.json\n",
      "ASKING\n",
      "Researching Will there be a deadly attack within Israel causing at least five deaths before October 1, 2024?\n",
      "ALL\n",
      "Israel has bombed two more homes in Gaza, including one in the ez-Zuhur neighborhood of Refah city, where two Palestinians were killed. This comes as part of ongoing attacks in Gaza, where 41,272 Palestinians have been killed, including 16,795 children and 11,378 women, and 95,551 injured since October 7. The Israeli military has also targeted hospitals and educational institutions, causing widespread destruction and leaving thousands of people trapped under the rubble. As reported by the Palestinian Civil Defense, six Palestinians were killed in the 'Huveyc' family home in Han Yunus city, and their bodies were recovered by rescue teams. Israel's attacks on Gaza have been ongoing, with the country's military targeting civilians and civilian infrastructure, including homes, hospitals, and schools.\n",
      "saved asknews_for_question/28334.json\n",
      "ASKING\n",
      "Researching Will Prince Tom Iseghohi win the September 21, 2024 Edo state gubernatorial election in Nigeria?\n",
      "ALL\n",
      "The upcoming Edo State gubernatorial election on September 21st, 2024, is expected to be a contentious one, with Governor Godwin Obaseki facing off against his former friend and ally, Adams Oshiomhole, who is now backed by President Bola Tinubu and the All Progressives Congress (APC). Obaseki has declared the election a 'do-or-die' affair, citing the APC's efforts to manipulate the electoral process and undermine his chances of winning. The APC has been accused of using its control of the Independent National Electoral Commission (INEC), the Police, and the Judiciary to rig the election. Obaseki and his party, the Peoples Democratic Party (PDP), have refused to sign the peace accord, and the Governor has warned that he will not go down without a fight. The election is seen as a test of the APC's ability to manipulate the electoral process and undermine democracy in Nigeria. Obaseki has urged the international community to observe the election and hold the APC accountable for any irregularities. The PDP and Labour Party have called for public protests and rallies to raise awareness about the potential rigging of the election. The people of Edo State are being urged to exercise their right to vote and to demand that their votes count.\n",
      "saved asknews_for_question/28336.json\n",
      "RATES\n",
      "RATES Net Worth of Waltons {'Net Worth of Waltons': \"**1. Today's date:** 2024-09-19  \\n**2. End date of the question:** 2024-09-30  \\n**3. Time in days D:** 11 days  \\n**4. Specific date the event is most likely to occur:** Based on the current information, it's uncertain if any new events will significantly change the net worth of Alice, Jim, or Rob Walton within the next 11 days. Large fluctuations in net worth over such a short period are rare without extraordinary events.  \\n**5. Likely event date is before, or on or after the question end date:** Alice Walton's net worth is closest to $100 billion but current trends suggest she will not reach this threshold by the end date. Therefore, the event is less likely to occur **on or before** the end date (September 30, 2024).\", 'Attack in Israel': None, 'Edo State Election': None}\n",
      "RATES Attack in Israel {'Net Worth of Waltons': \"**1. Today's date:** 2024-09-19  \\n**2. End date of the question:** 2024-09-30  \\n**3. Time in days D:** 11 days  \\n**4. Specific date the event is most likely to occur:** Based on the current information, it's uncertain if any new events will significantly change the net worth of Alice, Jim, or Rob Walton within the next 11 days. Large fluctuations in net worth over such a short period are rare without extraordinary events.  \\n**5. Likely event date is before, or on or after the question end date:** Alice Walton's net worth is closest to $100 billion but current trends suggest she will not reach this threshold by the end date. Therefore, the event is less likely to occur **on or before** the end date (September 30, 2024).\", 'Attack in Israel': \"1. Today's date: 2024-09-19\\n2. End date of the question: 2024-10-01\\n3. Time in days (D) from today to end date: 12 days\\n4. The specific date at which the event is most likely to occur: Given the recent deadly rocket attack by Hezbollah on September 18, 2024, and the ongoing high tensions, further deadly attacks could be imminent.\\n5. Likely event date is before the question end date: Yes, considering the attack on September 18, 2024, and the elevated tensions, it is plausible that another deadly attack within Israel causing at least five deaths might occur before October 1, 2024.\", 'Edo State Election': None}\n",
      "RATES Edo State Election {'Net Worth of Waltons': \"**1. Today's date:** 2024-09-19  \\n**2. End date of the question:** 2024-09-30  \\n**3. Time in days D:** 11 days  \\n**4. Specific date the event is most likely to occur:** Based on the current information, it's uncertain if any new events will significantly change the net worth of Alice, Jim, or Rob Walton within the next 11 days. Large fluctuations in net worth over such a short period are rare without extraordinary events.  \\n**5. Likely event date is before, or on or after the question end date:** Alice Walton's net worth is closest to $100 billion but current trends suggest she will not reach this threshold by the end date. Therefore, the event is less likely to occur **on or before** the end date (September 30, 2024).\", 'Attack in Israel': \"1. Today's date: 2024-09-19\\n2. End date of the question: 2024-10-01\\n3. Time in days (D) from today to end date: 12 days\\n4. The specific date at which the event is most likely to occur: Given the recent deadly rocket attack by Hezbollah on September 18, 2024, and the ongoing high tensions, further deadly attacks could be imminent.\\n5. Likely event date is before the question end date: Yes, considering the attack on September 18, 2024, and the elevated tensions, it is plausible that another deadly attack within Israel causing at least five deaths might occur before October 1, 2024.\", 'Edo State Election': \"1. Today's date: 2024-09-19\\n2. End (measurement) date: 2024-09-21\\n3. Time in days D: 2 days\\n4. Specific date at which the event is most likely to occur: September 21, 2024\\n5. The likely event date is **on or after** the question end date\"}\n",
      "FORECASTING Net Worth of Waltons\n",
      "28335 97 Based on the recent trends and the fact that both Jim and Rob Walton have already surpassed the $100 billion mark according to multiple sources, it is highly likely they will still be worth $100 billion or more on September 30, 2024. Alice Walton is also very close to the $100 billion threshold, making it probable that at least Jim and Rob will remain in that category.\n",
      "FORECASTING Attack in Israel\n",
      "28334 65 Given the recent attack on September 18, 2024, by Hezbollah in the Golan Heights, which resulted in the deadliest attack on Israeli civilians since the start of the Gaza War this month, and the ongoing high tensions in the region, it is plausible that another deadly attack causing at least five deaths could occur before October 1, 2024. The pattern of retaliatory attacks and the apparent escalation between Israel and its adversaries such as Hezbollah and Hamas indicates a high likelihood of another significant incident within this period.\n",
      "FORECASTING Edo State Election\n",
      "28336 1 Prince Tom Iseghohi has stepped down from the race and endorsed Senator Monday Okpebholo of the All Progressives Congress (APC). Therefore, it is effectively impossible for him to win the election.\n",
      "MODEL DOMAIN\n",
      "28334 Will there be a deadly attack within Israel causing at least five deaths before October 1, 2024?\n",
      "Military conflict\n",
      "28335 Will any of the Waltons be worth $100 billion or more on September 30, 2024, according to Forbes?\n",
      "Market cap\n",
      "28336 Will Prince Tom Iseghohi win the September 21, 2024 Edo state gubernatorial election in Nigeria?\n",
      "Election outcome\n",
      "CORRELATOR\n",
      "|Deadly Attack in Israel|28334|Will there be a deadly attack within Israel causing at least five deaths before October 1, 2024?|\n",
      "|Walton Family Net Worth|28335|Will any of the Waltons be worth $100 billion or more on September 30, 2024, according to Forbes?|\n",
      "|2024 Edo State Gubernatorial Election|28336|Will Prince Tom Iseghohi win the September 21, 2024 Edo state gubernatorial election in Nigeria?|\n",
      "NEWS\n",
      "ASKING\n",
      "Researching Will Prince Tom Iseghohi win the September 21, 2024 Edo state gubernatorial election in Nigeria?\n",
      "ALL\n",
      "The upcoming Edo State gubernatorial election on September 21st, 2024, is expected to be a contentious one, with Governor Godwin Obaseki facing off against his former friend and ally, Adams Oshiomhole, who is now backed by President Bola Tinubu and the All Progressives Congress (APC). Obaseki has declared the election a 'do-or-die' affair, citing the APC's efforts to manipulate the electoral process and undermine his chances of winning. The APC has been accused of using its control of the Independent National Electoral Commission (INEC), the Police, and the Judiciary to rig the election. Obaseki and his party, the Peoples Democratic Party (PDP), have refused to sign the peace accord, and the Governor has warned that he will not go down without a fight. The election is seen as a test of the APC's ability to manipulate the electoral process and undermine democracy in Nigeria. Obaseki has urged the international community to observe the election and hold the APC accountable for any irregularities. The PDP and Labour Party have called for public protests and rallies to raise awareness about the potential rigging of the election. The people of Edo State are being urged to exercise their right to vote and to demand that their votes count.\n",
      "saved asknews_for_question/28336.json\n",
      "ASKING\n",
      "Researching Will there be a deadly attack within Israel causing at least five deaths before October 1, 2024?\n",
      "ALL\n",
      "Israel has bombed two more homes in Gaza, including one in the ez-Zuhur neighborhood of Refah city, where two Palestinians were killed. This comes as part of ongoing attacks in Gaza, where 41,272 Palestinians have been killed, including 16,795 children and 11,378 women, and 95,551 injured since October 7. The Israeli military has also targeted hospitals and educational institutions, causing widespread destruction and leaving thousands of people trapped under the rubble. As reported by the Palestinian Civil Defense, six Palestinians were killed in the 'Huveyc' family home in Han Yunus city, and their bodies were recovered by rescue teams. Israel's attacks on Gaza have been ongoing, with the country's military targeting civilians and civilian infrastructure, including homes, hospitals, and schools.\n",
      "saved asknews_for_question/28334.json\n",
      "ASKING\n",
      "Researching Will any of the Waltons be worth $100 billion or more on September 30, 2024, according to Forbes?\n",
      "ALL\n",
      "A 'buy-and-hold' investor who invested $10,000 in Johnson & Johnson (JNJ) on September 20, 2004, would have seen their investment grow to $50,498.45 by September 18, 2024, with an annualized rate of return of 8.43%. This is due to a combination of share price change and dividend reinvestment. The company paid investors a total of $58.17/share in dividends over the 20 holding period. The current yield of JNJ is approximately 2.99%, and the yield on cost is 5.16%. As Warren Buffett said, 'Someone's sitting in the shade today because someone planted a tree a long time ago.' This investment result is a testament to the power of long-term investing and the importance of considering a 20-year holding period when investing in stocks.\n",
      "saved asknews_for_question/28335.json\n",
      "RATES\n",
      "RATES 2024 Edo State Gubernatorial Election {'2024 Edo State Gubernatorial Election': \"1. Today's date: 2024-09-19\\n2. The end (measurement) date of the question: 2024-09-21\\n3. The time in days D from today to end date: 2 days\\n4. The specific date at which the event is most likely to occur: 2024-09-21\\n5. Whether the likely event date is before, or on or after the question end date: on the question end date\", 'Deadly Attack in Israel': None, 'Walton Family Net Worth': None}\n",
      "RATES Deadly Attack in Israel {'2024 Edo State Gubernatorial Election': \"1. Today's date: 2024-09-19\\n2. The end (measurement) date of the question: 2024-09-21\\n3. The time in days D from today to end date: 2 days\\n4. The specific date at which the event is most likely to occur: 2024-09-21\\n5. Whether the likely event date is before, or on or after the question end date: on the question end date\", 'Deadly Attack in Israel': \"1. Today's date: 2024-09-19\\n2. End date of the question: 2024-10-01\\n3. Days until end date: 12 days\\n4. Most likely event date: Considering the recent events and high tensions, a deadly attack within Israel causing at least five deaths is likely to occur before October 1, 2024.\\n5. Likely event date is before the question end date\", 'Walton Family Net Worth': None}\n",
      "RATES Walton Family Net Worth {'2024 Edo State Gubernatorial Election': \"1. Today's date: 2024-09-19\\n2. The end (measurement) date of the question: 2024-09-21\\n3. The time in days D from today to end date: 2 days\\n4. The specific date at which the event is most likely to occur: 2024-09-21\\n5. Whether the likely event date is before, or on or after the question end date: on the question end date\", 'Deadly Attack in Israel': \"1. Today's date: 2024-09-19\\n2. End date of the question: 2024-10-01\\n3. Days until end date: 12 days\\n4. Most likely event date: Considering the recent events and high tensions, a deadly attack within Israel causing at least five deaths is likely to occur before October 1, 2024.\\n5. Likely event date is before the question end date\", 'Walton Family Net Worth': \"1. Today's Date: 2024-09-19\\n2. End Date: 2024-09-30\\n3. Time in Days (D): 11 days\\n4. The Specific Date at Which the Event is Most Likely to Occur: Alice Walton’s likelihood of reaching $100 billion or more, as suggested, appears to steadily depend on the fluctuations in Walmart's stock price and other market dynamics. Given the current estimates and with a strong recent increase in value, it is reasonable to infer that she might reach the threshold by ongoing positive trends.\\n5. Whether the Likely Event Date is Before, On, or After the Question End Date: On or after the question end date.\"}\n",
      "FORECASTING 2024 Edo State Gubernatorial Election\n",
      "28336 1 Prince Tom Iseghohi has stepped down and endorsed the All Progressives Congress (APC) candidate, Senator Monday Okpebholo. Given this support withdrawal and his encouraging votes for APC instead, it is virtually impossible for him to win the election.\n",
      "FORECASTING Deadly Attack in Israel\n",
      "28334 95 The tension and frequency of deadly attacks in the region are exceedingly high, notably with the attacks on children in the Golan Heights and the ongoing conflict with Hezbollah. Given the heightened state of hostilities and the recent deadly incidents, a deadly attack within Israel causing at least five deaths before October 1, 2024, seems highly probable.\n",
      "FORECASTING Walton Family Net Worth\n",
      "28335 95 Based on current market trends and reporting, Jim Walton and Rob Walton are already reported to have net worths exceeding $100 billion. Alice Walton is also very close to the threshold with the potential for Walmart's stock performance to boost her net worth further by September 30, 2024. Therefore, it is highly likely that at least one of the Waltons will have a net worth of $100 billion or more on the given date according to Forbes.\n",
      "MODEL DOMAIN\n",
      "28334 Will there be a deadly attack within Israel causing at least five deaths before October 1, 2024?\n",
      "Military conflict\n",
      "28335 Will any of the Waltons be worth $100 billion or more on September 30, 2024, according to Forbes?\n",
      "Market cap\n",
      "28336 Will Prince Tom Iseghohi win the September 21, 2024 Edo state gubernatorial election in Nigeria?\n",
      "Election outcome\n",
      "CORRELATOR\n",
      "|Deadly attack in Israel|28334|Will there be a deadly attack within Israel causing at least five deaths before October 1, 2024?|\n",
      "|Walton family's net worth|28335|Will any of the Waltons be worth $100 billion or more on September 30, 2024, according to Forbes?|\n",
      "|Edo state gubernatorial election|28336|Will Prince Tom Iseghohi win the September 21, 2024 Edo state gubernatorial election in Nigeria?|\n",
      "NEWS\n",
      "ASKING\n",
      "Researching Will any of the Waltons be worth $100 billion or more on September 30, 2024, according to Forbes?\n",
      "ALL\n",
      "A 'buy-and-hold' investor who invested $10,000 in Johnson & Johnson (JNJ) on September 20, 2004, would have seen their investment grow to $50,498.45 by September 18, 2024, with an annualized rate of return of 8.43%. This is due to a combination of share price change and dividend reinvestment. The company paid investors a total of $58.17/share in dividends over the 20 holding period. The current yield of JNJ is approximately 2.99%, and the yield on cost is 5.16%. As Warren Buffett said, 'Someone's sitting in the shade today because someone planted a tree a long time ago.' This investment result is a testament to the power of long-term investing and the importance of considering a 20-year holding period when investing in stocks.\n",
      "saved asknews_for_question/28335.json\n",
      "ASKING\n",
      "Researching Will there be a deadly attack within Israel causing at least five deaths before October 1, 2024?\n",
      "ALL\n",
      "Israel has bombed two more homes in Gaza, including one in the ez-Zuhur neighborhood of Refah city, where two Palestinians were killed. This comes as part of ongoing attacks in Gaza, where 41,272 Palestinians have been killed, including 16,795 children and 11,378 women, and 95,551 injured since October 7. The Israeli military has also targeted hospitals and educational institutions, causing widespread destruction and leaving thousands of people trapped under the rubble. As reported by the Palestinian Civil Defense, six Palestinians were killed in the 'Huveyc' family home in Han Yunus city, and their bodies were recovered by rescue teams. Israel's attacks on Gaza have been ongoing, with the country's military targeting civilians and civilian infrastructure, including homes, hospitals, and schools.\n",
      "saved asknews_for_question/28334.json\n",
      "ASKING\n",
      "Researching Will Prince Tom Iseghohi win the September 21, 2024 Edo state gubernatorial election in Nigeria?\n",
      "ALL\n",
      "The upcoming Edo State gubernatorial election on September 21st, 2024, is expected to be a contentious one, with Governor Godwin Obaseki facing off against his former friend and ally, Adams Oshiomhole, who is now backed by President Bola Tinubu and the All Progressives Congress (APC). Obaseki has declared the election a 'do-or-die' affair, citing the APC's efforts to manipulate the electoral process and undermine his chances of winning. The APC has been accused of using its control of the Independent National Electoral Commission (INEC), the Police, and the Judiciary to rig the election. Obaseki and his party, the Peoples Democratic Party (PDP), have refused to sign the peace accord, and the Governor has warned that he will not go down without a fight. The election is seen as a test of the APC's ability to manipulate the electoral process and undermine democracy in Nigeria. Obaseki has urged the international community to observe the election and hold the APC accountable for any irregularities. The PDP and Labour Party have called for public protests and rallies to raise awareness about the potential rigging of the election. The people of Edo State are being urged to exercise their right to vote and to demand that their votes count.\n",
      "saved asknews_for_question/28336.json\n",
      "RATES\n",
      "RATES Walton family's net worth {\"Walton family's net worth\": \"1. Today's date: 2024-09-19\\n2. End date: 2024-09-30\\n3. Time in days D: 11 days\\n4. Specific event date: As of current estimates, no specific date within the last month indicates upcoming changes in net worth reaching $100 billion by 2024-09-30.\\n5. Likely event date is before, or on or after the question end date: The event of Alice Walton's net worth reaching $100 billion is not likely to happen before or by 2024-09-30, based on current information where her net worth is reported to be $89.1 billion.\", 'Deadly attack in Israel': None, 'Edo state gubernatorial election': None}\n",
      "RATES Deadly attack in Israel {\"Walton family's net worth\": \"1. Today's date: 2024-09-19\\n2. End date: 2024-09-30\\n3. Time in days D: 11 days\\n4. Specific event date: As of current estimates, no specific date within the last month indicates upcoming changes in net worth reaching $100 billion by 2024-09-30.\\n5. Likely event date is before, or on or after the question end date: The event of Alice Walton's net worth reaching $100 billion is not likely to happen before or by 2024-09-30, based on current information where her net worth is reported to be $89.1 billion.\", 'Deadly attack in Israel': \"1. Today's date: 2024-09-19  \\n2. End date of the question: 2024-10-01  \\n3. Time in days D from today to end date: 12 days  \\n4. Specific date at which the event is most likely to occur: Likely already occurred (given the news report of attacks on or before 2024-09-18 in Israel causing multiple deaths)  \\n5. Whether the likely event date is before, or on or after the question end date: Before  \", 'Edo state gubernatorial election': None}\n",
      "RATES Edo state gubernatorial election {\"Walton family's net worth\": \"1. Today's date: 2024-09-19\\n2. End date: 2024-09-30\\n3. Time in days D: 11 days\\n4. Specific event date: As of current estimates, no specific date within the last month indicates upcoming changes in net worth reaching $100 billion by 2024-09-30.\\n5. Likely event date is before, or on or after the question end date: The event of Alice Walton's net worth reaching $100 billion is not likely to happen before or by 2024-09-30, based on current information where her net worth is reported to be $89.1 billion.\", 'Deadly attack in Israel': \"1. Today's date: 2024-09-19  \\n2. End date of the question: 2024-10-01  \\n3. Time in days D from today to end date: 12 days  \\n4. Specific date at which the event is most likely to occur: Likely already occurred (given the news report of attacks on or before 2024-09-18 in Israel causing multiple deaths)  \\n5. Whether the likely event date is before, or on or after the question end date: Before  \", 'Edo state gubernatorial election': \"1. Today's date: 2024-09-19\\n2. End (measurement) date: 2024-09-21\\n3. Time in days (D) from today to end date: 2 days\\n4. The specific date at which the event is most likely to occur: 2024-09-21\\n5. Whether the likely event date is before, or on or after the question end date: On the question end date\"}\n",
      "FORECASTING Walton family's net worth\n",
      "28335 95 Currently, Jim and Rob Walton have net worths reported to be $102.6 billion and $100.4 billion, respectively, and their net worths have remained above $100 billion consistently in recent reports. This trend, along with the fact that Walmart shares have increased significantly over the past year, supports a high likelihood that they will maintain their net worth above $100 billion by September 30, 2024. Given the information, it is highly probable that at least one of the Waltons will be worth $100 billion or more on that date.\n",
      "FORECASTING Deadly attack in Israel\n",
      "28334 99 Given the recent reports of a deadly attack on a football field in the Golan Heights that killed at least 11 children, this event already meets the resolution criteria. Credible reports confirm that an attack within Israel's borders caused the deaths of at least five individuals. Therefore, the probability that there will be a deadly attack within Israel causing at least five deaths before October 1, 2024, is almost certain, as it has already occurred.\n",
      "FORECASTING Edo state gubernatorial election\n",
      "28336 1 Prince Tom Iseghohi has withdrawn from the race and endorsed the APC candidate. Given this withdrawal, he will not win the election.\n",
      "MODEL DOMAIN\n",
      "28334 Will there be a deadly attack within Israel causing at least five deaths before October 1, 2024?\n",
      "Military conflict\n",
      "28335 Will any of the Waltons be worth $100 billion or more on September 30, 2024, according to Forbes?\n",
      "Market cap\n",
      "28336 Will Prince Tom Iseghohi win the September 21, 2024 Edo state gubernatorial election in Nigeria?\n",
      "Election outcome\n",
      "CORRELATOR\n",
      "|Violence in Israel|28334|Will there be a deadly attack within Israel causing at least five deaths before October 1, 2024?|\n",
      "|Walton Family Net Worth|28335|Will any of the Waltons be worth $100 billion or more on September 30, 2024, according to Forbes?|\n",
      "|Edo State Election 2024|28336|Will Prince Tom Iseghohi win the September 21, 2024 Edo state gubernatorial election in Nigeria?|\n",
      "NEWS\n",
      "ASKING\n",
      "Researching Will there be a deadly attack within Israel causing at least five deaths before October 1, 2024?\n",
      "ALL\n",
      "Israel has bombed two more homes in Gaza, including one in the ez-Zuhur neighborhood of Refah city, where two Palestinians were killed. This comes as part of ongoing attacks in Gaza, where 41,272 Palestinians have been killed, including 16,795 children and 11,378 women, and 95,551 injured since October 7. The Israeli military has also targeted hospitals and educational institutions, causing widespread destruction and leaving thousands of people trapped under the rubble. As reported by the Palestinian Civil Defense, six Palestinians were killed in the 'Huveyc' family home in Han Yunus city, and their bodies were recovered by rescue teams. Israel's attacks on Gaza have been ongoing, with the country's military targeting civilians and civilian infrastructure, including homes, hospitals, and schools.\n",
      "saved asknews_for_question/28334.json\n",
      "ASKING\n",
      "Researching Will Prince Tom Iseghohi win the September 21, 2024 Edo state gubernatorial election in Nigeria?\n",
      "ALL\n",
      "The upcoming Edo State gubernatorial election on September 21st, 2024, is expected to be a contentious one, with Governor Godwin Obaseki facing off against his former friend and ally, Adams Oshiomhole, who is now backed by President Bola Tinubu and the All Progressives Congress (APC). Obaseki has declared the election a 'do-or-die' affair, citing the APC's efforts to manipulate the electoral process and undermine his chances of winning. The APC has been accused of using its control of the Independent National Electoral Commission (INEC), the Police, and the Judiciary to rig the election. Obaseki and his party, the Peoples Democratic Party (PDP), have refused to sign the peace accord, and the Governor has warned that he will not go down without a fight. The election is seen as a test of the APC's ability to manipulate the electoral process and undermine democracy in Nigeria. Obaseki has urged the international community to observe the election and hold the APC accountable for any irregularities. The PDP and Labour Party have called for public protests and rallies to raise awareness about the potential rigging of the election. The people of Edo State are being urged to exercise their right to vote and to demand that their votes count.\n",
      "saved asknews_for_question/28336.json\n",
      "ASKING\n",
      "Researching Will any of the Waltons be worth $100 billion or more on September 30, 2024, according to Forbes?\n",
      "ALL\n",
      "A 'buy-and-hold' investor who invested $10,000 in Johnson & Johnson (JNJ) on September 20, 2004, would have seen their investment grow to $50,498.45 by September 18, 2024, with an annualized rate of return of 8.43%. This is due to a combination of share price change and dividend reinvestment. The company paid investors a total of $58.17/share in dividends over the 20 holding period. The current yield of JNJ is approximately 2.99%, and the yield on cost is 5.16%. As Warren Buffett said, 'Someone's sitting in the shade today because someone planted a tree a long time ago.' This investment result is a testament to the power of long-term investing and the importance of considering a 20-year holding period when investing in stocks.\n",
      "saved asknews_for_question/28335.json\n",
      "RATES\n",
      "RATES Violence in Israel {'Violence in Israel': \"1. Today's date: 2024-09-19\\n2. End date: 2024-10-01\\n3. Time in days (D) from today to end date: 12 days\\n4. Most likely event date: Given the recent attack on September 18, 2024, it is reasonable to consider that the likelihood of another deadly attack within Israel meeting the query's criteria before October 1, 2024, is high.\\n5. Likely event date: On or before 2024-10-01\", 'Edo State Election 2024': None, 'Walton Family Net Worth': None}\n",
      "RATES Edo State Election 2024 {'Violence in Israel': \"1. Today's date: 2024-09-19\\n2. End date: 2024-10-01\\n3. Time in days (D) from today to end date: 12 days\\n4. Most likely event date: Given the recent attack on September 18, 2024, it is reasonable to consider that the likelihood of another deadly attack within Israel meeting the query's criteria before October 1, 2024, is high.\\n5. Likely event date: On or before 2024-10-01\", 'Edo State Election 2024': \"1. Today's Date: 2024-09-19\\n2. End Date of the Question: 2024-09-21\\n3. Time in Days (D): 2 days\\n4. Specific Date at which the event is most likely to occur: 2024-09-21\\n5. Whether the likely event date is before, or on or after the question end date: On or after the question end date\", 'Walton Family Net Worth': None}\n",
      "RATES Walton Family Net Worth {'Violence in Israel': \"1. Today's date: 2024-09-19\\n2. End date: 2024-10-01\\n3. Time in days (D) from today to end date: 12 days\\n4. Most likely event date: Given the recent attack on September 18, 2024, it is reasonable to consider that the likelihood of another deadly attack within Israel meeting the query's criteria before October 1, 2024, is high.\\n5. Likely event date: On or before 2024-10-01\", 'Edo State Election 2024': \"1. Today's Date: 2024-09-19\\n2. End Date of the Question: 2024-09-21\\n3. Time in Days (D): 2 days\\n4. Specific Date at which the event is most likely to occur: 2024-09-21\\n5. Whether the likely event date is before, or on or after the question end date: On or after the question end date\", 'Walton Family Net Worth': \"1. Today's date: 2024-09-19\\n2. End date: 2024-09-30\\n3. Time in days (D) from today to end date: 11 days\\n4. The specific date at which the event is most likely to occur: Likely event date is on or after the end date\\n5. Whether the likely event date is before, or on or after the question end date: On or after\"}\n",
      "FORECASTING Violence in Israel\n",
      "28334 95 The recent rocket attack in the Golan Heights, which killed at least 11 children and injured over 20 others, highlights the volatility and the current high level of conflict in the region. Given the ongoing hostility, the high number of recent casualties, and Netanyahu's promise of retaliatory action, it is highly probable that further deadly attacks will occur within Israel before October 1, 2024. Considering these factors, there is a 95% probability of another deadly attack resulting in at least five deaths within this timeframe.\n",
      "FORECASTING Edo State Election 2024\n",
      "28336 1 Prince Tom Iseghohi has stepped down from the gubernatorial race and endorsed the APC candidate, Monday Okpebholo. Given that he is no longer a candidate in the election, it is virtually impossible for him to win the election. Therefore, the probability of him winning is extremely low, practically zero.\n",
      "FORECASTING Walton Family Net Worth\n",
      "28335 85 Given the recent surge in Walmart's stock (53% this year) and their consistent high rankings on wealth lists, it is highly likely that at least one of the Walton family members will have a net worth of $100 billion or more on September 30, 2024. Market trends and strong performance suggest this likelihood, though slight market fluctuations and shifts in stock prices introduce some uncertainty, thus an 85% probability is reasonable.\n",
      "MODEL DOMAIN\n",
      "28334 Will there be a deadly attack within Israel causing at least five deaths before October 1, 2024?\n",
      "Civil unrest\n",
      "28335 Will any of the Waltons be worth $100 billion or more on September 30, 2024, according to Forbes?\n",
      "Market cap\n",
      "28336 Will Prince Tom Iseghohi win the September 21, 2024 Edo state gubernatorial election in Nigeria?\n",
      "Election outcome\n",
      "CORRELATOR\n",
      "|Deadly attack in Israel|28334|Will there be a deadly attack within Israel causing at least five deaths before October 1, 2024?|\n",
      "|Waltons' net worth|28335|Will any of the Waltons be worth $100 billion or more on September 30, 2024, according to Forbes?|\n",
      "|2024 Edo state gubernatorial election|28336|Will Prince Tom Iseghohi win the September 21, 2024 Edo state gubernatorial election in Nigeria?|\n",
      "NEWS\n",
      "ASKING\n",
      "Researching Will Prince Tom Iseghohi win the September 21, 2024 Edo state gubernatorial election in Nigeria?\n",
      "ALL\n",
      "The upcoming Edo State gubernatorial election on September 21st, 2024, is expected to be a contentious one, with Governor Godwin Obaseki facing off against his former friend and ally, Adams Oshiomhole, who is now backed by President Bola Tinubu and the All Progressives Congress (APC). Obaseki has declared the election a 'do-or-die' affair, citing the APC's efforts to manipulate the electoral process and undermine his chances of winning. The APC has been accused of using its control of the Independent National Electoral Commission (INEC), the Police, and the Judiciary to rig the election. Obaseki and his party, the Peoples Democratic Party (PDP), have refused to sign the peace accord, and the Governor has warned that he will not go down without a fight. The election is seen as a test of the APC's ability to manipulate the electoral process and undermine democracy in Nigeria. Obaseki has urged the international community to observe the election and hold the APC accountable for any irregularities. The PDP and Labour Party have called for public protests and rallies to raise awareness about the potential rigging of the election. The people of Edo State are being urged to exercise their right to vote and to demand that their votes count.\n",
      "saved asknews_for_question/28336.json\n",
      "ASKING\n",
      "Researching Will there be a deadly attack within Israel causing at least five deaths before October 1, 2024?\n",
      "ALL\n",
      "Israel has bombed two more homes in Gaza, including one in the ez-Zuhur neighborhood of Refah city, where two Palestinians were killed. This comes as part of ongoing attacks in Gaza, where 41,272 Palestinians have been killed, including 16,795 children and 11,378 women, and 95,551 injured since October 7. The Israeli military has also targeted hospitals and educational institutions, causing widespread destruction and leaving thousands of people trapped under the rubble. As reported by the Palestinian Civil Defense, six Palestinians were killed in the 'Huveyc' family home in Han Yunus city, and their bodies were recovered by rescue teams. Israel's attacks on Gaza have been ongoing, with the country's military targeting civilians and civilian infrastructure, including homes, hospitals, and schools.\n",
      "saved asknews_for_question/28334.json\n",
      "ASKING\n",
      "Researching Will any of the Waltons be worth $100 billion or more on September 30, 2024, according to Forbes?\n",
      "ALL\n",
      "A 'buy-and-hold' investor who invested $10,000 in Johnson & Johnson (JNJ) on September 20, 2004, would have seen their investment grow to $50,498.45 by September 18, 2024, with an annualized rate of return of 8.43%. This is due to a combination of share price change and dividend reinvestment. The company paid investors a total of $58.17/share in dividends over the 20 holding period. The current yield of JNJ is approximately 2.99%, and the yield on cost is 5.16%. As Warren Buffett said, 'Someone's sitting in the shade today because someone planted a tree a long time ago.' This investment result is a testament to the power of long-term investing and the importance of considering a 20-year holding period when investing in stocks.\n",
      "saved asknews_for_question/28335.json\n",
      "RATES\n",
      "RATES 2024 Edo state gubernatorial election {'2024 Edo state gubernatorial election': \"1. Today's date: 2024-09-19\\n2. End date of the question: 2024-09-21\\n3. Time in days (D) from today to end date: 2 days\\n4. Date the event is most likely to occur: 2024-09-21\\n5. Whether the likely event date is before, or on or after the question end date: On the end date\", 'Deadly attack in Israel': None, \"Waltons' net worth\": None}\n",
      "RATES Deadly attack in Israel {'2024 Edo state gubernatorial election': \"1. Today's date: 2024-09-19\\n2. End date of the question: 2024-09-21\\n3. Time in days (D) from today to end date: 2 days\\n4. Date the event is most likely to occur: 2024-09-21\\n5. Whether the likely event date is before, or on or after the question end date: On the end date\", 'Deadly attack in Israel': \"1. Today's date: 2024-09-19\\n2. End date of the question: 2024-10-01\\n3. Time in days D from today to end date: 12 days\\n4. Specific date at which the event is most likely to occur: 2024-10-01\\n5. Whether the likely event date is before, or on or after the question end date: on or after\", \"Waltons' net worth\": None}\n",
      "RATES Waltons' net worth {'2024 Edo state gubernatorial election': \"1. Today's date: 2024-09-19\\n2. End date of the question: 2024-09-21\\n3. Time in days (D) from today to end date: 2 days\\n4. Date the event is most likely to occur: 2024-09-21\\n5. Whether the likely event date is before, or on or after the question end date: On the end date\", 'Deadly attack in Israel': \"1. Today's date: 2024-09-19\\n2. End date of the question: 2024-10-01\\n3. Time in days D from today to end date: 12 days\\n4. Specific date at which the event is most likely to occur: 2024-10-01\\n5. Whether the likely event date is before, or on or after the question end date: on or after\", \"Waltons' net worth\": \"1. Today's date: 2024-09-19\\n2. End date of the question: 2024-09-30\\n3. Time in days (D) from today to end date: 11 days\\n4. Specific date at which the event is most likely to occur: The highest likelihood will be evaluated based on current and past financial impacts, but economic and market uncertainties make a precise forecast difficult.\\n5. Whether the likely event date is before, or on or after the question end date: The likely event date is on or after the question end date, given current net worth trends and the short timeframe of 11 days for Alice Walton to reach the $100 billion threshold.\"}\n",
      "FORECASTING 2024 Edo state gubernatorial election\n",
      "28336 1 Prince Tom Iseghohi has recently stepped down from the race and endorsed the APC candidate, Monday Okpebholo. This significantly reduces any likelihood that he will win the election, rendering his winning probability nearly non-existent.\n",
      "FORECASTING Deadly attack in Israel\n",
      "28334 85 Given the recent escalation in attacks from Hezbollah and the historical context of ongoing retaliations between Israel and neighboring militant groups, the likelihood of a deadly attack causing at least five deaths within Israel before October 1, 2024, is high. The situation is highly volatile, and we are seeing increased frequency and intensity of assaults. Additionally, the statement from Israeli officials threatening severe retaliation implies a potential cycle of escalating violence, making such an attack probable within the short time frame.\n",
      "FORECASTING Waltons' net worth\n",
      "28335 99 Given the current values and trends in the Walton family's net worth, it is highly likely that at least one of the Waltons will be worth $100 billion or more on September 30, 2024. Jim Walton and Rob Walton both have net worths over $100 billion, and Alice Walton is very close at $99.7 billion, with a positive trend in Walmart's stock price. The brief timeframe of 11 days suggests minimal market fluctuation risk to drop their net worth significantly below $100 billion.\n"
     ]
    }
   ],
   "source": [
    "for fcst in forecasters:\n",
    "    fcst.fit()"
   ]
  },
  {
   "cell_type": "code",
   "execution_count": 8,
   "metadata": {},
   "outputs": [
    {
     "name": "stdout",
     "output_type": "stream",
     "text": [
      "forecaster 0\n",
      "28334 Will there be a deadly attack within Israel causing at least five deaths before October 1, 2024?\n",
      "Forecast 65\n",
      "Rationale Given the recent attack on September 18, 2024, by Hezbollah in the Golan Heights, which resulted in the deadliest attack on Israeli civilians since the start of the Gaza War this month, and the ongoing high tensions in the region, it is plausible that another deadly attack causing at least five deaths could occur before October 1, 2024. The pattern of retaliatory attacks and the apparent escalation between Israel and its adversaries such as Hezbollah and Hamas indicates a high likelihood of another significant incident within this period. \n",
      "\n",
      "28335 Will any of the Waltons be worth $100 billion or more on September 30, 2024, according to Forbes?\n",
      "Forecast 97\n",
      "Rationale Based on the recent trends and the fact that both Jim and Rob Walton have already surpassed the $100 billion mark according to multiple sources, it is highly likely they will still be worth $100 billion or more on September 30, 2024. Alice Walton is also very close to the $100 billion threshold, making it probable that at least Jim and Rob will remain in that category. \n",
      "\n",
      "28336 Will Prince Tom Iseghohi win the September 21, 2024 Edo state gubernatorial election in Nigeria?\n",
      "Forecast 1\n",
      "Rationale Prince Tom Iseghohi has stepped down from the race and endorsed Senator Monday Okpebholo of the All Progressives Congress (APC). Therefore, it is effectively impossible for him to win the election. \n",
      "\n",
      "=====================================================================\n",
      "forecaster 1\n",
      "28334 Will there be a deadly attack within Israel causing at least five deaths before October 1, 2024?\n",
      "Forecast 95\n",
      "Rationale The tension and frequency of deadly attacks in the region are exceedingly high, notably with the attacks on children in the Golan Heights and the ongoing conflict with Hezbollah. Given the heightened state of hostilities and the recent deadly incidents, a deadly attack within Israel causing at least five deaths before October 1, 2024, seems highly probable. \n",
      "\n",
      "28335 Will any of the Waltons be worth $100 billion or more on September 30, 2024, according to Forbes?\n",
      "Forecast 95\n",
      "Rationale Based on current market trends and reporting, Jim Walton and Rob Walton are already reported to have net worths exceeding $100 billion. Alice Walton is also very close to the threshold with the potential for Walmart's stock performance to boost her net worth further by September 30, 2024. Therefore, it is highly likely that at least one of the Waltons will have a net worth of $100 billion or more on the given date according to Forbes. \n",
      "\n",
      "28336 Will Prince Tom Iseghohi win the September 21, 2024 Edo state gubernatorial election in Nigeria?\n",
      "Forecast 1\n",
      "Rationale Prince Tom Iseghohi has stepped down and endorsed the All Progressives Congress (APC) candidate, Senator Monday Okpebholo. Given this support withdrawal and his encouraging votes for APC instead, it is virtually impossible for him to win the election. \n",
      "\n",
      "=====================================================================\n",
      "forecaster 2\n",
      "28334 Will there be a deadly attack within Israel causing at least five deaths before October 1, 2024?\n",
      "Forecast 99\n",
      "Rationale Given the recent reports of a deadly attack on a football field in the Golan Heights that killed at least 11 children, this event already meets the resolution criteria. Credible reports confirm that an attack within Israel's borders caused the deaths of at least five individuals. Therefore, the probability that there will be a deadly attack within Israel causing at least five deaths before October 1, 2024, is almost certain, as it has already occurred. \n",
      "\n",
      "28335 Will any of the Waltons be worth $100 billion or more on September 30, 2024, according to Forbes?\n",
      "Forecast 95\n",
      "Rationale Currently, Jim and Rob Walton have net worths reported to be $102.6 billion and $100.4 billion, respectively, and their net worths have remained above $100 billion consistently in recent reports. This trend, along with the fact that Walmart shares have increased significantly over the past year, supports a high likelihood that they will maintain their net worth above $100 billion by September 30, 2024. Given the information, it is highly probable that at least one of the Waltons will be worth $100 billion or more on that date. \n",
      "\n",
      "28336 Will Prince Tom Iseghohi win the September 21, 2024 Edo state gubernatorial election in Nigeria?\n",
      "Forecast 1\n",
      "Rationale Prince Tom Iseghohi has withdrawn from the race and endorsed the APC candidate. Given this withdrawal, he will not win the election. \n",
      "\n",
      "=====================================================================\n",
      "forecaster 3\n",
      "28334 Will there be a deadly attack within Israel causing at least five deaths before October 1, 2024?\n",
      "Forecast 95\n",
      "Rationale The recent rocket attack in the Golan Heights, which killed at least 11 children and injured over 20 others, highlights the volatility and the current high level of conflict in the region. Given the ongoing hostility, the high number of recent casualties, and Netanyahu's promise of retaliatory action, it is highly probable that further deadly attacks will occur within Israel before October 1, 2024. Considering these factors, there is a 95% probability of another deadly attack resulting in at least five deaths within this timeframe. \n",
      "\n",
      "28335 Will any of the Waltons be worth $100 billion or more on September 30, 2024, according to Forbes?\n",
      "Forecast 85\n",
      "Rationale Given the recent surge in Walmart's stock (53% this year) and their consistent high rankings on wealth lists, it is highly likely that at least one of the Walton family members will have a net worth of $100 billion or more on September 30, 2024. Market trends and strong performance suggest this likelihood, though slight market fluctuations and shifts in stock prices introduce some uncertainty, thus an 85% probability is reasonable. \n",
      "\n",
      "28336 Will Prince Tom Iseghohi win the September 21, 2024 Edo state gubernatorial election in Nigeria?\n",
      "Forecast 1\n",
      "Rationale Prince Tom Iseghohi has stepped down from the gubernatorial race and endorsed the APC candidate, Monday Okpebholo. Given that he is no longer a candidate in the election, it is virtually impossible for him to win the election. Therefore, the probability of him winning is extremely low, practically zero. \n",
      "\n",
      "=====================================================================\n",
      "forecaster 4\n",
      "28334 Will there be a deadly attack within Israel causing at least five deaths before October 1, 2024?\n",
      "Forecast 85\n",
      "Rationale Given the recent escalation in attacks from Hezbollah and the historical context of ongoing retaliations between Israel and neighboring militant groups, the likelihood of a deadly attack causing at least five deaths within Israel before October 1, 2024, is high. The situation is highly volatile, and we are seeing increased frequency and intensity of assaults. Additionally, the statement from Israeli officials threatening severe retaliation implies a potential cycle of escalating violence, making such an attack probable within the short time frame. \n",
      "\n",
      "28335 Will any of the Waltons be worth $100 billion or more on September 30, 2024, according to Forbes?\n",
      "Forecast 99\n",
      "Rationale Given the current values and trends in the Walton family's net worth, it is highly likely that at least one of the Waltons will be worth $100 billion or more on September 30, 2024. Jim Walton and Rob Walton both have net worths over $100 billion, and Alice Walton is very close at $99.7 billion, with a positive trend in Walmart's stock price. The brief timeframe of 11 days suggests minimal market fluctuation risk to drop their net worth significantly below $100 billion. \n",
      "\n",
      "28336 Will Prince Tom Iseghohi win the September 21, 2024 Edo state gubernatorial election in Nigeria?\n",
      "Forecast 1\n",
      "Rationale Prince Tom Iseghohi has recently stepped down from the race and endorsed the APC candidate, Monday Okpebholo. This significantly reduces any likelihood that he will win the election, rendering his winning probability nearly non-existent. \n",
      "\n",
      "=====================================================================\n"
     ]
    }
   ],
   "source": [
    "for i, fcst in enumerate(forecasters):\n",
    "    print(\"forecaster\", i)\n",
    "    fcst.report()\n",
    "    print(\"=====================================================================\")"
   ]
  },
  {
   "cell_type": "code",
   "execution_count": 9,
   "metadata": {},
   "outputs": [],
   "source": [
    "import numpy as np\n",
    "from Summarizer import Summarizer\n",
    "from MetacGPT import MetacGPT"
   ]
  },
  {
   "cell_type": "code",
   "execution_count": 10,
   "metadata": {},
   "outputs": [],
   "source": [
    "self = Forecaster({id: IFP(id) for id in today_ids})"
   ]
  },
  {
   "cell_type": "code",
   "execution_count": 11,
   "metadata": {},
   "outputs": [],
   "source": [
    "editor = Summarizer(MetacGPT)"
   ]
  },
  {
   "cell_type": "code",
   "execution_count": 12,
   "metadata": {},
   "outputs": [],
   "source": [
    "for ifp in self.ifps.values():\n",
    "    ifp.forecast = np.mean([fcst.ifps[ifp.id].forecast for fcst in forecasters])\n",
    "    ifp.rationale = editor.summarize('\\n'.join([fcst.ifps[ifp.id].rationale for fcst in forecasters]))"
   ]
  },
  {
   "cell_type": "code",
   "execution_count": 13,
   "metadata": {},
   "outputs": [
    {
     "name": "stdout",
     "output_type": "stream",
     "text": [
      "28334 Will there be a deadly attack within Israel causing at least five deaths before October 1, 2024?\n",
      "Forecast 87.8\n",
      "Rationale Considering the recent severe attack by Hezbollah on September 18, 2024, in the Golan Heights, along with the high and escalating tensions in the region, the consistent pattern of retaliatory violence, and credible reports of multiple deadly incidents, it is highly probable—approaching certainty—that another deadly attack causing at least five deaths will occur within Israel before October 1, 2024. \n",
      "\n",
      "28335 Will any of the Waltons be worth $100 billion or more on September 30, 2024, according to Forbes?\n",
      "Forecast 94.2\n",
      "Rationale Given that Jim and Rob Walton both currently have net worths exceeding $100 billion, with Alice Walton closely approaching that threshold, and considering the consistent upward trend in Walmart's stock performance, it is highly probable that at least one member of the Walton family will have a net worth of $100 billion or more on September 30, 2024. \n",
      "\n",
      "28336 Will Prince Tom Iseghohi win the September 21, 2024 Edo state gubernatorial election in Nigeria?\n",
      "Forecast 1.0\n",
      "Rationale Given that Prince Tom Iseghohi has stepped down from the race and endorsed the APC candidate, Senator Monday Okpebholo, it is virtually impossible for him to win the election. \n",
      "\n"
     ]
    }
   ],
   "source": [
    "self.report()"
   ]
  },
  {
   "cell_type": "code",
   "execution_count": 14,
   "metadata": {},
   "outputs": [
    {
     "name": "stdout",
     "output_type": "stream",
     "text": [
      "Prediction posted for  28334\n",
      "Comment posted for  28334\n",
      "Prediction posted for  28335\n",
      "Comment posted for  28335\n",
      "Prediction posted for  28336\n",
      "Comment posted for  28336\n"
     ]
    }
   ],
   "source": [
    "self.upload()"
   ]
  },
  {
   "cell_type": "code",
   "execution_count": null,
   "metadata": {},
   "outputs": [],
   "source": []
  }
 ],
 "metadata": {
  "colab": {
   "provenance": []
  },
  "kernelspec": {
   "display_name": "q3ai",
   "language": "python",
   "name": "q3ai"
  },
  "language_info": {
   "codemirror_mode": {
    "name": "ipython",
    "version": 3
   },
   "file_extension": ".py",
   "mimetype": "text/x-python",
   "name": "python",
   "nbconvert_exporter": "python",
   "pygments_lexer": "ipython3",
   "version": "3.10.12"
  }
 },
 "nbformat": 4,
 "nbformat_minor": 4
}
