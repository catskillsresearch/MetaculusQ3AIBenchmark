{
 "cells": [
  {
   "cell_type": "markdown",
   "metadata": {},
   "source": [
    "# 000 Forecasting Bot"
   ]
  },
  {
   "cell_type": "code",
   "execution_count": 1,
   "metadata": {},
   "outputs": [],
   "source": [
    "%load_ext autoreload\n",
    "%autoreload 2"
   ]
  },
  {
   "cell_type": "code",
   "execution_count": 2,
   "metadata": {},
   "outputs": [],
   "source": [
    "from IFP import IFP, list_questions"
   ]
  },
  {
   "cell_type": "code",
   "execution_count": 3,
   "metadata": {},
   "outputs": [],
   "source": [
    "ifps = list_questions()['results']"
   ]
  },
  {
   "cell_type": "code",
   "execution_count": 4,
   "metadata": {},
   "outputs": [
    {
     "data": {
      "text/plain": [
       "[27744, 27745, 27746, 27747, 27748, 27749, 27804]"
      ]
     },
     "execution_count": 4,
     "metadata": {},
     "output_type": "execute_result"
    }
   ],
   "source": [
    "today_ids = list(sorted([x['id'] for x in ifps])) if ifps else [27238, 27239, 27240, 27241]\n",
    "today_ids"
   ]
  },
  {
   "cell_type": "code",
   "execution_count": 5,
   "metadata": {},
   "outputs": [],
   "source": [
    "ifps = {id: IFP(id) for id in today_ids}"
   ]
  },
  {
   "cell_type": "code",
   "execution_count": 6,
   "metadata": {},
   "outputs": [],
   "source": [
    "from Forecaster import Forecaster"
   ]
  },
  {
   "cell_type": "code",
   "execution_count": 7,
   "metadata": {},
   "outputs": [],
   "source": [
    "fcst = Forecaster(ifps)"
   ]
  },
  {
   "cell_type": "code",
   "execution_count": 8,
   "metadata": {},
   "outputs": [
    {
     "name": "stdout",
     "output_type": "stream",
     "text": [
      "MODEL DOMAIN\n",
      "27744 Will the Russian 2024 autumn draft demobilization start on time?\n",
      "State executive action\n",
      "27745 Will Taylor Swift publicly endorse Kamala Harris for president before October 1, 2024?\n",
      "Election outcome\n",
      "27746 Will Magnus Carlsen win the Speed Chess Championship 2024?\n",
      "Sports performance\n",
      "27747 Will Hikaru Nakamura win the Speed Chess Championship 2024?\n",
      "Sports performance\n",
      "27748 Will Hans Niemann win the Speed Chess Championship 2024?\n",
      "Sports performance\n",
      "27749 Will Alireza Firouzja win the Speed Chess Championship 2024?\n",
      "Sports performance\n",
      "27804 Will Pavel Durov leave France before October 1, 2024?\n",
      "Leadership change\n",
      "CORRELATOR\n",
      "|Russian 2024 autumn draft demobilization|27744|Will the Russian 2024 autumn draft demobilization start on time?|\n",
      "|Taylor Swift endorsement|27745|Will Taylor Swift publicly endorse Kamala Harris for president before October 1, 2024?|\n",
      "|Speed Chess Championship 2024|27746|Will Magnus Carlsen win the Speed Chess Championship 2024?|\n",
      "|Speed Chess Championship 2024|27747|Will Hikaru Nakamura win the Speed Chess Championship 2024?|\n",
      "|Speed Chess Championship 2024|27748|Will Hans Niemann win the Speed Chess Championship 2024?|\n",
      "|Speed Chess Championship 2024|27749|Will Alireza Firouzja win the Speed Chess Championship 2024?|\n",
      "|Pavel Durov relocation|27804|Will Pavel Durov leave France before October 1, 2024?|\n",
      "NEWS\n",
      "ASKING\n",
      "Researching Will the Russian 2024 autumn draft demobilization start on time?\n",
      "ALL\n",
      "Russian citizens can expect changes in various aspects of their lives starting from September. According to State Duma Chairman Vyaacheslav Volodin, these changes will affect taxi rides, educational institutions, public transportation, housing and communal services, and tourism. In schools, the Russian flag will be required to be displayed from September 1, and a new subject called 'Foundations of Security and Defense of the Motherland' will be introduced. Additionally, lessons in technology (formerly known as 'practical skills') will become mandatory for students in primary and secondary school. In public transportation, people with disabilities of group I will no longer be allowed to ride without a ticket, unless accompanied by a caregiver. Furthermore, labor rights for people with disabilities will be strengthened. Volodin also mentioned that the requirements for the founders of management companies will be significantly tightened, and individuals with unexpired convictions for certain crimes, including economic ones, will be barred from becoming founders. Tour guides and excursionists will also be protected by law, as they will be required to provide services in person and based on a contract. These changes were previously announced to affect drivers starting from September 1.\n",
      "saved asknews_for_question/27744.json\n",
      "ASKING\n",
      "Researching Will Pavel Durov leave France before October 1, 2024?\n",
      "ALL\n",
      "Pavel Durov, the founder of Telegram, was able to prove that he has a place to live in France, which prevented him from being sent to a temporary detention center during the investigation, according to French attorney David Libeskind. 'Durov was able to prove that he has a place to live in France, otherwise the judge would have sent him to a temporary detention center. It could be a friend's house or his own property. It's very rare for a suspect in a serious crime to be given special treatment, Durov was given a special regime', Libeskind said. Durov was detained at Paris' Le Bourget airport on August 24, sparking widespread criticism from the public in many countries. He is suspected of ten crimes and offenses in France, including conspiracy to administer an online platform for illegal transactions, which could result in up to 10 years in prison. Official charges have not been filed yet.\n",
      "saved asknews_for_question/27804.json\n",
      "ASKING\n",
      "Researching Will Magnus Carlsen win the Speed Chess Championship 2024?\n",
      "Will Hikaru Nakamura win the Speed Chess Championship 2024?\n",
      "Will Hans Niemann win the Speed Chess Championship 2024?\n",
      "Will Alireza Firouzja win the Speed Chess Championship 2024?\n",
      "ALL\n",
      "Alireza Firouzja, a 21-year-old Iranian-French chess player, has been a rising star in the chess world since he was 15. He was expected to be the successor of Magnus Carlsen, but his career has been marked by ups and downs. Firouzja has struggled to surpass the world's top players, including Fabiano Caruana, Hikaru Nakamura, and Ding Liren. However, he has recently shown signs of improvement, winning the Sinquefeld Master Tournament and the Grand Chess Tour. In the tournament, he defeated Caruana and Ding Liren, indicating his current good form. Firouzja was born in Iran but moved to France and obtained citizenship. He has faced challenges in his personal life, including adapting to the Western world, but it seems that he is now reaching his maturity. With his recent victories, he has a lot of potential for the future.\n",
      "saved asknews_for_question/27746.json\n",
      "saved asknews_for_question/27747.json\n",
      "saved asknews_for_question/27748.json\n",
      "saved asknews_for_question/27749.json\n",
      "ASKING\n",
      "Researching Will Taylor Swift publicly endorse Kamala Harris for president before October 1, 2024?\n",
      "ALL\n",
      "The 'Swifties for Kamala' group, which supports Kamala Harris' presidential run, has been trying to distance itself from Taylor Swift, despite being inspired by the singer's fan base. The group's organizers have repeatedly stated that they are 'not affiliated with Taylor Swift,' but this disclaimer seems contradictory, given the group's name and the fact that Swift has yet to endorse anyone in the 2024 election. During a recent Zoom call, the group's organizers and speakers, including Carole King and several U.S. senators, tried to balance their support for Harris with a nod to Swift, but the connection between being a Swiftie and supporting Harris' run can seem loose at times. Despite the awkwardness, the group has raised nearly $150,000 for Harris' campaign and has helped keep voters engaged in the election. As one speaker said, 'The way she has been opening doors for marginalized communities and making sure those doors stay open in her career reminds me of Taylor and her fierce work in the music industry.' \n",
      "saved asknews_for_question/27745.json\n",
      "RATES\n",
      "RATES Russian 2024 autumn draft demobilization {'Russian 2024 autumn draft demobilization': \"1. Today's date: 2024-08-30\\n2. End date of the question: 2024-12-31\\n3. Time in days D from today to end date: 123 days\\n4. Specific date at which the event is most likely to occur: 2024-10-01\\n5. Likely event date is before the question end date\", 'Pavel Durov relocation': None, 'Speed Chess Championship 2024': None, 'Taylor Swift endorsement': None}\n",
      "RATES Pavel Durov relocation {'Russian 2024 autumn draft demobilization': \"1. Today's date: 2024-08-30\\n2. End date of the question: 2024-12-31\\n3. Time in days D from today to end date: 123 days\\n4. Specific date at which the event is most likely to occur: 2024-10-01\\n5. Likely event date is before the question end date\", 'Pavel Durov relocation': \"1. Today's Date: 2024-08-30\\n2. End Date of the Question: 2024-10-01\\n3. Time in Days D: 32 days\\n4. Most Likely Event Date: Pavel Durov is currently under judicial supervision and prohibited from leaving France. There has been no indication from the news that he will be permitted to leave before October 1, 2024.\\n5. Likely Event Date: On or after the end date (2024-10-01)\", 'Speed Chess Championship 2024': None, 'Taylor Swift endorsement': None}\n",
      "RATES Speed Chess Championship 2024 {'Russian 2024 autumn draft demobilization': \"1. Today's date: 2024-08-30\\n2. End date of the question: 2024-12-31\\n3. Time in days D from today to end date: 123 days\\n4. Specific date at which the event is most likely to occur: 2024-10-01\\n5. Likely event date is before the question end date\", 'Pavel Durov relocation': \"1. Today's Date: 2024-08-30\\n2. End Date of the Question: 2024-10-01\\n3. Time in Days D: 32 days\\n4. Most Likely Event Date: Pavel Durov is currently under judicial supervision and prohibited from leaving France. There has been no indication from the news that he will be permitted to leave before October 1, 2024.\\n5. Likely Event Date: On or after the end date (2024-10-01)\", 'Speed Chess Championship 2024': \"Today's date: 2024-08-30\\nEnd date: 2024-09-08\\nTime in days (D): 9 days\\nMost likely event date: 2024-09-08\\nLikelihood relative to end date: On or after the end date\", 'Taylor Swift endorsement': None}\n",
      "RATES Taylor Swift endorsement {'Russian 2024 autumn draft demobilization': \"1. Today's date: 2024-08-30\\n2. End date of the question: 2024-12-31\\n3. Time in days D from today to end date: 123 days\\n4. Specific date at which the event is most likely to occur: 2024-10-01\\n5. Likely event date is before the question end date\", 'Pavel Durov relocation': \"1. Today's Date: 2024-08-30\\n2. End Date of the Question: 2024-10-01\\n3. Time in Days D: 32 days\\n4. Most Likely Event Date: Pavel Durov is currently under judicial supervision and prohibited from leaving France. There has been no indication from the news that he will be permitted to leave before October 1, 2024.\\n5. Likely Event Date: On or after the end date (2024-10-01)\", 'Speed Chess Championship 2024': \"Today's date: 2024-08-30\\nEnd date: 2024-09-08\\nTime in days (D): 9 days\\nMost likely event date: 2024-09-08\\nLikelihood relative to end date: On or after the end date\", 'Taylor Swift endorsement': \"1. Today's date: 2024-08-30\\n2. Measurement date: 2024-10-01\\n3. Time in days D from today to end date: 32 days\\n4. Specific date at which the event is most likely to occur: Late September or early October 2024\\n5. Whether the likely event date is before, or on or after the question end date: On or after\"}\n",
      "FORECASTING Russian 2024 autumn draft demobilization\n",
      "27744 85 The historical trend of timely publication of presidential decrees for demobilization, usually in late September, strongly suggests that the 2024 autumn draft demobilization will start on time. The regularity and predictability of this process, designed to ensure an orderly transition between conscription cycles, supports a high probability that a decree will be issued on time, specifying that demobilization starts by October 7, 2024. Additionally, the recent legislative and administrative measures to enhance the drafting and tracking of conscripts indicate preparedness and adherence to schedules. Therefore, I assign a probability of 85%.\n",
      "REFINING 27744\n",
      "Pass 0 of 4 on 27744\n",
      "27744 I concur\n",
      "concur 2\n",
      "===============================================\n",
      "FORECASTING Pavel Durov relocation\n",
      "27804 10 Pavel Durov is currently under strict judicial supervision, is prohibited from leaving French territory, and must report to the police twice a week. There is no indication from credible sources or his legal team that these restrictions will be lifted before October 1, 2024. Given the severity of the charges against him and the strict conditions set by French authorities, it is highly unlikely that he will be able to leave the country before the specified date.\n",
      "REFINING 27804\n",
      "Pass 0 of 4 on 27804\n",
      "27804 I concur\n",
      "concur 2\n",
      "===============================================\n",
      "FORECASTING Speed Chess Championship 2024\n",
      "27746 40 Magnus Carlsen is a formidable player and has a history of winning this tournament, including the most recent 2023 championship. However, he faces Hans Niemann in the semifinals, who has defeated him in high-stakes situations before. Additionally, both Hikaru Nakamura and Alireza Firouzja pose strong challenges.\n",
      "27747 30 Hikaru Nakamura has an impressive track record in the Speed Chess Championship, having won five years in a row from 2017 to 2022. Nevertheless, he must overcome Alireza Firouzja in the semifinals and possibly face Magnus Carlsen in the finals, both of whom are highly competitive.\n",
      "27748 20 Hans Niemann has been performing well and has beaten Magnus Carlsen in the past, but his chances remain lower compared to the other three finalists, who hold higher rankings and have more consistent track records in recent high-stakes tournaments.\n",
      "27749 30 Alireza Firouzja is an emerging talent with several recent victories and has reached the semifinals by defeating strong opponents like Alexander Grischuk. However, his path to victory includes defeating Hikaru Nakamura and potentially Magnus Carlsen, making it a challenging route.\n",
      "REFINING 27746\n",
      "Pass 0 of 4 on 27746\n",
      "27746 I concur\n",
      "concur 2\n",
      "===============================================\n",
      "REFINING 27747\n",
      "Pass 0 of 4 on 27747\n",
      "27747 I concur\n",
      "concur 2\n",
      "===============================================\n",
      "REFINING 27748\n",
      "Pass 0 of 4 on 27748\n",
      "27748 I concur\n",
      "concur 2\n",
      "===============================================\n",
      "REFINING 27749\n",
      "Pass 0 of 4 on 27749\n",
      "27749 I concur\n",
      "concur 2\n",
      "===============================================\n",
      "FORECASTING Taylor Swift endorsement\n",
      "27745 70 Several sources close to Taylor Swift suggest she is preparing to endorse Kamala Harris in late September or early October, within the stated timeline. Historical patterns show she prefers endorsing close to election time. There's substantial pressure and anticipation from her fanbase and political figures. Coupled with her past political activity, a 70% likelihood seems appropriate.\n",
      "REFINING 27745\n",
      "Pass 0 of 4 on 27745\n",
      "27745 I concur\n",
      "concur 2\n",
      "===============================================\n"
     ]
    }
   ],
   "source": [
    "fcst.fit()"
   ]
  },
  {
   "cell_type": "code",
   "execution_count": 9,
   "metadata": {},
   "outputs": [
    {
     "name": "stdout",
     "output_type": "stream",
     "text": [
      "27744 Will the Russian 2024 autumn draft demobilization start on time?\n",
      "Forecast 85\n",
      "Rationale The historical trend of timely publication of presidential decrees for demobilization, usually in late September, strongly suggests that the 2024 autumn draft demobilization will start on time. The regularity and predictability of this process, designed to ensure an orderly transition between conscription cycles, supports a high probability that a decree will be issued on time, specifying that demobilization starts by October 7, 2024. Additionally, the recent legislative and administrative measures to enhance the drafting and tracking of conscripts indicate preparedness and adherence to schedules. Therefore, I assign a probability of 85%. \n",
      "\n",
      "27745 Will Taylor Swift publicly endorse Kamala Harris for president before October 1, 2024?\n",
      "Forecast 70\n",
      "Rationale Several sources close to Taylor Swift suggest she is preparing to endorse Kamala Harris in late September or early October, within the stated timeline. Historical patterns show she prefers endorsing close to election time. There's substantial pressure and anticipation from her fanbase and political figures. Coupled with her past political activity, a 70% likelihood seems appropriate. \n",
      "\n",
      "27746 Will Magnus Carlsen win the Speed Chess Championship 2024?\n",
      "Forecast 40\n",
      "Rationale Magnus Carlsen is a formidable player and has a history of winning this tournament, including the most recent 2023 championship. However, he faces Hans Niemann in the semifinals, who has defeated him in high-stakes situations before. Additionally, both Hikaru Nakamura and Alireza Firouzja pose strong challenges. \n",
      "\n",
      "27747 Will Hikaru Nakamura win the Speed Chess Championship 2024?\n",
      "Forecast 30\n",
      "Rationale Hikaru Nakamura has an impressive track record in the Speed Chess Championship, having won five years in a row from 2017 to 2022. Nevertheless, he must overcome Alireza Firouzja in the semifinals and possibly face Magnus Carlsen in the finals, both of whom are highly competitive. \n",
      "\n",
      "27748 Will Hans Niemann win the Speed Chess Championship 2024?\n",
      "Forecast 20\n",
      "Rationale Hans Niemann has been performing well and has beaten Magnus Carlsen in the past, but his chances remain lower compared to the other three finalists, who hold higher rankings and have more consistent track records in recent high-stakes tournaments. \n",
      "\n",
      "27749 Will Alireza Firouzja win the Speed Chess Championship 2024?\n",
      "Forecast 30\n",
      "Rationale Alireza Firouzja is an emerging talent with several recent victories and has reached the semifinals by defeating strong opponents like Alexander Grischuk. However, his path to victory includes defeating Hikaru Nakamura and potentially Magnus Carlsen, making it a challenging route. \n",
      "\n",
      "27804 Will Pavel Durov leave France before October 1, 2024?\n",
      "Forecast 10\n",
      "Rationale Pavel Durov is currently under strict judicial supervision, is prohibited from leaving French territory, and must report to the police twice a week. There is no indication from credible sources or his legal team that these restrictions will be lifted before October 1, 2024. Given the severity of the charges against him and the strict conditions set by French authorities, it is highly unlikely that he will be able to leave the country before the specified date. \n",
      "\n"
     ]
    }
   ],
   "source": [
    "fcst.report()"
   ]
  },
  {
   "cell_type": "code",
   "execution_count": 10,
   "metadata": {},
   "outputs": [
    {
     "name": "stdout",
     "output_type": "stream",
     "text": [
      "Prediction posted for  27744\n",
      "Comment posted for  27744\n",
      "Prediction posted for  27745\n",
      "Comment posted for  27745\n",
      "Prediction posted for  27746\n",
      "Comment posted for  27746\n",
      "Prediction posted for  27747\n",
      "Comment posted for  27747\n",
      "Prediction posted for  27748\n",
      "Comment posted for  27748\n",
      "Prediction posted for  27749\n",
      "Comment posted for  27749\n",
      "Prediction posted for  27804\n",
      "Comment posted for  27804\n"
     ]
    }
   ],
   "source": [
    "fcst.upload()"
   ]
  },
  {
   "cell_type": "code",
   "execution_count": null,
   "metadata": {},
   "outputs": [],
   "source": []
  }
 ],
 "metadata": {
  "colab": {
   "provenance": []
  },
  "kernelspec": {
   "display_name": "trader",
   "language": "python",
   "name": "trader"
  },
  "language_info": {
   "codemirror_mode": {
    "name": "ipython",
    "version": 3
   },
   "file_extension": ".py",
   "mimetype": "text/x-python",
   "name": "python",
   "nbconvert_exporter": "python",
   "pygments_lexer": "ipython3",
   "version": "3.10.6"
  }
 },
 "nbformat": 4,
 "nbformat_minor": 4
}
