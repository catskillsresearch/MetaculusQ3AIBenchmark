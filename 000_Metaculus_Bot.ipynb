{
 "cells": [
  {
   "cell_type": "markdown",
   "metadata": {},
   "source": [
    "# 000 Forecasting Bot"
   ]
  },
  {
   "cell_type": "code",
   "execution_count": 1,
   "metadata": {},
   "outputs": [],
   "source": [
    "%load_ext autoreload\n",
    "%autoreload 2"
   ]
  },
  {
   "cell_type": "code",
   "execution_count": 2,
   "metadata": {},
   "outputs": [],
   "source": [
    "from IFP import IFP, list_questions"
   ]
  },
  {
   "cell_type": "code",
   "execution_count": 3,
   "metadata": {},
   "outputs": [],
   "source": [
    "ifps = list_questions()['results']"
   ]
  },
  {
   "cell_type": "code",
   "execution_count": 4,
   "metadata": {},
   "outputs": [
    {
     "data": {
      "text/plain": [
       "[28243, 28244, 28245]"
      ]
     },
     "execution_count": 4,
     "metadata": {},
     "output_type": "execute_result"
    }
   ],
   "source": [
    "today_ids = list(sorted([x['id'] for x in ifps])) if ifps else [27238, 27239, 27240, 27241]\n",
    "today_ids"
   ]
  },
  {
   "cell_type": "code",
   "execution_count": 5,
   "metadata": {},
   "outputs": [],
   "source": [
    "from Forecaster import Forecaster"
   ]
  },
  {
   "cell_type": "code",
   "execution_count": 6,
   "metadata": {},
   "outputs": [],
   "source": [
    "forecasters = [Forecaster({id: IFP(id) for id in today_ids}) for i in range(5)]"
   ]
  },
  {
   "cell_type": "code",
   "execution_count": 8,
   "metadata": {},
   "outputs": [
    {
     "name": "stdout",
     "output_type": "stream",
     "text": [
      "MODEL DOMAIN\n",
      "28243 Will Donald Trump sell any shares of Trump Media before October 1, 2024, as revealed by a Form 4 filing?\n",
      "Corporate action\n",
      "28244 Will the USDA-posted recall of Michael Foods Inc.'s Fair Meadow Foundations Liquid Egg Products issued June 30, 2024 be closed before October 1, 2024?\n",
      "Corporate action\n",
      "28245 Will the yield curve be inverted on Friday September 27, 2024?\n",
      "Rate change\n",
      "CORRELATOR\n",
      "NEWS\n",
      "RATES\n",
      "FORECASTING Donald Trump's sale of Trump Media shares\n",
      "28243 25 Given the reiterated statements from Donald Trump that he does not intend to sell his shares, and the subsequent market reaction implying trust in his declaration, the probability of him selling any shares before October 1, 2024, remains low. However, considering the volatility of circumstances surrounding Trump's business decisions and public remarks, a minimal probability still exists, hence a cautious estimate.\n",
      "FORECASTING Status of the yield curve\n",
      "28245 72 Given the current economic context as described in the news, the yield curve has shown tendencies of re-inverting after brief periods of normalcy. Historical behavior and recent data suggest that such a trend may continue, especially with the upcoming Federal Reserve decisions and market volatility. Therefore, there is a substantial probability that the yield curve will be inverted on September 27, 2024.\n",
      "FORECASTING Recall closure of Michael Foods Inc.'s Fair Meadow Foundations Liquid Egg Products\n",
      "28244 10 USDA recalls, particularly involving allergens, often remain active for extended periods to ensure thorough remediation actions and broad notification of potential issues. Given that recalls mentioned in the news, such as the Boar's Head recall, are ongoing and have not been resolved promptly despite significant health impacts, it is unlikely that the recall for Michael Foods Inc.'s liquid egg products will be closed before October 1, 2024. Therefore, the probability of closure happening in the remaining timeframe is quite low.\n",
      "MODEL DOMAIN\n",
      "28243 Will Donald Trump sell any shares of Trump Media before October 1, 2024, as revealed by a Form 4 filing?\n",
      "Corporate action\n",
      "28244 Will the USDA-posted recall of Michael Foods Inc.'s Fair Meadow Foundations Liquid Egg Products issued June 30, 2024 be closed before October 1, 2024?\n",
      "Corporate action\n",
      "28245 Will the yield curve be inverted on Friday September 27, 2024?\n",
      "Rate change\n",
      "CORRELATOR\n",
      "NEWS\n",
      "RATES\n",
      "FORECASTING Yield curve inversion\n",
      "28245 95 Given the recent news and historical trends regarding yield curve inversion, it is highly likely that the yield curve will remain inverted by September 27, 2024. The brief return to a non-inverted state has been followed by a quick re-inversion, and expectations of further Fed actions imply continued volatility and potential inversion. Historical data also supports persistent inversion in the periods before a recession.\n",
      "FORECASTING Recall of Michael Foods Inc.'s Fair Meadow Foundations Liquid Egg Products\n",
      "28244 17 Given the background and the complexity of the recall process, especially involving allergens, it is unlikely the recall will be resolved and closed within the remaining two weeks before the end date. Recalls often take several weeks to several months to be fully resolved.\n",
      "FORECASTING Donald Trump selling Trump Media shares\n",
      "28243 15 Donald Trump has publicly and repeatedly stated that he does not intend to sell any shares. Given the backlash and potential negative impact on the stock price if he were to sell, combined with his current political ambitions and the potential negative publicity, it is unlikely that he will sell shares before October 1, 2024. However, there is always some level of uncertainty with public figures and corporate decisions.\n",
      "MODEL DOMAIN\n",
      "28243 Will Donald Trump sell any shares of Trump Media before October 1, 2024, as revealed by a Form 4 filing?\n",
      "Corporate action\n",
      "28244 Will the USDA-posted recall of Michael Foods Inc.'s Fair Meadow Foundations Liquid Egg Products issued June 30, 2024 be closed before October 1, 2024?\n",
      "Corporate action\n",
      "28245 Will the yield curve be inverted on Friday September 27, 2024?\n",
      "Rate change\n",
      "CORRELATOR\n",
      "NEWS\n",
      "RATES\n",
      "FORECASTING Yield curve inversion on September 27, 2024\n",
      "28245 53 The current yield curve situation is highly volatile, with frequent inversions and periods of normalcy. Despite the brief period of the yield curve being positively sloped, the lasting impacts of Federal Reserve policies and market reactions suggest ongoing instability. Given the news of the curve recently being inverted again and historical precedence of volatility in similar scenarios, there's a marginally higher chance than not that the curve could be inverted again on September 27, 2024. Therefore, I assign a probability of 53%.\n",
      "FORECASTING Recall of Michael Foods Inc.'s Liquid Egg Products\n"
     ]
    },
    {
     "ename": "ValueError",
     "evalue": "not enough values to unpack (expected 4, got 0)",
     "output_type": "error",
     "traceback": [
      "\u001b[0;31m---------------------------------------------------------------------------\u001b[0m",
      "\u001b[0;31mValueError\u001b[0m                                Traceback (most recent call last)",
      "Cell \u001b[0;32mIn[8], line 2\u001b[0m\n\u001b[1;32m      1\u001b[0m \u001b[38;5;28;01mfor\u001b[39;00m fcst \u001b[38;5;129;01min\u001b[39;00m forecasters:\n\u001b[0;32m----> 2\u001b[0m     \u001b[43mfcst\u001b[49m\u001b[38;5;241;43m.\u001b[39;49m\u001b[43mfit\u001b[49m\u001b[43m(\u001b[49m\u001b[43m)\u001b[49m\n",
      "File \u001b[0;32m~/Desktop/MetaculusQ3AIBenchmark/Forecaster.py:58\u001b[0m, in \u001b[0;36mForecaster.fit\u001b[0;34m(self)\u001b[0m\n\u001b[1;32m     56\u001b[0m \u001b[38;5;28mprint\u001b[39m(\u001b[38;5;124m'\u001b[39m\u001b[38;5;124mFORECASTING\u001b[39m\u001b[38;5;124m'\u001b[39m, event)\n\u001b[1;32m     57\u001b[0m \u001b[38;5;28mself\u001b[39m\u001b[38;5;241m.\u001b[39msf \u001b[38;5;241m=\u001b[39m Superforecaster(\u001b[38;5;28mself\u001b[39m\u001b[38;5;241m.\u001b[39mgpt)\n\u001b[0;32m---> 58\u001b[0m \u001b[38;5;28;43mself\u001b[39;49m\u001b[38;5;241;43m.\u001b[39;49m\u001b[43msf\u001b[49m\u001b[38;5;241;43m.\u001b[39;49m\u001b[43mforecast\u001b[49m\u001b[43m(\u001b[49m\u001b[43mevent\u001b[49m\u001b[43m,\u001b[49m\u001b[43m \u001b[49m\u001b[38;5;28;43mself\u001b[39;49m\u001b[38;5;241;43m.\u001b[39;49m\u001b[43mnews\u001b[49m\u001b[43m[\u001b[49m\u001b[43mevent\u001b[49m\u001b[43m]\u001b[49m\u001b[43m,\u001b[49m\u001b[43m \u001b[49m\u001b[38;5;28;43mself\u001b[39;49m\u001b[38;5;241;43m.\u001b[39;49m\u001b[43mrates\u001b[49m\u001b[43m[\u001b[49m\u001b[43mevent\u001b[49m\u001b[43m]\u001b[49m\u001b[43m,\u001b[49m\u001b[43m \u001b[49m\u001b[43mgroup\u001b[49m\u001b[43m)\u001b[49m\n\u001b[1;32m     59\u001b[0m critic \u001b[38;5;241m=\u001b[39m Critic(\u001b[38;5;28mself\u001b[39m\u001b[38;5;241m.\u001b[39mgpt)\n\u001b[1;32m     60\u001b[0m \u001b[38;5;28;01mfor\u001b[39;00m ifp \u001b[38;5;129;01min\u001b[39;00m group:\n",
      "File \u001b[0;32m~/Desktop/MetaculusQ3AIBenchmark/Superforecaster.py:28\u001b[0m, in \u001b[0;36mSuperforecaster.forecast\u001b[0;34m(self, event, news, rates, group)\u001b[0m\n\u001b[1;32m     26\u001b[0m \u001b[38;5;28mself\u001b[39m\u001b[38;5;241m.\u001b[39mF2 \u001b[38;5;241m=\u001b[39m [x\u001b[38;5;241m.\u001b[39msplit(\u001b[38;5;124m'\u001b[39m\u001b[38;5;124m|\u001b[39m\u001b[38;5;124m'\u001b[39m) \u001b[38;5;28;01mfor\u001b[39;00m x \u001b[38;5;129;01min\u001b[39;00m \u001b[38;5;28mself\u001b[39m\u001b[38;5;241m.\u001b[39mF1] \n\u001b[1;32m     27\u001b[0m \u001b[38;5;28mself\u001b[39m\u001b[38;5;241m.\u001b[39mF3 \u001b[38;5;241m=\u001b[39m [[x \u001b[38;5;28;01mfor\u001b[39;00m x \u001b[38;5;129;01min\u001b[39;00m y \u001b[38;5;28;01mif\u001b[39;00m x] \u001b[38;5;28;01mfor\u001b[39;00m y \u001b[38;5;129;01min\u001b[39;00m \u001b[38;5;28mself\u001b[39m\u001b[38;5;241m.\u001b[39mF2]\n\u001b[0;32m---> 28\u001b[0m \u001b[38;5;28mself\u001b[39m\u001b[38;5;241m.\u001b[39mF4 \u001b[38;5;241m=\u001b[39m [(\u001b[38;5;28mint\u001b[39m(\u001b[38;5;28mid\u001b[39m),\u001b[38;5;28mint\u001b[39m(forecast),rationale) \u001b[38;5;28;01mfor\u001b[39;00m _, \u001b[38;5;28mid\u001b[39m, forecast, rationale \u001b[38;5;129;01min\u001b[39;00m \u001b[38;5;28mself\u001b[39m\u001b[38;5;241m.\u001b[39mF3]\n\u001b[1;32m     29\u001b[0m \u001b[38;5;28mself\u001b[39m\u001b[38;5;241m.\u001b[39mifps \u001b[38;5;241m=\u001b[39m {ifp\u001b[38;5;241m.\u001b[39mid: ifp \u001b[38;5;28;01mfor\u001b[39;00m ifp \u001b[38;5;129;01min\u001b[39;00m group}\n\u001b[1;32m     30\u001b[0m \u001b[38;5;28;01mfor\u001b[39;00m \u001b[38;5;28mid\u001b[39m, forecast, rationale \u001b[38;5;129;01min\u001b[39;00m \u001b[38;5;28mself\u001b[39m\u001b[38;5;241m.\u001b[39mF4:\n",
      "File \u001b[0;32m~/Desktop/MetaculusQ3AIBenchmark/Superforecaster.py:28\u001b[0m, in \u001b[0;36m<listcomp>\u001b[0;34m(.0)\u001b[0m\n\u001b[1;32m     26\u001b[0m \u001b[38;5;28mself\u001b[39m\u001b[38;5;241m.\u001b[39mF2 \u001b[38;5;241m=\u001b[39m [x\u001b[38;5;241m.\u001b[39msplit(\u001b[38;5;124m'\u001b[39m\u001b[38;5;124m|\u001b[39m\u001b[38;5;124m'\u001b[39m) \u001b[38;5;28;01mfor\u001b[39;00m x \u001b[38;5;129;01min\u001b[39;00m \u001b[38;5;28mself\u001b[39m\u001b[38;5;241m.\u001b[39mF1] \n\u001b[1;32m     27\u001b[0m \u001b[38;5;28mself\u001b[39m\u001b[38;5;241m.\u001b[39mF3 \u001b[38;5;241m=\u001b[39m [[x \u001b[38;5;28;01mfor\u001b[39;00m x \u001b[38;5;129;01min\u001b[39;00m y \u001b[38;5;28;01mif\u001b[39;00m x] \u001b[38;5;28;01mfor\u001b[39;00m y \u001b[38;5;129;01min\u001b[39;00m \u001b[38;5;28mself\u001b[39m\u001b[38;5;241m.\u001b[39mF2]\n\u001b[0;32m---> 28\u001b[0m \u001b[38;5;28mself\u001b[39m\u001b[38;5;241m.\u001b[39mF4 \u001b[38;5;241m=\u001b[39m [(\u001b[38;5;28mint\u001b[39m(\u001b[38;5;28mid\u001b[39m),\u001b[38;5;28mint\u001b[39m(forecast),rationale) \u001b[38;5;28;01mfor\u001b[39;00m _, \u001b[38;5;28mid\u001b[39m, forecast, rationale \u001b[38;5;129;01min\u001b[39;00m \u001b[38;5;28mself\u001b[39m\u001b[38;5;241m.\u001b[39mF3]\n\u001b[1;32m     29\u001b[0m \u001b[38;5;28mself\u001b[39m\u001b[38;5;241m.\u001b[39mifps \u001b[38;5;241m=\u001b[39m {ifp\u001b[38;5;241m.\u001b[39mid: ifp \u001b[38;5;28;01mfor\u001b[39;00m ifp \u001b[38;5;129;01min\u001b[39;00m group}\n\u001b[1;32m     30\u001b[0m \u001b[38;5;28;01mfor\u001b[39;00m \u001b[38;5;28mid\u001b[39m, forecast, rationale \u001b[38;5;129;01min\u001b[39;00m \u001b[38;5;28mself\u001b[39m\u001b[38;5;241m.\u001b[39mF4:\n",
      "\u001b[0;31mValueError\u001b[0m: not enough values to unpack (expected 4, got 0)"
     ]
    }
   ],
   "source": [
    "for fcst in forecasters:\n",
    "    fcst.fit()"
   ]
  },
  {
   "cell_type": "code",
   "execution_count": 9,
   "metadata": {},
   "outputs": [
    {
     "name": "stdout",
     "output_type": "stream",
     "text": [
      "MODEL DOMAIN\n",
      "28243 Will Donald Trump sell any shares of Trump Media before October 1, 2024, as revealed by a Form 4 filing?\n",
      "Corporate action\n",
      "28244 Will the USDA-posted recall of Michael Foods Inc.'s Fair Meadow Foundations Liquid Egg Products issued June 30, 2024 be closed before October 1, 2024?\n",
      "Corporate action\n",
      "28245 Will the yield curve be inverted on Friday September 27, 2024?\n",
      "Rate change\n",
      "CORRELATOR\n",
      "NEWS\n",
      "RATES\n",
      "FORECASTING Yield curve inversion on September 27, 2024\n",
      "28245 60 The yield curve has shown recent inversions and brief un-inversions, reflecting market instability and mixed economic signals. Given the recent brief reversion to a positive yield curve and subsequent return to inversion, alongside factors such as potential Federal Reserve rate cuts, there's a significant chance the inversion could persist ten days from now. Therefore, a probability of 60% for inversion on September 27, 2024, seems reasonable given the current data and economic outlook.\n",
      "FORECASTING Recall of Michael Foods Inc.'s Liquid Egg Products\n",
      "28244 15 Based on the pattern and details from similar cases detailed in the news, significant food safety recalls involving major allergens like milk usually require thorough investigation and corrective actions that extend beyond a three-month period. Therefore, I predict a low probability that the recall will be resolved and marked as closed before October 1, 2024.\n",
      "FORECASTING Donald Trump selling Trump Media shares before October 1, 2024\n",
      "28243 10 Donald Trump has repeatedly stated that he has no intention of selling his shares in Trump Media & Technology Group. Given his consistent public declarations and the fact that selling off a substantial amount of shares could negatively affect his political standing and the stock price, it seems highly unlikely he will sell any shares before October 1, 2024. However, the possibility still exists, albeit low.\n"
     ]
    }
   ],
   "source": [
    "fcst.fit()"
   ]
  },
  {
   "cell_type": "code",
   "execution_count": 15,
   "metadata": {},
   "outputs": [
    {
     "name": "stdout",
     "output_type": "stream",
     "text": [
      "forecaster 0\n",
      "28243 Will Donald Trump sell any shares of Trump Media before October 1, 2024, as revealed by a Form 4 filing?\n",
      "Forecast 25\n",
      "Rationale Given the reiterated statements from Donald Trump that he does not intend to sell his shares, and the subsequent market reaction implying trust in his declaration, the probability of him selling any shares before October 1, 2024, remains low. However, considering the volatility of circumstances surrounding Trump's business decisions and public remarks, a minimal probability still exists, hence a cautious estimate. \n",
      "\n",
      "28244 Will the USDA-posted recall of Michael Foods Inc.'s Fair Meadow Foundations Liquid Egg Products issued June 30, 2024 be closed before October 1, 2024?\n",
      "Forecast 10\n",
      "Rationale USDA recalls, particularly involving allergens, often remain active for extended periods to ensure thorough remediation actions and broad notification of potential issues. Given that recalls mentioned in the news, such as the Boar's Head recall, are ongoing and have not been resolved promptly despite significant health impacts, it is unlikely that the recall for Michael Foods Inc.'s liquid egg products will be closed before October 1, 2024. Therefore, the probability of closure happening in the remaining timeframe is quite low. \n",
      "\n",
      "28245 Will the yield curve be inverted on Friday September 27, 2024?\n",
      "Forecast 72\n",
      "Rationale Given the current economic context as described in the news, the yield curve has shown tendencies of re-inverting after brief periods of normalcy. Historical behavior and recent data suggest that such a trend may continue, especially with the upcoming Federal Reserve decisions and market volatility. Therefore, there is a substantial probability that the yield curve will be inverted on September 27, 2024. \n",
      "\n",
      "=====================================================================\n",
      "forecaster 1\n",
      "28243 Will Donald Trump sell any shares of Trump Media before October 1, 2024, as revealed by a Form 4 filing?\n",
      "Forecast 15\n",
      "Rationale Donald Trump has publicly and repeatedly stated that he does not intend to sell any shares. Given the backlash and potential negative impact on the stock price if he were to sell, combined with his current political ambitions and the potential negative publicity, it is unlikely that he will sell shares before October 1, 2024. However, there is always some level of uncertainty with public figures and corporate decisions. \n",
      "\n",
      "28244 Will the USDA-posted recall of Michael Foods Inc.'s Fair Meadow Foundations Liquid Egg Products issued June 30, 2024 be closed before October 1, 2024?\n",
      "Forecast 17\n",
      "Rationale Given the background and the complexity of the recall process, especially involving allergens, it is unlikely the recall will be resolved and closed within the remaining two weeks before the end date. Recalls often take several weeks to several months to be fully resolved. \n",
      "\n",
      "28245 Will the yield curve be inverted on Friday September 27, 2024?\n",
      "Forecast 95\n",
      "Rationale Given the recent news and historical trends regarding yield curve inversion, it is highly likely that the yield curve will remain inverted by September 27, 2024. The brief return to a non-inverted state has been followed by a quick re-inversion, and expectations of further Fed actions imply continued volatility and potential inversion. Historical data also supports persistent inversion in the periods before a recession. \n",
      "\n",
      "=====================================================================\n",
      "forecaster 2\n",
      "28243 Will Donald Trump sell any shares of Trump Media before October 1, 2024, as revealed by a Form 4 filing?\n",
      "Forecast 10\n",
      "Rationale Donald Trump has repeatedly stated that he has no intention of selling his shares in Trump Media & Technology Group. Given his consistent public declarations and the fact that selling off a substantial amount of shares could negatively affect his political standing and the stock price, it seems highly unlikely he will sell any shares before October 1, 2024. However, the possibility still exists, albeit low. \n",
      "\n",
      "28244 Will the USDA-posted recall of Michael Foods Inc.'s Fair Meadow Foundations Liquid Egg Products issued June 30, 2024 be closed before October 1, 2024?\n",
      "Forecast 15\n",
      "Rationale Based on the pattern and details from similar cases detailed in the news, significant food safety recalls involving major allergens like milk usually require thorough investigation and corrective actions that extend beyond a three-month period. Therefore, I predict a low probability that the recall will be resolved and marked as closed before October 1, 2024. \n",
      "\n",
      "28245 Will the yield curve be inverted on Friday September 27, 2024?\n",
      "Forecast 60\n",
      "Rationale The yield curve has shown recent inversions and brief un-inversions, reflecting market instability and mixed economic signals. Given the recent brief reversion to a positive yield curve and subsequent return to inversion, alongside factors such as potential Federal Reserve rate cuts, there's a significant chance the inversion could persist ten days from now. Therefore, a probability of 60% for inversion on September 27, 2024, seems reasonable given the current data and economic outlook. \n",
      "\n",
      "=====================================================================\n",
      "forecaster 3\n",
      "28243 Will Donald Trump sell any shares of Trump Media before October 1, 2024, as revealed by a Form 4 filing?\n",
      "Forecast 10\n",
      "Rationale Given Donald Trump's explicit statements across multiple platforms that he has no intention of selling his shares, and considering the market reaction to these statements, it is highly unlikely that he will reverse his position and sell shares before October 1, 2024. Therefore, the probability that a Form 4 filing will be posted indicating any sale by Trump before this date is very low. \n",
      "\n",
      "28244 Will the USDA-posted recall of Michael Foods Inc.'s Fair Meadow Foundations Liquid Egg Products issued June 30, 2024 be closed before October 1, 2024?\n",
      "Forecast 40\n",
      "Rationale Given that recalls can remain active for extended periods as investigations continue and safety measures are enforced, it is uncertain whether the USDA-posted recall will be closed before October 1, 2024. While a resolution in the next two weeks is possible, the probability appears moderate, considering the time it often takes to resolve such issues and the recall still being active as of now. \n",
      "\n",
      "28245 Will the yield curve be inverted on Friday September 27, 2024?\n",
      "Forecast 70\n",
      "Rationale Given the current continuous fluctuations and inversions observed, it is more likely that the yield curve will revert to being inverted by September 27, 2024. Historical precedent shows that brief periods of normality are often followed by a return to inversion, especially in uncertain economic conditions. The probability reflects the high likelihood but also acknowledges the recent temporary return to a normal yield curve configuration. \n",
      "\n",
      "=====================================================================\n",
      "forecaster 4\n",
      "28243 Will Donald Trump sell any shares of Trump Media before October 1, 2024, as revealed by a Form 4 filing?\n",
      "Forecast 30\n",
      "Rationale Despite Trump's public assertions that he will not sell his shares, the volatile nature of Trump's decision-making and the substantial financial incentives present a non-trivial possibility that he may still decide to sell shares before the lockup period ends. This is especially relevant considering the financial pressures despite his statements. However, given his recent strong public stance, I'll assign a lower probability to the sale occurring within the given timeframe. \n",
      "\n",
      "28244 Will the USDA-posted recall of Michael Foods Inc.'s Fair Meadow Foundations Liquid Egg Products issued June 30, 2024 be closed before October 1, 2024?\n",
      "Forecast 50\n",
      "Rationale Given the recall announcement was made on June 30, 2024, and the typical duration for closing similar recalls, it is equally likely that the USDA-posted recall of Michael Foods Inc.'s Fair Meadow Foundations Liquid Egg Products will be closed before or not closed by October 1, 2024. Therefore, I assign a probability of 50% for both outcomes. \n",
      "\n",
      "28245 Will the yield curve be inverted on Friday September 27, 2024?\n",
      "Forecast 20\n",
      "Rationale The yield curve inversion has shown signs of potentially normalizing and fluctuating back into an inverted state briefly over past months. Given the current upward movement (0.09 on September 13), economic data such as CPI and PPI trending within targets, and market expectations around the Fed’s potential rate cuts, it's less likely the yield curve will be inverted again by September 27, 2024. However, the yield curve dynamics can be unpredictable over such a short horizon, hence a moderate probability is assigned. \n",
      "\n",
      "=====================================================================\n"
     ]
    }
   ],
   "source": [
    "for i, fcst in enumerate(forecasters):\n",
    "    print(\"forecaster\", i)\n",
    "    fcst.report()\n",
    "    print(\"=====================================================================\")"
   ]
  },
  {
   "cell_type": "code",
   "execution_count": 14,
   "metadata": {},
   "outputs": [
    {
     "name": "stdout",
     "output_type": "stream",
     "text": [
      "MODEL DOMAIN\n",
      "28243 Will Donald Trump sell any shares of Trump Media before October 1, 2024, as revealed by a Form 4 filing?\n",
      "Corporate action\n",
      "28244 Will the USDA-posted recall of Michael Foods Inc.'s Fair Meadow Foundations Liquid Egg Products issued June 30, 2024 be closed before October 1, 2024?\n",
      "Other\n",
      "28245 Will the yield curve be inverted on Friday September 27, 2024?\n",
      "Rate change\n",
      "CORRELATOR\n",
      "NEWS\n",
      "RATES\n",
      "FORECASTING Trump Media Share Sale\n",
      "28243 30 Despite Trump's public assertions that he will not sell his shares, the volatile nature of Trump's decision-making and the substantial financial incentives present a non-trivial possibility that he may still decide to sell shares before the lockup period ends. This is especially relevant considering the financial pressures despite his statements. However, given his recent strong public stance, I'll assign a lower probability to the sale occurring within the given timeframe.\n",
      "FORECASTING Yield Curve Inversion\n",
      "28245 20 The yield curve inversion has shown signs of potentially normalizing and fluctuating back into an inverted state briefly over past months. Given the current upward movement (0.09 on September 13), economic data such as CPI and PPI trending within targets, and market expectations around the Fed’s potential rate cuts, it's less likely the yield curve will be inverted again by September 27, 2024. However, the yield curve dynamics can be unpredictable over such a short horizon, hence a moderate probability is assigned.\n",
      "FORECASTING USDA Egg Recall\n",
      "28244 50 Given the recall announcement was made on June 30, 2024, and the typical duration for closing similar recalls, it is equally likely that the USDA-posted recall of Michael Foods Inc.'s Fair Meadow Foundations Liquid Egg Products will be closed before or not closed by October 1, 2024. Therefore, I assign a probability of 50% for both outcomes.\n"
     ]
    }
   ],
   "source": [
    "fcst.fit()"
   ]
  },
  {
   "cell_type": "code",
   "execution_count": 16,
   "metadata": {},
   "outputs": [],
   "source": [
    "import numpy as np\n",
    "from Summarizer import Summarizer\n",
    "from MetacGPT import MetacGPT"
   ]
  },
  {
   "cell_type": "code",
   "execution_count": 17,
   "metadata": {},
   "outputs": [],
   "source": [
    "self = Forecaster({id: IFP(id) for id in today_ids})"
   ]
  },
  {
   "cell_type": "code",
   "execution_count": 18,
   "metadata": {},
   "outputs": [],
   "source": [
    "editor = Summarizer(MetacGPT)"
   ]
  },
  {
   "cell_type": "code",
   "execution_count": 19,
   "metadata": {},
   "outputs": [],
   "source": [
    "for ifp in self.ifps.values():\n",
    "    ifp.forecast = np.mean([fcst.ifps[ifp.id].forecast for fcst in forecasters])\n",
    "    ifp.rationale = editor.summarize('\\n'.join([fcst.ifps[ifp.id].rationale for fcst in forecasters]))"
   ]
  },
  {
   "cell_type": "code",
   "execution_count": 20,
   "metadata": {},
   "outputs": [
    {
     "name": "stdout",
     "output_type": "stream",
     "text": [
      "28243 Will Donald Trump sell any shares of Trump Media before October 1, 2024, as revealed by a Form 4 filing?\n",
      "Forecast 18.0\n",
      "Rationale Despite Donald Trump’s consistent public declarations across multiple platforms that he does not intend to sell his shares in Trump Media & Technology Group, and considering the potential negative implications on stock prices and his political ambitions, the probability of him selling any shares before October 1, 2024, remains very low. However, due to the inherent volatility and unpredictability of Trump's business decisions and the financial pressures, a minimal, though non-trivial, probability persists. \n",
      "\n",
      "28244 Will the USDA-posted recall of Michael Foods Inc.'s Fair Meadow Foundations Liquid Egg Products issued June 30, 2024 be closed before October 1, 2024?\n",
      "Forecast 26.4\n",
      "Rationale Given the background and complexity of food safety recalls, particularly those involving allergens, and considering the typical duration for such recalls to be fully resolved, the probability that the USDA-published recall of Michael Foods Inc.'s liquid egg products will be closed before October 1, 2024, is low. Despite the possibility of a resolution within the next two weeks, the ongoing nature of similar recalls and the extensive measures required for closure render a timely resolution unlikely. \n",
      "\n",
      "28245 Will the yield curve be inverted on Friday September 27, 2024?\n",
      "Forecast 63.4\n",
      "Rationale Given the current economic context and historical trends of the yield curve showing tendencies of brief normalization followed by re-inversion, and considering recent data and market volatility alongside upcoming Federal Reserve decisions, there is a substantial probability that the yield curve will be inverted on September 27, 2024, albeit with some acknowledgment of the unpredictability over such a short horizon. \n",
      "\n"
     ]
    }
   ],
   "source": [
    "self.report()"
   ]
  },
  {
   "cell_type": "code",
   "execution_count": 21,
   "metadata": {},
   "outputs": [
    {
     "name": "stdout",
     "output_type": "stream",
     "text": [
      "Prediction posted for  28243\n",
      "Comment posted for  28243\n",
      "Prediction posted for  28244\n",
      "Comment posted for  28244\n",
      "Prediction posted for  28245\n",
      "Comment posted for  28245\n"
     ]
    }
   ],
   "source": [
    "self.upload()"
   ]
  },
  {
   "cell_type": "code",
   "execution_count": null,
   "metadata": {},
   "outputs": [],
   "source": []
  }
 ],
 "metadata": {
  "colab": {
   "provenance": []
  },
  "kernelspec": {
   "display_name": "q3ai",
   "language": "python",
   "name": "q3ai"
  },
  "language_info": {
   "codemirror_mode": {
    "name": "ipython",
    "version": 3
   },
   "file_extension": ".py",
   "mimetype": "text/x-python",
   "name": "python",
   "nbconvert_exporter": "python",
   "pygments_lexer": "ipython3",
   "version": "3.10.12"
  }
 },
 "nbformat": 4,
 "nbformat_minor": 4
}
