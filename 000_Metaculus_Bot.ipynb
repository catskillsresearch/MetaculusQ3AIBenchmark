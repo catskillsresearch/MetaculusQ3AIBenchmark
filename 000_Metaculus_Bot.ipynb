{
 "cells": [
  {
   "cell_type": "markdown",
   "metadata": {},
   "source": [
    "# 000 Forecasting Bot"
   ]
  },
  {
   "cell_type": "code",
   "execution_count": 1,
   "metadata": {},
   "outputs": [],
   "source": [
    "%load_ext autoreload\n",
    "%autoreload 2"
   ]
  },
  {
   "cell_type": "code",
   "execution_count": 2,
   "metadata": {},
   "outputs": [],
   "source": [
    "from IFP import IFP, list_questions"
   ]
  },
  {
   "cell_type": "code",
   "execution_count": 3,
   "metadata": {},
   "outputs": [],
   "source": [
    "ifps = list_questions()['results']"
   ]
  },
  {
   "cell_type": "code",
   "execution_count": 4,
   "metadata": {},
   "outputs": [
    {
     "data": {
      "text/plain": [
       "[27895, 27896, 27897]"
      ]
     },
     "execution_count": 4,
     "metadata": {},
     "output_type": "execute_result"
    }
   ],
   "source": [
    "today_ids = list(sorted([x['id'] for x in ifps])) if ifps else [27238, 27239, 27240, 27241]\n",
    "today_ids"
   ]
  },
  {
   "cell_type": "code",
   "execution_count": 5,
   "metadata": {},
   "outputs": [],
   "source": [
    "ifps = {id: IFP(id) for id in today_ids}"
   ]
  },
  {
   "cell_type": "code",
   "execution_count": 6,
   "metadata": {},
   "outputs": [],
   "source": [
    "from Forecaster import Forecaster"
   ]
  },
  {
   "cell_type": "code",
   "execution_count": 7,
   "metadata": {},
   "outputs": [],
   "source": [
    "fcst = Forecaster(ifps)"
   ]
  },
  {
   "cell_type": "code",
   "execution_count": 8,
   "metadata": {},
   "outputs": [
    {
     "name": "stdout",
     "output_type": "stream",
     "text": [
      "MODEL DOMAIN\n",
      "27895 Will Alexandre de Moraes cease to be a minister of the Supreme Federal Court of Brazil before October 1, 2024?\n",
      "Leadership change\n",
      "27896 Will there be an all-out war between Israel and Hezbollah before October 1, 2024?\n",
      "Military conflict\n",
      "27897 Will Russia start a second mobilization wave before October 1, 2024, according to the Institute for the Study of War?\n",
      "Military conflict\n",
      "CORRELATOR\n",
      "|Position of Alexandre de Moraes|27895|Will Alexandre de Moraes cease to be a minister of the Supreme Federal Court of Brazil before October 1, 2024?|\n",
      "|Israel-Hezbollah Conflict|27896|Will there be an all-out war between Israel and Hezbollah before October 1, 2024?|\n",
      "|Russian Military Mobilization|27897|Will Russia start a second mobilization wave before October 1, 2024, according to the Institute for the Study of War?|\n",
      "NEWS\n",
      "ASKING\n",
      "Researching Will Russia start a second mobilization wave before October 1, 2024, according to the Institute for the Study of War?\n",
      "ALL\n",
      "According to the Institute for the Study of War (ISW), Russia's military made significant gains in the special military operation zone in August, with the largest advancement since October 2022. ISW reports that Russian forces took control of 477 square kilometers of territory, with the most significant gains made in the Donetsk People's Republic (DNR). Russian forces approached the strategic logistics hub of Pokrovsk, which has raised concerns among Ukrainian officials. As stated by Ukrainian MP Roman Kostenko, 'the loss of Pokrovsk could lead to a series of catastrophes' and 'further defeats' for the Ukrainian army. ISW notes that this is the largest Russian military advancement in the region since October 2022.\n",
      "saved asknews_for_question/27897.json\n",
      "ASKING\n",
      "Researching Will there be an all-out war between Israel and Hezbollah before October 1, 2024?\n",
      "ALL\n",
      "The conflict between Israel and Hezbollah has escalated, with Israel launching a series of airstrikes on Hezbollah targets in Lebanon. The airstrikes were in response to the killing of a high-ranking Hezbollah official, Fouad Chokr, and were intended to demonstrate Israel's ability to strike deep into Lebanese territory. However, Hezbollah has stated that the operation was only a response to the killing of its official and did not engage in any further action. The situation is volatile, with the risk of a full-scale war between Israel and Hezbollah, as well as a potential response from Iran to the killing of its ally, Ismaïl Haniyeh. The US has reinforced its military presence in the region in anticipation of a potential attack by Iran or its allies. However, it is unclear whether the US would engage in a war with Iran if Israel were to attack. The situation is further complicated by the fact that the US has no clear strategy for the region, and its approach has been reactive rather than proactive. The article also discusses the role of the US in the conflict, and how its support for Israel may be conditional on Israel's actions. The article concludes that the situation is precarious, and that a full-scale war between Israel and Hezbollah, as well as a potential response from Iran, could have devastating consequences for the region. \n",
      "saved asknews_for_question/27896.json\n",
      "ASKING\n",
      "Researching Will Alexandre de Moraes cease to be a minister of the Supreme Federal Court of Brazil before October 1, 2024?\n",
      "ALL\n",
      "The Supreme Court of Brazil has banned X in the country, accusing Elon Musk of repeated and voluntary non-compliance with judicial orders. The decision was made by Judge Alexandre de Moraes, who has been in a long-standing dispute with Musk. De Moraes cited 'repeated, conscious, and voluntary non-compliance with judicial orders and payment of fines' as the reason for the ban. The decision was made unanimously by the five members of the First Chamber of the Federal Supreme Court. This move has been seen as a political battle between Musk and de Moraes, with some seeing it as an attempt by the Brazilian government to protect its democracy, while others see it as an authoritarian move by de Moraes. Musk has been critical of de Moraes, calling him a 'dictator' and accusing him of being a puppet of President Luiz Inácio Lula da Silva. The ban comes as Brazil is in the midst of a campaign for municipal elections in October, and former President Jair Bolsonaro has condemned the 'ideological persecution' of 'conservatives'.\n",
      "saved asknews_for_question/27895.json\n",
      "RATES\n",
      "RATES Russian Military Mobilization {'Russian Military Mobilization': \"1. Today's date: 2024-09-03\\n2. End date of the question: 2024-10-01\\n3. Time in days D from today to end date: 28 days\\n4. Specific date at which the event is most likely to occur: N/A\\n5. The likely event date is on or after the question end date.\", 'Israel-Hezbollah Conflict': None, 'Position of Alexandre de Moraes': None}\n",
      "RATES Israel-Hezbollah Conflict {'Russian Military Mobilization': \"1. Today's date: 2024-09-03\\n2. End date of the question: 2024-10-01\\n3. Time in days D from today to end date: 28 days\\n4. Specific date at which the event is most likely to occur: N/A\\n5. The likely event date is on or after the question end date.\", 'Israel-Hezbollah Conflict': \"1. Today's Date: 2024-09-03\\n2. End Date: 2024-10-01\\n3. Time in Days (D): 28 days\\n4. Specific Date at Which Event is Most Likely to Occur: This event is speculative and highly dependent on geopolitical dynamics, making pinpoint predictions difficult. Based on current reporting, an all-out war between Israel and Hezbollah appears unlikely within the next month.\\n5. Likely Event Date: On or after the question end date.\", 'Position of Alexandre de Moraes': None}\n",
      "RATES Position of Alexandre de Moraes {'Russian Military Mobilization': \"1. Today's date: 2024-09-03\\n2. End date of the question: 2024-10-01\\n3. Time in days D from today to end date: 28 days\\n4. Specific date at which the event is most likely to occur: N/A\\n5. The likely event date is on or after the question end date.\", 'Israel-Hezbollah Conflict': \"1. Today's Date: 2024-09-03\\n2. End Date: 2024-10-01\\n3. Time in Days (D): 28 days\\n4. Specific Date at Which Event is Most Likely to Occur: This event is speculative and highly dependent on geopolitical dynamics, making pinpoint predictions difficult. Based on current reporting, an all-out war between Israel and Hezbollah appears unlikely within the next month.\\n5. Likely Event Date: On or after the question end date.\", 'Position of Alexandre de Moraes': \"1. Today's date: 2024-09-03\\n\\n2. End date (the question's end date): 2024-10-01\\n\\n3. Time in days from today to end date: 28 days\\n\\n4. Specific date at which the event is most likely to occur: December 2043\\n\\n5. Likely event date is on or after the question end date\"}\n",
      "FORECASTING Russian Military Mobilization\n",
      "27897 60 The probability of Russia starting a second mobilization wave before October 1, 2024, according to the Institute for the Study of War, is moderately high but not certain. There are multiple reasons supporting this assessment:1. **Contradictory Messages**: While top officials have persistently denied the need for a second mobilization wave, citing sufficient volunteer numbers and personnel, there are ongoing rumors and unconfirmed reports that hint at the possibility of such a move.  2. **Operational Challenges**: Internal dissent on the front lines and the losses reported by various analysts and sources suggest that maintaining current levels of military personnel without renewed mobilization could be challenging.3. **Information from Analytical Groups**: The Institute for the Study of War (ISW) has been vigilant about Russia's military adaptation strategies, while reports show substantial support for the war effort among the Russian populace. Even though mobilization might be unpopular, the Kremlin's flexibility in its protracted war strategy could push them towards taking this step if deemed necessary.4. **Levada Center Polls**: Polls indicate that although the majority of Russians do not expect or see the need for a new wave of mobilization, the decreasing figures in these polls over time suggest shifting public sentiment that could facilitate governmental decisions in favor of additional mobilization if military necessity calls for it.Given these considerations, I estimate a 60% likelihood of a second wave being announced and reported by ISW before the end date.\n",
      "FORECASTING Israel-Hezbollah Conflict\n",
      "27896 20 Given the current circumstances and historical context, an all-out war between Israel and Hezbollah before October 1, 2024, remains improbable. Despite the sustained skirmishes and heightened tensions, both parties have shown a pattern of avoiding full-scale conflict. The presence of US military support for Israel and ongoing diplomatic efforts further reduce the likelihood of a significant escalation within the specified period. Therefore, I assign a 20% probability to the occurrence of an all-out war.\n",
      "FORECASTING Position of Alexandre de Moraes\n",
      "27895 5 Given the significant political support that Moraes has demonstrated through recent actions including hosting influential political figures, as well as the endorsement from many high-ranking individuals in Brazil, it seems very unlikely that he would cease to be a minister of the Supreme Federal Court before October 1, 2024. Furthermore, the impeachment process is complex and lengthy, and with only 28 days remaining, there is insufficient time for such a process to conclude.\n"
     ]
    }
   ],
   "source": [
    "fcst.fit()"
   ]
  },
  {
   "cell_type": "code",
   "execution_count": 9,
   "metadata": {},
   "outputs": [
    {
     "name": "stdout",
     "output_type": "stream",
     "text": [
      "27895 5\n",
      "27896 20\n",
      "27897 60\n"
     ]
    }
   ],
   "source": [
    "for ifp in ifps.values():\n",
    "    try:\n",
    "        print(ifp.id, ifp.forecast)\n",
    "    except:\n",
    "        print(ifp.id, 'none')"
   ]
  },
  {
   "cell_type": "code",
   "execution_count": 10,
   "metadata": {},
   "outputs": [
    {
     "name": "stdout",
     "output_type": "stream",
     "text": [
      "27895 Will Alexandre de Moraes cease to be a minister of the Supreme Federal Court of Brazil before October 1, 2024?\n",
      "Forecast 5\n",
      "Rationale Given the significant political support that Moraes has demonstrated through recent actions including hosting influential political figures, as well as the endorsement from many high-ranking individuals in Brazil, it seems very unlikely that he would cease to be a minister of the Supreme Federal Court before October 1, 2024. Furthermore, the impeachment process is complex and lengthy, and with only 28 days remaining, there is insufficient time for such a process to conclude. \n",
      "\n",
      "27896 Will there be an all-out war between Israel and Hezbollah before October 1, 2024?\n",
      "Forecast 20\n",
      "Rationale Given the current circumstances and historical context, an all-out war between Israel and Hezbollah before October 1, 2024, remains improbable. Despite the sustained skirmishes and heightened tensions, both parties have shown a pattern of avoiding full-scale conflict. The presence of US military support for Israel and ongoing diplomatic efforts further reduce the likelihood of a significant escalation within the specified period. Therefore, I assign a 20% probability to the occurrence of an all-out war. \n",
      "\n",
      "27897 Will Russia start a second mobilization wave before October 1, 2024, according to the Institute for the Study of War?\n",
      "Forecast 60\n",
      "Rationale The probability of Russia starting a second mobilization wave before October 1, 2024, according to the Institute for the Study of War, is moderately high but not certain. There are multiple reasons supporting this assessment:1. **Contradictory Messages**: While top officials have persistently denied the need for a second mobilization wave, citing sufficient volunteer numbers and personnel, there are ongoing rumors and unconfirmed reports that hint at the possibility of such a move.  2. **Operational Challenges**: Internal dissent on the front lines and the losses reported by various analysts and sources suggest that maintaining current levels of military personnel without renewed mobilization could be challenging.3. **Information from Analytical Groups**: The Institute for the Study of War (ISW) has been vigilant about Russia's military adaptation strategies, while reports show substantial support for the war effort among the Russian populace. Even though mobilization might be unpopular, the Kremlin's flexibility in its protracted war strategy could push them towards taking this step if deemed necessary.4. **Levada Center Polls**: Polls indicate that although the majority of Russians do not expect or see the need for a new wave of mobilization, the decreasing figures in these polls over time suggest shifting public sentiment that could facilitate governmental decisions in favor of additional mobilization if military necessity calls for it.Given these considerations, I estimate a 60% likelihood of a second wave being announced and reported by ISW before the end date. \n",
      "\n"
     ]
    }
   ],
   "source": [
    "fcst.report()"
   ]
  },
  {
   "cell_type": "code",
   "execution_count": 11,
   "metadata": {},
   "outputs": [
    {
     "name": "stdout",
     "output_type": "stream",
     "text": [
      "Prediction posted for  27895\n",
      "Comment posted for  27895\n",
      "Prediction posted for  27896\n",
      "Comment posted for  27896\n",
      "Prediction posted for  27897\n",
      "Comment posted for  27897\n"
     ]
    }
   ],
   "source": [
    "fcst.upload()"
   ]
  },
  {
   "cell_type": "code",
   "execution_count": null,
   "metadata": {},
   "outputs": [],
   "source": []
  }
 ],
 "metadata": {
  "colab": {
   "provenance": []
  },
  "kernelspec": {
   "display_name": "trader",
   "language": "python",
   "name": "trader"
  },
  "language_info": {
   "codemirror_mode": {
    "name": "ipython",
    "version": 3
   },
   "file_extension": ".py",
   "mimetype": "text/x-python",
   "name": "python",
   "nbconvert_exporter": "python",
   "pygments_lexer": "ipython3",
   "version": "3.10.6"
  }
 },
 "nbformat": 4,
 "nbformat_minor": 4
}
