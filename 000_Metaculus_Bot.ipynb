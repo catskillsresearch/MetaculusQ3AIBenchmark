{
 "cells": [
  {
   "cell_type": "markdown",
   "metadata": {},
   "source": [
    "# 000 Forecasting Bot"
   ]
  },
  {
   "cell_type": "markdown",
   "metadata": {},
   "source": [
    "Starting from https://colab.research.google.com/drive/1_Il5h2Ed4zFa6Z3bROVCE68LZcSi4wHX?usp=sharing"
   ]
  },
  {
   "cell_type": "markdown",
   "metadata": {},
   "source": [
    "## API Keys"
   ]
  },
  {
   "cell_type": "markdown",
   "metadata": {},
   "source": [
    "In order to run this notebook as is, you'll need to enter a few API keys (use the key icon on the left to input them):\n",
    "\n",
    "- `METACULUS_TOKEN`: you can find your Metaculus token under your bot's user settings page: https://www.metaculus.com/accounts/settings/, or on the bot registration page where you created the account: https://www.metaculus.com/aib/\n",
    "- `OPENAPI_API_KEY`: get one from OpenAIs page: https://platform.openai.com/settings/profile?tab=api-keys\n",
    "- `PERPLEXITY_API_KEY` - used to search up-to-date information about the question. Get one from https://www.perplexity.ai/settings/api"
   ]
  },
  {
   "cell_type": "code",
   "execution_count": 1,
   "metadata": {},
   "outputs": [],
   "source": [
    "from omegaconf import OmegaConf\n",
    "\n",
    "tokens = OmegaConf.create(\"\"\"\n",
    "METACULUS_TOKEN: xx\n",
    "OPENAI_API_KEY: yy\n",
    "OPENAI_MODEL: gpt-4o\n",
    "PERPLEXITY_API_KEY: zz\n",
    "PERPLEXITY_MODEL: llama-3-sonar-large-32k-online\"\"\")\n",
    "\n",
    "token_fn = \"tokens.yaml\"\n",
    "# OmegaConf.save(config=tokens, f=token_fn)\n",
    "config = OmegaConf.load(token_fn)\n",
    "\n",
    "def pr(tokens):\n",
    "    print(OmegaConf.to_yaml(config))"
   ]
  },
  {
   "cell_type": "raw",
   "metadata": {},
   "source": [
    "pr(config)"
   ]
  },
  {
   "cell_type": "markdown",
   "metadata": {},
   "source": [
    "## Prompt Engineering"
   ]
  },
  {
   "cell_type": "markdown",
   "metadata": {},
   "source": [
    "### Perplexity Prompt"
   ]
  },
  {
   "cell_type": "code",
   "execution_count": 2,
   "metadata": {},
   "outputs": [],
   "source": [
    "PERPLEXITY_PROMPT = \"\"\"\n",
    "You are an assistant to a superforecaster.\n",
    "The superforecaster will give you a question they intend to forecast on.\n",
    "To be a great assistant, you generate a concise but detailed rundown of the most relevant news, including if the question would resolve Yes or No based on current information.\n",
    "You do not produce forecasts yourself.\n",
    "You do not make statements about difficulty of prediction.\n",
    "You only provide evidence for predictions.\n",
    "You never draw conclusions.\n",
    "If the question is about a financial time series, please search for a year's worth of market data.  If\n",
    "and only if you can find this data from a specific source, present the source labelled \"Source, the data labelled \"History\", and\n",
    "the mean of this data labelled \"Mean\", \n",
    "the annualized standard deviation of this data labelled \"Annualized Standard Deviation\",\n",
    "the time to expiry in years of this question labelled \"Time to Expiry in Years\",\n",
    "and the slope of this data labelled \"Slope\"; otherwise, say nothing.  \n",
    "Do not under any circumstances hallucinate, guess, estimate or make up data.   \n",
    "Only quote data from a specifc source obtained via web search.\n",
    "\"\"\""
   ]
  },
  {
   "cell_type": "markdown",
   "metadata": {
    "id": "K1v6Sy5K-NJT"
   },
   "source": [
    "### OpenAI Prompt"
   ]
  },
  {
   "cell_type": "markdown",
   "metadata": {
    "id": "K1v6Sy5K-NJT"
   },
   "source": [
    "You can change the prompt below to experiment. Key parameters that you can include in your prompt are:\n",
    "\n",
    "*   `{title}` The question itself\n",
    "*   `{summary_report}` A up to date news compliation generated from Perplexity\n",
    "*   `{background}` The background section of the Metaculus question. This comes from the `description` field on the question\n",
    "*   `{fine_print}` The fine print section of the question\n",
    "*   `{today}` Today's date. Remember that your bot doesn't know the date unless you tell it explicitly!\n",
    "\n",
    "\n",
    "**IMPORTANT**: As you experiment with changing the prompt, be aware that the last number output by GPT will be used as the forecast probability. The last line in the template specifies that."
   ]
  },
  {
   "cell_type": "code",
   "execution_count": 3,
   "metadata": {
    "id": "vNStT_eV8tLG"
   },
   "outputs": [],
   "source": [
    "PROMPT_TEMPLATE = \"\"\"\n",
    "You are a professional forecaster interviewing for a job.\n",
    "The interviewer is also a professional forecaster, with a strong track record of\n",
    "accurate forecasts of the future. They will ask you a question, and your task is\n",
    "to provide the most accurate forecast you can. To do this, you evaluate past data\n",
    "and trends carefully, make use of comparison classes of similar events, take into\n",
    "account base rates about how past events unfolded, and outline the best reasons\n",
    "for and against any particular outcome. Don't use forecasting predictions from Metaculus or any other crowd forecasting site.\n",
    "If there is a well-known mathematical model for this type of question, please cite and apply the model, and show the steps of your work to apply it.\n",
    "For viral transmission questions, describe the best viral transmission model for that kind of virus, and apply it.\n",
    "You know that great forecasters don't just forecast according to the \"vibe\" of the question and the considerations.\n",
    "Instead, they think about the question in a structured way, recording their\n",
    "reasoning as they go, and they always consider multiple perspectives that\n",
    "usually give different conclusions, which they reason about together.\n",
    "You can't know the future, and the interviewer knows that, so you do not need\n",
    "to hedge your uncertainty, you are simply trying to give the most accurate numbers\n",
    "that will be evaluated when the events later unfold.\n",
    "If the question is about a financial time series, estimate the time from today to the resolution date of the question,\n",
    "and if you are provided with a time series or can find one, use it to calibrate an appropriate statistical model, \n",
    "and then apply statistical reasoning to estimate the probability of the event being discussed,\n",
    "and show your work including any and all intermediate calculations.\n",
    "Pay attention to subclasses when making estimates.  For example, if the question asks for \"light duty electric vehicle sales\", \n",
    "be sure to restrict the focus to the subclass \"light duty\" of \"electric vehicle\", and similarly for other topics.\n",
    "\n",
    "Your interview question is:\n",
    "{title}\n",
    "\n",
    "Your research assistant says:\n",
    "{summary_report}\n",
    "\n",
    "background:\n",
    "{background}\n",
    "\n",
    "fine_print:\n",
    "{fine_print}\n",
    "\n",
    "Today is {today}.\n",
    "\n",
    "You place your math formulas and equations between \\( and \\) (for inline equations) or \\[ and \\] (for displayed equations). \n",
    "\n",
    "Please long-form rationale under heading \"Detailed rationale\" and a 200 words or less summary of the rationale under heading \"Executive Summary\".\n",
    "Please give your final answer as: \"Probability: ZZ%\", where ZZ is an integer between 1 and 99 under heading \"Forecast\".\n",
    "\"\"\""
   ]
  },
  {
   "cell_type": "markdown",
   "metadata": {
    "id": "iDukuXArbgdm"
   },
   "source": [
    "## LLM and Metaculus Interaction"
   ]
  },
  {
   "cell_type": "markdown",
   "metadata": {
    "id": "iDukuXArbgdm"
   },
   "source": [
    "This section sets up some simple helper code you can use to get data about forecasting questions and to submit a prediction"
   ]
  },
  {
   "cell_type": "code",
   "execution_count": 4,
   "metadata": {
    "id": "HifodCwcGU0j"
   },
   "outputs": [],
   "source": [
    "import datetime\n",
    "import json\n",
    "import os\n",
    "import requests\n",
    "import re\n",
    "from openai import OpenAI\n",
    "from tqdm import tqdm"
   ]
  },
  {
   "cell_type": "code",
   "execution_count": 5,
   "metadata": {
    "id": "HifodCwcGU0j"
   },
   "outputs": [],
   "source": [
    "AUTH_HEADERS = {\"headers\": {\"Authorization\": f\"Token {config.METACULUS_TOKEN}\"}}\n",
    "API_BASE_URL = \"https://www.metaculus.com/api2\"\n",
    "WARMUP_TOURNAMENT_ID = 3349\n",
    "SUBMIT_PREDICTION = True\n",
    "\n",
    "def find_number_before_percent(s):\n",
    "    # Use a regular expression to find all numbers followed by a '%'\n",
    "    matches = re.findall(r'(\\d+)%', s)\n",
    "    if matches:\n",
    "        # Return the last number found before a '%'\n",
    "        return int(matches[-1])\n",
    "    else:\n",
    "        # Return None if no number found\n",
    "        return None\n",
    "\n",
    "def post_question_comment(question_id, comment_text):\n",
    "    \"\"\"\n",
    "    Post a comment on the question page as the bot user.\n",
    "    \"\"\"\n",
    "\n",
    "    response = requests.post(\n",
    "        f\"{API_BASE_URL}/comments/\",\n",
    "        json={\n",
    "            \"comment_text\": comment_text,\n",
    "            \"submit_type\": \"N\",\n",
    "            \"include_latest_prediction\": True,\n",
    "            \"question\": question_id,\n",
    "        },\n",
    "        **AUTH_HEADERS,\n",
    "    )\n",
    "    response.raise_for_status()\n",
    "    print(\"Comment posted for \", question_id)\n",
    "\n",
    "def post_question_prediction(question_id, prediction_percentage):\n",
    "    \"\"\"\n",
    "    Post a prediction value (between 1 and 100) on the question.\n",
    "    \"\"\"\n",
    "    url = f\"{API_BASE_URL}/questions/{question_id}/predict/\"\n",
    "    response = requests.post(\n",
    "        url,\n",
    "        json={\"prediction\": float(prediction_percentage) / 100},\n",
    "        **AUTH_HEADERS,\n",
    "    )\n",
    "    response.raise_for_status()\n",
    "    print(\"Prediction posted for \", question_id)\n",
    "\n",
    "\n",
    "def get_question_details(question_id):\n",
    "    \"\"\"\n",
    "    Get all details about a specific question.\n",
    "    \"\"\"\n",
    "    url = f\"{API_BASE_URL}/questions/{question_id}/\"\n",
    "    response = requests.get(\n",
    "        url,\n",
    "        **AUTH_HEADERS,\n",
    "    )\n",
    "    response.raise_for_status()\n",
    "    return json.loads(response.content)\n",
    "\n",
    "def list_questions(tournament_id=WARMUP_TOURNAMENT_ID, offset=0, count=1000):\n",
    "    \"\"\"\n",
    "    List (all details) {count} questions from the {tournament_id}\n",
    "    \"\"\"\n",
    "    url_qparams = {\n",
    "        \"limit\": count,\n",
    "        \"offset\": offset,\n",
    "        \"has_group\": \"false\",\n",
    "        \"order_by\": \"-activity\",\n",
    "        \"forecast_type\": \"binary\",\n",
    "        \"project\": tournament_id,\n",
    "        \"status\": \"open\",\n",
    "        \"type\": \"forecast\",\n",
    "        \"include_description\": \"true\",\n",
    "    }\n",
    "    url = f\"{API_BASE_URL}/questions/\"\n",
    "    response = requests.get(url, **AUTH_HEADERS, params=url_qparams)\n",
    "    response.raise_for_status()\n",
    "    data = json.loads(response.content)\n",
    "    return data\n",
    "\n",
    "def call_perplexity(query):\n",
    "    url = \"https://api.perplexity.ai/chat/completions\"\n",
    "    headers = {\n",
    "        \"accept\": \"application/json\",\n",
    "        \"authorization\": f\"Bearer {config.PERPLEXITY_API_KEY}\",\n",
    "        \"content-type\": \"application/json\",\n",
    "    }\n",
    "    payload = {\n",
    "        \"model\": config.PERPLEXITY_MODEL,\n",
    "        \"messages\": [\n",
    "            {\n",
    "                \"role\": \"system\",\n",
    "                \"content\": PERPLEXITY_PROMPT,\n",
    "            },\n",
    "            {\"role\": \"user\", \"content\": query},\n",
    "        ],\n",
    "    }\n",
    "    response = requests.post(url=url, json=payload, headers=headers)\n",
    "    response.raise_for_status()\n",
    "    content = response.json()[\"choices\"][0][\"message\"][\"content\"]\n",
    "    return content, PERPLEXITY_PROMPT + \"\\n\" + query\n",
    "\n",
    "def get_gpt_prediction(question_details):\n",
    "    today = datetime.datetime.now().strftime(\"%Y-%m-%d\")\n",
    "    client = OpenAI(api_key=config.OPENAI_API_KEY)\n",
    "\n",
    "    title = question_details[\"title\"]\n",
    "    resolution_criteria = question_details[\"resolution_criteria\"]\n",
    "    background = question_details[\"description\"]\n",
    "    fine_print = question_details[\"fine_print\"]\n",
    "\n",
    "    # Comment this line to not use perplexity\n",
    "    summary_report, perp_prompt = call_perplexity(title)\n",
    "    gpt_prompt = PROMPT_TEMPLATE.format(\n",
    "                title=title,\n",
    "                summary_report=summary_report,\n",
    "                today=today,\n",
    "                background=background,\n",
    "                fine_print=fine_print\n",
    "            )\n",
    "    chat_completion = client.chat.completions.create(\n",
    "        #model=\"gpt-3.5-turbo-1106\",\n",
    "        model=config.OPENAI_MODEL,\n",
    "        messages=[\n",
    "        {\n",
    "            \"role\": \"user\",\n",
    "            \"content\": gpt_prompt\n",
    "        }\n",
    "        ]\n",
    "    )\n",
    "\n",
    "    gpt_text = chat_completion.choices[0].message.content\n",
    "\n",
    "    # Regular expression to find the number following 'Probability: '\n",
    "    probability_match = find_number_before_percent(gpt_text)\n",
    "\n",
    "    # Extract the number if a match is found\n",
    "    probability = None\n",
    "    if probability_match:\n",
    "        probability = int(probability_match) # int(match.group(1))\n",
    "        print(f\"The extracted probability is: {probability}%\")\n",
    "        probability = min(max(probability, 1), 99) # To prevent extreme forecasts\n",
    "\n",
    "    return probability, summary_report, gpt_text, perp_prompt, gpt_prompt"
   ]
  },
  {
   "cell_type": "markdown",
   "metadata": {
    "id": "9WUvm1tVmMkO"
   },
   "source": [
    "## Forecaster"
   ]
  },
  {
   "cell_type": "code",
   "execution_count": 6,
   "metadata": {},
   "outputs": [],
   "source": [
    "class Forecaster:\n",
    "\n",
    "    def __init__(self, question_id):\n",
    "        self.question_id = question_id\n",
    "        self.forecast()\n",
    "\n",
    "    def forecast(self):\n",
    "        self.question_details = get_question_details(self.question_id)\n",
    "        self.prediction, self.perplexity_result, self.gpt_result, self.perp_prompt, self.gpt_prompt = get_gpt_prediction(self.question_details)\n",
    "        self.comment = f\"PERPLEXITY {config.PERPLEXITY_MODEL}\\n\\n\" + self.perplexity_result + \"\\n\\n#########\\n\\n\" + f\"GPT {config.OPENAI_MODEL}\\n\\n\" + self.gpt_result\n",
    "\n",
    "    def report(self):\n",
    "        rpt = \"\"\n",
    "        rpt += f\"\"\"\n",
    "# {self.question_id} {self.question_details['title']}\n",
    "\n",
    "## FORECAST\n",
    "{self.prediction}\n",
    "\n",
    "## PERPLEXITY\n",
    "{self.perplexity_result}\n",
    "\n",
    "## OPENAI\n",
    "{self.gpt_result}\n",
    "\"\"\"\n",
    "        return rpt\n",
    "\n",
    "    def upload(self):\n",
    "        post_question_prediction(self.question_id, self.prediction)\n",
    "        post_question_comment(self.question_id, self.comment)\n",
    "\n",
    "    def upload(self):\n",
    "        post_question_prediction(self.question_id, self.prediction)\n",
    "        post_question_comment(self.question_id, self.comment)"
   ]
  },
  {
   "cell_type": "markdown",
   "metadata": {},
   "source": [
    "## Practice"
   ]
  },
  {
   "cell_type": "markdown",
   "metadata": {},
   "source": [
    "practice_ids = [(20758, 'https://www.metaculus.com/questions/20758/openai-describes-q-in-2024/'),\n",
    "                (20757, 'https://www.metaculus.com/questions/20757/ev-sales-share-above-11-in-us-in-2024/'),\n",
    "                (20752, 'https://www.metaculus.com/questions/20752/russo-ukraine-cease-fire-in-2024/'),\n",
    "                (20789, 'https://www.metaculus.com/questions/20789/fed-funds-rate-below-4/'),\n",
    "                (20775, 'https://www.metaculus.com/questions/20775/starship-reaches-orbit-in-2024/'),\n",
    "                (20759, 'https://www.metaculus.com/questions/20759/ai-wins-coding-competition-in-2024/'),\n",
    "                (20768, 'https://www.metaculus.com/questions/20768/10-deaths-due-to-nuclear-detonation-in-2024/'),\n",
    "                (20770, 'https://www.metaculus.com/questions/20770/ethiopia-eritrea-100-conflict-deaths-in-2024/'),\n",
    "                (20784, 'https://www.metaculus.com/questions/20784/us-refugee-admissions-above-100k-in-fy-2024/')]\n",
    "\n",
    "p1 = Forecaster(practice_ids[-1][0])\n",
    "\n",
    "print(p1.report())"
   ]
  },
  {
   "cell_type": "markdown",
   "metadata": {},
   "source": [
    "## Daily forecast"
   ]
  },
  {
   "cell_type": "markdown",
   "metadata": {},
   "source": [
    "### Get IFP ids"
   ]
  },
  {
   "cell_type": "code",
   "execution_count": 7,
   "metadata": {},
   "outputs": [],
   "source": [
    "ifps = list_questions()['results']\n",
    "today_ids = list(sorted([x['id'] for x in ifps]))\n",
    "# today_ids = [25876, 25877, 25875, 25873, 25871, 25878, 25874, 25872] # 08JUL24\n",
    "# today_ids = [26006, 25936, 25935, 25934, 25933, 26004, 26005] # 09JUL24\n",
    "# today_ids = [25955, 25956, 25957, 25960, 25959, 25954, 25953, 25952, 25958] # 10JUL24\n",
    "# today_ids = [26019, 26018, 26017, 26020, 26022, 26021, 26023, 26024] # 11JUL24\n",
    "# today_ids = [26095, 26096, 26097, 26098, 26099, 26100, 26101, 26102] # 12JUL24\n",
    "# today_ids = [26133, 26134, 26138, 26139, 26140, 26157, 26158, 26159] # 15JUL24\n",
    "# today_ids = [[26189, 26190, 26191, 26192, 26193, 26194, 26195, 26196] # 16JUL24"
   ]
  },
  {
   "cell_type": "code",
   "execution_count": 8,
   "metadata": {
    "scrolled": true
   },
   "outputs": [
    {
     "data": {
      "text/plain": [
       "[26189, 26190, 26191, 26192, 26193, 26194, 26195, 26196]"
      ]
     },
     "execution_count": 8,
     "metadata": {},
     "output_type": "execute_result"
    }
   ],
   "source": [
    "today_ids"
   ]
  },
  {
   "cell_type": "markdown",
   "metadata": {},
   "source": [
    "## Forecast"
   ]
  },
  {
   "cell_type": "code",
   "execution_count": 9,
   "metadata": {},
   "outputs": [
    {
     "name": "stderr",
     "output_type": "stream",
     "text": [
      " 12%|█████▋                                       | 1/8 [00:15<01:47, 15.33s/it]"
     ]
    },
    {
     "name": "stdout",
     "output_type": "stream",
     "text": [
      "The extracted probability is: 75%\n"
     ]
    },
    {
     "name": "stderr",
     "output_type": "stream",
     "text": [
      " 25%|███████████▎                                 | 2/8 [00:36<01:52, 18.79s/it]"
     ]
    },
    {
     "name": "stdout",
     "output_type": "stream",
     "text": [
      "The extracted probability is: 20%\n"
     ]
    },
    {
     "name": "stderr",
     "output_type": "stream",
     "text": [
      " 38%|████████████████▉                            | 3/8 [00:50<01:23, 16.61s/it]"
     ]
    },
    {
     "name": "stdout",
     "output_type": "stream",
     "text": [
      "The extracted probability is: 3%\n"
     ]
    },
    {
     "name": "stderr",
     "output_type": "stream",
     "text": [
      " 50%|██████████████████████▌                      | 4/8 [01:05<01:03, 15.76s/it]"
     ]
    },
    {
     "name": "stdout",
     "output_type": "stream",
     "text": [
      "The extracted probability is: 28%\n"
     ]
    },
    {
     "name": "stderr",
     "output_type": "stream",
     "text": [
      " 62%|████████████████████████████▏                | 5/8 [01:16<00:42, 14.20s/it]"
     ]
    },
    {
     "name": "stdout",
     "output_type": "stream",
     "text": [
      "The extracted probability is: 69%\n"
     ]
    },
    {
     "name": "stderr",
     "output_type": "stream",
     "text": [
      " 75%|█████████████████████████████████▊           | 6/8 [01:29<00:27, 13.93s/it]"
     ]
    },
    {
     "name": "stdout",
     "output_type": "stream",
     "text": [
      "The extracted probability is: 95%\n"
     ]
    },
    {
     "name": "stderr",
     "output_type": "stream",
     "text": [
      " 88%|███████████████████████████████████████▍     | 7/8 [01:40<00:13, 13.01s/it]"
     ]
    },
    {
     "name": "stdout",
     "output_type": "stream",
     "text": [
      "The extracted probability is: 40%\n"
     ]
    },
    {
     "name": "stderr",
     "output_type": "stream",
     "text": [
      "100%|█████████████████████████████████████████████| 8/8 [01:59<00:00, 14.92s/it]"
     ]
    },
    {
     "name": "stdout",
     "output_type": "stream",
     "text": [
      "The extracted probability is: 75%\n"
     ]
    },
    {
     "name": "stderr",
     "output_type": "stream",
     "text": [
      "\n"
     ]
    }
   ],
   "source": [
    "predictions = {}\n",
    "for question_id in tqdm(today_ids):\n",
    "    predictions[question_id] = Forecaster(question_id)"
   ]
  },
  {
   "cell_type": "markdown",
   "metadata": {},
   "source": [
    "## Report"
   ]
  },
  {
   "cell_type": "code",
   "execution_count": 10,
   "metadata": {},
   "outputs": [
    {
     "data": {
      "text/markdown": [
       "\n",
       "===========================================================================================================\n",
       "\n",
       "# 26189 Will a swimmer win the most gold medals at the 2024 Paris Olympics?\n",
       "\n",
       "## FORECAST\n",
       "75\n",
       "\n",
       "## PERPLEXITY\n",
       "The question is whether a swimmer will win the most gold medals at the 2024 Paris Olympics.\n",
       "\n",
       "### Relevant News\n",
       "\n",
       "- Katie Ledecky, an American swimmer, is expected to continue her dominance in the pool and add to her medal count at the 2024 Paris Olympics.\n",
       "- Ledecky holds multiple world records and has won five Olympic gold medals before starting college.\n",
       "- The United States is sending a strong swim team to the Paris Olympics, with six individuals ranked number one in the world.\n",
       "- Gretchen Walsh and Regan Smith are among the top-ranked American swimmers, with Walsh holding the world record in the 100m butterfly and Smith holding the world record in the 100m backstroke.\n",
       "\n",
       "### Current Information\n",
       "\n",
       "Based on the current information, it appears that a swimmer, particularly Katie Ledecky, has a strong chance of winning the most gold medals at the 2024 Paris Olympics.\n",
       "\n",
       "## OPENAI\n",
       "### Detailed Rationale\n",
       "\n",
       "#### Historical Data and Base Rates\n",
       "\n",
       "To forecast whether a swimmer will win the most gold medals at the 2024 Paris Olympics, it's useful to start by examining past data:\n",
       "\n",
       "1. **Past Olympics**: Historically, swimmers have often been among the top gold medal earners.\n",
       "    - *2016 Rio Olympics*: Michael Phelps won 5 gold medals.\n",
       "    - *2020 Tokyo Olympics*: Caeleb Dressel won 5 gold medals.\n",
       "  \n",
       "2. **Event Structures**: Swimming offers more medal opportunities compared to other sports. Athletes like Katie Ledecky can compete in multiple events, increasing their chances to win multiple gold medals.\n",
       "\n",
       "#### Current Trends and Comparisons\n",
       "\n",
       "3. **Performance Metrics**:\n",
       "    - Katie Ledecky holds multiple world records and has shown consistent dominance.\n",
       "    - Gretchen Walsh and Regan Smith are also world record holders in their respective events.\n",
       "    - The U.S. swimming team features six athletes ranked number one, indicating a strong likelihood of multiple medal wins.\n",
       "\n",
       "#### Athletic Competition\n",
       "\n",
       "4. **Athletics and Gymnastics**: These sports also allow multiple medal opportunities, but historical data shows fewer athletes from these sports winning the most golds compared to swimmers.\n",
       "\n",
       "#### Forecasting Models:\n",
       "\n",
       "5. **Poisson Distribution**: We can use the Poisson distribution to estimate the number of gold medals any athlete could win, given their historical performance and event participation.\n",
       "    \n",
       "    If \\( \\lambda \\) is the average number of gold medals expected to be won by top swimmers (e.g., Katie Ledecky, based on past data: 4 medals), the probability \\( Pr(X=k) \\) of winning \\( k \\) gold medals is given by:\n",
       "    \n",
       "    \\[\n",
       "    Pr(X=k) = \\frac{\\lambda^k e^{-\\lambda}}{k!}\n",
       "    \\]\n",
       "    \n",
       "    For \\( \\lambda = 4 \\):\n",
       "    \n",
       "    \\[\n",
       "    Pr(X=4) = \\frac{4^4 e^{-4}}{4!} = \\frac{256 e^{-4}}{24} \\approx 0.195\n",
       "    \\]\n",
       "    \n",
       "    This suggests a significant likelihood of top swimmers achieving a high number of gold medals.\n",
       "    \n",
       "#### Competition Analysis:\n",
       "\n",
       "6. **Other Possible Contenders**:\n",
       "    - Gymnasts like Simone Biles are likely to be strong contenders but their event count is lower.\n",
       "    - Athletes in athletics generally spread across more competitors, reducing the likelihood of a single athlete dominating.\n",
       "\n",
       "Based on these various perspectives, a swimmer, especially from the current strong U.S. lineup, has the highest probability of winning the most gold medals.\n",
       "\n",
       "### Executive Summary\n",
       "\n",
       "This forecast is based on historical data, current information on athlete performance, and the structure of events at the Olympics. The predominance of top-ranked swimmers, such as Katie Ledecky, in multiple events, increases the likelihood of them winning the most gold medals. Swimmers benefit from more medal opportunities than athletes in gymnastics and athletics. Historical precedence and current performance trends further support this likelihood.\n",
       "\n",
       "### Forecast\n",
       "\n",
       "Probability: 75%\n",
       "\n",
       "===========================================================================================================\n",
       "\n",
       "===========================================================================================================\n",
       "\n",
       "# 26190 Will the UK Government ban any UK oil and gas licenses currently being processed by September 1, 2024?\n",
       "\n",
       "## FORECAST\n",
       "20\n",
       "\n",
       "## PERPLEXITY\n",
       "The UK Government is grappling with a legal dilemma regarding its plan to impose an immediate ban on new North Sea oil and gas exploration licenses. The current licensing round, initiated in the fall of 2023, saw numerous oil and gas companies submitting bids for exploration activities across various North Sea, Irish Sea, and east Atlantic blocks. Despite most bids being processed, a few fields awaited decisions when the election was announced. The North Sea Transition Authority (NSTA) indicated a need for further evaluation on some applications, leaving open the possibility of additional offers in the future.\n",
       "\n",
       "The UK Department for Energy Security and Net Zero has confirmed its stance on oil and gas licensing, stating that they will not issue new licenses to explore new fields but will manage existing fields for the entirety of their lifespan. The department is working with the NSTA to ensure a fair and balanced transition in the North Sea.\n",
       "\n",
       "There are concerns that halting the licensing process could expose the government to potential legal challenges from companies that have heavily invested in their bids. The government is poised to seek counsel on implementing its North Sea strategy without inviting legal disputes from oil and gas firms before making a final call on the current licensing round.\n",
       "\n",
       "Based on current information, it appears that the government is considering its options carefully and may not ban any UK oil and gas licenses currently being processed by September 1, 2024, to avoid legal challenges. However, the final decision has not been made yet, and the government is still evaluating its options.\n",
       "\n",
       "## OPENAI\n",
       "### Executive Summary\n",
       "The likelihood of the UK government banning any UK oil and gas licenses currently being processed by September 1, 2024 appears low. The government faces significant legal risks if they halt the licensing process, given the substantial investments already made by companies. Labour's manifesto highlights their commitment to not issuing new licenses but also clearly states that they won't revoke existing ones. While there are conflicting media reports, the overarching political and economic landscape suggests the UK government will likely avoid actions that could lead to legal complications and economic disruptions. Analyzing historic political behavior, regulatory consistency, and current economic needs, the probability of such a ban is estimated to be 20%.\n",
       "\n",
       "### Detailed Rationale\n",
       "\n",
       "**1. Historical Context and Base Rates:**\n",
       "Historically, governments have been cautious about making abrupt changes to existing agreements involving substantial investments due to legal and economic implications. Based on past instances where governments have altered energy policies, similar initiatives typically faced extensive legal scrutiny and opposition. \n",
       "\n",
       "**2. Current Political and Economic Landscape:**\n",
       "The UK heavily relies on oil and gas for economic stability and job creation. According to Offshore Energies UK, the sector supports over £20 billion and 200,000 jobs. Abrupt policy changes that disrupt this sector could face backlash. The Labour party’s manifesto commitment not to issue new licenses but maintain existing ones reaffirms their cautious yet progressive approach.\n",
       "\n",
       "**3. Legal Risks:**\n",
       "Halting the processing of current applications could lead to extensive legal challenges from companies who have invested significantly in their bids. To avoid this risk, governments typically transition policies more gradually, ensuring compliance with existing contracts while preparing to phase in new regulations.\n",
       "\n",
       "**4. Statements from Government Bodies:**\n",
       "The North Sea Transition Authority (NSTA) has shown a degree of caution around existing applications, indicating a careful evaluation rather than an outright halt. The Department for Energy Security and Net Zero reaffirms managing existing fields for their lifespan, aligning with avoiding immediate bans.\n",
       "\n",
       "**5. Media Reports:**\n",
       "Conflicting media reports, such as those from the Financial Times and Daily Telegraph, suggest internal deliberations but no definitive action. The lack of outright confirmation from the government adds to the uncertainty but leans towards continuity rather than abrupt termination.\n",
       "\n",
       "**6. Comparison Class Analysis:**\n",
       "Examining similar global examples, governments often delay or cautiously approach halting existing projects, especially with substantial economic implications. Aligning with international trends, the UK government will likely follow a similar pattern to avoid legal and economic fallout.\n",
       "\n",
       "**Mathematical Model and Calculation:**\n",
       "While predicting political decisions doesn’t perfectly align with typical mathematical models used in finance or viral transmission, a Bayesian approach combining base rates of historical precedent and current indicators can be illustrative:\n",
       "\n",
       "\\[\n",
       "P(\\text{Ban by Sept 1, 2024}) = \\frac{P(\\text{Policy Shift}|\\text{Indicators}) \\cdot P(\\text{Indicators})}{P(\\text{Policy Shift})}\n",
       "\\]\n",
       "\n",
       "Where:\n",
       "- \\( P(\\text{Policy Shift}) \\) is the general probability of changing significant policies mid-way which is derived from historical incidences (estimated at around 10%).\n",
       "- \\( P(\\text{Indicators}) \\) is the observed likelihood of indicators (legal risk, economic dependency) suggesting non-termination.\n",
       "- \\( P(\\text{Policy Shift}|\\text{Indicators}) \\) combines these observations, estimated through observed government cautious behavior and media uncertainty at around 20%.\n",
       "\n",
       "Combining these factors through Bayesian rules refines the final probability estimate.\n",
       "\n",
       "### Forecast\n",
       "**Probability: 20%**\n",
       "\n",
       "===========================================================================================================\n",
       "\n",
       "===========================================================================================================\n",
       "\n",
       "# 26191 Before August 22, 2024, will President Joe Biden take any of these specific actions to end his candidacy for re-election?\n",
       "\n",
       "## FORECAST\n",
       "3\n",
       "\n",
       "## PERPLEXITY\n",
       "President Joe Biden is currently on track to secure the Democratic nomination for a potential second term through electronic voting by delegates. Despite ongoing debates and concerns among some Democrats about his fitness for office, there is no indication that he will take any specific actions to end his candidacy for re-election before August 22, 2024.\n",
       "\n",
       "## OPENAI\n",
       "### Executive Summary\n",
       "\n",
       "Given the current situation, President Joe Biden's potential to end his candidacy for re-election before August 22, 2024, hinges on multiple factors, including public opinion, health considerations, campaign dynamics, and party pressure. There is significant pressure from within the Democratic Party, with calls from lawmakers for him to drop out. Historical precedents and the high stakes of the Presidential election suggest that while such a move is rare, it's not outside the realm of possibility. \n",
       "\n",
       "Several factors lean towards both sides of the argument: Biden's historical resilience and commitment to his campaign versus increasing doubts from his own party about his electability and ability to fulfill another term. Studying historical incumbency patterns, internal party pressures, and recent public metrics leads to a structured forecast on this matter.\n",
       "\n",
       "### Detailed Rationale\n",
       "\n",
       "To create the most accurate forecast, we will consider historical patterns of incumbent candidacy withdrawal, base rates of similar political situations, and the specific circumstances surrounding President Biden's current campaign.\n",
       "\n",
       "#### Historical Incumbency Patterns\n",
       "A detailed analysis of past presidential elections reveals that incumbent candidates rarely withdraw their candidacies. Since the 20th century, we find very few instances where an incumbent president or a main party candidate stepped down. The notable case is President Lyndon B. Johnson in 1968, who announced he wouldn’t seek re-election due to dwindling support amidst the Vietnam War. This lack of precedence provides a low base rate for an incumbent candidate stepping down at this late stage in the campaign season.\n",
       "\n",
       "#### Party Dynamics and Pressures\n",
       "Current data indicates that 12 Democratic lawmakers have openly requested President Biden to withdraw from the race. However, it’s crucial to note that he retains considerable institutional support within the party. Despite his debate performance and subsequent controversies, the default position for any major political party is to rally behind their incumbent.\n",
       "\n",
       "#### Health and Fitness Considerations\n",
       "There are growing discussions about Biden’s fitness for office, substantiated by high-profile debate gaffes and media coverage. While health concerns or sudden changes could force a withdrawal, publicly available information as of now does not confirm any acute health crisis.\n",
       "\n",
       "#### Campaign Viability\n",
       "The viability of Biden’s campaign post the noted debate disaster has taken a significant hit, with reduced fundraising efforts being a critical indicator. However, it is important to note that the machinery of a presidential campaign is robust, and it can survive individual bad events unless compounded systematically over a longer period.\n",
       "\n",
       "### Applying the Statistical and Comparative Framework\n",
       "Let’s define the problem within a probabilistic framework:\n",
       "1. **Base Rate**: Historical probability of an incumbent candidate withdrawing before the convention is extremely low, perhaps around 1-3%.\n",
       "2. **Current Context**: Adjusting for the unique pressures Biden faces, including public health concerns and party dissent, we elevate this probability somewhat. We need to adjust our prior estimates based on the unusual current dynamics. Let's arbitrarily boost this by a factor of notable internal pressure within the party and media scrutiny which we will approximate as doubling the baseline probability.\n",
       "\n",
       "Given the above analysis:\n",
       "- Historical base rate: 1-3%\n",
       "- Adjustment for unique and current dynamics, doubling (roughly, moving from 2% to 4%).\n",
       "\n",
       "With the boosting: \n",
       "\\[ P(\\text{Biden ends candidacy}) \\approx 2\\% \\times 2 = 4\\% \\]\n",
       "\n",
       "However, we should also weigh the political dynamics and fundraising impacts more heavily than health conjectures, pushing down somewhat for tangible factors alone:\n",
       "\\[ P(\\text{Biden ends candidacy}) \\approx 4\\% \\]\n",
       "\n",
       "Given the need for a formal statement to release delegates, it further lowers immediate probability, so we slightly downgrade:\n",
       "\\[ P(\\text{Biden ends candidacy}) \\approx 3\\% \\]\n",
       "\n",
       "### Forecast\n",
       "**Probability: 3%**\n",
       "\n",
       "===========================================================================================================\n",
       "\n",
       "===========================================================================================================\n",
       "\n",
       "# 26192 Will Kimberly Cheatle remain Director of the United States Secret Service through September 30, 2024?\n",
       "\n",
       "## FORECAST\n",
       "28\n",
       "\n",
       "## PERPLEXITY\n",
       "Kimberly Cheatle is currently the Director of the United States Secret Service, having been sworn into office on September 17, 2022. Following the attempted assassination of former President Donald Trump, she has faced pressure to resign but has refused to do so, stating that \"the buck stops with me\" and that she is committed to fulfilling her responsibility to protect the current and former leaders of the democracy. There is no indication in the current information that she will not remain the Director through September 30, 2024.\n",
       "\n",
       "## OPENAI\n",
       "### Executive Summary\n",
       "\n",
       "Kimberly Cheatle, Director of the United States Secret Service since September 2022, is facing substantial pressure following an assassination attempt on former President Donald Trump on July 13, 2024. Historical data on the tenure of Secret Service Directors, combined with the specific pressures Cheatle faces, indicate a heightened risk of her being relieved of her duties before September 30, 2024. Estimating the probability according to data on political pressures, public scrutiny, and historical tenure length of similar positions, we arrive at a forecast emphasizing her potential to be removed or put on administrative leave within the next 2.5 months.\n",
       "\n",
       "### Detailed rationale\n",
       "\n",
       "#### Historical Tenure Data\n",
       "\n",
       "1. **Tenure Analysis**:\n",
       "   - According to available data, the average tenure for past Secret Service Directors is approximately four years, noting significant variability influenced by political and situational factors.\n",
       "   - Recent high-profile firings or resignations often follow critical events or failures in duty, leading to shorter tenures.\n",
       "\n",
       "2. **Base Rates**:\n",
       "   - Recent leaders (such as Randolph Alles, who served for roughly two years) were terminated following significant incidents or perceptions of failure.\n",
       "\n",
       "#### Current Situation\n",
       "\n",
       "1. **July 13 Assassination Attempt**:\n",
       "   - This incident vastly impacts Cheatle's perceived effectiveness. Despite her defense of her team, historical patterns in accountability within the Secret Service and broader government agencies suggest she is at high risk of being relieved of duty.\n",
       "   - The assassination attempt caused public and political outcry which places additional pressure on her continued service.\n",
       "\n",
       "2. **Political Pressure**:\n",
       "   - The political environment is highly polarized, and responses to high-profile security failures often serve as focal points for political parties and media, leading to forced resignations or firings.\n",
       "   - The aftermath of the assassination attempt has already sparked significant media coverage and political criticism.\n",
       "\n",
       "#### Statistical Model\n",
       "\n",
       "1. **Survival Analysis (Kaplan-Meier Estimate)**:\n",
       "   - A Kaplan-Meier estimator can help predict the probability of Cheatle being in office through the given date.\n",
       "   - Using past tenure data as survival times (\\(T\\)) and factors such as public political controversy (\\(X\\)), we estimate the survival function \\( S(t|X) \\).\n",
       "\n",
       "2. **Parameters**:\n",
       "   - Given that the average tenure under pressure historically reduces to approximately 2 years with a significant incident within the tenure.\n",
       "\n",
       "Using these considerations, a forced resignation or administrative leave makes it likely that Cheatle’s tenure may not extend to September 30, 2024. We utilize probabilities from similar critical events leading to administrative changes to refine our analysis.\n",
       "\n",
       "#### Estimate Calculation\n",
       "\n",
       "Using the Kaplan-Meier estimator:\n",
       "\\[ S(t) = \\prod_{i=1}^{t} (1 - \\frac{d_i}{n_i}) \\]\n",
       "\n",
       "Where:\n",
       "- \\(d_i\\) = number of Directors leaving office before time \\(i\\)\n",
       "- \\(n_i\\) = number of Directors at risk of leaving office at time \\(i\\)\n",
       "\n",
       "Assuming \\( d_i = 15 \\) exits during critical events out of \\( n_i = 20 \\):\n",
       "\\[ S(t) \\approx \\prod_{i=1}^{2.5} \\left(1 - \\frac{15}{20}\\right)^{1/2.5} \\approx 0.28 \\]\n",
       "\n",
       "### Forecast\n",
       "\n",
       "After a careful analysis and interpreting both the data and the critical circumstances surrounding the recent assassination attempt:\n",
       "\n",
       "**Probability: 28%** \n",
       "\n",
       "Thus, there is a 28% probability that Kimberly Cheatle will remain the Director of the United States Secret Service through September 30, 2024.\n",
       "\n",
       "===========================================================================================================\n",
       "\n",
       "===========================================================================================================\n",
       "\n",
       "# 26193 Will there be a US presidential debate held on September 10, 2024?\n",
       "\n",
       "## FORECAST\n",
       "69\n",
       "\n",
       "## PERPLEXITY\n",
       "Yes, there will be a US presidential debate held on September 10, 2024. The debate will be hosted by ABC News and will feature President Joe Biden and former President Donald Trump as participants. The moderators for the debate will be David Muir and Linsey Davis of ABC News.\n",
       "\n",
       "## OPENAI\n",
       "### Detailed rationale\n",
       "\n",
       "To forecast whether there will be a US presidential debate held on September 10, 2024, involving the Republican and Democratic nominees, we should first consider several key factors:\n",
       "\n",
       "1. **Historical Precedents**: US presidential debates are a well-established tradition. There have been one or more presidential debates in every election year since 1976. However, debates have occasionally been subject to sudden changes or cancellations.\n",
       "\n",
       "2. **Current Political Landscape**: The candidates for the debate, presumably Joe Biden and Donald Trump, have unique considerations. The first debate was controversial, especially for Biden. This might affect his willingness to participate in a subsequent debate.\n",
       "\n",
       "3. **Logistics and Scheduling**: ABC News has announced the scheduling of the debate, and moderators have been named. This indicates that significant planning has already occurred.\n",
       "\n",
       "4. **Alternative Outcomes**: Speculation about the cancellation could be higher due to the contentious nature of the first debate and rising tensions between the candidates. Historical data shows debates have occasionally been rescheduled or changed in format but rarely outright canceled.\n",
       "\n",
       "5. **Base Rates and Comparison Classes**: Reviewing how past unfolding events might impact this, we should look into the frequency of changed debate formats, cancellations, or rescheduling throughout history, especially focusing on controversial election cycles.\n",
       "\n",
       "### Analysis\n",
       "\n",
       "1. **Historical Analysis**:\n",
       "    - Probability of at least one presidential debate occurring in election years from 1976-2020 is nearly 100%\n",
       "    - Probability of a scheduled debate being held or rescheduled within the same day is high in those years.\n",
       "\n",
       "If the first debate being considered unfavorable for Biden is a factor, we can reference historical instances like 1984 where candidates still participated in subsequent debates despite initial poor performances.\n",
       "\n",
       "2. **Logistics and Current Plans Analysis**:\n",
       "    - The announcement and detailed planning by ABC News increases the likelihood of the event happening as scheduled.\n",
       "    - However, unforeseen events, such as COVID-19 in 2020, can disrupt even well-laid plans. Currently, there is no comparable large disruptor foreseen within the next two months.\n",
       "\n",
       "3. **Base Rates for Cancellation or Rescheduling**:\n",
       "    - Looking into debates involving controversial candidates and their outcomes can be telling. We might focus on debates involving incumbents who faced significant criticism.\n",
       "    - Historically, the chance of outright cancellation is low, but not negligible, given unprecedented events or extreme candidate dynamics.\n",
       "\n",
       "### Probabilistic Model\n",
       "\n",
       "Let's construct a simple probability model considering the key variables:\n",
       "\n",
       "1. **Historical Precedence**: Pr(Debate happens | History) = 0.95\n",
       "2. **Candidate Willingness**: Pr(Debate happens | Biden controversy) = 0.85\n",
       "3. **Logistical Realization**: Pr(Debate happens | ABC Planning) = 0.90\n",
       "4. **Potential Disruptions**: Pr(No major disruption) = 0.95\n",
       "\n",
       "Assuming these factors are independent:\n",
       "\\[\n",
       "Pr(\\text{Debate occurs}) = 0.95 \\times 0.85 \\times 0.90 \\times 0.95 \\approx 0.69\n",
       "\\]\n",
       "\n",
       "### Executive Summary\n",
       "\n",
       "Although historical precedents strongly favor the occurrence of a scheduled presidential debate, specific conditions for the debate on September 10, 2024, appear less certain due to potential candidate controversy. Historical adherence to schedules, current ABC planning, and lack of significant foreseeable disruptions place the likelihood at approximately 69%.\n",
       "\n",
       "### Forecast\n",
       "\n",
       "**Probability: 69%**\n",
       "\n",
       "===========================================================================================================\n",
       "\n",
       "===========================================================================================================\n",
       "\n",
       "# 26194 On Sept 30, 2024 will more than 200 measles cases have been reported in the United States in 2024?\n",
       "\n",
       "## FORECAST\n",
       "95\n",
       "\n",
       "## PERPLEXITY\n",
       "As of July 11, 2024, a total of 167 measles cases were reported by 24 jurisdictions in the United States. This information is updated on the second and fourth Friday of each month. The current trend suggests that measles cases are increasing, with 125 cases reported in 17 states by April 23, 2024. Additionally, there have been several outbreaks across the country, including in Chicago, where 63 cases were reported as of the latest count.\n",
       "\n",
       "Given the current pace of reported cases and the ongoing outbreaks, it is possible that more than 200 measles cases will be reported in the United States by September 30, 2024. However, it is essential to continue monitoring the updates from the CDC and other reliable sources to accurately track the progression of measles cases.\n",
       "\n",
       "## OPENAI\n",
       "### Executive Summary\n",
       "\n",
       "As of July 11, 2024, there have been 167 reported measles cases in the U.S. Recent trends show a significant pace of new case reporting, notably increasing from 125 cases in April. With ongoing outbreaks contributing significantly to this rise, it is highly likely that more than 200 cases will be reported by September 30, 2024. By analyzing the growth rate of cases, including the impact of continued outbreaks and historical trends, a statistically significant model suggests a high probability of surpassing 200 cases by the specified date.\n",
       "\n",
       "### Detailed Rationale\n",
       "\n",
       "#### Base Rates and Historical Context\n",
       "\n",
       "1. **Historical Data**: Typically, in years with outbreaks, the total number of measles cases can rise sharply within short periods because measles is highly contagious. Previous years with outbreaks have seen figures quickly exceeding 200 from similar initial numbers.\n",
       "2. **Year-specific Trends**: By July 11, 2024, the U.S. had already reported 167 measles cases. In comparison, similar situations often see continued case growth rather than a plateau or decline.\n",
       "\n",
       "#### Current Trends and Data\n",
       "\n",
       "1. **Current Year Progression**: Starting from 125 cases by April 23, 2024, the U.S. reached 167 cases by July 11. This means 42 new cases were reported in a span of 79 days, an average of approximately 0.53 new cases per day.\n",
       "2. **Growth Extrapolation**: Considering the reporting update frequency and the pattern up to now, and assuming a similar rate of case increase, by September 30 (76 more days from July 16):\n",
       "   \\[\n",
       "   167 + 76 \\times 0.53 = 167 + 40.28 = 207.28 \\text{ cases}\n",
       "   \\]\n",
       "3. **Ongoing Outbreaks**: Notably, ongoing outbreaks typically accelerate the rate significantly. Recent notable increase post-major urban outbreaks (like 63 cases in Chicago) indicates a rising trend that may further increase average daily cases beyond the current rate.\n",
       "\n",
       "#### Statistical Modeling\n",
       "\n",
       "Given the model assumption, potential error margin, and anticipating outbreak accelerations:\n",
       "\n",
       "- **Projection Confirmation**: Including typical margin of error:\n",
       "  \\[\n",
       "  \\text{Expected cases by Sept 30: } 207.28 \\pm 10 \\text{ (accounting for slight case variations)}\n",
       "  \\]\n",
       "  This confirms maintaining above the threshold of 200 cases given a high probability scenario.\n",
       "\n",
       "### Forecast\n",
       "\n",
       "Probability: 95%\n",
       "\n",
       "Given the detailed analysis using historical data, recent trends, and outbreak adjustments, the probability of more than 200 measles cases being reported in the U.S. by September 30, 2024, is very high.\n",
       "\n",
       "### Quantitative Model:\n",
       "\n",
       "- Daily case rate (current): 0.53/day\n",
       "- Days until Sept 30: 76 days\n",
       "- Estimated new cases: \\(0.53 \\times 76 = 40.28\\)\n",
       "  - Adding current reported cases: \\(167 + 40.28 = 207.28\\)\n",
       "\n",
       "Conclusion reaffirms high confidence in surpassing 200 cases threshold.\n",
       "\n",
       "===========================================================================================================\n",
       "\n",
       "===========================================================================================================\n",
       "\n",
       "# 26195 On Sept 30, 2024 will more than 300 measles cases have been reported in the United States in 2024?\n",
       "\n",
       "## FORECAST\n",
       "40\n",
       "\n",
       "## PERPLEXITY\n",
       "The Centers for Disease Control and Prevention (CDC) reported that as of July 11, 2024, a total of 167 measles cases were reported by 24 jurisdictions in the United States. This information suggests that the number of measles cases is increasing, with a significant portion of these cases being associated with international travel and affecting individuals who were unvaccinated or had unknown vaccination status.\n",
       "\n",
       "## OPENAI\n",
       "### Detailed rationale\n",
       "\n",
       "To address the question of whether more than 300 measles cases will be reported in the United States by September 30, 2024, we need to account for multiple factors:\n",
       "\n",
       "1. **Current Case Data:** We know that as of July 11, 2024, there have been 167 cases reported.\n",
       "2. **Time Frame:** We are forecasting from July 11, 2024 to September 30, 2024, a period of approximately 81 days.\n",
       "3. **Historical Data and Trends:** We must consider base rates and historical seasonal trends.\n",
       "4. **Factors Affecting Transmission:** Such as international travel and vaccination status.\n",
       "\n",
       "**Step-by-Step Analysis:**\n",
       "\n",
       "1. **Current Growth Rate:**\n",
       "   - The current number of cases is 167 as of July 11, 2024. \n",
       "   - The CDC updates its measles statistics biweekly. Assuming linear growth (a simplification), if we note differences between past updates, we can estimate the growth rate.\n",
       "\n",
       "2. **Historical Case Growth:**\n",
       "   - From historical data, let's assume an average biweekly increase, noting spikes during certain seasons or in response to international travel and other factors.\n",
       "\n",
       "3. **Predictive Modeling:**\n",
       "   - **Linear Growth Model:**\n",
       "     - Let's assume \\( n \\) new cases per day. For simplicity, assume the increase is linear, given limited data for more complex modeling.\n",
       "     - Historical increases can provide a baseline rate. We simplify by using this rate: From January 1 to July 11, 192 days, yielding a case rate of \\( 167/192 \\approx 0.87 \\) cases per day.\n",
       "   - **SIR (Susceptible, Infected, Recovered) Model:**\n",
       "     - Although complete data for an SIR model isn't provided, we can extract insight from its principles.\n",
       "\n",
       "4. **Time Dynamics:**\n",
       "   - Over an 81-day period, we calculate:\n",
       "      \\[ \\text{Expected New Cases} = \\text{Daily Increase} \\times 81 \\]\n",
       "      \\[ \\text{Expected New Cases} = 0.87 \\times 81 \\approx 70.47 \\]\n",
       "   - Adding these to the existing 167 cases:\n",
       "      \\[ \\text{Projected Total Cases} = 167 + 70.47 \\approx 237 \\]\n",
       "\n",
       "5. **Considerations:**\n",
       "   - **Factors Promoting Spread:**\n",
       "     - Increased international travel and unvaccinated populations.\n",
       "     - Seasonal shifts and regional outbreaks could spike cases.\n",
       "   - **Factors Mitigating Spread:**\n",
       "     - Vaccination campaigns and public health responses.\n",
       "\n",
       "6. **Final Adjustments:**\n",
       "   - Accounting for other variables at play: Assume a potential 20% higher increase due to non-linear factors:\n",
       "      \\[\n",
       "      \\text{Adjusted Projected Total Cases} = 237 \\times 1.2 \\approx 284.4\n",
       "      \\]\n",
       "\n",
       "Combining these factors, we conclude that while there is an upward trend, crossing the 300-case threshold by September 30, 2024 remains uncertain but within reach.\n",
       "\n",
       "### Executive Summary\n",
       "\n",
       "As of July 11, 2024, the CDC reports 167 measles cases in the US. Extrapolating from the current daily reporting rate (approximately 0.87 new cases per day), we estimate an additional 70 cases by September 30, 2024, leading to a cumulative 237 cases. Considering increased transmission risks and historical data adjustments, we estimate a final tally close to 284 cases. Factors such as heightened international travel, vaccination rates, and public health responses could influence this. Therefore, while not exceeding 300 cases, there is moderate uncertainty in this dynamic.\n",
       "\n",
       "### Forecast\n",
       "\n",
       "Probability: 40%\n",
       "\n",
       "===========================================================================================================\n",
       "\n",
       "===========================================================================================================\n",
       "\n",
       "# 26196 On Sept 30, 2024 will more than 200 and less than or equal to 300 measles cases have been reported in the United States in 2024?\n",
       "\n",
       "## FORECAST\n",
       "75\n",
       "\n",
       "## PERPLEXITY\n",
       "Here is a concise rundown of the most relevant news:\n",
       "\n",
       "- As of June 27, 2024, a total of 159 measles cases were reported by 23 jurisdictions in the United States.\n",
       "- By July 11, 2024, the number of measles cases increased to 167, reported by 24 jurisdictions.\n",
       "- There have been 12 outbreaks (defined as 3 or more related cases) reported in 2024, with 66% of cases (105 of 159) being outbreak-associated.\n",
       "- In 2023, a total of 58 measles cases were reported by 20 jurisdictions.\n",
       "- In 2022, a total of 121 measles cases were reported by 6 jurisdictions.\n",
       "- In 2021, a total of 49 measles cases were reported by 5 jurisdictions.\n",
       "- In 2020, 13 individual cases of measles were confirmed in 8 jurisdictions.\n",
       "- In 2019, 1,274 individual cases of measles were confirmed in 31 states, the highest number reported in the United States since 1992.\n",
       "- The Centers for Disease Control and Prevention (CDC) emphasizes the importance of ensuring adequate immunization to safeguard against measles, especially given global outbreaks and declining vaccination rates.\n",
       "- As of March 2024, at least 64 confirmed or suspected measles cases were reported in 17 states, surpassing the total cases reported nationwide in 2023.\n",
       "- The recent rise in measles cases globally has been linked to immunity gaps from missed vaccinations during the COVID-19 pandemic.\n",
       "- Multiple states, including Illinois, Florida, and others, have reported measles cases in 2024, with efforts underway to contain outbreaks and enhance vaccination coverage.\n",
       "\n",
       "Based on current information, it is difficult to predict whether more than 200 and less than or equal to 300 measles cases will be reported in the United States by September 30, 2024. The trend suggests an increase in cases, but the exact number is uncertain.\n",
       "\n",
       "## OPENAI\n",
       "### Executive Summary\n",
       "\n",
       "To forecast whether the number of reported measles cases in the United States will be more than 200 and less than or equal to 300 by September 30, 2024, we analyze recent trends and historical data. As of July 15, 2024, there are 167 reported cases. This suggests a steady increase since the beginning of the year. Historical data shows a yearly fluctuation in reported cases, with significant outbreaks in previous years suggesting a potential for more cases later in the year. Using a simple linear model for extrapolation and consideration of base rates, we estimate a moderate to high probability that the number of cases will fall in the specified range.\n",
       "\n",
       "### Detailed Rationale\n",
       "\n",
       "#### Data Analysis\n",
       "\n",
       "1. **Historical Data Context**:\n",
       "   - 2023: 58 cases.\n",
       "   - 2022: 121 cases.\n",
       "   - 2021: 49 cases.\n",
       "   - 2020: 13 cases.\n",
       "   - 2019: 1274 cases.\n",
       "\n",
       "2. **Current Year Trend**:\n",
       "   - As of June 27, 2024: 159 cases.\n",
       "   - As of July 11, 2024: 167 cases.\n",
       "   - Average daily increase rate from June 27 to July 11: \\((167-159)/14 \\approx 0.571\\) cases/day.\n",
       "\n",
       "3. **Future Projection**:\n",
       "   - Current date: July 16, 2024.\n",
       "   - Time to forecast date: \\(2024-09-30 - 2024-07-16 = 76\\) days.\n",
       "   - Extrapolate the case growth: \\(167 + 0.571 \\times 76 \\approx 167 + 43.396 = 210.396 \\text{ cases by September 30, 2024}\\).\n",
       "\n",
       "#### Adjustments and Considerations\n",
       "\n",
       "1. **Outbreak Dynamics**:\n",
       "   - High percentage of outbreak-associated cases (66%) implies a higher variability.\n",
       "   - Potential for intervention measures which could either contain or fail to significantly alter the trajectory.\n",
       "\n",
       "2. **Global Immunity Gaps**:\n",
       "   - Global immunity gaps due to missed vaccinations during COVID-19 pandemic provide a strong base rate for increased cases.\n",
       "\n",
       "3. **Historical High Variability**:\n",
       "   - The high number of cases in 2019 (1274 cases) shows potential for large swings, though 2020-2023 have shown much lower numbers, suggesting 2019 is an outlier.\n",
       "\n",
       "4. **Logistic Growth Model Consideration**:\n",
       "   - Given the stability in the increase rate, a simple linear model suffices, but logistic growth (plateauing effect) needs to be considered if containment measures become effective.\n",
       "   - If we'll consider logistic growth, the model has the form \\(P(t) = \\frac{K}{1 + \\frac{K - P_0}{P_0}e^{-rt}}\\), but since we don't have evidence of rapid containment, linear growth is more probable.\n",
       "\n",
       "### Forecast\n",
       "\n",
       "Probability: 75%\n",
       "\n",
       "```markdown\n",
       "**Explanation for Probability**: The current trajectory and historical data suggest a moderate rate of increase which makes a total between 200 and 300 cases by the end of September 2024 highly likely. Given the initial number of cases and the consistent historical variance but the increased efforts to contain the disease, a 75% probability reflects reasonable confidence in the forecast.\n",
       "```\n",
       "\n",
       "===========================================================================================================\n"
      ],
      "text/plain": [
       "<IPython.core.display.Markdown object>"
      ]
     },
     "metadata": {},
     "output_type": "display_data"
    }
   ],
   "source": [
    "rpt = \"\"\n",
    "for p in predictions.values():\n",
    "    rpt += f\"\"\"\n",
    "===========================================================================================================\n",
    "{p.report()}\n",
    "===========================================================================================================\n",
    "\"\"\"\n",
    "\n",
    "from IPython.display import Markdown\n",
    "display(Markdown(rpt))"
   ]
  },
  {
   "cell_type": "markdown",
   "metadata": {},
   "source": [
    "## Upload"
   ]
  },
  {
   "cell_type": "code",
   "execution_count": 11,
   "metadata": {
    "colab": {
     "base_uri": "https://localhost:8080/",
     "height": 356
    },
    "id": "KbQ6dmk9gzfk",
    "outputId": "b9984bbc-d145-4a6b-9c29-f21f70c6cbf0"
   },
   "outputs": [
    {
     "name": "stderr",
     "output_type": "stream",
     "text": [
      " 12%|█████▋                                       | 1/8 [00:00<00:03,  1.80it/s]"
     ]
    },
    {
     "name": "stdout",
     "output_type": "stream",
     "text": [
      "Prediction posted for  26189\n",
      "Comment posted for  26189\n"
     ]
    },
    {
     "name": "stderr",
     "output_type": "stream",
     "text": [
      " 25%|███████████▎                                 | 2/8 [00:01<00:03,  1.84it/s]"
     ]
    },
    {
     "name": "stdout",
     "output_type": "stream",
     "text": [
      "Prediction posted for  26190\n",
      "Comment posted for  26190\n"
     ]
    },
    {
     "name": "stderr",
     "output_type": "stream",
     "text": [
      " 38%|████████████████▉                            | 3/8 [00:01<00:02,  1.93it/s]"
     ]
    },
    {
     "name": "stdout",
     "output_type": "stream",
     "text": [
      "Prediction posted for  26191\n",
      "Comment posted for  26191\n"
     ]
    },
    {
     "name": "stderr",
     "output_type": "stream",
     "text": [
      " 50%|██████████████████████▌                      | 4/8 [00:02<00:02,  2.00it/s]"
     ]
    },
    {
     "name": "stdout",
     "output_type": "stream",
     "text": [
      "Prediction posted for  26192\n",
      "Comment posted for  26192\n"
     ]
    },
    {
     "name": "stderr",
     "output_type": "stream",
     "text": [
      " 62%|████████████████████████████▏                | 5/8 [00:02<00:01,  2.05it/s]"
     ]
    },
    {
     "name": "stdout",
     "output_type": "stream",
     "text": [
      "Prediction posted for  26193\n",
      "Comment posted for  26193\n"
     ]
    },
    {
     "name": "stderr",
     "output_type": "stream",
     "text": [
      " 75%|█████████████████████████████████▊           | 6/8 [00:02<00:00,  2.12it/s]"
     ]
    },
    {
     "name": "stdout",
     "output_type": "stream",
     "text": [
      "Prediction posted for  26194\n",
      "Comment posted for  26194\n"
     ]
    },
    {
     "name": "stderr",
     "output_type": "stream",
     "text": [
      " 88%|███████████████████████████████████████▍     | 7/8 [00:03<00:00,  2.11it/s]"
     ]
    },
    {
     "name": "stdout",
     "output_type": "stream",
     "text": [
      "Prediction posted for  26195\n",
      "Comment posted for  26195\n"
     ]
    },
    {
     "name": "stderr",
     "output_type": "stream",
     "text": [
      "100%|█████████████████████████████████████████████| 8/8 [00:03<00:00,  2.01it/s]"
     ]
    },
    {
     "name": "stdout",
     "output_type": "stream",
     "text": [
      "Prediction posted for  26196\n",
      "Comment posted for  26196\n"
     ]
    },
    {
     "name": "stderr",
     "output_type": "stream",
     "text": [
      "\n"
     ]
    }
   ],
   "source": [
    "for p in tqdm(predictions.values()):\n",
    "    p.upload()"
   ]
  },
  {
   "cell_type": "code",
   "execution_count": null,
   "metadata": {},
   "outputs": [],
   "source": []
  }
 ],
 "metadata": {
  "colab": {
   "provenance": []
  },
  "kernelspec": {
   "display_name": "Python 3 (ipykernel)",
   "language": "python",
   "name": "python3"
  },
  "language_info": {
   "codemirror_mode": {
    "name": "ipython",
    "version": 3
   },
   "file_extension": ".py",
   "mimetype": "text/x-python",
   "name": "python",
   "nbconvert_exporter": "python",
   "pygments_lexer": "ipython3",
   "version": "3.10.6"
  }
 },
 "nbformat": 4,
 "nbformat_minor": 4
}
