{
 "cells": [
  {
   "cell_type": "markdown",
   "metadata": {},
   "source": [
    "# 000 Forecasting Bot"
   ]
  },
  {
   "cell_type": "markdown",
   "metadata": {},
   "source": [
    "Starting from https://colab.research.google.com/drive/1_Il5h2Ed4zFa6Z3bROVCE68LZcSi4wHX?usp=sharing"
   ]
  },
  {
   "cell_type": "markdown",
   "metadata": {},
   "source": [
    "## Imports"
   ]
  },
  {
   "cell_type": "code",
   "execution_count": 1,
   "metadata": {},
   "outputs": [],
   "source": [
    "from IPython.display import Markdown"
   ]
  },
  {
   "cell_type": "markdown",
   "metadata": {},
   "source": [
    "## Today"
   ]
  },
  {
   "cell_type": "code",
   "execution_count": 2,
   "metadata": {},
   "outputs": [
    {
     "data": {
      "text/plain": [
       "'2024-07-31'"
      ]
     },
     "execution_count": 2,
     "metadata": {},
     "output_type": "execute_result"
    }
   ],
   "source": [
    "import datetime\n",
    "today = str(datetime.datetime.now())[0:10]\n",
    "today"
   ]
  },
  {
   "cell_type": "markdown",
   "metadata": {},
   "source": [
    "## 000_bot"
   ]
  },
  {
   "cell_type": "markdown",
   "metadata": {},
   "source": [
    "### API Keys"
   ]
  },
  {
   "cell_type": "markdown",
   "metadata": {},
   "source": [
    "In order to run this notebook as is, you'll need to enter a few API keys (use the key icon on the left to input them):\n",
    "\n",
    "- `METACULUS_TOKEN`: you can find your Metaculus token under your bot's user settings page: https://www.metaculus.com/accounts/settings/, or on the bot registration page where you created the account: https://www.metaculus.com/aib/\n",
    "- `OPENAPI_API_KEY`: get one from OpenAIs page: https://platform.openai.com/settings/profile?tab=api-keys\n",
    "- `PERPLEXITY_API_KEY` - used to search up-to-date information about the question. Get one from https://www.perplexity.ai/settings/api\n",
    "- `ASKNEWS_CLIENT_ID`, `ASKNEWS_SECRET`"
   ]
  },
  {
   "cell_type": "code",
   "execution_count": 27,
   "metadata": {},
   "outputs": [],
   "source": [
    "from omegaconf import OmegaConf\n",
    "token_fn = \"tokens.yaml\""
   ]
  },
  {
   "cell_type": "raw",
   "metadata": {},
   "source": [
    "tokens = OmegaConf.create(\"\"\"\n",
    "METACULUS_TOKEN: xx\n",
    "OPENAI_API_KEY: yy\n",
    "OPENAI_MODEL: gpt-4o\n",
    "PERPLEXITY_API_KEY: zz\n",
    "PERPLEXITY_MODEL: llama-3-sonar-large-32k-online\"\"\")\n",
    "OmegaConf.save(config=tokens, f=token_fn)"
   ]
  },
  {
   "cell_type": "code",
   "execution_count": 29,
   "metadata": {},
   "outputs": [],
   "source": [
    "config = OmegaConf.load(token_fn)\n",
    "\n",
    "def pr(tokens):\n",
    "    print(OmegaConf.to_yaml(config))"
   ]
  },
  {
   "cell_type": "markdown",
   "metadata": {
    "id": "iDukuXArbgdm"
   },
   "source": [
    "### LLM and Metaculus Interaction"
   ]
  },
  {
   "cell_type": "markdown",
   "metadata": {
    "id": "iDukuXArbgdm"
   },
   "source": [
    "This section sets up some simple helper code you can use to get data about forecasting questions and to submit a prediction"
   ]
  },
  {
   "cell_type": "code",
   "execution_count": 4,
   "metadata": {
    "id": "HifodCwcGU0j"
   },
   "outputs": [],
   "source": [
    "import datetime\n",
    "import json\n",
    "import os\n",
    "import requests\n",
    "import re\n",
    "from openai import OpenAI\n",
    "from tqdm import tqdm"
   ]
  },
  {
   "cell_type": "code",
   "execution_count": 5,
   "metadata": {
    "id": "HifodCwcGU0j"
   },
   "outputs": [],
   "source": [
    "AUTH_HEADERS = {\"headers\": {\"Authorization\": f\"Token {config.METACULUS_TOKEN}\"}}\n",
    "API_BASE_URL = \"https://www.metaculus.com/api2\"\n",
    "WARMUP_TOURNAMENT_ID = 3349\n",
    "SUBMIT_PREDICTION = True\n",
    "\n",
    "def find_number_before_percent(s):\n",
    "    # Use a regular expression to find all numbers followed by a '%'\n",
    "    matches = re.findall(r'(\\d+)%', s)\n",
    "    if matches:\n",
    "        # Return the last number found before a '%'\n",
    "        return int(matches[-1])\n",
    "    else:\n",
    "        # Return None if no number found\n",
    "        return None\n",
    "\n",
    "def post_question_comment(question_id, comment_text):\n",
    "    \"\"\"\n",
    "    Post a comment on the question page as the bot user.\n",
    "    \"\"\"\n",
    "\n",
    "    response = requests.post(\n",
    "        f\"{API_BASE_URL}/comments/\",\n",
    "        json={\n",
    "            \"comment_text\": comment_text,\n",
    "            \"submit_type\": \"N\",\n",
    "            \"include_latest_prediction\": True,\n",
    "            \"question\": question_id,\n",
    "        },\n",
    "        **AUTH_HEADERS,\n",
    "    )\n",
    "    response.raise_for_status()\n",
    "    print(\"Comment posted for \", question_id)\n",
    "\n",
    "def post_question_prediction(question_id, prediction_percentage):\n",
    "    \"\"\"\n",
    "    Post a prediction value (between 1 and 100) on the question.\n",
    "    \"\"\"\n",
    "    url = f\"{API_BASE_URL}/questions/{question_id}/predict/\"\n",
    "    response = requests.post(\n",
    "        url,\n",
    "        json={\"prediction\": float(prediction_percentage) / 100},\n",
    "        **AUTH_HEADERS,\n",
    "    )\n",
    "    response.raise_for_status()\n",
    "    print(\"Prediction posted for \", question_id)\n",
    "\n",
    "\n",
    "def get_question_details(question_id):\n",
    "    \"\"\"\n",
    "    Get all details about a specific question.\n",
    "    \"\"\"\n",
    "    url = f\"{API_BASE_URL}/questions/{question_id}/\"\n",
    "    response = requests.get(\n",
    "        url,\n",
    "        **AUTH_HEADERS,\n",
    "    )\n",
    "    response.raise_for_status()\n",
    "    return json.loads(response.content)\n",
    "\n",
    "def list_questions(tournament_id=WARMUP_TOURNAMENT_ID, offset=0, count=1000):\n",
    "    \"\"\"\n",
    "    List (all details) {count} questions from the {tournament_id}\n",
    "    \"\"\"\n",
    "    url_qparams = {\n",
    "        \"limit\": count,\n",
    "        \"offset\": offset,\n",
    "        \"has_group\": \"false\",\n",
    "        \"order_by\": \"-activity\",\n",
    "        \"forecast_type\": \"binary\",\n",
    "        \"project\": tournament_id,\n",
    "        \"status\": \"open\",\n",
    "        \"type\": \"forecast\",\n",
    "        \"include_description\": \"true\",\n",
    "    }\n",
    "    url = f\"{API_BASE_URL}/questions/\"\n",
    "    response = requests.get(url, **AUTH_HEADERS, params=url_qparams)\n",
    "    response.raise_for_status()\n",
    "    data = json.loads(response.content)\n",
    "    return data"
   ]
  },
  {
   "cell_type": "markdown",
   "metadata": {},
   "source": [
    "### IFP"
   ]
  },
  {
   "cell_type": "code",
   "execution_count": 6,
   "metadata": {},
   "outputs": [],
   "source": [
    "class IFP:\n",
    "\n",
    "    def __init__(self, question_id):\n",
    "        self.question_id = question_id\n",
    "        self.question_details = get_question_details(self.question_id)\n",
    "        self.today = datetime.datetime.now().strftime(\"%Y-%m-%d\")   \n",
    "        self.title = self.question_details[\"title\"]\n",
    "        self.resolution_criteria = self.question_details[\"resolution_criteria\"]\n",
    "        self.background = self.question_details[\"description\"]\n",
    "        self.fine_print = self.question_details[\"fine_print\"]\n",
    "\n",
    "    def report(self):\n",
    "        rpt = f\"\"\"\n",
    "The future event is described by this question: [ {self.title} ]\n",
    "The resolution criteria are: [ {self.resolution_criteria} ]\n",
    "The background is: [ {self.background} ]\"\"\"\n",
    "        if self.fine_print:\n",
    "            rpt += f\"\"\"\n",
    "The fine print is: [ {self.fine_print} ]\"\"\"\n",
    "        return rpt"
   ]
  },
  {
   "cell_type": "markdown",
   "metadata": {},
   "source": [
    "### LLMs"
   ]
  },
  {
   "cell_type": "markdown",
   "metadata": {},
   "source": [
    "### In general"
   ]
  },
  {
   "cell_type": "code",
   "execution_count": 7,
   "metadata": {},
   "outputs": [],
   "source": [
    "class LLM:\n",
    "    def __init__(self, system_role):\n",
    "        self.messages = [{\"role\": \"system\", \"content\": system_role}]\n",
    "\n",
    "    def chat(self, query):\n",
    "        self.messages.append({\"role\": \"user\", \"content\": query})\n",
    "        text = self.message()\n",
    "        self.messages.append({\"role\": \"assistant\", \"content\": text})\n",
    "        return text"
   ]
  },
  {
   "cell_type": "markdown",
   "metadata": {
    "jp-MarkdownHeadingCollapsed": true
   },
   "source": [
    "### MetaAI"
   ]
  },
  {
   "cell_type": "markdown",
   "metadata": {},
   "source": [
    "https://pypi.org/project/meta-ai-api/1.0.6/"
   ]
  },
  {
   "cell_type": "code",
   "execution_count": 20,
   "metadata": {},
   "outputs": [],
   "source": [
    " from meta_ai_api import MetaAI"
   ]
  },
  {
   "cell_type": "code",
   "execution_count": null,
   "metadata": {},
   "outputs": [],
   "source": [
    "ai = MetaAI()\n",
    "response = ai.prompt(message=\"Whats the weather in San Francisco today? And what is the date?\")"
   ]
  },
  {
   "cell_type": "code",
   "execution_count": 24,
   "metadata": {},
   "outputs": [
    {
     "data": {
      "text/plain": [
       "dict_keys(['message', 'sources', 'media'])"
      ]
     },
     "execution_count": 24,
     "metadata": {},
     "output_type": "execute_result"
    }
   ],
   "source": [
    "response.keys()"
   ]
  },
  {
   "cell_type": "code",
   "execution_count": null,
   "metadata": {},
   "outputs": [
    {
     "name": "stdout",
     "output_type": "stream",
     "text": [
      "Today's date is Wednesday, July 31, 2024 ¹. Unfortunately, I wasn't able to find information on the current weather in San Francisco. However, I can suggest checking a weather website such as (link unavailable) for the most up-to-date information.\n",
      "Here are some key details about today's date ²:\n",
      "Day of the Week: Wednesday\n",
      "Day Number: 213 of 366\n",
      "Current Week Number: 30 of 52\n",
      "Days Left in 2024: 153 days\n",
      "Weeks Left in 2024: 21 weeks and 6 days\n",
      "\n"
     ]
    }
   ],
   "source": [
    "print(response['message'])"
   ]
  },
  {
   "cell_type": "code",
   "execution_count": 25,
   "metadata": {},
   "outputs": [
    {
     "name": "stdout",
     "output_type": "stream",
     "text": [
      "[{'link': 'https://www.timeanddate.com/', 'title': 'Time and Date'}, {'link': 'https://www.inchcalculator.com/what-is-todays-date/', 'title': \"What Is Today\\\\'s Date? - Inch Calculator\"}]\n"
     ]
    }
   ],
   "source": [
    "print(response['sources'])"
   ]
  },
  {
   "cell_type": "code",
   "execution_count": 26,
   "metadata": {},
   "outputs": [
    {
     "name": "stdout",
     "output_type": "stream",
     "text": [
      "[]\n"
     ]
    }
   ],
   "source": [
    "print(response['media'])"
   ]
  },
  {
   "cell_type": "markdown",
   "metadata": {
    "jp-MarkdownHeadingCollapsed": true
   },
   "source": [
    "### HuggingChat"
   ]
  },
  {
   "cell_type": "markdown",
   "metadata": {},
   "source": [
    "https://pypi.org/project/hugchat/"
   ]
  },
  {
   "cell_type": "code",
   "execution_count": 21,
   "metadata": {},
   "outputs": [],
   "source": [
    "from hugchat import hugchat\n",
    "from hugchat.login import Login"
   ]
  },
  {
   "cell_type": "code",
   "execution_count": 32,
   "metadata": {},
   "outputs": [],
   "source": [
    "# Log in to huggingface and grant authorization to huggingchat\n",
    "EMAIL = config.HUGGINGFACE_USERNAME\n",
    "PASSWD = config.HUGGINGFACE_PASSWORD\n",
    "cookie_path_dir = \"./cookies/\" # NOTE: trailing slash (/) is required to avoid errors\n",
    "sign = Login(EMAIL, PASSWD)\n",
    "cookies = sign.login(cookie_dir_path=cookie_path_dir, save_cookies=True)"
   ]
  },
  {
   "cell_type": "code",
   "execution_count": 33,
   "metadata": {},
   "outputs": [],
   "source": [
    "# Create your ChatBot\n",
    "chatbot = hugchat.ChatBot(cookies=cookies.get_dict())  # or cookie_path=\"usercookies/<email>.json\"\n",
    "\n",
    "message_result = chatbot.chat(\"Hi!\") # note: message_result is a generator, the method will return immediately."
   ]
  },
  {
   "cell_type": "code",
   "execution_count": 36,
   "metadata": {},
   "outputs": [
    {
     "name": "stdout",
     "output_type": "stream",
     "text": [
      "It's nice to meet you. Is there something I can help you with or would you like to chat?\n"
     ]
    }
   ],
   "source": [
    "print(message_result)"
   ]
  },
  {
   "cell_type": "code",
   "execution_count": null,
   "metadata": {},
   "outputs": [],
   "source": [
    "# Non stream\n",
    "message_str: str = message_result.wait_until_done() # you can also print(message_result) directly. \n",
    "# get files(such as images)\n",
    "file_list = message_result.get_files_created() # must call wait_until_done() first!\n",
    "\n",
    "# tips: model \"CohereForAI/c4ai-command-r-plus\" can generate images :)\n",
    "\n",
    "# Stream response\n",
    "for resp in chatbot.query(\n",
    "    \"Hello\",\n",
    "    stream=True\n",
    "):\n",
    "    print(resp)"
   ]
  },
  {
   "cell_type": "code",
   "execution_count": null,
   "metadata": {},
   "outputs": [],
   "source": [
    "# Web search\n",
    "query_result = chatbot.query(\"Hi!\", web_search=True)\n",
    "print(query_from hugchat import hugchat\n",
    "from hugchat.login import Login\n",
    "\n",
    "# Log in to huggingface and grant authorization to huggingchat\n",
    "EMAIL = \"your email\"\n",
    "PASSWD = \"your password\"\n",
    "cookie_path_dir = \"./cookies/\" # NOTE: trailing slash (/) is required to avoid errors\n",
    "sign = Login(EMAIL, PASSWD)\n",
    "cookies = sign.login(cookie_dir_path=cookie_path_dir, save_cookies=True)\n",
    "\n",
    "# Create your ChatBot\n",
    "chatbot = hugchat.ChatBot(cookies=cookies.get_dict())  # or cookie_path=\"usercookies/<email>.json\"\n",
    "\n",
    "message_result = chatbot.chat(\"Hi!\") # note: message_result is a generator, the method will return immediately.\n",
    "\n",
    "# Non stream\n",
    "message_str: str = message_result.wait_until_done() # you can also print(message_result) directly. \n",
    "# get files(such as images)\n",
    "file_list = message_result.get_files_created() # must call wait_until_done() first!\n",
    "\n",
    "# tips: model \"CohereForAI/c4ai-command-r-plus\" can generate images :)\n",
    "\n",
    "# Stream response\n",
    "for resp in chatbot.query(\n",
    "    \"Hello\",\n",
    "    stream=True\n",
    "):\n",
    "    print(resp)\n",
    "\n",
    "# Web search\n",
    "query_result = chatbot.query(\"Hi!\", web_search=True)\n",
    "print(query_result)\n",
    "for source in query_result.web_search_sources:\n",
    "    print(source.link)\n",
    "    print(source.title)\n",
    "    print(source.hostname)\n",
    "\n",
    "# Create a new conversation\n",
    "chatbot.new_conversation(switch_to = True) # switch to the new conversation\n",
    "\n",
    "# Get conversations on the server that are not from the current session (all your conversations in huggingchat)\n",
    "conversation_list = chatbot.get_remote_conversations(replace_conversation_list=True)\n",
    "# Get conversation list(local)\n",
    "conversation_list = chatbot.get_conversation_list()\n",
    "\n",
    "# Get the available models (not hardcore)\n",
    "models = chatbot.get_available_llm_models()\n",
    "\n",
    "# Switch model with given index\n",
    "chatbot.switch_llm(0) # Switch to the first model\n",
    "chatbot.switch_llm(1) # Switch to the second model\n",
    "\n",
    "# Get information about the current conversation\n",
    "info = chatbot.get_conversation_info()\n",
    "print(info.id, info.title, info.model, info.system_prompt, info.history)\n",
    "\n",
    "# Assistant\n",
    "assistant = chatbot.search_assistant(assistant_name=\"ChatGpt\") # assistant name list in https://huggingface.co/chat/assistants\n",
    "assistant_list = chatbot.get_assistant_list_by_page(page=0)\n",
    "chatbot.new_conversation(assistant=assistant, switch_to=True) # create a new conversation with assistant\n",
    "\n",
    "# [DANGER] Delete all the conversations for the logged in user\n",
    "chatbot.delete_all_conversations()result)\n",
    "for source in query_result.web_search_sources:\n",
    "    print(source.link)\n",
    "    print(source.title)\n",
    "    print(source.hostname)\n",
    "\n",
    "# Create a new conversation\n",
    "chatbot.new_conversation(switch_to = True) # switch to the new conversation\n",
    "\n",
    "# Get conversations on the server that are not from the current session (all your conversations in huggingchat)\n",
    "conversation_list = chatbot.get_remote_conversations(replace_conversation_list=True)\n",
    "# Get conversation list(local)\n",
    "conversation_list = chatbot.get_conversation_list()\n",
    "\n",
    "# Get the available models (not hardcore)\n",
    "models = chatbot.get_available_llm_models()\n",
    "\n",
    "# Switch model with given index\n",
    "chatbot.switch_llm(0) # Switch to the first model\n",
    "chatbot.switch_llm(1) # Switch to the second model\n",
    "\n",
    "# Get information about the current conversation\n",
    "info = chatbot.get_conversation_info()\n",
    "print(info.id, info.title, info.model, info.system_prompt, info.history)\n",
    "\n",
    "# Assistant\n",
    "assistant = chatbot.search_assistant(assistant_name=\"ChatGpt\") # assistant name list in https://huggingface.co/chat/assistants\n",
    "assistant_list = chatbot.get_assistant_list_by_page(page=0)\n",
    "chatbot.new_conversation(assistant=assistant, switch_to=True) # create a new conversation with assistant\n",
    "\n",
    "# [DANGER] Delete all the conversations for the logged in user\n",
    "chatbot.delete_all_conversations()"
   ]
  },
  {
   "cell_type": "markdown",
   "metadata": {},
   "source": [
    "### Anthropic"
   ]
  },
  {
   "cell_type": "raw",
   "metadata": {},
   "source": [
    "curl https://www.metaculus.com/proxy/anthropic/v1/messages \\\n",
    "     --header \"Authorization: Token <your metaculus Token>\" \\\n",
    "     --header \"anthropic-version: 2023-06-01\" \\\n",
    "     --header \"content-type: application/json\" \\\n",
    "     --data \\\n",
    "'{\n",
    "    \"model\": \"claude-3-5-sonnet-20240620\",\n",
    "    \"max_tokens\": 1024,\n",
    "    \"messages\": [\n",
    "        {\"role\": \"user\", \"content\": \"Hello, world\"}\n",
    "    ]\n",
    "}'"
   ]
  },
  {
   "cell_type": "markdown",
   "metadata": {},
   "source": [
    "### AskNews"
   ]
  },
  {
   "cell_type": "raw",
   "metadata": {},
   "source": [
    "pip install asknews"
   ]
  },
  {
   "cell_type": "markdown",
   "metadata": {},
   "source": [
    "https://colab.research.google.com/drive/1tc383HraMZOiyfKFF1EXAtlTYbsuv3Q5?usp=sharing"
   ]
  },
  {
   "cell_type": "code",
   "execution_count": 38,
   "metadata": {},
   "outputs": [],
   "source": [
    "ASKNEWS_CLIENT_ID = config.ASKNEWS_CLIENT_ID\n",
    "ASKNEWS_SECRET = config.ASKNEWS_SECRET"
   ]
  },
  {
   "cell_type": "code",
   "execution_count": 40,
   "metadata": {},
   "outputs": [],
   "source": [
    "from asknews_sdk import AskNewsSDK\n",
    "\n",
    "ask = AskNewsSDK(\n",
    "      client_id=config.ASKNEWS_CLIENT_ID,\n",
    "      client_secret=config.ASKNEWS_SECRET,\n",
    "      scopes=[\"news\"]\n",
    "  )\n",
    "\n",
    "\n",
    "query = \"Effect of fed policy on tech sector\"\n",
    "\n",
    "# prompt-optimized string ready to go for any LLM:\n",
    "news_context = ask.news.search_news(query).as_string"
   ]
  },
  {
   "cell_type": "code",
   "execution_count": 42,
   "metadata": {},
   "outputs": [
    {
     "name": "stdout",
     "output_type": "stream",
     "text": [
      "\n",
      "<doc>\n",
      "[1]:\n",
      "Title: Tech Stocks Surge Amid Fed's Rate Hold\n",
      "Summary: The S&P 500 and Nasdaq experienced their largest daily gains since February, driven by a rally in chip stocks and the Federal Reserve's decision to keep interest rates unchanged. The Fed hinted at potential rate easing in September, contingent on cooling inflation. Technology and discretionary stocks led the market, with seven of the 11 S&P 500 sectors advancing. The Dow ended the day up 0.24%, the S&P 500 gained 1.58%, and the Nasdaq Composite surged 2.64%. Federal Reserve Chair Jerome Powell stated that while the Fed discussed cutting rates, a strong majority agreed to delay the decision, citing July U.S. private payrolls data showing an unexpectedly small increase.\n",
      "Source: Devdiscourse\n",
      "Published: July 31 2024 21:33\n",
      "Organization: Federal Reserve, Nasdaq, Dow, Fed, S&P 500\n",
      "Date: February, September, July\n",
      "Product: chip stocks, discretionary stocks\n",
      "Technology: Technology\n",
      "Number: 11, seven\n",
      "Quantity: 2.64%, 0.24%, 1.58%\n",
      "Person: Jerome Powell\n",
      "Classification: Finance\n",
      "Sentiment: 1\n",
      "Reporting voice: Objective\n",
      "</doc>\n",
      "\n",
      "<doc>\n",
      "[2]:\n",
      "Title: Tech revival, Fed rates, Mag 7 earnings: Market Takeaways\n",
      "Summary: The stock market ended the day higher with a tech revival, led by NVIDIA's 13% increase after Morgan Stanley called it a top pick. The company's recent earnings report showed a 25% drawdown, but now may be a good time to buy in. The Federal Reserve Chair, Jerome Powell, hinted at a possible September rate cut, citing disinflation trends. Powell mentioned that services inflation, including rent and housing services, is looking better this year than last year. This is a key takeaway for markets, and economists are waiting to see if this trend will continue. The Fed is watching this closely, and Deutsche Bank economist Brett Ryan believes that once rent inflation starts falling, it's usually a sticky trend. Consumer staples companies like PG and A are also seeing a disinflationary trend, with some companies unable to raise prices in the same way. The market is waiting to see if the Fed will cut rates in September, and the total inflation data suggests that this may be the case.\n",
      "Source: Yahoo! Finance\n",
      "Published: July 31 2024 20:53\n",
      "Event: tech revival\n",
      "Organization: Deutsche Bank, PG, Morgan Stanley, A, Fed, Federal Reserve, NVIDIA\n",
      "Person: Jerome Powell, Brett Ryan\n",
      "Date: September\n",
      "Classification: Finance\n",
      "Sentiment: 1\n",
      "Reporting voice: Conversational\n",
      "</doc>\n",
      "\n",
      "<doc>\n",
      "[3]:\n",
      "Title: Fed comments provide boost for US markets\n",
      "Summary: US stocks closed higher on Wednesday after the US Federal Reserve signaled it could cut interest rates as soon as September. The Nasdaq Composite Index led major indices, winning 2.6 percent to finish at 17,599.40. Fed Chair Jerome Powell said the Fed is beginning to feel more comfortable that inflation is beginning to come down, and that the Fed feels it can finally get control of inflation. Semiconductor shares enjoyed a buoyant session, with Nvidia rocketing up 12.8 percent. Microsoft fell 1.1 percent despite reporting a 10 percent jump in quarterly profit to US$22 billion. Analysts praised Boeing's appointment of Robert 'Kelly' Ortberg as its next CEO, citing his extensive aerospace experience. 'The Fed delivered what the markets anticipated in terms of opening the door to a rate cut in September without overcommitting,' said LBBW's Karl Haeling. 'The Fed is beginning to feel more comfortable that inflation is beginning to come down,' said Adam Sarhan of 50 Park Capital. 'The Fed feels that it can finally get control of inflation, there is a light at the end of the tunnel.' \n",
      "Source: RTHK\n",
      "Published: July 31 2024 20:25\n",
      "Date: Wednesday, September\n",
      "Organization: LBBW, US Federal Reserve, Nvidia, Boeing, Nasdaq Composite Index, 50 Park Capital, Microsoft, Fed\n",
      "Number: 17,599.40\n",
      "Person: Adam Sarhan, Karl Haeling, Jerome Powell, Robert 'Kelly' Ortberg\n",
      "Money: US$22 billion\n",
      "Classification: Finance\n",
      "Sentiment: 1\n",
      "Reporting voice: Explanatory\n",
      "</doc>\n",
      "\n",
      "<doc>\n",
      "[4]:\n",
      "Title: Technology Sector Rebounds Ahead of Fed Decision\n",
      "Summary: The technology sector rebounded on the New York Stock Exchange on Wednesday, hours before the Federal Reserve's (Fed) decision. The Dow Jones index was down 0.15%, the NASDAQ, dominated by technology, rose 2.26%, and the S&P 500 rose 1.44% by 10:20 am (Eastern Time). Nvidia, the market leader, soared 9.81% after AMD, its competitor in artificial intelligence generators, released excellent results. AMD's quarterly revenue rose 9% to $5.8 billion and expects $6.7 billion for the current quarter. Its profit jumped 19%. The group, whose stock rose 10.27%, also stated that its data center equipment business had doubled. Other major technology names regained color after several turbulent sessions. Apple gained 1.69%, Alphabet advanced 1.25%, and Amazon rose 2.41%. Meta (+0.96%) will release its results on Wednesday after the close. On the macroeconomic side, private sector employment creations fell more than expected in July to 122,000 according to the ADP Stanford/Lab survey. This sign that the vigor of the labor market is waning is seen as a positive sign for the prospect of a rate cut in September, according to the markets. At 2 pm (Eastern Time), the Fed will release its decision, which is expected to be a status quo on rates, according to analysts. However, its president, Jerome Powell, may open the door to a future rate cut on September 18 during his press conference.\n",
      "Source: La Presse\n",
      "Published: July 31 2024 14:46\n",
      "Technology: artificial intelligence, technology\n",
      "Organization: ADP, Nvidia, S&P 500, Alphabet, Stanford/Lab, Meta, Amazon, NASDAQ, Apple, AMD, Dow Jones, Federal Reserve, Fed, New York Stock Exchange\n",
      "Date: July, Wednesday, September\n",
      "Time: 2 pm, 10:20 am, Eastern Time\n",
      "Money: $6.7 billion, $5.8 billion\n",
      "Number: 122,000\n",
      "Person: Jerome\n",
      "Classification: Technology\n",
      "Sentiment: 1\n",
      "Reporting voice: Explanatory\n",
      "</doc>\n",
      "\n",
      "<doc>\n",
      "[5]:\n",
      "Title: Tech Stocks Surge As Fed's Rate Decision Looms\n",
      "Summary: The Nasdaq and S&P 500 saw significant gains on Wednesday, driven by Advanced Micro Devices' optimistic 2024 forecast for AI-chip sales, which also boosted Nvidia. Microsoft shares dropped 1.6% due to plans for increased fiscal spending on AI, reflecting ongoing investment challenges. Other tech stocks, including Apple, Meta Platforms, and Amazon.com, experienced growth ahead of their quarterly results. Boeing and Mastercard presented favorable quarterly performances, while Pinterest faced setbacks. As traders await the Federal Reserve's decision on interest rates, the tech sector remains volatile.\n",
      "Source: Devdiscourse\n",
      "Published: July 31 2024 14:26\n",
      "Organization: Mastercard, Microsoft, Amazon.com, S&P 500, Boeing, Nvidia, Apple, Nasdaq, Meta Platforms, Pinterest, Federal Reserve, Advanced Micro Devices\n",
      "Date: 2024, Wednesday\n",
      "Technology: AI, AI-chip\n",
      "Classification: Finance\n",
      "Sentiment: 0\n",
      "Reporting voice: Objective\n",
      "</doc>\n",
      "\n",
      "<doc>\n",
      "[6]:\n",
      "Title: New York Stock Exchange Sees Strong Increase in Technology Sector\n",
      "Summary: The New York Stock Exchange opened with a strong increase in the technology sector on Wednesday, just hours before the Federal Reserve (Fed) concludes a meeting on monetary policy. According to the article, the market is expecting some kind of announcement from the Fed, but no further details are provided. The article does not quote any specific individuals, but it does mention the upcoming Fed meeting as a key event driving the market's movement.\n",
      "Source: Barron S\n",
      "Published: July 31 2024 13:32\n",
      "Organization: Federal Reserve, Fed, New York Stock Exchange\n",
      "Date: Wednesday\n",
      "Event: monetary policy\n",
      "Classification: Finance\n",
      "Sentiment: 0\n",
      "Reporting voice: Objective\n",
      "</doc>\n",
      "\n",
      "<doc>\n",
      "[7]:\n",
      "Title: US Stock Markets Expected to Close Week on Positive Note Ahead of Fed Decision\n",
      "Summary: US stock markets are expected to close the week on a positive note ahead of the Federal Reserve's interest rate decision. The Nasdaq is expected to see significant gains, driven by the technology sector. Labor market data has had a slightly positive impact on the markets. The ADP employment report showed that the private sector created fewer jobs than expected in July, with a gain of 122,000 jobs, compared to the expected 150,000. This has eased the Federal Reserve's monetary policy, making it easier for them to make decisions. Notably, Jerome Powell's statements during the Fed meeting will be closely watched, as some economists believe that the door for a rate hike in September will remain open. Microsoft's cloud business has grown slower than expected, causing concern on Wall Street, with the company's stock falling 2.4% in pre-market trading. Boeing has appointed a new CEO, Kelly Ortberg, to lead the company out of its crisis. The company's stock rose 1.9% in pre-market trading. T-Mobile US has gained 777,000 new customers in the second quarter, beating analyst expectations. The company's stock rose 2.9% in pre-market trading. Applied Materials' stock has risen 3.9% in pre-market trading, driven by hopes of less severe business losses in China. Uber's stock has risen 1.4% in pre-market trading, driven by a partnership with BYD to bring 100,000 electric vehicles to its platform.\n",
      "Source: de.marketscreener.com\n",
      "Published: July 31 2024 12:47\n",
      "Organization: Microsoft, T-Mobile US, Boeing, Uber, Federal Reserve, BYD, Nasdaq, Fed, ADP, Applied Materials\n",
      "Date: September, July\n",
      "Quantity: 122,000, 100,000, 777,000, 150,000\n",
      "Person: Jerome Powell, Kelly Ortberg\n",
      "Location: Wall Street\n",
      "Title: CEO\n",
      "Time: second quarter, pre-market\n",
      "Classification: Finance\n",
      "Sentiment: 1\n",
      "Reporting voice: Explanatory\n",
      "</doc>\n",
      "\n",
      "<doc>\n",
      "[8]:\n",
      "Title: Tech Sector Rebounds on Wall Street Ahead of Fed Decision\n",
      "Summary: The technology sector rebounded strongly on Wall Street on Wednesday, ahead of a monetary decision by the Federal Reserve. The Dow Jones index rose 0.15%, the Nasdaq, dominated by technology stocks, surged 2.26%, and the S&P 500 rose 1.44% by 14:20 GMT. Nvidia, the market leader, soared 9.81% after AMD, its competitor in the field of artificial intelligence, published excellent results. Nvidia's quarterly revenue rose 9% to $5.8 billion and expects $6.7 billion for the current quarter. Its profit jumped 19%. The company, whose stock rose 10.27%, also stated that its data center equipment business had doubled. Other major tech names also regained their colors, with Apple rising 1.69%, Alphabet advancing 1.25%, and Amazon rising 2.41%. The Fed is expected to maintain interest rates on Wednesday, but its chairman, Jerome Powell, may hint at a potential rate cut in September during his press conference.\n",
      "Source: RTL info\n",
      "Published: July 31 2024 12:27\n",
      "Location: Wall Street\n",
      "Date: September, Wednesday\n",
      "Organization: Dow Jones, AMD, Nasdaq, Amazon, Fed, Federal Reserve, Apple, S&P 500, Alphabet, Nvidia\n",
      "Time: 14:20 GMT\n",
      "Technology: artificial intelligence\n",
      "Money: $5.8 billion, $6.7 billion\n",
      "Person: Jerome Powell\n",
      "Classification: Finance\n",
      "Sentiment: 1\n",
      "Reporting voice: Objective\n",
      "</doc>\n",
      "\n",
      "<doc>\n",
      "[9]:\n",
      "Title: Stock Market Today: Tech leads rebound with Fed decision in focus\n",
      "Summary: U.S. equity futures rose sharply on Wednesday, driven by strong gains in the chip sector and a decline in Treasury bond yields, as investors prepared for the Federal Reserve's rate decision. The Fed is expected to keep the Fed Funds rate at 5.25-5.5%, but Chairman Jerome Powell is likely to signal at least one rate cut, possibly starting in the autumn. The tech sector, led by Advanced Micro Devices (AMD) and Samsung, is expected to continue its upward trend, while Microsoft's mixed earnings report and slower revenue growth from its Azure cloud division may weigh on its shares. Global markets are also reacting to the Bank of Japan's rate hike and the assassination of a senior Hamas leader, which has led to a surge in oil prices. The S&P 500 is expected to gain 53 points, while the Dow Jones Industrial Average is expected to rise 120 points, and the Nasdaq is expected to gain 280 points. \n",
      "Source: Yahoo\n",
      "Published: July 31 2024 10:56\n",
      "Date: Wednesday\n",
      "Organization: Fed, AMD, Advanced Micro Devices, S&P 500, Bank of Japan, Nasdaq, Samsung, Federal Reserve, Microsoft, Hamas, Treasury, Dow Jones Industrial Average\n",
      "Quantity: 120 points, 5.25-5.5%, 280 points, 53 points\n",
      "Title: Chairman\n",
      "Person: Jerome Powell\n",
      "Time: autumn\n",
      "Product: Azure\n",
      "Classification: Finance\n",
      "Sentiment: 1\n",
      "Reporting voice: Objective\n",
      "</doc>\n",
      "\n",
      "<doc>\n",
      "[10]:\n",
      "Title: Fed decision, BOJ, Microsoft, Meta Platforms - what's moving markets\n",
      "Summary: The Bank of Japan hiked interest rates earlier Wednesday, while investors await the Federal Reserve's decision on interest rates later in the session. The Fed is expected to maintain its benchmark overnight interest rate in the current 5.25%-5.50% range. U.S. stock futures rose Wednesday as investors awaited the conclusion of the latest Federal Reserve meeting while parsing through a series of important earnings reports. Microsoft disappointed with its fourth-quarter update, as the tech giant indicated it would spend more money on artificial intelligence infrastructure, even as growth slowed in its cloud business. Meta Platforms is expected to report a 20% rise in quarterly revenue, helped by strong ad sales driven by the Olympics and elections in several countries. Crude prices soared Wednesday after the killing of Hamas leader Ismail Haniyeh in Iran ratcheted up tensions in the Middle East, raising the prospects of a wider conflict hitting supplies. 'We remain positive on Meta and think Reels, Messaging and AI-driven ad improvements are still early, and could lead to positive product surprises and revenue upside,' analysts at BofA Securities said. 'With political spend, and potential TikTok ban in 1Q'25, Meta could also see an ad spend benefit in 2H'24.'\n",
      "Source: Yahoo! Finance\n",
      "Published: July 31 2024 09:10\n",
      "Organization: Microsoft, BofA Securities, Meta, Bank of Japan, Federal Reserve, TikTok, Hamas, Fed\n",
      "Date: 1Q'25, fourth-quarter, 2H'24, Wednesday\n",
      "Technology: artificial intelligence, AI-driven\n",
      "Product: Meta, Reels, Messaging, Meta Platforms\n",
      "Event: Olympics, elections\n",
      "Person: Ismail Haniyeh\n",
      "Location: Middle East\n",
      "Classification: Finance\n",
      "Sentiment: 0\n",
      "Reporting voice: Objective\n",
      "</doc>\n",
      "\n"
     ]
    }
   ],
   "source": [
    "print(news_context)"
   ]
  },
  {
   "cell_type": "code",
   "execution_count": null,
   "metadata": {},
   "outputs": [],
   "source": [
    "def get_asknews_context(query):\n",
    "  \"\"\"\n",
    "  Use the AskNews `news` endpoint to get news context for your query.\n",
    "  The full API reference can be found here: https://docs.asknews.app/en/reference#get-/v1/news/search\n",
    "  \"\"\"\n",
    "  ask = AskNewsSDK(\n",
    "      client_id=ASKNEWS_CLIENT_ID,\n",
    "      client_secret=ASKNEWS_SECRET,\n",
    "      scopes=[\"news\"]\n",
    "  )\n",
    "\n",
    "  # # get the latest news related to the query (within the past 48 hours)\n",
    "  hot_response = ask.news.search_news(\n",
    "      query=query, # your natural language query\n",
    "      n_articles=5, # control the number of articles to include in the context\n",
    "      return_type=\"both\",\n",
    "      strategy=\"latest news\" # enforces looking at the latest news only\n",
    "  )\n",
    "\n",
    "  # get context from the \"historical\" database that contains a news archive going back to 2023\n",
    "  historical_response = ask.news.search_news(\n",
    "      query=query,\n",
    "      n_articles=20,\n",
    "      return_type=\"both\",\n",
    "      strategy=\"news knowledge\" # looks for relevant news within the past 60 days\n",
    "  )\n",
    "\n",
    "  # you can also specify a time range for your historical search if you want to\n",
    "  # slice your search up periodically.\n",
    "  # now = datetime.datetime.now().timestamp()\n",
    "  # start = (datetime.datetime.now() - datetime.timedelta(days=100)).timestamp()\n",
    "  # historical_response = ask.news.search_news(\n",
    "  #     query=query,\n",
    "  #     n_articles=20,\n",
    "  #     return_type=\"both\",\n",
    "  #     historical=True,\n",
    "  #     start_timestamp=int(start),\n",
    "  #     end_timestamp=int(now)\n",
    "  # )\n",
    "\n",
    "  llm_context = hot_response.as_string + historical_response.as_string\n",
    "  formatted_articles = format_asknews_context(\n",
    "      hot_response.as_dicts, historical_response.as_dicts)\n",
    "  return llm_context, formatted_articles\n",
    "\n",
    "\n",
    "def format_asknews_context(hot_articles, historical_articles):\n",
    "  \"\"\"\n",
    "  Format the articles for posting to Metaculus.\n",
    "  \"\"\"\n",
    "\n",
    "  formatted_articles = \"Here are the relevant news articles:\\n\\n\"\n",
    "\n",
    "  if hot_articles:\n",
    "    hot_articles = [article.__dict__ for article in hot_articles]\n",
    "    hot_articles = sorted(\n",
    "        hot_articles, key=lambda x: x['pub_date'], reverse=True)\n",
    "\n",
    "    for article in hot_articles:\n",
    "        pub_date = article[\"pub_date\"].strftime(\"%B %d, %Y %I:%M %p\")\n",
    "        formatted_articles += f\"**{article['eng_title']}**\\n{article['summary']}\\nOriginal language: {article['language']}\\nPublish date: {pub_date}\\nSource:[{article['source_id']}]({article['article_url']})\\n\\n\"\n",
    "\n",
    "  if historical_articles:\n",
    "    historical_articles = [article.__dict__ for article in historical_articles]\n",
    "    historical_articles = sorted(\n",
    "        historical_articles, key=lambda x: x['pub_date'], reverse=True)\n",
    "\n",
    "    for article in historical_articles:\n",
    "        pub_date = article[\"pub_date\"].strftime(\"%B %d, %Y %I:%M %p\")\n",
    "        formatted_articles += f\"**{article['eng_title']}**\\n{article['summary']}\\nOriginal language: {article['language']}\\nPublish date: {pub_date}\\nSource:[{article['source_id']}]({article['article_url']})\\n\\n\"\n",
    "\n",
    "  if not hot_articles and not historical_articles:\n",
    "    formatted_articles += \"No articles were found.\\n\\n\"\n",
    "    return formatted_articles\n",
    "\n",
    "  formatted_articles += f\"*Generated by AI at [AskNews](https://asknews.app), check out the [API](https://docs.asknews.app) for more information*.\"\n",
    "\n",
    "  return formatted_articles"
   ]
  },
  {
   "cell_type": "markdown",
   "metadata": {},
   "source": [
    "### Perplexity"
   ]
  },
  {
   "cell_type": "code",
   "execution_count": 43,
   "metadata": {},
   "outputs": [],
   "source": [
    "class Perplexity(LLM):\n",
    "    def message(self):\n",
    "        url = \"https://api.perplexity.ai/chat/completions\"\n",
    "        headers = {\n",
    "            \"accept\": \"application/json\",\n",
    "            \"authorization\": f\"Bearer {config.PERPLEXITY_API_KEY}\",\n",
    "            \"content-type\": \"application/json\"  }\n",
    "        payload = {\"model\": config.PERPLEXITY_MODEL, \"messages\": self.messages }\n",
    "        response = requests.post(url=url, json=payload, headers=headers)\n",
    "        response.raise_for_status()\n",
    "        return response.json()[\"choices\"][0][\"message\"][\"content\"]"
   ]
  },
  {
   "cell_type": "markdown",
   "metadata": {},
   "source": [
    "### OpenAI"
   ]
  },
  {
   "cell_type": "markdown",
   "metadata": {},
   "source": [
    "TBD: Metaculus credentials"
   ]
  },
  {
   "cell_type": "raw",
   "metadata": {},
   "source": [
    "curl https://www.metaculus.com/proxy/openai/v1/chat/completions  \\\n",
    "  -H \"Content-Type: application/json\" \\\n",
    "  -H \"Authorization: Token <your metaculus Token>\" \\\n",
    "  -d '{\n",
    "    \"model\": \"gpt-3.5-turbo\",\n",
    "    \"messages\": [\n",
    "      {\n",
    "        \"role\": \"system\",\n",
    "        \"content\": \"You are a helpful assistant.\"\n",
    "      },\n",
    "      {\n",
    "        \"role\": \"user\",\n",
    "        \"content\": \"Who won the world series in 2020?\"\n",
    "      },\n",
    "      {\n",
    "        \"role\": \"assistant\",\n",
    "        \"content\": \"The Los Angeles Dodgers won the World Series in 2020.\"\n",
    "      },\n",
    "      {\n",
    "        \"role\": \"user\",\n",
    "        \"content\": \"Where was it played?\"\n",
    "      }\n",
    "    ]\n",
    "  }'"
   ]
  },
  {
   "cell_type": "code",
   "execution_count": 44,
   "metadata": {},
   "outputs": [],
   "source": [
    "class ChatGPT(LLM):\n",
    "    def __init__(self, system_role):\n",
    "        super().__init__(system_role)\n",
    "        self.client = OpenAI(api_key=config.OPENAI_API_KEY)\n",
    "\n",
    "    def message(self):\n",
    "        chat_completion = self.client.chat.completions.create(\n",
    "            model=config.OPENAI_MODEL,\n",
    "            messages= self.messages)\n",
    "        return chat_completion.choices[0].message.content"
   ]
  },
  {
   "cell_type": "markdown",
   "metadata": {},
   "source": [
    "### Test questions"
   ]
  },
  {
   "cell_type": "raw",
   "metadata": {},
   "source": [
    "jul25 = [26638, 26639, 26640, 26641, 26642, 26643, 26644, 26645, 26646]\n",
    "\n",
    "ifps = {id: IFP(id) for id in jul25}"
   ]
  },
  {
   "cell_type": "markdown",
   "metadata": {
    "id": "9WUvm1tVmMkO"
   },
   "source": [
    "### Agents"
   ]
  },
  {
   "cell_type": "code",
   "execution_count": 45,
   "metadata": {},
   "outputs": [],
   "source": [
    "class Agent:\n",
    "    def __init__(self, system_role, llm):\n",
    "        self.llm = llm(system_role)\n",
    "\n",
    "    def chat(self, prompt):\n",
    "        return self.llm.chat(prompt)"
   ]
  },
  {
   "cell_type": "markdown",
   "metadata": {},
   "source": [
    "## Rate Analyzer(TBD: ChatGPT is better)"
   ]
  },
  {
   "cell_type": "raw",
   "metadata": {},
   "source": [
    "class RateAnalyzer(Agent):\n",
    "    def __init__(self, llm):\n",
    "        self.system_role = f\"\"\"\n",
    "A question about an event is formatted as |id|question|criteria|background|fineprint|.\n",
    "Today's date is {today}.\n",
    "You will report \n",
    "1. today's date, \n",
    "2. the end date of the question, \n",
    "3. the time in days D from today to end date, \n",
    "4. the daily rate of change R of the quantity,\n",
    "5. today's value V of the quantity,\n",
    "6. the change in value dV of the quantity = D * r,\n",
    "7. the final value of the quantity F = V + dV.  Give your best estimate.\n",
    "\"\"\"\n",
    "        super().__init__(self.system_role, llm)\n",
    "\n",
    "    def recherche(self, ifp):\n",
    "        prompt = f\"|{ifp.question_id}|{ifp.title}|{ifp.resolution_criteria}|{ifp.background}|{ifp.fine_print}|\"\n",
    "        self.R = self.chat(prompt)\n",
    "        ifp.rates = self.R\n",
    "        print(ifp.question_id, ifp.title)\n",
    "        print(self.R)\n",
    "\n",
    "    def analyze(self, ifps):\n",
    "        for ifp in tqdm(ifps):\n",
    "            self.recherche(ifps[ifp])"
   ]
  },
  {
   "cell_type": "raw",
   "metadata": {},
   "source": [
    "rates = RateAnalyzer(Perplexity)\n",
    "rates.analyze(ifps)"
   ]
  },
  {
   "cell_type": "markdown",
   "metadata": {},
   "source": [
    "#### Researcher"
   ]
  },
  {
   "cell_type": "code",
   "execution_count": 46,
   "metadata": {},
   "outputs": [],
   "source": [
    "class Researcher(Agent):\n",
    "    def __init__(self, llm):\n",
    "        self.system_role = f\"\"\"\n",
    "You are an open source intelligence analyst.\n",
    "You summarize news related to questions about events.\n",
    "A question about an event is formatted as |id|question|criteria|background|fineprint|.\n",
    "You will find on the web and report any reliable information you can gather about the question.\n",
    "Do not make an assessment of probability.\n",
    "Do not repeat information provided to you already in the prompt.\"\"\"\n",
    "        super().__init__(self.system_role, llm)\n",
    "\n",
    "    def recherche(self, ifp):\n",
    "        prompt = f\"|{ifp.question_id}|{ifp.title}|{ifp.resolution_criteria}|{ifp.background}|{ifp.fine_print}|\"\n",
    "        self.R = self.chat(prompt)\n",
    "        ifp.news = self.R\n",
    "        print(ifp.question_id, ifp.title)\n",
    "        print(self.R)\n",
    "\n",
    "    def research(self, ifps):\n",
    "        for ifp in tqdm(ifps):\n",
    "            self.recherche(ifps[ifp])"
   ]
  },
  {
   "cell_type": "raw",
   "metadata": {},
   "source": [
    "researcher = Researcher(ChatGPT)"
   ]
  },
  {
   "cell_type": "raw",
   "metadata": {},
   "source": [
    "researcher.research(ifps)"
   ]
  },
  {
   "cell_type": "markdown",
   "metadata": {},
   "source": [
    "### Question relator"
   ]
  },
  {
   "cell_type": "code",
   "execution_count": 47,
   "metadata": {},
   "outputs": [],
   "source": [
    "class QuestionRelator(Agent):\n",
    "    def __init__(self, llm):\n",
    "        self.system_role = f\"\"\"\n",
    "You are prompted with list of forecasting questions, each with an id and a title.\n",
    "Label each question with an underlying event.\n",
    "If the questions are for the same event, use the same name for the underlying event.\n",
    "Please return as separate lines formatted as |event|id|title|, do not add any other formatting.\n",
    "\"\"\"\n",
    "        super().__init__(self.system_role, llm)\n",
    "\n",
    "    def relate(self, ifps):\n",
    "        prompt = '\\n'.join([f\"{ifp.question_id}: {ifp.title}\" for ifp in ifps.values()])\n",
    "        KL = self.chat(prompt)\n",
    "        K1 = [x.split('|') for x in KL.split('\\n')]\n",
    "        K2 = [(int(id),event) for _,event,id,_,_ in K1]\n",
    "        for id,event in K2:\n",
    "            ifps[id].event = event\n",
    "            print(id, event)"
   ]
  },
  {
   "cell_type": "raw",
   "metadata": {},
   "source": [
    "qr = QuestionRelator(ChatGPT)"
   ]
  },
  {
   "cell_type": "raw",
   "metadata": {},
   "source": [
    "qr.relate(ifps)"
   ]
  },
  {
   "cell_type": "markdown",
   "metadata": {},
   "source": [
    "#### Superforecaster"
   ]
  },
  {
   "cell_type": "code",
   "execution_count": 48,
   "metadata": {},
   "outputs": [],
   "source": [
    "class Superforecaster(Agent):\n",
    "    def __init__(self, llm):\n",
    "        self.system_role = f\"\"\"\n",
    "You are a superforecaster.  \n",
    "You assign a probability to questions about events.\n",
    "Questions are given as separate groups of lines formatted as |FORECAST|event|id|question|news|criteria|background|fineprint|.\n",
    "Groups are separated by '^^^'.\n",
    "Questions which are about the same event should be assigned consistent probabilities.\n",
    "Reply to questions with |ASSESSMENT|id|ZZ|rationale| where ZZ is an integer probability from 1 to 99 and rationale is your reasoning for the forecast.\n",
    "Separate each question with '^^^'.\n",
    "Do not add any additional headings or group labels or other formatting.\n",
    "After your initial forecast you may receive feedback of form |CRITIC|id|feedback|.\n",
    "Reply to each feedback with |id|ZZ|rationale| where ZZ is an integer probability from 1 to 99 and \n",
    "and rationale is a revised assessment which may be adjusted from a prior assessment due the feedback unless the feedback is \"I concur\".\n",
    "\"\"\"\n",
    "        super().__init__(self.system_role, llm)\n",
    "\n",
    "    def forecast(self, ifps):\n",
    "        prompt = '^^^'.join([f\"FORECAST|{ifp.event}|{ifp.question_id}|{ifp.news}|{ifp.resolution_criteria}|{ifp.background}|{ifp.fine_print}|\" for ifp in ifps.values()])\n",
    "        self.F0 = self.chat(prompt)\n",
    "        self.F1 = [x.strip().replace('\\n', '') for x in self.F0.split('^^^')]\n",
    "        self.F2 = [x.split('|') for x in self.F1] \n",
    "        self.F3 = [[x for x in y if x] for y in self.F2]\n",
    "        self.F4 = [(int(id),int(forecast),rationale) for _, id, forecast, rationale in self.F3]\n",
    "        for id, forecast, rationale in self.F4:\n",
    "            ifps[id].forecast = forecast\n",
    "            ifps[id].rationale = rationale\n",
    "            print(id, forecast, rationale)\n",
    "\n",
    "    def reassess(self, ifp):\n",
    "        prompt = f\"|CRITIC|{ifp.question_id}|{ifp.feedback}|\"\n",
    "        self.R0 = self.chat(prompt)\n",
    "        id,fcst,rationale = [x for x in self.R0.strip().split('|') if x]\n",
    "        id = int(id)\n",
    "        fcst = int(fcst)\n",
    "        ifps[id].forecast = fcst\n",
    "        ifps[id].rationale = rationale\n",
    "        print(id, fcst, rationale)"
   ]
  },
  {
   "cell_type": "raw",
   "metadata": {},
   "source": [
    "sf = Superforecaster(ChatGPT)"
   ]
  },
  {
   "cell_type": "raw",
   "metadata": {},
   "source": [
    "sf.forecast(ifps)\n",
    "\n",
    "for ifp in ifps.values():\n",
    "    if ifp.feedback != 'I concur':\n",
    "        sf.reassess(ifp)"
   ]
  },
  {
   "cell_type": "markdown",
   "metadata": {},
   "source": [
    "#### Critic"
   ]
  },
  {
   "cell_type": "code",
   "execution_count": 49,
   "metadata": {},
   "outputs": [],
   "source": [
    "class Critic (Agent):\n",
    "    def __init__(self, llm):\n",
    "\n",
    "        self.system_role = f\"\"\"\n",
    "You a very smart and worldly person reviewing a superforecaster's assignment of probabilities to events.\n",
    "You will receive an event with probabilities given as |event|id|question|zz|rationale|news|criteria|background|fineprint|.\n",
    "zz is an integer probability from 1 to 99 and rationale is the student's logic for assigning probability of zz.\n",
    "You will reply with a line |id|feedback| where feedback is \"I concur\" if you see no problem with the rationale and zz otherwise presents possible problems with the rationale and zz.\n",
    "\"\"\"\n",
    "        super().__init__(self.system_role, llm)\n",
    "\n",
    "    def feedback(self, ifp):\n",
    "        prompt = f\"|{ifp.event}|{ifp.question_id}|{ifp.title}|{ifp.forecast}|{ifp.rationale}|{ifp.news}|{ifp.resolution_criteria}|{ifp.background}|{ifp.fine_print}|\"\n",
    "        self.fb = self.chat(prompt)\n",
    "        self.fb1 = self.fb.split('|')\n",
    "        self.fb2 = [x for x in self.fb1 if x]\n",
    "        try:\n",
    "            id,feedback = self.fb2\n",
    "            ifps[int(id)].feedback = feedback\n",
    "            print(id, feedback)\n",
    "        except:\n",
    "            print('problem', self.fb2)\n",
    "            ifps[int(id)].feedback = 'I concur'"
   ]
  },
  {
   "cell_type": "raw",
   "metadata": {},
   "source": [
    "categories = {\"Market Price\": \"The current or future prices or comparative price / value of goods, services, commodities, stocks, treasuries, indices, and other traded financial products. This excludes products which aren't traded and subject to supply and demand.\",\n",
    "                \"Macroeconomics\": \"A quantifiable measure with historical values being above, below, or between values. This includes all-time records, record lows, record highs, or simply exceeding a value at a specified time.\",\n",
    "                \"Epidemic\": \"The rate of spread of a disease\",\n",
    "                \"Disease\": \"A new outbreak of an old or new disease\",\n",
    "                \"Medical Device\": \"Invention or distribution of a new medical device\",\n",
    "                \"Drug Discovery\": \"Invention of a new drug for a specific medical condition\",\n",
    "                \"Civil Unrest\": \"Riots and protests\",\n",
    "                \"Crime\": \"Crime statistics\",\n",
    "                \"Elections\": \"Elections\",\n",
    "                \"Leadership change\": \"Leadership change but not from an election\",\n",
    "                \"Sports\": \"Sporting event outcomes and sport statistics\"}"
   ]
  },
  {
   "cell_type": "raw",
   "metadata": {},
   "source": [
    "dfc = pd.DataFrame(categories.items())\n",
    "text = \"\"\n",
    "for cat in categories:\n",
    "    descr = categories[cat]\n",
    "    text += f\"* {cat}: {descr}\\n\"\n",
    "dfc"
   ]
  },
  {
   "cell_type": "raw",
   "metadata": {},
   "source": [
    "critic = Critic(Perplexity)"
   ]
  },
  {
   "cell_type": "raw",
   "metadata": {},
   "source": [
    "for ifp in ifps.values():\n",
    "    critic.feedback(ifp)"
   ]
  },
  {
   "cell_type": "markdown",
   "metadata": {},
   "source": [
    "## Summarizer"
   ]
  },
  {
   "cell_type": "markdown",
   "metadata": {},
   "source": [
    "Add an agent to summarize the back and forth between critic and forecaster into a single cogent rationale that incorporates all that was discussed."
   ]
  },
  {
   "cell_type": "markdown",
   "metadata": {},
   "source": [
    "### Forecasting process"
   ]
  },
  {
   "cell_type": "raw",
   "metadata": {},
   "source": [
    "ifps = {id: IFP(id) for id in jul25}"
   ]
  },
  {
   "cell_type": "code",
   "execution_count": 50,
   "metadata": {},
   "outputs": [],
   "source": [
    "def forecasting(ifps):\n",
    "    max_tries = 4\n",
    "    \n",
    "    analyst = Researcher(ChatGPT)\n",
    "    analyst.research(ifps)\n",
    "    \n",
    "    qr = QuestionRelator(ChatGPT)\n",
    "    qr.relate(ifps)\n",
    "    \n",
    "    sf = Superforecaster(ChatGPT)\n",
    "    sf.forecast(ifps)\n",
    "    \n",
    "    for ifp in ifps.values():\n",
    "        print(\"Refining\", ifp.question_id)\n",
    "        ifp.feedback = ''\n",
    "        critic = Critic(Perplexity)\n",
    "        for i in range(max_tries):\n",
    "            print(\"Pass\", i, \"of\", max_tries, \"on\", ifp.question_id)\n",
    "            if 'I concur' in ifp.feedback:\n",
    "                break\n",
    "            critic.feedback(ifp)\n",
    "            if 'I concur' in ifp.feedback:\n",
    "                break\n",
    "            sf.reassess(ifp)\n",
    "        print(\"===============================================\")\n",
    "\n",
    "    for ifp in ifps.values():\n",
    "        print(ifp.question_id, ifp.title)\n",
    "        print(\"Forecast\", ifp.forecast)\n",
    "        print(\"Rationale\", ifp.rationale, '\\n')"
   ]
  },
  {
   "cell_type": "code",
   "execution_count": 51,
   "metadata": {},
   "outputs": [],
   "source": [
    "def upload(ifp):\n",
    "    post_question_prediction(ifp.question_id, ifp.forecast)\n",
    "    post_question_comment(ifp.question_id, ifp.rationale)"
   ]
  },
  {
   "cell_type": "code",
   "execution_count": 52,
   "metadata": {},
   "outputs": [],
   "source": [
    "def uploads(ifps):\n",
    "    for ifp in ifps.values():\n",
    "        upload(ifp)"
   ]
  },
  {
   "cell_type": "markdown",
   "metadata": {},
   "source": [
    "## Daily forecast"
   ]
  },
  {
   "cell_type": "markdown",
   "metadata": {},
   "source": [
    "### Get IFP ids"
   ]
  },
  {
   "cell_type": "code",
   "execution_count": 53,
   "metadata": {},
   "outputs": [],
   "source": [
    "ifps = list_questions()['results']\n",
    "today_ids = list(sorted([x['id'] for x in ifps]))\n",
    "# today_ids = [25876, 25877, 25875, 25873, 25871, 25878, 25874, 25872] # 08JUL24\n",
    "# today_ids = [26006, 25936, 25935, 25934, 25933, 26004, 26005] # 09JUL24\n",
    "# today_ids = [25955, 25956, 25957, 25960, 25959, 25954, 25953, 25952, 25958] # 10JUL24\n",
    "# today_ids = [26019, 26018, 26017, 26020, 26022, 26021, 26023, 26024] # 11JUL24\n",
    "# today_ids = [26095, 26096, 26097, 26098, 26099, 26100, 26101, 26102] # 12JUL24\n",
    "# today_ids = [26133, 26134, 26138, 26139, 26140, 26157, 26158, 26159] # 15JUL24\n",
    "# today_ids = [26189, 26190, 26191, 26192, 26193, 26194, 26195, 26196] # 16JUL24\n",
    "# today_ids = [26210, 26211, 26212, 26213, 26214, 26215, 26216] # 17JUL24\n",
    "# today_ids = [26232, 26233, 26234, 26235, 26236] # 18JUL24\n",
    "# today_ids = [26302, 26303, 26304, 26305, 26306, 26307] # 19JUL24\n",
    "# today_ids = [26387, 26388, 26389, 26390, 26391, 26392] # 22JUL24\n",
    "# today_ids = [26404, 26405, 26406, 26407, 26408] # 23JUL24\n",
    "# today_ids = [26550, 26551, 26552, 26553, 26554, 26555] # 24JUL24\n",
    "# today_ids = [26568, 26569, 26570, 26571, 26572, 26573, 26574, 26575, 26576, 26577] # 25JUL24\n",
    "# today_ids = [26638, 26639, 26640, 26641, 26642, 26643, 26644, 26645, 26646] # 26JUL24\n",
    "# today_ids = [26665, 26666, 26667, 26668, 26669, 26670, 26671, 26683] # 29JUL24\n",
    "# today_ids = [26700, 26701, 26702, 26703, 26704, 26705, 26706] # 30JUL24\n",
    "# today_ids = [26816, 26817, 26818, 26819, 26820, 26821, 26844] # 31JUL24"
   ]
  },
  {
   "cell_type": "code",
   "execution_count": 54,
   "metadata": {
    "scrolled": true
   },
   "outputs": [
    {
     "data": {
      "text/plain": [
       "[26816, 26817, 26818, 26819, 26820, 26821, 26844]"
      ]
     },
     "execution_count": 54,
     "metadata": {},
     "output_type": "execute_result"
    }
   ],
   "source": [
    "today_ids"
   ]
  },
  {
   "cell_type": "markdown",
   "metadata": {},
   "source": [
    "## Forecast"
   ]
  },
  {
   "cell_type": "code",
   "execution_count": 55,
   "metadata": {},
   "outputs": [],
   "source": [
    "ifps = {id: IFP(id) for id in today_ids}"
   ]
  },
  {
   "cell_type": "code",
   "execution_count": 56,
   "metadata": {},
   "outputs": [
    {
     "name": "stderr",
     "output_type": "stream",
     "text": [
      " 14%|█████████████████▌                                                                                                         | 1/7 [00:04<00:26,  4.36s/it]"
     ]
    },
    {
     "name": "stdout",
     "output_type": "stream",
     "text": [
      "26816 Before October 1, 2024, will Donald Trump and Kamala Harris shake hands in any of their debates, if any happen?\n",
      "To address whether Donald Trump and Kamala Harris might shake hands during a potential debate before October 1, 2024, let's review the current information:\n",
      "\n",
      "1. **Official Debates Scheduled**: No official debates between Donald Trump and Kamala Harris have been scheduled as of now. With Joe Biden having suspended his candidacy, Kamala Harris is a potential Democratic candidate, but there has been no formal confirmation of debates.\n",
      "\n",
      "2. **Historical Handshake Practices**: Historically, Trump has shown varying approaches. He shook hands with Hillary Clinton in two out of three debates in 2016 but avoided handshakes with Joe Biden in 2020 due to COVID-19 protocols. Kamala Harris, as the running mate of Biden in 2020, also did not partake in handshakes with her debate opponent, Mike Pence, due to the same reason.\n",
      "\n",
      "3. **Personal Relations and Public Statements**:\n",
      "    - Trump previously donated to Harris’s campaigns when she was California’s Attorney General, but recent interactions and statements have been hostile.\n",
      "    - Trump has disparaged Harris publicly, and Harris has reciprocated with strong criticisms of Trump.\n",
      "   \n",
      "4. **Current Campaign Statements**: As referenced in the background, Trump has expressed willingness to debate Harris, but details remain unclear.\n",
      "\n",
      "These factors will evolve with time as election campaigns progress. The critical points to monitor will be:\n",
      "- Formal announcements of debates involving Trump and Harris.\n",
      "- Pre-debate protocols and rules regarding physical interactions, including handshakes.\n",
      "\n",
      "If any debates are scheduled, examining pre-debate negotiations and decisions on candidate interactions will be essential to update this query accurately.\n",
      "\n",
      "As of now, no conclusive evidence indicates specific plans or rules for handshakes in such a debate scenario.\n"
     ]
    },
    {
     "name": "stderr",
     "output_type": "stream",
     "text": [
      " 29%|███████████████████████████████████▏                                                                                       | 2/7 [00:11<00:30,  6.01s/it]"
     ]
    },
    {
     "name": "stdout",
     "output_type": "stream",
     "text": [
      "26817 Will the UK Abolish the Two-Child Benefit Cap before October 1, 2024?\n",
      "To determine if the UK will abolish the two-child benefit cap before October 1, 2024, let's assess the current landscape and any recent developments.\n",
      "\n",
      "1. **Current Government Position**: The Labour government, led by Prime Minister Keir Starmer, has opposed scrapping the cap, citing financial restraints. This stance is significant since it points to a reluctance to abolish the cap despite the visible criticisms and pressures.\n",
      "\n",
      "2. **Internal Party Dynamics**: Recently, Labour suspended seven MPs who defied the party line on this issue, underscoring internal divisions and the significant political complexity around removing the cap.\n",
      "\n",
      "3. **Public Opinion**: A YouGov poll indicates that 60% of the general UK public, including 50% of Labour supporters, oppose lifting the cap. Public sentiment appears to be against removing the cap, which may influence political decisions.\n",
      "\n",
      "4. **Potential Legislative Paths**:\n",
      "    - The cap's abolition would need to be enacted through official government legislation.\n",
      "    - This could happen via a standalone bill passed by Parliament or as part of a finance bill following a government budget announcement.\n",
      "\n",
      "5. **Recent Debates and Announcements**: There have been high-profile discussions and debates about the cap, but as of now, there has not been an official government announcement or parliamentary approval to abolish the cap.\n",
      "\n",
      "Monitoring these elements closely will be vital:\n",
      "- Any change in the Labour government's stance or financial commitments.\n",
      "- Any new bills introduced in Parliament.\n",
      "- Shifts in public opinion or greater political will towards abolishment.\n",
      "\n",
      "As of now, no official announcement or legislative action indicates the cap will be abolished by the specified date. Updates from official sources such as government announcements or parliamentary records will be critical in the coming months.\n"
     ]
    },
    {
     "name": "stderr",
     "output_type": "stream",
     "text": [
      " 43%|████████████████████████████████████████████████████▋                                                                      | 3/7 [00:23<00:35,  8.95s/it]"
     ]
    },
    {
     "name": "stdout",
     "output_type": "stream",
     "text": [
      "26818 Will Donald Trump have more than 15 million TikTok followers on Sept 30, 2024?\n",
      "To determine whether Donald Trump will surpass 15 million TikTok followers by September 30, 2024, let's assess his current standing and historical trends:\n",
      "\n",
      "1. **Current Follower Count**: As of July 28, 2024, Trump's primary TikTok account (@realdonaldtrump) has approximately 9.3 million followers.\n",
      "\n",
      "2. **Growth Trajectory**: \n",
      "    - Trump launched his TikTok account on June 2, 2024, and garnered 3.2 million followers within the first 24 hours. \n",
      "    - Since then, Trump has accumulated an additional 6.1 million followers in approximately 56 days, equating to a growth rate of about 108,928 followers per day.\n",
      "\n",
      "3. **Timeframe**: From July 28, 2024, to September 30, 2024, there are 64 days. This means:\n",
      "    - If Trump's growth rate of those 108,928 followers per day continues, he could potentially gain an additional approximately 6.97 million followers over the next 64 days.\n",
      "    - Adding these to his current 9.3 million followers could result in around 16.27 million followers by September 30, 2024.\n",
      "\n",
      "4. **Platform Popularity and Use**: TikTok remains an increasingly popular platform, with a significant portion of its user base engaging with political content. Trump's active campaign strategy and engagement on the platform can continue to attract followers.\n",
      "\n",
      "### Key Factors to Monitor:\n",
      "- **Engagement and Content Strategy**: Trump's content strategy and frequency of posts on TikTok will considerably influence his follower growth.\n",
      "- **Election Campaign Dynamics**: The unfolding campaign season, debates, and significant political events will likely affect engagement on his profile.\n",
      "- **Platform Policies and Changes**: Any potential changes in TikTok policies or geopolitical factors affecting the platform’s operation in the US may influence follower counts.\n",
      "\n",
      "### Potential Sources for Future Monitoring:\n",
      "- **Trump's TikTok Account**: Regularly checking @realdonaldtrump for updated follower counts.\n",
      "- **Social Media Analytics**: Tools like Social Blade or similar platforms to track growth trends.\n",
      "- **Election Campaign Announcements**: Updates from Trump’s campaign team or major news outlets on social media strategy.\n",
      "\n",
      "Currently, considering his rapid follower gain history since the account launch, Trump appears positioned favorably to potentially exceed 15 million followers by the target date, pending sustained or increasing engagement and the absence of major external disruptions.\n",
      "\n",
      "This projection is based on the current data and trends and must be revisited periodically to confirm real-time changes closer to the specified date.\n"
     ]
    },
    {
     "name": "stderr",
     "output_type": "stream",
     "text": [
      " 57%|██████████████████████████████████████████████████████████████████████▎                                                    | 4/7 [00:30<00:24,  8.15s/it]"
     ]
    },
    {
     "name": "stdout",
     "output_type": "stream",
     "text": [
      "26819 Will Kamala Harris have more than 15 million TikTok followers on Sept 30, 2024?\n",
      "To determine whether Kamala Harris will exceed 15 million TikTok followers by September 30, 2024, let's review her current follower count and potential growth trends:\n",
      "\n",
      "1. **Current Follower Count**: As of July 28, 2024, Kamala Harris's primary TikTok account (@kamalaharris) has approximately 2.8 million followers.\n",
      "\n",
      "2. **Growth Rate**:\n",
      "    - Harris launched her TikTok account on July 25, 2024, and garnered 2.1 million followers within the first 24 hours.\n",
      "    - This indicates she gained an additional 0.7 million followers over the next three days, translating to a growth rate of around 233,333 followers per day initially. Adjustments for real-time trends should be consistently monitored.\n",
      "\n",
      "3. **Timeframe**: From July 28, 2024, to September 30, 2024, there are 64 days. This means:\n",
      "    - If Harris maintains a substantial growth rate — even if it slows down after the initial surge — monitoring her daily increase will be crucial.\n",
      "    - Assuming a conservative growth continuation beyond the initial large surge, for example, an average of even around 50,000 new followers per day, she could potentially gain an additional 3.2 million followers over the next 64 days.\n",
      "\n",
      "4. **Political Strategy and Presence**: \n",
      "    - As a major political figure and presumptive Democratic nominee, Harris’s engagement strategy and the content she posts will significantly influence follower trends.\n",
      "    - Political debates, campaign events, and viral content can boost follower counts substantially.\n",
      "\n",
      "### Factors to Monitor:\n",
      "- **Content Engagement**: The performance and engagement metrics of her TikTok content are crucial. Viral videos or significant political announcements can attract more followers.\n",
      "- **Campaign Activity**: High-profile campaign events, debates, and endorsements typically generate spikes in interest and follower counts.\n",
      "- **Platform Engagement Trends**: TikTok trends and shifts in user engagement behavior can affect growth rates.\n",
      "\n",
      "### Potential Growth Scenarios:\n",
      "- **Sustained Growth**: If Harris continues to gain followers steadily at an average or higher rate than initial growth projections adjusted for real increases.\n",
      "- **Fluctuations**: Periods of rapid increase during significant political events, counterbalanced by potential slower growth phases, reflecting overall campaign dynamics.\n",
      "\n",
      "Given the existing 2.8 million followers base and the typical trends of social media growth for high-profile figures, if she continues to maintain active engagement and leverage significant political events, it is feasible she could meet the 15 million followers threshold by the specified date.\n",
      "\n",
      "Future updates should track her account regularly for precise follower counts and any notable shifts in growth strategies or campaign announcements.\n",
      "\n",
      "\n"
     ]
    },
    {
     "name": "stderr",
     "output_type": "stream",
     "text": [
      " 71%|███████████████████████████████████████████████████████████████████████████████████████▊                                   | 5/7 [00:39<00:16,  8.32s/it]"
     ]
    },
    {
     "name": "stdout",
     "output_type": "stream",
     "text": [
      "26820 Will Robert F. Kennedy Jr. have more than 15 million TikTok followers on Sept 30, 2024?\n",
      "To determine whether Robert F. Kennedy Jr. will exceed 15 million TikTok followers by September 30, 2024, let's review his current follower count and estimate potential growth trends:\n",
      "\n",
      "1. **Current Follower Count**: As of July 28, 2024, Robert F. Kennedy Jr.'s primary TikTok account (@teamkennedy2024) has approximately 1.7 million followers.\n",
      "\n",
      "2. **Growth Trajectory**:\n",
      "    - Kennedy’s account has been active since at least May 2023. His follower growth rate should be analyzed to project future trends.\n",
      "    - Historical growth rate information is not provided, but a rapid increase like other political figures can be anticipated during election periods.\n",
      "\n",
      "3. **Timeframe**: From July 28, 2024, to September 30, 2024, there are 64 days. Key elements include:\n",
      "    - To reach 15 million followers, Kennedy would need an additional 13.3 million followers.\n",
      "    - This equates to an average daily increase of approximately 207,812 followers per day. \n",
      "\n",
      "4. **Campaign Activity and Social Media Impact**:\n",
      "    - As a candidate, engagement on social media, especially during high-profile events like debates and campaign rallies, can significantly influence follower growth.\n",
      "    - Viral videos, endorsements, and active interaction with the TikTok community can also drive follower numbers.\n",
      "\n",
      "### Factors to Monitor:\n",
      "- **Content Strategy**: The effectiveness and virality of posted content, as well as consistency in content creation.\n",
      "- **Campaign Engagement**: Activities and strategic decisions made by Kennedy’s campaign that could boost visibility and engagement.\n",
      "- **Comparison with Other Political Figures**: Monitoring growth patterns of contemporaneous political figures for comparison.\n",
      "\n",
      "### Potential Growth Scenarios:\n",
      "- **Significant Boosts**: High-profile events, controversy, or effective campaign content could result in rapid follower increases, akin to those seen in the initial days of other candidates like Trump and Harris.\n",
      "- **Sustained Incremental Growth**: Steady, consistent engagement might maintain a moderate growth rate, although catching up to intense daily growth needed is challenging.\n",
      "\n",
      "### Future Monitoring:\n",
      "- **TikTok Metrics**: Regularly check @teamkennedy2024 for updated follower counts.\n",
      "- **Campaign Announcements**: Track RFK Jr.'s campaign updates and social media engagement strategies.\n",
      "- **Social Media Analytics Tools**: Use platforms like Social Blade to track growth trends and predict future increases.\n",
      "\n",
      "Current data suggests a significant gap to overcome by September 30, 2024. Monitoring Kennedy’s account growth in real-time and assessing any dramatic increases due to political events or viral content will be critical for accurate projections.\n",
      "\n",
      "Given the starting point and required daily follower increase, constant engagement and potentially multiple viral events or successful campaign strategies will be necessary to meet the 15 million followers target by the specified date.\n"
     ]
    },
    {
     "name": "stderr",
     "output_type": "stream",
     "text": [
      " 86%|█████████████████████████████████████████████████████████████████████████████████████████████████████████▍                 | 6/7 [00:47<00:08,  8.10s/it]"
     ]
    },
    {
     "name": "stdout",
     "output_type": "stream",
     "text": [
      "26821 Will there be a debate between the Republican vice presidential nominee and the Democratic vice presidential nominee before October 1, 2024?\n",
      "To determine whether there will be a debate between the Republican and Democratic vice presidential nominees before October 1, 2024, we need to look at the current state of political affairs and recent trends in organizing VP debates:\n",
      "\n",
      "1. **Current Political Context**: \n",
      "    - **Republican VP Nominee**: JD Vance has been announced as the Republican vice presidential nominee.\n",
      "    - **Democratic VP Nominee**: The Democratic nominee for VP has not yet been announced following President Joe Biden's withdrawal from the race. The Democratic candidates' field is still in flux.\n",
      "\n",
      "2. **Historical Precedents**:\n",
      "    - Vice presidential debates are a long-standing tradition in U.S. presidential elections. There was a single VP debate in the 2020 election cycle.\n",
      "    - VP debates have typically been organized by the Commission on Presidential Debates (CPD).\n",
      "\n",
      "3. **Formal Announcements**:\n",
      "    - No official announcements have been made regarding the scheduling of VP debates for the 2024 election cycle given the current uncertainty in the Democratic nominee's field.\n",
      "    - CPD and other debate organizers typically release formal schedules closer to the election season, once all candidates are official.\n",
      "\n",
      "4. **Feasibility and Likelihood**:\n",
      "    - Typically, a formal and structured VP debate is scheduled to parallel the presidential debates to offer voters insight into not just the presidential candidates but also their running mates.\n",
      "    - The uncertainty due to Biden’s withdrawal and the pending Democratic VP nomination could impact early scheduling but historically has not negated the likelihood of a debate happening later when the nominee is finalized.\n",
      "\n",
      "### Factors to Monitor:\n",
      "- **Announcments from CPD** and other authoritative bodies about scheduled VP debates.\n",
      "- **Finalization of the Democratic VP Nominee**: Monitoring this closely will clarify the readiness and scheduling possibilities.\n",
      "- **Campaign Strategies**: Both parties' campaign strategies in agreeing to debates and their logistical arrangements.\n",
      "\n",
      "### Steps Moving Forward:\n",
      "- Regularly checking announcements from CPD for official schedules.\n",
      "- Observing Democratic Party updates for the official VP nominee.\n",
      "- Tracking media reports on debate negotiations and announcements.\n",
      "\n",
      "Given the traditional nature of VP debates, it is expected that formal debates would likely be pursued once nominations are settled, but concrete details will follow from campaign plans and organizational announcements closer to the election period.\n"
     ]
    },
    {
     "name": "stderr",
     "output_type": "stream",
     "text": [
      "100%|███████████████████████████████████████████████████████████████████████████████████████████████████████████████████████████| 7/7 [00:53<00:00,  7.69s/it]"
     ]
    },
    {
     "name": "stdout",
     "output_type": "stream",
     "text": [
      "26844 Will the opposition candidate, Edmundo González, concede the 2024 Venezuelan election to Maduro before September 2024?\n",
      "To determine whether Edmundo González will publicly concede the 2024 Venezuelan election to Nicolás Maduro before September 1, 2024, we need to observe the current political situation and any statements or actions by González:\n",
      "\n",
      "1. **Election Context**:\n",
      "    - Nicolás Maduro was declared the winner of the July 28, 2024, Venezuelan presidential election with 51.2% of the vote.\n",
      "    - Opposition candidate Edmundo González received 44.2% of the vote.\n",
      "    - The election has been widely reported as marred by irregularities, and international observers have questioned the results.\n",
      "\n",
      "2. **González's Position**:\n",
      "    - As of now, González has not conceded the election to Maduro.\n",
      "    - Historical context and the current political climate in Venezuela suggest that conceding might be challenging due to irregularities and the opposition's usual stance against Maduro's regime.\n",
      "    - González’s role as a stand-in for barred opposition leader María Corina Machado suggests deep-seated opposition sentiment and potential reluctance to concede.\n",
      "\n",
      "3. **International and Domestic Reactions**:\n",
      "    - International observers and likely some Venezuelan internal factions have disputed the election's legitimacy.\n",
      "    - Potential international pressure or diplomatic interventions might influence whether González concedes.\n",
      "\n",
      "4. **Political Dynamics**:\n",
      "    - Historically, Venezuelan opposition leaders have often resisted conceding elections amidst accusations of fraud and manipulation.\n",
      "    - The political environment remains tense, and any significant developments or negotiations involving González, Maduro, or international bodies could impact the situation.\n",
      "\n",
      "### Key Factors to Monitor:\n",
      "- **Public Statements**: Check for any explicit and unambiguous public statements from Edmundo González regarding concession.\n",
      "- **Media and Press Releases**: Follow credible sources for any reportage on actions or declarations by González.\n",
      "- **Political Developments**: Track any significant changes in the political landscape within Venezuela or international diplomatic actions that might precipitate a concession.\n",
      "- **Safety and Accessibility of González**: Ensure Edmundo González remains free to communicate publicly, noting scenarios where he might be arrested, disappear, or be otherwise silenced.\n",
      "\n",
      "### Sources to Watch:\n",
      "- Updates from major news organizations like AP, Reuters, and The New York Times.\n",
      "- Statements from Venezuelan political bodies and González’s official channels.\n",
      "- International statements from organizations monitoring Venezuelan elections.\n",
      "\n",
      "As of now, no explicit concession has been reported. Continuing to monitor credible news sources and public statements from González is essential for determining the answer closer to the specified date.\n"
     ]
    },
    {
     "name": "stderr",
     "output_type": "stream",
     "text": [
      "\n"
     ]
    },
    {
     "name": "stdout",
     "output_type": "stream",
     "text": [
      "26816 2024 Trump-Harris debates and shake hands\n",
      "26817 UK Two-Child Benefit Cap\n",
      "26818 Donald Trump's TikTok followers\n",
      "26819 Kamala Harris's TikTok followers\n",
      "26820 Robert F. Kennedy Jr.'s TikTok followers\n",
      "26821 2024 Vice Presidential debate\n",
      "26844 2024 Venezuelan election\n",
      "26816 40 The absence of scheduled presidential debates and the lack of formal announcement about debates between Trump and Harris, combined with historical precedent and current hostile relations, makes it relatively improbable that a handshake will occur. However, mutual interest in debates might foster unexpected dynamics.\n",
      "26817 20 The Labour government's resistance to abolishing the two-child benefit cap, opposition within the party, and significant public disapproval indicate a low likelihood of policy change before October 1, 2024. Legislative processes and political dynamics add complexity to the issue.\n",
      "26818 80 Given Trump's rapid follower growth rate and the trend from 9.3 million, it appears quite plausible he will surpass 15 million followers if current trends continue without significant hindrance. Engagement from his campaign during election season should further bolster this projection.\n",
      "26819 30 Kamala Harris's current follower count of 2.8 million and the need for an extensive daily growth rate to reach 15 million present a challenging scenario. While election dynamics could boost numbers, the gap remains significant within the timeframe provided.\n",
      "26820 10 With only 1.7 million followers currently and the requirement for a dramatic daily increase to exceed 15 million by September 30, 2024, Robert F. Kennedy Jr.'s chances are quite low given consistent and historical growth trends in political campaigns.\n",
      "26821 60 While the Democratic VP nominee has yet to be finalized, the historical precedent and nature of U.S. elections suggest a moderate likelihood that VP debates will be scheduled once both parties have settled on their nominees. Monitoring official announcements remains crucial.\n",
      "26844 30 González's current stance, the irregularities in the election, and the opposition’s historical reluctance to concede make a public concession by September 1, 2024, unlikely. However, international pressure and political developments could influence this outcome.\n",
      "Refining 26816\n",
      "Pass 0 of 4 on 26816\n",
      "26816 The rationale is sound, but the probability of 40 seems too high given the current state of debate arrangements and the historical precedent of avoiding handshakes in recent debates.\n",
      "26816 25 Considering the lack of scheduled debates, the hostile relationship between the candidates, and the recent precedent of avoiding handshakes, the probability of Trump and Harris shaking hands should indeed be lower, reflecting the substantial uncertainties and hurdles remaining.\n",
      "Pass 1 of 4 on 26816\n",
      "26816 I concur.\n",
      "===============================================\n",
      "Refining 26817\n",
      "Pass 0 of 4 on 26817\n",
      "26817 I concur\n",
      "===============================================\n",
      "Refining 26818\n",
      "Pass 0 of 4 on 26818\n",
      "26818 I concur\n",
      "===============================================\n",
      "Refining 26819\n",
      "Pass 0 of 4 on 26819\n",
      "26819 I concur\n",
      "===============================================\n",
      "Refining 26820\n",
      "Pass 0 of 4 on 26820\n",
      "26820 I concur\n",
      "===============================================\n",
      "Refining 26821\n",
      "Pass 0 of 4 on 26821\n",
      "26821 I concur\n",
      "===============================================\n",
      "Refining 26844\n",
      "Pass 0 of 4 on 26844\n",
      "26844 The probability of 30 seems low. Given the disputed nature of the election, González's historical reluctance to concede, and the opposition's stance against Maduro's regime, it is more likely that González will not concede before September 2024. A more plausible probability would be around 10-15%.\n",
      "26844 15 Considering the disputed election results, González’s historical reluctance to concede, and the entrenched opposition stance against Maduro's regime, the probability of a concession before September 2024 should be lower, reflecting the high likelihood of ongoing resistance.\n",
      "Pass 1 of 4 on 26844\n",
      "26844 The probability of 15 seems low. Given the disputed nature of the election, González's historical reluctance to concede, and the entrenched opposition stance against Maduro's regime, the probability of a concession before September 2024 should be lower, reflecting the high likelihood of ongoing resistance. A more plausible probability would be around 5-10%.\n",
      "26844 10 Considering the highly disputed nature of the election, González's historical reluctance to concede, and the entrenched opposition against Maduro's regime, the probability of González conceding before September 2024 should be further reduced to reflect the very high likelihood of continued resistance.\n",
      "Pass 2 of 4 on 26844\n",
      "26844 I concur. The probability of 10 seems reasonable given the highly disputed nature of the election, González's historical reluctance to concede, and the entrenched opposition against Maduro's regime. The likelihood of continued resistance is very high, making it unlikely that González will concede before September 2024.\n",
      "===============================================\n",
      "26816 Before October 1, 2024, will Donald Trump and Kamala Harris shake hands in any of their debates, if any happen?\n",
      "Forecast 25\n",
      "Rationale Considering the lack of scheduled debates, the hostile relationship between the candidates, and the recent precedent of avoiding handshakes, the probability of Trump and Harris shaking hands should indeed be lower, reflecting the substantial uncertainties and hurdles remaining. \n",
      "\n",
      "26817 Will the UK Abolish the Two-Child Benefit Cap before October 1, 2024?\n",
      "Forecast 20\n",
      "Rationale The Labour government's resistance to abolishing the two-child benefit cap, opposition within the party, and significant public disapproval indicate a low likelihood of policy change before October 1, 2024. Legislative processes and political dynamics add complexity to the issue. \n",
      "\n",
      "26818 Will Donald Trump have more than 15 million TikTok followers on Sept 30, 2024?\n",
      "Forecast 80\n",
      "Rationale Given Trump's rapid follower growth rate and the trend from 9.3 million, it appears quite plausible he will surpass 15 million followers if current trends continue without significant hindrance. Engagement from his campaign during election season should further bolster this projection. \n",
      "\n",
      "26819 Will Kamala Harris have more than 15 million TikTok followers on Sept 30, 2024?\n",
      "Forecast 30\n",
      "Rationale Kamala Harris's current follower count of 2.8 million and the need for an extensive daily growth rate to reach 15 million present a challenging scenario. While election dynamics could boost numbers, the gap remains significant within the timeframe provided. \n",
      "\n",
      "26820 Will Robert F. Kennedy Jr. have more than 15 million TikTok followers on Sept 30, 2024?\n",
      "Forecast 10\n",
      "Rationale With only 1.7 million followers currently and the requirement for a dramatic daily increase to exceed 15 million by September 30, 2024, Robert F. Kennedy Jr.'s chances are quite low given consistent and historical growth trends in political campaigns. \n",
      "\n",
      "26821 Will there be a debate between the Republican vice presidential nominee and the Democratic vice presidential nominee before October 1, 2024?\n",
      "Forecast 60\n",
      "Rationale While the Democratic VP nominee has yet to be finalized, the historical precedent and nature of U.S. elections suggest a moderate likelihood that VP debates will be scheduled once both parties have settled on their nominees. Monitoring official announcements remains crucial. \n",
      "\n",
      "26844 Will the opposition candidate, Edmundo González, concede the 2024 Venezuelan election to Maduro before September 2024?\n",
      "Forecast 10\n",
      "Rationale Considering the highly disputed nature of the election, González's historical reluctance to concede, and the entrenched opposition against Maduro's regime, the probability of González conceding before September 2024 should be further reduced to reflect the very high likelihood of continued resistance. \n",
      "\n"
     ]
    }
   ],
   "source": [
    "forecasting(ifps)"
   ]
  },
  {
   "cell_type": "markdown",
   "metadata": {},
   "source": [
    "## Upload"
   ]
  },
  {
   "cell_type": "code",
   "execution_count": 57,
   "metadata": {},
   "outputs": [
    {
     "name": "stdout",
     "output_type": "stream",
     "text": [
      "Prediction posted for  26816\n",
      "Comment posted for  26816\n",
      "Prediction posted for  26817\n",
      "Comment posted for  26817\n",
      "Prediction posted for  26818\n",
      "Comment posted for  26818\n",
      "Prediction posted for  26819\n",
      "Comment posted for  26819\n",
      "Prediction posted for  26820\n",
      "Comment posted for  26820\n",
      "Prediction posted for  26821\n",
      "Comment posted for  26821\n",
      "Prediction posted for  26844\n",
      "Comment posted for  26844\n"
     ]
    }
   ],
   "source": [
    "uploads(ifps)"
   ]
  },
  {
   "cell_type": "code",
   "execution_count": 58,
   "metadata": {},
   "outputs": [
    {
     "data": {
      "text/plain": [
       "7"
      ]
     },
     "execution_count": 58,
     "metadata": {},
     "output_type": "execute_result"
    }
   ],
   "source": [
    "len(today_ids)"
   ]
  },
  {
   "cell_type": "code",
   "execution_count": null,
   "metadata": {},
   "outputs": [],
   "source": []
  }
 ],
 "metadata": {
  "colab": {
   "provenance": []
  },
  "kernelspec": {
   "display_name": "Python 3 (ipykernel)",
   "language": "python",
   "name": "python3"
  },
  "language_info": {
   "codemirror_mode": {
    "name": "ipython",
    "version": 3
   },
   "file_extension": ".py",
   "mimetype": "text/x-python",
   "name": "python",
   "nbconvert_exporter": "python",
   "pygments_lexer": "ipython3",
   "version": "3.10.6"
  }
 },
 "nbformat": 4,
 "nbformat_minor": 4
}
