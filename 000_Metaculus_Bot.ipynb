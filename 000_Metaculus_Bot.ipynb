{
 "cells": [
  {
   "cell_type": "markdown",
   "metadata": {},
   "source": [
    "# 000 Forecasting Bot"
   ]
  },
  {
   "cell_type": "code",
   "execution_count": 1,
   "metadata": {},
   "outputs": [],
   "source": [
    "%load_ext autoreload\n",
    "%autoreload 2"
   ]
  },
  {
   "cell_type": "code",
   "execution_count": 2,
   "metadata": {},
   "outputs": [],
   "source": [
    "from IFP import IFP, list_questions"
   ]
  },
  {
   "cell_type": "code",
   "execution_count": 3,
   "metadata": {},
   "outputs": [],
   "source": [
    "ifps = list_questions()['results']"
   ]
  },
  {
   "cell_type": "code",
   "execution_count": 4,
   "metadata": {},
   "outputs": [
    {
     "data": {
      "text/plain": [
       "[27876, 27877, 27885, 27886, 27887]"
      ]
     },
     "execution_count": 4,
     "metadata": {},
     "output_type": "execute_result"
    }
   ],
   "source": [
    "today_ids = list(sorted([x['id'] for x in ifps])) if ifps else [27238, 27239, 27240, 27241]\n",
    "today_ids"
   ]
  },
  {
   "cell_type": "code",
   "execution_count": 5,
   "metadata": {},
   "outputs": [],
   "source": [
    "ifps = {id: IFP(id) for id in today_ids}"
   ]
  },
  {
   "cell_type": "code",
   "execution_count": 6,
   "metadata": {},
   "outputs": [],
   "source": [
    "from Forecaster import Forecaster"
   ]
  },
  {
   "cell_type": "code",
   "execution_count": 7,
   "metadata": {},
   "outputs": [],
   "source": [
    "fcst = Forecaster(ifps)"
   ]
  },
  {
   "cell_type": "code",
   "execution_count": 15,
   "metadata": {},
   "outputs": [
    {
     "name": "stdout",
     "output_type": "stream",
     "text": [
      "MODEL DOMAIN\n",
      "27876 Will Russia control Pokrovsk Before October 1, 2024?\n",
      "Military conflict\n",
      "27877 Will there be a frontier open-source AI model on October 1, 2024?\n",
      "AI performance\n",
      "27885 Will Super Micro Computer, Inc., file its 10-K annual report with the SEC before October 1, 2024?\n",
      "Market price\n",
      "27886 Will Taylor Swift win 4 or more awards at the 2024 MTV Video Music Awards?\n",
      "Entertainment\n",
      "27887 Will Baby Reindeer win the 2024 Primetime Emmy Award for Outstanding Limited or Anthology Series?\n",
      "Entertainment\n",
      "CORRELATOR\n",
      "NEWS\n",
      "RATES\n",
      "FORECASTING Frontier open-source AI model\n",
      "27877 95 The available information strongly supports that Meta's Llama 3.1 405B model is already considered a \"frontier-level open-source AI model.\" Given Meta's release and the significant adoption and positive reception of their Llama models, it is highly probable that this model or a close variant will be recognized as a top-tier open-source AI model by October 1, 2024. This aligns with statements from Meta's CEO and industry trends favoring the rise of open-source AI. Therefore, a 95% probability is assigned to the question resolving as \"Yes.\"\n",
      "FORECASTING Super Micro Computer 10-K filing\n",
      "27885 15 Based on the company's repeated statements that it will require additional time to complete its evaluation of internal controls, past difficulties with filing reports on time, and the serious nature of the allegations and ongoing investigation, it is highly unlikely they will be able to file the 10-K by the October 1, 2024, deadline. Hence, a 15% probability that they will meet the deadline seems appropriate.\n",
      "FORECASTING Taylor Swift 2024 MTV Video Music Awards\n",
      "27886 85 Taylor Swift leads the nominations and has a strong history of winning awards at the MTV Video Music Awards. She is nominated in multiple major categories, and her extensive fan base is likely to vote actively. Given her previous successes and the number of nominations she has, there is a high probability that she will win at least 4 awards.\n",
      "FORECASTING Baby Reindeer 2024 Primetime Emmy Award\n",
      "27887 35 Baby Reindeer has significant competition in the Outstanding Limited or Anthology Series category, notably from Fargo (FX) and True Detective: Night Country (HBO), which have strong followings and critical acclaim. Although Baby Reindeer has 11 nominations, which indicates strong support, the competition remains fierce, making it less likely to secure the win compared to the top contenders.\n",
      "FORECASTING Russia control of Pokrovsk\n",
      "27876 70 The situation around Pokrovsk is described as critical and under intense pressure from Russian advances. Given the strategic importance of Pokrovsk and the reported heavy battles and advancements, it is highly plausible that Russia might achieve control by the end of September. However, various reports suggest heavy resistance from Ukrainian forces, which could delay or complicate Russian plans. Based on the available information and the deadline of October 1, I assess a 70% probability of Russia controlling Pokrovsk by that date.\n"
     ]
    }
   ],
   "source": [
    "fcst.fit()"
   ]
  },
  {
   "cell_type": "code",
   "execution_count": 16,
   "metadata": {},
   "outputs": [
    {
     "name": "stdout",
     "output_type": "stream",
     "text": [
      "27876 70\n",
      "27877 95\n",
      "27885 15\n",
      "27886 85\n",
      "27887 35\n"
     ]
    }
   ],
   "source": [
    "for ifp in ifps.values():\n",
    "    try:\n",
    "        print(ifp.id, ifp.forecast)\n",
    "    except:\n",
    "        print(ifp.id, 'none')"
   ]
  },
  {
   "cell_type": "code",
   "execution_count": 17,
   "metadata": {},
   "outputs": [
    {
     "name": "stdout",
     "output_type": "stream",
     "text": [
      "27876 Will Russia control Pokrovsk Before October 1, 2024?\n",
      "Forecast 70\n",
      "Rationale The situation around Pokrovsk is described as critical and under intense pressure from Russian advances. Given the strategic importance of Pokrovsk and the reported heavy battles and advancements, it is highly plausible that Russia might achieve control by the end of September. However, various reports suggest heavy resistance from Ukrainian forces, which could delay or complicate Russian plans. Based on the available information and the deadline of October 1, I assess a 70% probability of Russia controlling Pokrovsk by that date. \n",
      "\n",
      "27877 Will there be a frontier open-source AI model on October 1, 2024?\n",
      "Forecast 95\n",
      "Rationale The available information strongly supports that Meta's Llama 3.1 405B model is already considered a \"frontier-level open-source AI model.\" Given Meta's release and the significant adoption and positive reception of their Llama models, it is highly probable that this model or a close variant will be recognized as a top-tier open-source AI model by October 1, 2024. This aligns with statements from Meta's CEO and industry trends favoring the rise of open-source AI. Therefore, a 95% probability is assigned to the question resolving as \"Yes.\" \n",
      "\n",
      "27885 Will Super Micro Computer, Inc., file its 10-K annual report with the SEC before October 1, 2024?\n",
      "Forecast 15\n",
      "Rationale Based on the company's repeated statements that it will require additional time to complete its evaluation of internal controls, past difficulties with filing reports on time, and the serious nature of the allegations and ongoing investigation, it is highly unlikely they will be able to file the 10-K by the October 1, 2024, deadline. Hence, a 15% probability that they will meet the deadline seems appropriate. \n",
      "\n",
      "27886 Will Taylor Swift win 4 or more awards at the 2024 MTV Video Music Awards?\n",
      "Forecast 85\n",
      "Rationale Taylor Swift leads the nominations and has a strong history of winning awards at the MTV Video Music Awards. She is nominated in multiple major categories, and her extensive fan base is likely to vote actively. Given her previous successes and the number of nominations she has, there is a high probability that she will win at least 4 awards. \n",
      "\n",
      "27887 Will Baby Reindeer win the 2024 Primetime Emmy Award for Outstanding Limited or Anthology Series?\n",
      "Forecast 35\n",
      "Rationale Baby Reindeer has significant competition in the Outstanding Limited or Anthology Series category, notably from Fargo (FX) and True Detective: Night Country (HBO), which have strong followings and critical acclaim. Although Baby Reindeer has 11 nominations, which indicates strong support, the competition remains fierce, making it less likely to secure the win compared to the top contenders. \n",
      "\n"
     ]
    }
   ],
   "source": [
    "fcst.report()"
   ]
  },
  {
   "cell_type": "code",
   "execution_count": 18,
   "metadata": {},
   "outputs": [
    {
     "name": "stdout",
     "output_type": "stream",
     "text": [
      "Prediction posted for  27876\n",
      "Comment posted for  27876\n",
      "Prediction posted for  27877\n",
      "Comment posted for  27877\n",
      "Prediction posted for  27885\n",
      "Comment posted for  27885\n",
      "Prediction posted for  27886\n",
      "Comment posted for  27886\n",
      "Prediction posted for  27887\n",
      "Comment posted for  27887\n"
     ]
    }
   ],
   "source": [
    "fcst.upload()"
   ]
  },
  {
   "cell_type": "code",
   "execution_count": null,
   "metadata": {},
   "outputs": [],
   "source": []
  }
 ],
 "metadata": {
  "colab": {
   "provenance": []
  },
  "kernelspec": {
   "display_name": "trader",
   "language": "python",
   "name": "trader"
  },
  "language_info": {
   "codemirror_mode": {
    "name": "ipython",
    "version": 3
   },
   "file_extension": ".py",
   "mimetype": "text/x-python",
   "name": "python",
   "nbconvert_exporter": "python",
   "pygments_lexer": "ipython3",
   "version": "3.10.6"
  }
 },
 "nbformat": 4,
 "nbformat_minor": 4
}
