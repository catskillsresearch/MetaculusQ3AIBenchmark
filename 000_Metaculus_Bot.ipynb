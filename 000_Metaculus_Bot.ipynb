{
 "cells": [
  {
   "cell_type": "markdown",
   "metadata": {},
   "source": [
    "# 000 Forecasting Bot"
   ]
  },
  {
   "cell_type": "code",
   "execution_count": 1,
   "metadata": {},
   "outputs": [],
   "source": [
    "%load_ext autoreload\n",
    "%autoreload 2"
   ]
  },
  {
   "cell_type": "code",
   "execution_count": 2,
   "metadata": {},
   "outputs": [],
   "source": [
    "from IFP import IFP, list_questions"
   ]
  },
  {
   "cell_type": "code",
   "execution_count": 3,
   "metadata": {},
   "outputs": [],
   "source": [
    "ifps = list_questions()['results']"
   ]
  },
  {
   "cell_type": "code",
   "execution_count": 4,
   "metadata": {},
   "outputs": [
    {
     "data": {
      "text/plain": [
       "[28024, 28069, 28070]"
      ]
     },
     "execution_count": 4,
     "metadata": {},
     "output_type": "execute_result"
    }
   ],
   "source": [
    "today_ids = list(sorted([x['id'] for x in ifps])) if ifps else [27238, 27239, 27240, 27241]\n",
    "today_ids"
   ]
  },
  {
   "cell_type": "code",
   "execution_count": 5,
   "metadata": {},
   "outputs": [],
   "source": [
    "ifps = {id: IFP(id) for id in today_ids}"
   ]
  },
  {
   "cell_type": "code",
   "execution_count": 6,
   "metadata": {},
   "outputs": [],
   "source": [
    "from Forecaster import Forecaster"
   ]
  },
  {
   "cell_type": "code",
   "execution_count": 7,
   "metadata": {},
   "outputs": [],
   "source": [
    "fcst = Forecaster(ifps)"
   ]
  },
  {
   "cell_type": "code",
   "execution_count": 8,
   "metadata": {},
   "outputs": [
    {
     "name": "stdout",
     "output_type": "stream",
     "text": [
      "MODEL DOMAIN\n",
      "28024 Will Intel get dropped from the Dow Jones Industrial Average before October 1, 2024?\n",
      "Corporate action\n",
      "28069 Will Rivian make any posts at its Stories site before October 1, 2024?\n",
      "Corporate action\n",
      "28070 Will the New York Yankees win more games than the Cleveland Guardians in the 2024 MLB season, before October 1, 2024?\n",
      "Sports performance\n",
      "CORRELATOR\n",
      "|Intel dropped from Dow|28024|Will Intel get dropped from the Dow Jones Industrial Average before October 1, 2024?|\n",
      "|Rivian Stories update|28069|Will Rivian make any posts at its Stories site before October 1, 2024?|\n",
      "|Yankees vs Guardians 2024 season|28070|Will the New York Yankees win more games than the Cleveland Guardians in the 2024 MLB season, before October 1, 2024?|\n",
      "NEWS\n",
      "ASKING\n",
      "Researching Will Intel get dropped from the Dow Jones Industrial Average before October 1, 2024?\n",
      "ALL\n",
      "The US stock market experienced significant fluctuations as investors digested the latest inflation reports, which showed a 2.5% increase in August. The NASDAQ attempted to stabilize as traders took advantage of opportunities in technology stocks. The main Wall Street indices declined as uncertainty grew about the Federal Reserve's (US central bank) interest rate path following the latest inflation data. The Dow Jones Industrial Average fell 650 points, the S&P 500 index dropped 1.5%, and the NASDAQ composite index declined 0.70%. Meanwhile, shares of Intel and Apple rose by over 2% and 1% respectively, while shares of UnitedHealth Group, Goldman Sachs, and Amgen contributed to the decline in the Dow Jones.\n",
      "saved asknews_for_question/28024.json\n",
      "ASKING\n",
      "Researching Will Rivian make any posts at its Stories site before October 1, 2024?\n",
      "ALL\n",
      "Apple's new campus building, Apple Park Observatory, resembles a futuristic Hobbit hole from J.R.R. Tolkien's books. The subterranean venue is built into the hillside of Apple Park, the company's $5 billion headquarters in Cupertino, California. According to Dezeen, the event space is designed to host Apple employees, tech journalists, and YouTubers to showcase the company's latest gadgets. As Dezeen describes it, 'it was a great day' to unveil the new venue, but it's unclear who said this. The Apple Park Observatory is a unique addition to the company's campus, blending seamlessly into the surrounding landscape.\n",
      "saved asknews_for_question/28069.json\n",
      "ASKING\n",
      "Researching Will the New York Yankees win more games than the Cleveland Guardians in the 2024 MLB season, before October 1, 2024?\n",
      "ALL\n",
      "The Cleveland Guardians are at risk of facing the New York Yankees in a Wild Card game if they lose their lead in the AL Central. The Guardians have a 3.5 game lead over the Kansas City Royals, but with 17 games remaining, the Royals could take the lead and demote the Guardians to a Wild Card spot. The Yankees and Baltimore Orioles are separated by just a half-game in the AL East, and if both teams win their divisions, the likely matchup in a Wild Card game would be the Guardians and Yankees. The Guardians have a poor record against the Yankees, with a 2-4 record and being outscored 36-22. Star player Aaron Judge has been particularly dominant against the Guardians, hitting five home runs in 24 at-bats. The Guardians would likely finish below the Yankees in the standings if they lose their lead, and would then have to play in New York for the three-game series, where they have a record of 40-37. 'The end of the season is important for the Guardians,' said the article, 'to keep the Yankees as far away as possible, the team should look to clinch the AL Central.'\n",
      "saved asknews_for_question/28070.json\n",
      "RATES\n",
      "RATES Intel dropped from Dow {'Intel dropped from Dow': \"1. Today's date: 2024-09-11\\n2. End date of the question: 2024-10-01\\n3. Time in days D from today to end date: 20 days\\n4. Specific date at which the event is most likely to occur: Sometime in 2025\\n5. Likely event date is: On or after the question end date\", 'Rivian Stories update': None, 'Yankees vs Guardians 2024 season': None}\n",
      "RATES Rivian Stories update {'Intel dropped from Dow': \"1. Today's date: 2024-09-11\\n2. End date of the question: 2024-10-01\\n3. Time in days D from today to end date: 20 days\\n4. Specific date at which the event is most likely to occur: Sometime in 2025\\n5. Likely event date is: On or after the question end date\", 'Rivian Stories update': \"1. Today's date: 2024-09-11\\n2. End date of the question: 2024-10-01\\n3. Time in days (D) from today to end date: 20 days\\n4. Likely event date: October 24, 2024\\n5. Whether the likely event date is before, or on or after the question end date: On or after the question end date\", 'Yankees vs Guardians 2024 season': None}\n",
      "RATES Yankees vs Guardians 2024 season {'Intel dropped from Dow': \"1. Today's date: 2024-09-11\\n2. End date of the question: 2024-10-01\\n3. Time in days D from today to end date: 20 days\\n4. Specific date at which the event is most likely to occur: Sometime in 2025\\n5. Likely event date is: On or after the question end date\", 'Rivian Stories update': \"1. Today's date: 2024-09-11\\n2. End date of the question: 2024-10-01\\n3. Time in days (D) from today to end date: 20 days\\n4. Likely event date: October 24, 2024\\n5. Whether the likely event date is before, or on or after the question end date: On or after the question end date\", 'Yankees vs Guardians 2024 season': \"1. Today's date: 2024-09-11\\n2. End date of the question: 2024-10-01\\n3. Time in days (D) from today to end date: 20 days\\n4. Specific date at which the event is most likely to occur: The event date would be at the end of the 2024 MLB regular season.\\n5. Likely event date is before, or on or after the question end date: On or after the question end date.\"}\n",
      "FORECASTING Intel dropped from Dow\n",
      "28024 10 Given that the consensus amongst analysts is that Intel's removal from the Dow Jones Industrial Average is likely to occur sometime in 2025, it seems improbable that such an announcement would be made before October 1, 2024. There is no indication of immediate plans for removal in the short timeframe left until the question's end date. Therefore, the probability of Intel being dropped from the DJIA before the specified date is low.\n",
      "FORECASTING Rivian Stories update\n",
      "28069 75 Given that Rivian is actively engaging in news releases and updates about its activities, it is quite probable that it will make another post on its Stories site within the next 20 days. The company has been maintaining a steady flow of communications, which is essential for keeping investors and the public informed amid the various ongoing developments and challenges. This proactive communication strategy makes a new post on the Stories site before October 1, 2024, quite likely.\n",
      "FORECASTING Yankees vs Guardians 2024 season\n",
      "28070 65 As of the latest update, the Yankees have a slight edge over the Guardians in terms of wins. The Yankees also have a relatively easier remaining schedule compared to the Guardians, which could allow them to maintain or increase their lead. The Yankees have been performing well recently, while the Guardians' schedule difficulty could hinder their chances to catch up. The probability reflects the current competitive scenario and recent performance trends.\n"
     ]
    }
   ],
   "source": [
    "fcst.fit()"
   ]
  },
  {
   "cell_type": "code",
   "execution_count": 9,
   "metadata": {},
   "outputs": [
    {
     "name": "stdout",
     "output_type": "stream",
     "text": [
      "28024 10\n",
      "28069 75\n",
      "28070 65\n"
     ]
    }
   ],
   "source": [
    "for ifp in ifps.values():\n",
    "    try:\n",
    "        print(ifp.id, ifp.forecast)\n",
    "    except:\n",
    "        print(ifp.id, 'none')"
   ]
  },
  {
   "cell_type": "code",
   "execution_count": 10,
   "metadata": {},
   "outputs": [
    {
     "name": "stdout",
     "output_type": "stream",
     "text": [
      "28024 Will Intel get dropped from the Dow Jones Industrial Average before October 1, 2024?\n",
      "Forecast 10\n",
      "Rationale Given that the consensus amongst analysts is that Intel's removal from the Dow Jones Industrial Average is likely to occur sometime in 2025, it seems improbable that such an announcement would be made before October 1, 2024. There is no indication of immediate plans for removal in the short timeframe left until the question's end date. Therefore, the probability of Intel being dropped from the DJIA before the specified date is low. \n",
      "\n",
      "28069 Will Rivian make any posts at its Stories site before October 1, 2024?\n",
      "Forecast 75\n",
      "Rationale Given that Rivian is actively engaging in news releases and updates about its activities, it is quite probable that it will make another post on its Stories site within the next 20 days. The company has been maintaining a steady flow of communications, which is essential for keeping investors and the public informed amid the various ongoing developments and challenges. This proactive communication strategy makes a new post on the Stories site before October 1, 2024, quite likely. \n",
      "\n",
      "28070 Will the New York Yankees win more games than the Cleveland Guardians in the 2024 MLB season, before October 1, 2024?\n",
      "Forecast 65\n",
      "Rationale As of the latest update, the Yankees have a slight edge over the Guardians in terms of wins. The Yankees also have a relatively easier remaining schedule compared to the Guardians, which could allow them to maintain or increase their lead. The Yankees have been performing well recently, while the Guardians' schedule difficulty could hinder their chances to catch up. The probability reflects the current competitive scenario and recent performance trends. \n",
      "\n"
     ]
    }
   ],
   "source": [
    "fcst.report()"
   ]
  },
  {
   "cell_type": "code",
   "execution_count": 11,
   "metadata": {},
   "outputs": [
    {
     "name": "stdout",
     "output_type": "stream",
     "text": [
      "Prediction posted for  28024\n",
      "Comment posted for  28024\n",
      "Prediction posted for  28069\n",
      "Comment posted for  28069\n",
      "Prediction posted for  28070\n",
      "Comment posted for  28070\n"
     ]
    }
   ],
   "source": [
    "fcst.upload()"
   ]
  },
  {
   "cell_type": "code",
   "execution_count": null,
   "metadata": {},
   "outputs": [],
   "source": []
  }
 ],
 "metadata": {
  "colab": {
   "provenance": []
  },
  "kernelspec": {
   "display_name": "trader",
   "language": "python",
   "name": "trader"
  },
  "language_info": {
   "codemirror_mode": {
    "name": "ipython",
    "version": 3
   },
   "file_extension": ".py",
   "mimetype": "text/x-python",
   "name": "python",
   "nbconvert_exporter": "python",
   "pygments_lexer": "ipython3",
   "version": "3.10.6"
  }
 },
 "nbformat": 4,
 "nbformat_minor": 4
}
