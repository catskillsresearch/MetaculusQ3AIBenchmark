{
 "cells": [
  {
   "cell_type": "markdown",
   "metadata": {},
   "source": [
    "# 000 Forecasting Bot"
   ]
  },
  {
   "cell_type": "code",
   "execution_count": 1,
   "metadata": {},
   "outputs": [],
   "source": [
    "%load_ext autoreload\n",
    "%autoreload 2"
   ]
  },
  {
   "cell_type": "code",
   "execution_count": 2,
   "metadata": {},
   "outputs": [],
   "source": [
    "from IFP import IFP, list_questions"
   ]
  },
  {
   "cell_type": "code",
   "execution_count": 3,
   "metadata": {},
   "outputs": [],
   "source": [
    "ifps = list_questions()['results']"
   ]
  },
  {
   "cell_type": "code",
   "execution_count": 4,
   "metadata": {},
   "outputs": [
    {
     "data": {
      "text/plain": [
       "[28290, 28291, 28292]"
      ]
     },
     "execution_count": 4,
     "metadata": {},
     "output_type": "execute_result"
    }
   ],
   "source": [
    "today_ids = list(sorted([x['id'] for x in ifps])) if ifps else [27238, 27239, 27240, 27241]\n",
    "today_ids"
   ]
  },
  {
   "cell_type": "code",
   "execution_count": 5,
   "metadata": {},
   "outputs": [],
   "source": [
    "from Forecaster import Forecaster"
   ]
  },
  {
   "cell_type": "code",
   "execution_count": 7,
   "metadata": {},
   "outputs": [],
   "source": [
    "forecasters = [Forecaster({id: IFP(id) for id in today_ids}) for i in range(5)]"
   ]
  },
  {
   "cell_type": "code",
   "execution_count": 16,
   "metadata": {},
   "outputs": [
    {
     "name": "stdout",
     "output_type": "stream",
     "text": [
      "MODEL DOMAIN\n",
      "28290 Will Virgin Galactic make any new posts on its News page before October 1, 2024? \n",
      "Aerospace technology\n",
      "28291 Will Laredo Oil, Inc., file its 10-K annual report with the SEC before October 1, 2024?\n",
      "Corporate action\n",
      "28292 Will the closing value of Tesla's shares be at least $230 on September 30, 2024?\n",
      "Stock price\n",
      "CORRELATOR\n",
      "NEWS\n",
      "RATES\n",
      "FORECASTING Virgin Galactic posts\n",
      "28290 85 Given Virgin Galactic's current momentum in announcements and progress updates, it is highly probable that they will make a new post on their News page before October 1, 2024. The company seems focused on keeping stakeholders informed about their developments.\n",
      "FORECASTING Tesla stock closing value\n",
      "28292 42 Given the recent volatility and mixed analyst opinions, Tesla's current stock price is close to $230, which leaves a narrow margin for fluctuations until September 30, 2024. Institutional activities and future expectations for the Robotaxi unveil add potential upside, but the recent downgrades and insider selling contribute to downward pressure. Considering these factors, there's a moderate probability Tesla's stock will close at or above $230.\n",
      "FORECASTING Laredo Oil 10-K report\n",
      "28291 35 Given that Laredo Oil, Inc. received a notification of failure to file its annual report on August 29, 2024, it suggests that the company is experiencing significant delays. Considering the patterns observed with other companies in similar situations and the current timeline, there's a reasonable chance that Laredo Oil may not complete its filing before the October 1, 2024 deadline.\n",
      "MODEL DOMAIN\n",
      "28290 Will Virgin Galactic make any new posts on its News page before October 1, 2024? \n",
      "Corporate action\n",
      "28291 Will Laredo Oil, Inc., file its 10-K annual report with the SEC before October 1, 2024?\n",
      "Corporate action\n",
      "28292 Will the closing value of Tesla's shares be at least $230 on September 30, 2024?\n",
      "Stock price\n",
      "CORRELATOR\n",
      "NEWS\n",
      "RATES\n",
      "FORECASTING Laredo Oil 10-K Filing\n",
      "28291 35 Laredo Oil, Inc. received a notification of failure to file its annual report on August 29, 2024, indicating difficulties that could persist. Given the typical delays and challenges noted in similar instances, there is a moderate probability that the company will not meet the deadline. However, it is not impossible that they might file before October 1, 2024, if they resolve issues quickly.\n",
      "FORECASTING Virgin Galactic News Post Update\n",
      "28290 80 Given the significant developments and upcoming events at Virgin Galactic, including earnings announcements and ongoing advancements in their Delta-class spaceplanes, it is likely that the company will make a new post on their News page before October 1, 2024. Virgin Galactic has a history of frequent updates, especially when there are notable advancements or financial announcements.\n",
      "FORECASTING Tesla Share Price\n",
      "28292 45 Tesla's share price has seen significant volatility and mixed analyst ratings. While there is enthusiasm around upcoming events like the Robotaxi unveiling, negative factors such as executive resignations, competition, and missed earnings estimates weigh against a strong price performance. Considering these factors, the probability of Tesla closing at or above $230 on September 30, 2024, is moderately balanced but slightly less likely than more likely.\n",
      "MODEL DOMAIN\n",
      "28290 Will Virgin Galactic make any new posts on its News page before October 1, 2024? \n",
      "Aerospace technology\n",
      "28291 Will Laredo Oil, Inc., file its 10-K annual report with the SEC before October 1, 2024?\n",
      "Corporate action\n",
      "28292 Will the closing value of Tesla's shares be at least $230 on September 30, 2024?\n",
      "Stock price\n",
      "CORRELATOR\n",
      "NEWS\n",
      "RATES\n",
      "FORECASTING Tesla stock price\n",
      "28292 55 Tesla's stock has shown volatility and mixed performance recently. The current price is $230.29, just above the threshold. The upcoming Robotaxi unveiling could provide a boost, but there are bearish indicators such as insider selling and a recent price drop. Institutional investors hold a significant amount of stock, which could stabilize the price. Given these mixed signals, a 55% probability seems reasonable to account for both potential gains and risks over the next 12 days.\n",
      "FORECASTING Virgin Galactic corporate communications\n",
      "28290 70 Given the consistent updates from Virgin Galactic about its Delta-class spaceplane program and the upcoming Q2 2024 earnings results announcement, there is a high likelihood that the company will make additional news posts to maintain investor and public interest. The thirteen-day window increases this probability as the company is actively communicating its progress.\n",
      "FORECASTING Laredo Oil, Inc. financial filings\n",
      "28291 45 Laredo Oil, Inc. has a history of receiving notifications for failure to file its reports on time, as evidenced by the notification received on August 29, 2024. Given the tight window to file by October 1, 2024, and the absence of any publicly stated intentions to expedite this process, there is a significant risk of further delay. Therefore, the probability that Laredo Oil, Inc. will file its 10-K annual report with the SEC before October 1, 2024, is moderate at best.\n",
      "MODEL DOMAIN\n",
      "28290 Will Virgin Galactic make any new posts on its News page before October 1, 2024? \n",
      "Corporate action\n",
      "28291 Will Laredo Oil, Inc., file its 10-K annual report with the SEC before October 1, 2024?\n",
      "Corporate action\n",
      "28292 Will the closing value of Tesla's shares be at least $230 on September 30, 2024?\n",
      "Market price\n",
      "CORRELATOR\n",
      "|Virgin Galactic posts|28290|Will Virgin Galactic make any new posts on its News page before October 1, 2024?|\n",
      "|Laredo Oil, Inc. 10-K filing|28291|Will Laredo Oil, Inc., file its 10-K annual report with the SEC before October 1, 2024?|\n",
      "|Tesla closing value|28292|Will the closing value of Tesla's shares be at least $230 on September 30, 2024?|\n",
      "NEWS\n",
      "ASKING\n",
      "Researching Will Virgin Galactic make any new posts on its News page before October 1, 2024?\n",
      "ALL\n",
      "Space Perspective's Spaceship Neptune - Excelsior craft successfully completed a test flight, reaching an altitude of 100,000 feet without a crew. The balloon capsule will carry up to eight passengers to the edge of space, offering a luxurious experience with world-class food and beverage, comfortable seating, and amenities. The company plans to start human spaceflights in 2025 and commercial operations in 2026, with over 1,800 tickets already sold. According to Taber MacCallum, founder and chief technology officer, 'This uncrewed flight not only proves our technology but also brings us closer to making space accessible for everyone.' The market for space tourism is expected to reach over £3 billion by 2030, with companies like SpaceX and Virgin Galactic leading the way in making space travel more accessible and affordable.\n",
      "saved asknews_for_question/28290.json\n",
      "ASKING\n",
      "Researching Will Laredo Oil, Inc., file its 10-K annual report with the SEC before October 1, 2024?\n",
      "ALL\n",
      "Tethys Petroleum's (CVE:TPL) stock has risen by 4.3% over the past month, but its Return on Equity (ROE) of 7.4% is lower than the industry average of 9.6%. Despite this, the company has seen exceptional 44% net income growth over the past five years. The company's management has made some good strategic decisions, or it has a low payout ratio, which could be contributing to this growth. The investor should try to establish if the expected growth or decline in earnings is priced in, as this will give an idea if the stock is headed into clear blue waters or if swampy waters await. Tethys Petroleum has a high rate of reinvestment, albeit at a low ROE, which has managed to see a considerable growth in its earnings.\n",
      "saved asknews_for_question/28291.json\n",
      "ASKING\n",
      "Researching Will the closing value of Tesla's shares be at least $230 on September 30, 2024?\n",
      "ALL\n",
      "Morgan Stanley has maintained its Overweight rating on Tesla (NASDAQ:TSLA) shares with a price target of $310.00, citing the potential indirect benefits to Tesla's energy segment from rising greenhouse gas emissions from global data centers. The firm's analysis suggests that emissions from data centers are expected to grow significantly, with an estimated increase of around 2.5 billion tonnes by 2030. Morgan Stanley points out the irony in the situation where automakers like Ford (NYSE:F) are purchasing Zero Emission Vehicle (ZEV) credits to comply with global CO2 emissions standards, which may end up funding Tesla's expansion of energy-intensive AI data centers. Tesla's AI infrastructure had a reported value of $2.5 billion within its property, plant, and equipment (PP&E) at the end of the second quarter of 2024, marking a 65% increase year-over-year. The company's stock price has shown resilience and potential for growth despite the complexities of the automotive and tech industries' transition to lower-emission technologies, with a 23.27% price total return over the last three months.\n",
      "saved asknews_for_question/28292.json\n",
      "RATES\n",
      "RATES Virgin Galactic posts {'Virgin Galactic posts': \"1. Today's date: 2024-09-18\\n2. End date of the question: 2024-10-01\\n3. Time in days (D) from today to end date: 13 days\\n4. Most likely event date: Virgin Galactic may or may not make a post at any time before October 1, 2024.\\n5. The likely event date is uncertain and cannot be predicted from the given information. The event may occur before, on, or after the end date.\", 'Laredo Oil, Inc. 10-K filing': None, 'Tesla closing value': None}\n",
      "RATES Laredo Oil, Inc. 10-K filing {'Virgin Galactic posts': \"1. Today's date: 2024-09-18\\n2. End date of the question: 2024-10-01\\n3. Time in days (D) from today to end date: 13 days\\n4. Most likely event date: Virgin Galactic may or may not make a post at any time before October 1, 2024.\\n5. The likely event date is uncertain and cannot be predicted from the given information. The event may occur before, on, or after the end date.\", 'Laredo Oil, Inc. 10-K filing': \"1. Today's date: 2024-09-18\\n2. End date of the question: 2024-10-01\\n3. Time in days D from today to end date: 13 days\\n4. Specific date at which the event is most likely to occur: Cryptic, but potentially an exact target date given recent patterns is September 30, 2024.\\n5. Whether the likely event date is before, or on or after the question end date: On or before the question end date\", 'Tesla closing value': None}\n",
      "RATES Tesla closing value {'Virgin Galactic posts': \"1. Today's date: 2024-09-18\\n2. End date of the question: 2024-10-01\\n3. Time in days (D) from today to end date: 13 days\\n4. Most likely event date: Virgin Galactic may or may not make a post at any time before October 1, 2024.\\n5. The likely event date is uncertain and cannot be predicted from the given information. The event may occur before, on, or after the end date.\", 'Laredo Oil, Inc. 10-K filing': \"1. Today's date: 2024-09-18\\n2. End date of the question: 2024-10-01\\n3. Time in days D from today to end date: 13 days\\n4. Specific date at which the event is most likely to occur: Cryptic, but potentially an exact target date given recent patterns is September 30, 2024.\\n5. Whether the likely event date is before, or on or after the question end date: On or before the question end date\", 'Tesla closing value': \"1. Today's Date: September 18, 2024\\n2. End Date: September 30, 2024\\n3. Days from Today (D): 12 days\\n4. Most Likely Event Date: Projection assumes the stock's behavior until the end of the measurement date.\\n5. Likely Event Date in Relation to End Date: On or after the question end date.\\n\\nGiven the analyst consensus price targets, recent trading values, and market sentiment, it appears that the closing value of Tesla's shares on **September 30, 2024**, will most likely be at or near the current levels and potentially below $230. Therefore, if I had to give a simplified, statistical response based on the broad range of estimates and recent adjustments:\\nThe most likely event date of achieving or surpassing $230 may not impact before the September 30, 2024 measurement date, suggesting it might be unlikely to meet the $230 threshold by that specific end date.\"}\n",
      "FORECASTING Virgin Galactic posts\n",
      "28290 35 Virgin Galactic has shown significant activity recently and has several upcoming events and progress updates that could warrant a news post before October 1, 2024. However, the exact likelihood is uncertain given that there is no scheduled or predictable pattern for their news postings.\n",
      "FORECASTING Laredo Oil, Inc. 10-K filing\n",
      "28291 45 Given that Laredo Oil, Inc. received a notification of failure to file its annual report on August 29, 2024, the likelihood of them filing before October 1, 2024 is moderate. Companies in such situations typically strive to comply within the extended period but factors such as the complexity of financial close processes, organizational disruptions, or dependencies on third-party auditors could delay the filing. There's still enough time left, but the previous notification suggests some risk of further delay. Hence a probability of 45% is assigned.\n",
      "FORECASTING Tesla closing value\n",
      "28292 55 Tesla's current stock price is around $230, and despite mixed analyst sentiment and some recent volatility, the stock has shown an overall resilient upward trend. With the upcoming Robotaxi unveiling on October 10, 2024, there is potential for positive sentiment to support the stock price. Furthermore, the Federal Reserve's potential interest rate cut could also boost market conditions. Given these factors, there is a moderate probability that Tesla's stock will close at or above $230 on September 30, 2024.\n",
      "MODEL DOMAIN\n",
      "28290 Will Virgin Galactic make any new posts on its News page before October 1, 2024? \n",
      "Corporate action\n",
      "28291 Will Laredo Oil, Inc., file its 10-K annual report with the SEC before October 1, 2024?\n",
      "Corporate action\n",
      "28292 Will the closing value of Tesla's shares be at least $230 on September 30, 2024?\n",
      "Market price\n",
      "CORRELATOR\n",
      "|Virgin Galactic news update|28290|Will Virgin Galactic make any new posts on its News page before October 1, 2024?|\n",
      "|Laredo Oil annual report|28291|Will Laredo Oil, Inc., file its 10-K annual report with the SEC before October 1, 2024?|\n",
      "|Tesla stock price|28292|Will the closing value of Tesla's shares be at least $230 on September 30, 2024?|\n",
      "NEWS\n",
      "ASKING\n",
      "Researching Will Laredo Oil, Inc., file its 10-K annual report with the SEC before October 1, 2024?\n",
      "ALL\n",
      "Tethys Petroleum's (CVE:TPL) stock has risen by 4.3% over the past month, but its Return on Equity (ROE) of 7.4% is lower than the industry average of 9.6%. Despite this, the company has seen exceptional 44% net income growth over the past five years. The company's management has made some good strategic decisions, or it has a low payout ratio, which could be contributing to this growth. The investor should try to establish if the expected growth or decline in earnings is priced in, as this will give an idea if the stock is headed into clear blue waters or if swampy waters await. Tethys Petroleum has a high rate of reinvestment, albeit at a low ROE, which has managed to see a considerable growth in its earnings.\n",
      "saved asknews_for_question/28291.json\n",
      "ASKING\n",
      "Researching Will the closing value of Tesla's shares be at least $230 on September 30, 2024?\n",
      "ALL\n",
      "Morgan Stanley has maintained its Overweight rating on Tesla (NASDAQ:TSLA) shares with a price target of $310.00, citing the potential indirect benefits to Tesla's energy segment from rising greenhouse gas emissions from global data centers. The firm's analysis suggests that emissions from data centers are expected to grow significantly, with an estimated increase of around 2.5 billion tonnes by 2030. Morgan Stanley points out the irony in the situation where automakers like Ford (NYSE:F) are purchasing Zero Emission Vehicle (ZEV) credits to comply with global CO2 emissions standards, which may end up funding Tesla's expansion of energy-intensive AI data centers. Tesla's AI infrastructure had a reported value of $2.5 billion within its property, plant, and equipment (PP&E) at the end of the second quarter of 2024, marking a 65% increase year-over-year. The company's stock price has shown resilience and potential for growth despite the complexities of the automotive and tech industries' transition to lower-emission technologies, with a 23.27% price total return over the last three months.\n",
      "saved asknews_for_question/28292.json\n",
      "ASKING\n",
      "Researching Will Virgin Galactic make any new posts on its News page before October 1, 2024?\n",
      "ALL\n",
      "Space Perspective's Spaceship Neptune - Excelsior craft successfully completed a test flight, reaching an altitude of 100,000 feet without a crew. The balloon capsule will carry up to eight passengers to the edge of space, offering a luxurious experience with world-class food and beverage, comfortable seating, and amenities. The company plans to start human spaceflights in 2025 and commercial operations in 2026, with over 1,800 tickets already sold. According to Taber MacCallum, founder and chief technology officer, 'This uncrewed flight not only proves our technology but also brings us closer to making space accessible for everyone.' The market for space tourism is expected to reach over £3 billion by 2030, with companies like SpaceX and Virgin Galactic leading the way in making space travel more accessible and affordable.\n",
      "saved asknews_for_question/28290.json\n",
      "RATES\n",
      "RATES Laredo Oil annual report {'Laredo Oil annual report': \"1. Today's Date: 2024-09-18\\n2. End Date of the Question: 2024-10-01\\n3. Time in Days D: 13 days\\n4. Most Likely Event Date: The specific date cannot be determined from the information provided in the news.\\n5. Likely Event Date Relative to Question End Date: Before\", 'Tesla stock price': None, 'Virgin Galactic news update': None}\n",
      "RATES Tesla stock price {'Laredo Oil annual report': \"1. Today's Date: 2024-09-18\\n2. End Date of the Question: 2024-10-01\\n3. Time in Days D: 13 days\\n4. Most Likely Event Date: The specific date cannot be determined from the information provided in the news.\\n5. Likely Event Date Relative to Question End Date: Before\", 'Tesla stock price': \"1. Today's Date: 2024-09-18\\n2. End Date of the Question: 2024-09-30\\n3. Time in days (D): 12 days\\n4. Specific Date at which the event is most likely to occur: N/A (The event date is the calculation date in this case)\\n5. Whether the likely event date is before, or on or after the question end date: N/A\\n\\nGiven the mixed and fluctuating performance trends along with analysts' varying targets, Tesla's stock price on September 30, 2024, could very well be around $230, but this is uncertain. However, the final answer should still be framed as:\\n\\nWill the closing value of Tesla's shares be at least $230 on September 30, 2024? This is uncertain based on the current trends and analysts' predictions making it difficult to definitively forecast the exact closing value.\", 'Virgin Galactic news update': None}\n",
      "RATES Virgin Galactic news update {'Laredo Oil annual report': \"1. Today's Date: 2024-09-18\\n2. End Date of the Question: 2024-10-01\\n3. Time in Days D: 13 days\\n4. Most Likely Event Date: The specific date cannot be determined from the information provided in the news.\\n5. Likely Event Date Relative to Question End Date: Before\", 'Tesla stock price': \"1. Today's Date: 2024-09-18\\n2. End Date of the Question: 2024-09-30\\n3. Time in days (D): 12 days\\n4. Specific Date at which the event is most likely to occur: N/A (The event date is the calculation date in this case)\\n5. Whether the likely event date is before, or on or after the question end date: N/A\\n\\nGiven the mixed and fluctuating performance trends along with analysts' varying targets, Tesla's stock price on September 30, 2024, could very well be around $230, but this is uncertain. However, the final answer should still be framed as:\\n\\nWill the closing value of Tesla's shares be at least $230 on September 30, 2024? This is uncertain based on the current trends and analysts' predictions making it difficult to definitively forecast the exact closing value.\", 'Virgin Galactic news update': \"1. Today's date: 2024-09-18\\n2. End date of the question: 2024-10-01\\n3. Time in days D from today to end date: 13 days\\n4. Most likely date for Virgin Galactic's next post on its News page: According to past event announcements and typical business communication practices, Virgin Galactic may announce updates around key milestones or quarterly financial reports. Given the recent updates in mid-September and considering a possible update related to Q3 results or further progress on the Delta-class spaceship, it is plausible that a new post may be made by the end of September 2024.\\n5. Likely event date relationship: on or before 2024-10-01\"}\n",
      "FORECASTING Laredo Oil annual report\n",
      "28291 60 Laredo Oil, Inc. received a notification of failure to file its annual report on August 29, 2024. Typically, receiving such a notification indicates the company is facing difficulties but is aware of the requirement and likely making efforts to comply. Given the 13 days remaining until the deadline and assuming the company is expediting its reporting process, there is a moderately higher chance that the report will be filed on time. However, the potential for delays cannot be entirely ruled out, which tempers the probability. Therefore, I assign a 60% probability that Laredo Oil, Inc. will file its 10-K annual report with the SEC before October 1, 2024.\n",
      "FORECASTING Tesla stock price\n",
      "28292 65 Tesla's stock price has been highly volatile, influenced by both positive and negative news. At its most recent close, the stock was priced at $230.29, indicating a slight potential for it to meet or exceed $230 by September 30, 2024. Factors such as upcoming product launches (e.g., Robotaxi), insider trading activities, and the mixed sentiment among analysts are key influences. Given the stock's historical performance variability and these mixed signals, I estimate a 65% probability that Tesla's stock will close at or above $230 on September 30, 2024. This reflects a cautiously optimistic outlook based on current trends and support levels.\n",
      "FORECASTING Virgin Galactic news update\n",
      "28290 95 Given the recent surge in updates and progress announcements related to Virgin Galactic's Delta-class spacecraft and financial disclosures, it is highly likely they will continue to provide updates to maintain investor confidence and market interest. Moreover, the company has an upcoming focal point with its Q3 financial results, which adds to the likelihood of a new post by October 1, 2024.\n"
     ]
    }
   ],
   "source": [
    "for fcst in forecasters:\n",
    "    fcst.fit()"
   ]
  },
  {
   "cell_type": "code",
   "execution_count": 19,
   "metadata": {},
   "outputs": [
    {
     "name": "stdout",
     "output_type": "stream",
     "text": [
      "forecaster 0\n",
      "28290 Will Virgin Galactic make any new posts on its News page before October 1, 2024? \n",
      "Forecast 85\n",
      "Rationale Given Virgin Galactic's current momentum in announcements and progress updates, it is highly probable that they will make a new post on their News page before October 1, 2024. The company seems focused on keeping stakeholders informed about their developments. \n",
      "\n",
      "28291 Will Laredo Oil, Inc., file its 10-K annual report with the SEC before October 1, 2024?\n",
      "Forecast 35\n",
      "Rationale Given that Laredo Oil, Inc. received a notification of failure to file its annual report on August 29, 2024, it suggests that the company is experiencing significant delays. Considering the patterns observed with other companies in similar situations and the current timeline, there's a reasonable chance that Laredo Oil may not complete its filing before the October 1, 2024 deadline. \n",
      "\n",
      "28292 Will the closing value of Tesla's shares be at least $230 on September 30, 2024?\n",
      "Forecast 42\n",
      "Rationale Given the recent volatility and mixed analyst opinions, Tesla's current stock price is close to $230, which leaves a narrow margin for fluctuations until September 30, 2024. Institutional activities and future expectations for the Robotaxi unveil add potential upside, but the recent downgrades and insider selling contribute to downward pressure. Considering these factors, there's a moderate probability Tesla's stock will close at or above $230. \n",
      "\n",
      "=====================================================================\n",
      "forecaster 1\n",
      "28290 Will Virgin Galactic make any new posts on its News page before October 1, 2024? \n",
      "Forecast 80\n",
      "Rationale Given the significant developments and upcoming events at Virgin Galactic, including earnings announcements and ongoing advancements in their Delta-class spaceplanes, it is likely that the company will make a new post on their News page before October 1, 2024. Virgin Galactic has a history of frequent updates, especially when there are notable advancements or financial announcements. \n",
      "\n",
      "28291 Will Laredo Oil, Inc., file its 10-K annual report with the SEC before October 1, 2024?\n",
      "Forecast 35\n",
      "Rationale Laredo Oil, Inc. received a notification of failure to file its annual report on August 29, 2024, indicating difficulties that could persist. Given the typical delays and challenges noted in similar instances, there is a moderate probability that the company will not meet the deadline. However, it is not impossible that they might file before October 1, 2024, if they resolve issues quickly. \n",
      "\n",
      "28292 Will the closing value of Tesla's shares be at least $230 on September 30, 2024?\n",
      "Forecast 45\n",
      "Rationale Tesla's share price has seen significant volatility and mixed analyst ratings. While there is enthusiasm around upcoming events like the Robotaxi unveiling, negative factors such as executive resignations, competition, and missed earnings estimates weigh against a strong price performance. Considering these factors, the probability of Tesla closing at or above $230 on September 30, 2024, is moderately balanced but slightly less likely than more likely. \n",
      "\n",
      "=====================================================================\n",
      "forecaster 2\n",
      "28290 Will Virgin Galactic make any new posts on its News page before October 1, 2024? \n",
      "Forecast 70\n",
      "Rationale Given the consistent updates from Virgin Galactic about its Delta-class spaceplane program and the upcoming Q2 2024 earnings results announcement, there is a high likelihood that the company will make additional news posts to maintain investor and public interest. The thirteen-day window increases this probability as the company is actively communicating its progress. \n",
      "\n",
      "28291 Will Laredo Oil, Inc., file its 10-K annual report with the SEC before October 1, 2024?\n",
      "Forecast 45\n",
      "Rationale Laredo Oil, Inc. has a history of receiving notifications for failure to file its reports on time, as evidenced by the notification received on August 29, 2024. Given the tight window to file by October 1, 2024, and the absence of any publicly stated intentions to expedite this process, there is a significant risk of further delay. Therefore, the probability that Laredo Oil, Inc. will file its 10-K annual report with the SEC before October 1, 2024, is moderate at best. \n",
      "\n",
      "28292 Will the closing value of Tesla's shares be at least $230 on September 30, 2024?\n",
      "Forecast 55\n",
      "Rationale Tesla's stock has shown volatility and mixed performance recently. The current price is $230.29, just above the threshold. The upcoming Robotaxi unveiling could provide a boost, but there are bearish indicators such as insider selling and a recent price drop. Institutional investors hold a significant amount of stock, which could stabilize the price. Given these mixed signals, a 55% probability seems reasonable to account for both potential gains and risks over the next 12 days. \n",
      "\n",
      "=====================================================================\n",
      "forecaster 3\n",
      "28290 Will Virgin Galactic make any new posts on its News page before October 1, 2024? \n",
      "Forecast 35\n",
      "Rationale Virgin Galactic has shown significant activity recently and has several upcoming events and progress updates that could warrant a news post before October 1, 2024. However, the exact likelihood is uncertain given that there is no scheduled or predictable pattern for their news postings. \n",
      "\n",
      "28291 Will Laredo Oil, Inc., file its 10-K annual report with the SEC before October 1, 2024?\n",
      "Forecast 45\n",
      "Rationale Given that Laredo Oil, Inc. received a notification of failure to file its annual report on August 29, 2024, the likelihood of them filing before October 1, 2024 is moderate. Companies in such situations typically strive to comply within the extended period but factors such as the complexity of financial close processes, organizational disruptions, or dependencies on third-party auditors could delay the filing. There's still enough time left, but the previous notification suggests some risk of further delay. Hence a probability of 45% is assigned. \n",
      "\n",
      "28292 Will the closing value of Tesla's shares be at least $230 on September 30, 2024?\n",
      "Forecast 55\n",
      "Rationale Tesla's current stock price is around $230, and despite mixed analyst sentiment and some recent volatility, the stock has shown an overall resilient upward trend. With the upcoming Robotaxi unveiling on October 10, 2024, there is potential for positive sentiment to support the stock price. Furthermore, the Federal Reserve's potential interest rate cut could also boost market conditions. Given these factors, there is a moderate probability that Tesla's stock will close at or above $230 on September 30, 2024. \n",
      "\n",
      "=====================================================================\n",
      "forecaster 4\n",
      "28290 Will Virgin Galactic make any new posts on its News page before October 1, 2024? \n",
      "Forecast 95\n",
      "Rationale Given the recent surge in updates and progress announcements related to Virgin Galactic's Delta-class spacecraft and financial disclosures, it is highly likely they will continue to provide updates to maintain investor confidence and market interest. Moreover, the company has an upcoming focal point with its Q3 financial results, which adds to the likelihood of a new post by October 1, 2024. \n",
      "\n",
      "28291 Will Laredo Oil, Inc., file its 10-K annual report with the SEC before October 1, 2024?\n",
      "Forecast 60\n",
      "Rationale Laredo Oil, Inc. received a notification of failure to file its annual report on August 29, 2024. Typically, receiving such a notification indicates the company is facing difficulties but is aware of the requirement and likely making efforts to comply. Given the 13 days remaining until the deadline and assuming the company is expediting its reporting process, there is a moderately higher chance that the report will be filed on time. However, the potential for delays cannot be entirely ruled out, which tempers the probability. Therefore, I assign a 60% probability that Laredo Oil, Inc. will file its 10-K annual report with the SEC before October 1, 2024. \n",
      "\n",
      "28292 Will the closing value of Tesla's shares be at least $230 on September 30, 2024?\n",
      "Forecast 65\n",
      "Rationale Tesla's stock price has been highly volatile, influenced by both positive and negative news. At its most recent close, the stock was priced at $230.29, indicating a slight potential for it to meet or exceed $230 by September 30, 2024. Factors such as upcoming product launches (e.g., Robotaxi), insider trading activities, and the mixed sentiment among analysts are key influences. Given the stock's historical performance variability and these mixed signals, I estimate a 65% probability that Tesla's stock will close at or above $230 on September 30, 2024. This reflects a cautiously optimistic outlook based on current trends and support levels. \n",
      "\n",
      "=====================================================================\n"
     ]
    }
   ],
   "source": [
    "for i, fcst in enumerate(forecasters):\n",
    "    print(\"forecaster\", i)\n",
    "    fcst.report()\n",
    "    print(\"=====================================================================\")"
   ]
  },
  {
   "cell_type": "code",
   "execution_count": 20,
   "metadata": {},
   "outputs": [],
   "source": [
    "import numpy as np\n",
    "from Summarizer import Summarizer\n",
    "from MetacGPT import MetacGPT"
   ]
  },
  {
   "cell_type": "code",
   "execution_count": 21,
   "metadata": {},
   "outputs": [],
   "source": [
    "self = Forecaster({id: IFP(id) for id in today_ids})"
   ]
  },
  {
   "cell_type": "code",
   "execution_count": 22,
   "metadata": {},
   "outputs": [],
   "source": [
    "editor = Summarizer(MetacGPT)"
   ]
  },
  {
   "cell_type": "code",
   "execution_count": 23,
   "metadata": {},
   "outputs": [],
   "source": [
    "for ifp in self.ifps.values():\n",
    "    ifp.forecast = np.mean([fcst.ifps[ifp.id].forecast for fcst in forecasters])\n",
    "    ifp.rationale = editor.summarize('\\n'.join([fcst.ifps[ifp.id].rationale for fcst in forecasters]))"
   ]
  },
  {
   "cell_type": "code",
   "execution_count": 24,
   "metadata": {},
   "outputs": [
    {
     "name": "stdout",
     "output_type": "stream",
     "text": [
      "28290 Will Virgin Galactic make any new posts on its News page before October 1, 2024? \n",
      "Forecast 73.0\n",
      "Rationale Given Virgin Galactic's current pattern of frequent updates on significant developments, financial announcements, and progress in their Delta-class spaceplane program, it is highly probable that the company will make a new post on their News page before October 1, 2024, to maintain informed stakeholders and sustain market interest. \n",
      "\n",
      "28291 Will Laredo Oil, Inc., file its 10-K annual report with the SEC before October 1, 2024?\n",
      "Forecast 44.0\n",
      "Rationale Given Laredo Oil, Inc.'s notification of failure to file its annual report on August 29, 2024, and considering common industry challenges and the remaining timeline, there is a moderate probability that the company may not meet the October 1, 2024 deadline, though efforts to expedite the process could still result in timely compliance. \n",
      "\n",
      "28292 Will the closing value of Tesla's shares be at least $230 on September 30, 2024?\n",
      "Forecast 52.4\n",
      "Rationale Given Tesla's recent stock volatility, mixed analyst opinions, and current price near $230, the probability of the stock closing at or above $230 on September 30, 2024, is moderately balanced. This reflects the potential positive impact of the upcoming Robotaxi unveil and institutional activities, countered by negative factors such as downgrades and insider selling. \n",
      "\n"
     ]
    }
   ],
   "source": [
    "self.report()"
   ]
  },
  {
   "cell_type": "code",
   "execution_count": 25,
   "metadata": {},
   "outputs": [
    {
     "name": "stdout",
     "output_type": "stream",
     "text": [
      "Prediction posted for  28290\n",
      "Comment posted for  28290\n",
      "Prediction posted for  28291\n",
      "Comment posted for  28291\n",
      "Prediction posted for  28292\n",
      "Comment posted for  28292\n"
     ]
    }
   ],
   "source": [
    "self.upload()"
   ]
  },
  {
   "cell_type": "code",
   "execution_count": null,
   "metadata": {},
   "outputs": [],
   "source": []
  }
 ],
 "metadata": {
  "colab": {
   "provenance": []
  },
  "kernelspec": {
   "display_name": "q3ai",
   "language": "python",
   "name": "q3ai"
  },
  "language_info": {
   "codemirror_mode": {
    "name": "ipython",
    "version": 3
   },
   "file_extension": ".py",
   "mimetype": "text/x-python",
   "name": "python",
   "nbconvert_exporter": "python",
   "pygments_lexer": "ipython3",
   "version": "3.10.12"
  }
 },
 "nbformat": 4,
 "nbformat_minor": 4
}
