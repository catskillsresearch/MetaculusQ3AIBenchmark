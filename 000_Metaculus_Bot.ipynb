{
 "cells": [
  {
   "cell_type": "markdown",
   "metadata": {},
   "source": [
    "# 000 Forecasting Bot"
   ]
  },
  {
   "cell_type": "markdown",
   "metadata": {},
   "source": [
    "Starting from https://colab.research.google.com/drive/1_Il5h2Ed4zFa6Z3bROVCE68LZcSi4wHX?usp=sharing"
   ]
  },
  {
   "cell_type": "markdown",
   "metadata": {
    "jp-MarkdownHeadingCollapsed": true
   },
   "source": [
    "## Imports"
   ]
  },
  {
   "cell_type": "code",
   "execution_count": 1,
   "metadata": {},
   "outputs": [],
   "source": [
    "from IPython.display import Markdown\n",
    "from omegaconf import OmegaConf\n",
    "import datetime,json, os, requests, re\n",
    "from openai import OpenAI\n",
    "from tqdm import tqdm"
   ]
  },
  {
   "cell_type": "markdown",
   "metadata": {
    "jp-MarkdownHeadingCollapsed": true
   },
   "source": [
    "## Today"
   ]
  },
  {
   "cell_type": "code",
   "execution_count": 2,
   "metadata": {},
   "outputs": [
    {
     "data": {
      "text/plain": [
       "'2024-08-03'"
      ]
     },
     "execution_count": 2,
     "metadata": {},
     "output_type": "execute_result"
    }
   ],
   "source": [
    "import datetime\n",
    "today = str(datetime.datetime.now())[0:10]\n",
    "today"
   ]
  },
  {
   "cell_type": "markdown",
   "metadata": {
    "jp-MarkdownHeadingCollapsed": true
   },
   "source": [
    "## API Keys"
   ]
  },
  {
   "cell_type": "markdown",
   "metadata": {},
   "source": [
    "In order to run this notebook as is, you'll need to enter a few API keys (use the key icon on the left to input them):\n",
    "\n",
    "- `METACULUS_TOKEN`: you can find your Metaculus token under your bot's user settings page: https://www.metaculus.com/accounts/settings/, or on the bot registration page where you created the account: https://www.metaculus.com/aib/\n",
    "- `OPENAPI_API_KEY`: get one from OpenAIs page: https://platform.openai.com/settings/profile?tab=api-keys\n",
    "- `PERPLEXITY_API_KEY` - used to search up-to-date information about the question. Get one from https://www.perplexity.ai/settings/api\n",
    "- `ASKNEWS_CLIENT_ID`, `ASKNEWS_SECRET`"
   ]
  },
  {
   "cell_type": "code",
   "execution_count": 3,
   "metadata": {},
   "outputs": [],
   "source": [
    "token_fn = \"tokens.yaml\""
   ]
  },
  {
   "cell_type": "raw",
   "metadata": {},
   "source": [
    "tokens = OmegaConf.create(\"\"\"\n",
    "METACULUS_TOKEN: xx\n",
    "OPENAI_API_KEY: yy\n",
    "OPENAI_MODEL: gpt-4o\n",
    "PERPLEXITY_API_KEY: zz\n",
    "PERPLEXITY_MODEL: llama-3-sonar-large-32k-online\"\"\")\n",
    "OmegaConf.save(config=tokens, f=token_fn)"
   ]
  },
  {
   "cell_type": "code",
   "execution_count": 4,
   "metadata": {},
   "outputs": [],
   "source": [
    "config = OmegaConf.load(token_fn)\n",
    "\n",
    "def pr(tokens):\n",
    "    print(OmegaConf.to_yaml(config))"
   ]
  },
  {
   "cell_type": "markdown",
   "metadata": {
    "id": "iDukuXArbgdm",
    "jp-MarkdownHeadingCollapsed": true
   },
   "source": [
    "## LLM and Metaculus Interaction"
   ]
  },
  {
   "cell_type": "markdown",
   "metadata": {
    "id": "iDukuXArbgdm"
   },
   "source": [
    "This section sets up some simple helper code you can use to get data about forecasting questions and to submit a prediction"
   ]
  },
  {
   "cell_type": "code",
   "execution_count": 5,
   "metadata": {
    "id": "HifodCwcGU0j"
   },
   "outputs": [],
   "source": [
    "AUTH_HEADERS = {\"headers\": {\"Authorization\": f\"Token {config.METACULUS_TOKEN}\"}}\n",
    "API_BASE_URL = \"https://www.metaculus.com/api2\"\n",
    "WARMUP_TOURNAMENT_ID = 3349\n",
    "SUBMIT_PREDICTION = True\n",
    "\n",
    "def find_number_before_percent(s):\n",
    "    # Use a regular expression to find all numbers followed by a '%'\n",
    "    matches = re.findall(r'(\\d+)%', s)\n",
    "    if matches:\n",
    "        # Return the last number found before a '%'\n",
    "        return int(matches[-1])\n",
    "    else:\n",
    "        # Return None if no number found\n",
    "        return None\n",
    "\n",
    "def post_question_comment(question_id, comment_text):\n",
    "    \"\"\"\n",
    "    Post a comment on the question page as the bot user.\n",
    "    \"\"\"\n",
    "\n",
    "    response = requests.post(\n",
    "        f\"{API_BASE_URL}/comments/\",\n",
    "        json={\n",
    "            \"comment_text\": comment_text,\n",
    "            \"submit_type\": \"N\",\n",
    "            \"include_latest_prediction\": True,\n",
    "            \"question\": question_id,\n",
    "        },\n",
    "        **AUTH_HEADERS,\n",
    "    )\n",
    "    response.raise_for_status()\n",
    "    print(\"Comment posted for \", question_id)\n",
    "\n",
    "def post_question_prediction(question_id, prediction_percentage):\n",
    "    \"\"\"\n",
    "    Post a prediction value (between 1 and 100) on the question.\n",
    "    \"\"\"\n",
    "    url = f\"{API_BASE_URL}/questions/{question_id}/predict/\"\n",
    "    response = requests.post(\n",
    "        url,\n",
    "        json={\"prediction\": float(prediction_percentage) / 100},\n",
    "        **AUTH_HEADERS,\n",
    "    )\n",
    "    response.raise_for_status()\n",
    "    print(\"Prediction posted for \", question_id)\n",
    "\n",
    "\n",
    "def get_question_details(question_id):\n",
    "    \"\"\"\n",
    "    Get all details about a specific question.\n",
    "    \"\"\"\n",
    "    url = f\"{API_BASE_URL}/questions/{question_id}/\"\n",
    "    response = requests.get(\n",
    "        url,\n",
    "        **AUTH_HEADERS,\n",
    "    )\n",
    "    response.raise_for_status()\n",
    "    return json.loads(response.content)\n",
    "\n",
    "def list_questions(tournament_id=WARMUP_TOURNAMENT_ID, offset=0, count=1000):\n",
    "    \"\"\"\n",
    "    List (all details) {count} questions from the {tournament_id}\n",
    "    \"\"\"\n",
    "    url_qparams = {\n",
    "        \"limit\": count,\n",
    "        \"offset\": offset,\n",
    "        \"has_group\": \"false\",\n",
    "        \"order_by\": \"-activity\",\n",
    "        \"forecast_type\": \"binary\",\n",
    "        \"project\": tournament_id,\n",
    "        \"status\": \"open\",\n",
    "        \"type\": \"forecast\",\n",
    "        \"include_description\": \"true\",\n",
    "    }\n",
    "    url = f\"{API_BASE_URL}/questions/\"\n",
    "    response = requests.get(url, **AUTH_HEADERS, params=url_qparams)\n",
    "    response.raise_for_status()\n",
    "    data = json.loads(response.content)\n",
    "    return data"
   ]
  },
  {
   "cell_type": "markdown",
   "metadata": {},
   "source": [
    "## IFP"
   ]
  },
  {
   "cell_type": "code",
   "execution_count": 95,
   "metadata": {},
   "outputs": [],
   "source": [
    "class IFP:\n",
    "\n",
    "    forecast_fields = ['question_id',\n",
    "                       'title',\n",
    "                       'feedback',\n",
    "                       'resolution_criteria', \n",
    "                       'background', \n",
    "                       'fine_print',\n",
    "                       'event', \n",
    "                       'model_domain',\n",
    "                       'news',\n",
    "                       'rates', \n",
    "                       'research']\n",
    "\n",
    "    forecast_format = f\"|{'|'.join(forecast_fields)}|\"\n",
    "\n",
    "    def record(self):\n",
    "        rec = vars(self)\n",
    "        sep = '|'.join([f\"{x}: {rec[x]}\" for x in self.forecast_fields])\n",
    "        return f'|{sep}|'\n",
    "\n",
    "    def __init__(self, question_id):\n",
    "        self.question_id = question_id\n",
    "        self.question_details = get_question_details(self.question_id)\n",
    "        self.today = datetime.datetime.now().strftime(\"%Y-%m-%d\")   \n",
    "        self.title = self.question_details[\"title\"]\n",
    "        self.resolution_criteria = self.question_details[\"resolution_criteria\"]\n",
    "        self.background = self.question_details[\"description\"]\n",
    "        self.fine_print = self.question_details[\"fine_print\"]\n",
    "        self.event = ''\n",
    "        self.model_domain = ''\n",
    "        self.news = ''\n",
    "        self.rates = ''\n",
    "        self.research = ''\n",
    "        self.feedback = ''\n",
    "\n",
    "    def report(self):\n",
    "        rpt = f\"\"\"\n",
    "The future event is described by this question: [ {self.title} ]\n",
    "The resolution criteria are: [ {self.resolution_criteria} ]\n",
    "The background is: [ {self.background} ]\"\"\"\n",
    "        if self.fine_print:\n",
    "            rpt += f\"\"\"\n",
    "The fine print is: [ {self.fine_print} ]\"\"\"\n",
    "        return rpt\n",
    "\n",
    "    def upload(self):\n",
    "        post_question_prediction(self.question_id, self.forecast)\n",
    "        post_question_comment(self.question_id, self.rationale)"
   ]
  },
  {
   "cell_type": "code",
   "execution_count": 7,
   "metadata": {},
   "outputs": [],
   "source": [
    "unit_test = True"
   ]
  },
  {
   "cell_type": "code",
   "execution_count": 8,
   "metadata": {},
   "outputs": [
    {
     "name": "stdout",
     "output_type": "stream",
     "text": [
      "|question_id: 26775|title: Will someone other than Fabiano Caruana, Alireza Firouzja, Praggnanandhaa Rameshbabu, or Gukesh Dommaraju win the 2024 Grand Chess Tour?|feedback: |resolution_criteria: This question will resolve Yes if someone other than Fabiano Caruana, Alireza Firouzja, Praggnanandhaa Rameshbabu, or Gukesh Dommaraju wins the 2024 Grand Chess Tour, according to the Grand Chess Tour site or credible sources.|background: The Grand Chess Tour consists of [five chess tournaments](https://grandchesstour.org/tours/2024/), where the nine Tour players (listed above) can recieve Grand Chess Tour points, according to their place in the tournaments. Three of the five tournaments are already finished with the \"2024 SAINT LOUIS RAPID & BLITZ\" and the \"2024 SINQUEFIELD CUP\" still to go.  Leaving one tournament with the quicker time controls of \"Blitz\" and \"Rapid\" as well as one tournament in a longer, \"Classical\" time control still to be played.\n",
      "\n",
      "The [current standings](https://grandchesstour.org/tours/2024/standings/) show Caruana leading the Tour with 22.25 points in front of Firouzja with 17.58 points and Praggnanandhaa with 16.25 points.\n",
      "\n",
      "See also Wikipedia: [Grand Chess Tour 2024](https://en.wikipedia.org/wiki/Grand_Chess_Tour_2024)|fine_print: If either of the remaining tournaments are not held or the Grand Tour is cancelled, this question will be annulled.|event: |model_domain: |news: |rates: |research: |\n"
     ]
    }
   ],
   "source": [
    "if unit_test:\n",
    "    qid = 26775\n",
    "    ifp = IFP(qid)\n",
    "    ifps = {qid: ifp}\n",
    "    print(ifp.record())"
   ]
  },
  {
   "cell_type": "code",
   "execution_count": 9,
   "metadata": {},
   "outputs": [
    {
     "data": {
      "text/plain": [
       "'|question_id|title|feedback|resolution_criteria|background|fine_print|event|model_domain|news|rates|research|'"
      ]
     },
     "execution_count": 9,
     "metadata": {},
     "output_type": "execute_result"
    }
   ],
   "source": [
    "IFP.forecast_format"
   ]
  },
  {
   "cell_type": "markdown",
   "metadata": {
    "jp-MarkdownHeadingCollapsed": true
   },
   "source": [
    "## News source (AskNews)"
   ]
  },
  {
   "cell_type": "raw",
   "metadata": {},
   "source": [
    "pip install asknews"
   ]
  },
  {
   "cell_type": "markdown",
   "metadata": {},
   "source": [
    "https://colab.research.google.com/drive/1tc383HraMZOiyfKFF1EXAtlTYbsuv3Q5?usp=sharing"
   ]
  },
  {
   "cell_type": "code",
   "execution_count": 103,
   "metadata": {},
   "outputs": [],
   "source": [
    "from asknews_sdk import AskNewsSDK\n",
    "\n",
    "def asknews_to_dict(x):\n",
    "    return dict([x.split(': ', 1) for x in x.split('\\n')])\n",
    "\n",
    "class AskNews():\n",
    "\n",
    "    def __init__(self):\n",
    "        ASKNEWS_CLIENT_ID = config.ASKNEWS_CLIENT_ID\n",
    "        ASKNEWS_SECRET = config.ASKNEWS_SECRET\n",
    "        \n",
    "        self.ask = AskNewsSDK(\n",
    "              client_id=config.ASKNEWS_CLIENT_ID,\n",
    "              client_secret=config.ASKNEWS_SECRET,\n",
    "              scopes=[\"news\"]\n",
    "          )\n",
    "        \n",
    "    def query(self, \n",
    "              q, \n",
    "              method,    # use \"nl\" for natural language for your search, or \"kw\" for keyword, or 'both'\n",
    "              strategy): # strategy=\"latest news\" enforces looking at the latest news only\n",
    "                         # strategy=\"news knowledge\" looks for relevant news within the past 60 days\n",
    "        return ask.ask.news.search_news(\n",
    "            query=q, # your keyword query\n",
    "            n_articles=10, # control the number of articles to include in the context\n",
    "            return_type=\"dicts\",  # you can also ask for \"dicts\" if you want more information\n",
    "            method=method, \n",
    "            strategy=strategy).as_dicts # strategy=\"latest news\" enforces looking at the latest news only,\n",
    "                               \n",
    "    def research(self, ifp):\n",
    "        q = ifp.title.strip()\n",
    "        all = []\n",
    "        for strategy in ['latest news', 'news knowledge']:\n",
    "            for x in self.query(q, 'both', strategy):\n",
    "                all.append(x.summary)\n",
    "        all = list(set(all))\n",
    "        ifp.news = '\\n\\n'.join(all)\n",
    "        return ifp.news"
   ]
  },
  {
   "cell_type": "code",
   "execution_count": 11,
   "metadata": {},
   "outputs": [
    {
     "name": "stdout",
     "output_type": "stream",
     "text": [
      "The Superbet Chess Classic Romania resumed after a rest day, with GM Fabiano Caruana maintaining his lead after drawing with GM Ian Nepomniachtchi. GM Alireza Firouzja joined GMs Praggnanandhaa Rameshbabu and Gukesh Dommaraju in second place after defeating GM Wesley So. The games of GM Nodirbek Abdusattorov vs. GM Anish Giri and GM Maxime Vachier-Lagrave vs. GM Gukesh Dommaraju also ended in draws. The tournament will continue with the seventh round on July 3.\n",
      "\n",
      "World Chess Champion Magnus Carlsen lost to Richard Rapport of Hungary in the 4th round of the World Rapid and Blitz Chess Team Championship. Carlsen, playing for the WR Chess Team, lost in 23 moves with white pieces. His teammate, Russian grandmaster Ian Nepomniachtchi, drew with Hikaru Nakamura's opponent, Aronian's teammate, in his match. As a result, WR Chess Team lost 1-5 to Chessy. After five rounds, Al-Ain ACMG UAE is leading with 21.5 points, with Chessy trailing by 0.5 points. WR Chess Team, with Carlsen and Nepomniachtchi, is in 11th place with 16 points. The World Rapid and Blitz Chess Team Championship is taking place in Astana, Kazakhstan from August 1 to 6.\n",
      "\n",
      "Russian grandmaster Yan Nepomnyashchy was surprised by the loss of Norwegian Magnus Carlsen to Hungarian Richard Rapport at the World Rapid and Blitz Chess Championship. Nepomnyashchy was seated next to the table and watched the game. The tournament is taking place from August 1 to 6 in Astana, Kazakhstan, with 315 top chess players participating. Carlsen, 33, is a 16-time world chess champion (2013-2023) and the winner of the 2023 World Cup.\n",
      "\n",
      "Russian grandmaster Yan Nepomnyashchy was surprised by his teammate Magnus Carlsen's loss to Richard Rapport of Hungary in the team world championship. Nepomnyashchy played a draw with Hikaru Martirosyan of Armenia in his own game. The WR Chess Team ultimately lost 1-5 to the Chessy team. After five rounds, Al-Ain ACMG UAE is leading with 21.5 points, followed closely by Chessy with 21 points. WR Chess Team, with Carlsen and Nepomnyashchy, is currently in 11th place with 16 points. The team world championship is being held in Astana, Kazakhstan from August 1 to 6.\n",
      "\n",
      "Fabiano Caruana is back to being the number two in the world with a 2800+ rating after beating Bogdan-Daniel Deac in the Superbet Chess Classic Romania. Praggnanandhaa Rameshbabu and Gukesh Dommaraju are tied for second place. The tournament was visited by Garry Kasparov, who made the ceremonial first move in the game between Alireza Firouzja and Gukesh. Kasparov emphasized the importance of preserving classical chess, saying 'The preservation of classical chess, I think, is very important for helping players to realize their full potential, to put on display what they can do.' Caruana explained his winning strategy, saying 'It's a very tricky kind of modern line.' Praggnanandhaa's win over Anish Giri was due to a single move, 19.b4!, which put Giri in trouble. Ian Nepomniachtchi and Wesley So drew, while Nodirbek Abdusattorov and Maxime Vachier-Lagrave also drew. The tournament continues with the fifth round on Sunday, June 30.\n",
      "\n",
      "In the second round of the Superbet Chess Classic, Gukesh Dommaraju drew with Ian Nepomniachtchi, while Rameshbabu Praggnanandhaa shared points with Maxime Vachier-Lagrave. Alireza Firouzja won against Nodirbek Abdusattorov, and Fabiano Caruana drew with Wesley So. The tournament is a part of the Grand Chess tour in Bucharest, with a prize money of $350,000. Gukesh and Caruana are currently leading the tournament with 1.5 points each, followed by Alireza, Praggnanandhaa, Giri, Vachier-Lagrave, and Nepomniachtchi with one point each.\n",
      "\n",
      "After the seventh round of the British Chess Championship in Halle, UK, five players are tied for first place with 5.5 points. The leaders are David Howell (FIDE rating 2675), Gwain Jones (2640), Amit Ghasi (2495), Svitoslav Bazakoutsas (2490), and Matthew Wadsworth (2456). The championship is being held from July 27 to August 4, 2024, in a 9-round Swiss system with classical time control, and features 86 participants.\n",
      "\n",
      "Fabiano Caruana, the world's second-ranked chess player, successfully defended his Superbet Classic title by winning all three rapid games in a four-way tiebreaker against Indian Grandmasters D Gukesh and R Praggnanandhaa, as well as France's Alireza Firouzja. The classical section of the competition ended in a four-way tie for first place, with Caruana ultimately emerging victorious and claiming the first prize of USD 68,500.\n",
      "\n",
      "Hans Moke Niemann, a 21-year-old American grandmaster, has been accused of cheating multiple times in his chess career. Despite this, he has continued to climb the chess rankings, reaching a career-high rating of 2711. Niemann's aggressive playing style and arrogant showmanship have made him a polarizing figure in the chess community. He has been involved in several high-profile controversies, including a lawsuit against top-ranked player Magnus Carlsen and a ban from the Saint Louis Chess Club for destroying a hotel room and making disparaging comments about other players. Despite these setbacks, Niemann remains confident in his abilities and has vowed to become the number one chess player in the world. His rivalry with Carlsen is expected to be a major storyline in the chess world, with the two players set to face off in a potential rematch. 'I accept and I encourage any further attacks on my career and life,' Niemann said in an interview. 'By trying to destroy me, you know, someone who is so innocent, it only destroys themselves from within. So I hope that they continue. Because they're just feeding the monster.'\n",
      "\n",
      "In the second round of the Superbet Chess Classic, a part of the Grand Chess tour, Indian chess players D Gukesh and R Praggnanandhaa played out draws with Ian Nepomniachtchi of Russia and Maxime Vachier-Lagrave of France, respectively. Meanwhile, Alireza Firouzja of France won against Nodirbek Abdusattorov of Uzbekistan. The tournament is a 10-player double round-robin with seven rounds remaining, and the current leaders are Gukesh and Fabiano Caruana with 1.5 points each.\n",
      "\n",
      "The World Chess Championship has started in Tashkent, Uzbekistan, with around 300 players from 17 countries competing for the win. The tournament will be held in rapid and blitz formats on August 2-4 and 6-7, respectively. According to the organizers, the participants have arrived from Azerbaijan, Belarus, China, Spain, Hungary, India, Iran, Kazakhstan, Kyrgyzstan, Mongolia, Nigeria, Slovenia, Russia, Tajikistan, Turkmenistan, UAE, and the US. The prestigious tournament will begin after the opening ceremony, and the winners and prize-winners will be announced on August 7. 'The World Chess Championship is a significant event that brings together the best chess players from around the world,' said the organizers. 'We are excited to see the competition and the skills of the players.' \n",
      "\n",
      "The Superbet Classic, the second event of the 2024 Grand Chess Tour, has started with two wins for Fabiano Caruana and D Gukesh. Caruana's win came after he played a 'dodgy' opening, which he described as 'much worse than dodgy', even 'close to lost'. However, he managed to outplay Alireza Firouzja in a complex battle. Gukesh also won his first classical game since his victory at the Candidates Tournament, outplaying Bogdan-Daniel Deac in a position that saw the evaluation favouring either contender at different points of the game. The remaining three games ended drawn, with Nodirbek Abdusattorov and R Praggnanandhaa playing the longest encounter that ended peacefully.\n",
      "\n",
      "The U.S. Open chess tournament has reached a thrilling point, with nine players tied for first place after the seventh round. The $60,000 prize fund is up for grabs, with a number of top players still in the running for the $10,000 top prize and a spot in the U.S. Championship. According to IM Sandeep Sethuraman, 'it really felt like a national event' when the three separate playing schedules merged. The players in the lead include GM Jianchao Zhou, GM Elshan Moradiabadi, GM Fidel Corrales, GM Semen Khanin, GM Akshat Chandra, GM Mackenzie Molner, FM Tanitoluwa Adewumi, CM Avi Kaplan, and Nicholas Ladan. With two rounds to go, the competition is heating up, and the U.S. Open National Blitz Championship begins at noon today.\n",
      "\n",
      "Alireza Firouzja has joined the top three at the Superbet Chess Classic after defeating Wesley So in the sixth round. Firouzja sacrificed a pawn to gain a strong initiative and converted his positional advantage into a 31-move win. The victory allowed him to catch up with Praggnanandhaa and Gukesh, who are now tied for second place, half a point behind leader Fabiano Caruana. Caruana remains the only player with a +2 score. The three youngsters, Firouzja, Praggnanandhaa, and Gukesh, have realistic chances of claiming overall victory in the Grand Chess Tour. Gukesh showed great defensive abilities to hold the balance in his game with black against Maxime Vachier-Lagrave, while Firouzja put together a strong attack against So.\n",
      "\n",
      "After the fourth round of the international chess tournament in Požarevac, Serbia, three players are tied for first place in the standings with 3 points: Vang Shi-Xiu (China, FIDE rating 2422), Mohan Kushagra (India, 2367), and Wang Yan-Bin (China, 2435). Ahmad Ahmadzada (Azerbaijan, 2481) is half a point behind. The tournament, RUDAR VIII (GM), is being held from July 30 to August 6 in Požarevac, Serbia, and features 10 players from Serbia, China, India, Azerbaijan, Norway, and Montenegro.\n",
      "\n",
      "The Superbet Chess Classic Romania continued with the second round, where Alireza Firouzja bounced back from his loss in the first round by defeating Nodirbek Abdusattorov. Fabiano Caruana and Wesley So drew their game, with Caruana coming close to winning but ultimately spoiling his own chances. The other three games of the round ended in draws, with Ian Nepomniachtchi vs. Gukesh Dommaraju, Praggnanandhaa Rameshbabu vs. Maxime Vachier-Lagrave, and Bogdan-Daniel Deac vs. Anish Giri all finishing in stalemate. The tournament continues with the third round on Friday, June 28.\n",
      "\n",
      "After the fourth round of the international chess tournament in Vanadzor, Armenia, on August 3, Karen Grigoryan leads the tournament with a perfect score of 4 points, according to the results published on chess-results.com. Grigoryan, with a FIDE rating of 2567, is followed closely by Robert Piliposyan and Arthur Gabrielean, who are both half a point behind. The 'Vanadzor Open 2024' tournament, which is being held from August 1 to 7, features 42 chess players competing in a 9-round Swiss system with a classical time control.\n",
      "\n",
      "World Chess Champion Magnus Carlsen lost to Richard Rapport of Hungary in the 4th round of the World Rapid and Blitz Team Championship. According to 'Champion', Carlsen, representing the WR Chess Team, lost to Rapport with white pieces in just 23 moves. Russian Grandmaster Yan Nepomniachtchi, who is also part of the same team as Carlsen, expressed surprise at his teammate's loss, saying 'It was a great upset.' The World Rapid and Blitz Team Championship is taking place in Astana, Kazakhstan from August 1 to 6.\n",
      "\n",
      "Fabiano Caruana won the Superbet Chess Classic Romania tournament after a thrilling tiebreaker. He finished with 5/9 points, tied with Alireza Firouzja, Rameshbabu Pragganandha, and Gukesh Dommaraju. Caruana won all three tiebreaker games against his opponents, including a crucial win against Firouzja. The tournament saw a high number of draws, with 38 out of 45 games ending in a tie. Caruana said in an interview, 'Maybe we played a bit boringly, but at least the final was exciting.' Firouzja acknowledged his defeat. The tournament was part of the Grand Chess Tour 2024, which took place in Bucharest from June 26 to July 5.\n",
      "\n",
      "The Superbet Chess Classic Romania, the second leg of the 2024 Grand Chess Tour, has started with wins for GMs Gukesh Dommaraju and Fabiano Caruana. Gukesh defeated wildcard GM Bogdan-Daniel Deac, while Caruana came back from a difficult position to beat GM Alireza Firouzja. The first round saw draws in the games Nodirbek Abdusattorov vs. Praggnanandhaa Rameshbabu, Maxime Vachier-Lagrave vs. Ian Nepomniachtchi, and Anish Giri vs. Wesley So. The tournament continues with the second round on Thursday, June 27.\n"
     ]
    }
   ],
   "source": [
    "if unit_test:\n",
    "    ask = AskNews()\n",
    "    news = ask.research(ifp)\n",
    "    print(news)"
   ]
  },
  {
   "cell_type": "markdown",
   "metadata": {
    "jp-MarkdownHeadingCollapsed": true
   },
   "source": [
    "## LLMs"
   ]
  },
  {
   "cell_type": "markdown",
   "metadata": {
    "jp-MarkdownHeadingCollapsed": true
   },
   "source": [
    "### In general"
   ]
  },
  {
   "cell_type": "code",
   "execution_count": 12,
   "metadata": {},
   "outputs": [],
   "source": [
    "class LLM:\n",
    "    def __init__(self, system_role):\n",
    "        self.system_role = system_role\n",
    "        self.messages = [{\"role\": \"system\", \"content\": system_role}]\n",
    "\n",
    "    def chat(self, query):\n",
    "        self.messages.append({\"role\": \"user\", \"content\": query})\n",
    "        text = self.message()\n",
    "        self.messages.append({\"role\": \"assistant\", \"content\": text})\n",
    "        return text"
   ]
  },
  {
   "cell_type": "markdown",
   "metadata": {},
   "source": [
    "### MetaAI"
   ]
  },
  {
   "cell_type": "markdown",
   "metadata": {},
   "source": [
    "https://pypi.org/project/meta-ai-api/1.0.6/"
   ]
  },
  {
   "cell_type": "code",
   "execution_count": 13,
   "metadata": {},
   "outputs": [],
   "source": [
    "from meta_ai_api import MetaAI as mai"
   ]
  },
  {
   "cell_type": "code",
   "execution_count": 73,
   "metadata": {},
   "outputs": [],
   "source": [
    "class MetaAI(LLM):\n",
    "\n",
    "    def __init__(self, system_role = \"Nice talker\"):\n",
    "        self.ai = mai()\n",
    "        super().__init__(system_role)\n",
    "        \n",
    "    def message(self):\n",
    "        self.response = self.ai.prompt(message=self.messages[-1]['content'])\n",
    "        return self.response['message']"
   ]
  },
  {
   "cell_type": "code",
   "execution_count": 74,
   "metadata": {},
   "outputs": [
    {
     "name": "stdout",
     "output_type": "stream",
     "text": [
      "Will someone other than Fabiano Caruana, Alireza Firouzja, Praggnanandhaa Rameshbabu, or Gukesh Dommaraju win the 2024 Grand Chess Tour?\n",
      "The 2024 Grand Chess Tour is still ongoing, and the current standings are as follows ¹:\n",
      "Fabiano Caruana: 22.25 points\n",
      "Alireza Firouzja: 17.58 points\n",
      "Praggnanandhaa Rameshbabu: 16.25 points\n",
      "Gukesh D: 14.25 points\n",
      "Other players, such as Magnus Carlsen, Wei Yi, and Jan-Krzysztof Duda, have also performed well in individual tournaments ². However, it's important to note that the tour consists of multiple events, and the overall winner will be determined by the cumulative points earned throughout the tour.\n",
      "The tour's format and scoring system are as follows ¹:\n",
      "Two classical tournaments with a time control of 25 minutes plus a 10-second increment per move\n",
      "Three rapid and blitz tournaments with a time control of 5+2\n",
      "Tour points are awarded based on the combined results of both portions\n",
      "The player with the most tour points at the end of the five tournaments will be declared the winner\n",
      "The 2024 Grand Chess Tour is scheduled to conclude on August 31, 2024 ¹.\n",
      "\n"
     ]
    }
   ],
   "source": [
    "if unit_test:\n",
    "    ai = MetaAI()\n",
    "    r = ai.chat(ifp.title)\n",
    "    print(r)"
   ]
  },
  {
   "cell_type": "markdown",
   "metadata": {},
   "source": [
    "### HuggingChat"
   ]
  },
  {
   "cell_type": "markdown",
   "metadata": {},
   "source": [
    "https://pypi.org/project/hugchat/"
   ]
  },
  {
   "cell_type": "code",
   "execution_count": 16,
   "metadata": {},
   "outputs": [],
   "source": [
    "from hugchat import hugchat\n",
    "from hugchat.login import Login"
   ]
  },
  {
   "cell_type": "code",
   "execution_count": 80,
   "metadata": {},
   "outputs": [],
   "source": [
    "class HuggingChat(LLM):\n",
    "\n",
    "    def __init__(self, system_role = \"Nice talker\"):\n",
    "        # Log in to huggingface and grant authorization to huggingchat\n",
    "        EMAIL = config.HUGGINGFACE_USERNAME\n",
    "        PASSWD = config.HUGGINGFACE_PASSWORD\n",
    "        cookie_path_dir = \"./cookies/\" # NOTE: trailing slash (/) is required to avoid errors\n",
    "        sign = Login(EMAIL, PASSWD)\n",
    "        cookies = sign.login(cookie_dir_path=cookie_path_dir, save_cookies=True)\n",
    "        self.chatbot = hugchat.ChatBot(cookies=cookies.get_dict()) \n",
    "        super().__init__(system_role)\n",
    "        \n",
    "    def message(self):\n",
    "        result = ''.join([x['token'] for x in self.chatbot.chat(self.system_role + '\\n\\n' + self.messages[-1]['content']) if x])\n",
    "        return result\n",
    "\n",
    "    def web_search(self, query):\n",
    "        query_result = self.chatbot.query(query, web_search=True)\n",
    "        return query_result\n",
    "        print(query_result)\n",
    "        for source in query_result.web_search_sources:\n",
    "            print(source.link)\n",
    "            print(source.title)\n",
    "            print(source.hostname)\n",
    "\n",
    "    def available_models(self):\n",
    "        return [(i,str(x)) for i,x in enumerate(self.chatbot.get_available_llm_models())]\n",
    "\n",
    "    def switch_llm(self, i):\n",
    "        self.chatbot.switch_llm(i)\n",
    "\n",
    "    def conversation_info(self):\n",
    "        info = self.chatbot.get_conversation_info()\n",
    "        # print(info.id, info.title, info.model, info.system_prompt, info.history)\n",
    "        return info"
   ]
  },
  {
   "cell_type": "code",
   "execution_count": 81,
   "metadata": {},
   "outputs": [
    {
     "name": "stdout",
     "output_type": "stream",
     "text": [
      "It's difficult to predict with certainty, but I can provide some insights.\n",
      "\n",
      "The 2024 Grand Chess Tour will likely feature a strong field of top grandmasters, and while Fabiano Caruana, Alireza Firouzja, Praggnanandhaa Rameshbabu, and Gukesh Dommaraju are indeed among the favorites, there are other talented players who could potentially challenge for the title.\n",
      "\n",
      "Some possible dark horses to consider:\n",
      "\n",
      "1. Maxime Vachier-Lagrave (France): A consistent top-10 player, Vachier-Lagrave has a strong all-around game and has shown the ability to perform well in rapid and blitz formats.\n",
      "2. Viswanathan Anand (India): The former World Champion has been playing some of the best chess of his life in recent years, and his experience and skill make him a formidable opponent.\n",
      "3. Sergey Karjakin (Russia): A former World Championship challenger, Karjakin has a strong record in rapid and blitz events and is always a threat to win.\n",
      "4. Leinier Domínguez (USA): A versatile player with a strong tactical sense, Domínguez has had success in various formats and could make a deep run in the Grand Chess Tour.\n",
      "5. Magnus Carlsen (Norway): Although he's not as dominant as he once was, Carlsen is still one of the best players in the world and can't be counted out. He's shown the ability to perform well in rapid and blitz events, and his experience and skill make him a threat to win.\n",
      "\n",
      "Of course, this is not an exhaustive list, and other players could also make a strong run in the 2024 Grand Chess Tour. Ultimately, the outcome will depend on various factors, including the players' form, preparation, and performance on the day.\n",
      "\n",
      "What do you think? Do you have a favorite to win the 2024 Grand Chess Tour?\n"
     ]
    }
   ],
   "source": [
    "if unit_test:\n",
    "    hc = HuggingChat()\n",
    "    hc.switch_llm(1)\n",
    "    print(hc.chat(ifp.title))"
   ]
  },
  {
   "cell_type": "markdown",
   "metadata": {},
   "source": [
    "### Metaculus Anthropic"
   ]
  },
  {
   "cell_type": "code",
   "execution_count": 82,
   "metadata": {},
   "outputs": [],
   "source": [
    "import json\n",
    "\n",
    "class Claude(LLM):\n",
    "       \n",
    "    def message(self):\n",
    "        content = self.messages[-1]['content']\n",
    "        url = \"https://www.metaculus.com/proxy/anthropic/v1/messages\"\n",
    "        headers =  {\"Authorization\": f\"Token {config.METACULUS_TOKEN}\",\n",
    "                    \"anthropic-version\": \"2023-06-01\",\n",
    "                    \"content-type\": \"application/json\"}\n",
    "        data = {\"model\": \"claude-3-5-sonnet-20240620\",\n",
    "                \"max_tokens\": 1024,\n",
    "                \"messages\": [{\"role\": \"user\", \"content\": self.system_role + '\\n\\n' + content}]}\n",
    "        response = requests.post(url, headers=headers, data = json.dumps(data))\n",
    "        # Check the response status code\n",
    "        if response.status_code != 200:\n",
    "            print(\"Request failed with status code\", response.status_code)\n",
    "            print(response.text)\n",
    "        return response.json()['content'][0]['text']"
   ]
  },
  {
   "cell_type": "code",
   "execution_count": 83,
   "metadata": {},
   "outputs": [
    {
     "name": "stdout",
     "output_type": "stream",
     "text": [
      "It's difficult to predict with certainty who will win the 2024 Grand Chess Tour, as chess tournaments can be unpredictable and player performance can vary. However, I can provide some context:\n",
      "\n",
      "1. The players you've mentioned are indeed strong contenders, but they're not the only top players in the world.\n",
      "\n",
      "2. Other potential winners could include:\n",
      "   - Magnus Carlsen (if he participates)\n",
      "   - Ding Liren\n",
      "   - Ian Nepomniachtchi\n",
      "   - Hikaru Nakamura\n",
      "   - Wesley So\n",
      "   - Levon Aronian\n",
      "   - Anish Giri\n",
      "\n",
      "3. The Grand Chess Tour typically features a mix of established top players and rising stars, so there's always potential for surprises.\n",
      "\n",
      "4. Form and preparation leading up to the tournament will play a crucial role.\n",
      "\n",
      "5. The tournament format and specific participants for 2024 haven't been announced yet, which could impact the outcome.\n",
      "\n",
      "Given these factors, it's entirely possible that someone other than the four players you mentioned could win the 2024 Grand Chess Tour. However, without more information about the tournament and the players' form closer to the event, it's impossible to give a definitive answer.\n"
     ]
    }
   ],
   "source": [
    "claude = Claude('Please help me.')\n",
    "print(claude.chat(ifp.title))"
   ]
  },
  {
   "cell_type": "markdown",
   "metadata": {},
   "source": [
    "### Perplexity"
   ]
  },
  {
   "cell_type": "code",
   "execution_count": 21,
   "metadata": {},
   "outputs": [],
   "source": [
    "class Perplexity(LLM):\n",
    "    def message(self):\n",
    "        url = \"https://api.perplexity.ai/chat/completions\"\n",
    "        headers = {\n",
    "            \"accept\": \"application/json\",\n",
    "            \"authorization\": f\"Bearer {config.PERPLEXITY_API_KEY}\",\n",
    "            \"content-type\": \"application/json\"  }\n",
    "        payload = {\"model\": config.PERPLEXITY_MODEL, \"messages\": self.messages }\n",
    "        response = requests.post(url=url, json=payload, headers=headers)\n",
    "        response.raise_for_status()\n",
    "        return response.json()[\"choices\"][0][\"message\"][\"content\"]"
   ]
  },
  {
   "cell_type": "code",
   "execution_count": 22,
   "metadata": {},
   "outputs": [
    {
     "name": "stdout",
     "output_type": "stream",
     "text": [
      "The question of whether someone other than Fabiano Caruana, Alireza Firouzja, Praggnanandhaa Rameshbabu, or Gukesh Dommaraju will win the 2024 Grand Chess Tour is a topic of ongoing debate and speculation. Here are some key points from the sources:\n",
      "\n",
      "1. **Field of the 2024 Grand Chess Tour**: The field includes top players such as Fabiano Caruana, Maxime Vachier-Lagrave, Wesley So, Gukesh Dommaraju, Ian Nepomniachtchi, Alireza Firouzja, Anish Giri, Rameshbabu Praggnanandhaa, and Nodirbek Abdusattorov.\n",
      "\n",
      "2. **Recent Performances**: Alireza Firouzja has shown resilience by bouncing back from a loss in the opening round of the Superbet Chess Classic Romania to win against Nodirbek Abdusattorov. Fabiano Caruana also had a strong game against Wesley So, although it ended in a draw.\n",
      "\n",
      "3. **Candidates Tournament Predictions**: Fabiano Caruana is considered the favorite to win the 2024 Candidates Tournament due to his consistent performance and extensive experience in such tournaments. However, other players like Hikaru Nakamura, Ian Nepomniachtchi, and the young Indian talents Praggnanandhaa and Gukesh Dommaraju also have strong chances.\n",
      "\n",
      "4. **Grand Chess Tour Dynamics**: The Grand Chess Tour is known for its competitive nature, and while Caruana, Firouzja, Praggnanandhaa, and Gukesh are strong contenders, other players like Maxime Vachier-Lagrave, Wesley So, and Anish Giri could also make a significant impact.\n",
      "\n",
      "Given these points, while the named players are strong contenders, the competitive nature of the Grand Chess Tour and the Candidates Tournament means that other players could also emerge as winners. Therefore, it is possible that someone other than Fabiano Caruana, Alireza Firouzja, Praggnanandhaa Rameshbabu, or Gukesh Dommaraju could win the 2024 Grand Chess Tour.\n"
     ]
    }
   ],
   "source": [
    "perp = Perplexity('You are the most deeply knowledgeable web search engine and insightful analyst')\n",
    "print(perp.chat(ifp.title))"
   ]
  },
  {
   "cell_type": "markdown",
   "metadata": {},
   "source": [
    "### Metaculus OpenAI"
   ]
  },
  {
   "cell_type": "code",
   "execution_count": 84,
   "metadata": {},
   "outputs": [],
   "source": [
    "import json\n",
    "\n",
    "class MetacGPT(LLM):\n",
    "\n",
    "    def __init__(self, system_role):\n",
    "        super().__init__(system_role)\n",
    "        \n",
    "    def message(self):\n",
    "        url = \"https://www.metaculus.com/proxy/openai/v1/chat/completions\"\n",
    "        headers =  {\"Authorization\": f\"Token {config.METACULUS_TOKEN}\",\n",
    "                    \"content-type\": \"application/json\"}\n",
    "        data = {\"model\": \"gpt-3.5-turbo\",\n",
    "                \"max_tokens\": 1024,\n",
    "                \"messages\": self.messages}\n",
    "        response = requests.post(url, headers=headers, data = json.dumps(data))\n",
    "        # Check the response status code\n",
    "        if response.status_code != 200:\n",
    "            print(\"Request failed with status code\", response.status_code)\n",
    "            print(response.text)\n",
    "        return response.json()['content'][0]['text']"
   ]
  },
  {
   "cell_type": "code",
   "execution_count": 85,
   "metadata": {},
   "outputs": [],
   "source": [
    "if unit_test and False:\n",
    "    mgpt = MetacGPT('Please help me')\n",
    "    mgpt.chat('Bruce Bueno de Mesquita')"
   ]
  },
  {
   "cell_type": "markdown",
   "metadata": {},
   "source": [
    "### OpenAI"
   ]
  },
  {
   "cell_type": "code",
   "execution_count": 25,
   "metadata": {},
   "outputs": [],
   "source": [
    "class ChatGPT(LLM):\n",
    "    def __init__(self, system_role):\n",
    "        super().__init__(system_role)\n",
    "        self.client = OpenAI(api_key=config.OPENAI_API_KEY)\n",
    "\n",
    "    def message(self):\n",
    "        chat_completion = self.client.chat.completions.create(\n",
    "            model=config.OPENAI_MODEL,\n",
    "            messages= self.messages)\n",
    "        return chat_completion.choices[0].message.content"
   ]
  },
  {
   "cell_type": "code",
   "execution_count": 26,
   "metadata": {},
   "outputs": [
    {
     "name": "stdout",
     "output_type": "stream",
     "text": [
      "Predicting the outcome of chess tournaments, including the Grand Chess Tour (GCT), involves a high degree of uncertainty due to the many variables at play. These include player form, physical and mental condition, preparation, and even elements of luck. While Fabiano Caruana, Alireza Firouzja, Praggnanandhaa Rameshbabu, and Gukesh Dommaraju are among the top talents and are considered strong contenders, several other players could also potentially win the 2024 Grand Chess Tour. \n",
      "\n",
      "A few notable contenders who could challenge the aforementioned players include:\n",
      "\n",
      "1. **Magnus Carlsen**: The reigning World Chess Champion (as of my knowledge cut-off in 2021) and often considered one of the greatest chess players of all time. His participation alone raises the competitive bar significantly.\n",
      "\n",
      "2. **Levon Aronian**: An established Grandmaster who has been a consistent performer in elite tournaments over the years.\n",
      "\n",
      "3. **Ian Nepomniachtchi**: Known for his sharp and aggressive play, Nepomniachtchi has been a top contender in recent years.\n",
      "\n",
      "4. **Wesley So**: Winner of multiple GCT events and a formidable rapid and blitz player.\n",
      "\n",
      "5. **Hikaru Nakamura**: A dominant force in fast time controls and also capable of outstanding performances in classical formats.\n",
      "\n",
      "6. **Ding Liren**: A very consistent top player with several high-stakes victories under his belt.\n",
      "\n",
      "The unpredictability of the sport and the depth of talent in the field mean that many players have the potential to triumph. While Caruana, Firouzja, Praggnanandhaa, and Gukesh are exceptional talents and among the favorites, it would not be a shock to see another top player emerge as the winner in 2024. Chess tournaments, especially those comprising multiple formats like the Grand Chess Tour, are often decided by a small margin of error, making it an exciting and unpredictable endeavor.\n"
     ]
    }
   ],
   "source": [
    "if unit_test:\n",
    "    oai = ChatGPT('You are the most deeply knowledgeable web search engine and insightful analyst')\n",
    "    print(oai.chat(ifp.title))"
   ]
  },
  {
   "cell_type": "markdown",
   "metadata": {
    "id": "9WUvm1tVmMkO"
   },
   "source": [
    "## Agents"
   ]
  },
  {
   "cell_type": "markdown",
   "metadata": {
    "jp-MarkdownHeadingCollapsed": true
   },
   "source": [
    "#### Agent"
   ]
  },
  {
   "cell_type": "code",
   "execution_count": 27,
   "metadata": {},
   "outputs": [],
   "source": [
    "class Agent:\n",
    "    def __init__(self, system_role, llm):\n",
    "        self.llm = llm(system_role)\n",
    "\n",
    "    def chat(self, prompt):\n",
    "        return self.llm.chat(prompt)"
   ]
  },
  {
   "cell_type": "markdown",
   "metadata": {
    "jp-MarkdownHeadingCollapsed": true
   },
   "source": [
    "#### Question correlator for common topic inference"
   ]
  },
  {
   "cell_type": "code",
   "execution_count": 28,
   "metadata": {},
   "outputs": [],
   "source": [
    "class QuestionRelator(Agent):\n",
    "    def __init__(self, llm):\n",
    "        self.system_role = f\"\"\"\n",
    "You are prompted with list of forecasting questions, each with an id and a title.\n",
    "Label each question with an underlying event.\n",
    "If the questions are for the same event, use the same name for the underlying event.\n",
    "Please return as separate lines formatted as |event|id|title|, do not add any other formatting.\n",
    "\"\"\"\n",
    "        super().__init__(self.system_role, llm)\n",
    "\n",
    "    def relate(self, ifps):\n",
    "        prompt = '\\n'.join([f\"{ifp.question_id}: {ifp.title}\" for ifp in ifps.values()])\n",
    "        KL = self.chat(prompt)\n",
    "        K1 = [x.split('|') for x in KL.split('\\n')]\n",
    "        K2 = [(int(id),event) for _,event,id,_,_ in K1]\n",
    "        for id,event in K2:\n",
    "            ifps[id].event = event\n",
    "            print(id, event)"
   ]
  },
  {
   "cell_type": "code",
   "execution_count": 29,
   "metadata": {},
   "outputs": [
    {
     "name": "stdout",
     "output_type": "stream",
     "text": [
      "26775 2024 Grand Chess Tour\n"
     ]
    }
   ],
   "source": [
    "if unit_test:\n",
    "    qr = QuestionRelator(ChatGPT)\n",
    "    qr.relate(ifps)"
   ]
  },
  {
   "cell_type": "markdown",
   "metadata": {
    "jp-MarkdownHeadingCollapsed": true
   },
   "source": [
    "#### Model domain classifier"
   ]
  },
  {
   "cell_type": "code",
   "execution_count": 30,
   "metadata": {},
   "outputs": [],
   "source": [
    "class ModelDomainClassifier(Agent):\n",
    "    def __init__(self, llm):\n",
    "        self.system_role = f\"\"\"\n",
    "A question about an event is formatted as |id|question|criteria|background|fineprint|.\n",
    "You will report the model domain of the question, one of\n",
    "\n",
    "Rate over time\n",
    "Election outcome\n",
    "Sports performance\n",
    "Military conflict\n",
    "Civil unrest\n",
    "Dated product announcement\n",
    "Market price\n",
    "Macroeconomics\n",
    "Epidemic\n",
    "Disease\n",
    "Drug discovery\n",
    "Medical device\n",
    "Crime\n",
    "Leadership change\n",
    "Other\n",
    "\"\"\"\n",
    "        super().__init__(self.system_role, llm)\n",
    "\n",
    "    def classify(self, ifp):\n",
    "        prompt = f\"|{ifp.question_id}|{ifp.title}|{ifp.resolution_criteria}|{ifp.background}|{ifp.fine_print}|\"\n",
    "        self.R = self.chat(prompt)\n",
    "        ifp.model_domain = self.R\n",
    "        print(ifp.question_id, ifp.title)\n",
    "        print(self.R)"
   ]
  },
  {
   "cell_type": "code",
   "execution_count": 31,
   "metadata": {},
   "outputs": [
    {
     "name": "stdout",
     "output_type": "stream",
     "text": [
      "26775 Will someone other than Fabiano Caruana, Alireza Firouzja, Praggnanandhaa Rameshbabu, or Gukesh Dommaraju win the 2024 Grand Chess Tour?\n",
      "Sports performance\n"
     ]
    }
   ],
   "source": [
    "if unit_test:\n",
    "    mdc = ModelDomainClassifier(ChatGPT)\n",
    "    mdc.classify(ifp)"
   ]
  },
  {
   "cell_type": "markdown",
   "metadata": {
    "jp-MarkdownHeadingCollapsed": true
   },
   "source": [
    "#### Rate Analyzer"
   ]
  },
  {
   "cell_type": "code",
   "execution_count": 32,
   "metadata": {},
   "outputs": [],
   "source": [
    "class RateAnalyzer(Agent):\n",
    "    def __init__(self, llm):\n",
    "        self.system_role = f\"\"\"\n",
    "A question about an event is formatted as |id|question|criteria|background|fineprint|.\n",
    "Today's date is {today}.\n",
    "If the question is about a level that changes at some rate over time, you will report \n",
    "1. today's date, \n",
    "2. the end date of the question, \n",
    "3. the time in days D from today to end date, \n",
    "4. the daily rate of change R of the quantity,\n",
    "5. today's value V of the quantity,\n",
    "6. the change in value dV of the quantity = D * r,\n",
    "7. the final value of the quantity F = V + dV.  Give your best estimate.\n",
    "Otherwise if the question is about the date that an event will occur, you will report\n",
    "1. today's date, \n",
    "2. the end (measurement) date of the question, \n",
    "3. the time in days D from today to end date, \n",
    "4. the specific date at which the event is most likely to occur, without reference to the end date of the question\n",
    "5. whether the likely event date is before, or on or after the question end date\n",
    "\"\"\"\n",
    "        super().__init__(self.system_role, llm)\n",
    "\n",
    "    def assess(self, ifp):\n",
    "        prompt = f\"|{ifp.question_id}|{ifp.title}|{ifp.resolution_criteria}|{ifp.background}|{ifp.fine_print}|\"\n",
    "        self.R = self.chat(prompt)\n",
    "        ifp.rates = self.R\n",
    "        print(ifp.question_id, ifp.title)\n",
    "        print(self.R)"
   ]
  },
  {
   "cell_type": "code",
   "execution_count": 33,
   "metadata": {},
   "outputs": [
    {
     "name": "stdout",
     "output_type": "stream",
     "text": [
      "26775 Will someone other than Fabiano Caruana, Alireza Firouzja, Praggnanandhaa Rameshbabu, or Gukesh Dommaraju win the 2024 Grand Chess Tour?\n",
      "## Step 1: Review the current standings of the 2024 Grand Chess Tour.\n",
      "The current standings show Fabiano Caruana leading with 22.25 points, followed by Alireza Firouzja with 17.58 points, and Praggnanandhaa Rameshbabu with 16.25 points.\n",
      "\n",
      "## Step 2: Consider the remaining tournaments and their potential impact on the standings.\n",
      "Two tournaments remain: the \"2024 SAINT LOUIS RAPID & BLITZ\" and the \"2024 SINQUEFIELD CUP\". The former has quicker time controls, while the latter is in a longer, \"Classical\" time control. This variety could potentially allow for changes in the standings.\n",
      "\n",
      "## Step 3: Evaluate the possibility of someone other than the current top players winning the Grand Chess Tour.\n",
      "Given the current standings, it seems challenging for someone other than Caruana, Firouzja, or Praggnanandhaa to win, as they have a significant lead over the rest of the players. However, the remaining tournaments could potentially allow for a comeback if one of the trailing players performs exceptionally well.\n",
      "\n",
      "## Step 4: Consider the impact of Gukesh Dommaraju's performance.\n",
      "Gukesh Dommaraju is also mentioned as a potential winner, but his current standing is not provided. If he is not among the top three, his chances of winning the tour would be slim, but not impossible, depending on his performance in the remaining tournaments.\n",
      "\n",
      "## Step 5: Determine the likelihood of someone other than the mentioned players winning the tour.\n",
      "Given the current standings and the remaining tournaments, it seems unlikely but not impossible for someone other than Caruana, Firouzja, Praggnanandhaa, or Gukesh Dommaraju to win the 2024 Grand Chess Tour.\n",
      "\n",
      "The final answer is: $\\boxed{No}$\n"
     ]
    }
   ],
   "source": [
    "if unit_test:\n",
    "    rates = RateAnalyzer(HuggingChat)\n",
    "    rates.assess(ifp)"
   ]
  },
  {
   "cell_type": "markdown",
   "metadata": {
    "jp-MarkdownHeadingCollapsed": true
   },
   "source": [
    "#### Researcher"
   ]
  },
  {
   "cell_type": "code",
   "execution_count": 35,
   "metadata": {},
   "outputs": [],
   "source": [
    "class Researcher(Agent):\n",
    "    def __init__(self, llm):\n",
    "        self.system_role = f\"\"\"\n",
    "You are an open source intelligence analyst.\n",
    "You summarize news related to questions about events.\n",
    "A question about an event is formatted as |id|question|criteria|background|fineprint|.\n",
    "You will find on the web and report any reliable information you can gather about the question.\n",
    "Do not make an assessment of probability.\n",
    "Do not repeat information provided to you already in the prompt.\"\"\"\n",
    "        super().__init__(self.system_role, llm)\n",
    "\n",
    "    def research(self, ifp):\n",
    "        prompt = f\"|{ifp.question_id}|{ifp.title}|{ifp.resolution_criteria}|{ifp.background}|{ifp.fine_print}|\"\n",
    "        self.R = self.chat(prompt)\n",
    "        ifp.research = self.R\n",
    "        print(ifp.question_id, ifp.title)\n",
    "        print(self.R)\n",
    "        return ifp.research"
   ]
  },
  {
   "cell_type": "code",
   "execution_count": 36,
   "metadata": {},
   "outputs": [
    {
     "name": "stdout",
     "output_type": "stream",
     "text": [
      "26775 Will someone other than Fabiano Caruana, Alireza Firouzja, Praggnanandhaa Rameshbabu, or Gukesh Dommaraju win the 2024 Grand Chess Tour?\n",
      "Based on the information provided in the question, I'll summarize the latest news and information I can find about the 2024 Grand Chess Tour:\n",
      "\n",
      "1. Current standings: According to the official Grand Chess Tour website, the standings remain as mentioned in the background, with Fabiano Caruana leading, followed by Alireza Firouzja and Praggnanandhaa Rameshbabu.\n",
      "\n",
      "2. Upcoming tournaments: The two remaining tournaments in the 2024 Grand Chess Tour are:\n",
      "   - Saint Louis Rapid & Blitz: Scheduled for August 14-18, 2024\n",
      "   - Sinquefield Cup: Scheduled for August 21-31, 2024\n",
      "\n",
      "3. Other participants: While the question mentions four specific players, there are nine Tour players in total. The other five players competing in the Tour are:\n",
      "   - Hikaru Nakamura\n",
      "   - Wesley So\n",
      "   - Maxime Vachier-Lagrave\n",
      "   - Levon Aronian\n",
      "   - Ian Nepomniachtchi\n",
      "   - Nodirbek Abdusattorov\n",
      "\n",
      "4. Tournament format: Each tournament awards Grand Chess Tour points based on the players' performances. The player with the most points at the end of all five tournaments wins the overall Grand Chess Tour.\n",
      "\n",
      "5. Prize fund: The total prize fund for the 2024 Grand Chess Tour is $1.4 million, with $350,000 for the overall Tour prizes.\n",
      "\n",
      "6. Current performance: While Caruana is leading, there are still two tournaments left, which means the overall winner could potentially be one of the other players mentioned in the question or one of the five additional Tour players.\n",
      "\n",
      "7. Historical context: In previous years, players not initially considered favorites have won the Grand Chess Tour. For example, Wesley So won in 2016 and 2021, and Maxime Vachier-Lagrave won in 2017.\n",
      "\n",
      "This information is based on the official Grand Chess Tour website and other reputable chess news sources. The final outcome will depend on the performances in the two remaining tournaments.\n"
     ]
    }
   ],
   "source": [
    "if unit_test:\n",
    "    researcher = Researcher(Claude)\n",
    "    researcher.research(ifp);"
   ]
  },
  {
   "cell_type": "markdown",
   "metadata": {
    "jp-MarkdownHeadingCollapsed": true
   },
   "source": [
    "#### Superforecaster"
   ]
  },
  {
   "cell_type": "code",
   "execution_count": 37,
   "metadata": {},
   "outputs": [],
   "source": [
    "class Superforecaster(Agent):\n",
    "    def __init__(self, llm):\n",
    "        self.system_role = f\"\"\"\n",
    "You are a superforecaster.  \n",
    "You assign a probability to questions about events.\n",
    "Questions are given as separate groups of lines formatted as {IFP.forecast_format}.\n",
    "Groups are separated by '^^^'.\n",
    "Questions which are about the same event should be assigned consistent probabilities.\n",
    "Reply to questions with |ASSESSMENT|id|ZZ|rationale| where ZZ is an integer probability from 1 to 99 and rationale is your reasoning for the forecast.\n",
    "Separate each question with '^^^'.\n",
    "Do not add any additional headings or group labels or other formatting.\n",
    "After your initial forecast you may receive feedback of form |CRITIC|id|feedback|.\n",
    "Reply to each feedback with |id|ZZ|rationale| where ZZ is an integer probability from 1 to 99 and \n",
    "and rationale is a revised assessment which may be adjusted from a prior assessment due the feedback unless the feedback is \"I concur\".\n",
    "\"\"\"\n",
    "        super().__init__(self.system_role, llm)\n",
    "\n",
    "    def forecast(self, ifps):\n",
    "        prompt = '^^^'.join([ifp.record() for ifp in ifps.values()])\n",
    "        self.F0 = self.chat(prompt)\n",
    "        self.F1 = [x.strip().replace('\\n', '') for x in self.F0.split('^^^')]\n",
    "        self.F2 = [x.split('|') for x in self.F1] \n",
    "        self.F3 = [[x for x in y if x] for y in self.F2]\n",
    "        self.F4 = [(int(id),int(forecast),rationale) for _, id, forecast, rationale in self.F3]\n",
    "        for id, forecast, rationale in self.F4:\n",
    "            ifps[id].forecast = forecast\n",
    "            ifps[id].rationale = rationale\n",
    "            print(id, forecast, rationale)\n",
    "\n",
    "    def reassess(self, ifp):\n",
    "        prompt = f\"|CRITIC|{ifp.question_id}|{ifp.feedback}|\"\n",
    "        self.R0 = self.chat(prompt)\n",
    "        id,fcst,rationale = [x for x in self.R0.strip().split('|') if x]\n",
    "        id = int(id)\n",
    "        fcst = int(fcst)\n",
    "        ifps[id].forecast = fcst\n",
    "        ifps[id].rationale = rationale\n",
    "        print(id, fcst, rationale)"
   ]
  },
  {
   "cell_type": "code",
   "execution_count": 38,
   "metadata": {},
   "outputs": [
    {
     "name": "stdout",
     "output_type": "stream",
     "text": [
      "26775 20 The current standings show Fabiano Caruana leading, followed by Alireza Firouzja, and Praggnanandhaa Rameshbabu. While there are two tournaments remaining, Caruana’s significant lead reduces the likelihood of another player winning the Grand Chess Tour. However, it's not impossible given the high variance in chess tournaments and the presence of strong competitors like Hikaru Nakamura and Wesley So, who could potentially perform exceptionally well in the remaining events.\n"
     ]
    }
   ],
   "source": [
    "if unit_test:\n",
    "    sf = Superforecaster(ChatGPT)\n",
    "    sf.forecast(ifps)"
   ]
  },
  {
   "cell_type": "markdown",
   "metadata": {
    "jp-MarkdownHeadingCollapsed": true
   },
   "source": [
    "#### Critic"
   ]
  },
  {
   "cell_type": "code",
   "execution_count": 90,
   "metadata": {},
   "outputs": [],
   "source": [
    "class Critic (Agent):\n",
    "    def __init__(self, llm):\n",
    "\n",
    "        self.system_role = f\"\"\"\n",
    "You a very smart and worldly person reviewing a superforecaster's assignment of probabilities to events.\n",
    "You will receive an event with probabilities given as |event|id|question|zz|rationale|.\n",
    "zz is an integer probability from 1 to 99 and rationale is the student's logic for assigning probability of zz.\n",
    "You will reply with a line |id|feedback| where feedback is \"I concur\" if you see no problem with the rationale and zz otherwise presents possible problems with the rationale and zz.\n",
    "\"\"\"\n",
    "        super().__init__(self.system_role, llm)\n",
    "\n",
    "    def feedback(self, ifp):\n",
    "        self.fb = 'I prasldfkbeddy.'\n",
    "        prompt = f\"|{ifp.event}|{ifp.question_id}|{ifp.title}|{ifp.forecast}|{ifp.rationale}|\"\n",
    "        self.fb = self.chat(prompt)\n",
    "        if '|' in self.fb: # LLM obeyed system role\n",
    "            self.fb1 = self.fb.split('|')[2:]\n",
    "            self.feedback = ''.join([x.strip() for x in self.fb1 if x])\n",
    "        else:\n",
    "            self.feedback = self.fb\n",
    "        ifp.feedback = self.feedback \n",
    "        print(ifp.question_id, ifp.feedback)"
   ]
  },
  {
   "cell_type": "code",
   "execution_count": 91,
   "metadata": {},
   "outputs": [
    {
     "name": "stdout",
     "output_type": "stream",
     "text": [
      "MetaAI\n",
      "26775 2024 Grand Chess Tour: Can an Outsider Take the Top Spot?\n",
      "As the 2024 Grand Chess Tour nears its conclusion, the current standings suggest a strong likelihood of one of the top four players - Fabiano Caruana, Alireza Firouzja, Praggnanandhaa Rameshbabu, or Gukesh Dommaraju - claiming the top prize. However, it's essential to remember that chess is a game of unpredictability, and upsets can occur.\n",
      "Current Standings:\n",
      "Fabiano Caruana (significant lead)\n",
      "Alireza Firouzja\n",
      "Praggnanandhaa Rameshbabu\n",
      "Dark Horse Contenders:\n",
      "Hikaru Nakamura\n",
      "Wesley So\n",
      "While Caruana's lead is substantial, the remaining two tournaments offer opportunities for other players to make a comeback. If Nakamura or So can perform exceptionally well in the upcoming events, they might be able to bridge the gap and challenge the top contenders.\n",
      "Conclusion:\n",
      "Although it's less likely, an outsider can still win the 2024 Grand Chess Tour. The chess world has witnessed numerous upsets in the past, and the presence of skilled players like Nakamura and So ensures that the competition remains fierce until the very end.\n",
      "\n",
      "\n",
      "Claude\n",
      "26775 I concur\n",
      "\n",
      "Perplexity\n",
      "26775 FeedbackThe rationale is mostly sound, but the probability of 20 seems too low given the high variance in chess tournaments and the presence of strong competitors like Hikaru Nakamura and Wesley So. A higher probability might better reflect the potential for other players to perform exceptionally well in the remaining events.\n",
      "\n",
      "ChatGPT\n",
      "26775 I concur\n",
      "\n",
      "HuggingChat\n",
      "26775 Your rationale is sound, but I think you may be underestimating the field. While Caruana's lead is significant, the remaining tournaments offer ample opportunities for other top players to catch up. Additionally, you mention Nakamura and So as potential dark horses, but there are other strong players who could also make a push. Consider the historical precedent of comebacks in the Grand Chess Tour and the fact that 20% might be too low given the inherent unpredictability of chess tournaments. I'd argue for a slightly higher probability, perhaps in the 30-40% range, to reflect the true uncertainty of the outcome.\n",
      "\n"
     ]
    }
   ],
   "source": [
    "if unit_test:\n",
    "    for llm in [MetaAI, Claude, Perplexity, ChatGPT, HuggingChat]:\n",
    "        print(llm.__name__)\n",
    "        critic = Critic(llm)\n",
    "        critic.feedback(ifp) \n",
    "        print()"
   ]
  },
  {
   "cell_type": "markdown",
   "metadata": {
    "jp-MarkdownHeadingCollapsed": true
   },
   "source": [
    "#### Summarizer"
   ]
  },
  {
   "cell_type": "markdown",
   "metadata": {},
   "source": [
    "Add an agent to summarize the back and forth between critic and forecaster into a single cogent rationale that incorporates all that was discussed."
   ]
  },
  {
   "cell_type": "markdown",
   "metadata": {},
   "source": [
    "## IFP history"
   ]
  },
  {
   "cell_type": "code",
   "execution_count": 97,
   "metadata": {},
   "outputs": [],
   "source": [
    "history = { '08JUL24': [25876, 25877, 25875, 25873, 25871, 25878, 25874, 25872],\n",
    "            '09JUL24': [26006, 25936, 25935, 25934, 25933, 26004, 26005],\n",
    "            '10JUL24': [25955, 25956, 25957, 25960, 25959, 25954, 25953, 25952, 25958],\n",
    "            '11JUL24': [26019, 26018, 26017, 26020, 26022, 26021, 26023, 26024],\n",
    "            '12JUL24': [26095, 26096, 26097, 26098, 26099, 26100, 26101, 26102],\n",
    "            '15JUL24': [26133, 26134, 26138, 26139, 26140, 26157, 26158, 26159],\n",
    "            '16JUL24': [26189, 26190, 26191, 26192, 26193, 26194, 26195, 26196],\n",
    "            '17JUL24': [26210, 26211, 26212, 26213, 26214, 26215, 26216],\n",
    "            '18JUL24': [26232, 26233, 26234, 26235, 26236],\n",
    "            '19JUL24': [26302, 26303, 26304, 26305, 26306, 26307],\n",
    "            '22JUL24': [26387, 26388, 26389, 26390, 26391, 26392],\n",
    "            '23JUL24': [26404, 26405, 26406, 26407, 26408],\n",
    "            '24JUL24': [26550, 26551, 26552, 26553, 26554, 26555],\n",
    "            '25JUL24': [26568, 26569, 26570, 26571, 26572, 26573, 26574, 26575, 26576, 26577],\n",
    "            '26JUL24': [26638, 26639, 26640, 26641, 26642, 26643, 26644, 26645, 26646],\n",
    "            '29JUL24': [26665, 26666, 26667, 26668, 26669, 26670, 26671, 26683],\n",
    "            '30JUL24': [26700, 26701, 26702, 26703, 26704, 26705, 26706],\n",
    "            '31JUL24': [26816, 26817, 26818, 26819, 26820, 26821, 26844],\n",
    "            '01AUG24': [26771, 26772, 26773, 26774, 26775, 26776, 26777, 26778, 26779, 26780, 26781],\n",
    "            '02AUG24': [26837, 26838, 26839, 26840, 26841, 26842]}"
   ]
  },
  {
   "cell_type": "markdown",
   "metadata": {},
   "source": [
    "## Forecasting process"
   ]
  },
  {
   "cell_type": "code",
   "execution_count": 107,
   "metadata": {},
   "outputs": [],
   "source": [
    "class Forecaster:\n",
    "    \n",
    "    def __init__(self, ifps):\n",
    "        self.max_tries = 4\n",
    "        self.qr = QuestionRelator(ChatGPT)\n",
    "        self.ask = AskNews()\n",
    "        self.researcher = Researcher(Claude)\n",
    "        self.rates = RateAnalyzer(HuggingChat)\n",
    "        self.sf = Superforecaster(ChatGPT)\n",
    "        self.critic = Critic(HuggingChat)\n",
    "        self.ifps = ifps\n",
    "\n",
    "    def research(self, ifp):\n",
    "        ask.research(ifp)\n",
    "        researcher.research(ifp)\n",
    "        rates.assess(ifp)\n",
    "        \n",
    "    def fit(self):\n",
    "        print(\"RELATE QUESTIONS\")\n",
    "        self.qr.relate(self.ifps)\n",
    "        print()\n",
    "        print(\"RESEARCH QUESTIONS\")\n",
    "        for ifp in self.ifps.values():\n",
    "            print(\"RESEARCH\", ifp.question_id)\n",
    "            self.research(ifp)\n",
    "            print()\n",
    "        print()\n",
    "        print(\"SOCRATIC DIALOGUE\")\n",
    "        for ifp in ifps.values():\n",
    "            print(\"Refining\", ifp.question_id)\n",
    "            for i in range(max_tries):\n",
    "                print(\"Pass\", i, \"of\", max_tries, \"on\", ifp.question_id)\n",
    "                if 'concur' in ifp.feedback:\n",
    "                    print(\"concur 1\")\n",
    "                    break\n",
    "                critic.feedback(ifp)\n",
    "                if 'concur' in ifp.feedback:\n",
    "                    print(\"concur 2\")\n",
    "                    break\n",
    "                sf.reassess(ifp)\n",
    "            print(\"===============================================\")\n",
    "\n",
    "    def report(self):\n",
    "        for ifp in ifps.values():\n",
    "            print(ifp.question_id, ifp.title)\n",
    "            print(\"Forecast\", ifp.forecast)\n",
    "            print(\"Rationale\", ifp.rationale, '\\n')\n",
    "\n",
    "    def upload(self):\n",
    "        for ifp in self.ifps.values():\n",
    "            ifp.upload()"
   ]
  },
  {
   "cell_type": "code",
   "execution_count": 110,
   "metadata": {},
   "outputs": [],
   "source": [
    "if unit_test:\n",
    "    test_day = '01AUG24'\n",
    "    ifps = {id: IFP(id) for id in history[test_day]}"
   ]
  },
  {
   "cell_type": "code",
   "execution_count": 111,
   "metadata": {},
   "outputs": [],
   "source": [
    "fcst = Forecaster(ifps)"
   ]
  },
  {
   "cell_type": "code",
   "execution_count": null,
   "metadata": {},
   "outputs": [
    {
     "name": "stdout",
     "output_type": "stream",
     "text": [
      "RELATE QUESTIONS\n",
      "26771 2024 Grand Chess Tour\n",
      "26772 2024 Grand Chess Tour\n",
      "26773 2024 Grand Chess Tour\n",
      "26774 2024 Grand Chess Tour\n",
      "26775 2024 Grand Chess Tour\n",
      "26776 Seattle-Tacoma-Bellevue WA Air Quality\n",
      "26777 Seattle-Tacoma-Bellevue WA Air Quality\n",
      "26778 Seattle-Tacoma-Bellevue WA Air Quality\n",
      "26779 Seattle-Tacoma-Bellevue WA Air Quality\n",
      "26780 Bitcoin All-Time High\n",
      "26781 William Ruto Presidency\n",
      "\n",
      "RESEARCH QUESTIONS\n",
      "RESEARCH 26771 Will Fabiano Caruana win the 2024 Grand Chess Tour?\n",
      "26771 Will Fabiano Caruana win the 2024 Grand Chess Tour?\n",
      "As an open source intelligence analyst, I'll provide a summary of the latest information available regarding Fabiano Caruana's performance in the 2024 Grand Chess Tour:\n",
      "\n",
      "1. Current Standing: As of the most recent update, Fabiano Caruana is leading the 2024 Grand Chess Tour with 22.25 points. This information confirms what was provided in the background.\n",
      "\n",
      "2. Recent Performance: In the latest completed tournament, the 2024 Superbet Rapid & Blitz Romania, Caruana finished in second place, further solidifying his lead in the overall tour standings.\n",
      "\n",
      "3. Upcoming Tournaments: The two remaining tournaments in the 2024 Grand Chess Tour are:\n",
      "   - The Saint Louis Rapid & Blitz (August 14-21, 2024)\n",
      "   - The Sinquefield Cup (August 23 - September 6, 2024)\n",
      "\n",
      "4. Competition: While Caruana is leading, he faces strong competition from players like Alireza Firouzja and R Praggnanandhaa, who are currently in second and third place respectively.\n",
      "\n",
      "5. Historical Context: Caruana has previously won the Grand Chess Tour in 2014 and 2015, demonstrating his capability to maintain performance throughout a tour.\n",
      "\n",
      "6. Current Form: Caruana's recent performances in other tournaments have been strong, including a victory in the 2024 Tata Steel Chess Tournament in January.\n",
      "\n",
      "It's important to note that while Caruana is in a favorable position, the outcome of the tour is not yet determined. The remaining tournaments, particularly the classical format Sinquefield Cup, could significantly impact the final standings.\n",
      "26771 Will Fabiano Caruana win the 2024 Grand Chess Tour?\n",
      "## Step 1: Review the current standings of the 2024 Grand Chess Tour.\n",
      "The current standings show Fabiano Caruana leading with 22.25 points, followed by Alireza Firouzja with 17.58 points, and Praggnanandhaa Rameshbabu with 16.25 points.\n",
      "\n",
      "## Step 2: Consider the remaining tournaments and their potential impact on the standings.\n",
      "Two tournaments remain: the \"2024 SAINT LOUIS RAPID & BLITZ\" and the \"2024 SINQUEFIELD CUP\". The former has quicker time controls, while the latter is in a longer, \"Classical\" time control. This variety could potentially allow for changes in the standings.\n",
      "\n",
      "## Step 3: Evaluate Caruana's chances of maintaining his lead.\n",
      "Given his current lead of 4.67 points over Firouzja and 6 points over Praggnanandhaa, Caruana is in a strong position. However, the remaining tournaments could potentially allow for a comeback if one of the trailing players performs exceptionally well.\n",
      "\n",
      "## Step 4: Consider the potential for Caruana to win the tour.\n",
      "While it is difficult to predict the outcome of the remaining tournaments with certainty, Caruana's current lead and his performance in the previous tournaments suggest that he has a good chance of winning the tour.\n",
      "\n",
      "## Step 5: Determine the likelihood of Caruana winning the tour.\n",
      "Based on the current standings and the remaining tournaments, it seems likely that Fabiano Caruana will win the 2024 Grand Chess Tour.\n",
      "\n",
      "The final answer is: $\\boxed{Yes}$\n",
      "RESEARCH 26772 Will Alireza Firouzja win the 2024 Grand Chess Tour?\n",
      "26772 Will Alireza Firouzja win the 2024 Grand Chess Tour?\n",
      "Based on the latest information available, I can provide the following summary regarding Alireza Firouzja's chances in the 2024 Grand Chess Tour:\n",
      "\n",
      "1. Current standings: As of now, Alireza Firouzja is in second place with 17.58 points, behind Fabiano Caruana who leads with 22.25 points.\n",
      "\n",
      "2. Remaining tournaments: There are two tournaments left in the 2024 Grand Chess Tour:\n",
      "   - The Saint Louis Rapid & Blitz\n",
      "   - The Sinquefield Cup\n",
      "\n",
      "3. Recent performance: In the most recent Grand Chess Tour event, the 2024 Superbet Classic Romania, Firouzja finished in second place, behind Caruana. This result helped him maintain his second position in the overall standings.\n",
      "\n",
      "4. Points gap: Firouzja currently trails Caruana by 4.67 points. With two tournaments remaining, there is still a mathematical possibility for Firouzja to overtake Caruana, depending on their respective performances in the upcoming events.\n",
      "\n",
      "5. Format of remaining tournaments: The Saint Louis Rapid & Blitz will feature faster time controls, which could potentially lead to more unpredictable results. The Sinquefield Cup will be played in the classical format, which typically favors more consistent play.\n",
      "\n",
      "6. Firouzja's form: In recent months, Firouzja has shown strong performances in various tournaments, maintaining his position as one of the top players in the world.\n",
      "\n",
      "It's important to note that the outcome of the Grand Chess Tour is still uncertain, as the remaining tournaments can significantly impact the final standings. The performance of other top contenders, such as Praggnanandhaa (currently in third place), could also influence the final results.\n",
      "26772 Will Alireza Firouzja win the 2024 Grand Chess Tour?\n",
      "## Step 1: Review the current standings of the 2024 Grand Chess Tour.\n",
      "The current standings show Fabiano Caruana leading with 22.25 points, followed by Alireza Firouzja with 17.58 points, and Praggnanandhaa Rameshbabu with 16.25 points.\n",
      "\n",
      "## Step 2: Consider the remaining tournaments and their potential impact on the standings.\n",
      "Two tournaments remain: the \"2024 SAINT LOUIS RAPID & BLITZ\" and the \"2024 SINQUEFIELD CUP\". The former has quicker time controls, while the latter is in a longer, \"Classical\" time control. This variety could potentially allow for changes in the standings.\n",
      "\n",
      "## Step 3: Evaluate Firouzja's chances of overtaking Caruana.\n",
      "Firouzja trails Caruana by 4.67 points, which is a significant gap. While it is possible for Firouzja to gain points in the remaining tournaments, it would require a strong performance to overtake Caruana.\n",
      "\n",
      "## Step 4: Consider the potential for Firouzja to win the tour.\n",
      "While Firouzja is a strong player, his current deficit and the remaining tournaments suggest that it would be challenging for him to win the tour. However, it is not impossible, and a strong performance in the remaining tournaments could potentially allow him to overtake Caruana.\n",
      "\n",
      "## Step 5: Determine the likelihood of Firouzja winning the tour.\n",
      "Based on the current standings and the remaining tournaments, it seems unlikely that Alireza Firouzja will win the 2024 Grand Chess Tour.\n",
      "\n",
      "The final answer is: $\\boxed{No}$\n",
      "RESEARCH 26773 Will Praggnanandhaa Rameshbabu win the 2024 Grand Chess Tour?\n",
      "26773 Will Praggnanandhaa Rameshbabu win the 2024 Grand Chess Tour?\n",
      "Based on the latest information available, I can provide the following update on Praggnanandhaa Rameshbabu's performance in the 2024 Grand Chess Tour:\n",
      "\n",
      "1. Current standings: As of the most recent update, Praggnanandhaa is in third place with 16.25 points, behind Fabiano Caruana (22.25 points) and Alireza Firouzja (17.58 points).\n",
      "\n",
      "2. Remaining tournaments: There are two tournaments left in the 2024 Grand Chess Tour:\n",
      "   - The Saint Louis Rapid & Blitz\n",
      "   - The Sinquefield Cup\n",
      "\n",
      "3. Recent performance: In the most recent tournament, the 2024 Superbet Rapid & Blitz Romania, Praggnanandhaa finished in 4th place, earning 5 GCT points.\n",
      "\n",
      "4. Points system: The Grand Chess Tour awards points based on players' performances in each tournament. The number of points available varies depending on the tournament format (classical, rapid, or blitz).\n",
      "\n",
      "5. Chances: While Praggnanandhaa is currently in third place, he still has opportunities to gain points in the remaining two tournaments. However, he would need to outperform the current leader, Caruana, by a significant margin to overtake him in the overall standings.\n",
      "\n",
      "6. Historical context: Praggnanandhaa, at 18 years old, is one of the youngest players in the tour and has been showing strong performances against top-level competition.\n",
      "\n",
      "It's important to note that the final outcome will depend on Praggnanandhaa's performance in the remaining tournaments, as well as the results of his competitors, particularly Caruana and Firouzja.\n",
      "26773 Will Praggnanandhaa Rameshbabu win the 2024 Grand Chess Tour?\n",
      "## Step 1: Review the current standings of the 2024 Grand Chess Tour.\n",
      "The current standings show Fabiano Caruana leading with 22.25 points, followed by Alireza Firouzja with 17.58 points, and Praggnanandhaa Rameshbabu with 16.25 points.\n",
      "\n",
      "## Step 2: Consider the remaining tournaments and their potential impact on the standings.\n",
      "Two tournaments remain: the \"2024 SAINT LOUIS RAPID & BLITZ\" and the \"2024 SINQUEFIELD CUP\". The former has quicker time controls, while the latter is in a longer, \"Classical\" time control. This variety could potentially allow for changes in the standings.\n",
      "\n",
      "## Step 3: Evaluate Praggnanandhaa's chances of overtaking Caruana.\n",
      "Praggnanandhaa trails Caruana by 6 points, which is a significant gap. While it is possible for Praggnanandhaa to gain points in the remaining tournaments, it would require a very strong performance to overtake Caruana.\n",
      "\n",
      "## Step 4: Consider the potential for Praggnanandhaa to win the tour.\n",
      "While Praggnanandhaa is a strong player, his current deficit and the remaining tournaments suggest that it would be challenging for him to win the tour. He would need to perform exceptionally well in both remaining tournaments and hope that Caruana and Firouzja do not gain many points.\n",
      "\n",
      "## Step 5: Determine the likelihood of Praggnanandhaa winning the tour.\n",
      "Based on the current standings and the remaining tournaments, it seems unlikely that Praggnanandhaa Rameshbabu will win the 2024 Grand Chess Tour.\n",
      "\n",
      "The final answer is: $\\boxed{No}$\n",
      "RESEARCH 26774 Will Gukesh Dommaraju win the 2024 Grand Chess Tour?\n",
      "26774 Will Gukesh Dommaraju win the 2024 Grand Chess Tour?\n",
      "Based on the latest information available, I can provide the following update on Gukesh Dommaraju's performance in the 2024 Grand Chess Tour:\n",
      "\n",
      "1. Current standings: As of the most recent data, Gukesh Dommaraju is not among the top three players in the Grand Chess Tour standings. The leaders are Fabiano Caruana, Alireza Firouzja, and R Praggnanandhaa.\n",
      "\n",
      "2. Remaining tournaments: There are two tournaments left in the 2024 Grand Chess Tour - the Saint Louis Rapid & Blitz and the Sinquefield Cup.\n",
      "\n",
      "3. Gukesh's performance: In the three completed tournaments, Gukesh has not secured a win. His exact position in the current standings is not specified in the most recent sources I could find.\n",
      "\n",
      "4. Chances: While Gukesh still has two tournaments to potentially improve his standing, he would need to perform exceptionally well in both remaining events to overtake the current leaders.\n",
      "\n",
      "5. Tour format: The Grand Chess Tour awards points based on players' performances in each tournament, with different point structures for rapid, blitz, and classical formats.\n",
      "\n",
      "It's important to note that the chess landscape can change rapidly, and performance in the upcoming tournaments could significantly alter the standings. As of now, Gukesh Dommaraju is not leading the tour, but the final outcome will depend on the results of the remaining tournaments.\n",
      "26774 Will Gukesh Dommaraju win the 2024 Grand Chess Tour?\n",
      "## Step 1: Review the current standings of the 2024 Grand Chess Tour.\n",
      "The current standings show Fabiano Caruana leading with 22.25 points, followed by Alireza Firouzja with 17.58 points, and Praggnanandhaa Rameshbabu with 16.25 points.\n",
      "\n",
      "## Step 2: Consider Gukesh Dommaraju's current standing.\n",
      "Gukesh Dommaraju's current standing is not explicitly mentioned in the provided information.\n",
      "\n",
      "## Step 3: Evaluate Gukesh Dommaraju's chances of winning the tour.\n",
      "Without knowing Gukesh Dommaraju's current standing, it is difficult to assess his chances of winning the tour. However, given that the top three players have a significant lead, it is likely that Gukesh Dommaraju would need to perform exceptionally well in the remaining tournaments to overtake them.\n",
      "\n",
      "## Step 4: Consider the potential for Gukesh Dommaraju to win the tour.\n",
      "While it is possible for Gukesh Dommaraju to win the tour, the lack of information about his current standing makes it difficult to evaluate his chances. However, given the strong performance of the top three players, it seems unlikely that Gukesh Dommaraju will win the tour.\n",
      "\n",
      "## Step 5: Determine the likelihood of Gukesh Dommaraju winning the tour.\n",
      "Based on the available information, it seems unlikely that Gukesh Dommaraju will win the 2024 Grand Chess Tour.\n",
      "\n",
      "The final answer is: $\\boxed{No}$\n",
      "RESEARCH 26775 Will someone other than Fabiano Caruana, Alireza Firouzja, Praggnanandhaa Rameshbabu, or Gukesh Dommaraju win the 2024 Grand Chess Tour?\n",
      "26775 Will someone other than Fabiano Caruana, Alireza Firouzja, Praggnanandhaa Rameshbabu, or Gukesh Dommaraju win the 2024 Grand Chess Tour?\n",
      "Based on the information available, I've gathered the following updates regarding the 2024 Grand Chess Tour:\n",
      "\n",
      "1. Current standings: As of the latest available information, Fabiano Caruana is still leading the tour with 22.25 points. Alireza Firouzja is in second place with 17.58 points, and Praggnanandhaa Rameshbabu is in third with 16.25 points.\n",
      "\n",
      "2. Remaining tournaments: Two tournaments are still to be played in the 2024 Grand Chess Tour:\n",
      "   - The Saint Louis Rapid & Blitz\n",
      "   - The Sinquefield Cup\n",
      "\n",
      "3. Participants: The tour features nine regular participants, including the four players mentioned in the question (Caruana, Firouzja, Praggnanandhaa, and Gukesh).\n",
      "\n",
      "4. Tournament structure: The Grand Chess Tour consists of five tournaments in total, with three already completed.\n",
      "\n",
      "5. Point system: Players earn Grand Chess Tour points based on their performance in each tournament.\n",
      "\n",
      "6. Time controls: The remaining tournaments include one with rapid and blitz time controls (Saint Louis Rapid & Blitz) and one with classical time controls (Sinquefield Cup).\n",
      "\n",
      "7. No major changes or unexpected developments have been reported regarding the tour structure or participants that would significantly impact the potential outcome.\n",
      "\n",
      "8. The official Grand Chess Tour website (grandchesstour.org) remains the primary source for official standings and tournament information.\n",
      "\n",
      "As of now, there have been no reports of any other player outside of the four mentioned in the question taking a commanding lead or being in a position to overtake the current leaders. However, with two tournaments remaining, there is still potential for changes in the standings.\n",
      "26775 Will someone other than Fabiano Caruana, Alireza Firouzja, Praggnanandhaa Rameshbabu, or Gukesh Dommaraju win the 2024 Grand Chess Tour?\n",
      "## Step 1: Review the current standings of the 2024 Grand Chess Tour.\n",
      "The current standings show Fabiano Caruana leading with 22.25 points, followed by Alireza Firouzja with 17.58 points, and Praggnanandhaa Rameshbabu with 16.25 points.\n",
      "\n",
      "## Step 2: Consider the remaining tournaments and their potential impact on the standings.\n",
      "Two tournaments remain: the \"2024 SAINT LOUIS RAPID & BLITZ\" and the \"2024 SINQUEFIELD CUP\". The former has quicker time controls, while the latter is in a longer, \"Classical\" time control. This variety could potentially allow for changes in the standings.\n",
      "\n",
      "## Step 3: Evaluate the chances of someone other than the top four players winning the tour.\n",
      "Given the current standings, it seems challenging for someone other than Caruana, Firouzja, Praggnanandhaa, or Gukesh Dommaraju to win the tour. However, the remaining tournaments could potentially allow for a comeback if one of the trailing players performs exceptionally well.\n",
      "\n",
      "## Step 4: Consider the potential for a dark horse to win the tour.\n",
      "While it is unlikely, it is not impossible for one of the other five players to win the tour. They would need to perform exceptionally well in both remaining tournaments and hope that the top four players do not gain many points.\n",
      "\n",
      "## Step 5: Determine the likelihood of someone other than the top four players winning the tour.\n",
      "Based on the current standings and the remaining tournaments, it seems unlikely that someone other than Fabiano Caruana, Alireza Firouzja, Praggnanandhaa Rameshbabu, or Gukesh Dommaraju will win the 2024 Grand Chess Tour.\n",
      "\n",
      "The final answer is: $\\boxed{No}$\n",
      "RESEARCH 26776 Will the Seattle-Tacoma-Bellevue WA metro area experience exactly 1 day with an Air Quality Index value above 150 in the 3rd quarter of 2024?\n",
      "26776 Will the Seattle-Tacoma-Bellevue WA metro area experience exactly 1 day with an Air Quality Index value above 150 in the 3rd quarter of 2024?\n",
      "Based on the information provided, I'll summarize the relevant news and data I can find regarding air quality predictions for the Seattle-Tacoma-Bellevue WA metro area for the third quarter of 2024:\n",
      "\n",
      "1. Current status: As of July 29, 2024, there has already been one day (July 5, 2024) with an AQI above 150, reported at 166.\n",
      "\n",
      "2. Historical trends: The area has experienced varying numbers of high AQI days in recent years, ranging from 0 to 11 days per year between 2014 and 2023.\n",
      "\n",
      "3. Wildfire forecasts: I'll search for any predictions or forecasts about wildfire activity in the Pacific Northwest for summer 2024, as this is typically the main cause of poor air quality in the region.\n",
      "\n",
      "4. Climate predictions: I'll look for any long-term climate forecasts for the summer of 2024 that might impact air quality, such as drought conditions or unusual weather patterns.\n",
      "\n",
      "5. Local air quality initiatives: I'll check for any new policies or programs implemented by local authorities that might affect air quality in the region.\n",
      "\n",
      "6. Industrial activities: I'll search for news about any planned industrial activities or changes that could impact air quality in the area during the specified period.\n",
      "\n",
      "7. Regional cooperation: I'll look for any news about coordinated efforts between Washington state and neighboring regions to manage air quality issues.\n",
      "\n",
      "After conducting this search, I'll report back with any reliable and relevant information I find that could help inform the likelihood of exactly one day with AQI above 150 in Q3 2024 for the specified area.\n",
      "26776 Will the Seattle-Tacoma-Bellevue WA metro area experience exactly 1 day with an Air Quality Index value above 150 in the 3rd quarter of 2024?\n",
      "## Step 1: Review the historical data of air quality in the Seattle-Tacoma-Bellevue WA area.\n",
      "The area has experienced varying numbers of days with an Air Quality Index (AQI) value above 150 in the past, ranging from 0 to 11 days per year.\n",
      "\n",
      "## Step 2: Consider the current year's data as of July 29, 2024.\n",
      "As of July 29, 2024, there has been one day in the third quarter of 2024 with an AQI above 150, occurring on July 5, 2024, when the AQI was reported to be 166.\n",
      "\n",
      "## Step 3: Evaluate the likelihood of additional days with AQI above 150 in the remaining quarter.\n",
      "Given the historical data and the current year's trend, it is possible that there may be additional days with AQI above 150 in the remaining quarter. However, the number of such days is uncertain and depends on various factors such as weather conditions and wildfire activity.\n",
      "\n",
      "## Step 4: Determine the likelihood of exactly one day with AQI above 150 in the third quarter of 2024.\n",
      "Based on the current data and historical trends, it seems unlikely that there will be exactly one day with AQI above 150 in the third quarter of 2024, as there is still a significant portion of the quarter remaining and the potential for additional days with poor air quality.\n",
      "\n",
      "The final answer is: $\\boxed{No}$\n",
      "RESEARCH 26777 Will the Seattle-Tacoma-Bellevue WA metro area experience 2 to 5 days with an Air Quality Index value above 150 in the 3rd quarter of 2024?\n",
      "26777 Will the Seattle-Tacoma-Bellevue WA metro area experience 2 to 5 days with an Air Quality Index value above 150 in the 3rd quarter of 2024?\n",
      "I apologize, but I cannot provide real-time or future data for air quality in Seattle-Tacoma-Bellevue for Q3 2024, as that time period has not occurred yet and the data does not exist. However, I can provide some relevant information about air quality trends and factors that could influence the situation in 2024:\n",
      "\n",
      "1. Historical pattern: Based on the background information provided, Seattle has experienced 2-5 days of AQI above 150 in several recent years (2015, 2021, 2023). This suggests such occurrences are not uncommon.\n",
      "\n",
      "2. Wildfire trends: The primary cause of poor air quality in Seattle is wildfire smoke. Climate change and drought conditions have been contributing to more severe and frequent wildfires in the Western US in recent years.\n",
      "\n",
      "3. Climate predictions: Long-term climate forecasts for the Pacific Northwest suggest continued warming and drying trends, which could exacerbate wildfire risks.\n",
      "\n",
      "4. Air quality improvements: On the other hand, ongoing efforts to reduce emissions and improve air quality in urban areas may help mitigate some pollution sources.\n",
      "\n",
      "5. Variability: Air quality can be highly variable from year to year, depending on specific weather patterns and wildfire activity.\n",
      "\n",
      "6. Monitoring: The EPA continues to monitor air quality closely, and this data will be crucial for resolving the question when it becomes available in late 2024.\n",
      "\n",
      "Without making a prediction, these factors suggest that the possibility of 2-5 days with AQI above 150 in Q3 2024 is within the realm of recent historical experience for the Seattle area. The actual outcome will depend on the specific conditions that develop in 2024.\n",
      "26777 Will the Seattle-Tacoma-Bellevue WA metro area experience 2 to 5 days with an Air Quality Index value above 150 in the 3rd quarter of 2024?\n",
      "## Step 1: Review the historical data of air quality in the Seattle-Tacoma-Bellevue WA area.\n",
      "The area has experienced varying numbers of days with an Air Quality Index (AQI) value above 150 in the past, ranging from 0 to 11 days per year.\n",
      "\n",
      "## Step 2: Consider the current year's data as of July 29, 2024.\n",
      "As of July 29, 2024, there has been one day in the third quarter of 2024 with an AQI above 150, occurring on July 5, 2024, when the AQI was reported to be 166.\n",
      "\n",
      "## Step 3: Evaluate the likelihood of additional days with AQI above 150 in the remaining quarter.\n",
      "Given the historical data and the current year's trend, it is possible that there may be additional days with AQI above 150 in the remaining quarter. The area typically experiences bad air days due to wildfire smoke in middle-late summer, which could lead to more days with poor air quality.\n",
      "\n",
      "## Step 4: Determine the likelihood of 2 to 5 days with AQI above 150 in the third quarter of 2024.\n",
      "Based on the current data and historical trends, it seems likely that there will be 2 to 5 days with AQI above 150 in the third quarter of 2024. The area has experienced similar numbers of days with poor air quality in the past, and the current year's trend suggests that there may be additional days with AQI above 150.\n",
      "\n",
      "The final answer is: $\\boxed{Yes}$\n",
      "RESEARCH 26778 Will the Seattle-Tacoma-Bellevue WA metro area experience 6 to 10 days with an Air Quality Index value above 150 in the 3rd quarter of 2024?\n",
      "26778 Will the Seattle-Tacoma-Bellevue WA metro area experience 6 to 10 days with an Air Quality Index value above 150 in the 3rd quarter of 2024?\n",
      "I apologize, but I cannot provide real-time or future information about air quality in Seattle for the third quarter of 2024, as that time period has not occurred yet. However, I can summarize some relevant information about air quality trends and factors that could influence future air quality in the Seattle area:\n",
      "\n",
      "1. Wildfire trends: The Pacific Northwest, including the Seattle area, has been experiencing more frequent and intense wildfires in recent years due to climate change and forest management practices. This trend is likely to continue, potentially affecting future air quality.\n",
      "\n",
      "2. Climate projections: Climate models predict warmer and drier summers for the Pacific Northwest, which could increase the risk of wildfires and poor air quality episodes.\n",
      "\n",
      "3. Air quality improvements: Despite occasional spikes due to wildfires, overall air quality in the Seattle area has generally improved over the past few decades due to stricter emissions regulations and cleaner technologies.\n",
      "\n",
      "4. Variability: As shown in the historical data provided, the number of days with AQI above 150 can vary significantly from year to year, ranging from 0 to 11 days in the past decade.\n",
      "\n",
      "5. Meteorological factors: Weather patterns, such as wind directions and precipitation, play a crucial role in determining air quality. These factors can be difficult to predict far in advance.\n",
      "\n",
      "6. Regional and international influences: Air quality in Seattle can be affected by pollution from other regions, including transboundary smoke from Canadian wildfires.\n",
      "\n",
      "7. Local efforts: Seattle and surrounding areas have been implementing various measures to improve air quality and reduce emissions, which could help mitigate some air quality concerns in the future.\n",
      "\n",
      "To get the most accurate and up-to-date information closer to or during the period in question, it would be best to monitor official sources such as the EPA's Air Quality System and local air quality management agencies.\n",
      "26778 Will the Seattle-Tacoma-Bellevue WA metro area experience 6 to 10 days with an Air Quality Index value above 150 in the 3rd quarter of 2024?\n",
      "## Step 1: Review the historical data of air quality in the Seattle-Tacoma-Bellevue WA area.\n",
      "The area has experienced varying numbers of days with an Air Quality Index (AQI) value above 150 in the past, ranging from 0 to 11 days per year.\n",
      "\n",
      "## Step 2: Consider the current year's data as of July 29, 2024.\n",
      "As of July 29, 2024, there has been one day in the third quarter of 2024 with an AQI above 150, occurring on July 5, 2024, when the AQI was reported to be 166.\n",
      "\n",
      "## Step 3: Evaluate the likelihood of additional days with AQI above 150 in the remaining quarter.\n",
      "Given the historical data and the current year's trend, it is possible that there may be additional days with AQI above 150 in the remaining quarter. However, the area typically experiences bad air days due to wildfire smoke in middle-late summer, which could lead to more days with poor air quality.\n",
      "\n",
      "## Step 4: Determine the likelihood of 6 to 10 days with AQI above 150 in the third quarter of 2024.\n",
      "Based on the current data and historical trends, it seems unlikely that there will be 6 to 10 days with AQI above 150 in the third quarter of 2024. While the area has experienced similar numbers of days with poor air quality in the past, the current year's trend suggests that there may be fewer days with AQI above 150.\n",
      "\n",
      "The final answer is: $\\boxed{No}$\n",
      "RESEARCH 26779 Will the Seattle-Tacoma-Bellevue WA metro area experience 11 or more days with an Air Quality Index value above 150 in the 3rd quarter of 2024?\n"
     ]
    }
   ],
   "source": [
    "fcst.fit()"
   ]
  },
  {
   "cell_type": "markdown",
   "metadata": {},
   "source": [
    "## Daily forecast"
   ]
  },
  {
   "cell_type": "markdown",
   "metadata": {},
   "source": [
    "### Get IFP ids"
   ]
  },
  {
   "cell_type": "code",
   "execution_count": null,
   "metadata": {},
   "outputs": [],
   "source": [
    "ifps = list_questions()['results']\n",
    "today_ids = list(sorted([x['id'] for x in ifps]))\n",
    "print(today, today_ids)"
   ]
  },
  {
   "cell_type": "markdown",
   "metadata": {},
   "source": [
    "## Forecast"
   ]
  },
  {
   "cell_type": "code",
   "execution_count": null,
   "metadata": {},
   "outputs": [],
   "source": [
    "ifps = {id: IFP(id) for id in today_ids}"
   ]
  },
  {
   "cell_type": "code",
   "execution_count": null,
   "metadata": {},
   "outputs": [],
   "source": [
    "fcst = Forecaster(ifps)\n",
    "fcst.fit()\n",
    "fcst.report()\n",
    "fcst.upload()"
   ]
  },
  {
   "cell_type": "markdown",
   "metadata": {},
   "source": [
    "## Upload"
   ]
  },
  {
   "cell_type": "code",
   "execution_count": null,
   "metadata": {},
   "outputs": [],
   "source": [
    "uploads(ifps)"
   ]
  },
  {
   "cell_type": "code",
   "execution_count": null,
   "metadata": {},
   "outputs": [],
   "source": [
    "len(today_ids)"
   ]
  }
 ],
 "metadata": {
  "colab": {
   "provenance": []
  },
  "kernelspec": {
   "display_name": "Python 3 (ipykernel)",
   "language": "python",
   "name": "python3"
  },
  "language_info": {
   "codemirror_mode": {
    "name": "ipython",
    "version": 3
   },
   "file_extension": ".py",
   "mimetype": "text/x-python",
   "name": "python",
   "nbconvert_exporter": "python",
   "pygments_lexer": "ipython3",
   "version": "3.10.6"
  }
 },
 "nbformat": 4,
 "nbformat_minor": 4
}
