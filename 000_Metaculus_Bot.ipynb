{
 "cells": [
  {
   "cell_type": "markdown",
   "metadata": {},
   "source": [
    "# 000 Forecasting Bot"
   ]
  },
  {
   "cell_type": "markdown",
   "metadata": {},
   "source": [
    "Starting from https://colab.research.google.com/drive/1_Il5h2Ed4zFa6Z3bROVCE68LZcSi4wHX?usp=sharing"
   ]
  },
  {
   "cell_type": "markdown",
   "metadata": {},
   "source": [
    "## API Keys"
   ]
  },
  {
   "cell_type": "markdown",
   "metadata": {},
   "source": [
    "In order to run this notebook as is, you'll need to enter a few API keys (use the key icon on the left to input them):\n",
    "\n",
    "- `METACULUS_TOKEN`: you can find your Metaculus token under your bot's user settings page: https://www.metaculus.com/accounts/settings/, or on the bot registration page where you created the account: https://www.metaculus.com/aib/\n",
    "- `OPENAPI_API_KEY`: get one from OpenAIs page: https://platform.openai.com/settings/profile?tab=api-keys\n",
    "- `PERPLEXITY_API_KEY` - used to search up-to-date information about the question. Get one from https://www.perplexity.ai/settings/api"
   ]
  },
  {
   "cell_type": "code",
   "execution_count": 1,
   "metadata": {},
   "outputs": [],
   "source": [
    "from omegaconf import OmegaConf\n",
    "\n",
    "tokens = OmegaConf.create(\"\"\"\n",
    "METACULUS_TOKEN: xx\n",
    "OPENAI_API_KEY: yy\n",
    "OPENAI_MODEL: gpt-4o\n",
    "PERPLEXITY_API_KEY: zz\n",
    "PERPLEXITY_MODEL: llama-3-sonar-large-32k-online\"\"\")\n",
    "\n",
    "token_fn = \"tokens.yaml\"\n",
    "# OmegaConf.save(config=tokens, f=token_fn)\n",
    "config = OmegaConf.load(token_fn)\n",
    "\n",
    "def pr(tokens):\n",
    "    print(OmegaConf.to_yaml(config))"
   ]
  },
  {
   "cell_type": "raw",
   "metadata": {},
   "source": [
    "pr(config)"
   ]
  },
  {
   "cell_type": "markdown",
   "metadata": {},
   "source": [
    "## Prompt Engineering"
   ]
  },
  {
   "cell_type": "markdown",
   "metadata": {},
   "source": [
    "### Perplexity Prompt"
   ]
  },
  {
   "cell_type": "code",
   "execution_count": 2,
   "metadata": {},
   "outputs": [],
   "source": [
    "PERPLEXITY_PROMPT = \"\"\"\n",
    "You are an assistant to a superforecaster.\n",
    "The superforecaster will give you a question they intend to forecast on.\n",
    "To be a great assistant, you generate a concise but detailed rundown of the most relevant news, including if the question would resolve Yes or No based on current information.\n",
    "You do not produce forecasts yourself.\n",
    "You do not make statements about difficulty of prediction.\n",
    "You only provide evidence for predictions.\n",
    "You never draw conclusions.\n",
    "\"\"\""
   ]
  },
  {
   "cell_type": "markdown",
   "metadata": {
    "id": "K1v6Sy5K-NJT"
   },
   "source": [
    "### OpenAI Prompt"
   ]
  },
  {
   "cell_type": "markdown",
   "metadata": {
    "id": "K1v6Sy5K-NJT"
   },
   "source": [
    "You can change the prompt below to experiment. Key parameters that you can include in your prompt are:\n",
    "\n",
    "*   `{title}` The question itself\n",
    "*   `{summary_report}` A up to date news compliation generated from Perplexity\n",
    "*   `{background}` The background section of the Metaculus question. This comes from the `description` field on the question\n",
    "*   `{fine_print}` The fine print section of the question\n",
    "*   `{today}` Today's date. Remember that your bot doesn't know the date unless you tell it explicitly!\n",
    "\n",
    "\n",
    "**IMPORTANT**: As you experiment with changing the prompt, be aware that the last number output by GPT will be used as the forecast probability. The last line in the template specifies that."
   ]
  },
  {
   "cell_type": "code",
   "execution_count": 3,
   "metadata": {
    "id": "vNStT_eV8tLG"
   },
   "outputs": [],
   "source": [
    "PROMPT_TEMPLATE = \"\"\"\n",
    "You are a professional forecaster interviewing for a job.\n",
    "The interviewer is also a professional forecaster, with a strong track record of\n",
    "accurate forecasts of the future. They will ask you a question, and your task is\n",
    "to provide the most accurate forecast you can. To do this, you evaluate past data\n",
    "and trends carefully, make use of comparison classes of similar events, take into\n",
    "account base rates about how past events unfolded, and outline the best reasons\n",
    "for and against any particular outcome. Don't use forecasting predictions from Metaculus or any other crowd forecasting site.\n",
    "If there is a well-known mathematical model for this type of question, please cite and apply the model, and show the steps of your work to apply it.\n",
    "For viral transmission questions, describe the best viral transmission model for that kind of virus, and apply it.\n",
    "You know that great forecasters don't just forecast according to the \"vibe\" of the question and the considerations.\n",
    "Instead, they think about the question in a structured way, recording their\n",
    "reasoning as they go, and they always consider multiple perspectives that\n",
    "usually give different conclusions, which they reason about together.\n",
    "You can't know the future, and the interviewer knows that, so you do not need\n",
    "to hedge your uncertainty, you are simply trying to give the most accurate numbers\n",
    "that will be evaluated when the events later unfold.\n",
    "\n",
    "Your interview question is:\n",
    "{title}\n",
    "\n",
    "Your research assistant says:\n",
    "{summary_report}\n",
    "\n",
    "background:\n",
    "{background}\n",
    "\n",
    "fine_print:\n",
    "{fine_print}\n",
    "\n",
    "Today is {today}.\n",
    "\n",
    "You write your rationale and give your final answer as: \"Probability: ZZ%\", 0-100\n",
    "\"\"\""
   ]
  },
  {
   "cell_type": "markdown",
   "metadata": {
    "id": "iDukuXArbgdm"
   },
   "source": [
    "## LLM and Metaculus Interaction"
   ]
  },
  {
   "cell_type": "markdown",
   "metadata": {
    "id": "iDukuXArbgdm"
   },
   "source": [
    "This section sets up some simple helper code you can use to get data about forecasting questions and to submit a prediction"
   ]
  },
  {
   "cell_type": "code",
   "execution_count": 4,
   "metadata": {
    "id": "HifodCwcGU0j"
   },
   "outputs": [],
   "source": [
    "import datetime\n",
    "import json\n",
    "import os\n",
    "import requests\n",
    "import re\n",
    "from openai import OpenAI\n",
    "from tqdm import tqdm"
   ]
  },
  {
   "cell_type": "code",
   "execution_count": 5,
   "metadata": {
    "id": "HifodCwcGU0j"
   },
   "outputs": [],
   "source": [
    "AUTH_HEADERS = {\"headers\": {\"Authorization\": f\"Token {config.METACULUS_TOKEN}\"}}\n",
    "API_BASE_URL = \"https://www.metaculus.com/api2\"\n",
    "WARMUP_TOURNAMENT_ID = 3349\n",
    "SUBMIT_PREDICTION = True\n",
    "\n",
    "def find_number_before_percent(s):\n",
    "    # Use a regular expression to find all numbers followed by a '%'\n",
    "    matches = re.findall(r'(\\d+)%', s)\n",
    "    if matches:\n",
    "        # Return the last number found before a '%'\n",
    "        return int(matches[-1])\n",
    "    else:\n",
    "        # Return None if no number found\n",
    "        return None\n",
    "\n",
    "def post_question_comment(question_id, comment_text):\n",
    "    \"\"\"\n",
    "    Post a comment on the question page as the bot user.\n",
    "    \"\"\"\n",
    "\n",
    "    response = requests.post(\n",
    "        f\"{API_BASE_URL}/comments/\",\n",
    "        json={\n",
    "            \"comment_text\": comment_text,\n",
    "            \"submit_type\": \"N\",\n",
    "            \"include_latest_prediction\": True,\n",
    "            \"question\": question_id,\n",
    "        },\n",
    "        **AUTH_HEADERS,\n",
    "    )\n",
    "    response.raise_for_status()\n",
    "    print(\"Comment posted for \", question_id)\n",
    "\n",
    "def post_question_prediction(question_id, prediction_percentage):\n",
    "    \"\"\"\n",
    "    Post a prediction value (between 1 and 100) on the question.\n",
    "    \"\"\"\n",
    "    url = f\"{API_BASE_URL}/questions/{question_id}/predict/\"\n",
    "    response = requests.post(\n",
    "        url,\n",
    "        json={\"prediction\": float(prediction_percentage) / 100},\n",
    "        **AUTH_HEADERS,\n",
    "    )\n",
    "    response.raise_for_status()\n",
    "    print(\"Prediction posted for \", question_id)\n",
    "\n",
    "\n",
    "def get_question_details(question_id):\n",
    "    \"\"\"\n",
    "    Get all details about a specific question.\n",
    "    \"\"\"\n",
    "    url = f\"{API_BASE_URL}/questions/{question_id}/\"\n",
    "    response = requests.get(\n",
    "        url,\n",
    "        **AUTH_HEADERS,\n",
    "    )\n",
    "    response.raise_for_status()\n",
    "    return json.loads(response.content)\n",
    "\n",
    "def list_questions(tournament_id=WARMUP_TOURNAMENT_ID, offset=0, count=1000):\n",
    "    \"\"\"\n",
    "    List (all details) {count} questions from the {tournament_id}\n",
    "    \"\"\"\n",
    "    url_qparams = {\n",
    "        \"limit\": count,\n",
    "        \"offset\": offset,\n",
    "        \"has_group\": \"false\",\n",
    "        \"order_by\": \"-activity\",\n",
    "        \"forecast_type\": \"binary\",\n",
    "        \"project\": tournament_id,\n",
    "        \"status\": \"open\",\n",
    "        \"type\": \"forecast\",\n",
    "        \"include_description\": \"true\",\n",
    "    }\n",
    "    url = f\"{API_BASE_URL}/questions/\"\n",
    "    response = requests.get(url, **AUTH_HEADERS, params=url_qparams)\n",
    "    response.raise_for_status()\n",
    "    data = json.loads(response.content)\n",
    "    return data\n",
    "\n",
    "def call_perplexity(query):\n",
    "    url = \"https://api.perplexity.ai/chat/completions\"\n",
    "    headers = {\n",
    "        \"accept\": \"application/json\",\n",
    "        \"authorization\": f\"Bearer {config.PERPLEXITY_API_KEY}\",\n",
    "        \"content-type\": \"application/json\",\n",
    "    }\n",
    "    payload = {\n",
    "        \"model\": config.PERPLEXITY_MODEL,\n",
    "        \"messages\": [\n",
    "            {\n",
    "                \"role\": \"system\",\n",
    "                \"content\": PERPLEXITY_PROMPT,\n",
    "            },\n",
    "            {\"role\": \"user\", \"content\": query},\n",
    "        ],\n",
    "    }\n",
    "    response = requests.post(url=url, json=payload, headers=headers)\n",
    "    response.raise_for_status()\n",
    "    content = response.json()[\"choices\"][0][\"message\"][\"content\"]\n",
    "    return content\n",
    "\n",
    "def get_gpt_prediction(question_details):\n",
    "    today = datetime.datetime.now().strftime(\"%Y-%m-%d\")\n",
    "    client = OpenAI(api_key=config.OPENAI_API_KEY)\n",
    "\n",
    "    title = question_details[\"title\"]\n",
    "    resolution_criteria = question_details[\"resolution_criteria\"]\n",
    "    background = question_details[\"description\"]\n",
    "    fine_print = question_details[\"fine_print\"]\n",
    "\n",
    "    # Comment this line to not use perplexity\n",
    "    summary_report = call_perplexity(title)\n",
    "\n",
    "    chat_completion = client.chat.completions.create(\n",
    "        #model=\"gpt-3.5-turbo-1106\",\n",
    "        model=config.OPENAI_MODEL,\n",
    "        messages=[\n",
    "        {\n",
    "            \"role\": \"user\",\n",
    "            \"content\": PROMPT_TEMPLATE.format(\n",
    "                title=title,\n",
    "                summary_report=summary_report,\n",
    "                today=today,\n",
    "                background=background,\n",
    "                fine_print=fine_print,\n",
    "            )\n",
    "        }\n",
    "        ]\n",
    "    )\n",
    "\n",
    "    gpt_text = chat_completion.choices[0].message.content\n",
    "\n",
    "    # Regular expression to find the number following 'Probability: '\n",
    "    probability_match = find_number_before_percent(gpt_text)\n",
    "\n",
    "    # Extract the number if a match is found\n",
    "    probability = None\n",
    "    if probability_match:\n",
    "        probability = int(probability_match) # int(match.group(1))\n",
    "        print(f\"The extracted probability is: {probability}%\")\n",
    "        probability = min(max(probability, 1), 99) # To prevent extreme forecasts\n",
    "\n",
    "    return probability, summary_report, gpt_text"
   ]
  },
  {
   "cell_type": "markdown",
   "metadata": {
    "id": "9WUvm1tVmMkO"
   },
   "source": [
    "## Forecaster"
   ]
  },
  {
   "cell_type": "code",
   "execution_count": 6,
   "metadata": {},
   "outputs": [],
   "source": [
    "class Forecaster:\n",
    "\n",
    "    def __init__(self, question_id):\n",
    "        self.question_id = question_id\n",
    "        self.forecast()\n",
    "\n",
    "    def forecast(self):\n",
    "        self.question_details = get_question_details(self.question_id)\n",
    "        self.prediction, self.perplexity_result, self.gpt_result = get_gpt_prediction(self.question_details)\n",
    "        self.comment = f\"PERPLEXITY {config.PERPLEXITY_MODEL}\\n\\n\" + self.perplexity_result + \"\\n\\n#########\\n\\n\" + f\"GPT {config.OPENAI_MODEL}\\n\\n\" + self.gpt_result\n",
    "\n",
    "    def str(self):\n",
    "        rpt = \"\"\n",
    "        rpt += f\"\"\"\n",
    "# {self.question_id} {self.question_details['title']}\n",
    "\n",
    "## FORECAST\n",
    "{self.prediction}\n",
    "\n",
    "## PERPLEXITY\n",
    "{self.perplexity_result}\n",
    "\n",
    "## OPENAI\n",
    "{self.gpt_result}\n",
    "\"\"\"\n",
    "        return rpt\n",
    "\n",
    "    def upload(self):\n",
    "        post_question_prediction(self.question_id, self.prediction)\n",
    "        post_question_comment(self.question_id, self.comment)"
   ]
  },
  {
   "cell_type": "markdown",
   "metadata": {},
   "source": [
    "## Daily forecast"
   ]
  },
  {
   "cell_type": "markdown",
   "metadata": {},
   "source": [
    "### Get IFP ids"
   ]
  },
  {
   "cell_type": "code",
   "execution_count": 7,
   "metadata": {},
   "outputs": [],
   "source": [
    "ifps = list_questions()['results']\n",
    "today_ids = [x['id'] for x in ifps]\n",
    "# today_ids = [25876, 25877, 25875, 25873, 25871, 25878, 25874, 25872] # 08JUL24\n",
    "# today_ids = [26006, 25936, 25935, 25934, 25933, 26004, 26005] # 09JUL24\n",
    "# today_ids = [25955, 25956, 25957, 25960, 25959, 25954, 25953, 25952, 25958] # 10JUL24"
   ]
  },
  {
   "cell_type": "code",
   "execution_count": 8,
   "metadata": {},
   "outputs": [
    {
     "data": {
      "text/plain": [
       "[25955, 25956, 25957, 25960, 25959, 25954, 25953, 25952, 25958]"
      ]
     },
     "execution_count": 8,
     "metadata": {},
     "output_type": "execute_result"
    }
   ],
   "source": [
    "today_ids"
   ]
  },
  {
   "cell_type": "markdown",
   "metadata": {},
   "source": [
    "## Forecast"
   ]
  },
  {
   "cell_type": "code",
   "execution_count": 9,
   "metadata": {},
   "outputs": [
    {
     "name": "stderr",
     "output_type": "stream",
     "text": [
      " 11%|█████                                        | 1/9 [00:21<02:49, 21.25s/it]"
     ]
    },
    {
     "name": "stdout",
     "output_type": "stream",
     "text": [
      "The extracted probability is: 20%\n"
     ]
    },
    {
     "name": "stderr",
     "output_type": "stream",
     "text": [
      " 22%|██████████                                   | 2/9 [00:39<02:18, 19.73s/it]"
     ]
    },
    {
     "name": "stdout",
     "output_type": "stream",
     "text": [
      "The extracted probability is: 2%\n"
     ]
    },
    {
     "name": "stderr",
     "output_type": "stream",
     "text": [
      " 33%|███████████████                              | 3/9 [00:56<01:50, 18.34s/it]"
     ]
    },
    {
     "name": "stdout",
     "output_type": "stream",
     "text": [
      "The extracted probability is: 38%\n"
     ]
    },
    {
     "name": "stderr",
     "output_type": "stream",
     "text": [
      " 44%|████████████████████                         | 4/9 [01:11<01:24, 16.88s/it]"
     ]
    },
    {
     "name": "stdout",
     "output_type": "stream",
     "text": [
      "The extracted probability is: 15%\n"
     ]
    },
    {
     "name": "stderr",
     "output_type": "stream",
     "text": [
      " 56%|█████████████████████████                    | 5/9 [01:29<01:09, 17.47s/it]"
     ]
    },
    {
     "name": "stdout",
     "output_type": "stream",
     "text": [
      "The extracted probability is: 15%\n"
     ]
    },
    {
     "name": "stderr",
     "output_type": "stream",
     "text": [
      " 67%|██████████████████████████████               | 6/9 [01:56<01:02, 20.71s/it]"
     ]
    },
    {
     "name": "stdout",
     "output_type": "stream",
     "text": [
      "The extracted probability is: 40%\n"
     ]
    },
    {
     "name": "stderr",
     "output_type": "stream",
     "text": [
      " 78%|███████████████████████████████████          | 7/9 [02:59<01:08, 34.49s/it]"
     ]
    },
    {
     "name": "stdout",
     "output_type": "stream",
     "text": [
      "The extracted probability is: 60%\n"
     ]
    },
    {
     "name": "stderr",
     "output_type": "stream",
     "text": [
      " 89%|████████████████████████████████████████     | 8/9 [03:17<00:29, 29.18s/it]"
     ]
    },
    {
     "name": "stdout",
     "output_type": "stream",
     "text": [
      "The extracted probability is: 45%\n"
     ]
    },
    {
     "name": "stderr",
     "output_type": "stream",
     "text": [
      "100%|█████████████████████████████████████████████| 9/9 [03:35<00:00, 23.93s/it]"
     ]
    },
    {
     "name": "stdout",
     "output_type": "stream",
     "text": [
      "The extracted probability is: 65%\n"
     ]
    },
    {
     "name": "stderr",
     "output_type": "stream",
     "text": [
      "\n"
     ]
    }
   ],
   "source": [
    "predictions = {}\n",
    "for question_id in tqdm(today_ids):\n",
    "    predictions[question_id] = Forecaster(question_id)"
   ]
  },
  {
   "cell_type": "markdown",
   "metadata": {},
   "source": [
    "## Report"
   ]
  },
  {
   "cell_type": "code",
   "execution_count": 10,
   "metadata": {},
   "outputs": [
    {
     "data": {
      "text/markdown": [
       "\n",
       "# 25955 Before October 1, 2024, will there be an armed forces death in a conflict opposing China to Taiwan, the United States, the Philippines, or Japan?\n",
       "\n",
       "## FORECAST\n",
       "20\n",
       "\n",
       "## PERPLEXITY\n",
       "Based on the provided sources, there is no evidence of an armed forces death in a conflict opposing China to Taiwan, the United States, the Philippines, or Japan as of July 10, 2024. The sources highlight ongoing tensions and military build-ups in the region, but there is no reported incident of a fatal conflict involving these countries.\n",
       "\n",
       "Key points from the sources:\n",
       "\n",
       "- The ongoing dispute between China and Taiwan has led to heightened military confrontation in the Taiwan Strait, with China developing its military capabilities and the United States supporting Taiwan.\n",
       "- Japan and the Philippines have signed a defense pact to counter China's growing assertiveness in the region, but there is no reported conflict resulting in deaths.\n",
       "- The United States is preparing for a potential conflict with China, with the Marines retooling their strategy to fight on an island-hopping battlefield across Asia, but no fatal conflict has been reported.\n",
       "- There are concerns about the potential economic and security implications of a conflict between China and Taiwan, but no such conflict has occurred yet.\n",
       "\n",
       "Based on the current information, the answer to the query would be \"No\" as of July 10, 2024.\n",
       "\n",
       "## OPENAI\n",
       "To provide a thorough and professional forecast regarding the likelihood of an armed forces death in a conflict opposing China to Taiwan, the United States, the Philippines, or Japan before October 1, 2024, I will follow a structured approach. This will involve evaluating past data, identifying trends, considering base rates, and taking various perspectives into account.\n",
       "\n",
       "### Historical Context and Trends\n",
       "\n",
       "**China and Taiwan:**\n",
       "- **Escalating Military Presence**: Historical tensions between China and Taiwan have been marked by recurring military drills and incursions into Taiwan's ADIZ. The recent large-scale drills and aggressive posturing are significant but not unprecedented.\n",
       "- **Previous Incidents**: Historically, these demonstrations have not resulted in direct armed conflict resulting in death, despite high tensions.\n",
       "\n",
       "**China and the Philippines:**\n",
       "- **South China Sea Disputes**: Incidents like the June 17, 2024 collision near the Spratly Islands reflect ongoing disputes. Historically, while there have been confrontations, they have typically not escalated to the point of fatalities within short periods.\n",
       "  \n",
       "**United States and Japan:**\n",
       "- **Strategic Alliances and Drills**: The US and Japan have long been involved in military exercises in the region, such as RIMPAC. While these exercises often provoke strong rhetoric from China, they have not historically resulted in fatal confrontations within short periods.\n",
       "\n",
       "### Base Rates and Comparison Classes\n",
       "By analyzing the frequency of fatal incidents resulting from similar high-tension periods in the past:\n",
       "- **Average Incident Rate**: Historically, direct armed conflicts resulting in deaths between China and these entities are rare despite elevated tensions and military posturing.\n",
       "- **Duration of High Tension Periods**: Historically, high-tension periods have extended for months or years without resulting in direct fatalities, though they occasionally lead to non-fatal confrontations or proxy conflicts.\n",
       "\n",
       "### Reasons For and Against the Outcome\n",
       "\n",
       "**Reasons Supporting an Armed Forces Death:**\n",
       "1. **Heightened Aggressiveness**: China's increased military drills and the US's more aggressive military posturing could create more opportunities for accidental or intentional clashes.\n",
       "2. **Escalation of Existing Incidents**: The collision with the Philippine vessel and Taiwan's increased air defense engagements increase the chances of an escalated incident leading to fatalities.\n",
       "3. **Political Pressure**: Domestic political pressures within the involved countries may push leaders towards more aggressive responses to provocations.\n",
       "\n",
       "**Reasons Against an Armed Forces Death:**\n",
       "1. **Risk Aversion**: Both China and the involved countries understand the high risks of escalation and may be incentivized to avoid fatalities to prevent larger conflicts.\n",
       "2. **Protocols and Communication Channels**: Established military communication channels and protocols aim to de-escalate confrontations before they result in fatalities.\n",
       "3. **Historical Precedents**: Despite numerous provocations historically, fatal incidents have been exceptionally rare, suggesting a substantial buffer against such outcomes.\n",
       "\n",
       "### Integration of Models and Expert Opinions\n",
       "- **Conflict Escalation Models**: Using Richardson's arms race model and applying it to the context of regional disputes, minimal escalation to fatal incidents is typically predicted due to deterrence and mutual assured destruction doctrines.\n",
       "- **Geopolitical Risk Analysis**: Expert geopolitical risk assessments often predict a continuation of non-fatal confrontations and strategic posturing rather than full-scale conflict resulting in fatalities.\n",
       "\n",
       "### Final Probability Calculation\n",
       "Integrating all factors, the likelihood of an armed forces death in a direct conflict before October 1, 2024 seems low, but not negligible due to the volatility and recent escalations. Historical data and current trends suggest a strong presence of high tensions but a relatively low conversion to fatal incidents.\n",
       "\n",
       "### Final Assessment\n",
       "Based on the above reasoning:\n",
       "\n",
       "**Probability: 20%**\n",
       "\n",
       "This percentage reflects that while the current environment is highly volatile, historical precedence and ongoing risk management practices suggest a low but non-zero likelihood of fatalities in the near term.\n",
       "\n",
       "# 25956 Will Democrats have a brokered convention in 2024?\n",
       "\n",
       "## FORECAST\n",
       "2\n",
       "\n",
       "## PERPLEXITY\n",
       "The current situation suggests that a brokered convention is unlikely for the Democrats in 2024. Here is a summary of the relevant news:\n",
       "\n",
       "- President Joe Biden's lackluster debate performance has led to concerns among Democrats about his suitability for office, with some strategists and donors urging for an alternative candidate.\n",
       "- Despite these concerns, it is highly unlikely that Biden will be replaced as the nominee without his voluntary withdrawal from the race.\n",
       "- According to party rules, it would be extremely challenging to replace Biden without his consent, as he has secured the necessary delegates to be nominated.\n",
       "- If Biden were to drop out, Democrats are discussing various scenarios, including a mini-primary, an open convention, or a brokered convention, to select a new nominee.\n",
       "- However, as of now, Biden remains steadfast in his decision to continue his campaign, making a brokered convention less likely.\n",
       "\n",
       "Based on the current information, it appears that a brokered convention is not imminent for the Democrats in 2024.\n",
       "\n",
       "## OPENAI\n",
       "## Rationale\n",
       "\n",
       "To answer the question of whether the Democrats will have a brokered convention in 2024, it's essential to apply a structured approach that incorporates historical data, current political dynamics, and potential future scenarios.\n",
       "\n",
       "### Step 1: Historical Context and Base Rates\n",
       "\n",
       "- **Frequency of Brokered Conventions**: Since the beginning of the 20th century, the Democratic Party has had brokered conventions 5 times out of 31 presidential election cycles, giving a base rate of approximately 16.1%.\n",
       "\n",
       "### Step 2: Current Political Dynamics\n",
       "\n",
       "1. **Candidates and Delegates**:\n",
       "   - President Joe Biden has already secured the necessary delegates for the nomination.\n",
       "   - The Democratic Party's current plan is to hold its roll call virtually before the in-person convention, reducing the likelihood of a brokered convention due to lack of delegate majority.\n",
       "\n",
       "2. **Withdrawal Scenarios**:\n",
       "   - **Voluntary Withdrawal**: If Biden were to voluntarily withdraw, various scenarios (mini-primary, open convention, brokered convention) could unfold. However, Biden has shown no indication of stepping down so far.\n",
       "   - **Forced Withdrawal**: Replacing Biden without his consent is described as \"extremely challenging,\" making a brokered convention less likely.\n",
       "\n",
       "3. **Debate Performance and Party Sentiment**:\n",
       "   - Biden's poor debate performance has led to concerns among some Democrats, but key party leaders like Barack Obama and James E. Clyburn continue to support him, indicating that the party is more likely to rally around him rather than push for an alternative process such as a brokered convention.\n",
       "\n",
       "### Step 3: Analysis of Polling and Public Sentiment\n",
       "\n",
       "- **Polls and Electability Concerns**:\n",
       "   - Post-debate polling indicates increased concern over Biden's fitness but shows the race remains virtually tied with Trump. While there is some pressure for Biden to step down, it has not reached a point where party leaders are moving towards a brokered convention.\n",
       "\n",
       "### Step 4: Outlining Reasons For and Against a Brokered Convention\n",
       "\n",
       "- **Reasons For a Brokered Convention**:\n",
       "  - Biden’s poor debate performance could further erode confidence among Democrats.\n",
       "  - A significant decline in Biden's poll numbers might increase calls for an alternative candidate.\n",
       "\n",
       "- **Reasons Against a Brokered Convention**:\n",
       "  - Biden's secured delegates and the difficulty in replacing him without his consent.\n",
       "  - Continued support from key Democratic leaders and strategists.\n",
       "  - The logistical and procedural difficulties of organizing a brokered convention given the current plan of holding a virtual roll call.\n",
       "\n",
       "### Step 5: Mathematical Model and Scenario Analysis\n",
       "\n",
       "Given the base rate (16.1%) and incorporating the current political landscape:\n",
       "\n",
       "- **Historical Probability Augmented by Current Dynamics**:\n",
       "  - **Current Probability of Withdrawal**: Assume a low probability of Biden voluntarily or forcibly withdrawing (around 5-10%).\n",
       "  - **Probability of Organized Opposition Leading to Brokered Convention**: Given that secured delegates and leadership support are strong, assume around a 5-10% chance.\n",
       "\n",
       "### Final Probability Calculation\n",
       "\n",
       "Combining these factors with a weighted average approach:\n",
       "\\[ P(\\text{Brokered Convention}) = \\text{Historical Base Rate} \\times \\left(\\text{Adjusted Current Dynamics} \\right) \\]\n",
       "\\[ P(\\text{Brokered Convention}) = 16.1\\% \\times (5\\% + 5\\%) = 16.1\\% \\times 10\\% = 1.61\\% \\]\n",
       "\n",
       "### Conclusion\n",
       "\n",
       "Given all the above considerations:\n",
       "- **Probability**: 2%\n",
       "\n",
       "This reflects a conservative estimate that accounts for both historical frequency and the contemporary political environment.\n",
       "\n",
       "**Final Answer**: Probability: 2%\n",
       "\n",
       "# 25957 Will Tadej Pogačar win the Tour de France 2024?\n",
       "\n",
       "## FORECAST\n",
       "38\n",
       "\n",
       "## PERPLEXITY\n",
       "Based on the current information, Tadej Pogacar still leads the overall standings, but Jonas Vingegaard's win in Stage 11 has narrowed the gap. Pogacar leads Remco Evenepoel by 1 minute, 6 seconds, and Vingegaard is in third place at 1 minute, 14 seconds. While Pogacar remains in the lead, the intense competition and Vingegaard's recent win suggest that the battle for the top spot is far from over.\n",
       "\n",
       "## OPENAI\n",
       "To forecast whether Tadej Pogačar will win the Tour de France 2024, I'll systematically analyze the factors that influence the outcome, including historical data, current standings, team dynamics, and potential uncertainties.\n",
       "\n",
       "### Step 1: Analyzing Historical Data and Past Performances\n",
       "- **Tadej Pogačar's History:** Pogačar is a two-time winner of the Tour de France (2020, 2021). He's known for his strong climbing abilities, time-trial skills, and overall consistency throughout the race.\n",
       "- **Jonas Vingegaard's History:** Vingegaard, who closed the gap in Stage 11, won the Tour de France in 2022 and 2023, indicating he is a formidable competitor, particularly in challenging mountain stages.\n",
       "\n",
       "### Step 2: Analyzing Current Standings and Recent Performance\n",
       "- **Current Standings as of July 10, 2024:**\n",
       "  - **1st:** Tadej Pogačar\n",
       "  - **2nd:** Remco Evenepoel (1 minute, 6 seconds behind)\n",
       "  - **3rd:** Jonas Vingegaard (1 minute, 14 seconds behind)\n",
       "- **Recent Performance:** Vingegaard's win in Stage 11 suggests he is currently in excellent form. \n",
       "\n",
       "### Step 3: Comparing Competitors\n",
       "- **Remco Evenepoel:** Known for his aggressive racing style and versatility, Evenepoel poses a significant threat, although his past performances in Grand Tours have been less consistent than Pogačar's.\n",
       "- **Jonas Vingegaard:** Has proven to be particularly strong in mountainous stages and has a history of strong finishes. He is only 1 minute, 14 seconds behind Pogačar.\n",
       "\n",
       "### Step 4: Team Support\n",
       "- **Pogačar’s Team (UAE Team Emirates):** Known for providing strong support in both flat and mountainous stages, essential for maintaining and defending the yellow jersey.\n",
       "- **Vingegaard’s Team (Jumbo-Visma):** Has a strong support structure, known for their tactical nous and ability to control the race.\n",
       "\n",
       "### Step 5: External Factors\n",
       "- **Accidents/Health:** Cyclists are always at risk of crashes or health issues, which could impact their performance or lead to withdrawals.\n",
       "- **Weather/Conditions:** Adverse weather can be a wildcard affecting stage outcomes, although top contenders generally cope well under varying conditions.\n",
       "\n",
       "### Step 6: Mathematical Model for Forecasting\n",
       "Without specific crowd forecasts, I will use a Bayesian updating approach to incorporate current performance data. Based on historical win probabilities and updating with Stage 11 outcomes, we can calculate the posterior probability.\n",
       "\n",
       "**Prior Probabilities (Before Stage 11):**\n",
       "- Pogačar: 40%\n",
       "- Vingegaard: 40%\n",
       "- Evenepoel: 20%\n",
       "\n",
       "**Performance in Stage 11 (favorable to Vingegaard):**\n",
       "- Let's assume a slight shift due to performance:\n",
       "  - Updated Pogačar: 35%\n",
       "  - Updated Vingegaard: 45%\n",
       "  - Updated Evenepoel: 20%\n",
       "\n",
       "### Step 7: Integration and Conclusion\n",
       "Considering all factors:\n",
       "1. **Current Lead:** Pogačar leads but by a narrow margin.\n",
       "2. **Competitor's Form:** Vingegaard showed strong recent form.\n",
       "3. **Support and Consistency:** Pogačar has the team and past consistency.\n",
       "4. **External Uncertainties:** Equal risks apply to all top contenders but are hard to predict.\n",
       "\n",
       "Bringing it all together, given the information, the combined probability weights favor Vingegaard slightly due to momentum but keep Pogačar as a very close contender.\n",
       "\n",
       "### Final Forecast\n",
       "**Probability Tadej Pogačar wins the Tour de France 2024: 38%**\n",
       "\n",
       "# 25960 Will there be any reported human-to-human transmission of highly pathogenic avian influenza H5N1 globally before Sept 30, 2024?\n",
       "\n",
       "## FORECAST\n",
       "15\n",
       "\n",
       "## PERPLEXITY\n",
       "There have been no reported cases of sustained human-to-human transmission of highly pathogenic avian influenza H5N1 globally. While there have been some instances of limited, non-sustained human-to-human transmission, these have been rare and not widespread. The World Health Organization (WHO) and the Centers for Disease Control and Prevention (CDC) have been monitoring the situation closely, and their risk assessments suggest that the public health risk posed by this virus remains low.\n",
       "\n",
       "The most recent human case reported in the United States involved a person who had exposure to dairy cattle in Texas, where HPAI A(H5N1) has been confirmed in dairy herds. The patient reported mild symptoms and is recovering. This case does not change the overall risk assessment for the general public, which remains low.\n",
       "\n",
       "Given the current information, it is unclear whether there will be any reported human-to-human transmission of H5N1 before September 30, 2024. However, the ongoing monitoring and surveillance efforts by global health authorities will continue to provide updates on the situation.\n",
       "\n",
       "## OPENAI\n",
       "### Rationale:\n",
       "\n",
       "1. **Review of Past Data and Trends:**\n",
       "   - Historically, H5N1 has caused a significant number of human infections since 1997, with a very high case fatality rate of approximately 50%.\n",
       "   - Human infections have generally been associated with direct exposure to infected birds, and sustained human-to-human transmission has not been observed.\n",
       "\n",
       "2. **Recent Case Evidence:**\n",
       "   - The most recent human case in the US, as of April 2024, was associated with exposure to infected dairy cattle in Texas. \n",
       "   - The patient exhibited mild symptoms and is recovering, which suggests no new alarming trend in the severity or transmission pattern of H5N1.\n",
       "\n",
       "3. **Surveillance Reports:**\n",
       "   - The CDC describes the public health risk from H5N1 as low and states that there has been no known human-to-human transmission of contemporary A(H5N1) viruses circulating in birds globally.\n",
       "   - Global health authorities including WHO and CDC are rigorously monitoring the situation and have noted limited, non-sustained human-to-human transmission in the past.\n",
       "\n",
       "4. **Comparison with Similar Instances:**\n",
       "   - Limited human-to-human transmission has occasionally occurred with avian influenza viruses, but these do not usually lead to sustained transmission chains. \n",
       "   - Previous short-lived human transmission events were isolated and did not lead to broader outbreaks.\n",
       "\n",
       "5. **Mathematical Models and Base Rates:**\n",
       "   - The basic reproduction number \\( R_0 \\) for H5N1 in humans has historically been below 1, indicating that each infected individual, on average, infects less than one other person.\n",
       "   - Given this \\( R_0 \\), sustained human-to-human transmission would be unlikely without significant virus mutation.\n",
       "\n",
       "6. **Evaluation of Transmission Models:**\n",
       "   - Standard SEIR (Susceptible, Exposed, Infected, Recovered) models for disease spread indicate that without significant mutation increasing the \\( R_0 \\), it is improbable for human-to-human transmission to become sustained.\n",
       "\n",
       "7. **Factors For and Against Human-to-Human Transmission:**\n",
       "    **For:**\n",
       "   - Possible genetic mutation of the virus facilitating human transmission.\n",
       "   - Potential underreporting or surveillance gaps.\n",
       "\n",
       "    **Against:**\n",
       "   - Strong surveillance and quick intervention measures by global health authorities.\n",
       "   - Historic precedent of limited, non-sustained human-to-human transmission.\n",
       "   - Current genetic makeup of the virus that does not support efficient human-to-human spread.\n",
       "\n",
       "8. **Future Projections:**\n",
       "   - Considering ongoing global monitoring and the lack of evidence for sustained human-to-human transmission, the probability that at least one reported case of human-to-human transmission will occur before September 30, 2024, remains relatively low but not zero.\n",
       "\n",
       "### Final Answer:\n",
       "Based on the reviewed data, trends, and systematic analysis, the probability of reported human-to-human transmission of highly pathogenic avian influenza H5N1 globally before September 30, 2024, is:\n",
       "\n",
       "**Probability: 15%**\n",
       "\n",
       "# 25959 Will someone other than Tadej Pogačar or Jonas Vingegaard win the Tour de France 2024?\n",
       "\n",
       "## FORECAST\n",
       "15\n",
       "\n",
       "## PERPLEXITY\n",
       "The current state of the Tour de France 2024 suggests that Tadej Pogačar and Jonas Vingegaard are the top contenders. Pogačar leads the General Classification by 1 minute, 6 seconds over Remco Evenepoel, while Vingegaard sits in third place at 1 minute, 14 seconds. \n",
       "\n",
       "Recent events have shown Vingegaard's form is improving, as he won Stage 11 by beating Pogačar in a sprint finish. This has sparked discussions about Vingegaard's growing strength and potential to challenge Pogačar's lead. \n",
       "\n",
       "Other riders, such as Primoz Roglic and Remco Evenepoel, are also in contention but currently trail Pogačar and Vingegaard in the General Classification. \n",
       "\n",
       "Based on current information, it appears that the competition is primarily between Pogačar and Vingegaard, with other riders still in the running but facing an uphill battle. Therefore, it is likely that the winner of the Tour de France 2024 will be either Tadej Pogačar or Jonas Vingegaard.\n",
       "\n",
       "## OPENAI\n",
       "To forecast whether someone other than Tadej Pogačar or Jonas Vingegaard will win the Tour de France 2024, we should consider several key factors: historical performance, current positioning in the General Classification (GC), team support, performance trends, and potential for accidents or other unexpected events.\n",
       "\n",
       "### Step-by-Step Reasoning\n",
       "\n",
       "#### 1. **Historical Performance**\n",
       "- Both Tadej Pogačar and Jonas Vingegaard have been dominant figures in recent Tour de France editions. Pogačar won in 2020 and 2021, while Vingegaard claimed victory in 2022 and 2023. This historical precedent establishes them as consistent top performers.\n",
       "\n",
       "#### 2. **Current Positioning (as of July 10, 2024)**\n",
       "- Tadej Pogačar is leading the GC by 1 minute, 6 seconds over Remco Evenepoel, with Jonas Vingegaard close behind in third place at 1 minute, 14 seconds.\n",
       "- The positions suggest that both Pogačar and Vingegaard are in strong contention, with Evenepoel being the closest rival.\n",
       "\n",
       "#### 3. **Form and Stage Wins**\n",
       "- Vingegaard's recent Stage 11 win over Pogačar indicates that he is in good form, potentially even improving as the race progresses.\n",
       "- Pogačar has shown consistent performance and has maintained the lead, indicating a solid form as well.\n",
       "\n",
       "#### 4. **Team Support**\n",
       "- Strong team support is crucial in the Tour de France. Both Pogačar (UAE Team Emirates) and Vingegaard (Jumbo-Visma) have excellent teams that have consistently demonstrated their capability to support their leaders.\n",
       "- Other contenders, such as Primoz Roglic (also Jumbo-Visma) and Remco Evenepoel (Soudal-QuickStep), have good team support but may lack the same level of dominance.\n",
       "\n",
       "#### 5. **Unexpected Events**\n",
       "- Accidents, health issues, and disqualifications can change the dynamics of the race unpredictably. While this is inherently unpredictable, looking at historical race data, top contenders usually have lower crash rates due to experience and team support.\n",
       "\n",
       "### Analysis and Probability Calculation\n",
       "\n",
       "To structure this forecast, let's break it down with some reasoning:\n",
       "\n",
       "- **Base Rate Estimation Using Historical Data**: Over the past five editions (2019-2023), the winner has come from a top 3 position in the GC as of this point in the race 80% of the time.\n",
       "- **Current Performance and Form**: Given Pogačar and Vingegaard’s recent dominance and current standings, the conditional probability that one of them wins is high—let's place this probability at around 70%.\n",
       "- **Team and Support Factors**: Their teams' consistent strong support enhances their likelihood of maintaining their positions effectively.\n",
       "\n",
       "Balancing these considerations:\n",
       "\n",
       "**Probabilities:**\n",
       "- Pogačar or Vingegaard wins: 90%\n",
       "- Someone other than Pogačar or Vingegaard wins: 10%\n",
       "\n",
       "**Adjusted for Unexpected Events**:\n",
       "- While Pogačar and Vingegaard have a high probability of winning, unexpected events (injuries, crashes, dramatic form changes) can tilt the scales. Usually, we assume a small but non-negligible incidence, let's adjust it slightly by 5% more.\n",
       "\n",
       "So, the adjusted probabilities might be:\n",
       "- Pogačar or Vingegaard wins: 85%\n",
       "- Someone other than Pogačar or Vingegaard wins: 15%\n",
       "\n",
       "### Final Answer\n",
       "\n",
       "**Probability: 15%**\n",
       "\n",
       "This reflects the considered likelihood that someone other than Tadej Pogačar or Jonas Vingegaard will win the Tour de France 2024, taking into account historical performance, current standings, team support, and potential for unexpected events.\n",
       "\n",
       "# 25954 Will the Prime Minister of France belong to a coalition other than New Popular Front or Together on July 30, 2024?\n",
       "\n",
       "## FORECAST\n",
       "40\n",
       "\n",
       "## PERPLEXITY\n",
       "Based on the current information, it appears that the Prime Minister of France might not belong to the New Popular Front or Together coalition on July 30, 2024. Here's a summary of the relevant news:\n",
       "\n",
       "- The New Popular Front coalition, which includes the far-left Unbowed France, the Socialists, and the Ecologists, is poised to secure the most seats in the parliamentary election but falls short of an absolute majority.\n",
       "- President Macron has announced that he will wait for the formation of a broad coalition by political parties before selecting a new prime minister, emphasizing the need for a unified \"Republican\" majority.\n",
       "- The current government will continue to manage state affairs until a consensus is reached.\n",
       "- The New Popular Front advocates for the prime ministerial position, citing their status as the largest parliamentary group, but Macron's decision will be guided by shared values such as democratic principles, European integration, and the safeguarding of French sovereignty.\n",
       "- The possibility of a hung parliament and the need for coalition-building create uncertainty around the prime minister's affiliation.\n",
       "\n",
       "Given these developments, it is likely that the Prime Minister of France on July 30, 2024, will belong to a coalition other than the New Popular Front or Together, as Macron seeks to build a broad coalition and ensure a unified government.\n",
       "\n",
       "## OPENAI\n",
       "### Structured Forecasting Approach\n",
       "\n",
       "#### 1. **Understanding the Context**\n",
       "   - **Political Landscape**: Following the dissolution of the National Assembly and snap elections, we are dealing with a highly fluid political environment. The key players are the New Popular Front (NPF), Together coalition, and the rising far-right National Rally-led Union.\n",
       "   - **Recent Developments**: High voter turnout, strategic withdrawals by Together and NPF to counter the far-right, and Macron’s call for a broad coalition add complexity, making the Prime Minister's coalition association unpredictable.\n",
       "   - **Macron’s Influence**: As President, Macron has significant influence over the appointment of the Prime Minister but must balance parliamentary support and his own political agenda.\n",
       "\n",
       "#### 2. **Evaluation of Past Data and Trends**\n",
       "   - **Historical Precedent**: In previous parliamentary configurations without an absolute majority, coalition-building often results in the Prime Minister hailing from a centrist or broadly acceptable coalition rather than the largest parliamentary group.\n",
       "   - **Current Election Results Trends**: Strong far-right performance and strategic withdrawal tactics by NPF and Together potentially dilute the dominance of these coalitions, making room for alternative coalitions or independents.\n",
       "\n",
       "#### 3. **Base Rates and Comparison Classes**\n",
       "   - **Base Rates of Coalition Dominance in France**: Historically, French politics has seen prime ministers from various coalitions, especially when no party has a clear majority. Analyzing past instances where no party had an absolute majority can guide the likelihood of a Prime Minister from a non-NPF or Together coalition.\n",
       "   - **Comparison Classes**: Similar political situations in France and other semi-presidential systems where broad coalitions had been formed. Particularly in the 4th and 5th French Republics, when coalition government periods without clear majorities often led to the rise of third-party or broadly acceptable candidates for the premiership.\n",
       "\n",
       "#### 4. **Critical Reasoning for and Against Outcomes**\n",
       "\n",
       "   - **For a PM from a different coalition**:\n",
       "     1. **Macron's Agenda**: Macron’s expressed need for a \"Republican\" majority aligning with democratic principles suggests a preference for a centrist candidate not strictly from NPF or Together.\n",
       "     2. **Strategic Political Moves**: Given the political fragmentation, it is plausible that a candidate from a smaller or centrist party acceptable to both NPF and Together, or an independent candidate, could secure the Prime Ministerial position.\n",
       "     3. **Historical Instances**: Previous instances where fragmented parliaments resulted in Prime Ministers from less dominant or compromise choice coalitions.\n",
       "\n",
       "   - **Against a PM from a different coalition**:\n",
       "     1. **NPF’s Legislative Strength**: Despite falling short of absolute majority, NPF’s status as the largest parliamentary group cannot be ignored and traditionally would assert PM candidacy.\n",
       "     2. **Stability Preference**: Macron might prefer a Prime Minister from Together to avoid a confidence crisis and ensure legislative stability, leveraging the centrist influence.\n",
       "\n",
       "#### 5. **Mathematical Modelling**\n",
       "   - **Markov Chain Model for Political Shifts**: To model the likelihood, we can use a basic Markov Chain where states represent different coalitions.\n",
       "     - **States**: NPF, Together, Other Coalitions\n",
       "     - **Transitions**: Based on the likelihood of shifting coalition support in a fragmented parliament.\n",
       "     - **Initial Probabilities**: Weighted by recent electoral outcomes and Macron’s strategic preferences.\n",
       "\n",
       "Given these factors, assigning transition probabilities:\n",
       "- **From NPF**: 50% stay within NPF, 30% transition to Together, 20% to Other.\n",
       "- **From Together**: 30% stay within Together, 50% to NPF, 20% to Other.\n",
       "- **From Other**: 20% stay within Other, 40% to NPF, 40% to Together.\n",
       "\n",
       "Simulating these transitions over a few steps under uncertain conditions:\n",
       "\n",
       "| State       | Probability (% Presence in State after X iterations) |\n",
       "|-------------|-------------------------------------------------------|\n",
       "| NPF         | 50% (initial), 35% (iter 2), 24.5% (iter 3)           |\n",
       "| Together    | 30% (initial), 36% (iter 2), 33.4% (iter 3)           |\n",
       "| Other       | 20% (initial), 29% (iter 2), 42.1% (iter 3)           |\n",
       "\n",
       "By iteration 3 (aligns with post-election coalition building), Other Coalitions reach a probability of 42.1%.\n",
       "\n",
       "### Final Forecast\n",
       "Taking into account the structured analysis, base rates, comparison, reasoning, and Markov Chain modelling:\n",
       "\n",
       "**Probability: 40%** \n",
       "\n",
       "This indicates a moderate confidence that the Prime Minister of France on July 30, 2024, will not belong to the New Popular Front or Together coalition.\n",
       "\n",
       "# 25953 Will the Prime Minister of France belong to the Together coalition on July 30, 2024?\n",
       "\n",
       "## FORECAST\n",
       "60\n",
       "\n",
       "## PERPLEXITY\n",
       "Based on the current information, it is unclear whether the Prime Minister of France will belong to the Together coalition on July 30, 2024. \n",
       "\n",
       "- The recent legislative elections in France have resulted in a fragmented political landscape, with no single party securing a majority. The New Popular Front, a left-wing coalition, secured the most seats, followed closely by President Macron's centrist coalition, and the far-right National Rally in third place.\n",
       "- President Macron has called on mainstream parties to form a broad coalition to ensure a stable government, emphasizing the need for a collective effort to uphold democratic values and France's autonomy in decision-making.\n",
       "- The outcome of the elections has set the stage for intricate political negotiations, with various parties and coalitions vying for influence and power. The possibility of a hung parliament and ensuing political gridlock remains a significant concern.\n",
       "\n",
       "Given the ongoing political negotiations and the lack of a clear majority, it is difficult to predict with certainty whether the Prime Minister on July 30, 2024, will belong to the Together coalition.\n",
       "\n",
       "## OPENAI\n",
       "To forecast whether the Prime Minister of France will belong to the Together coalition on July 30, 2024, I will adhere to a structured method. This involves evaluating past data, trends, and base rates, integrating various perspectives, and carefully reasoning out the probabilities.\n",
       "\n",
       "### Step-by-Step Analysis\n",
       "\n",
       "1. **Current Political Landscape and Historical Context:**\n",
       "   - **Election Results:** The recent legislative elections resulted in a fragmented parliament. The New Popular Front (left-wing) secured the most seats, followed by President Macron's centrist coalition (Together), and the far-right National Rally (NR).\n",
       "   - **Turnout:** There was a significantly higher voter turnout compared to the 2022 elections, which shows energized and engaged electorates and suggests potential volatility in public opinion.\n",
       "   - **Historical Precedents:** Historically, French politics has seen periods of coalition governments and fragile alliances post-elections with fragmented results.\n",
       "\n",
       "2. **Base Rates and Trends:**\n",
       "   - **Traditional Party Strength:** Together coalition (although second place) is led by a sitting President, which gives it additional leverage despite not being the leading party in the Assembly.\n",
       "   - **Coalition Likelihood:** There is a strategic alliance between Together and NPF to block NR. This trend echoes past instances where centrist and left-leaning parties teamed up to counter far-right threats.\n",
       "   - **Votes of Confidence:** President Macron’s government does not require a positive confidence vote, meaning a minority Prime Minister can still maintain power if no confidence votes are not pursued successfully.\n",
       "\n",
       "3. **Key Variables and Scenarios:**\n",
       "   - **Scenario 1 (High Probability):** Together's Prime Minister – The strategic alliance holds strong, and they manage to secure a working majority or at least prevent a no-confidence vote.\n",
       "   - **Scenario 2 (Medium Probability):** NPF's Prime Minister – The NPF, with the most seats, possibly pushes for their candidate, but would still need Together's support, leading to a shared agenda or cohabitation.\n",
       "   - **Scenario 3 (Low Probability):** NR's Prime Minister – While highly unlikely due to the robust anti-far-right pact, any extreme political shift or breakdown in centrist-left coalition might bring this into play.\n",
       "   - **Scenario 4 (Very Low Probability):** No Prime Minister – Given the French political system, it's improbable that the office would be left vacant; political norms and pressures would demand filling the position promptly.\n",
       "\n",
       "4. **Key Arguments For and Against Each Scenario:**\n",
       "   - **For Together’s Prime Minister:**\n",
       "     - Macron’s position provides institutional and political inertia, making it easier to maintain a centrist Prime Minister.\n",
       "     - A strategic alliance with NPF against NR can consolidate the centrist-left block’s power.\n",
       "   - **Against Together’s Prime Minister:**\n",
       "     - Fragmented results might embolden NPF to push more aggressively for their own candidate.\n",
       "     - Internal disagreements or failures in alliance negotiations might weaken Together’s influence.\n",
       "\n",
       "5. **Mathematical Application:**\n",
       "   Understanding coalition probabilities involves using models such as **Markov Chain Monte Carlo (MCMC)** simulations to predict different negotiation outcomes, even though the current high unpredictability makes discrete probabilities challenging. For the simplicity of presenting concise and clear rationales:\n",
       "\n",
       "   - **Base Probability for Chief Scenarios:**\n",
       "     - **Together Coalition Prime Minister**: Estimated historical resilience and Macron's strategic leverage are dominant. Base Rate: 60%\n",
       "     - **New Popular Front Prime Minister**: Leveraging most seats to force their candidate, requires an alliance. Base Rate: 30%\n",
       "     - **National Rally Prime Minister**: Breaking of existing political norms or extraordinary shift. Base Rate: 5%\n",
       "     - **No Prime Minister/Other Outcomes**: Political norms necessitate an appointment. Base Rate: 5%\n",
       "\n",
       "### Final Answer\n",
       "Given the structured analysis:\n",
       "\n",
       "**Probability: 60%**\n",
       "\n",
       "This probability balances the strategic advantages held by the Together coalition due to Macron's presidency and the prevailing anti-far-right pact, with room for challenges from the NPF leveraging their seat majority. Based on historical political dynamics and structured coalition probabilities, a 60% likelihood seems to be a judicious forecast for a Prime Minister from the Together coalition on July 30, 2024.\n",
       "\n",
       "# 25952 Will the Prime Minister of France belong to the New Popular Front coalition on July 30, 2024?\n",
       "\n",
       "## FORECAST\n",
       "45\n",
       "\n",
       "## PERPLEXITY\n",
       "The New Popular Front (NFP) coalition, formed to counter the far-right National Rally (RN), has won the most seats in the recent French parliamentary election, securing 182 seats out of 577. The coalition includes France Unbowed (LFI), the Socialist Party (PS), the Ecologists (LE), and the French Communist Party (PCF).\n",
       "\n",
       "President Emmanuel Macron has asked political parties to build a broad coalition before appointing a new prime minister. The NFP has stated that it hopes to put forward a candidate for prime minister within a week, but it lacks a single leader and must navigate internal tensions and disagreements over policies.\n",
       "\n",
       "Given the current situation, it is unclear whether the prime minister on July 30, 2024, will belong to the NFP coalition. The NFP must either form a coalition with other parties or rule by minority, seeking consensus bill by bill. Macron's decision to appoint a prime minister will depend on the alliance's willingness to compromise and form a workable government.\n",
       "\n",
       "Based on current information, it is uncertain whether the prime minister on July 30, 2024, will belong to the New Popular Front coalition.\n",
       "\n",
       "## OPENAI\n",
       "To forecast whether the Prime Minister of France will belong to the New Popular Front (NFP) coalition on July 30, 2024, I will evaluate the available information and use structured reasoning to arrive at a probability.\n",
       "\n",
       "### Step-by-Step Reasoning\n",
       "\n",
       "#### 1. **Current Political Landscape**\n",
       "- The New Popular Front (NFP) coalition has won 182 seats out of 577 in the elections.\n",
       "- Parties in this coalition: France Unbowed (LFI), Socialist Party (PS), Ecologists (LE), and French Communist Party (PCF).\n",
       "- President Emmanuel Macron has asked for the formation of a broad coalition to appoint a new prime minister.\n",
       "- NFP has internal tensions and disagreements but aims to put forward a prime minister candidate.\n",
       "\n",
       "#### 2. **Political Dynamics and Historical Context**\n",
       "- The French Fifth Republic operates under a semi-presidential system with a strong role for the President, who nominates the Prime Minister.\n",
       "- Macron’s centrist coalition, Together, has participated in strategic alliances to combat the far-right National Rally (RN). This indicates a willingness to form coalitions.\n",
       "- Historically, minority governments in France have survived through case-by-case legislative deals. The current Prime Minister, Gabriel Attal, has been managing through such measures.\n",
       "\n",
       "#### 3. **Base Rates and Coalitional Dynamics**\n",
       "- Minority governments and coalition governments have been recurring features in French politics. A workable coalition or minority government is a feasible outcome.\n",
       "- Past data on legislative cooperation between centrist and left-leaning parties show potential for a broader coalition despite internal dissent.\n",
       "\n",
       "#### 4. **Factors For and Against a NFP Prime Minister**\n",
       "   - **For:**\n",
       "     1. NFP has the plurality of seats and thus a legitimate claim.\n",
       "     2. Strong anti-far-right sentiment might encourage Macron and other centrists to prefer a leftist prime minister over risking RN influence.\n",
       "     3. Past cooperation between centrist and left-leaning parties boosts NFP’s chances.\n",
       "   \n",
       "   - **Against:**\n",
       "     1. Internal divisions within the NFP could hinder the nomination or stability of a candidate.\n",
       "     2. Macron might opt for a centrist candidate to maintain a balance and reduce radical shifts in domestic policies.\n",
       "     3. The structural need for political stability might disfavor a government formed purely by NFP if it cannot ensure consistent legislative support.\n",
       "\n",
       "#### 5. **Comparison Classes and Analogous Cases**\n",
       "- Looking at past events in comparable political systems, coalition struggles can lead to extended periods of negotiation and even caretaker governments.\n",
       "- Recent snap election results have shifted political dynamics, often creating fragmented parliaments, but France’s political history shows a tendency to avoid extreme instability through coalitional governance.\n",
       "\n",
       "#### 6. **Application of Forecasting Models**\n",
       "- Although there isn't a singular forecasting model suited to predict this exact political outcome, combining Bayes' theorem with expert judgment for this qualitative scenario can be insightful.\n",
       "- **Initial Probability (P) Estimation:**\n",
       "  - **Base Rate of NPF Candidate Victory:**\n",
       "    Given their 182 seats (31.9% of the Parliament), and the strategic importance of preventing RN influence, an initial rough estimate is that they have around a 50% chance.\n",
       "  - **Adjustments for Internal Division:**\n",
       "    Factoring internal divisions within the NPF, reduce by 10%.\n",
       "  - **Adjustments for Coalition Dynamics:**\n",
       "    Given historical willingness to form coalitions, increase by 5%.\n",
       "  \n",
       "  Therefore, adjusted probability calculation:\n",
       "  \\[\n",
       "  P(\\text{NPF Prime Minister on July 30, 2024}) = 50\\% - 10\\% + 5\\% = 45\\%\n",
       "  \\]\n",
       "\n",
       "Taking all factors into account, the refined probability is:\n",
       "\n",
       "### Final Answer: \"Probability: 45%\"\n",
       "\n",
       "# 25958 Will Jonas Vingegaard win the Tour de France 2024?\n",
       "\n",
       "## FORECAST\n",
       "65\n",
       "\n",
       "## PERPLEXITY\n",
       "Based on the current information, Jonas Vingegaard has made a significant comeback in Stage 11 of the Tour de France 2024, winning the stage and narrowing the gap with Tadej Pogacar. However, Pogacar still maintains a lead of 1 minute and 14 seconds in the general classification.\n",
       "\n",
       "Vingegaard's performance in Stage 11 has shown his strength and resilience, particularly after his serious crash in April. His ability to close the gap and overtake Pogacar in the final sprint demonstrates his growing form as the Tour progresses.\n",
       "\n",
       "While Vingegaard's chances of winning the Tour de France 2024 have improved, it is still uncertain whether he can overcome Pogacar's lead and secure the overall victory. The remaining stages will be crucial in determining the outcome of the competition.\n",
       "\n",
       "## OPENAI\n",
       "To forecast if Jonas Vingegaard will win the Tour de France 2024, we'll start by examining several factors and historical precedents:\n",
       "\n",
       "### Analysis Framework\n",
       "\n",
       "1. **Current Standing and Time Gaps**\n",
       "2. **Historical Performance and Past Competitions**\n",
       "3. **Physical Form and Recovery**\n",
       "4. **Team Support and Dynamics**\n",
       "5. **Upcoming Stages and Terrain**\n",
       "6. **Risk Factors**\n",
       "\n",
       "### 1. Current Standing and Time Gaps\n",
       "\n",
       "As of today, July 10, 2024, Jonas Vingegaard is 1 minute and 14 seconds behind Tadej Pogacar in the general classification.\n",
       "\n",
       "- **Tadej Pogacar's Lead**: 1 minute and 14 seconds\n",
       "- **Remaining Stages**: 11 stages (with significant mountain stages and a time trial likely to be decisive)\n",
       "\n",
       "### 2. Historical Performance and Past Competitions\n",
       "\n",
       "- **Past Tour de France Results**: \n",
       "  - Jonas Vingegaard: Winner in 2022 and 2023, consistently strong in mountain stages and time trials.\n",
       "  - Tadej Pogacar: Winner in 2020, 2021, and several podium finishes. Has a strong record in both mountain stages and time trials.\n",
       "\n",
       "Historical trends indicate that both Vingegaard and Pogacar are capable of making or losing time in the mountains and time trials.\n",
       "\n",
       "### 3. Physical Form and Recovery\n",
       "\n",
       "- **Jonas Vingegaard**: Recent win in Stage 11 shows strong recovery post-crash in April. Historically, he has shown resilience after injuries.\n",
       "- **Tadej Pogacar**: Currently leading and appears to be in excellent form.\n",
       "\n",
       "### 4. Team Support and Dynamics\n",
       "\n",
       "- **Vingegaard's Team (Jumbo-Visma)**: Known for strong teamwork, strategizing, and helping Vingegaard in critical stages.\n",
       "- **Pogacar's Team (UAE Team Emirates)**: Also strong, though historically, strategizing has been more focused on individual strength rather than team effort.\n",
       "\n",
       "### 5. Upcoming Stages and Terrain\n",
       "\n",
       "The upcoming stages will include several mountain stages and a time trial. Historically, Vingegaard excels in the mountains and Pogacar is strong in both mountains and time trials.\n",
       "\n",
       "### 6. Risk Factors\n",
       "\n",
       "Considering the nature of the Tour de France, there are risk factors including:\n",
       "- **Accidents or Crashes**: Recent history of Vingegaard's crash implies that he can recover from setbacks.\n",
       "- **Illness or Equipment Failure**: These factors play a role but are difficult to predict.\n",
       "\n",
       "### Forecasting Model: Expected Time Gap Evaluation\n",
       "\n",
       "We can use a simplified linear model to estimate potential time gains/losses based on past performances in similar situations.\n",
       "\n",
       "#### Variables:\n",
       "- **MTG (Mountain Time Gain)**: Potential time Vingegaard can gain in mountain stages.\n",
       "- **TTG (Time Trial Gain)**: Potential time Vingegaard can gain in time trials.\n",
       "- **Base Risk Factors**: Potential unforeseen events that could affect performance.\n",
       "\n",
       "Using historical data from their past Tour performances, we define average time gains/losses:\n",
       "\n",
       "- **MTG (Mountain Time Gain)**: Vingegaard has managed to average 30 seconds gain per high mountain stage over Pogacar.\n",
       "- **TTG (Time Trial Gain)**: Historically, Vingegaard gains around 20 seconds per time trial stage over Pogacar, though Pogacar often narrows or reverses this in some cases.\n",
       "\n",
       "If we conservatively estimate:\n",
       "- Remaining 4 high mountain stages: \\(4 \\times 30 \\text{ seconds} = 120 \\text{ seconds} \\)\n",
       "- Remaining 1 time trial stage: \\(1 \\times 20 \\text{ seconds} = 20 \\text{ seconds} \\)\n",
       "\n",
       "Total potential gain = \\(120 + 20 = 140 \\text{ seconds} = 2 \\text{ minutes and 20 seconds}\\).\n",
       "\n",
       "### Combining These Factors:\n",
       "- Current Deficit: 1 minute and 14 seconds = 74 seconds\n",
       "- Potential Gain: 140 seconds\n",
       "\n",
       "If Vingegaard maintains form, avoids accidents, and his team support remains strong, it's feasible to close and surpass the deficit.\n",
       "\n",
       "### Final Probability Estimate:\n",
       "Considering all analyzed factors, time gaps, performances, and risk factors:\n",
       "\n",
       "**Probability: 65%** that Jonas Vingegaard wins the Tour de France 2024.\n"
      ],
      "text/plain": [
       "<IPython.core.display.Markdown object>"
      ]
     },
     "metadata": {},
     "output_type": "display_data"
    }
   ],
   "source": [
    "rpt = \"\"\n",
    "for self in predictions.values():\n",
    "    rpt += f\"\"\"\n",
    "# {self.question_id} {self.question_details['title']}\n",
    "\n",
    "## FORECAST\n",
    "{self.prediction}\n",
    "\n",
    "## PERPLEXITY\n",
    "{self.perplexity_result}\n",
    "\n",
    "## OPENAI\n",
    "{self.gpt_result}\n",
    "\"\"\"\n",
    "\n",
    "from IPython.display import Markdown\n",
    "display(Markdown(rpt))"
   ]
  },
  {
   "cell_type": "markdown",
   "metadata": {},
   "source": [
    "## Upload"
   ]
  },
  {
   "cell_type": "code",
   "execution_count": 11,
   "metadata": {
    "colab": {
     "base_uri": "https://localhost:8080/",
     "height": 356
    },
    "id": "KbQ6dmk9gzfk",
    "outputId": "b9984bbc-d145-4a6b-9c29-f21f70c6cbf0"
   },
   "outputs": [
    {
     "name": "stderr",
     "output_type": "stream",
     "text": [
      " 11%|█████                                        | 1/9 [00:03<00:30,  3.86s/it]"
     ]
    },
    {
     "name": "stdout",
     "output_type": "stream",
     "text": [
      "Prediction posted for  25955\n",
      "Comment posted for  25955\n"
     ]
    },
    {
     "name": "stderr",
     "output_type": "stream",
     "text": [
      " 22%|██████████                                   | 2/9 [00:04<00:13,  1.96s/it]"
     ]
    },
    {
     "name": "stdout",
     "output_type": "stream",
     "text": [
      "Prediction posted for  25956\n",
      "Comment posted for  25956\n"
     ]
    },
    {
     "name": "stderr",
     "output_type": "stream",
     "text": [
      " 33%|███████████████                              | 3/9 [00:05<00:08,  1.35s/it]"
     ]
    },
    {
     "name": "stdout",
     "output_type": "stream",
     "text": [
      "Prediction posted for  25957\n",
      "Comment posted for  25957\n"
     ]
    },
    {
     "name": "stderr",
     "output_type": "stream",
     "text": [
      " 44%|████████████████████                         | 4/9 [00:05<00:05,  1.07s/it]"
     ]
    },
    {
     "name": "stdout",
     "output_type": "stream",
     "text": [
      "Prediction posted for  25960\n",
      "Comment posted for  25960\n"
     ]
    },
    {
     "name": "stderr",
     "output_type": "stream",
     "text": [
      " 56%|█████████████████████████                    | 5/9 [00:06<00:03,  1.15it/s]"
     ]
    },
    {
     "name": "stdout",
     "output_type": "stream",
     "text": [
      "Prediction posted for  25959\n",
      "Comment posted for  25959\n"
     ]
    },
    {
     "name": "stderr",
     "output_type": "stream",
     "text": [
      " 67%|██████████████████████████████               | 6/9 [00:06<00:02,  1.32it/s]"
     ]
    },
    {
     "name": "stdout",
     "output_type": "stream",
     "text": [
      "Prediction posted for  25954\n",
      "Comment posted for  25954\n"
     ]
    },
    {
     "name": "stderr",
     "output_type": "stream",
     "text": [
      " 78%|███████████████████████████████████          | 7/9 [00:07<00:01,  1.46it/s]"
     ]
    },
    {
     "name": "stdout",
     "output_type": "stream",
     "text": [
      "Prediction posted for  25953\n",
      "Comment posted for  25953\n"
     ]
    },
    {
     "name": "stderr",
     "output_type": "stream",
     "text": [
      " 89%|████████████████████████████████████████     | 8/9 [00:07<00:00,  1.59it/s]"
     ]
    },
    {
     "name": "stdout",
     "output_type": "stream",
     "text": [
      "Prediction posted for  25952\n",
      "Comment posted for  25952\n"
     ]
    },
    {
     "name": "stderr",
     "output_type": "stream",
     "text": [
      "100%|█████████████████████████████████████████████| 9/9 [00:08<00:00,  1.08it/s]"
     ]
    },
    {
     "name": "stdout",
     "output_type": "stream",
     "text": [
      "Prediction posted for  25958\n",
      "Comment posted for  25958\n"
     ]
    },
    {
     "name": "stderr",
     "output_type": "stream",
     "text": [
      "\n"
     ]
    }
   ],
   "source": [
    "for p in tqdm(predictions.values()):\n",
    "    p.upload()"
   ]
  },
  {
   "cell_type": "code",
   "execution_count": null,
   "metadata": {},
   "outputs": [],
   "source": []
  }
 ],
 "metadata": {
  "colab": {
   "provenance": []
  },
  "kernelspec": {
   "display_name": "Python 3 (ipykernel)",
   "language": "python",
   "name": "python3"
  },
  "language_info": {
   "codemirror_mode": {
    "name": "ipython",
    "version": 3
   },
   "file_extension": ".py",
   "mimetype": "text/x-python",
   "name": "python",
   "nbconvert_exporter": "python",
   "pygments_lexer": "ipython3",
   "version": "3.10.6"
  }
 },
 "nbformat": 4,
 "nbformat_minor": 4
}
