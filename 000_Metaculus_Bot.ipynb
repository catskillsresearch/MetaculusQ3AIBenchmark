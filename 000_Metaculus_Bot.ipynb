{
 "cells": [
  {
   "cell_type": "markdown",
   "metadata": {},
   "source": [
    "# 000 Forecasting Bot"
   ]
  },
  {
   "cell_type": "code",
   "execution_count": 1,
   "metadata": {},
   "outputs": [],
   "source": [
    "%load_ext autoreload\n",
    "%autoreload 2"
   ]
  },
  {
   "cell_type": "code",
   "execution_count": 2,
   "metadata": {},
   "outputs": [],
   "source": [
    "from IFP import IFP, list_questions"
   ]
  },
  {
   "cell_type": "code",
   "execution_count": 3,
   "metadata": {},
   "outputs": [],
   "source": [
    "ifps = list_questions()['results']"
   ]
  },
  {
   "cell_type": "code",
   "execution_count": 4,
   "metadata": {},
   "outputs": [
    {
     "data": {
      "text/plain": [
       "[27911, 27912, 27913, 27914, 27918, 27919]"
      ]
     },
     "execution_count": 4,
     "metadata": {},
     "output_type": "execute_result"
    }
   ],
   "source": [
    "today_ids = list(sorted([x['id'] for x in ifps])) if ifps else [27238, 27239, 27240, 27241]\n",
    "today_ids"
   ]
  },
  {
   "cell_type": "code",
   "execution_count": 5,
   "metadata": {},
   "outputs": [],
   "source": [
    "ifps = {id: IFP(id) for id in today_ids}"
   ]
  },
  {
   "cell_type": "code",
   "execution_count": 6,
   "metadata": {},
   "outputs": [],
   "source": [
    "from Forecaster import Forecaster"
   ]
  },
  {
   "cell_type": "code",
   "execution_count": 7,
   "metadata": {},
   "outputs": [],
   "source": [
    "fcst = Forecaster(ifps)"
   ]
  },
  {
   "cell_type": "code",
   "execution_count": 9,
   "metadata": {},
   "outputs": [
    {
     "name": "stdout",
     "output_type": "stream",
     "text": [
      "MODEL DOMAIN\n",
      "27911 Will Catalent, Inc., file its 10-K annual report with the SEC before October 1, 2024?\n",
      "Corporate action\n",
      "27912 Before October 1, 2024, will Tech Crunch report new layoffs at Amazon?\n",
      "Corporate action\n",
      "27913 Will \"Rockstar\" by Lisa win the award for Best K-Pop at the 2024 MTV VMAs?\n",
      "Entertainment\n",
      "27914 Will The Bear win the 2024 Primetime Emmy Award for Outstanding Comedy Series?\n",
      "Entertainment\n",
      "27918 Will Starliner Calypso undock from ISS before September 16?\n",
      "Aerospace technology\n",
      "27919 Will Edmundo González be deprived of liberty before October 1, 2024?\n",
      "Civil unrest\n",
      "CORRELATOR\n",
      "NEWS\n",
      "RATES\n",
      "FORECASTING 2024 MTV VMAs Best K-Pop award\n",
      "27913 75 Lisa's \"Rockstar\" has significant momentum with four nominations at the VMAs, making her the most nominated K-pop artist this year. The song's strong performance metrics and Lisa’s high-profile solo activities bolster her chances. However, strong competition from Jungkook and Stray Kids, who also have substantial fanbases, prevents a higher probability. Given all factors, a 75% likelihood seems reasonable.\n",
      "FORECASTING Catalent, Inc. 10-K filing\n",
      "27911 75 Catalent has already missed its original filing deadline, but the notification was just on August 29, 2024, giving them another 30 days. The company states that they don't expect any material changes, which suggests that the issues might not be overly complex to resolve within the available extended timeframe. Thus, there is a reasonable probability they will file on time, although the situation remains uncertain due to potential procedural delays.\n",
      "FORECASTING Edmundo González liberty status\n",
      "27919 80 Given the current political climate in Venezuela, including the arrest warrants, increased detentions of opposition figures, and Edmundo González's high-profile status, there is a high likelihood that he will be deprived of his liberty before October 1, 2024. The government's efforts to silence opposition, along with González's recent lawful defiance and continuous hiding, place him at significant risk of being detained or arrested imminently. The international condemnation, while prominent, may not be sufficient to deter the Venezuelan authorities from executing the arrest warrant within the 27-day window.\n",
      "FORECASTING Amazon layoffs\n",
      "27912 80 Given the significant number of layoffs announced by major companies, including Amazon, and the pattern of ongoing layoffs in the tech industry, it is highly plausible that new Amazon layoffs will be reported by Tech Crunch before the specified end date. Amazon's recent strategic moves, including cost-cutting measures and structural changes, further support this likelihood.\n",
      "FORECASTING 2024 Emmy Awards\n",
      "27914 70 Given that The Bear has received a record 23 nominations for a comedy series, it suggests strong support from the Television Academy. Additionally, the show has critical acclaim and considerable momentum. However, there are other strong contenders like Curb Your Enthusiasm and Only Murders in the Building, so while The Bear is a leading contender, it is not a certainty.\n",
      "FORECASTING Starliner Calypso undocking\n",
      "27918 97 Given the consistent reporting from multiple credible sources, NASA and Boeing plan for an uncrewed Starliner Calypso undocking on September 6. This is well within the September 16 deadline. The high historical reliability of such prepared schedules and the thoroughness of Nasa's preparatory processes gives me strong confidence this will occur as planned.\n"
     ]
    }
   ],
   "source": [
    "fcst.fit()"
   ]
  },
  {
   "cell_type": "code",
   "execution_count": 10,
   "metadata": {},
   "outputs": [
    {
     "name": "stdout",
     "output_type": "stream",
     "text": [
      "27911 75\n",
      "27912 80\n",
      "27913 75\n",
      "27914 70\n",
      "27918 97\n",
      "27919 80\n"
     ]
    }
   ],
   "source": [
    "for ifp in ifps.values():\n",
    "    try:\n",
    "        print(ifp.id, ifp.forecast)\n",
    "    except:\n",
    "        print(ifp.id, 'none')"
   ]
  },
  {
   "cell_type": "code",
   "execution_count": 11,
   "metadata": {},
   "outputs": [
    {
     "name": "stdout",
     "output_type": "stream",
     "text": [
      "27911 Will Catalent, Inc., file its 10-K annual report with the SEC before October 1, 2024?\n",
      "Forecast 75\n",
      "Rationale Catalent has already missed its original filing deadline, but the notification was just on August 29, 2024, giving them another 30 days. The company states that they don't expect any material changes, which suggests that the issues might not be overly complex to resolve within the available extended timeframe. Thus, there is a reasonable probability they will file on time, although the situation remains uncertain due to potential procedural delays. \n",
      "\n",
      "27912 Before October 1, 2024, will Tech Crunch report new layoffs at Amazon?\n",
      "Forecast 80\n",
      "Rationale Given the significant number of layoffs announced by major companies, including Amazon, and the pattern of ongoing layoffs in the tech industry, it is highly plausible that new Amazon layoffs will be reported by Tech Crunch before the specified end date. Amazon's recent strategic moves, including cost-cutting measures and structural changes, further support this likelihood. \n",
      "\n",
      "27913 Will \"Rockstar\" by Lisa win the award for Best K-Pop at the 2024 MTV VMAs?\n",
      "Forecast 75\n",
      "Rationale Lisa's \"Rockstar\" has significant momentum with four nominations at the VMAs, making her the most nominated K-pop artist this year. The song's strong performance metrics and Lisa’s high-profile solo activities bolster her chances. However, strong competition from Jungkook and Stray Kids, who also have substantial fanbases, prevents a higher probability. Given all factors, a 75% likelihood seems reasonable. \n",
      "\n",
      "27914 Will The Bear win the 2024 Primetime Emmy Award for Outstanding Comedy Series?\n",
      "Forecast 70\n",
      "Rationale Given that The Bear has received a record 23 nominations for a comedy series, it suggests strong support from the Television Academy. Additionally, the show has critical acclaim and considerable momentum. However, there are other strong contenders like Curb Your Enthusiasm and Only Murders in the Building, so while The Bear is a leading contender, it is not a certainty. \n",
      "\n",
      "27918 Will Starliner Calypso undock from ISS before September 16?\n",
      "Forecast 97\n",
      "Rationale Given the consistent reporting from multiple credible sources, NASA and Boeing plan for an uncrewed Starliner Calypso undocking on September 6. This is well within the September 16 deadline. The high historical reliability of such prepared schedules and the thoroughness of Nasa's preparatory processes gives me strong confidence this will occur as planned. \n",
      "\n",
      "27919 Will Edmundo González be deprived of liberty before October 1, 2024?\n",
      "Forecast 80\n",
      "Rationale Given the current political climate in Venezuela, including the arrest warrants, increased detentions of opposition figures, and Edmundo González's high-profile status, there is a high likelihood that he will be deprived of his liberty before October 1, 2024. The government's efforts to silence opposition, along with González's recent lawful defiance and continuous hiding, place him at significant risk of being detained or arrested imminently. The international condemnation, while prominent, may not be sufficient to deter the Venezuelan authorities from executing the arrest warrant within the 27-day window. \n",
      "\n"
     ]
    }
   ],
   "source": [
    "fcst.report()"
   ]
  },
  {
   "cell_type": "code",
   "execution_count": 12,
   "metadata": {},
   "outputs": [
    {
     "name": "stdout",
     "output_type": "stream",
     "text": [
      "Prediction posted for  27911\n",
      "Comment posted for  27911\n",
      "Prediction posted for  27912\n",
      "Comment posted for  27912\n",
      "Prediction posted for  27913\n",
      "Comment posted for  27913\n",
      "Prediction posted for  27914\n",
      "Comment posted for  27914\n",
      "Prediction posted for  27918\n",
      "Comment posted for  27918\n",
      "Prediction posted for  27919\n",
      "Comment posted for  27919\n"
     ]
    }
   ],
   "source": [
    "fcst.upload()"
   ]
  },
  {
   "cell_type": "code",
   "execution_count": null,
   "metadata": {},
   "outputs": [],
   "source": []
  }
 ],
 "metadata": {
  "colab": {
   "provenance": []
  },
  "kernelspec": {
   "display_name": "trader",
   "language": "python",
   "name": "trader"
  },
  "language_info": {
   "codemirror_mode": {
    "name": "ipython",
    "version": 3
   },
   "file_extension": ".py",
   "mimetype": "text/x-python",
   "name": "python",
   "nbconvert_exporter": "python",
   "pygments_lexer": "ipython3",
   "version": "3.10.6"
  }
 },
 "nbformat": 4,
 "nbformat_minor": 4
}
