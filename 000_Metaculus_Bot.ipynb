{
 "cells": [
  {
   "cell_type": "markdown",
   "metadata": {},
   "source": [
    "# 000 Forecasting Bot"
   ]
  },
  {
   "cell_type": "code",
   "execution_count": 1,
   "metadata": {},
   "outputs": [],
   "source": [
    "%load_ext autoreload\n",
    "%autoreload 2"
   ]
  },
  {
   "cell_type": "code",
   "execution_count": 2,
   "metadata": {},
   "outputs": [],
   "source": [
    "from IFP import IFP, list_questions"
   ]
  },
  {
   "cell_type": "code",
   "execution_count": 3,
   "metadata": {},
   "outputs": [],
   "source": [
    "ifps = list_questions()['results']"
   ]
  },
  {
   "cell_type": "code",
   "execution_count": 4,
   "metadata": {},
   "outputs": [
    {
     "data": {
      "text/plain": [
       "[28154, 28155, 28156]"
      ]
     },
     "execution_count": 4,
     "metadata": {},
     "output_type": "execute_result"
    }
   ],
   "source": [
    "today_ids = list(sorted([x['id'] for x in ifps])) if ifps else [27238, 27239, 27240, 27241]\n",
    "today_ids"
   ]
  },
  {
   "cell_type": "code",
   "execution_count": 5,
   "metadata": {},
   "outputs": [],
   "source": [
    "ifps = {id: IFP(id) for id in today_ids}"
   ]
  },
  {
   "cell_type": "code",
   "execution_count": 6,
   "metadata": {},
   "outputs": [],
   "source": [
    "from Forecaster import Forecaster"
   ]
  },
  {
   "cell_type": "code",
   "execution_count": null,
   "metadata": {},
   "outputs": [],
   "source": [
    "from copy import deepcopy"
   ]
  },
  {
   "cell_type": "code",
   "execution_count": 13,
   "metadata": {},
   "outputs": [],
   "source": [
    "forecasters = [Forecaster({id: IFP(id) for id in today_ids}) for i in range(5)]"
   ]
  },
  {
   "cell_type": "code",
   "execution_count": 14,
   "metadata": {},
   "outputs": [
    {
     "name": "stdout",
     "output_type": "stream",
     "text": [
      "MODEL DOMAIN\n",
      "28154 Will Kennedy Iyere win the September 21, 2024 Edo state gubernatorial election in Nigeria?\n",
      "Election outcome\n",
      "28155 Will Comex Gold Spot prices exceed $2,700 per ounce before October 1, 2024 according to Yahoo Finance?\n",
      "Market price\n",
      "28156 Will the USDA's recall of Boar's Head deli meat be closed before October 1, 2024?\n",
      "Other\n",
      "CORRELATOR\n",
      "|Edo State Gubernatorial Election 2024|28154|Will Kennedy Iyere win the September 21, 2024 Edo state gubernatorial election in Nigeria?|\n",
      "|Gold Prices|28155|Will Comex Gold Spot prices exceed $2,700 per ounce before October 1, 2024 according to Yahoo Finance?|\n",
      "|Boar's Head Deli Meat Recall|28156|Will the USDA's recall of Boar's Head deli meat be closed before October 1, 2024?|\n",
      "NEWS\n",
      "ASKING\n",
      "Researching Will Comex Gold Spot prices exceed $2,700 per ounce before October 1, 2024 according to Yahoo Finance?\n",
      "ALL\n",
      "The price of gold exceeded $2560 per ounce on Friday, setting a new historical record, according to Trading Economics. This was due to the weakening of the US dollar and the decrease in government bond yields, as well as the latest economic data, which strengthened expectations of more aggressive actions from the Federal Reserve. September futures for gold on the Comex exchange are trading at around $2568 per ounce, a 0.4% increase from the previous session's close. Analysts at Goldman Sachs Research predict that the precious metal may reach $2700 per ounce by early 2025, driven by lower US interest rates and demand for gold from central banks in emerging markets, as they said, 'due to the decrease in US interest rates and demand for gold from central banks in emerging markets.' \n",
      "saved asknews_for_question/28155.json\n",
      "ASKING\n",
      "Researching Will the USDA's recall of Boar's Head deli meat be closed before October 1, 2024?\n",
      "ALL\n",
      "USDA inspectors had warned that a Boar's Head plant in Virginia posed an 'imminent threat' two years before a listeria outbreak and recall of 7 million pounds of meat products. The inspection documents showed the plant had green mold, condensation, rusted equipment, beetles, and other unsanitary conditions. Between Aug. 1, 2023, and Aug. 2, 2024, inspectors found 'heavy discolored meat buildup' and 'meat overspray on walls.' A USDA spokesperson said the investigation into the listeria outbreak is ongoing and will include a 'top-to-bottom review' to determine contributing factors. Boar's Head has stopped production at the plant and is working with the USDA and industry experts to determine how the liverwurst was adulterated. 'We are conducting an extensive investigation, working closely with the USDA and government regulatory agencies, as well as with the industry's leading food safety experts, to determine how our liverwurst produced at our Jarratt, Virginia, facility was adulterated and to prevent it from happening again,' the company said.\n",
      "saved asknews_for_question/28156.json\n",
      "ASKING\n",
      "Researching Will Kennedy Iyere win the September 21, 2024 Edo state gubernatorial election in Nigeria?\n",
      "ALL\n",
      "The Edo State governorship election on September 21 is a crucial moment for the state. The National Chairman of the Independent National Electoral Commission (INEC), Prof Mahmood Yakubu, has assured that the commission will ensure a free, fair, and credible election. However, the 2023 general elections under Yakubu's supervision were marred by controversy, leaving many Nigerians skeptical about the commission's neutrality. The security agencies in the state, particularly the Police, have also been accused of harassment and intimidation of opposition members. President Bola Tinubu's statement assuring the APC members that he will 'give Edo back to them' has raised concerns about the outcome of the election. The PDP candidate, Asue Ighodalo, stands out with a comprehensive manifesto that pledges to transform the state into a beacon of progress and prosperity. Ighodalo's person and antecedents offer hopes and assurances on what to expect if elected to office. His vision for Edo includes good governance, poverty reduction, education, and skill acquisition, as well as repositioning the healthcare system and transforming the state into the food basket of South-South Nigeria. The election is not about political parties, but about individuals and their capacities to deliver on their promises.\n",
      "saved asknews_for_question/28154.json\n",
      "RATES\n",
      "RATES Gold Prices {'Gold Prices': \"1. Today's date: 2024-09-13\\n2. End date of the question: 2024-10-01\\n3. Time in days D from today to end date: 18 days\\n4. The most likely event date: N/A (estimating by analyzing trends)\\n5. Likely event date is before, or on or after the question end date: On or after\\n\\nBased on the latest trends and increasing interest in gold due to geopolitical tensions and expectations of a decrease in Federal Reserve interest rates, it is likely that the Comex Gold Spot price will touch or exceed $2,700 per ounce on or after October 1, 2024. So, it is highly unlikely that the price will exceed $2,700 before October 1, 2024, but possibly very close to that date.\", \"Boar's Head Deli Meat Recall\": None, 'Edo State Gubernatorial Election 2024': None}\n",
      "RATES Boar's Head Deli Meat Recall {'Gold Prices': \"1. Today's date: 2024-09-13\\n2. End date of the question: 2024-10-01\\n3. Time in days D from today to end date: 18 days\\n4. The most likely event date: N/A (estimating by analyzing trends)\\n5. Likely event date is before, or on or after the question end date: On or after\\n\\nBased on the latest trends and increasing interest in gold due to geopolitical tensions and expectations of a decrease in Federal Reserve interest rates, it is likely that the Comex Gold Spot price will touch or exceed $2,700 per ounce on or after October 1, 2024. So, it is highly unlikely that the price will exceed $2,700 before October 1, 2024, but possibly very close to that date.\", \"Boar's Head Deli Meat Recall\": \"Today's Date: 2024-09-13  \\nEnd (Measurement) Date: 2024-10-01  \\nTime in Days (D) from Today to End Date: 18 days  \\nSpecific Date at which the Event is Most Likely to Occur: The recall closure is likely to occur after further investigations and remedial actions which typically take weeks to months. Given the depth of the ongoing issues and procedural reviews mentioned, it is unlikely to conclude before the end of the measurement date.  \\nLikely Event Date: On or after 2024-10-01\", 'Edo State Gubernatorial Election 2024': None}\n",
      "RATES Edo State Gubernatorial Election 2024 {'Gold Prices': \"1. Today's date: 2024-09-13\\n2. End date of the question: 2024-10-01\\n3. Time in days D from today to end date: 18 days\\n4. The most likely event date: N/A (estimating by analyzing trends)\\n5. Likely event date is before, or on or after the question end date: On or after\\n\\nBased on the latest trends and increasing interest in gold due to geopolitical tensions and expectations of a decrease in Federal Reserve interest rates, it is likely that the Comex Gold Spot price will touch or exceed $2,700 per ounce on or after October 1, 2024. So, it is highly unlikely that the price will exceed $2,700 before October 1, 2024, but possibly very close to that date.\", \"Boar's Head Deli Meat Recall\": \"Today's Date: 2024-09-13  \\nEnd (Measurement) Date: 2024-10-01  \\nTime in Days (D) from Today to End Date: 18 days  \\nSpecific Date at which the Event is Most Likely to Occur: The recall closure is likely to occur after further investigations and remedial actions which typically take weeks to months. Given the depth of the ongoing issues and procedural reviews mentioned, it is unlikely to conclude before the end of the measurement date.  \\nLikely Event Date: On or after 2024-10-01\", 'Edo State Gubernatorial Election 2024': \"1. Today's date: 2024-09-13\\n2. Measurement date: 2024-09-21\\n3. Time in days D: 8 days\\n4. Most likely event date: 2024-09-21\\n5. Likely event date relative to end date: On or after the question end date\"}\n",
      "FORECASTING Gold Prices\n",
      "28155 40 Gold prices are currently at historic highs, driven by expectations of further interest rate cuts and geopolitical tensions. However, the current price is still significantly below $2,700 per ounce. Given the volatility of gold prices and the relatively short time frame until October 1, 2024, it is relatively unlikely that prices will exceed $2,700 per ounce within this period. Historical patterns suggest such a rapid increase is uncommon, albeit not impossible under extreme conditions. Therefore, assigning a 40% probability reflects this moderate likelihood based on recent trends and market conditions.\n",
      "FORECASTING Boar's Head Deli Meat Recall\n",
      "28156 3 Given the extensive ongoing investigation and the severe health issues involved, it seems highly unlikely that the USDA's recall of Boar's Head deli meat will be closed before October 1, 2024. Recalls of this magnitude, particularly involving serious issues like listeria contamination, typically require thorough and prolonged resolution processes to ensure all safety standards are met and implemented. The fact that symptoms can emerge weeks later also adds complexities to the recall process, implying that it will likely extend beyond the end of the measurement date.\n",
      "FORECASTING Edo State Gubernatorial Election 2024\n",
      "28154 5 Based on the extensive news and background information, the primary contenders for the September 21, 2024 Edo State gubernatorial election appear to be the candidates from the PDP (Asue Ighodalo), APC (Monday Okpebholo), and LP (Olumide Akpata). Kennedy Iyere, representing the Accord Party, has significantly less visibility and support compared to these leading candidates. The Accord Party's smaller footprint in Nigerian politics overall and the controversy within the party further diminishes his likelihood of winning. Therefore, Kennedy Iyere's chances of winning can be considered very low.\n",
      "MODEL DOMAIN\n",
      "28154 Will Kennedy Iyere win the September 21, 2024 Edo state gubernatorial election in Nigeria?\n",
      "Election outcome\n",
      "28155 Will Comex Gold Spot prices exceed $2,700 per ounce before October 1, 2024 according to Yahoo Finance?\n",
      "Market price\n",
      "28156 Will the USDA's recall of Boar's Head deli meat be closed before October 1, 2024?\n",
      "Other\n",
      "CORRELATOR\n",
      "|2024 Edo state gubernatorial election|28154|Will Kennedy Iyere win the September 21, 2024 Edo state gubernatorial election in Nigeria?|\n",
      "|Comex Gold Spot prices|28155|Will Comex Gold Spot prices exceed $2,700 per ounce before October 1, 2024 according to Yahoo Finance?|\n",
      "|USDA recall of Boar's Head deli meat|28156|Will the USDA's recall of Boar's Head deli meat be closed before October 1, 2024?|\n",
      "NEWS\n",
      "ASKING\n",
      "Researching Will the USDA's recall of Boar's Head deli meat be closed before October 1, 2024?\n",
      "ALL\n",
      "USDA inspectors had warned that a Boar's Head plant in Virginia posed an 'imminent threat' two years before a listeria outbreak and recall of 7 million pounds of meat products. The inspection documents showed the plant had green mold, condensation, rusted equipment, beetles, and other unsanitary conditions. Between Aug. 1, 2023, and Aug. 2, 2024, inspectors found 'heavy discolored meat buildup' and 'meat overspray on walls.' A USDA spokesperson said the investigation into the listeria outbreak is ongoing and will include a 'top-to-bottom review' to determine contributing factors. Boar's Head has stopped production at the plant and is working with the USDA and industry experts to determine how the liverwurst was adulterated. 'We are conducting an extensive investigation, working closely with the USDA and government regulatory agencies, as well as with the industry's leading food safety experts, to determine how our liverwurst produced at our Jarratt, Virginia, facility was adulterated and to prevent it from happening again,' the company said.\n",
      "saved asknews_for_question/28156.json\n",
      "ASKING\n",
      "Researching Will Kennedy Iyere win the September 21, 2024 Edo state gubernatorial election in Nigeria?\n",
      "ALL\n",
      "The Edo State governorship election on September 21 is a crucial moment for the state. The National Chairman of the Independent National Electoral Commission (INEC), Prof Mahmood Yakubu, has assured that the commission will ensure a free, fair, and credible election. However, the 2023 general elections under Yakubu's supervision were marred by controversy, leaving many Nigerians skeptical about the commission's neutrality. The security agencies in the state, particularly the Police, have also been accused of harassment and intimidation of opposition members. President Bola Tinubu's statement assuring the APC members that he will 'give Edo back to them' has raised concerns about the outcome of the election. The PDP candidate, Asue Ighodalo, stands out with a comprehensive manifesto that pledges to transform the state into a beacon of progress and prosperity. Ighodalo's person and antecedents offer hopes and assurances on what to expect if elected to office. His vision for Edo includes good governance, poverty reduction, education, and skill acquisition, as well as repositioning the healthcare system and transforming the state into the food basket of South-South Nigeria. The election is not about political parties, but about individuals and their capacities to deliver on their promises.\n",
      "saved asknews_for_question/28154.json\n",
      "ASKING\n",
      "Researching Will Comex Gold Spot prices exceed $2,700 per ounce before October 1, 2024 according to Yahoo Finance?\n",
      "ALL\n",
      "The price of gold exceeded $2560 per ounce on Friday, setting a new historical record, according to Trading Economics. This was due to the weakening of the US dollar and the decrease in government bond yields, as well as the latest economic data, which strengthened expectations of more aggressive actions from the Federal Reserve. September futures for gold on the Comex exchange are trading at around $2568 per ounce, a 0.4% increase from the previous session's close. Analysts at Goldman Sachs Research predict that the precious metal may reach $2700 per ounce by early 2025, driven by lower US interest rates and demand for gold from central banks in emerging markets, as they said, 'due to the decrease in US interest rates and demand for gold from central banks in emerging markets.' \n",
      "saved asknews_for_question/28155.json\n",
      "RATES\n",
      "RATES USDA recall of Boar's Head deli meat {\"USDA recall of Boar's Head deli meat\": \"1. Today's date: 2024-09-13\\n2. End date of the question: 2024-10-01\\n3. Time in days (D) from today to end date: 18 days\\n4. The specific date at which the event is most likely to occur: Based on the severity and widespread impact of the listeria outbreak, along with the rigorous investigation and sanitation efforts required, it is unlikely that the USDA's recall and investigation will be fully closed by October 1, 2024.\\n5. Whether the likely event date is before, or on or after the question end date: On or after the question end date\", '2024 Edo state gubernatorial election': None, 'Comex Gold Spot prices': None}\n",
      "RATES 2024 Edo state gubernatorial election {\"USDA recall of Boar's Head deli meat\": \"1. Today's date: 2024-09-13\\n2. End date of the question: 2024-10-01\\n3. Time in days (D) from today to end date: 18 days\\n4. The specific date at which the event is most likely to occur: Based on the severity and widespread impact of the listeria outbreak, along with the rigorous investigation and sanitation efforts required, it is unlikely that the USDA's recall and investigation will be fully closed by October 1, 2024.\\n5. Whether the likely event date is before, or on or after the question end date: On or after the question end date\", '2024 Edo state gubernatorial election': \"1. Today's date: 2024-09-13\\n2. Measurement date of the question: 2024-09-21\\n3. Time in days (D) from today to end date: 8 days\\n4. Likely event date: 2024-09-21\\n5. The likely event date is on the question end date\", 'Comex Gold Spot prices': None}\n",
      "RATES Comex Gold Spot prices {\"USDA recall of Boar's Head deli meat\": \"1. Today's date: 2024-09-13\\n2. End date of the question: 2024-10-01\\n3. Time in days (D) from today to end date: 18 days\\n4. The specific date at which the event is most likely to occur: Based on the severity and widespread impact of the listeria outbreak, along with the rigorous investigation and sanitation efforts required, it is unlikely that the USDA's recall and investigation will be fully closed by October 1, 2024.\\n5. Whether the likely event date is before, or on or after the question end date: On or after the question end date\", '2024 Edo state gubernatorial election': \"1. Today's date: 2024-09-13\\n2. Measurement date of the question: 2024-09-21\\n3. Time in days (D) from today to end date: 8 days\\n4. Likely event date: 2024-09-21\\n5. The likely event date is on the question end date\", 'Comex Gold Spot prices': \"1. Today's date: 2024-09-13\\n2. Measurement end date: 2024-10-01\\n3. Time in days (D): 18 days\\n4. Specific date at which the event is most likely to occur: No specific date predicted, likelihood inferred from current trends.\\n5. Likely event date is before, or on or after the question end date: Before 2024-10-01\\n\\nGiven the current consistent upward trend of gold prices, increases driven by ongoing geopolitical tensions, market expectations for Federal Reserve interest rate cuts, and recent highs well above $2500, it is likely that Comex Gold Spot prices will exceed $2,700 per ounce before October 1, 2024.\"}\n",
      "FORECASTING USDA recall of Boar's Head deli meat\n",
      "28156 25 Given the widespread and severe nature of the listeria outbreak, along with the extensive recall and ongoing investigation, it is unlikely that the USDA's recall will be fully closed by October 1, 2024. The need for thorough remediation and the potential for more cases to emerge add to the likelihood that the recall will remain active for a longer period.\n",
      "FORECASTING 2024 Edo state gubernatorial election\n",
      "28154 1 The available information indicates that Kennedy Iyere is a candidate with less prominence and backing compared to the leading candidates from major parties like APC, PDP, and LP. Furthermore, Accord Party lacks a significant political presence and infrastructure in Edo State. Given these factors, Kennedy Iyere winning the gubernatorial election appears highly improbable.\n",
      "FORECASTING Comex Gold Spot prices\n",
      "28155 65 Given that gold prices are currently at a historic high and there are strong market expectations for a Federal Reserve interest rate cut, along with geopolitical tensions and economic indicators favoring a rise in gold prices, there is a notable probability that Comex Gold Spot prices will exceed $2,700 per ounce before October 1, 2024. The momentum and trends support a likely further increase, but the extent of the rise within the short given period might be restrained by potential market adjustments or external factors.\n",
      "MODEL DOMAIN\n",
      "28154 Will Kennedy Iyere win the September 21, 2024 Edo state gubernatorial election in Nigeria?\n",
      "Election outcome\n",
      "28155 Will Comex Gold Spot prices exceed $2,700 per ounce before October 1, 2024 according to Yahoo Finance?\n",
      "Market price\n",
      "28156 Will the USDA's recall of Boar's Head deli meat be closed before October 1, 2024?\n",
      "Other\n",
      "CORRELATOR\n",
      "|Edo state gubernatorial election 2024|28154|Will Kennedy Iyere win the September 21, 2024 Edo state gubernatorial election in Nigeria?|\n",
      "|Gold price movement|28155|Will Comex Gold Spot prices exceed $2,700 per ounce before October 1, 2024 according to Yahoo Finance?|\n",
      "|USDA Boar's Head deli meat recall|28156|Will the USDA's recall of Boar's Head deli meat be closed before October 1, 2024?|\n",
      "NEWS\n",
      "ASKING\n",
      "Researching Will the USDA's recall of Boar's Head deli meat be closed before October 1, 2024?\n",
      "ALL\n",
      "USDA inspectors had warned that a Boar's Head plant in Virginia posed an 'imminent threat' two years before a listeria outbreak and recall of 7 million pounds of meat products. The inspection documents showed the plant had green mold, condensation, rusted equipment, beetles, and other unsanitary conditions. Between Aug. 1, 2023, and Aug. 2, 2024, inspectors found 'heavy discolored meat buildup' and 'meat overspray on walls.' A USDA spokesperson said the investigation into the listeria outbreak is ongoing and will include a 'top-to-bottom review' to determine contributing factors. Boar's Head has stopped production at the plant and is working with the USDA and industry experts to determine how the liverwurst was adulterated. 'We are conducting an extensive investigation, working closely with the USDA and government regulatory agencies, as well as with the industry's leading food safety experts, to determine how our liverwurst produced at our Jarratt, Virginia, facility was adulterated and to prevent it from happening again,' the company said.\n",
      "saved asknews_for_question/28156.json\n",
      "ASKING\n",
      "Researching Will Kennedy Iyere win the September 21, 2024 Edo state gubernatorial election in Nigeria?\n",
      "ALL\n",
      "The Edo State governorship election on September 21 is a crucial moment for the state. The National Chairman of the Independent National Electoral Commission (INEC), Prof Mahmood Yakubu, has assured that the commission will ensure a free, fair, and credible election. However, the 2023 general elections under Yakubu's supervision were marred by controversy, leaving many Nigerians skeptical about the commission's neutrality. The security agencies in the state, particularly the Police, have also been accused of harassment and intimidation of opposition members. President Bola Tinubu's statement assuring the APC members that he will 'give Edo back to them' has raised concerns about the outcome of the election. The PDP candidate, Asue Ighodalo, stands out with a comprehensive manifesto that pledges to transform the state into a beacon of progress and prosperity. Ighodalo's person and antecedents offer hopes and assurances on what to expect if elected to office. His vision for Edo includes good governance, poverty reduction, education, and skill acquisition, as well as repositioning the healthcare system and transforming the state into the food basket of South-South Nigeria. The election is not about political parties, but about individuals and their capacities to deliver on their promises.\n",
      "saved asknews_for_question/28154.json\n",
      "ASKING\n",
      "Researching Will Comex Gold Spot prices exceed $2,700 per ounce before October 1, 2024 according to Yahoo Finance?\n",
      "ALL\n",
      "The price of gold exceeded $2560 per ounce on Friday, setting a new historical record, according to Trading Economics. This was due to the weakening of the US dollar and the decrease in government bond yields, as well as the latest economic data, which strengthened expectations of more aggressive actions from the Federal Reserve. September futures for gold on the Comex exchange are trading at around $2568 per ounce, a 0.4% increase from the previous session's close. Analysts at Goldman Sachs Research predict that the precious metal may reach $2700 per ounce by early 2025, driven by lower US interest rates and demand for gold from central banks in emerging markets, as they said, 'due to the decrease in US interest rates and demand for gold from central banks in emerging markets.' \n",
      "saved asknews_for_question/28155.json\n",
      "RATES\n",
      "RATES USDA Boar's Head deli meat recall {\"USDA Boar's Head deli meat recall\": \"1. Today's date: 2024-09-13\\n2. Measurement date: 2024-10-01\\n3. Time in days (D): 18 days\\n4. Most likely event date: The event is not certain to complete, but the complexity and the public health implications suggest it is unlikely to be completed by October 1, 2024.\\n5. Likely event date is: on or after the question end date\", 'Edo state gubernatorial election 2024': None, 'Gold price movement': None}\n",
      "RATES Edo state gubernatorial election 2024 {\"USDA Boar's Head deli meat recall\": \"1. Today's date: 2024-09-13\\n2. Measurement date: 2024-10-01\\n3. Time in days (D): 18 days\\n4. Most likely event date: The event is not certain to complete, but the complexity and the public health implications suggest it is unlikely to be completed by October 1, 2024.\\n5. Likely event date is: on or after the question end date\", 'Edo state gubernatorial election 2024': \"1. Today's date: 2024-09-13\\n2. The end (measurement) date of the question: 2024-09-21\\n3. The time in days D from today to end date: 8 days\\n4. The specific date at which the event is most likely to occur: 2024-09-21\\n5. Whether the likely event date is before, or on or after the question end date: on the question end date\", 'Gold price movement': None}\n",
      "RATES Gold price movement {\"USDA Boar's Head deli meat recall\": \"1. Today's date: 2024-09-13\\n2. Measurement date: 2024-10-01\\n3. Time in days (D): 18 days\\n4. Most likely event date: The event is not certain to complete, but the complexity and the public health implications suggest it is unlikely to be completed by October 1, 2024.\\n5. Likely event date is: on or after the question end date\", 'Edo state gubernatorial election 2024': \"1. Today's date: 2024-09-13\\n2. The end (measurement) date of the question: 2024-09-21\\n3. The time in days D from today to end date: 8 days\\n4. The specific date at which the event is most likely to occur: 2024-09-21\\n5. Whether the likely event date is before, or on or after the question end date: on the question end date\", 'Gold price movement': \"1. Today's date: 2024-09-13\\n2. End date of the question: 2024-10-01\\n3. Time in days D: 18 days\\n4. Most likely event date: Hard to predict but given current trends and expert opinions\\n5. Likely event date: On or after the question end date\\n\\nBased on the provided information about the current trends and expert predictions, there is no strong indication that Comex Gold Spot prices will exceed $2,700 per ounce before October 1, 2024. However, given market volatility and influencing factors, it's possible that the event could occur after the end date.\"}\n",
      "FORECASTING USDA Boar's Head deli meat recall\n",
      "28156 5 Given the ongoing nature of the outbreak, the complexity of the situation, and the time required for thorough investigation and resolution, it is unlikely that the recall will be closed before October 1, 2024. The significant contamination issues and the extensive public health impact suggest that regulatory actions and follow-up investigations will take more time to complete.\n",
      "FORECASTING Edo state gubernatorial election 2024\n",
      "28154 2 Given the dominance of the Peoples Democratic Party's (PDP) candidate Asue Ighodalo, backed by the current governor and other stakeholders, as well as the limited influence of the Accord Party, it is highly improbable that Kennedy Iyere will win the Edo state gubernatorial election.\n",
      "FORECASTING Gold price movement\n",
      "28155 20 While gold prices have surged recently and are impacted by Federal Reserve policies and geopolitical factors, reaching $2,700 per ounce before October 1, 2024, is unlikely. The current price, as of September 12, 2024, is $2,591.30. Achieving a nearly $109 increase in just 18 days would require significant market shifts. The upcoming Federal Reserve meeting could influence prices, but a hike of this magnitude seems improbable given the incremental movements observed. Therefore, I assess a 20% probability for this event.\n",
      "MODEL DOMAIN\n",
      "28154 Will Kennedy Iyere win the September 21, 2024 Edo state gubernatorial election in Nigeria?\n",
      "Election outcome\n",
      "28155 Will Comex Gold Spot prices exceed $2,700 per ounce before October 1, 2024 according to Yahoo Finance?\n",
      "Market price\n",
      "28156 Will the USDA's recall of Boar's Head deli meat be closed before October 1, 2024?\n",
      "Other\n",
      "CORRELATOR\n",
      "|2024 Edo state gubernatorial election|28154|Will Kennedy Iyere win the September 21, 2024 Edo state gubernatorial election in Nigeria?|\n",
      "|Comex Gold Spot prices|28155|Will Comex Gold Spot prices exceed $2,700 per ounce before October 1, 2024 according to Yahoo Finance?|\n",
      "|USDA's recall of Boar's Head deli meat|28156|Will the USDA's recall of Boar's Head deli meat be closed before October 1, 2024?|\n",
      "NEWS\n",
      "ASKING\n",
      "Researching Will the USDA's recall of Boar's Head deli meat be closed before October 1, 2024?\n",
      "ALL\n",
      "USDA inspectors had warned that a Boar's Head plant in Virginia posed an 'imminent threat' two years before a listeria outbreak and recall of 7 million pounds of meat products. The inspection documents showed the plant had green mold, condensation, rusted equipment, beetles, and other unsanitary conditions. Between Aug. 1, 2023, and Aug. 2, 2024, inspectors found 'heavy discolored meat buildup' and 'meat overspray on walls.' A USDA spokesperson said the investigation into the listeria outbreak is ongoing and will include a 'top-to-bottom review' to determine contributing factors. Boar's Head has stopped production at the plant and is working with the USDA and industry experts to determine how the liverwurst was adulterated. 'We are conducting an extensive investigation, working closely with the USDA and government regulatory agencies, as well as with the industry's leading food safety experts, to determine how our liverwurst produced at our Jarratt, Virginia, facility was adulterated and to prevent it from happening again,' the company said.\n",
      "saved asknews_for_question/28156.json\n",
      "ASKING\n",
      "Researching Will Kennedy Iyere win the September 21, 2024 Edo state gubernatorial election in Nigeria?\n",
      "ALL\n",
      "The Edo State governorship election on September 21 is a crucial moment for the state. The National Chairman of the Independent National Electoral Commission (INEC), Prof Mahmood Yakubu, has assured that the commission will ensure a free, fair, and credible election. However, the 2023 general elections under Yakubu's supervision were marred by controversy, leaving many Nigerians skeptical about the commission's neutrality. The security agencies in the state, particularly the Police, have also been accused of harassment and intimidation of opposition members. President Bola Tinubu's statement assuring the APC members that he will 'give Edo back to them' has raised concerns about the outcome of the election. The PDP candidate, Asue Ighodalo, stands out with a comprehensive manifesto that pledges to transform the state into a beacon of progress and prosperity. Ighodalo's person and antecedents offer hopes and assurances on what to expect if elected to office. His vision for Edo includes good governance, poverty reduction, education, and skill acquisition, as well as repositioning the healthcare system and transforming the state into the food basket of South-South Nigeria. The election is not about political parties, but about individuals and their capacities to deliver on their promises.\n",
      "saved asknews_for_question/28154.json\n",
      "ASKING\n",
      "Researching Will Comex Gold Spot prices exceed $2,700 per ounce before October 1, 2024 according to Yahoo Finance?\n",
      "ALL\n",
      "The price of gold exceeded $2560 per ounce on Friday, setting a new historical record, according to Trading Economics. This was due to the weakening of the US dollar and the decrease in government bond yields, as well as the latest economic data, which strengthened expectations of more aggressive actions from the Federal Reserve. September futures for gold on the Comex exchange are trading at around $2568 per ounce, a 0.4% increase from the previous session's close. Analysts at Goldman Sachs Research predict that the precious metal may reach $2700 per ounce by early 2025, driven by lower US interest rates and demand for gold from central banks in emerging markets, as they said, 'due to the decrease in US interest rates and demand for gold from central banks in emerging markets.' \n",
      "saved asknews_for_question/28155.json\n",
      "RATES\n",
      "RATES USDA's recall of Boar's Head deli meat {\"USDA's recall of Boar's Head deli meat\": \"1. Today's date: 2024-09-13\\n2. End date: 2024-10-01\\n3. Time in days (D): 18 days\\n4. Likely event date: The recall closure process often takes a considerable amount of time, especially given the severity of the issues, the spread of contamination, and the extensive investigation in multiple states mentioned in the news. As of today, it is unlikely that all necessary procedures and checks will be completed in the next 18 days.\\n5. Likely event date is on or after the question end date: On or after 2024-10-01\", '2024 Edo state gubernatorial election': None, 'Comex Gold Spot prices': None}\n",
      "RATES 2024 Edo state gubernatorial election {\"USDA's recall of Boar's Head deli meat\": \"1. Today's date: 2024-09-13\\n2. End date: 2024-10-01\\n3. Time in days (D): 18 days\\n4. Likely event date: The recall closure process often takes a considerable amount of time, especially given the severity of the issues, the spread of contamination, and the extensive investigation in multiple states mentioned in the news. As of today, it is unlikely that all necessary procedures and checks will be completed in the next 18 days.\\n5. Likely event date is on or after the question end date: On or after 2024-10-01\", '2024 Edo state gubernatorial election': \"1. Today's date: 2024-09-13\\n2. End (measurement) date of the question: 2024-09-21\\n3. Time in days D from today to end date: 8 days\\n4. Specific date at which the event is most likely to occur: 2024-09-21\\n5. Likely event date is: On or after the question end date\", 'Comex Gold Spot prices': None}\n",
      "RATES Comex Gold Spot prices {\"USDA's recall of Boar's Head deli meat\": \"1. Today's date: 2024-09-13\\n2. End date: 2024-10-01\\n3. Time in days (D): 18 days\\n4. Likely event date: The recall closure process often takes a considerable amount of time, especially given the severity of the issues, the spread of contamination, and the extensive investigation in multiple states mentioned in the news. As of today, it is unlikely that all necessary procedures and checks will be completed in the next 18 days.\\n5. Likely event date is on or after the question end date: On or after 2024-10-01\", '2024 Edo state gubernatorial election': \"1. Today's date: 2024-09-13\\n2. End (measurement) date of the question: 2024-09-21\\n3. Time in days D from today to end date: 8 days\\n4. Specific date at which the event is most likely to occur: 2024-09-21\\n5. Likely event date is: On or after the question end date\", 'Comex Gold Spot prices': \"1. Today's Date: 2024-09-13\\n2. End Date of the Question: 2024-10-01\\n3. Time in Days (D): 18 days\\n4. Most Likely Event Date: Based on current news trends and statements from financial analysts, it is uncertain. However, market momentum and sentiment towards gold suggest it could happen within this timeframe.\\n5. Likely Event Date: On or after the Question's End Date (2024-10-01)\\n\\nGiven the current trend and expert predictions, there is a reasonable probability that Comex Gold Spot prices might exceed $2,700 per ounce before or around October 1, 2024.\"}\n",
      "FORECASTING USDA's recall of Boar's Head deli meat\n",
      "28156 15 Given the extensive contamination, numerous health violations, current investigatory actions, and the varying expiration dates of the recalled products (some of which extend into October), it is highly unlikely that the recall will be resolved and closed within the next 18 days. The ongoing nature of the investigation and the need to ensure public safety make it improbable that all necessary procedures and checks will be completed by October 1, 2024. Therefore, the probability of the USDA's recall of Boar's Head deli meat being closed before October 1, 2024, is low.\n",
      "FORECASTING 2024 Edo state gubernatorial election\n",
      "28154 2 Based on the provided information and news about the political situation in Edo state, Kennedy Iyere's chances of winning the election appear very slim. The principal candidates mentioned are from the major parties: PDP, APC, and LP, with Kennedy Iyere from Accord Party not being prominently discussed. Additionally, Accord Party does not hold significant political power in the region, and Iyere's campaign has not been highlighted as impactful in the news. Therefore, it is highly unlikely that he will win the election.\n",
      "FORECASTING Comex Gold Spot prices\n",
      "28155 45 While gold prices have recently reached record highs and there is significant market momentum, the price exceeding $2,700 per ounce within a relatively short 18-day timeframe is uncertain. Several positive factors, such as potential interest rate cuts and economic instability, support the continuation of the rally. However, reaching $2,700 per ounce mark would require a substantial increase from the current levels around $2,600. Thus, the probability is significant but still under 50%.\n",
      "MODEL DOMAIN\n",
      "28154 Will Kennedy Iyere win the September 21, 2024 Edo state gubernatorial election in Nigeria?\n",
      "Election outcome\n",
      "28155 Will Comex Gold Spot prices exceed $2,700 per ounce before October 1, 2024 according to Yahoo Finance?\n",
      "Market price\n",
      "28156 Will the USDA's recall of Boar's Head deli meat be closed before October 1, 2024?\n",
      "Corporate action\n",
      "CORRELATOR\n",
      "|Edo State Gubernatorial Election|28154|Will Kennedy Iyere win the September 21, 2024 Edo state gubernatorial election in Nigeria?|\n",
      "|Gold Prices|28155|Will Comex Gold Spot prices exceed $2,700 per ounce before October 1, 2024 according to Yahoo Finance?|\n",
      "|Boar's Head Deli Meat Recall|28156|Will the USDA's recall of Boar's Head deli meat be closed before October 1, 2024?|\n",
      "NEWS\n",
      "ASKING\n",
      "Researching Will Comex Gold Spot prices exceed $2,700 per ounce before October 1, 2024 according to Yahoo Finance?\n",
      "ALL\n",
      "The price of gold exceeded $2560 per ounce on Friday, setting a new historical record, according to Trading Economics. This was due to the weakening of the US dollar and the decrease in government bond yields, as well as the latest economic data, which strengthened expectations of more aggressive actions from the Federal Reserve. September futures for gold on the Comex exchange are trading at around $2568 per ounce, a 0.4% increase from the previous session's close. Analysts at Goldman Sachs Research predict that the precious metal may reach $2700 per ounce by early 2025, driven by lower US interest rates and demand for gold from central banks in emerging markets, as they said, 'due to the decrease in US interest rates and demand for gold from central banks in emerging markets.' \n",
      "saved asknews_for_question/28155.json\n",
      "ASKING\n",
      "Researching Will the USDA's recall of Boar's Head deli meat be closed before October 1, 2024?\n",
      "ALL\n",
      "USDA inspectors had warned that a Boar's Head plant in Virginia posed an 'imminent threat' two years before a listeria outbreak and recall of 7 million pounds of meat products. The inspection documents showed the plant had green mold, condensation, rusted equipment, beetles, and other unsanitary conditions. Between Aug. 1, 2023, and Aug. 2, 2024, inspectors found 'heavy discolored meat buildup' and 'meat overspray on walls.' A USDA spokesperson said the investigation into the listeria outbreak is ongoing and will include a 'top-to-bottom review' to determine contributing factors. Boar's Head has stopped production at the plant and is working with the USDA and industry experts to determine how the liverwurst was adulterated. 'We are conducting an extensive investigation, working closely with the USDA and government regulatory agencies, as well as with the industry's leading food safety experts, to determine how our liverwurst produced at our Jarratt, Virginia, facility was adulterated and to prevent it from happening again,' the company said.\n",
      "saved asknews_for_question/28156.json\n",
      "ASKING\n",
      "Researching Will Kennedy Iyere win the September 21, 2024 Edo state gubernatorial election in Nigeria?\n",
      "ALL\n",
      "The Edo State governorship election on September 21 is a crucial moment for the state. The National Chairman of the Independent National Electoral Commission (INEC), Prof Mahmood Yakubu, has assured that the commission will ensure a free, fair, and credible election. However, the 2023 general elections under Yakubu's supervision were marred by controversy, leaving many Nigerians skeptical about the commission's neutrality. The security agencies in the state, particularly the Police, have also been accused of harassment and intimidation of opposition members. President Bola Tinubu's statement assuring the APC members that he will 'give Edo back to them' has raised concerns about the outcome of the election. The PDP candidate, Asue Ighodalo, stands out with a comprehensive manifesto that pledges to transform the state into a beacon of progress and prosperity. Ighodalo's person and antecedents offer hopes and assurances on what to expect if elected to office. His vision for Edo includes good governance, poverty reduction, education, and skill acquisition, as well as repositioning the healthcare system and transforming the state into the food basket of South-South Nigeria. The election is not about political parties, but about individuals and their capacities to deliver on their promises.\n",
      "saved asknews_for_question/28154.json\n",
      "RATES\n",
      "RATES Gold Prices {'Gold Prices': \"Today's Date: 2024-09-13  \\nEnd Date of the Question: 2024-10-01  \\nTime in Days (D): 18 days  \\n\\nMost Likely Event Date: The price of Comex gold spot may increase or decrease dynamically and significantly over short periods, making it challenging to predict the exact date of crossing $2,700. Based on the current high of approximately $2,600 per ounce and the described market volatility, it seems plausible that if the trend continues, gold could hit $2,700 soon. Therefore, let's assume a potential crossing date within the next 10-15 days.\\n\\nSpecific Date Most Likely: 2024-09-28  \\nLikely Event Date is: On or after the Question End Date\", \"Boar's Head Deli Meat Recall\": None, 'Edo State Gubernatorial Election': None}\n",
      "RATES Boar's Head Deli Meat Recall {'Gold Prices': \"Today's Date: 2024-09-13  \\nEnd Date of the Question: 2024-10-01  \\nTime in Days (D): 18 days  \\n\\nMost Likely Event Date: The price of Comex gold spot may increase or decrease dynamically and significantly over short periods, making it challenging to predict the exact date of crossing $2,700. Based on the current high of approximately $2,600 per ounce and the described market volatility, it seems plausible that if the trend continues, gold could hit $2,700 soon. Therefore, let's assume a potential crossing date within the next 10-15 days.\\n\\nSpecific Date Most Likely: 2024-09-28  \\nLikely Event Date is: On or after the Question End Date\", \"Boar's Head Deli Meat Recall\": \"**Today's date:** 2024-09-13  \\n**End (measurement) date of the question:** 2024-10-01  \\n**Time in days D from today to end date:** 18 days  \\n**Specific date at which event is most likely to occur:** Boar's Head recall will likely not be closed until much later than the end date due to the recent widespread contamination events and ongoing investigations.\\n**Whether the likely event date is before, or on or after the question end date:** On or after the question end date\", 'Edo State Gubernatorial Election': None}\n",
      "RATES Edo State Gubernatorial Election {'Gold Prices': \"Today's Date: 2024-09-13  \\nEnd Date of the Question: 2024-10-01  \\nTime in Days (D): 18 days  \\n\\nMost Likely Event Date: The price of Comex gold spot may increase or decrease dynamically and significantly over short periods, making it challenging to predict the exact date of crossing $2,700. Based on the current high of approximately $2,600 per ounce and the described market volatility, it seems plausible that if the trend continues, gold could hit $2,700 soon. Therefore, let's assume a potential crossing date within the next 10-15 days.\\n\\nSpecific Date Most Likely: 2024-09-28  \\nLikely Event Date is: On or after the Question End Date\", \"Boar's Head Deli Meat Recall\": \"**Today's date:** 2024-09-13  \\n**End (measurement) date of the question:** 2024-10-01  \\n**Time in days D from today to end date:** 18 days  \\n**Specific date at which event is most likely to occur:** Boar's Head recall will likely not be closed until much later than the end date due to the recent widespread contamination events and ongoing investigations.\\n**Whether the likely event date is before, or on or after the question end date:** On or after the question end date\", 'Edo State Gubernatorial Election': \"1. Today's date: 2024-09-13\\n2. End date of the question: 2024-09-21\\n3. Time in days (D) from today to end date: 8 days\\n4. Specific date at which the event is most likely to occur: 2024-09-21\\n5. Likely event date is on or after the question end date\"}\n",
      "FORECASTING Gold Prices\n",
      "28155 35 While gold prices have been experiencing significant increases due to a combination of geopolitical tensions, expectations of US Federal Reserve interest rate cuts, and economic uncertainties, the leap from $2,600 to $2,700 within less than a month is substantial. Although there is upward momentum, the short time frame and current market sentiment suggest a lower probability of crossing $2,700 by the end of September. Therefore, I assess a 35% probability for gold spot prices to exceed $2,700 per ounce before October 1, 2024.\n",
      "FORECASTING Boar's Head Deli Meat Recall\n",
      "28156 5 The likelihood of the USDA's recall of Boar's Head deli meat being closed before October 1, 2024, is very low. Given the severe nature of the contamination, the widespread recall affecting millions of pounds of product, and the ongoing investigations into the conditions at the Boar's Head facility, it is highly improbable that these issues will be resolved and the recall closed within the next 18 days. Additionally, the fact that symptoms of listeria can appear weeks after consumption further complicates the closure of the recall process.\n",
      "FORECASTING Edo State Gubernatorial Election\n",
      "28154 2 Kennedy Iyere is a candidate from the Accord Party, which does not currently hold any seats in Nigeria's National Assembly. Given the strong competition from more established candidates like Asue Ighodalo (PDP), Monday Okpebholo (APC), and Olumide Akpata (LP), and the party's overall lack of influence, it is highly unlikely that Iyere will win the election.\n"
     ]
    }
   ],
   "source": [
    "for fcst in forecasters:\n",
    "    fcst.fit()"
   ]
  },
  {
   "cell_type": "code",
   "execution_count": 15,
   "metadata": {},
   "outputs": [
    {
     "name": "stdout",
     "output_type": "stream",
     "text": [
      "forecaster 0\n",
      "28154 Will Kennedy Iyere win the September 21, 2024 Edo state gubernatorial election in Nigeria?\n",
      "Forecast 5\n",
      "Rationale Based on the extensive news and background information, the primary contenders for the September 21, 2024 Edo State gubernatorial election appear to be the candidates from the PDP (Asue Ighodalo), APC (Monday Okpebholo), and LP (Olumide Akpata). Kennedy Iyere, representing the Accord Party, has significantly less visibility and support compared to these leading candidates. The Accord Party's smaller footprint in Nigerian politics overall and the controversy within the party further diminishes his likelihood of winning. Therefore, Kennedy Iyere's chances of winning can be considered very low. \n",
      "\n",
      "28155 Will Comex Gold Spot prices exceed $2,700 per ounce before October 1, 2024 according to Yahoo Finance?\n",
      "Forecast 40\n",
      "Rationale Gold prices are currently at historic highs, driven by expectations of further interest rate cuts and geopolitical tensions. However, the current price is still significantly below $2,700 per ounce. Given the volatility of gold prices and the relatively short time frame until October 1, 2024, it is relatively unlikely that prices will exceed $2,700 per ounce within this period. Historical patterns suggest such a rapid increase is uncommon, albeit not impossible under extreme conditions. Therefore, assigning a 40% probability reflects this moderate likelihood based on recent trends and market conditions. \n",
      "\n",
      "28156 Will the USDA's recall of Boar's Head deli meat be closed before October 1, 2024?\n",
      "Forecast 3\n",
      "Rationale Given the extensive ongoing investigation and the severe health issues involved, it seems highly unlikely that the USDA's recall of Boar's Head deli meat will be closed before October 1, 2024. Recalls of this magnitude, particularly involving serious issues like listeria contamination, typically require thorough and prolonged resolution processes to ensure all safety standards are met and implemented. The fact that symptoms can emerge weeks later also adds complexities to the recall process, implying that it will likely extend beyond the end of the measurement date. \n",
      "\n",
      "=====================================================================\n",
      "forecaster 1\n",
      "28154 Will Kennedy Iyere win the September 21, 2024 Edo state gubernatorial election in Nigeria?\n",
      "Forecast 1\n",
      "Rationale The available information indicates that Kennedy Iyere is a candidate with less prominence and backing compared to the leading candidates from major parties like APC, PDP, and LP. Furthermore, Accord Party lacks a significant political presence and infrastructure in Edo State. Given these factors, Kennedy Iyere winning the gubernatorial election appears highly improbable. \n",
      "\n",
      "28155 Will Comex Gold Spot prices exceed $2,700 per ounce before October 1, 2024 according to Yahoo Finance?\n",
      "Forecast 65\n",
      "Rationale Given that gold prices are currently at a historic high and there are strong market expectations for a Federal Reserve interest rate cut, along with geopolitical tensions and economic indicators favoring a rise in gold prices, there is a notable probability that Comex Gold Spot prices will exceed $2,700 per ounce before October 1, 2024. The momentum and trends support a likely further increase, but the extent of the rise within the short given period might be restrained by potential market adjustments or external factors. \n",
      "\n",
      "28156 Will the USDA's recall of Boar's Head deli meat be closed before October 1, 2024?\n",
      "Forecast 25\n",
      "Rationale Given the widespread and severe nature of the listeria outbreak, along with the extensive recall and ongoing investigation, it is unlikely that the USDA's recall will be fully closed by October 1, 2024. The need for thorough remediation and the potential for more cases to emerge add to the likelihood that the recall will remain active for a longer period. \n",
      "\n",
      "=====================================================================\n",
      "forecaster 2\n",
      "28154 Will Kennedy Iyere win the September 21, 2024 Edo state gubernatorial election in Nigeria?\n",
      "Forecast 2\n",
      "Rationale Given the dominance of the Peoples Democratic Party's (PDP) candidate Asue Ighodalo, backed by the current governor and other stakeholders, as well as the limited influence of the Accord Party, it is highly improbable that Kennedy Iyere will win the Edo state gubernatorial election. \n",
      "\n",
      "28155 Will Comex Gold Spot prices exceed $2,700 per ounce before October 1, 2024 according to Yahoo Finance?\n",
      "Forecast 20\n",
      "Rationale While gold prices have surged recently and are impacted by Federal Reserve policies and geopolitical factors, reaching $2,700 per ounce before October 1, 2024, is unlikely. The current price, as of September 12, 2024, is $2,591.30. Achieving a nearly $109 increase in just 18 days would require significant market shifts. The upcoming Federal Reserve meeting could influence prices, but a hike of this magnitude seems improbable given the incremental movements observed. Therefore, I assess a 20% probability for this event. \n",
      "\n",
      "28156 Will the USDA's recall of Boar's Head deli meat be closed before October 1, 2024?\n",
      "Forecast 5\n",
      "Rationale Given the ongoing nature of the outbreak, the complexity of the situation, and the time required for thorough investigation and resolution, it is unlikely that the recall will be closed before October 1, 2024. The significant contamination issues and the extensive public health impact suggest that regulatory actions and follow-up investigations will take more time to complete. \n",
      "\n",
      "=====================================================================\n",
      "forecaster 3\n",
      "28154 Will Kennedy Iyere win the September 21, 2024 Edo state gubernatorial election in Nigeria?\n",
      "Forecast 2\n",
      "Rationale Based on the provided information and news about the political situation in Edo state, Kennedy Iyere's chances of winning the election appear very slim. The principal candidates mentioned are from the major parties: PDP, APC, and LP, with Kennedy Iyere from Accord Party not being prominently discussed. Additionally, Accord Party does not hold significant political power in the region, and Iyere's campaign has not been highlighted as impactful in the news. Therefore, it is highly unlikely that he will win the election. \n",
      "\n",
      "28155 Will Comex Gold Spot prices exceed $2,700 per ounce before October 1, 2024 according to Yahoo Finance?\n",
      "Forecast 45\n",
      "Rationale While gold prices have recently reached record highs and there is significant market momentum, the price exceeding $2,700 per ounce within a relatively short 18-day timeframe is uncertain. Several positive factors, such as potential interest rate cuts and economic instability, support the continuation of the rally. However, reaching $2,700 per ounce mark would require a substantial increase from the current levels around $2,600. Thus, the probability is significant but still under 50%. \n",
      "\n",
      "28156 Will the USDA's recall of Boar's Head deli meat be closed before October 1, 2024?\n",
      "Forecast 15\n",
      "Rationale Given the extensive contamination, numerous health violations, current investigatory actions, and the varying expiration dates of the recalled products (some of which extend into October), it is highly unlikely that the recall will be resolved and closed within the next 18 days. The ongoing nature of the investigation and the need to ensure public safety make it improbable that all necessary procedures and checks will be completed by October 1, 2024. Therefore, the probability of the USDA's recall of Boar's Head deli meat being closed before October 1, 2024, is low. \n",
      "\n",
      "=====================================================================\n",
      "forecaster 4\n",
      "28154 Will Kennedy Iyere win the September 21, 2024 Edo state gubernatorial election in Nigeria?\n",
      "Forecast 2\n",
      "Rationale Kennedy Iyere is a candidate from the Accord Party, which does not currently hold any seats in Nigeria's National Assembly. Given the strong competition from more established candidates like Asue Ighodalo (PDP), Monday Okpebholo (APC), and Olumide Akpata (LP), and the party's overall lack of influence, it is highly unlikely that Iyere will win the election. \n",
      "\n",
      "28155 Will Comex Gold Spot prices exceed $2,700 per ounce before October 1, 2024 according to Yahoo Finance?\n",
      "Forecast 35\n",
      "Rationale While gold prices have been experiencing significant increases due to a combination of geopolitical tensions, expectations of US Federal Reserve interest rate cuts, and economic uncertainties, the leap from $2,600 to $2,700 within less than a month is substantial. Although there is upward momentum, the short time frame and current market sentiment suggest a lower probability of crossing $2,700 by the end of September. Therefore, I assess a 35% probability for gold spot prices to exceed $2,700 per ounce before October 1, 2024. \n",
      "\n",
      "28156 Will the USDA's recall of Boar's Head deli meat be closed before October 1, 2024?\n",
      "Forecast 5\n",
      "Rationale The likelihood of the USDA's recall of Boar's Head deli meat being closed before October 1, 2024, is very low. Given the severe nature of the contamination, the widespread recall affecting millions of pounds of product, and the ongoing investigations into the conditions at the Boar's Head facility, it is highly improbable that these issues will be resolved and the recall closed within the next 18 days. Additionally, the fact that symptoms of listeria can appear weeks after consumption further complicates the closure of the recall process. \n",
      "\n",
      "=====================================================================\n"
     ]
    }
   ],
   "source": [
    "for i, fcst in enumerate(forecasters):\n",
    "    print(\"forecaster\", i)\n",
    "    fcst.report()\n",
    "    print(\"=====================================================================\")"
   ]
  },
  {
   "cell_type": "code",
   "execution_count": null,
   "metadata": {},
   "outputs": [],
   "source": [
    "import numpy as np\n",
    "from Summarizer import Summarizer\n",
    "from MetacGPT import MetacGPT"
   ]
  },
  {
   "cell_type": "code",
   "execution_count": null,
   "metadata": {},
   "outputs": [],
   "source": [
    "self = Forecaster({id: IFP(id) for id in today_ids})"
   ]
  },
  {
   "cell_type": "code",
   "execution_count": 44,
   "metadata": {},
   "outputs": [],
   "source": [
    "editor = Summarizer(MetacGPT)"
   ]
  },
  {
   "cell_type": "code",
   "execution_count": 45,
   "metadata": {},
   "outputs": [],
   "source": [
    "for ifp in self.ifps.values():\n",
    "    ifp.forecast = np.mean([fcst.ifps[ifp.id].forecast for fcst in forecasters])\n",
    "    ifp.rationale = editor.summarize('\\n'.join([fcst.ifps[ifp.id].rationale for fcst in forecasters]))"
   ]
  },
  {
   "cell_type": "code",
   "execution_count": 46,
   "metadata": {},
   "outputs": [
    {
     "name": "stdout",
     "output_type": "stream",
     "text": [
      "28154 Will Kennedy Iyere win the September 21, 2024 Edo state gubernatorial election in Nigeria?\n",
      "Forecast 2.4\n",
      "Rationale Kennedy Iyere's chances of winning the September 21, 2024 Edo State gubernatorial election are highly improbable due to his limited visibility, the Accord Party's diminished political presence and controversies, and the strong competition from more established candidates in the PDP (Asue Ighodalo), APC (Monday Okpebholo), and LP (Olumide Akpata). \n",
      "\n",
      "28155 Will Comex Gold Spot prices exceed $2,700 per ounce before October 1, 2024 according to Yahoo Finance?\n",
      "Forecast 41.0\n",
      "Rationale Despite recent historic highs in gold prices driven by expectations of interest rate cuts and geopolitical tensions, the likelihood that Comex Gold Spot prices will exceed $2,700 per ounce by October 1, 2024, remains relatively low due to the substantial increase required within a short time frame and historical patterns indicating such rapid price hikes are uncommon, leading to a moderate-to-low assigned probability ranging between 20% and 40%. \n",
      "\n",
      "28156 Will the USDA's recall of Boar's Head deli meat be closed before October 1, 2024?\n",
      "Forecast 10.6\n",
      "Rationale Due to the severe listeria contamination, extensive and ongoing investigation, and the complexities involved in ensuring public health safety, it is highly unlikely that the USDA's recall of Boar's Head deli meat will be closed before October 1, 2024. \n",
      "\n"
     ]
    }
   ],
   "source": [
    "self.report()"
   ]
  },
  {
   "cell_type": "code",
   "execution_count": 47,
   "metadata": {},
   "outputs": [
    {
     "name": "stdout",
     "output_type": "stream",
     "text": [
      "Prediction posted for  28154\n",
      "Comment posted for  28154\n",
      "Prediction posted for  28155\n",
      "Comment posted for  28155\n",
      "Prediction posted for  28156\n",
      "Comment posted for  28156\n"
     ]
    }
   ],
   "source": [
    "self.upload()"
   ]
  },
  {
   "cell_type": "code",
   "execution_count": null,
   "metadata": {},
   "outputs": [],
   "source": []
  }
 ],
 "metadata": {
  "colab": {
   "provenance": []
  },
  "kernelspec": {
   "display_name": "trader",
   "language": "python",
   "name": "trader"
  },
  "language_info": {
   "codemirror_mode": {
    "name": "ipython",
    "version": 3
   },
   "file_extension": ".py",
   "mimetype": "text/x-python",
   "name": "python",
   "nbconvert_exporter": "python",
   "pygments_lexer": "ipython3",
   "version": "3.10.6"
  }
 },
 "nbformat": 4,
 "nbformat_minor": 4
}
