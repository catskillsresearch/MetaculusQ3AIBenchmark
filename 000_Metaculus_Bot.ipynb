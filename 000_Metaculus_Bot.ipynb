{
 "cells": [
  {
   "cell_type": "markdown",
   "metadata": {},
   "source": [
    "# 000 Forecasting Bot"
   ]
  },
  {
   "cell_type": "code",
   "execution_count": 1,
   "metadata": {},
   "outputs": [],
   "source": [
    "%load_ext autoreload\n",
    "%autoreload 2"
   ]
  },
  {
   "cell_type": "code",
   "execution_count": 2,
   "metadata": {},
   "outputs": [],
   "source": [
    "from IFP import IFP, list_questions"
   ]
  },
  {
   "cell_type": "code",
   "execution_count": 3,
   "metadata": {},
   "outputs": [],
   "source": [
    "ifps = list_questions()['results']"
   ]
  },
  {
   "cell_type": "code",
   "execution_count": 4,
   "metadata": {},
   "outputs": [
    {
     "data": {
      "text/plain": [
       "[27788, 27789, 27790, 27791]"
      ]
     },
     "execution_count": 4,
     "metadata": {},
     "output_type": "execute_result"
    }
   ],
   "source": [
    "today_ids = list(sorted([x['id'] for x in ifps])) if ifps else [27238, 27239, 27240, 27241]\n",
    "today_ids"
   ]
  },
  {
   "cell_type": "code",
   "execution_count": 5,
   "metadata": {},
   "outputs": [],
   "source": [
    "ifps = {id: IFP(id) for id in today_ids}"
   ]
  },
  {
   "cell_type": "code",
   "execution_count": 6,
   "metadata": {},
   "outputs": [],
   "source": [
    "from Forecaster import Forecaster"
   ]
  },
  {
   "cell_type": "code",
   "execution_count": 7,
   "metadata": {},
   "outputs": [],
   "source": [
    "fcst = Forecaster(ifps)"
   ]
  },
  {
   "cell_type": "code",
   "execution_count": 8,
   "metadata": {},
   "outputs": [
    {
     "name": "stdout",
     "output_type": "stream",
     "text": [
      "MODEL DOMAIN\n",
      "CORRELATOR\n",
      "|Tesla deliveries Q3 2024|27788|Will Tesla increase its deliveries in Q3 2024 compared with Q2 2024?|\n",
      "|Magnificent Seven bubble|27789|Will the bubble in the Magnificent Seven pop before September 30, 2024?|\n",
      "|OpenAI GPT-5 announcement|27790|Will OpenAI announce GPT-5 before September 30, 2024?|\n",
      "|Cannabis Schedule I status|27791|Will cannabis be removed from Schedule I of the Controlled Substance Act before September 30, 2024?|\n",
      "NEWS\n",
      "ASKING\n",
      "Researching Will cannabis be removed from Schedule I of the Controlled Substance Act before September 30, 2024?\n",
      "ALL\n",
      "The Drug Enforcement Agency's proposal to reschedule cannabis from Schedule I to Schedule III has been met with skepticism from local marijuana professionals. Dylan Mattole, a cannabis cultivator, believes that rescheduling is an incremental improvement, but does not address the major issue of marijuana remaining illegal at the federal level. He suggests that de-scheduling would be a more effective solution. Ross Gordon, policy director for the Humboldt County Growers Alliance, shares similar concerns, stating that rescheduling could lead to greater regulation due to the FDA's possible involvement. Both men agree that the cannabis industry needs to emulate other craft industries, but this requires the ability to ship products directly to consumers, which is currently illegal under federal law. The federal hearing on rescheduling is set for December 2, and the final decision will likely occur after the next president is elected. Gordon notes that while rescheduling may have some modest positive effects, the consequences are still unknown.\n",
      "saved asknews_for_question/27791.json\n",
      "ASKING\n",
      "Researching Will the bubble in the Magnificent Seven pop before September 30, 2024?\n",
      "ALL\n",
      "The US stock market is expected to rise on Thursday after losses in the middle of the week. Nvidia's quarterly earnings are in focus, with the company's stock down 3.5% pre-market after a strong run. However, many analysts expect solid quarterly earnings from the US chipmaker, have raised their price targets, and reaffirmed their positive investment opinions. Salesforce also impressed with its numbers and strong outlook. The Dow Jones Industrial Average is expected to rise 0.7% to 41,393 points, according to broker IG, and is on track to reach its record high of over 41,400 points set on Monday. The Nasdaq-100 is also expected to rise 0.5% to 19,444 points. Nvidia's stock has been affected by investors' doubts about the company's outlook, despite analysts' positive views on its solid and positive earnings. Portfoliomanager Thomas Altmann from QC Partners said that Nvidia's outlook 'disappointed at some points.' A stock strategist noted that Nvidia's strong price increase of 150% since the beginning of the year has driven the entire market rally, but the high expectations for the company's next earnings report made it difficult to meet. Salesforce's stock rose by over 4% pre-market after the company raised its annual targets. Crowdstrike, a cybersecurity company, also exceeded expectations, but its stock fell by 2% pre-market. HP Inc's stock fell by 3% pre-market due to declining profits and missing market estimates. Dollar General's stock fell by 24% pre-market after weak earnings and lowered annual targets, while Dollar Tree fell by 9%. Best Buy, however, impressed with raised targets and its stock rose by 14%.\n",
      "saved asknews_for_question/27789.json\n",
      "ASKING\n",
      "Researching Will OpenAI announce GPT-5 before September 30, 2024?\n",
      "ALL\n",
      "OpenAI, the company behind ChatGPT, is reportedly seeking a new funding round that could value the company at $100 billion. According to Bloomberg sources, OpenAI has been in talks with Thrive Capital and Microsoft since December to raise around $1 billion. This would be in addition to the $86 billion valuation achieved through an employee stock sale earlier this year. OpenAI's financial situation is complex, with the company reportedly losing billions of dollars annually despite generating significant revenue from ChatGPT and its AI models. However, the company's revenue is growing, driven by the success of its GPT-4o model and its partnership with Apple. As Apple's Siri and other iOS features will integrate ChatGPT, this could lead to increased adoption and revenue for OpenAI.\n",
      "saved asknews_for_question/27790.json\n",
      "ASKING\n",
      "Researching Will Tesla increase its deliveries in Q3 2024 compared with Q2 2024?\n",
      "ALL\n",
      "Tesla is attempting to make a comeback in the upward trend, but it still needs to surpass the 200 Euro mark, according to chart analysts. However, the company may face a new challenge as J.D. Power has lowered its sales forecast for US electric vehicles for the current year. This is not a positive development for Tesla, which is already struggling with declining global demand. As a result, the market reaction to Tesla's stock has been a downward trend, but chart technicians believe that the 200 Euro mark is still achievable and important. As Chartanalysten said, 'It's going to take more than just a few days to turn the trend around, but we're optimistic that Tesla can make a comeback.' \n",
      "saved asknews_for_question/27788.json\n",
      "RATES\n",
      "RATES Cannabis Schedule I status {'Cannabis Schedule I status': \"1. Today's date: 2024-08-29\\n2. End (measurement) date of the question: 2024-09-30\\n3. Time in days (D) from today to end date: 32 days\\n4. Specific date at which the event is most likely to occur: The most likely specific date for cannabis to be removed from Schedule I of the Controlled Substances Act is after the December 2, 2024, hearing.\\n5. Likely event date is: On or after the question end date\", 'Magnificent Seven bubble': None, 'OpenAI GPT-5 announcement': None, 'Tesla deliveries Q3 2024': None}\n",
      "RATES Magnificent Seven bubble {'Cannabis Schedule I status': \"1. Today's date: 2024-08-29\\n2. End (measurement) date of the question: 2024-09-30\\n3. Time in days (D) from today to end date: 32 days\\n4. Specific date at which the event is most likely to occur: The most likely specific date for cannabis to be removed from Schedule I of the Controlled Substances Act is after the December 2, 2024, hearing.\\n5. Likely event date is: On or after the question end date\", 'Magnificent Seven bubble': \"1. Today's Date: 2024-08-29\\n2. End Date of the Question: 2024-09-30\\n3. Time in Days D: 32 days\\n4. Specific Date Event is Most Likely to Occur: The bursting of the 'Magnificent Seven' bubble is a highly speculative event influenced by numerous market factors such as upcoming earnings reports, interest rate decisions, and ongoing geopolitical issues. Thus, pinpointing a specific date is challenging. However, based on recent market trends, significant volatility and potential for the bubble to pop might coincide with major financial disclosures or market reactions around the end of September.\\n5. Likely Event Date Is: On or after the question end date\", 'OpenAI GPT-5 announcement': None, 'Tesla deliveries Q3 2024': None}\n",
      "RATES OpenAI GPT-5 announcement {'Cannabis Schedule I status': \"1. Today's date: 2024-08-29\\n2. End (measurement) date of the question: 2024-09-30\\n3. Time in days (D) from today to end date: 32 days\\n4. Specific date at which the event is most likely to occur: The most likely specific date for cannabis to be removed from Schedule I of the Controlled Substances Act is after the December 2, 2024, hearing.\\n5. Likely event date is: On or after the question end date\", 'Magnificent Seven bubble': \"1. Today's Date: 2024-08-29\\n2. End Date of the Question: 2024-09-30\\n3. Time in Days D: 32 days\\n4. Specific Date Event is Most Likely to Occur: The bursting of the 'Magnificent Seven' bubble is a highly speculative event influenced by numerous market factors such as upcoming earnings reports, interest rate decisions, and ongoing geopolitical issues. Thus, pinpointing a specific date is challenging. However, based on recent market trends, significant volatility and potential for the bubble to pop might coincide with major financial disclosures or market reactions around the end of September.\\n5. Likely Event Date Is: On or after the question end date\", 'OpenAI GPT-5 announcement': \"1. Today's date: 2024-08-29\\n2. Question end date: 2024-09-30\\n3. Time in days (D) from today to end date: 32 days\\n4. Likely event date: The announcement for GPT-5 is expected in late 2024 or early 2025.\\n5. The likely event date is on or after the question end date.\", 'Tesla deliveries Q3 2024': None}\n",
      "RATES Tesla deliveries Q3 2024 {'Cannabis Schedule I status': \"1. Today's date: 2024-08-29\\n2. End (measurement) date of the question: 2024-09-30\\n3. Time in days (D) from today to end date: 32 days\\n4. Specific date at which the event is most likely to occur: The most likely specific date for cannabis to be removed from Schedule I of the Controlled Substances Act is after the December 2, 2024, hearing.\\n5. Likely event date is: On or after the question end date\", 'Magnificent Seven bubble': \"1. Today's Date: 2024-08-29\\n2. End Date of the Question: 2024-09-30\\n3. Time in Days D: 32 days\\n4. Specific Date Event is Most Likely to Occur: The bursting of the 'Magnificent Seven' bubble is a highly speculative event influenced by numerous market factors such as upcoming earnings reports, interest rate decisions, and ongoing geopolitical issues. Thus, pinpointing a specific date is challenging. However, based on recent market trends, significant volatility and potential for the bubble to pop might coincide with major financial disclosures or market reactions around the end of September.\\n5. Likely Event Date Is: On or after the question end date\", 'OpenAI GPT-5 announcement': \"1. Today's date: 2024-08-29\\n2. Question end date: 2024-09-30\\n3. Time in days (D) from today to end date: 32 days\\n4. Likely event date: The announcement for GPT-5 is expected in late 2024 or early 2025.\\n5. The likely event date is on or after the question end date.\", 'Tesla deliveries Q3 2024': \"Today's date: 2024-08-29\\nEnd date of question: 2024-09-30\\nTime in days (D): 32 days\\nMost likely event date: September 30, 2024 (end of Q3)\\nLikely event date is: On or after the question end date\"}\n",
      "FORECASTING Cannabis Schedule I status\n",
      "27791 1 Based on the current timeline and developments, it is highly improbable that cannabis will be officially removed from Schedule I of the Controlled Substances Act before September 30, 2024. The DEA hearing is scheduled for December 2, 2024, which postdates the question's end date. Therefore, the most realistic probability for this event occurring before September 30, 2024, is 1%.\n",
      "REFINING 27791\n",
      "Pass 0 of 4 on 27791\n",
      "27791 I concur\n",
      "concur 2\n",
      "===============================================\n",
      "FORECASTING Magnificent Seven bubble\n",
      "27789 30 Based on current market conditions and ongoing expert discussions about a potential correction or bubble in AI-related stocks, it appears that volatility is likely. However, a 50% drop in at least four of the Magnificent Seven stocks is an extreme event. Given the companies' strong financial positions and their pivotal role in the market, a collapse of that magnitude seems unlikely in the short term, unless driven by an unprecedented negative catalyst. Thus, the probability of the bubble popping before September 30, 2024, is relatively low but not impossible.\n",
      "REFINING 27789\n",
      "Pass 0 of 4 on 27789\n",
      "27789 I concur\n",
      "concur 2\n",
      "===============================================\n",
      "FORECASTING OpenAI GPT-5 announcement\n",
      "27790 5 Based on the provided information and the timeline stated, the likelihood of OpenAI announcing GPT-5 before September 30, 2024, is quite low. The news and background indicate that the release is expected in late 2024 or early 2025, and the focus at DevDay will not be on announcing new models but rather on educational and developmental updates. Therefore, the probability of an announcement before the specified date is minimal.\n",
      "REFINING 27790\n",
      "Pass 0 of 4 on 27790\n",
      "27790 I concur\n",
      "concur 2\n",
      "===============================================\n",
      "FORECASTING Tesla deliveries Q3 2024\n",
      "27788 65 Given the patterns in Tesla's deliveries and the recent uptick in metrics such as registrations in China, it's reasonable to believe deliveries will ascend in Q3 2024, albeit moderately. Recent quarters, despite economic and logistical hurdles, have shown a trend towards recovery and growth, making a slight increase likely.\n",
      "REFINING 27788\n",
      "Pass 0 of 4 on 27788\n",
      "27788 I concur\n",
      "concur 2\n",
      "===============================================\n"
     ]
    }
   ],
   "source": [
    "fcst.fit()"
   ]
  },
  {
   "cell_type": "code",
   "execution_count": 9,
   "metadata": {},
   "outputs": [
    {
     "name": "stdout",
     "output_type": "stream",
     "text": [
      "27788 Will Tesla increase its deliveries in Q3 2024 compared with Q2 2024? \n",
      "Forecast 65\n",
      "Rationale Given the patterns in Tesla's deliveries and the recent uptick in metrics such as registrations in China, it's reasonable to believe deliveries will ascend in Q3 2024, albeit moderately. Recent quarters, despite economic and logistical hurdles, have shown a trend towards recovery and growth, making a slight increase likely. \n",
      "\n",
      "27789 Will the bubble in the Magnificent Seven pop before September 30, 2024?\n",
      "\n",
      "Forecast 30\n",
      "Rationale Based on current market conditions and ongoing expert discussions about a potential correction or bubble in AI-related stocks, it appears that volatility is likely. However, a 50% drop in at least four of the Magnificent Seven stocks is an extreme event. Given the companies' strong financial positions and their pivotal role in the market, a collapse of that magnitude seems unlikely in the short term, unless driven by an unprecedented negative catalyst. Thus, the probability of the bubble popping before September 30, 2024, is relatively low but not impossible. \n",
      "\n",
      "27790 Will OpenAI announce GPT-5 before September 30, 2024?\n",
      "\n",
      "Forecast 5\n",
      "Rationale Based on the provided information and the timeline stated, the likelihood of OpenAI announcing GPT-5 before September 30, 2024, is quite low. The news and background indicate that the release is expected in late 2024 or early 2025, and the focus at DevDay will not be on announcing new models but rather on educational and developmental updates. Therefore, the probability of an announcement before the specified date is minimal. \n",
      "\n",
      "27791 Will cannabis be removed from Schedule I of the Controlled Substance Act before September 30, 2024?\n",
      "Forecast 1\n",
      "Rationale Based on the current timeline and developments, it is highly improbable that cannabis will be officially removed from Schedule I of the Controlled Substances Act before September 30, 2024. The DEA hearing is scheduled for December 2, 2024, which postdates the question's end date. Therefore, the most realistic probability for this event occurring before September 30, 2024, is 1%. \n",
      "\n"
     ]
    }
   ],
   "source": [
    "fcst.report()"
   ]
  },
  {
   "cell_type": "code",
   "execution_count": 10,
   "metadata": {},
   "outputs": [
    {
     "name": "stdout",
     "output_type": "stream",
     "text": [
      "Prediction posted for  27788\n",
      "Comment posted for  27788\n",
      "Prediction posted for  27789\n",
      "Comment posted for  27789\n",
      "Prediction posted for  27790\n",
      "Comment posted for  27790\n",
      "Prediction posted for  27791\n",
      "Comment posted for  27791\n"
     ]
    }
   ],
   "source": [
    "fcst.upload()"
   ]
  },
  {
   "cell_type": "code",
   "execution_count": null,
   "metadata": {},
   "outputs": [],
   "source": []
  }
 ],
 "metadata": {
  "colab": {
   "provenance": []
  },
  "kernelspec": {
   "display_name": "trader",
   "language": "python",
   "name": "trader"
  },
  "language_info": {
   "codemirror_mode": {
    "name": "ipython",
    "version": 3
   },
   "file_extension": ".py",
   "mimetype": "text/x-python",
   "name": "python",
   "nbconvert_exporter": "python",
   "pygments_lexer": "ipython3",
   "version": "3.10.6"
  }
 },
 "nbformat": 4,
 "nbformat_minor": 4
}
