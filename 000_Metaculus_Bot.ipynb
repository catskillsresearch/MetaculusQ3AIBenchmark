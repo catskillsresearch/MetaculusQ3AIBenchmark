{
 "cells": [
  {
   "cell_type": "markdown",
   "metadata": {},
   "source": [
    "# 000 Forecasting Bot"
   ]
  },
  {
   "cell_type": "markdown",
   "metadata": {},
   "source": [
    "Starting from https://colab.research.google.com/drive/1_Il5h2Ed4zFa6Z3bROVCE68LZcSi4wHX?usp=sharing"
   ]
  },
  {
   "cell_type": "markdown",
   "metadata": {
    "jp-MarkdownHeadingCollapsed": true
   },
   "source": [
    "## Leaderboard"
   ]
  },
  {
   "cell_type": "markdown",
   "metadata": {},
   "source": [
    "### 10AUG24"
   ]
  },
  {
   "cell_type": "code",
   "execution_count": null,
   "metadata": {},
   "outputs": [],
   "source": [
    "%matplotlib inline\n",
    "import matplotlib.pylab as plt\n",
    "import pandas as pd\n",
    "df = pd.read_csv('leaderboard_20240810.csv')\n",
    "rank = df.index.values\n",
    "score = df['Total Spot Score'].values\n",
    "take = df['Take'].values\n",
    "plt.plot(rank, score/score.max(), label='score (normalized)')\n",
    "plt.plot(rank, take/take.max(), color='green', label='take (normalized)')\n",
    "plt.xlabel('Rank')\n",
    "plt.ylabel('Metric')\n",
    "plt.legend()\n",
    "plt.xlim([1,50])\n",
    "plt.title('AIQ3 Leaderboard as of 8/10/24');"
   ]
  },
  {
   "cell_type": "code",
   "execution_count": null,
   "metadata": {},
   "outputs": [],
   "source": [
    "plt.hist(score, bins=30, density=True);"
   ]
  },
  {
   "cell_type": "code",
   "execution_count": null,
   "metadata": {},
   "outputs": [],
   "source": [
    "df['Total Spot Score'].plot.hist(bins=50, density=True)\n",
    "plt.title('PDF of scores')\n",
    "plt.xlabel('Score')\n",
    "plt.ylabel('Probability Density')\n",
    "# Show the plot\n",
    "plt.show()\n",
    "df['Take'].plot.hist(bins=50, density=True)\n",
    "plt.title('PDF of take')\n",
    "plt.xlabel('Take')\n",
    "plt.ylabel('Probability Density')\n",
    "# Show the plot\n",
    "plt.show()"
   ]
  },
  {
   "cell_type": "code",
   "execution_count": null,
   "metadata": {},
   "outputs": [],
   "source": [
    "df_nonmf = df[df.Forecaster.apply(lambda x: 'mf-' not in x)]\n",
    "top20_take = df_nonmf['Take'][df.Take > 2000]\n",
    "top20_take.plot.hist(bins=50, density=True)\n",
    "plt.title('PDF of top 20 take')\n",
    "plt.xlabel('Take')\n",
    "plt.ylabel('Probability Density')"
   ]
  },
  {
   "cell_type": "markdown",
   "metadata": {},
   "source": [
    "## Imports"
   ]
  },
  {
   "cell_type": "code",
   "execution_count": 1,
   "metadata": {},
   "outputs": [],
   "source": [
    "from IPython.display import Markdown\n",
    "from omegaconf import OmegaConf\n",
    "import datetime,json, os, requests, re\n",
    "from openai import OpenAI\n",
    "from tqdm import tqdm"
   ]
  },
  {
   "cell_type": "markdown",
   "metadata": {},
   "source": [
    "## Today"
   ]
  },
  {
   "cell_type": "code",
   "execution_count": 2,
   "metadata": {},
   "outputs": [
    {
     "data": {
      "text/plain": [
       "'2024-08-12'"
      ]
     },
     "execution_count": 2,
     "metadata": {},
     "output_type": "execute_result"
    }
   ],
   "source": [
    "import datetime\n",
    "today = str(datetime.datetime.now())[0:10]\n",
    "today"
   ]
  },
  {
   "cell_type": "markdown",
   "metadata": {},
   "source": [
    "## API Keys"
   ]
  },
  {
   "cell_type": "markdown",
   "metadata": {},
   "source": [
    "In order to run this notebook as is, you'll need to enter a few API keys (use the key icon on the left to input them):\n",
    "\n",
    "- `METACULUS_TOKEN`: you can find your Metaculus token under your bot's user settings page: https://www.metaculus.com/accounts/settings/, or on the bot registration page where you created the account: https://www.metaculus.com/aib/\n",
    "- `OPENAPI_API_KEY`: get one from OpenAIs page: https://platform.openai.com/settings/profile?tab=api-keys\n",
    "- `PERPLEXITY_API_KEY` - used to search up-to-date information about the question. Get one from https://www.perplexity.ai/settings/api\n",
    "- `ASKNEWS_CLIENT_ID`, `ASKNEWS_SECRET`"
   ]
  },
  {
   "cell_type": "code",
   "execution_count": 3,
   "metadata": {},
   "outputs": [],
   "source": [
    "token_fn = \"tokens.yaml\""
   ]
  },
  {
   "cell_type": "raw",
   "metadata": {},
   "source": [
    "tokens = OmegaConf.create(\"\"\"\n",
    "METACULUS_TOKEN: xx\n",
    "OPENAI_API_KEY: yy\n",
    "OPENAI_MODEL: gpt-4o\n",
    "PERPLEXITY_API_KEY: zz\n",
    "PERPLEXITY_MODEL: llama-3-sonar-large-32k-online\"\"\")\n",
    "OmegaConf.save(config=tokens, f=token_fn)"
   ]
  },
  {
   "cell_type": "code",
   "execution_count": 4,
   "metadata": {},
   "outputs": [],
   "source": [
    "config = OmegaConf.load(token_fn)\n",
    "\n",
    "def pr(tokens):\n",
    "    print(OmegaConf.to_yaml(config))"
   ]
  },
  {
   "cell_type": "markdown",
   "metadata": {
    "id": "iDukuXArbgdm"
   },
   "source": [
    "## LLM and Metaculus Interaction"
   ]
  },
  {
   "cell_type": "markdown",
   "metadata": {
    "id": "iDukuXArbgdm"
   },
   "source": [
    "This section sets up some simple helper code you can use to get data about forecasting questions and to submit a prediction"
   ]
  },
  {
   "cell_type": "code",
   "execution_count": 5,
   "metadata": {
    "id": "HifodCwcGU0j"
   },
   "outputs": [],
   "source": [
    "AUTH_HEADERS = {\"headers\": {\"Authorization\": f\"Token {config.METACULUS_TOKEN}\"}}\n",
    "API_BASE_URL = \"https://www.metaculus.com/api2\"\n",
    "WARMUP_TOURNAMENT_ID = 3349\n",
    "SUBMIT_PREDICTION = True\n",
    "\n",
    "def find_number_before_percent(s):\n",
    "    # Use a regular expression to find all numbers followed by a '%'\n",
    "    matches = re.findall(r'(\\d+)%', s)\n",
    "    if matches:\n",
    "        # Return the last number found before a '%'\n",
    "        return int(matches[-1])\n",
    "    else:\n",
    "        # Return None if no number found\n",
    "        return None\n",
    "\n",
    "def post_question_comment(question_id, comment_text):\n",
    "    \"\"\"\n",
    "    Post a comment on the question page as the bot user.\n",
    "    \"\"\"\n",
    "\n",
    "    response = requests.post(\n",
    "        f\"{API_BASE_URL}/comments/\",\n",
    "        json={\n",
    "            \"comment_text\": comment_text,\n",
    "            \"submit_type\": \"N\",\n",
    "            \"include_latest_prediction\": True,\n",
    "            \"question\": question_id,\n",
    "        },\n",
    "        **AUTH_HEADERS,\n",
    "    )\n",
    "    response.raise_for_status()\n",
    "    print(\"Comment posted for \", question_id)\n",
    "\n",
    "def post_question_prediction(question_id, prediction_percentage):\n",
    "    \"\"\"\n",
    "    Post a prediction value (between 1 and 100) on the question.\n",
    "    \"\"\"\n",
    "    url = f\"{API_BASE_URL}/questions/{question_id}/predict/\"\n",
    "    response = requests.post(\n",
    "        url,\n",
    "        json={\"prediction\": float(prediction_percentage) / 100},\n",
    "        **AUTH_HEADERS,\n",
    "    )\n",
    "    response.raise_for_status()\n",
    "    print(\"Prediction posted for \", question_id)\n",
    "\n",
    "\n",
    "def get_question_details(question_id):\n",
    "    \"\"\"\n",
    "    Get all details about a specific question.\n",
    "    \"\"\"\n",
    "    url = f\"{API_BASE_URL}/questions/{question_id}/\"\n",
    "    response = requests.get(\n",
    "        url,\n",
    "        **AUTH_HEADERS,\n",
    "    )\n",
    "    response.raise_for_status()\n",
    "    return json.loads(response.content)\n",
    "\n",
    "def list_questions(tournament_id=WARMUP_TOURNAMENT_ID, offset=0, count=1000):\n",
    "    \"\"\"\n",
    "    List (all details) {count} questions from the {tournament_id}\n",
    "    \"\"\"\n",
    "    url_qparams = {\n",
    "        \"limit\": count,\n",
    "        \"offset\": offset,\n",
    "        \"has_group\": \"false\",\n",
    "        \"order_by\": \"-activity\",\n",
    "        \"forecast_type\": \"binary\",\n",
    "        \"project\": tournament_id,\n",
    "        \"status\": \"open\",\n",
    "        \"type\": \"forecast\",\n",
    "        \"include_description\": \"true\",\n",
    "    }\n",
    "    url = f\"{API_BASE_URL}/questions/\"\n",
    "    response = requests.get(url, **AUTH_HEADERS, params=url_qparams)\n",
    "    response.raise_for_status()\n",
    "    data = json.loads(response.content)\n",
    "    return data"
   ]
  },
  {
   "cell_type": "markdown",
   "metadata": {
    "jp-MarkdownHeadingCollapsed": true
   },
   "source": [
    "## Forecast outliers"
   ]
  },
  {
   "cell_type": "code",
   "execution_count": 6,
   "metadata": {},
   "outputs": [
    {
     "data": {
      "text/plain": [
       "100"
      ]
     },
     "execution_count": 6,
     "metadata": {},
     "output_type": "execute_result"
    }
   ],
   "source": [
    "url_qparams = {\n",
    "    \"project\": WARMUP_TOURNAMENT_ID,\n",
    "    \"type\": \"forecast\",\n",
    "    \"include_description\": \"true\",\n",
    "    \"limit\": 1000,\n",
    "}\n",
    "url = f\"{API_BASE_URL}/questions/\"\n",
    "response = requests.get(url, **AUTH_HEADERS, params=url_qparams)\n",
    "response.raise_for_status()\n",
    "data = json.loads(response.content)\n",
    "len(data['results'])"
   ]
  },
  {
   "cell_type": "code",
   "execution_count": 7,
   "metadata": {},
   "outputs": [
    {
     "name": "stdout",
     "output_type": "stream",
     "text": [
      "25852 PRACTICE: Will Donald Trump be elected to be US President in 2024?\n",
      "25876 Will exactly 2 Starship launches reach reach an altitude of 160 kilometers by Sept 30, 2024?\n",
      "25877 Will exactly 3 Starship launches reach reach an altitude of 160 kilometers by Sept 30, 2024?\n",
      "25878 Will exactly 2 or 3 Starship launches reach reach an altitude of 160 kilometers by Sept 30, 2024?\n",
      "25930 What will Trump's lead over Biden be greater than 2 and less than or equal to 3 on July 15, 2024, according to 538's national polling average?\n",
      "25931 What will Trump's lead over Biden be greater than 3 and less than or equal to 4 on July 15, 2024, according to 538's national polling average?\n",
      "25932 What will Trump's lead over Biden be greater than 2 and less than or equal to 4 on July 15, 2024, according to 538's national polling average?\n"
     ]
    }
   ],
   "source": [
    "questions = data['results']\n",
    "excluded = [q for q in questions if q['resolution']==-2]\n",
    "for q in excluded:\n",
    "    print(q['id'], q['title'])"
   ]
  },
  {
   "cell_type": "code",
   "execution_count": 8,
   "metadata": {},
   "outputs": [
    {
     "data": {
      "image/png": "[encoded data removed]",
      "text/plain": [
       "<Figure size 640x480 with 1 Axes>"
      ]
     },
     "metadata": {},
     "output_type": "display_data"
    }
   ],
   "source": [
    "import matplotlib.pylab as plt\n",
    "live = [q for q in questions if q['resolution']!=-2]\n",
    "plt.plot([q['number_of_forecasters'] for q in live]);\n",
    "plt.title('Forecasters over time for live questions')\n",
    "plt.xlabel('Question appearance order')\n",
    "plt.ylabel('Number of forecasts');"
   ]
  },
  {
   "cell_type": "code",
   "execution_count": 9,
   "metadata": {},
   "outputs": [],
   "source": [
    "unresolved = [q for q in live if q['active_state']!='RESOLVED']"
   ]
  },
  {
   "cell_type": "code",
   "execution_count": 10,
   "metadata": {},
   "outputs": [
    {
     "data": {
      "text/plain": [
       "0.7"
      ]
     },
     "execution_count": 10,
     "metadata": {},
     "output_type": "execute_result"
    }
   ],
   "source": [
    "q = unresolved[0]\n",
    "my_forecast = q['my_predictions']['predictions'][-1]['x']\n",
    "my_forecast"
   ]
  },
  {
   "cell_type": "code",
   "execution_count": 11,
   "metadata": {},
   "outputs": [
    {
     "name": "stdout",
     "output_type": "stream",
     "text": [
      "metaculus_prediction\n",
      "{'full': 0.5024689125622709, 'history': [{'t': 1720450200.370142, 'x': 0.8337676266572321}, {'t': 1720451373.706415, 'x': 0.8187277404948885}, {'t': 1720451389.565865, 'x': 0.8187257091644053}, {'t': 1720451406.039746, 'x': 0.8187235981169729}, {'t': 1720451425.714539, 'x': 0.8187210753412929}, {'t': 1720451443.074749, 'x': 0.8187188496759453}, {'t': 1720451445.618497, 'x': 0.8187185219941754}, {'t': 1720451668.536768, 'x': 0.8025548559812409}, {'t': 1720451675.324353, 'x': 0.8025539422318363}, {'t': 1720451680.677244, 'x': 0.8025532208419889}, {'t': 1720451687.469944, 'x': 0.8025523033770009}, {'t': 1720451692.927313, 'x': 0.8025515665763562}, {'t': 1720451694.634206, 'x': 0.8025513351056854}, {'t': 1720454178.276012, 'x': 0.7230904489824356}, {'t': 1720458154.499796, 'x': 0.7161695686997194}, {'t': 1720458309.208368, 'x': 0.7476343917622305}, {'t': 1720459439.449585, 'x': 0.7780937770580579}, {'t': 1720460754.261539, 'x': 0.7270302779436294}, {'t': 1720464615.437281, 'x': 0.7182977132586494}, {'t': 1720464803.54604, 'x': 0.7182836221425718}, {'t': 1720466934.354001, 'x': 0.7210387398422137}, {'t': 1720466991.092354, 'x': 0.7110746907837661}, {'t': 1720467028.68029, 'x': 0.7110721199195661}, {'t': 1720467042.782669, 'x': 0.7110711548299993}, {'t': 1720469445.355366, 'x': 0.7177559540291147}, {'t': 1720470124.829788, 'x': 0.5629158590120245}, {'t': 1720474261.374167, 'x': 0.553817400835054}, {'t': 1720478748.146235, 'x': 0.5154561153605863}, {'t': 1720481019.35404, 'x': 0.5846149470163693}, {'t': 1720481090.130185, 'x': 0.5912715370830793}, {'t': 1720484133.713611, 'x': 0.6193066460515297}, {'t': 1720489025.810188, 'x': 0.6213447789296721}, {'t': 1720496935.02118, 'x': 0.6204018864322737}, {'t': 1720499334.503558, 'x': 0.6208889017455651}, {'t': 1720508619.545002, 'x': 0.5933002165536589}, {'t': 1720514033.537639, 'x': 0.5945126598960937}, {'t': 1720516596.616872, 'x': 0.5708981444273153}, {'t': 1720521662.246124, 'x': 0.5708301912325511}, {'t': 1720523826.625283, 'x': 0.5709363610157983}, {'t': 1720525506.18597, 'x': 0.5028677081758062}, {'t': 1720528232.065253, 'x': 0.5092364340155682}, {'t': 1720530488.159644, 'x': 0.4889392147809964}, {'t': 1720530637.931403, 'x': 0.4886454330054744}, {'t': 1720533215.843185, 'x': 0.5043370438809948}, {'t': 1720534587.481425, 'x': 0.5047046189878269}, {'t': 1720534784.913204, 'x': 0.5024689125622709}], 'postdiction': 0.5059803550741016}\n",
      "community_prediction\n",
      "{'full': {'y': [0.0, 0.0, 0.0, 0.0, 0.0, 0.0, 0.0, 0.0, 0.0, 0.0, 0.15918, 0.0, 0.0, 0.0, 0.0, 0.58986, 0.0, 0.0, 0.0, 0.0, 0.02771, 0.0, 0.0, 0.0, 0.0, 0.0, 0.0, 0.0, 0.0, 0.0, 0.0, 0.0, 0.0, 0.0, 0.0, 0.0, 0.0, 0.0, 0.0, 0.0, 0.0, 0.0, 0.0, 0.73375, 0.0, 0.0, 0.0, 0.0, 0.0, 0.0, 0.92306, 0.0, 0.324, 0.0, 0.0, 0.06304, 0.0, 0.0, 1.0, 0.0, 0.18575, 0.0, 0.0, 0.0, 0.0, 0.75371, 0.0, 0.0, 0.0, 0.0, 0.29776, 0.0, 0.52671, 0.13534, 0.0, 0.36788, 0.0, 0.0, 0.0, 0.0, 1.03059, 0.0, 0.90391, 0.0, 0.0, 0.30244, 0.0, 0.114, 0.0, 0.0, 0.07804, 0.0, 0.0, 0.0, 0.0, 0.0, 0.0, 0.0, 0.0, 0.0, 0.0], 'q1': 0.5, 'q2': 0.65, 'q3': 0.8}, 'history': [{'t': 1720450200.361637, 'np': 1, 'nu': 1, 'x1': {'q1': 0.85, 'q2': 0.85, 'q3': 0.85}, 'x2': {'avg': 0.85, 'var': 0.0, 'weighted_avg': 0.85}}, {'t': 1720451373.699808, 'np': 2, 'nu': 2, 'x1': {'q1': 0.2, 'q2': 0.525, 'q3': 0.85}, 'x2': {'avg': 0.525, 'var': 0.106, 'weighted_avg': 0.525}}, {'t': 1720451389.559073, 'np': 3, 'nu': 2, 'x1': {'q1': 0.2, 'q2': 0.525, 'q3': 0.85}, 'x2': {'avg': 0.525, 'var': 0.106, 'weighted_avg': 0.525}}, {'t': 1720451406.031873, 'np': 4, 'nu': 2, 'x1': {'q1': 0.2, 'q2': 0.525, 'q3': 0.85}, 'x2': {'avg': 0.525, 'var': 0.106, 'weighted_avg': 0.525}}, {'t': 1720451425.706732, 'np': 5, 'nu': 2, 'x1': {'q1': 0.2, 'q2': 0.525, 'q3': 0.85}, 'x2': {'avg': 0.525, 'var': 0.106, 'weighted_avg': 0.525}}, {'t': 1720451443.065415, 'np': 6, 'nu': 2, 'x1': {'q1': 0.2, 'q2': 0.525, 'q3': 0.85}, 'x2': {'avg': 0.525, 'var': 0.106, 'weighted_avg': 0.525}}, {'t': 1720451445.611908, 'np': 7, 'nu': 2, 'x1': {'q1': 0.2, 'q2': 0.525, 'q3': 0.85}, 'x2': {'avg': 0.525, 'var': 0.106, 'weighted_avg': 0.525}}, {'t': 1720451668.530185, 'np': 8, 'nu': 3, 'x1': {'q1': 0.2, 'q2': 0.5, 'q3': 0.5}, 'x2': {'avg': 0.517, 'var': 0.071, 'weighted_avg': 0.477}}, {'t': 1720451675.316835, 'np': 9, 'nu': 3, 'x1': {'q1': 0.2, 'q2': 0.5, 'q3': 0.5}, 'x2': {'avg': 0.517, 'var': 0.071, 'weighted_avg': 0.477}}, {'t': 1720451680.669111, 'np': 10, 'nu': 3, 'x1': {'q1': 0.2, 'q2': 0.5, 'q3': 0.5}, 'x2': {'avg': 0.517, 'var': 0.071, 'weighted_avg': 0.477}}, {'t': 1720451687.461787, 'np': 11, 'nu': 3, 'x1': {'q1': 0.2, 'q2': 0.5, 'q3': 0.5}, 'x2': {'avg': 0.517, 'var': 0.071, 'weighted_avg': 0.477}}, {'t': 1720451692.919659, 'np': 12, 'nu': 3, 'x1': {'q1': 0.2, 'q2': 0.5, 'q3': 0.5}, 'x2': {'avg': 0.517, 'var': 0.071, 'weighted_avg': 0.477}}, {'t': 1720451694.625146, 'np': 13, 'nu': 3, 'x1': {'q1': 0.2, 'q2': 0.5, 'q3': 0.5}, 'x2': {'avg': 0.517, 'var': 0.071, 'weighted_avg': 0.477}}, {'t': 1720454178.265956, 'np': 14, 'nu': 4, 'x1': {'q1': 0.5, 'q2': 0.7, 'q3': 0.7}, 'x2': {'avg': 0.562, 'var': 0.059, 'weighted_avg': 0.56}}, {'t': 1720458154.490948, 'np': 15, 'nu': 5, 'x1': {'q1': 0.5, 'q2': 0.55, 'q3': 0.7}, 'x2': {'avg': 0.56, 'var': 0.047, 'weighted_avg': 0.557}}, {'t': 1720458309.20035, 'np': 16, 'nu': 6, 'x1': {'q1': 0.55, 'q2': 0.7, 'q3': 0.83}, 'x2': {'avg': 0.605, 'var': 0.05, 'weighted_avg': 0.634}}, {'t': 1720459439.440634, 'np': 17, 'nu': 6, 'x1': {'q1': 0.55, 'q2': 0.7, 'q3': 0.9}, 'x2': {'avg': 0.617, 'var': 0.056, 'weighted_avg': 0.654}}, {'t': 1720460754.253059, 'np': 18, 'nu': 7, 'x1': {'q1': 0.55, 'q2': 0.65, 'q3': 0.85}, 'x2': {'avg': 0.621, 'var': 0.048, 'weighted_avg': 0.653}}, {'t': 1720464615.428486, 'np': 19, 'nu': 8, 'x1': {'q1': 0.2, 'q2': 0.55, 'q3': 0.7}, 'x2': {'avg': 0.545, 'var': 0.083, 'weighted_avg': 0.502}}, {'t': 1720464803.539238, 'np': 20, 'nu': 8, 'x1': {'q1': 0.2, 'q2': 0.55, 'q3': 0.7}, 'x2': {'avg': 0.545, 'var': 0.083, 'weighted_avg': 0.502}}, {'t': 1720466934.346554, 'np': 21, 'nu': 9, 'x1': {'q1': 0.5, 'q2': 0.65, 'q3': 0.87}, 'x2': {'avg': 0.581, 'var': 0.084, 'weighted_avg': 0.582}}, {'t': 1720466991.084463, 'np': 22, 'nu': 10, 'x1': {'q1': 0.55, 'q2': 0.725, 'q3': 0.87}, 'x2': {'avg': 0.596, 'var': 0.077, 'weighted_avg': 0.611}}, {'t': 1720467028.672478, 'np': 23, 'nu': 10, 'x1': {'q1': 0.55, 'q2': 0.725, 'q3': 0.87}, 'x2': {'avg': 0.596, 'var': 0.077, 'weighted_avg': 0.611}}, {'t': 1720467042.774888, 'np': 24, 'nu': 10, 'x1': {'q1': 0.55, 'q2': 0.725, 'q3': 0.87}, 'x2': {'avg': 0.596, 'var': 0.077, 'weighted_avg': 0.611}}, {'t': 1720469445.345874, 'np': 25, 'nu': 10, 'x1': {'q1': 0.65, 'q2': 0.725, 'q3': 0.85}, 'x2': {'avg': 0.67, 'var': 0.04, 'weighted_avg': 0.717}}, {'t': 1720470124.822268, 'np': 26, 'nu': 11, 'x1': {'q1': 0.5, 'q2': 0.725, 'q3': 0.75}, 'x2': {'avg': 0.618, 'var': 0.063, 'weighted_avg': 0.598}}, {'t': 1720474261.360278, 'np': 27, 'nu': 12, 'x1': {'q1': 0.55, 'q2': 0.65, 'q3': 0.75}, 'x2': {'avg': 0.616, 'var': 0.058, 'weighted_avg': 0.599}}, {'t': 1720478748.1372, 'np': 28, 'nu': 13, 'x1': {'q1': 0.43, 'q2': 0.6, 'q3': 0.75}, 'x2': {'avg': 0.602, 'var': 0.056, 'weighted_avg': 0.569}}, {'t': 1720481019.344929, 'np': 29, 'nu': 13, 'x1': {'q1': 0.6, 'q2': 0.725, 'q3': 0.8}, 'x2': {'avg': 0.63, 'var': 0.056, 'weighted_avg': 0.634}}, {'t': 1720481090.117677, 'np': 30, 'nu': 14, 'x1': {'q1': 0.6, 'q2': 0.7, 'q3': 0.8}, 'x2': {'avg': 0.635, 'var': 0.052, 'weighted_avg': 0.645}}, {'t': 1720484133.701656, 'np': 31, 'nu': 15, 'x1': {'q1': 0.6, 'q2': 0.725, 'q3': 0.85}, 'x2': {'avg': 0.65, 'var': 0.052, 'weighted_avg': 0.677}}, {'t': 1720489025.800136, 'np': 32, 'nu': 16, 'x1': {'q1': 0.65, 'q2': 0.7, 'q3': 0.8}, 'x2': {'avg': 0.653, 'var': 0.049, 'weighted_avg': 0.681}}, {'t': 1720496935.009996, 'np': 33, 'nu': 17, 'x1': {'q1': 0.55, 'q2': 0.7, 'q3': 0.8}, 'x2': {'avg': 0.645, 'var': 0.047, 'weighted_avg': 0.657}}, {'t': 1720499334.494851, 'np': 34, 'nu': 18, 'x1': {'q1': 0.6, 'q2': 0.7, 'q3': 0.75}, 'x2': {'avg': 0.651, 'var': 0.045, 'weighted_avg': 0.67}}, {'t': 1720508619.533269, 'np': 35, 'nu': 19, 'x1': {'q1': 0.52, 'q2': 0.7, 'q3': 0.75}, 'x2': {'avg': 0.643, 'var': 0.043, 'weighted_avg': 0.647}}, {'t': 1720511691.120698, 'np': 36, 'nu': 20, 'x1': {'q1': 0.52, 'q2': 0.7, 'q3': 0.85}, 'x2': {'avg': 0.653, 'var': 0.043, 'weighted_avg': 0.674}}, {'t': 1720516596.603594, 'np': 37, 'nu': 21, 'x1': {'q1': 0.5, 'q2': 0.7, 'q3': 0.8}, 'x2': {'avg': 0.646, 'var': 0.042, 'weighted_avg': 0.651}}, {'t': 1720521662.235603, 'np': 38, 'nu': 21, 'x1': {'q1': 0.5, 'q2': 0.7, 'q3': 0.75}, 'x2': {'avg': 0.644, 'var': 0.042, 'weighted_avg': 0.656}}, {'t': 1720523826.61469, 'np': 39, 'nu': 21, 'x1': {'q1': 0.5, 'q2': 0.7, 'q3': 0.75}, 'x2': {'avg': 0.645, 'var': 0.042, 'weighted_avg': 0.659}}, {'t': 1720525506.176595, 'np': 40, 'nu': 22, 'x1': {'q1': 0.5, 'q2': 0.7, 'q3': 0.75}, 'x2': {'avg': 0.622, 'var': 0.051, 'weighted_avg': 0.594}}, {'t': 1720528232.056357, 'np': 41, 'nu': 23, 'x1': {'q1': 0.5, 'q2': 0.65, 'q3': 0.725}, 'x2': {'avg': 0.623, 'var': 0.049, 'weighted_avg': 0.601}}, {'t': 1720530488.148874, 'np': 42, 'nu': 24, 'x1': {'q1': 0.5, 'q2': 0.65, 'q3': 0.72}, 'x2': {'avg': 0.615, 'var': 0.048, 'weighted_avg': 0.581}}, {'t': 1720530637.920324, 'np': 43, 'nu': 24, 'x1': {'q1': 0.5, 'q2': 0.65, 'q3': 0.75}, 'x2': {'avg': 0.611, 'var': 0.046, 'weighted_avg': 0.587}}, {'t': 1720533215.833219, 'np': 44, 'nu': 24, 'x1': {'q1': 0.5, 'q2': 0.65, 'q3': 0.75}, 'x2': {'avg': 0.615, 'var': 0.048, 'weighted_avg': 0.61}}, {'t': 1720534587.471961, 'np': 45, 'nu': 24, 'x1': {'q1': 0.5, 'q2': 0.65, 'q3': 0.8}, 'x2': {'avg': 0.618, 'var': 0.049, 'weighted_avg': 0.618}}, {'t': 1720534784.901454, 'np': 46, 'nu': 25, 'x1': {'q1': 0.5, 'q2': 0.65, 'q3': 0.8}, 'x2': {'avg': 0.617, 'var': 0.047, 'weighted_avg': 0.614}}], 'unweighted': {'y': [0, 0, 0, 0, 0, 0, 0, 0, 0, 0, 1, 0, 0, 0, 0, 1, 0, 0, 0, 0, 1, 0, 0, 0, 0, 0, 0, 0, 0, 0, 0, 0, 0, 0, 0, 0, 0, 0, 0, 0, 0, 0, 0, 1, 0, 0, 0, 0, 0, 0, 3, 0, 1, 0, 0, 1, 0, 0, 1, 0, 1, 0, 0, 0, 0, 2, 0, 0, 0, 0, 2, 0, 1, 1, 0, 1, 0, 0, 0, 0, 2, 0, 1, 0, 0, 2, 0, 1, 0, 0, 1, 0, 0, 0, 0, 0, 0, 0, 0, 0, 0], 'q1': 0.5, 'q2': 0.65, 'q3': 0.8}}\n",
      "prediction_count\n",
      "46\n",
      "unweighted_community_prediction_v2\n",
      "None\n",
      "recency_weighted_community_prediction_v2\n",
      "None\n",
      "my_predictions\n",
      "{'id': 704509, 'predictions': [{'t': 1720481090.096992, 'x': 0.7}], 'points_won': None, 'user': 191284, 'question': 25873, 'active': True, 'log_score': None, 'absolute_log_score': None, 'coverage': None, 'username': '000_bot', 'unweighted_coverage': 0}\n",
      "user_prediction_sequence\n",
      "None\n"
     ]
    }
   ],
   "source": [
    "for x in [x for x in q.keys() if 'prediction' in x]:\n",
    "    print(x)\n",
    "    print(q[x])"
   ]
  },
  {
   "cell_type": "code",
   "execution_count": null,
   "metadata": {},
   "outputs": [],
   "source": [
    "q.keys()"
   ]
  },
  {
   "cell_type": "code",
   "execution_count": null,
   "metadata": {},
   "outputs": [],
   "source": [
    "df = pd.DataFrame(q['metaculus_prediction']['history'])\n",
    "df['t'] = pd.to_datetime(df['t'], unit='s')\n",
    "df.plot(x='t', y='x')\n",
    "plt.title(f'Metaculus prediction for {q[\"id\"]}');"
   ]
  },
  {
   "cell_type": "code",
   "execution_count": null,
   "metadata": {},
   "outputs": [],
   "source": [
    "q['community_prediction'].keys()"
   ]
  },
  {
   "cell_type": "code",
   "execution_count": null,
   "metadata": {},
   "outputs": [],
   "source": [
    "q['community_prediction']['full']['q2']"
   ]
  },
  {
   "cell_type": "code",
   "execution_count": null,
   "metadata": {},
   "outputs": [],
   "source": [
    "df = pd.DataFrame([(q['id'], q['title'], q['my_predictions']['predictions'][-1]['x'], q['community_prediction']['full']['q2']) for q in unresolved], columns=['id', 'title', 'bot', 'community'])"
   ]
  },
  {
   "cell_type": "code",
   "execution_count": null,
   "metadata": {},
   "outputs": [],
   "source": [
    "df.plot.scatter(y='bot', x='community')\n",
    "rho = df['bot'].corr(df['community'])\n",
    "plt.title(f'My bot vs bot crowd: Correlation {int(100*rho)}%');"
   ]
  },
  {
   "cell_type": "code",
   "execution_count": null,
   "metadata": {},
   "outputs": [],
   "source": [
    "import numpy as np\n",
    "df = pd.DataFrame([(q['id'], q['title'], q['my_predictions']['predictions'][-1]['x'], q['community_prediction']['full']['q2']) for q in unresolved], columns=['id', 'title', 'bot', 'community'])\n",
    "df['diff'] = np.abs(df.bot-df.community)\n",
    "df = df.sort_values(by='diff',ascending=False).reset_index(drop=True)\n",
    "pd.set_option('display.max_rows', 500)\n",
    "pd.set_option('display.max_colwidth', 150)\n",
    "df[df.index < 10]"
   ]
  },
  {
   "cell_type": "code",
   "execution_count": null,
   "metadata": {},
   "outputs": [],
   "source": [
    "diff10 = df[df.index < 10]\n",
    "diff10.plot.scatter(y='bot', x='community')\n",
    "rho = diff10['bot'].corr(diff10['community'])\n",
    "plt.title(f'My bot vs bot crowd on 10 top outliers: Correlation {int(100*rho)}%');"
   ]
  },
  {
   "cell_type": "code",
   "execution_count": null,
   "metadata": {},
   "outputs": [],
   "source": []
  },
  {
   "cell_type": "markdown",
   "metadata": {},
   "source": [
    "## IFP"
   ]
  },
  {
   "cell_type": "code",
   "execution_count": 12,
   "metadata": {},
   "outputs": [],
   "source": [
    "class IFP:\n",
    "\n",
    "    forecast_fields = ['question_id',\n",
    "                       'title',\n",
    "                       'feedback',\n",
    "                       'resolution_criteria', \n",
    "                       'background', \n",
    "                       'event', \n",
    "                       'model_domain']\n",
    "\n",
    "    forecast_format = f\"|{'|'.join(forecast_fields)}|\"\n",
    "\n",
    "    openai_max_tokens = 30000\n",
    "\n",
    "    def format(self):\n",
    "        rec = vars(self)\n",
    "        fmt = '|'.join([f\"{x}: {rec[x]}\" for x in self.forecast_fields])\n",
    "        return '|' + fmt + '|'\n",
    "\n",
    "    def over_openai_max(self):\n",
    "        sep = self.format()\n",
    "        return len(sep.split(' ')) > self.openai_max_tokens # Max limit for OpenAI\n",
    "\n",
    "    def record(self):\n",
    "        return self.format()\n",
    "        if self.over_openai_max(): \n",
    "            self.news = ' '.join(self.news.split(' ')[0:int(0.5*self.openai_max_tokens)])\n",
    "        if self.over_openai_max(): \n",
    "            self.research = ' '.join(self.research.split(' ')[0:int(0.5*self.openai_max_tokens)])\n",
    "        if self.over_openai_max(): \n",
    "            raise Exception('IFP record over OpenAI max')\n",
    "        return self.format()\n",
    "\n",
    "    def __init__(self, question_id):\n",
    "        self.question_id = question_id\n",
    "        self.question_details = get_question_details(self.question_id)\n",
    "        self.today = datetime.datetime.now().strftime(\"%Y-%m-%d\")   \n",
    "        self.title = self.question_details[\"title\"]\n",
    "        self.resolution_criteria = self.question_details[\"resolution_criteria\"]\n",
    "        self.background = self.question_details[\"description\"]\n",
    "        self.fine_print = self.question_details[\"fine_print\"]\n",
    "        self.event = ''\n",
    "        self.model_domain = ''\n",
    "        self.feedback = ''\n",
    "\n",
    "    def report(self):\n",
    "        rpt = f\"\"\"\n",
    "The future event is described by this question: [ {self.title} ]\n",
    "The resolution criteria are: [ {self.resolution_criteria} ]\n",
    "The background is: [ {self.background} ]\"\"\"\n",
    "        if self.fine_print:\n",
    "            rpt += f\"\"\"\n",
    "The fine print is: [ {self.fine_print} ]\"\"\"\n",
    "        return rpt\n",
    "\n",
    "    def upload(self):\n",
    "        post_question_prediction(self.question_id, self.forecast)\n",
    "        post_question_comment(self.question_id, self.rationale)"
   ]
  },
  {
   "cell_type": "code",
   "execution_count": 13,
   "metadata": {},
   "outputs": [],
   "source": [
    "unit_test = False"
   ]
  },
  {
   "cell_type": "code",
   "execution_count": 14,
   "metadata": {},
   "outputs": [],
   "source": [
    "if unit_test:\n",
    "    qid = 26775\n",
    "    ifp = IFP(qid)\n",
    "    ifps = {qid: ifp}\n",
    "    print(ifp.record())"
   ]
  },
  {
   "cell_type": "markdown",
   "metadata": {},
   "source": [
    "## News source (AskNews)"
   ]
  },
  {
   "cell_type": "raw",
   "metadata": {},
   "source": [
    "pip install asknews"
   ]
  },
  {
   "cell_type": "markdown",
   "metadata": {},
   "source": [
    "https://colab.research.google.com/drive/1tc383HraMZOiyfKFF1EXAtlTYbsuv3Q5?usp=sharing"
   ]
  },
  {
   "cell_type": "code",
   "execution_count": 15,
   "metadata": {},
   "outputs": [],
   "source": [
    "from asknews_sdk import AskNewsSDK\n",
    "\n",
    "class AskNews():\n",
    "\n",
    "    def __init__(self):\n",
    "        ASKNEWS_CLIENT_ID = config.ASKNEWS_CLIENT_ID\n",
    "        ASKNEWS_SECRET = config.ASKNEWS_SECRET\n",
    "        \n",
    "        self.ask = AskNewsSDK(\n",
    "              client_id=config.ASKNEWS_CLIENT_ID,\n",
    "              client_secret=config.ASKNEWS_SECRET,\n",
    "              scopes=[\"news\"]\n",
    "          )\n",
    "\n",
    "        self.cache = {}\n",
    "        \n",
    "    def query(self, \n",
    "              q, \n",
    "              method,    # use \"nl\" for natural language for your search, or \"kw\" for keyword, or 'both'\n",
    "              strategy,\n",
    "              return_type=\"dicts\"): # strategy=\"latest news\" enforces looking at the latest news only\n",
    "                         # strategy=\"news knowledge\" looks for relevant news within the past 60 days\n",
    "        return self.ask.news.search_news(\n",
    "            query=q, # your keyword query\n",
    "            n_articles=10, # control the number of articles to include in the context\n",
    "            return_type=return_type,  # you can also ask for \"dicts\" if you want more information\n",
    "            method=method, \n",
    "            strategy=strategy).as_dicts # strategy=\"latest news\" enforces looking at the latest news only,\n",
    "\n",
    "    def multi_strategy(self, q, return_type=\"dicts\"):\n",
    "        all = []\n",
    "        for strategy in ['latest news', 'news knowledge']:\n",
    "            for x in self.query(q, 'both', strategy):\n",
    "                all.append(x.summary if return_type==\"dicts\" else x)\n",
    "        print(\"ALL\")\n",
    "        print(all[0])\n",
    "        all = list(set(all))\n",
    "        return '\\n\\n'.join(all)\n",
    "\n",
    "    def research(self, group, return_type=\"dicts\"):\n",
    "        q = '\\n'.join(ifp.title.strip() for ifp in group)\n",
    "        try:\n",
    "            return self.cache[q]\n",
    "        except:\n",
    "            news = self.multi_strategy(q,return_type)\n",
    "            self.cache[q] = news\n",
    "        return news"
   ]
  },
  {
   "cell_type": "code",
   "execution_count": 16,
   "metadata": {},
   "outputs": [],
   "source": [
    "if unit_test:\n",
    "    ask = AskNews()\n",
    "    group = [IFP(id) for id in [26771, 26772, 26773, 26774]]\n",
    "    news = ask.research(group)\n",
    "    print(news)"
   ]
  },
  {
   "cell_type": "markdown",
   "metadata": {},
   "source": [
    "## LLMs"
   ]
  },
  {
   "cell_type": "markdown",
   "metadata": {},
   "source": [
    "### In general"
   ]
  },
  {
   "cell_type": "code",
   "execution_count": 19,
   "metadata": {},
   "outputs": [],
   "source": [
    "class LLM:\n",
    "    def __init__(self, system_role):\n",
    "        self.system_role = system_role\n",
    "        self.messages = [{\"role\": \"system\", \"content\": system_role}]\n",
    "        self.cache = {}\n",
    "\n",
    "    def chat(self, query):\n",
    "        try:\n",
    "            return self.cache[query]\n",
    "        except:\n",
    "            self.messages.append({\"role\": \"user\", \"content\": query})\n",
    "            text = self.message()\n",
    "            self.messages.append({\"role\": \"assistant\", \"content\": text})\n",
    "            self.cache[query] = text\n",
    "            return text"
   ]
  },
  {
   "cell_type": "markdown",
   "metadata": {},
   "source": [
    "### MetaAI"
   ]
  },
  {
   "cell_type": "markdown",
   "metadata": {},
   "source": [
    "https://pypi.org/project/meta-ai-api/1.0.6/"
   ]
  },
  {
   "cell_type": "code",
   "execution_count": 20,
   "metadata": {},
   "outputs": [],
   "source": [
    "from meta_ai_api import MetaAI as mai"
   ]
  },
  {
   "cell_type": "code",
   "execution_count": 21,
   "metadata": {},
   "outputs": [],
   "source": [
    "class MetaAI(LLM):\n",
    "\n",
    "    def __init__(self, system_role = \"Nice talker\"):\n",
    "        self.ai = mai()\n",
    "        super().__init__(system_role)\n",
    "        \n",
    "    def message(self):\n",
    "        self.response = self.ai.prompt(message=self.messages[-1]['content'])\n",
    "        return self.response['message']"
   ]
  },
  {
   "cell_type": "code",
   "execution_count": 22,
   "metadata": {},
   "outputs": [],
   "source": [
    "if unit_test:\n",
    "    ai = MetaAI()\n",
    "    r = ai.chat(ifp.title)\n",
    "    print(r)"
   ]
  },
  {
   "cell_type": "markdown",
   "metadata": {},
   "source": [
    "### HuggingChat"
   ]
  },
  {
   "cell_type": "markdown",
   "metadata": {},
   "source": [
    "https://pypi.org/project/hugchat/"
   ]
  },
  {
   "cell_type": "code",
   "execution_count": 23,
   "metadata": {},
   "outputs": [],
   "source": [
    "from hugchat import hugchat\n",
    "from hugchat.login import Login"
   ]
  },
  {
   "cell_type": "code",
   "execution_count": 24,
   "metadata": {},
   "outputs": [],
   "source": [
    "class HuggingChat(LLM):\n",
    "\n",
    "    def __init__(self, system_role = \"Nice talker\"):\n",
    "        # Log in to huggingface and grant authorization to huggingchat\n",
    "        EMAIL = config.HUGGINGFACE_USERNAME\n",
    "        PASSWD = config.HUGGINGFACE_PASSWORD\n",
    "        cookie_path_dir = \"./cookies/\" # NOTE: trailing slash (/) is required to avoid errors\n",
    "        sign = Login(EMAIL, PASSWD)\n",
    "        cookies = sign.login(cookie_dir_path=cookie_path_dir, save_cookies=True)\n",
    "        self.chatbot = hugchat.ChatBot(cookies=cookies.get_dict()) \n",
    "        super().__init__(system_role)\n",
    "        \n",
    "    def message(self):\n",
    "        result = ''.join([x['token'] for x in self.chatbot.chat(self.system_role + '\\n\\n' + self.messages[-1]['content']) if x])\n",
    "        return result\n",
    "\n",
    "    def web_search(self, query):\n",
    "        query_result = self.chatbot.query(query, web_search=True)\n",
    "        return query_result\n",
    "        print(query_result)\n",
    "        for source in query_result.web_search_sources:\n",
    "            print(source.link)\n",
    "            print(source.title)\n",
    "            print(source.hostname)\n",
    "\n",
    "    def available_models(self):\n",
    "        return [(i,str(x)) for i,x in enumerate(self.chatbot.get_available_llm_models())]\n",
    "\n",
    "    def switch_llm(self, i):\n",
    "        self.chatbot.switch_llm(i)\n",
    "\n",
    "    def conversation_info(self):\n",
    "        info = self.chatbot.get_conversation_info()\n",
    "        # print(info.id, info.title, info.model, info.system_prompt, info.history)\n",
    "        return info"
   ]
  },
  {
   "cell_type": "code",
   "execution_count": 25,
   "metadata": {},
   "outputs": [],
   "source": [
    "if unit_test:\n",
    "    hc = HuggingChat()\n",
    "    hc.switch_llm(1)\n",
    "    print(hc.chat(ifp.title))"
   ]
  },
  {
   "cell_type": "markdown",
   "metadata": {},
   "source": [
    "### Metaculus Anthropic"
   ]
  },
  {
   "cell_type": "code",
   "execution_count": 26,
   "metadata": {},
   "outputs": [],
   "source": [
    "import json\n",
    "\n",
    "class Claude(LLM):\n",
    "       \n",
    "    def message(self):\n",
    "        content = self.messages[-1]['content']\n",
    "        url = \"https://www.metaculus.com/proxy/anthropic/v1/messages\"\n",
    "        headers =  {\"Authorization\": f\"Token {config.METACULUS_TOKEN}\",\n",
    "                    \"anthropic-version\": \"2023-06-01\",\n",
    "                    \"content-type\": \"application/json\"}\n",
    "        data = {\"model\": \"claude-3-5-sonnet-20240620\",\n",
    "                \"max_tokens\": 1024,\n",
    "                \"messages\": [{\"role\": \"user\", \"content\": self.system_role + '\\n\\n' + content}]}\n",
    "        response = requests.post(url, headers=headers, data = json.dumps(data))\n",
    "        # Check the response status code\n",
    "        if response.status_code != 200:\n",
    "            print(\"Request failed with status code\", response.status_code)\n",
    "            print(response.text)\n",
    "        return response.json()['content'][0]['text']"
   ]
  },
  {
   "cell_type": "code",
   "execution_count": 27,
   "metadata": {},
   "outputs": [],
   "source": [
    "if unit_test:\n",
    "    claude = Claude('Please help me.')\n",
    "    print(claude.chat(ifp.title))"
   ]
  },
  {
   "cell_type": "markdown",
   "metadata": {},
   "source": [
    "### Perplexity"
   ]
  },
  {
   "cell_type": "code",
   "execution_count": 28,
   "metadata": {},
   "outputs": [],
   "source": [
    "class Perplexity(LLM):\n",
    "    def message(self):\n",
    "        url = \"https://api.perplexity.ai/chat/completions\"\n",
    "        headers = {\n",
    "            \"accept\": \"application/json\",\n",
    "            \"authorization\": f\"Bearer {config.PERPLEXITY_API_KEY}\",\n",
    "            \"content-type\": \"application/json\"  }\n",
    "        payload = {\"model\": config.PERPLEXITY_MODEL, \"messages\": self.messages }\n",
    "        response = requests.post(url=url, json=payload, headers=headers)\n",
    "        response.raise_for_status()\n",
    "        return response.json()[\"choices\"][0][\"message\"][\"content\"]"
   ]
  },
  {
   "cell_type": "code",
   "execution_count": 29,
   "metadata": {},
   "outputs": [],
   "source": [
    "if unit_test:\n",
    "    perp = Perplexity('You are the most deeply knowledgeable web search engine and insightful analyst')\n",
    "    print(perp.chat(ifp.title))"
   ]
  },
  {
   "cell_type": "markdown",
   "metadata": {},
   "source": [
    "### Metaculus OpenAI"
   ]
  },
  {
   "cell_type": "code",
   "execution_count": 30,
   "metadata": {},
   "outputs": [],
   "source": [
    "import json\n",
    "\n",
    "class MetacGPT(LLM):\n",
    "\n",
    "    def __init__(self, system_role):\n",
    "        super().__init__(system_role)\n",
    "        \n",
    "    def message(self):\n",
    "        url = \"https://www.metaculus.com/proxy/openai/v1/chat/completions\"\n",
    "        headers =  {\"Authorization\": f\"Token {config.METACULUS_TOKEN}\",\n",
    "                    \"content-type\": \"application/json\"}\n",
    "        data = {\"model\": \"gpt-4o\",\n",
    "                \"max_tokens\": 1024,\n",
    "                \"messages\": self.messages}\n",
    "        response = requests.post(url, headers=headers, data = json.dumps(data))\n",
    "        # Check the response status code\n",
    "        if response.status_code != 200:\n",
    "            print(\"Request failed with status code\", response.status_code)\n",
    "            print(response.text)\n",
    "        self.rec = response.json()\n",
    "        return self.rec ['choices'][0]['message']['content']"
   ]
  },
  {
   "cell_type": "code",
   "execution_count": 31,
   "metadata": {},
   "outputs": [],
   "source": [
    "if unit_test:\n",
    "    mgpt = MetacGPT('Please help me')\n",
    "    print(mgpt.chat('Bruce Bueno de Mesquita'))"
   ]
  },
  {
   "cell_type": "markdown",
   "metadata": {},
   "source": [
    "### OpenAI"
   ]
  },
  {
   "cell_type": "code",
   "execution_count": 32,
   "metadata": {},
   "outputs": [],
   "source": [
    "class ChatGPT(LLM):\n",
    "    def __init__(self, system_role):\n",
    "        super().__init__(system_role)\n",
    "        self.client = OpenAI(api_key=config.OPENAI_API_KEY)\n",
    "\n",
    "    def message(self):\n",
    "        chat_completion = self.client.chat.completions.create(\n",
    "            model=config.OPENAI_MODEL,\n",
    "            messages= self.messages)\n",
    "        return chat_completion.choices[0].message.content"
   ]
  },
  {
   "cell_type": "code",
   "execution_count": 33,
   "metadata": {},
   "outputs": [],
   "source": [
    "if unit_test:\n",
    "    oai = ChatGPT('You are the most deeply knowledgeable web search engine and insightful analyst')\n",
    "    print(oai.chat(ifp.title))"
   ]
  },
  {
   "cell_type": "markdown",
   "metadata": {
    "id": "9WUvm1tVmMkO"
   },
   "source": [
    "## Agents"
   ]
  },
  {
   "cell_type": "markdown",
   "metadata": {},
   "source": [
    "#### Agent"
   ]
  },
  {
   "cell_type": "code",
   "execution_count": 34,
   "metadata": {},
   "outputs": [],
   "source": [
    "class Agent:\n",
    "    def __init__(self, system_role, llm):\n",
    "        self.llm = llm(system_role)\n",
    "\n",
    "    def chat(self, prompt):\n",
    "        return self.llm.chat(prompt)"
   ]
  },
  {
   "cell_type": "markdown",
   "metadata": {},
   "source": [
    "#### Question correlator for common topic inference"
   ]
  },
  {
   "cell_type": "code",
   "execution_count": 35,
   "metadata": {},
   "outputs": [],
   "source": [
    "class QuestionRelator(Agent):\n",
    "    def __init__(self, llm):\n",
    "        self.system_role = f\"\"\"\n",
    "You are prompted with list of forecasting questions, each with an id and a title.\n",
    "Label each question with an underlying event.\n",
    "If the questions are for the same event, use the same name for the underlying event.\n",
    "Please return as separate lines formatted as |event|id|title|, do not add any other formatting.\n",
    "\"\"\"\n",
    "        super().__init__(self.system_role, llm)\n",
    "\n",
    "    def relate(self, ifps):\n",
    "        prompt = '\\n'.join([f\"{ifp.question_id}: {ifp.title}\" for ifp in ifps.values()])\n",
    "        KL = self.chat(prompt)\n",
    "        print(KL)\n",
    "        K1 = [x.split('|') for x in KL.split('\\n')]\n",
    "        self.topic_map = [(int(id),event) for _,event,id,_,_ in K1]\n",
    "        self.topics = set([event for id,event in self.topic_map])\n",
    "        self.topic_groups = {topic: [ifps[x] for x,y in self.topic_map if y == topic] for topic in self.topics}\n",
    "        for id,event in self.topic_map :\n",
    "            ifps[id].event = event\n",
    "        return self.topic_groups"
   ]
  },
  {
   "cell_type": "code",
   "execution_count": 36,
   "metadata": {},
   "outputs": [],
   "source": [
    "if unit_test:\n",
    "    try:\n",
    "        ifps\n",
    "    except:\n",
    "        test_day = '01AUG24'\n",
    "        ifps = {id: IFP(id) for id in history[test_day]}\n",
    "    qr = QuestionRelator(ChatGPT)\n",
    "    print(qr.relate(ifps))"
   ]
  },
  {
   "cell_type": "markdown",
   "metadata": {},
   "source": [
    "#### Model domain classifier"
   ]
  },
  {
   "cell_type": "code",
   "execution_count": 37,
   "metadata": {},
   "outputs": [],
   "source": [
    "class ModelDomainClassifier(Agent):\n",
    "    def __init__(self, llm):\n",
    "        self.system_role = f\"\"\"\n",
    "A question about an event is formatted as |id|question|criteria|background|fineprint|.\n",
    "You will report the model domain of the question, one of\n",
    "\n",
    "Rate over time\n",
    "Weather prediction\n",
    "State executive action\n",
    "Election outcome\n",
    "Geopolitics\n",
    "Sports performance\n",
    "Military conflict\n",
    "Civil unrest\n",
    "Dated product announcement\n",
    "Market price\n",
    "Macroeconomics\n",
    "Epidemic\n",
    "Disease\n",
    "Drug discovery\n",
    "Medical device\n",
    "Crime\n",
    "Leadership change\n",
    "AI performance\n",
    "Astronomy\n",
    "Astrophysics\n",
    "Other\n",
    "\"\"\"\n",
    "        super().__init__(self.system_role, llm)\n",
    "\n",
    "    def classify(self, ifp):\n",
    "        prompt = f\"|{ifp.question_id}|{ifp.title}|{ifp.resolution_criteria}|{ifp.background}|{ifp.fine_print}|\"\n",
    "        self.R = self.chat(prompt)\n",
    "        ifp.model_domain = self.R\n",
    "        print(ifp.question_id, ifp.title)\n",
    "        print(self.R)"
   ]
  },
  {
   "cell_type": "code",
   "execution_count": 38,
   "metadata": {},
   "outputs": [],
   "source": [
    "if unit_test:\n",
    "    mdc = ModelDomainClassifier(ChatGPT)\n",
    "    for ifp in ifps.values():\n",
    "        mdc.classify(ifp)"
   ]
  },
  {
   "cell_type": "markdown",
   "metadata": {},
   "source": [
    "#### Rate Analyzer"
   ]
  },
  {
   "cell_type": "code",
   "execution_count": 39,
   "metadata": {},
   "outputs": [],
   "source": [
    "class RateAnalyzer(Agent):\n",
    "    def __init__(self, llm):\n",
    "        self.system_role = f\"\"\"\n",
    "A group of events are given, formatted as \"GROUP\" followed by a group of questions separated by carriage returns, followed by \"NEWS\" followed by news on the topic.\n",
    "Today's date is {today}.\n",
    "If the question is about a level that changes at some rate over time, you will report \n",
    "1. today's date, \n",
    "2. the end date of the question, \n",
    "3. the time in days D from today to end date, \n",
    "4. the daily rate of change R of the quantity,\n",
    "5. today's value V of the quantity,\n",
    "6. the change in value dV of the quantity = D * r,\n",
    "7. the final value of the quantity F = V + dV.  Give your best estimate.\n",
    "Otherwise if the question is about the date that an event will occur, you will report\n",
    "1. today's date, \n",
    "2. the end (measurement) date of the question, \n",
    "3. the time in days D from today to end date, \n",
    "4. the specific date at which the event is most likely to occur, without reference to the end date of the question\n",
    "5. whether the likely event date is before, or on or after the question end date\n",
    "\n",
    "Provide only one type of answer, not both.\n",
    "\"\"\"\n",
    "        super().__init__(self.system_role, llm)\n",
    "\n",
    "    def assess(self, group, news):\n",
    "        titles = '\\n'.join([ifp.title.strip() for ifp in group])\n",
    "        self.q = f'GROUP\\n{titles}\\nNEWS\\n{news}'\n",
    "        self.rates = self.chat(self.q)\n",
    "        return self.rates"
   ]
  },
  {
   "cell_type": "code",
   "execution_count": 40,
   "metadata": {},
   "outputs": [],
   "source": [
    "if unit_test:\n",
    "    try:\n",
    "        group\n",
    "    except:\n",
    "        group = [IFP(id) for id in [26771, 26772, 26773, 26774]]\n",
    "\n",
    "    rates = RateAnalyzer(ChatGPT)\n",
    "    r = rates.assess(group, news)\n",
    "    print(r)"
   ]
  },
  {
   "cell_type": "markdown",
   "metadata": {},
   "source": [
    "#### Superforecaster"
   ]
  },
  {
   "cell_type": "code",
   "execution_count": 41,
   "metadata": {},
   "outputs": [],
   "source": [
    "class Superforecaster(Agent):\n",
    "    def __init__(self, llm):\n",
    "        self.system_role = f\"\"\"\n",
    "You are a superforecaster.  \n",
    "You assign a probability to questions about events.\n",
    "Questions are given as GROUP|group_description followed by NEWS|group_news followed by RATES|group_rates \n",
    "followed by the questions in the group formatted QUESTIONS followed by, for each question, {IFP.forecast_format}.\n",
    "Questions which are about the same event should be assigned consistent probabilities.\n",
    "Reply to questions with |ASSESSMENT|id|ZZ|rationale| where ZZ is an integer probability from 1 to 99 and rationale is your reasoning for the forecast.\n",
    "Separate each question with '^^^'.\n",
    "Do not add any additional headings or group labels or other formatting.\n",
    "After your initial forecast you may receive feedback of form |CRITIC|id|feedback|.\n",
    "Reply to each feedback with |id|ZZ|rationale| where ZZ is an integer probability from 1 to 99 and \n",
    "and rationale is a revised assessment which may be adjusted from a prior assessment due the feedback unless the feedback is \"I concur\".\n",
    "\"\"\"\n",
    "        super().__init__(self.system_role, llm)\n",
    "\n",
    "    def forecast(self, event, news, rates, group):\n",
    "        ifps = '\\n'.join([ifp.record() for ifp in group])\n",
    "        prompt = f\"GROUP|{event}\\nNEWS|{news}\\nRATES|{rates}\\nQUESTIONS\\n{ifps}\"\n",
    "        self.F0 = self.chat(prompt)\n",
    "        self.F1 = [x.strip().replace('\\n', '') for x in self.F0.split('^^^')]\n",
    "        self.F2 = [x.split('|') for x in self.F1] \n",
    "        self.F3 = [[x for x in y if x] for y in self.F2]\n",
    "        self.F4 = [(int(id),int(forecast),rationale) for _, id, forecast, rationale in self.F3]\n",
    "        self.ifps = {ifp.question_id: ifp for ifp in group}\n",
    "        for id, forecast, rationale in self.F4:\n",
    "            self.ifps[id].forecast = forecast\n",
    "            self.ifps[id].rationale = rationale\n",
    "            print(id, forecast, rationale)\n",
    "\n",
    "    def reassess(self, ifp):\n",
    "        prompt = f\"|CRITIC|{ifp.question_id}|{ifp.feedback}|\"\n",
    "        self.R0 = self.chat(prompt)\n",
    "        id,fcst,rationale = [x for x in self.R0.strip().split('|') if x]\n",
    "        id = int(id)\n",
    "        fcst = int(fcst)\n",
    "        ifps[id].forecast = fcst\n",
    "        ifps[id].rationale = rationale\n",
    "        print(id, fcst, rationale)"
   ]
  },
  {
   "cell_type": "code",
   "execution_count": 42,
   "metadata": {},
   "outputs": [],
   "source": [
    "if unit_test:\n",
    "    sf = Superforecaster(ChatGPT)\n",
    "    event = '2024 Grand Chess Tour'\n",
    "    group = qr.topic_groups[event]\n",
    "    sf.forecast(event, news, r, group)"
   ]
  },
  {
   "cell_type": "markdown",
   "metadata": {},
   "source": [
    "#### Critic"
   ]
  },
  {
   "cell_type": "code",
   "execution_count": 43,
   "metadata": {},
   "outputs": [],
   "source": [
    "class Critic (Agent):\n",
    "    def __init__(self, llm):\n",
    "\n",
    "        self.system_role = f\"\"\"\n",
    "You a very smart and worldly person reviewing a superforecaster's assignment of probabilities to events.\n",
    "You will receive an event with probabilities given as |event|id|question|zz|rationale|.\n",
    "zz is an integer probability from 1 to 99 and rationale is the student's logic for assigning probability of zz.\n",
    "You will reply with a line |id|feedback| where feedback is \"I concur\" if you see no problem with the rationale and zz otherwise presents possible problems with the rationale and zz.\n",
    "\"\"\"\n",
    "        super().__init__(self.system_role, llm)\n",
    "\n",
    "    def feedback(self, ifp):\n",
    "        self.fb = 'I prasldfkbeddy.'\n",
    "        prompt = f\"|{ifp.event}|{ifp.question_id}|{ifp.title}|{ifp.forecast}|{ifp.rationale}|\"\n",
    "        self.fb = self.chat(prompt)\n",
    "        if '|' in self.fb: # LLM obeyed system role\n",
    "            self.fb1 = self.fb.split('|')[2:]\n",
    "            self.fb = ''.join([x.strip() for x in self.fb1 if x])\n",
    "        ifp.feedback = self.fb \n",
    "        print(ifp.question_id, ifp.feedback)"
   ]
  },
  {
   "cell_type": "code",
   "execution_count": 44,
   "metadata": {},
   "outputs": [],
   "source": [
    "if unit_test:\n",
    "    for llm in [MetaAI, Claude, Perplexity, ChatGPT, HuggingChat]:\n",
    "        print(llm.__name__)\n",
    "        critic = Critic(llm)\n",
    "        critic.feedback(ifp) \n",
    "        print()"
   ]
  },
  {
   "cell_type": "markdown",
   "metadata": {},
   "source": [
    "#### Summarizer"
   ]
  },
  {
   "cell_type": "markdown",
   "metadata": {},
   "source": [
    "Add an agent to summarize the back and forth between critic and forecaster into a single cogent rationale that incorporates all that was discussed."
   ]
  },
  {
   "cell_type": "markdown",
   "metadata": {},
   "source": [
    "## IFP history"
   ]
  },
  {
   "cell_type": "code",
   "execution_count": 47,
   "metadata": {},
   "outputs": [],
   "source": [
    "history = { '08JUL24': [25876, 25877, 25875, 25873, 25871, 25878, 25874, 25872],\n",
    "            '09JUL24': [26006, 25936, 25935, 25934, 25933, 26004, 26005],\n",
    "            '10JUL24': [25955, 25956, 25957, 25960, 25959, 25954, 25953, 25952, 25958],\n",
    "            '11JUL24': [26019, 26018, 26017, 26020, 26022, 26021, 26023, 26024],\n",
    "            '12JUL24': [26095, 26096, 26097, 26098, 26099, 26100, 26101, 26102],\n",
    "            '15JUL24': [26133, 26134, 26138, 26139, 26140, 26157, 26158, 26159],\n",
    "            '16JUL24': [26189, 26190, 26191, 26192, 26193, 26194, 26195, 26196],\n",
    "            '17JUL24': [26210, 26211, 26212, 26213, 26214, 26215, 26216],\n",
    "            '18JUL24': [26232, 26233, 26234, 26235, 26236],\n",
    "            '19JUL24': [26302, 26303, 26304, 26305, 26306, 26307],\n",
    "            '22JUL24': [26387, 26388, 26389, 26390, 26391, 26392],\n",
    "            '23JUL24': [26404, 26405, 26406, 26407, 26408],\n",
    "            '24JUL24': [26550, 26551, 26552, 26553, 26554, 26555],\n",
    "            '25JUL24': [26568, 26569, 26570, 26571, 26572, 26573, 26574, 26575, 26576, 26577],\n",
    "            '26JUL24': [26638, 26639, 26640, 26641, 26642, 26643, 26644, 26645, 26646],\n",
    "            '29JUL24': [26665, 26666, 26667, 26668, 26669, 26670, 26671, 26683],\n",
    "            '30JUL24': [26700, 26701, 26702, 26703, 26704, 26705, 26706],\n",
    "            '31JUL24': [26816, 26817, 26818, 26819, 26820, 26821, 26844],\n",
    "            '01AUG24': [26771, 26772, 26773, 26774, 26775, 26776, 26777, 26778, 26779, 26780, 26781],\n",
    "            '02AUG24': [26837, 26838, 26839, 26840, 26841, 26842],\n",
    "            '05AUG24': [26913, 26914, 26915, 26916, 26917, 26918, 26919, 26920],\n",
    "            '06AUG24': [26957, 27019, 27020, 27021, 27022],\n",
    "            '07AUG24': [26958, 26959, 27017, 27018],\n",
    "            '08AUG24': [26975, 26976, 26977, 26978, 26979, 26980, 26981, 26982, 26983, 26984, 26985, 26986, 27039],\n",
    "            '09AUG24': [27085, 27086, 27087, 27088, 27089],\n",
    "            '10AUG24': [27132, 27133, 27134, 27135, 27136]}"
   ]
  },
  {
   "cell_type": "code",
   "execution_count": 46,
   "metadata": {},
   "outputs": [
    {
     "name": "stdout",
     "output_type": "stream",
     "text": [
      "2024-08-12 [27132, 27133, 27134, 27135, 27136]\n"
     ]
    }
   ],
   "source": [
    "ifps = list_questions()['results']\n",
    "today_ids = list(sorted([x['id'] for x in ifps]))\n",
    "print(today, today_ids)"
   ]
  },
  {
   "cell_type": "code",
   "execution_count": 48,
   "metadata": {},
   "outputs": [],
   "source": [
    "ifps = {id: IFP(id) for id in today_ids}"
   ]
  },
  {
   "cell_type": "markdown",
   "metadata": {},
   "source": [
    "## Forecasting process"
   ]
  },
  {
   "cell_type": "code",
   "execution_count": 49,
   "metadata": {},
   "outputs": [],
   "source": [
    "class Forecaster:\n",
    "    \n",
    "    def __init__(self, ifps):\n",
    "        self.max_tries = 4\n",
    "        self.qr = QuestionRelator(MetacGPT)\n",
    "        self.ask = AskNews()\n",
    "        self.mdc = ModelDomainClassifier(MetacGPT)\n",
    "        self.ifps = ifps\n",
    "        \n",
    "    def fit(self):\n",
    "        print('MODEL DOMAIN')\n",
    "        for ifp in self.ifps.values():\n",
    "            self.mdc.classify(ifp)\n",
    "        print()  \n",
    "        print('CORRELATOR')\n",
    "        self.rho = self.qr.relate(self.ifps)\n",
    "        print('FORECASTER')\n",
    "        for event, group in self.rho.items():\n",
    "            print('FORECASTING EVENT', event)\n",
    "            self.news = self.ask.research(group)   \n",
    "            print('NEWS')\n",
    "            print(self.news)\n",
    "            self.ra = RateAnalyzer(Claude)\n",
    "            self.rates = self.ra.assess(group, self.news)\n",
    "            print('RATES', self.rates)\n",
    "            self.sf = Superforecaster(MetacGPT)\n",
    "            self.sf.forecast(event, self.news, self.rates, group)\n",
    "            critic = Critic(MetacGPT)\n",
    "            for ifp in group:\n",
    "                print(\"REFINING\", ifp.question_id)\n",
    "                for i in range(self.max_tries):\n",
    "                    print(\"Pass\", i, \"of\", self.max_tries, \"on\", ifp.question_id)\n",
    "                    if 'concur' in ifp.feedback:\n",
    "                        print(\"concur 1\")\n",
    "                        break\n",
    "                    critic.feedback(ifp)\n",
    "                    if 'concur' in ifp.feedback:\n",
    "                        print(\"concur 2\")\n",
    "                        break\n",
    "                    self.sf.reassess(ifp)\n",
    "                print(\"===============================================\")\n",
    "\n",
    "    def report(self):\n",
    "        for ifp in self.ifps.values():\n",
    "            print(ifp.question_id, ifp.title)\n",
    "            print(\"Forecast\", ifp.forecast)\n",
    "            print(\"Rationale\", ifp.rationale, '\\n')\n",
    "\n",
    "    def upload(self):\n",
    "        for ifp in self.ifps.values():\n",
    "            ifp.upload()"
   ]
  },
  {
   "cell_type": "code",
   "execution_count": null,
   "metadata": {},
   "outputs": [],
   "source": [
    "if unit_test:\n",
    "    test_day = '01AUG24'\n",
    "    ifps = {id: IFP(id) for id in history[test_day]}"
   ]
  },
  {
   "cell_type": "markdown",
   "metadata": {},
   "source": [
    "## Outlier reforecast"
   ]
  },
  {
   "cell_type": "raw",
   "metadata": {},
   "source": [
    "diff10.id.values\n",
    "\n",
    "ifps = {id: IFP(id) for id in diff10.id.values}\n",
    "\n",
    "fcst = Forecaster(ifps)\n",
    "\n",
    "fcst.fit()\n",
    "\n",
    "fcst.report()\n",
    "\n",
    "diff10 = diff10.copy()\n",
    "diff10['rebot'] = [ifps[id].forecast/100. for id in diff10.id.values]\n",
    "diff10['move'] = diff10.rebot - diff10.bot\n",
    "diff10[['bot', 'rebot', 'move']]\n",
    "\n",
    "diff10.plot.scatter(y='rebot', x='community')\n",
    "rho = diff10['rebot'].corr(diff10['community'])\n",
    "plt.title(f'Revised bot vs bot crowd on 10 top outliers: Correlation {int(100*rho)}%');"
   ]
  },
  {
   "cell_type": "markdown",
   "metadata": {},
   "source": [
    "## Daily forecast"
   ]
  },
  {
   "cell_type": "code",
   "execution_count": 50,
   "metadata": {},
   "outputs": [],
   "source": [
    "fcst = Forecaster(ifps)"
   ]
  },
  {
   "cell_type": "code",
   "execution_count": 51,
   "metadata": {},
   "outputs": [
    {
     "name": "stdout",
     "output_type": "stream",
     "text": [
      "MODEL DOMAIN\n",
      "27132 Will Iran carry out a deadly attack within Israel before October 1, 2024?\n",
      "Military conflict\n",
      "27133 Will Donald Trump debate the Democratic nominee for president more than once before October 1, 2024?\n",
      "Election outcome\n",
      "27134 Will the S&P 500 index go up in September 2024?\n",
      "Market price\n",
      "27135 Before October 1, 2024, will Tech Crunch report new layoffs at Google or Alphabet?\n",
      "Market price\n",
      "27136 Will Robert F. Kennedy Jr. suspend his 2024 presidential campaign before September 24, 2024?\n",
      "Election outcome\n",
      "\n",
      "CORRELATOR\n",
      "|Iran-Israel conflict|27132|Will Iran carry out a deadly attack within Israel before October 1, 2024?|\n",
      "|2024 U.S. Presidential Election|27133|Will Donald Trump debate the Democratic nominee for president more than once before October 1, 2024?|\n",
      "|S&P 500 performance|27134|Will the S&P 500 index go up in September 2024?|\n",
      "|Google/Alphabet Layoffs|27135|Before October 1, 2024, will Tech Crunch report new layoffs at Google or Alphabet?|\n",
      "|2024 U.S. Presidential Election|27136|Will Robert F. Kennedy Jr. suspend his 2024 presidential campaign before September 24, 2024?|\n",
      "FORECASTER\n",
      "FORECASTING EVENT S&P 500 performance\n",
      "ALL\n",
      "The S&P 500 index experienced a wild ride last week, with dramatic market swings. The index started 2024 up 19.5% but then retracted, and on August 2, the Bureau of Labor Statistics released a weak July jobs report, causing the S&P 500 to fall 1.86%. The index continued to fluctuate, with a 2.91% plunge on Monday, followed by a 0.92% rise on Tuesday and a 0.67% fall on Wednesday. However, on Thursday, the index gained 2.31%, its best day since November 2022. The NASDAQ Invesco QQQ Trust saw even bigger swings. Historically, wild periods of gains and losses are not unusual in the markets, especially during times of macroeconomic uncertainty. The recent price action is especially noteworthy due to the market's sustained period of stability from late 2022 onward. According to Yahoo Finance data, the most striking example of frenzied buying and selling was during the COVID-19 pandemic in 2020. The S&P 500 experienced a 10% correction in the week of February 24-28, followed by a series of chaotic days. The lesson learned is that volatility generally follows volatility, and investors will closely watch macroeconomic indicators, company earnings, a Federal Reserve interest rate decision, and geopolitical conflicts in the coming weeks. Additionally, 2024 is an election year, which typically leads to additional volatility in the markets.\n",
      "NEWS\n",
      "U.S. stocks are holding relatively steady on Monday, following a wild week of extreme swings. The S&P 500 was up 0.3%, while the Dow Jones Industrial Average was down 4 points, or less than 0.1%. Many European and Asian stock markets were also relatively quiet. The value of the Japanese yen eased on Monday, calming some after its earlier surge sent shockwaves through markets worldwide. A promise by a top Bank of Japan official not to raise rates further as long as markets are 'unstable' has helped calm the market. However, concerns about a slowing U.S. economy and inflation remain. This week will feature reports on inflation and U.S. retail sales, which will be crucial in determining the direction of the economy. A string of worse-than-expected data on the economy has raised worries about whether the Fed is leaning too far to one side on the tightrope. The yield on the 10-year Treasury ticked up to 3.96% from 3.94%, while the two-year Treasury yield rose to 4.07% from 4.06%. KeyCorp jumped 15.3% after announcing a $2.8 billion investment from the Bank of Nova Scotia. Several big companies, including Walmart and Home Depot, will report their latest earnings results later in the week.\n",
      "\n",
      "The recent volatility in the US stock market has led investors to focus on economic data, corporate earnings, and presidential election polls. The S&P 500 index remains 6% below its record high reached last month, despite recent gains. The market is concerned about the US economy, with data showing weaker-than-expected manufacturing and employment numbers. The Federal Reserve's decision to keep interest rates high for an extended period has contributed to market uncertainty. The VIX index, a measure of market fear, has surged to 35, its highest level in a single day, and is expected to take 170 sessions to return to its average level of 17.6. The upcoming consumer price index data on Wednesday may exacerbate concerns about a potential recession. Experts believe that the US economy is facing a dual risk of inflation and economic slowdown. Corporate earnings have been mixed, with companies in the S&P 500 index reporting a 4.1% beat on earnings expectations, in line with the long-term average of 4.2% above expectations. Companies such as Walmart and Home Depot are expected to report earnings next week, which may provide insight into consumer resilience in the face of high interest rates. The upcoming Jackson Hole symposium and the September Federal Reserve meeting will provide further clarity on monetary policy. Some investors believe that the recent volatility is a healthy correction in a strong market, while others expect the presidential election to add to market uncertainty. Experts predict that the market will experience increased volatility before the election, but the underlying trend will continue, with low interest rates serving as a compensation for economic weakness.\n",
      "\n",
      "The upcoming week will focus on inflation readings, which could support the case for a September interest rate cut. The Federal Reserve has indicated a potential rate cut, and markets are pricing in two rate cuts in 2024. The June nonfarm payrolls report showed a surprise rise in the unemployment rate, but the labor market is still showing signs of cooling. The consumer and producer price indices, due out next week, are expected to show easing pricing pressures, which could further cement the likelihood of a rate cut. This would be a bullish development for investors concerned about the stock rally running out of steam. 'Any positive moves would have a very strong impact on the market,' said Mark Malek, chief investment officer at SiebertNXT. 'Everyone's looking for a continued downward trend in inflation.' The S&P 500 has been rising, but investors are concerned about its sustainability. The June consumer price index is expected to show a slight improvement, and the producer price index is expected to show a slight increase. The University of Michigan sentiment indicator will also be released, giving insight into consumer expectations around inflation. Some investors expect to stick with market leaders, while others recommend diversifying their portfolios in case of a pullback.\n",
      "\n",
      "The S&P 500 index rose 0.87% for the week, ending at a new record level, driven by a rotation out of technology stocks and into other sectors. The index has gained in 10 of the last 12 weeks, with Federal Reserve Chair Jerome Powell's comments and inflation data fueling expectations of a 25 basis point interest rate cut in September. The Consumer Price Index (CPI) report showed a 0.1% month-over-month fall in headline CPI, the first such decrease since December 2022. Wells Fargo maintained its view that the Fed will start easing monetary policy in September. The S&P 500 sectors all ended in the green except for Communication Services, with defensive and value sectors such as Real Estate and Utilities leading the gains.\n",
      "\n",
      "US stock index futures rose in pre-holiday trading on Wednesday, ahead of an employment report and Federal Reserve minutes. Investors are expecting a slowing down of employment data and a potential rate cut in September. Jefferies chief Europe economist Mohit Kumar said, 'Our view remains that we should see a slowing down of the employment data over the coming months. If employment slows and the disinflation trend is intact, Fed will deliver a September rate cut.' Market participants see a 65% chance of a rate cut in September and around two cuts by year-end. The S&P 500 and Nasdaq closed at record highs on Tuesday, with Tesla and megacap stocks leading the gains.\n",
      "\n",
      "US stock index futures rose ahead of the release of key employment data, with investors expecting a slowdown in the economy to lead to an interest rate cut in September. The Labor Department is set to release non-farm payrolls data, which is expected to show a rise of 190,000 jobs in June. David Morrison, senior market analyst at Trade Nation, noted that a strong labor market can increase inflationary pressures, making it harder for the Fed to justify rate cuts. Despite this, market participants are strengthening their bets for rate cuts, with chances of a 25-basis-point cut in September rising to 68%. The S&P 500 and Nasdaq notched record closing highs on Wednesday, and all three major Wall Street indexes are poised for weekly gains.\n",
      "\n",
      "U.S. stock index futures rose on Monday as investors prepared for a week filled with crucial data releases, including the U.S. consumer price index (CPI) on Wednesday. The CPI is expected to show a 0.2% monthly increase and remain at 3% year-over-year, according to market expectations. Investors are in a holding pattern, awaiting the CPI reading, with market speculations on rate cuts ranging from 25 to 50 basis points for September, and a total easing of 100 basis points by the end of 2024, as indicated by CME's FedWatch Tool. The week ended last week on a volatile note, triggered by a weaker-than-expected July jobs report, which led to recession fears and the unwinding of yen currency carry trade positions. However, the S&P 500 and Nasdaq recovered most losses over the final two sessions, concluding with slight declines for the week.\n",
      "\n",
      "The stock market has seen a rotation from tech stocks to small-cap stocks, with the S&P SmallCap 600 index rising 3.6% this past week. This rotation is driven by inflation data, which has been behaving, and the expectation of interest rate cuts in September. Small-cap stocks are expected to increase sales and profits, with earnings estimates calling for 19% growth next year. The S&P 600 trades at a lower valuation than the S&P 500, with a price-to-earnings ratio of 15 compared to 20.8. This gap can narrow further, making small-cap stocks a potentially attractive investment opportunity.\n",
      "\n",
      "US stock index futures rose slightly in pre-holiday trading on Wednesday, ahead of economic data and Federal Reserve meeting minutes. Investors are awaiting reports on ADP National Employment and weekly jobless claims, as well as the Fed's June meeting minutes. Market participants expect a 65% chance of a rate cut in September and two cuts by year-end. Jefferies chief Europe economist Mohit Kumar believes that if employment slows and disinflation is intact, the Fed will deliver a September rate cut. Tesla and megacap stocks helped the Nasdaq and S&P 500 close at record highs on Tuesday, while Nvidia slipped 1.4% after a recent choppy run. The S&P 500 has jumped 15% in the first half of 2024, largely driven by top-tier technology-related stocks.\n",
      "\n",
      "Wall Street is ending a wild week with modest gains, with the S&P 500 rising 0.5% on Friday. This brings the index's loss for the week down to 0.1%. The Dow Jones Industrial Average and the Nasdaq composite also finished the week with only modest losses, after sharp drops earlier in the week due to concerns about the U.S. economy. Expedia Group led the way with a stronger-than-expected profit report, while Treasury yields eased in the bond market ahead of upcoming economic reports. The week's events saw Japanese stocks fall to their worst loss since the Black Monday crash of 1987, only for U.S. stocks to soar to their best day since 2022.\n",
      "\n",
      "The S & P 500 experienced its most volatile week since the pandemic outbreak, with its worst day since 2022 on Monday and its best since 2022 on Thursday. Despite this, the market stabilized, with the S & P 500 ending the week down less than 0.1%. According to Tim Hayes, chief global investment strategist at Ned Davis Research, 'Currently with inflation under control globally and recession evidence in short supply, the recent volatility has produced correction weakness but lacks the characteristics of a bear market.' Notably, more than two-thirds of stocks in the S & P 500 were still trading above their 200-day moving average, a sign of strength for chart watchers.\n",
      "\n",
      "The S&P 500 index experienced a wild ride last week, with dramatic market swings. The index started 2024 up 19.5% but then retracted, and on August 2, the Bureau of Labor Statistics released a weak July jobs report, causing the S&P 500 to fall 1.86%. The index continued to fluctuate, with a 2.91% plunge on Monday, followed by a 0.92% rise on Tuesday and a 0.67% fall on Wednesday. However, on Thursday, the index gained 2.31%, its best day since November 2022. The NASDAQ Invesco QQQ Trust saw even bigger swings. Historically, wild periods of gains and losses are not unusual in the markets, especially during times of macroeconomic uncertainty. The recent price action is especially noteworthy due to the market's sustained period of stability from late 2022 onward. According to Yahoo Finance data, the most striking example of frenzied buying and selling was during the COVID-19 pandemic in 2020. The S&P 500 experienced a 10% correction in the week of February 24-28, followed by a series of chaotic days. The lesson learned is that volatility generally follows volatility, and investors will closely watch macroeconomic indicators, company earnings, a Federal Reserve interest rate decision, and geopolitical conflicts in the coming weeks. Additionally, 2024 is an election year, which typically leads to additional volatility in the markets.\n",
      "\n",
      "The US stock market started the day slightly higher but quickly drifted into negative territory. The S&P 500's real-estate and consumer discretionary sectors led the decline. According to Chris Larkin, managing director for trading and investing at E-Trade from Morgan Stanley, this week's inflation data is crucial for the stock market, which has experienced its most turbulent week of 2024. Analysts expect the July consumer price index to show a 0.2% rise, with the core figure slowing to 3.2% from 3.3%. The CPI reading is seen at 3% year over year, unchanged from June. Investors are looking for the numbers to be in a 'sweet spot' - cool enough to avoid a September rate cut, but warm enough to push aside recession concerns. 'This week's inflation data arrives at a key moment for the stock market, which is coming off its most volatile week of the year,' Larkin said. 'Investors will be looking for the numbers to land in a sweet spot—cool enough that no one will be second-guessing the likelihood of a September rate cut, but warm enough to push aside the recession concerns that have rattled the markets recently,' he wrote.\n",
      "\n",
      "US stock index futures remained flat in thin holiday trading, with the S&P 500 and Nasdaq 100 reaching record highs. Weak labor market data fueled expectations of a Federal Reserve rate cut in September, with the S&P 500 rising 0.5% and the NASDAQ Composite rising 0.9%. However, Fed minutes released on Wednesday showed officials were not confident in rate cuts, citing sticky inflation readings and concerns about monetary policy. The CME Fedwatch tool showed traders pricing in a 66% chance of a 25 basis point cut in September, up from 59.5% a day ago.\n",
      "\n",
      "The S&P 500 and Nasdaq closed at record highs on Monday, awaiting key inflation data and second-quarter earnings reports. The S&P 500 ended the day up 0.1% at 5,572.85, while the Nasdaq Composite advanced 0.28% to 18,403.74. The Dow Jones Industrial Average finished 31 points lower, or 0.08%, at 39,344.79. The S&P 500 is coming off its fourth positive week in the last five amid optimism that easing inflation could lead to a Federal Reserve interest rate cut. The June consumer price index and producer price index data will be released this week, which could bolster hopes of a rate cut. Traders are expecting two interest rate cuts in 2024, with the first in September. UBS strategist Vincent Heaney believes the fundamental backdrop remains supportive for equities, driven by solid economic and earnings growth, interest rate cuts, and rising investment in AI. PepsiCo and Delta Air Lines will post results on Thursday, followed by major banks on Friday.\n",
      "\n",
      "After a volatile week, Wall Street ended Friday with a 0.5% gain in the S&P 500, erasing most of the week's losses. The Dow Jones Industrial Average added 51 points, or 0.1%, and the Nasdaq composite gained 0.5%. The week's fluctuations were driven by the Japanese yen's sharp movements and concerns over the slowing U.S. economy. Looking ahead, Wall Street expects another turbulent week with key reports on inflation and retail spending due. Economists warn that further unexpected data could fuel more market swings, as investors navigate an uncertain economic landscape. As one economist noted, 'The market is bracing for another wild ride.' \n",
      "\n",
      "Wall Street futures were relatively stable on Monday, as investors prepared for a week filled with economic data, including US consumer prices, which will provide strong signals about a potential change in the Federal Reserve's interest rate in September. The markets ended last week in high volatility, starting with a significant sell-off due to a weaker-than-expected July jobs report, which sparked recession fears, and investors unwinding 'carry trade' operations involving the yen. Investors are likely to remain on the sidelines until the US consumer price index is released on Wednesday, which is expected to show a 0.2% monthly increase in inflation, but remaining unchanged at 3.0% annually. The markets are evenly divided between a 50 and 25 basis point cut in Federal Reserve interest rates, expecting a total 100 basis point easing by the end of 2024, according to the FedWatch tool from the CME. The US retail sales data for July, to be released on Thursday, is likely to show a marginal increase, and investors are expecting any weakness in the data to reignite concerns about consumption slowdown and possible recession. The S&P 500 future rose 0.17%, while the Nasdaq 100 future increased by 0.23%, and the Dow Jones future advanced 0.04%.\n",
      "\n",
      "The stock market ended the week at all-time highs, with traders focusing on prospects for Federal Reserve rate cuts despite signals of a slowdown in the US economy. The S&P 500 notched its 34th record this year, with equities rebounding after data showed US hiring moderated. Treasury yields tumbled, with swaps fully projecting two Fed reductions in 2024 starting in November, and Wall Street bets building around a September rate cut.\n",
      "\n",
      "Stock index futures rebounded on Tuesday after the previous session's decline, with S&P futures up 1%, Nasdaq 100 futures up 1.1%, and Dow futures up 0.8%. The safe-haven demand decreased, with Treasury prices falling and yields recovering. Goldman Sachs' FICC and Equities Trading desk stated, 'We do NOT think (Monday's) scary price action is a canary in the coal mine in regards to the end of the bull market.' Despite the sell-off, the S&P 500 index still trades at a level 9% higher than at the start of the year. Goldman strategist David Kostin noted, 'The decline in the index reflects a P/E multiple compression because S&P 500 sales and earnings estimates for 2024 and 2025 have remained unchanged during the past month.' The odds of a 50-basis-point rate cut at the September meeting now stand at 75%.\n",
      "\n",
      "The New York stock exchange started the week with a rise, ahead of a busy week of macroeconomic data releases in the US. The S&P 500 index rose 0.24% to 5,356.23, while the Nasdaq index rose 0.45% to 16,820. Analysts expect the upcoming Consumer Price Index (CPI) and Producer Price Index (PPI) data to provide more clues about the Federal Reserve's (Fed) future policy. They predict that the CPI will rise 0.2% monthly and 3% annually in July, which could be a key indicator for the market's direction. In the currency markets, analysts believe that the Fed's 50 and 25 basis point rate cuts in September are equally priced, and expect a total of 100 basis points of rate cuts by the end of the year. Fed officials, including Michelle Bowman, are also being closely watched for their comments. Bowman said, 'I will continue to approach policy adjustments with caution.' \n",
      "RATES Based on the information provided, I will answer the question about the S&P 500 index in September 2024.\n",
      "\n",
      "1. Today's date: 2024-08-12\n",
      "2. End date of the question: 2024-09-30\n",
      "3. Time in days from today to end date: 49 days\n",
      "4. The specific date at which the event is most likely to occur: Cannot be determined from the given information\n",
      "5. Whether the likely event date is before, or on or after the question end date: Cannot be determined\n",
      "\n",
      "The news provided does not give a clear indication of whether the S&P 500 index will go up or down in September 2024. The information is mixed, with some positive indicators (like recent record highs and expectations of rate cuts) and some negative ones (like economic slowdown concerns and volatility). Without more specific forward-looking data for September 2024, it's not possible to predict with certainty whether the index will go up or provide a specific date for such an event.\n",
      "27134 55 Given the mixture of positive indicators (e.g., recent record highs and expectations of future rate cuts) and some negative indicators (e.g., concerns about economic slowdown and recent volatility), there seems to be a slight edge towards the market having a positive trend. However, the uncertainty from mixed signals reduces the confidence level. Therefore, there is a modest probability slightly above neutral that the S&P 500 will go up in September 2024.\n",
      "REFINING 27134\n",
      "Pass 0 of 4 on 27134\n",
      "27134 I concur\n",
      "concur 2\n",
      "===============================================\n",
      "FORECASTING EVENT Google/Alphabet Layoffs\n",
      "ALL\n",
      "In 2024, US job cuts are continuing at a worrying pace, affecting Indian professionals working for global giants like Google, Amazon, and Tesla. The tech industry, a major employer of Indian talent, has been particularly hard-hit, with companies like Amazon, Alphabet (Google's parent company), and Intel cutting jobs. Microsoft has reduced 1,900 positions in its gaming sector, while IBM plans layoffs but is focusing on hiring for AI roles. Indian engineers and technical staff involved in Intel's operations might face uncertainty as the company restructures its manufacturing business. Other companies like eBay, Unity Software, DocuSign, Snap, and Salesforce are also reducing their staff, and even retailers like Walmart and Nike are cutting jobs. This trend has serious implications for Indian professionals working in related sectors, leading to increased job insecurity.\n",
      "NEWS\n",
      "The technology industry has seen a significant number of layoffs in June 2024, with thousands of workers losing their jobs. According to Layoffs.fyi, at least 41,000 layoffs were announced in the tech industry in the second quarter of 2024. Crunchbase News reported that at least 56,042 tech workers in the United States lost their jobs in the first half of 2024. Several factors contribute to the layoffs, including economic uncertainty, challenges in remote work, and market saturation. The tech sector is expected to continue feeling the squeeze, with some areas being affected more than others, such as startups, hardware companies, and certain tech verticals. However, there are reasons to be cautiously optimistic, including the emergence of new job roles in areas such as artificial intelligence and cybersecurity, and the potential for reskilling and upskilling. Major companies such as Microsoft, Google, and Spectrum have also been affected by the layoffs. The future of tech layoffs is uncertain, but the industry is expected to continue to evolve and adapt to the changing market.\n",
      "\n",
      "Major corporations, including Google, Microsoft, Nike, Amazon, BlackRock, and Goldman Sachs, expect to make layoffs in the coming months. A survey by ResumeBuilder found that 40% of business leaders anticipate layoffs in 2024, with half of those surveyed believing a recession is possible. Vance Ginn, President of Ginn Economic Consulting, attributes the layoffs to a slowing economy due to inflation, reduced consumer demand, and increased debt. Some companies are trying to implement 48-hour work weeks or offer alternative opportunities to retain workers, but Ginn notes that this can put more stress on the economy. The increasing use of AI is also making workers question their next move, as some industries fully embrace its capabilities.\n",
      "\n",
      "Major tech companies have announced significant layoffs in 2024, affecting nearly 100,000 workers worldwide. According to data from layoffs, 344 companies have laid off or announced plans to lay off 99,672 workers since the beginning of the year. Companies such as Tesla, Google, Microsoft, Dell, and Toshiba have cut jobs, citing the need to cut costs and improve efficiency. The layoffs highlight the ongoing challenges facing the technology industry as companies strive to balance growth with efficiency and cost management.\n",
      "\n",
      "Cisco Systems will lay off approximately 4,000 employees in a second wave of job cuts for 2024, mirroring the 4,000 layoffs reported in February. This move comes as the company focuses on higher-growth areas such as artificial intelligence (AI) and cybersecurity, following sluggish demand and supply-chain issues in its core business. Despite efforts to diversify, including a $28 billion acquisition of cybersecurity firm Splunk and a $1 billion investment fund for AI startups, Cisco's stock has fallen over 9% this year. The layoffs follow a trend seen across the tech sector, with over 126,000 job losses in 2024, according to Layoffs.fyi.\n",
      "\n",
      "Several major companies, including Google, Meta, Microsoft, Ola Electric, and YES Bank, have announced significant layoffs in June 2024, affecting thousands of employees worldwide. Microsoft laid off around 1,500 employees, while Alphabet's Google reportedly cut jobs in its cloud division, impacting at least 100 positions. Ola Electric trimmed its workforce by 400-500 employees, while Simpl, a Buy Now Pay Later startup, laid off around 30 employees. Meta reduced its number of vice presidents, and Chegg announced the layoff of 441 employees. YES Bank initiated a restructuring process, resulting in the layoff of approximately 500 employees, with potential additional layoffs in the coming months.\n",
      "\n",
      "In 2024, US job cuts are continuing at a worrying pace, affecting Indian professionals working for global giants like Google, Amazon, and Tesla. The tech industry, a major employer of Indian talent, has been particularly hard-hit, with companies like Amazon, Alphabet (Google's parent company), and Intel cutting jobs. Microsoft has reduced 1,900 positions in its gaming sector, while IBM plans layoffs but is focusing on hiring for AI roles. Indian engineers and technical staff involved in Intel's operations might face uncertainty as the company restructures its manufacturing business. Other companies like eBay, Unity Software, DocuSign, Snap, and Salesforce are also reducing their staff, and even retailers like Walmart and Nike are cutting jobs. This trend has serious implications for Indian professionals working in related sectors, leading to increased job insecurity.\n",
      "\n",
      "Intel has confirmed a major round of layoffs, affecting around 15,000 jobs, as part of a plan to save $10 billion in 2025. According to CEO Pat Gelsinger, the company plans to reduce its workforce by more than 15% by the end of 2024. Gelsinger acknowledged that the news is 'painful' but necessary to align the company's cost structure with its new operating model. He stated, 'Our revenues have not grown as expected - and we've yet to fully benefit from powerful trends, like AI. Our costs are too high, our margins are too low.' The company will also offer an enhanced retirement program and voluntary departures for eligible employees. This is not the first time Intel has undergone layoffs since the pandemic, with the last round occurring in October 2022. The tech industry has seen a trend of mass layoffs and hiring freezes in recent years, with companies like Unity, Discord, Microsoft, and Google also making significant job cuts.\n",
      "\n",
      "Dell has begun a major overhaul, including layoffs, as part of its pivot to AI. The company aims to 'simplify how we operate and reimagine work and customer experiences with AI,' according to an internal memo. Ten Dell employees shared their reactions to the layoffs, saying they were not surprised by the move. 'This is horrible short-term for morale,' said one sales support employee. 'I wouldn't be surprised if it's going to be in the dumpsters until the next Tell Dell or until we see third-quarter earnings.' The layoffs are part of Dell's new AI strategy, which will make staff more efficient and free up their time for more important tasks. By 2030, McKinsey estimates that 12 million workers will need to change careers altogether. Dell aims to reduce its workforce to around 100,000 people, down from 120,000 full-time employees. 'Purely from a business perspective, it makes sense,' said one worker. 'There is a desire to considerably downsize this specific workforce and replace them with AI solutions for sellers to be more self-sufficient and to speed up our current solutioning processes,' the employee explained. Dell shares have tumbled from $180 to $91, valuing the company at just over $64 billion.\n",
      "\n",
      "Cisco is planning to cut 4,000 or more jobs, its second round of layoffs this year, due to slowing demand and a shift in focus to growth areas like AI. This comes after a previous round of layoffs in February that affected 4,000 employees, or 5% of its workforce. According to Reuters, the new round of job cuts may be announced alongside Cisco's fourth-quarter results on Wednesday. The company has been investing heavily in AI, launching a $1 billion fund and making 20 AI-focused acquisitions and investments in the last several years. However, cost cutting is necessary to offset these big investments, and fears that returns on AI spending won't match the money being poured in are also a concern. Cisco's layoffs are part of a larger trend in the tech industry, with 397 tech companies laying off 130,482 employees so far in 2024, and 1,193 firms laying off 264,220 workers in 2023.\n",
      "\n",
      "Tech giants like Google, Microsoft, and Meta have been laying off employees in 2024, following a trend that started in 2023. According to their CEOs, the reason behind these layoffs is to streamline their workforces and adapt to changing market conditions. Google's Sundar Pichai said the company is removing some teams to 'improve velocity' and reallocating people to its highest priorities. Microsoft's Satya Nadella attributed the layoffs to the onset of new technology, including advances in AI, which is forcing the company to optimize its workforce. Meta's Mark Zuckerberg said the company overhired during the pandemic and is now realising the benefits of a leaner workforce.\n",
      "\n",
      "The recent selloff in megacap tech stocks, including Tesla and Google-parent Alphabet, has highlighted concerns about over-exposure to the tech sector and the potential for more turbulence. The tech-heavy Nasdaq Composite fell 3.6% in its worst day since October 2022, while the S&P 500 slumped 2.3%. The rout comes after a months-long rally in a handful of massive technology and growth companies, pushing the S&P 500 to record highs this year. Investors are worried that the market may have become too optimistic about earnings growth, leaving stocks vulnerable if companies are unable to meet expectations in coming months.\n",
      "\n",
      "The technology sector has seen significant losses in the past month, with the 7 Magníficas losing $2.375 trillion from July 10 to the previous week's close. This is due to market volatility that has been affecting the sector in recent days and may continue. The losses of investors who bet on Apple, Microsoft, Nvidia, Alphabet, Amazon, Meta, and Tesla exceed the size of Mexico's economy, with $32.07 billion pesos or $1.888 billion dollars at the first quarter of 2024. Humberto Calzada, chief economist at Rankia Latam, noted that the Nasdaq has accumulated a 10% decline from its historical highs, and 'it does not seem to be a very optimistic scenario going forward.' The sector is prone to high volatility, and it is recommended to be cautious. The recent 'black Monday' was due to a resurgence of fears of a recession in the US and Japan's interest rate adjustment. The upcoming economic data and US elections may continue to generate volatility. The technology sector has not benefited workers, as mass layoffs continue this year. Companies like Meta, Intel, Amazon, X (formerly Twitter), and Google increased their workforce during the COVID-19 pandemic but have since laid off employees due to decreased demand and increased competition. The industry has seen over 262,000 layoffs worldwide in the past year, a 59% increase from 2022. Despite predictions of a recession not materializing and the sector finding new growth in AI, companies continue to lay off employees. Analysts predict a 12% annual growth in sales for the sector by the end of this year and the same for 2025.\n",
      "\n",
      "The tech industry has announced layoffs affecting nearly 100,000 workers so far in 2024, with companies like Microsoft, Google, Apple, Tesla, and ByteDance making significant cuts. According to layoffs.fyi, over 300 tech companies have announced job cuts, with the total headcount exceeding 98,000. Analysts say the layoffs reflect a trend of tech giants re-balancing their workforce after excessive hiring during the COVID-19 pandemic. Giuseppe Gasparro, a partner at AlixPartners, stated, 'The big-name companies aren't struggling for the most part. It's really a re-balancing. The markets are asking them to be more cost-conscious and bottom-line-conscious and very targeted with investments.' The layoffs are part of a broader trend, with a recent report finding that senior executives across various industries are planning major reorganizations, including layoffs, to enhance performance and improve worker productivity.\n",
      "\n",
      "More than 130,000 IT employees have lost their jobs in 2024 due to tech layoffs. Companies like Cisco, Intel, Microsoft, and UKG have announced significant workforce reductions. Cisco is reportedly preparing for another round of job cuts, while Intel plans to lay off over 15,000 employees as part of a $10 billion cost-reduction strategy. Microsoft has quietly reduced its workforce by around 1,000 employees, and UKG is laying off 2,200 employees. Other companies, including Dyson, Kaspersky, Unacademy, and WayCool, have also announced layoffs. According to Layoffs.fyi, a total of 130,482 employees across 397 companies have been laid off so far this year.\n",
      "\n",
      "Cisco, a U.S. networking equipment maker, is planning to lay off thousands of employees in a second round of job cuts this year, sources say. The number of people affected could be similar to or slightly higher than the 4,000 employees laid off in February. This move comes as the company shifts focus to higher-growth areas, including cybersecurity and AI. Cisco has been trying to incorporate AI products in its offerings and has made significant investments in AI startups. The layoffs are part of a larger trend in the tech industry, which has been cutting costs to offset big investments in AI. According to data from Layoffs.fyi, over 126,000 people have been laid off across 393 tech companies since the start of the year.\n",
      "\n",
      "The tech industry has seen a significant wave of job cuts, with over 98,000 employees laid off from more than 330 companies worldwide in the first 6 months of 2024. Major companies like Apple, Google, Microsoft, and Meta are among those affected. The layoffs reflect economic challenges and the boom in AI technology. Microsoft has laid off over 1,000 employees, primarily from its gaming division, while Amazon has cut jobs across various units, including Audible, Prime Video, and Twitch. Meta has also laid off a small portion of its workforce as part of its restructuring efforts. Indian companies, such as ReshaMandi, eBay, Flipkart, and Paytm, have also made job cuts to realign priorities.\n",
      "\n",
      "In 2024, the tech industry has seen significant layoffs, with 60,000 job cuts across 254 companies, according to Layoffs.fyi. Companies like Tesla, Amazon, Google, TikTok, Snap, and Microsoft have conducted sizable layoffs. Smaller startups have also seen cuts, with some shutting down operations altogether. The list below includes known layoffs in tech in 2024, which will be updated regularly. Companies like Intel, Red Power, and Rad Power have conducted layoffs, with Intel cutting 15,000 employees, or 15% of its total staff. Other companies, such as Intel, have cited the need to become 'leaner' and more efficient. Some companies, like Tesla, have laid off staff across key teams like Flutter, Dart, and Python. The number of employees impacted is currently unknown. The list also includes companies like Peloton, which has cut around 40% of its workforce, impacting about 550 employees. Other companies, such as Uber, have eliminated 57 positions in San Francisco. The list also includes companies like Robinhood, which has laid off 382 employees, amounting to 32% of its total workforce. The background-screening platform was last valued at $5 billion in April of 2022. The list also includes companies like OpenAI, which has shut down operations. The company, which was backed by OpenAI, employed about 100 people. The list also includes companies like FTX, which has made cuts to its staff, with a report in Fintech Business Weekly estimating that 17 people, or about 15% of the company, were impacted. The list also includes companies like Nuro, which has cut its global workforce by about 6,000 jobs, according to a 10-K SEC filing. The filing reveals the company cut 13,000 jobs in the last year. The list also includes companies like Cerebras, which has reportedly eliminated 20% of its total workforce in its second restructuring effort in the past year. The list also includes companies like Super, which has shut down after failing to secure new funding, TechCrunch has learned. The remote driving startup, which had cut staff last year, employed a little more than 100 people. The list also includes companies like Winc, which has reportedly slashing its marketing and communications staff. The company previously announced a strategy to replace upwards of 8,000 jobs with AI. The list also includes companies like Figma, which has cut just under 40% of its staff, equating to dozens of employees, the company confirmed to TechCrunch. The list also includes companies like DraftKings, which has laid off around 15 people earlier this year, following comments from CEO Chris Caren that the company would be able to reduce 20% of its headcount thanks to AI. The list also includes companies like Immutable, which has laid off 13% of its staff based in its New York office as the web3 fantasy sports platform focuses on its Paris headquarters, a source familiar with the matter told TechCrunch. The list also includes companies like Chainalysis, which is eliminating roughly 7% of its workforce as part of organizational restructuring. \n",
      "\n",
      "More than 130,000 IT professionals have lost their jobs in 2024, according to reports. The tech industry, which was hit by mass layoffs at the beginning of 2023, has continued to experience smaller-scale layoffs as part of restructuring efforts throughout 2024. According to data from Layoffs.fyi, 130,482 employees have been laid off in 397 companies so far this year. Recently, it was reported that Cisco is preparing for another large-scale layoff. According to Reuters, the company may announce layoffs of more than 4,000 jobs that were previously eliminated, which is seen as part of Cisco's strategy to focus on high-growth areas such as cybersecurity and artificial intelligence (AI), despite struggling with slow demand and supply chain issues in its networking equipment business. Intel also announced plans to significantly reduce its workforce earlier in July. According to reports, the company plans to lay off more than 15,000 employees, which represents more than 15% of its total workforce. The layoffs at Intel are part of a strategy to reduce costs by $10 billion aimed at achieving financial stability by 2025. Intel's CEO, Pat Gelsinger, attributed the layoffs to disappointing revenue growth and challenges in leveraging emerging trends in the AI field. Microsoft has also quietly reduced its workforce by around 1,000 employees over the past two months, particularly in its mixed reality and Azure departments. Although Microsoft has not officially confirmed these layoffs, employees affected by the cuts have reported them on social media, with many of the layoffs targeting product roles and management. Similarly, software company UKG announced that it will lay off 2,200 employees, representing 14% of its total workforce, as part of its efforts to focus on key growth areas to support its long-term strategic goals. Even the home appliance company Dyson has announced plans to reduce its workforce by 1,000 jobs, which will affect more than 25% of its local employees in the UK. This decision is driven by intense competition and rapid technological progress that has put pressure on the company's operations. Kaspersky, a Russian cybersecurity company, has also announced the end of its operations in the US, resulting in the layoff of fewer than 50 employees. At the same time, Indian companies such as Unacademy and WayCool have also had to reduce their size, with Unacademy cutting 250 jobs and WayCool laying off 200 employees. While layoffs in the tech industry are causing concern, cost-cutting has also become a trend in other industries, such as Reliance Industries in India, which has announced a reduction of 42,000 jobs as part of efforts to enhance cost efficiency. Despite this significant reduction in workforce, the total number of RIL employees has decreased from 3.89 lakh in the fiscal year 2022-23 to 3.47 lakh in the fiscal year 2023-24.\n",
      "\n",
      "At least 41,000 jobs were lost in June 2024, with over 1,00,000 jobs lost since January 2024, due to layoffs across various sectors. Companies such as Ola Electric, Simpl, Chegg, YES Bank, Meta, Microsoft, and Google have made significant staff reductions, impacting thousands of employees worldwide. These layoffs are a result of economic uncertainties, shifting consumer demands, and operational challenges. The trend of workforce downsizing is expected to continue, with companies focusing on restructuring and cost reduction measures.\n",
      "RATES 1. Today's date: 2024-08-12\n",
      "2. End date of the question: 2024-10-01\n",
      "3. Time in days from today to end date: 50 days\n",
      "4. Specific date at which the event is most likely to occur: 2024-09-15\n",
      "5. The likely event date is before the question end date\n",
      "\n",
      "Based on the provided news, there are several factors suggesting that Tech Crunch is likely to report new layoffs at Google or Alphabet before October 1, 2024:\n",
      "\n",
      "1. Ongoing trend of layoffs in the tech industry throughout 2024.\n",
      "2. Recent reports of Google cutting jobs in its cloud division.\n",
      "3. Alphabet (Google's parent company) being mentioned among companies continuing to make job cuts.\n",
      "4. The tech industry's focus on cost-cutting and efficiency improvements.\n",
      "5. Ongoing economic uncertainties and market pressures affecting major tech companies.\n",
      "\n",
      "Given these factors, it's highly probable that Tech Crunch will report new layoffs at Google or Alphabet before the question's end date. I've estimated September 15, 2024, as a likely date for such a report, considering the typical timing of corporate announcements and the ongoing nature of tech industry layoffs.\n",
      "27135 85 Given the ongoing trend of layoffs in the tech industry and specific reports of Google's recent job cuts in its cloud division, it is highly probable that Tech Crunch will report new layoffs at Google or Alphabet before October 1, 2024. Market pressures and economic uncertainties are continuing to drive layoffs across the tech sector, with major companies like Google focusing on cost-cutting measures to improve efficiency. The frequent mentions of Google in the context of layoffs further support the likelihood of this event.\n",
      "REFINING 27135\n",
      "Pass 0 of 4 on 27135\n",
      "27135 I concur\n",
      "concur 2\n",
      "===============================================\n",
      "FORECASTING EVENT Iran-Israel conflict\n",
      "ALL\n",
      "Iran has prepared an attack on Israel, similar to the one in April 2024, according to Axios, citing Israeli and American officials. Iran has accumulated a sufficient number of rockets and drones for the attack. The attack may occur before the planned ceasefire talks on Thursday. The head of the Hamas political bureau, Ismail Haniyeh, was killed on July 31 in Tehran. Hamas called the attack 'treacherous' and blamed 'Zionists' for it. Israel has not officially acknowledged its involvement. Fox News reported, citing sources, that Iran may strike Israel within the next 24 hours, on August 13, in response to the attack that killed Hamas leader Ismail Haniyeh. According to Fox News, the calls from Western leaders for Israel and Hamas to negotiate only confirm this information.\n",
      "NEWS\n",
      "Israeli security sources said that Iran is close to making a decision to launch a direct attack from its territory on Israel in response to the assassination of Hamas' political bureau chief Ismail Haniyeh in Tehran on July 31. According to the sources, the Iranian response is expected to be limited, and it will not lead to a full-scale war. The Israeli army announced that despite the media reports about Iran's intentions to launch an attack on Israel soon, there is no change in the internal front instructions. In a statement, the army said, 'Following the publication of Iran's intentions, we would like to clarify that there is no change in the internal front instructions, and in case of any new developments, we will announce it officially.' Israel is expecting a possible military attack from Iran and its allies in Yemen and Lebanon, 'the Houthis' and 'Hezbollah', following Haniyeh's assassination in Tehran on July 31 and the prominent party leader Fuad Shukr's assassination in Beirut the day before. The escalating tensions in the region come as a result of Israel's war on Gaza, backed by the US since October 7, which has left around 132,000 Palestinian casualties, including most children and women, and over 10,000 missing, amidst massive destruction and a deadly famine.\n",
      "\n",
      "Iran's Supreme Leader, Ayatollah Ali Khamenei, has ordered a direct attack on Israel on July 31. According to The New York Times, this move is a retaliation for an Israeli bombing in Tehran that resulted in the death of Ismail Haniyeh, the leader of the terrorist group Hamas, during the early hours of July 31. Hamas, an Iranian ally, has been at war with Israel in the Gaza Strip since October 2023. Israel has not yet claimed responsibility for Haniyeh's assassination. Israeli Prime Minister Benjamin Netanyahu stated that his country would demand a high price for any aggression against it. Netanyahu said, 'Israel will demand a high price for any aggression against it.' Khamenei has promised severe punishment for Israel. The new Iranian President, Masoud Pezeshkian, criticized the action, stating that Iran would defend its territorial integrity and that Israel would regret the cowardly assassination. The Israeli government spokesperson stated that they would not comment on Haniyeh's death, but confirmed that the country is on high alert for possible Iranian retaliation. Israeli Defense Minister Yoav Gallant stated that Israel does not want war, but is prepared for all possibilities. Iran will hold a funeral for Haniyeh on August 1, and his body will be buried in Doha, Qatar, on August 2, where he resided. In response to Iranian threats, Gallant reaffirmed that Israel is prepared and will demand a high price for any attack.\n",
      "\n",
      "Israel is preparing for a potential Iranian attack, but may also launch a preemptive strike, according to Ynet. The decision to launch a preemptive strike would depend on the operational detection of Iranian positions. 'It's a matter of how the attack will be, from where and what type. We need to distinguish between an attack that lasts three to five hours and one that lasts 12 minutes. They have both capabilities', said a source from the Israeli government. The source also noted that Israel will not wait for an attack this time, but will instead destroy rockets before they enter Israeli airspace. The situation on the Middle East has been escalating since October 7, 2023, when Hamas launched a massive rocket attack on Israel and invaded its territory, taking hostages. Israel has been responding with airstrikes since then. The Wall Street Journal reported that Iran is planning a swift and harsh attack on Israel as revenge for the killing of Hamas leader Ismail Haniyeh, and that Arab and American diplomats are facing 'Iran's and Hezbollah's angry silence'. The Jerusalem Post reported that Iran plans to attack Israel on August 12-13, during the sacred day of the Ninth of Av, and that the Israeli security services may be caught off guard due to religious rituals. Axios suggested that Iran may strike on Monday, August 5.\n",
      "\n",
      "US Secretary of State Antony Blinken urged all parties to 'make the right choices' ahead of Iran's expected attack on Israel, as the US works to avert a regional war. Blinken said, 'It is urgent that all parties make the right choices in the hours and days ahead.' Iran has promised to retaliate against Israel for the assassination of Hamas leader Ismail Haniyeh, and President Joe Biden has ordered the movement of vessels and aircraft across the Middle East to deter or intercept an Iranian attack. Israeli officials have received a message from Iran that an attack will go forward, and Israeli hospitals are preparing for 'mass casualty' scenarios. The crisis threatens to bring about the second direct attack on Israel from Iran since October 7, 2023. US officials are working to prevent the conflict, but are also preparing for all possibilities, as State Department spokesman Matthew Miller said, 'We don't think conflict is inevitable or should be inevitable, or that increased conflict is inevitable.' \n",
      "\n",
      "Israel has been targeting its enemies for decades, with a recent string of direct attacks or mysterious deaths including the killing of Ismail Hanija, the political leader of the Islamist Hamas, and Fuad Schukr, a Hezbollah commander. The Israeli leadership has been sending a message to its enemies, saying 'We can hit you anytime, anywhere.' This has been the case for many years, as described by Scott Lucas, Professor for international politics at the Clinton Institute of the University of Dublin. The consequences for Israel's enemies have been deadly, with neither the Hezbollah stronghold in Beirut nor the isolated dictatorship of the Islamic Republic of Iran feeling safe. Here are some of the most spectacular cases of the past two decades: On April 10, 2024, three sons and three grandchildren of Hamas leader Ismail Haniyyeh were killed in an Israeli airstrike in the Al-Shati refugee camp in the north of the Gaza Strip. On December 25, 2023, Sejed-Rasi Mussawi, a high-ranking general of the Iranian Revolutionary Guard, was killed in an Israeli airstrike in a suburb of Damascus. Mussawi was one of the 'most experienced advisors' of the Al-Kuds Brigades, the foreign operations unit of the Iranian Revolutionary Guard. On January 2, 2024, Saleh al-Arouri died in an explosion in Beirut, allegedly caused by an Israeli drone. Al-Arouri was a strategic leader of Hamas and was involved in planning the deadly Hamas attacks on Israeli civilians on October 7. 'Father of the Iranian nuclear program' Mohsen Fakhrizadeh was killed on November 27, 2020, in a shooting on a road in Absard, a small town 50 kilometers east of Tehran. The Iran makes Israel and the US responsible for the 'martyrdom' of the 59-year-old scientist. Oberst Sayad Khodayee, an officer of the Iranian Revolutionary Guard, was killed on May 22, 2022, by shots from a motorcyclist directly in front of his house. The Islamic Republic made the 'global arrogance' responsible for the murder - a frequently used term when the US or Israel is accused. Israel's officials informed that the 50-year-old Khodayee was responsible for covert operations around the world, including murders and kidnappings. Ayoub Entezari, an aerospace scientist in an Iranian military research institute, died in May 2022 from food poisoning. Iranian representatives made Israel responsible for this as well, because at the same time the geologist Kamran Aghamolaei, who worked in the Iranian nuclear facility Natanz, died. The founder of Hamas, Sheikh Ahmed Yassin, was killed in 2004 by Israeli helicopters when he left a mosque in the northern Gaza Strip. His successor Abd al-Aziz ar-Rantisi was killed in a helicopter attack in Gaza City on April 17, 2004. 'We can hit you anytime, anywhere' - this is the message of the Israeli leadership to its enemies, as described by Scott Lucas, Professor for international politics at the Clinton Institute of the University of Dublin. The consequences for Israel's enemies have been deadly, with neither the Hezbollah stronghold in Beirut nor the isolated dictatorship of the Islamic Republic of Iran feeling safe. \n",
      "\n",
      "Israel's Defense Minister Yoav Gallant has warned Iran of potential retaliatory strikes. He stated, 'Whoever harms us in a way that has not been done before, will likely be hit in a way that has not been done before.' Gallant emphasized that Israel is prepared for any attack, saying, 'We want to avoid this, but we must be prepared.' The Israeli intelligence agency believes that Iran has decided to attack Israel directly, and this could happen in the next few days, according to a report by Axios citing two sources. The potential attack would be a response to the killing of Hamas leader Ismail Hanijeh in Tehran in July. Israel has neither confirmed nor denied its involvement in Hanijeh's death. Gallant also warned the Iranian government and the Lebanese Hezbollah militia of potential retaliation, saying, 'We are fighting for our existence in a hostile environment.' \n",
      "\n",
      "Iran has prepared an attack on Israel, similar to the one in April 2024, according to Axios, citing Israeli and American officials. Iran has accumulated a sufficient number of rockets and drones for the attack. The attack may occur before the planned ceasefire talks on Thursday. The head of the Hamas political bureau, Ismail Haniyeh, was killed on July 31 in Tehran. Hamas called the attack 'treacherous' and blamed 'Zionists' for it. Israel has not officially acknowledged its involvement. Fox News reported, citing sources, that Iran may strike Israel within the next 24 hours, on August 13, in response to the attack that killed Hamas leader Ismail Haniyeh. According to Fox News, the calls from Western leaders for Israel and Hamas to negotiate only confirm this information.\n",
      "\n",
      "Israel's intelligence agency believes that Hezbollah will launch an attack on August 12, followed by an Iranian attack on Israel within hours. According to Israeli officials, Iran has decided to launch a direct attack on Israel in response to the assassination of Hamas' Ismail Haniyeh in Tehran in late July. The Israeli military and air force have raised their alert level in light of the expected Iranian response. Israeli officials say that Iran is close to making a decision on a direct attack from its territory on Israel, but Israeli estimates suggest that the Iranian response will be limited and will not lead to a full-scale war. Israeli Defense Minister Yoav Gallant has threatened Iran and Hezbollah, saying that any attack on Israel will be met with a strong response using methods that Israel has not used before. Gallant also said that Israel is not interested in expanding the conflict to other fronts, but the possibility is possible and Israel must be prepared for it. In contrast, the Iranian Revolutionary Guard has begun military training in western Iran, with the participation of missile units, while the Guard's spokesperson said that Israel will receive a response to what he described as the 'foolish' assassination of Haniyeh at the 'appointed time'. The Iranian state news agency IRNA reported that the Guard is conducting military training in western Iran near the Iraqi border 'to improve combat readiness'. The agency quoted a regional official as saying that the military training began on Friday near the cities of Qasr-e Shirin and Kilelan in the western province of Kermanshah, and will continue until Tuesday. Israeli officials believe that a response from Hezbollah is inevitable and will be similar to the 'Tunnel War' launched by Hamas in October last year. 'It's coming, and it will be like the Tunnel War,' said Israeli analyst Barak Ravid, quoting two sources. 'Iran has decided to attack Israel directly, and it may do so within days, in response to the assassination of Haniyeh.'\n",
      "\n",
      "Axios reporter Barak Ravid stated on X (formerly Twitter) that Iran may attack Israel before negotiations over a prisoner exchange deal, scheduled for August 15. According to Ravid's anonymous sources, Iran is preparing to attack Israel in response to the killing of Hamas leader Ismail Haniyeh. 'The attack may occur before the start of negotiations over the prisoner exchange deal on August 15,' Ravid wrote. Egypt, Qatar, and the US have called on Israel and Hamas to resume talks on August 15 to discuss a ceasefire in the Gaza Strip and the release of prisoners. The countries are willing to provide a final draft of a conflict resolution plan that meets the expectations of all parties. Israel has warned Iran and Hezbollah of a strong response, with Defense Minister Yoav Galant stating that anyone who intends to cause significant harm to Israel should expect the same in return. CNN reported that Egyptian and Qatari mediators have informed Israeli officials that Hamas leader Yahya Sinwar is willing to sign an agreement on a ceasefire. The situation on the Middle East has escalated after Israel's attack on Hezbollah targets in Beirut on July 30. At least 68 people were injured in the attack, and one Hezbollah commander, Fuad Shokr, was killed. On July 31, Ismail Haniyeh, the head of Hamas' political bureau, and his bodyguard were killed in a drone strike in Tehran. Iran's Foreign Ministry spokesperson, Nasr Kanani, stated that all evidence points to Israel's involvement in Haniyeh's death. The situation on the Middle East escalated on October 7, 2023, when Hamas launched a massive rocket attack on Israel and invaded its territory, taking hostages. Israel responded with airstrikes, and the conflict has been ongoing since then. Palestinians are seeking to establish their own state on the West Bank and in the Gaza Strip, with East Jerusalem as its capital. Israel refuses to return to the pre-1967 borders and divide Jerusalem.\n",
      "\n",
      "Israeli Defense Minister Yoav Galant stated that if an unprecedented attack is made against Israel, the country will respond in the same manner. This comes after Iran threatened Israel with a harsh and effective retaliatory strike following the death of Hamas leader Ismail Haniyeh in Tehran. Galant expressed hope that Israel's enemies 'will think this through' and avoid pushing the situation to a point where significant damage must be inflicted. An expert noted that Iran's attack on Israel is a 'sensitive' matter, with Western media reporting that the US pressured Iran to abandon the attack. However, the Iranian Revolutionary Guard Corps denied these claims, stating that Haniyeh's death will lead to 'severe punishment'.\n",
      "\n",
      "Israel confirmed that it carried out a 'targeted attack' in Beirut, Lebanon, after an explosion was reported in a suburb of the city. The attack, which targeted a Hezbollah commander allegedly responsible for a recent attack that killed 12 Israeli children, has sparked a new escalation between Israel and the group. According to Reuters, the target was either Muhsin Shukr or Fuad Shukr, a veteran Hezbollah member involved in the 1983 attacks that killed nearly 300 American and French soldiers in Lebanon. It is unclear if the attack was successful. The incident comes amid fears of a wider war in Lebanon, with the US trying to convince Israel not to expand its military actions. Israel's government had met on Monday to discuss new actions against Hezbollah, but preparations for a new attack were delayed due to a protest by far-right activists and politicians who invaded two military bases to protest the detention of nine Israeli soldiers suspected of torturing a Palestinian prisoner. Israel had blamed Hezbollah for a missile attack that killed 12 children in the Golan Heights on Saturday, which the group denied. This was the deadliest attack on Israeli civilians since the Hamas terror offensive in October 2023. 'We are approaching the moment when we will face a total war,' said Israeli Foreign Minister Israel Katz, adding that the response to Hezbollah's actions would reflect this. The Iranian government warned Israel against taking 'new adventures' in Lebanon, saying that any such action could lead to increased instability and war in the region. 'The Israeli regime will be the primary and definitive responsible for the consequences and unpredictable reactions of such a stupid behavior,' said an Iranian spokesperson.\n",
      "\n",
      "According to Ivan Us, the main consultant of the National Institute of Strategic Studies, Iran's attack on Israel could happen on a symbolic day for Israel. He notes that the previous attack occurred on April 14. The article also mentions that Hamas attacked Israel on October 7, 2023, which coincided with the preparation of an agreement between Israel and Saudi Arabia to normalize relations in the region. However, this agreement was not reached, and Iran was likely interested in this outcome. The recent killing of Ismail Haniyeh, who was involved in negotiations with Israel, has led many to believe that there will be no further negotiations. Ivan Us suggests that Iran may have been interested in Haniyeh's assassination to blame Israel. He also warns that an escalation of the conflict between Iran and Israel could lead to the first nuclear war in the world, with both countries possessing nuclear weapons. The article concludes that the world is very concerned about this possibility. Ivan Us also notes that if there is an escalation of the conflict, Russia will likely support Iran, and countries opposing Iran will automatically become allies of Ukraine. This would be an additional motivation for Ukraine to support them, as Ukraine is already fighting against Russia. The article also mentions that the US has reported that Iran and the Lebanese group 'Hezbollah' are preparing to attack Israel in the next 24-48 hours, possibly with a massive rocket and drone attack.\n",
      "\n",
      "According to Haaretz, the recent drone attacks in Beirut and Tehran are not just coincidences, but rather a sign of a larger regional conflict. The newspaper believes that Iran will struggle to contain the situation, and that the consequences of the attacks will hinder any potential progress in peace talks between Hamas and Israel. Haaretz states, 'Iran will not be able to contain the assassination of Haniyeh.' The newspaper also notes that Haniyeh and Foad Shaker, a top official in Hezbollah, are the most prominent targets for assassination since the start of the war in October 2024. The attacks demonstrate a high level of planning, intelligence, and execution, and are not just targeting the organizations, but also their supporters, namely Iran. Iranian Supreme Leader Ali Khamenei has vowed to retaliate against Israel, saying 'Israel has paved the way for the assassination of Hamas' Haniyeh, and we will respond with severity.' The situation is expected to escalate further, with Haaretz warning of a potential regional conflict.\n",
      "\n",
      "According to Israeli intelligence, Iran is planning to attack Israel in the coming days as a response to the death of Hamas leader Ismail Haniyeh. Journalist Barak Ravid, citing two sources, wrote on social media that Iran may carry out the attack even before the planned negotiations on August 14-15 between Israel and the Palestinian movement for the release of hostages, which were called for by Egypt, Qatar, and the United States. As Ravid said, 'Iran may strike before the negotiations, which could lead to a further escalation of the situation.'\n",
      "\n",
      "Israel is concerned about a potential Iranian retaliation, according to Axios, citing sources familiar with the matter. The Israeli military believes that Iran has decided to directly attack Israel. The attack would be a revenge for the killing of Hamas leader Ismail Haniyeh in Tehran in July. 'Whoever hurts us in a way that has not been done before will likely be hit in a way that has not been done before,' said Israeli Defense Minister Gallant. Israel is preparing for a potential attack, citing the killing of a Hezbollah military commander in Lebanon and an Islamist Hamas leader in Iran. Gallant warned, 'I hope they think it through and do not reach a point where we are forced to cause significant damage and increase the likelihood of war on additional fronts.' The US has increased its military presence in the region, deploying a submarine with guided missiles and accelerating the deployment of the Abraham Lincoln task force. 'We are fighting for our existence in a hostile environment,' said Gallant.\n",
      "\n",
      "According to Israeli security estimates, Iran is expected to respond to the assassination of Hamas' Ismail Haniyeh's deputy, but the response may not be related to the upcoming ceasefire negotiations. Channel 13 reported that Israel has changed its previous estimates that Hezbollah would attack first, followed by Iran, and now believes that Iran's response, along with Hezbollah's, will occur 'this week'. Israeli intelligence assessment suggests that Iran's attack may precede the scheduled ceasefire talks on Thursday, as reported by Axios, which stated that Iran has decided to 'launch a direct attack on Israel in response to Haniyeh's assassination'. The Israeli military radio quoted security sources as saying that Iran is nearing a decision to launch a direct attack on Israel from its territory, but it will be 'limited in scope to avoid a large-scale war'. The Israeli military spokesperson has not announced any changes to the internal front instructions, out of fear of an Iranian response.\n",
      "\n",
      "Following the death of Fuad Şükür, a high-ranking member of the Lebanese Hezbollah, in an Israeli airstrike and the assassination of Hamas Political Bureau Chairman Ismail Heniyye in Tehran, Israel is preparing for a potential 'deadly attack' from Hezbollah, Iran, and their proxies. Israeli security and political officials have held intense meetings, concluding that a united or separate attack from these groups is 'inevitable', with the timing and scope of the response still unclear. Israel may take a preemptive strike to counter this threat, with officials discussing the possibility of launching a 'preventive attack' before being attacked. The Israeli government has instructed its officials to be prepared for a 5-front war, with thousands of targets to be hit, and has distributed satellite phones to critical state officials in case of a communication breakdown. Israeli security officials believe that Hezbollah is preparing for a large-scale attack, but that the US's involvement in Israel's defense has made the Iranians calculate the size and scope of their attack. The US and Israel have increased their communication, with the US moving a warship to the region and planning to coordinate with regional allies on 13 April, similar to the attack on Iran on that date. The scenario being worked on is that the attack will be larger, more intense, and more deadly than before. An Israeli official stated that if Iran, Hezbollah, and their proxies act in unison, it will be difficult for Israel and the US to counter the attack, and that there will be significant losses, but that Israel can respond more strongly with international support. Israeli officials have warned that the current security warnings may be misleading, and that citizens should be prepared for a potential war at any moment. They also stated that the security warnings issued by Israel after the 13 April attack on Iran may have escalated the situation, and that they will update their warnings as soon as a threat is detected.\n",
      "\n",
      "The situation in the region is more precarious than ever since the Hamas attack on Israel on October 7. Israel's army is on high alert, while the US has deployed additional warships and fighter jets to the area to deter Iran. The US Defense Minister Lloyd Austin has ordered the deployment of additional destroyers capable of intercepting ballistic missiles and an additional fighter squadron to the region. This is to support Israel's defense and respond to the 'developing crisis' in the region. The Pentagon has also taken steps to increase the readiness of additional land-based ballistic missile defense. In April, Iran launched a direct attack on Israel with 330 rockets, missiles, and drones, but only after signaling its intentions in advance and giving Israel and the US time to prepare. This time, Israel and its allies are acting 'in a vacuum' without any prior warning, making the region one of the most dangerous moments since the start of the war in Gaza in October. Iran has rejected the demand for a peaceful solution from 'friendly and non-friendly' states, citing the targeted killing of Hamas leader Hanija in Tehran. An Iranian diplomat quoted by the 'Wall Street Journal' said, 'Israel has crossed all red lines. Our response will be quick and harsh.' Israel has threatened Iran with a harsh counterattack in the event of an attack, saying it will be much harder than after the April attack. Iran has also announced that it will escalate attacks by its ally Hezbollah, which will target Israel 'in the depth'.\n",
      "\n",
      "US Secretary of State Antony Blinken has urged all parties to 'make the right choices' ahead of Iran's expected attack on Israel. Blinken stated, 'It is urgent that all parties make the right choices in the hours and days ahead.' Iran has promised to retaliate against Israel for the assassination of Hamas leader Ismail Haniyeh. US officials are working to avert a regional war, with President Joe Biden ordering the movement of vessels and aircraft across the Middle East. Israeli officials have received a message from Iran that an attack will go forward, with hospitals preparing for 'mass casualty' scenarios. The crisis threatens to bring about the second direct attack on Israel from Iran since October 7, 2023. US officials are urging countries to pass messages to Iran, but cast doubt on Russia's willingness to participate in de-escalating tensions.\n",
      "\n",
      "According to US media, Israeli intelligence expects Iran to launch a direct attack on Israel within days. The Israeli military has raised its alert level in response to the expected Iranian retaliation. Sources close to the matter stated that 'the potential attack may occur before the hostage deal talks on August 15, as a response to the assassination of Hamas political leader Ismail Haniyeh in Tehran in late July.' This assessment is a change from the previous one, which believed that international pressure on Iran would prevent a direct attack on Israel. The situation remains fluid, and the internal debate in Iran continues, which may change the decision-making process in Tehran. CNN reported that Israeli intelligence believes Hezbollah will launch an attack on August 12, followed by Iran hours later. In response, the Israeli military and air force have raised their alert level. The tensions in the region have increased, following Iran's threat to retaliate against the assassination of Hamas' political leader in Tehran, which Israel has not officially confirmed. Iran launched over 300 drones and missiles at Israel in mid-April as a response to an Israeli strike on its consulate in Damascus, in a direct attack that was 'thwarted' according to the Israeli military. The escalating tensions in the region come as Israel continues its war on Gaza with US support since October 7, 2023, resulting in approximately 132,000 Palestinian casualties, with most being children and women, and over 10,000 missing, amidst massive destruction and a deadly famine. Despite international condemnation, Tel Aviv continues this war, ignoring the UN Security Council's immediate ceasefire order and the International Court of Justice's orders to take measures to prevent genocide and improve the catastrophic humanitarian situation in Gaza.\n",
      "RATES 1. Today's date: 2024-08-12\n",
      "2. End date of the question: 2024-10-01\n",
      "3. Time in days from today to end date: 50 days\n",
      "4. Specific date at which the event is most likely to occur: 2024-08-13\n",
      "5. The likely event date is before the question end date\n",
      "\n",
      "The analysis suggests that Iran is likely to carry out a deadly attack within Israel on or around August 13, 2024, which is before the question's end date of October 1, 2024. This assessment is based on several factors:\n",
      "\n",
      "1. Multiple intelligence reports indicate that Iran has decided to launch a direct attack on Israel in response to the assassination of Hamas leader Ismail Haniyeh in Tehran on July 31.\n",
      "\n",
      "2. Israeli and US officials believe the attack could occur within days, possibly before planned ceasefire negotiations on August 15.\n",
      "\n",
      "3. Iran has accumulated sufficient rockets and drones for the attack, similar to the one in April 2024.\n",
      "\n",
      "4. There are reports of increased military readiness in Iran, including missile unit training.\n",
      "\n",
      "5. The Israeli military and air force have raised their alert levels in anticipation of an imminent attack.\n",
      "\n",
      "6. The US has deployed additional military assets to the region, indicating a high likelihood of imminent conflict.\n",
      "\n",
      "Given the urgency expressed in recent statements by officials and the specific date mentioned (August 13) in some reports, it appears that the attack is likely to occur very soon, well before the question's end date of October 1, 2024.\n",
      "27132 70 Given the intelligence reports indicating a high likelihood of an imminent Iranian attack, the increased military readiness of both Israel and Iran, the deployment of additional US military assets to the region, and credible reports citing specific dates of potential attacks around August 13, there is a significant probability that Iran will carry out a deadly attack within Israel before October 1, 2024. However, considering the complexities and the possibility that diplomatic efforts might prevent the attack, I assign a 70% probability.\n",
      "REFINING 27132\n",
      "Pass 0 of 4 on 27132\n",
      "27132 I concur\n",
      "concur 2\n",
      "===============================================\n",
      "FORECASTING EVENT 2024 U.S. Presidential Election\n",
      "ALL\n",
      "Donald Trump and Kamala Harris have agreed to a debate on September 10 on ABC, moderated by David Muir and Linsey Davis. The debate comes after a turbulent summer in which President Joe Biden dropped out of the 2024 presidential race, clearing the way for Harris to pick up the mantle. Harris has confirmed she will attend the debate, saying, 'I am honored to be the presumptive Democratic nominee for President of the United States.' According to recent polls, Harris is leading Trump in three key swing states, Michigan, Wisconsin, and Pennsylvania, with 50% of voters choosing Harris and 46% choosing Trump. Across the United States, Harris leads Trump 42% to 37% in the race for the Oval Office. Election day is on Tuesday, November 5.\n",
      "NEWS\n",
      "The presidential debate between Donald Trump and Kamala Harris is in a standoff over where and when to debate. Trump wants to debate Harris on Fox News on September 4, while Harris wants to stick with the original plan on ABC on September 10. The author suggests that both debates should happen, and that Robert F. Kennedy Jr. and other candidates who appear on enough state ballots should be included. The author argues that politicians who refuse to debate in hostile environments lack intellectual confidence and are not statesmen. Trump has shown courage by debating on CNN and speaking at the National Association of Black Journalists conference, while Harris has been guarded since being chosen as the Democratic nominee. The author thinks Trump should agree to the ABC debate and then insist on a second debate with Harris on Fox News, which would show Harris's courage and mettle if she refuses to attend.\n",
      "\n",
      "Robert F. Kennedy Jr., an independent presidential candidate, has denied rumors that he is considering dropping out of the 2024 race and endorsing Donald Trump. Despite claims that he had cancelled campaign events, Kennedy stated that he is 'in it to win it' and is working to secure ballot access in all 50 states. He has also expressed his intention to participate in the next debate against Trump and the Democratic nominee. Kennedy's campaign is currently averaging 6.9% in national polls, with a recent poll showing him at 5%.\n",
      "\n",
      "Independent presidential candidate Robert F. Kennedy Jr. has failed to qualify for the upcoming debate in Atlanta, hosted by CNN, due to not meeting the benchmarks for state ballot qualification and necessary polling. This means that the June 27 debate will be between Democratic President Joe Biden and presumptive Republican nominee Donald Trump. Kennedy's campaign claims he has satisfied the requirements to appear on the ballot in 22 states, but CNN says he has not met the polling threshold of 15% in four reliable national polls by June 20. Kennedy has filed an election complaint alleging CNN is colluding with Biden and Trump to exclude him from the debate, but CNN has denied the claim.\n",
      "\n",
      "Kamala Harris won the Democratic Party's nomination for the upcoming US presidential election. The Democratic National Committee announced on Friday that Harris had secured the necessary number of delegate votes to secure the nomination. After securing the nomination, Harris' campaign announced on Saturday that she would not agree to a debate with Republican opponent Donald Trump on September 4. The US presidential election is scheduled to take place on November 5. Donald Trump has been nominated by the Republican Party, while Robert F. Kennedy Jr. has announced his candidacy as an independent candidate.\n",
      "\n",
      "Robert F. Kennedy Jr. has until midnight on June 20 to qualify for the first CNN presidential debate, and a complaint filed with the Federal Election Commission (FEC) might be his only hope. Kennedy alleges that CNN's debate criteria is a prohibited campaign contribution to President Joe Biden and Donald Trump, as it requires him to meet different criteria than the presumptive nominees. CNN has not commented on the complaint, and the FEC has not ruled on the issue. Kennedy's campaign is working to gain ballot access across the US, with $15 million raised for the process. He has qualified for the ballot in six states and has received at least 15% in three qualifying polls, but still needs to meet CNN's criteria to participate in the debate.\n",
      "\n",
      "According to a poll conducted by the newspaper in partnership with the University of Michigan's Business School, 42% of respondents believe that Donald Trump is the candidate who can improve their financial situation if he wins the US presidential election in November, while 33% think that Kamala Harris is the better candidate for this. The poll also showed that 43% of respondents believe that Trump will be better than Harris in handling trade-related issues between the US and China, while 39% expressed their trust in Harris's ability to handle these issues. The poll was conducted online from August 1 to 5 and included 1001 registered voters, with a margin of error of 3.1%. After Harris secured the Democratic Party's nomination, her campaign announced on Saturday that she would not agree to a debate with Trump on September 4. The US presidential election is scheduled for November 5. Trump has been nominated by the Republican Party, and Robert F. Kennedy Jr. has announced his candidacy as an independent candidate.\n",
      "\n",
      "Robert F. Kennedy Jr., an independent presidential candidate, failed to qualify for the presidential debate with President Biden and former President Trump. The debate, presented by CNN, will take place on June 27 in Atlanta. Kennedy had until 12:00:01 a.m. ET on Thursday to meet the debate's requirements. According to CNN's criteria, a candidate must appear on a sufficient number of state ballots to be eligible to win 270 electoral votes, the number needed to win the presidency. Kennedy is on the ballot in five states (Utah, Michigan, Delaware, Oklahoma, and Tennessee) for a total of 42 electoral votes. He will also be on the ballot in California as the candidate of the United States Independent Party and in Hawaii, on his We the People ballot, which adds 100 potential electoral votes. Although Kennedy has submitted requests for access to the ballots in several states, several of his requests are still being reviewed by state election offices. Additionally, candidates were required to reach a 15% threshold in four major national polls before June 20. According to CNN, Kennedy fell short, with three national polls qualified. Kennedy stated, 'The presidents Biden and Trump do not want me on the debate stage and CNN illegally accessed my demand.' 'My exclusion from the debate by Presidents Biden and Trump is antidemocratic, anti-American, and cowardly.' In May, Kennedy's campaign filed a complaint with the Federal Election Commission (FEC) accusing CNN, Biden, Trump, and their campaigns of violating federal election law. Kennedy's campaign claims that CNN applied the debate criteria differently for Kennedy than for Trump and Biden, the presumed nominees of their respective parties. The debate will take place before the Democratic and Republican parties hold their conventions to formalize their nominees. Kennedy's campaign alleges that the debate is an illegal campaign contribution both for Biden and Trump. Kennedy's search for a spot on the presidential ballot in all 50 states 'By demanding that our campaign meet different criteria to participate in the debate than Presidents Biden and Trump, CNN's debate violates FEC law and is a large prohibited corporate contribution both for Biden's and Trump's campaigns,' said Kennedy.\n",
      "\n",
      "Robert F. Kennedy Jr., an independent candidate, has less than 24 hours to qualify for the first presidential debate of the 2024 US election, and a lawsuit filed with the Federal Election Commission (FEC) may be his only hope. The CNN will broadcast the debate on June 27, after President Joe Biden and his Republican rival, Donald Trump, agreed to the confrontation last month. The deadline for candidates to qualify for the debate is midnight on Wednesday. Kennedy filed a complaint with the FEC in May, alleging that the CNN debate is an illegal campaign contribution to Biden and Trump because the media company is requiring him to meet 'different criteria' to participate in the debate. The campaign requested that the FEC take action by Thursday and prevent the CNN, Biden, and Trump from holding the debate on June 27 until they 'comply with the Federal Election Campaign Act', according to the complaint. The FEC declined to comment for this report. This election cycle presents a unique situation - since 1960, when the era of televised presidential debates began, it will be the first time that news organizations - first CNN, next week, and ABC, which will host a debate in September - will control the terms and parameters of the debates between candidates. Previously, the Commission on Presidential Debates sponsored the debates. CNN said that candidates qualified to participate must appear on a sufficient number of state ballots to reach the 270 electoral votes needed to win the election and receive at least 15% support in four separate national polls. After the debate announcement, Kennedy and his campaign complained. Kennedy said that Biden and Trump are 'trying to exclude me from the debate because they fear I will win'. On Saturday, CNN said it was 'not impossible' for Kennedy to qualify, but he has not yet met the criteria. He received at least 15% in three polls so far and qualified for the ballot in six states, making him eligible for 89 electoral votes, according to CNN. Kennedy's campaign did not comment further for this article. It is in the middle of an aggressive operation to gain access to electoral ballots across the US, with $15 million raised for the process.\n",
      "\n",
      "Former President Donald Trump has announced that the first debate with Vice President Kamala Harris will take place on Fox News in Harrisburg on September 4. He also stated that the second debate will occur on ABC in Philadelphia on September 10 and the third debate will take place on NBC in Michigan on September 25. However, the Harris campaign has only agreed to the ABC debate and has expressed skepticism about Trump's commitment to attending the other debates. Trump's campaign has been inconsistent in its debate schedule, with Trump initially agreeing to debate Joe Biden on September 10, but later stating that he would debate Harris instead. A Harris campaign aide said, 'We're pleased Trump finally agreed to debate the Vice President on ABC after previously trying to back out. We are open to another debate, and we'll continue those conversations. But to be clear, any additional debate would be subject to Trump actually showing up on September 10. We're not playing his games.'\n",
      "\n",
      "US Republican presidential candidate Donald Trump announced that two rounds of primary debates with Democratic candidate Kamala Harris will take place in Pennsylvania and Michigan. He confirmed on social media platform Truth Social that the meetings are scheduled for September 4, 10, and 25. The first presidential debates with Harris will be held by Fox News on September 4, 2024, in Harrisburg, Pennsylvania. The second debates will be held by ABC News in Philadelphia, Pennsylvania. The third debates will take place on NBC in Grand Rapids, Michigan. Harris's campaign in the primary state of Pennsylvania has stated that they will not discuss their participation in the event on September 4. Trump initially scheduled the debates for September 10, but later announced that he had agreed with Fox News to hold an additional meeting. He then called the September 10 debates 'not relevant' as they were originally scheduled with Joe Biden, who has dropped out of the race. Trump later agreed to participate in the debates, including on September 10. According to recent polls, Harris and Trump have equal chances of winning.\n",
      "\n",
      "Independent candidate Robert F. Kennedy Jr. has less than 24 hours to qualify for the first presidential debate of the 2024 election cycle. Kennedy has filed a complaint with the Federal Election Commission (FEC) alleging that CNN's debate criteria is unfair and amounts to a prohibited campaign contribution to the incumbent President Joe Biden and his Republican rival Donald Trump. The FEC has declined to comment. Kennedy's campaign is in the process of gaining ballot access across the US, with $15 million raised for the process. He has qualified for the ballot in six states and has received at least 15% in three qualifying polls. CNN has set criteria for candidates to participate in the debate, including appearing on a sufficient number of state ballots to reach the 270 electoral vote threshold and receiving at least 15% in four separate national polls. Kennedy's campaign has criticized the criteria, saying it is unfair and biased towards the presumptive nominees. Some experts have also questioned the criteria, saying it is 'nonsensical' and allows Biden and Trump to qualify for the debate as presumptive nominees. Having an independent candidate like Kennedy on stage may make for a more substantive debate, according to some experts.\n",
      "\n",
      "Donald Trump and Kamala Harris have agreed to a debate on September 10 on ABC, moderated by David Muir and Linsey Davis. The debate comes after a turbulent summer in which President Joe Biden dropped out of the 2024 presidential race, clearing the way for Harris to pick up the mantle. Harris has confirmed she will attend the debate, saying, 'I am honored to be the presumptive Democratic nominee for President of the United States.' According to recent polls, Harris is leading Trump in three key swing states, Michigan, Wisconsin, and Pennsylvania, with 50% of voters choosing Harris and 46% choosing Trump. Across the United States, Harris leads Trump 42% to 37% in the race for the Oval Office. Election day is on Tuesday, November 5.\n",
      "\n",
      "Robert F. Kennedy Jr., an independent presidential candidate, will be on the Texas general election ballot this November after the Texas Secretary of State's office accepted his petition with 122,513 valid signatures. State Democrats claimed that Kennedy's campaign didn't have enough valid signatures and used 'misleading tactics' to collect them. Despite this, Kennedy has confirmed ballot access in 14 other states and claims to have access in about 29 other states. His campaign has been a subject of scrutiny, with some questioning the use of signature gatherers and their tactics. According to polls, Kennedy had the support of 8% of Texas voters and 9% nationally in the initial presidential matchup between President Biden and Donald Trump, but his support dropped to 5% nationally after Vice President Kamala Harris became the Democratic nominee.\n",
      "\n",
      "US President Joe Biden has dropped out of the 2024 presidential election and endorsed Vice President Kamala Harris as his replacement. Biden, 81, cited his intention to focus on his duties as President for the remainder of his term, which ends in January 2025. Harris, 59, would become the first Black woman to run for president if nominated. Robert F. Kennedy Jr. has announced his candidacy for the Democratic nomination, criticizing Biden's performance and saying he will ensure American voters have a viable alternative to Donald Trump. The move comes after Biden's poor performance in a June 27 debate against Trump, which sparked concerns about his age and health. Harris has vowed to earn and win the nomination, and unite the Democratic Party to defeat Trump.\n",
      "\n",
      "Robert F. Kennedy Jr. has failed to qualify for the first presidential debate hosted by CNN due to not meeting the network's polling requirements. The debate, scheduled for June 27, will feature Democratic nominee Joe Biden and Republican nominee Donald Trump. Kennedy's campaign has filed a complaint with the Federal Election Commission (FEC) alleging that CNN's debate criteria are undemocratic and biased, and that the network is colluding with Biden and Trump to exclude him from the debate. Kennedy claims that the rules are arbitrarily enforced to exclude him and preserve the one-on-one debate format between the main Republican and Democratic candidates. He argues that the cost of the debate, funded by CNN, constitutes a prohibited corporate contribution to the Biden and Trump committees. CNN has dismissed the complaint as baseless and disagreed that its eligibility criteria run afoul of the law.\n",
      "\n",
      "Donald Trump, the Republican presidential candidate, announced that he will participate in three televised debates with his Democratic opponent, Kamala Harris, over the course of a month. According to AP, citing Gazeta.ru, Trump made the announcement on his social media platform Truth Social. The debates will take place on September 4, 10, and 25, with the first one airing live on Fox News from Harrisburg, Pennsylvania, the second on ABC from the Independence Hall in Philadelphia, and the third on NBC from Grand Rapids, Michigan. Trump did not confirm whether Harris has agreed to participate in all three debates. Harris had previously expressed her willingness to debate Trump in September. The US presidential election is scheduled for November 5, 2024.\n",
      "\n",
      "Former President Donald Trump has claimed that the first debate with Vice President Kamala Harris will be on September 4, hosted by Fox News, while Harris has confirmed a debate on September 10, hosted by ABC. Harris stated, 'Well I'm glad that he finally agreed to a debate on September 10th. I'm looking forward to it and I hope he shows up.' Trump has also announced debates on September 25, hosted by NBC, and September 10, hosted by ABC. However, the Harris campaign has responded that they have not agreed to any other dates at this time and are waiting for Trump to show up on September 10.\n",
      "\n",
      "Robert F. Kennedy Jr., an independent presidential candidate, will be on the Texas general election ballot this November after the Texas Secretary of State's office accepted his petition with 122,513 valid signatures. State Democrats criticized Kennedy's campaign for having 'bad signatures' and using 'misleading tactics' to collect signatures, echoing national Democrats' efforts to keep him off state ballots. Despite this, Kennedy has confirmed ballot access in 14 other states and claims to have access in about 29 states. According to polls, Kennedy had 9% national support when the matchup was between President Biden and Donald Trump, but his support dropped to 5% after Vice President Kamala Harris became the Democratic nominee.\n",
      "\n",
      "Robert F. Kennedy Jr., an independent candidate in the US presidential election, believes that former US President Donald Trump is likely to become the next American leader. 'You know, he's a former president. He's probably going to be the next president,' Kennedy Jr. said, according to NBC. The US presidential election is scheduled for November 5. It was expected that the Democratic Party would be represented by Biden, whose candidacy was expected to be confirmed at the national convention in Chicago, Illinois, scheduled for August 19-22. However, after Biden's poor performance in the presidential debates with Republican Trump on June 27, there were increasingly calls for the US leader to give up his re-election bid. On July 21, Biden announced that he would not seek re-election.\n",
      "\n",
      "Donald Trump announced that he will participate in three rounds of televised debates with his opponent, Kamala Harris, in September. According to Trump, the debates will take place on September 4 on Fox News in Harrisburg, Pennsylvania, on September 10 on ABC in Philadelphia, Pennsylvania, and on September 25 on NBC in Grand Rapids, Michigan. However, Harris has not commented on this information, so it is unclear if she will participate in the debates. Harris became the Democratic Party's candidate after incumbent President Joe Biden withdrew from the presidential race. Biden announced his withdrawal on July 21, stating that he would not resign early. He also expressed support for Harris as the Democratic Party's candidate. Harris secured the necessary number of delegate votes on August 2 to officially become the party's candidate. She has chosen Minnesota Governor Tim Walz as her running mate. The presidential election is scheduled for November 5, 2024.\n",
      "RATES 1. Today's date: 2024-08-12\n",
      "2. End date of the question: 2024-09-24\n",
      "3. Time in days from today to end date: 43 days\n",
      "4. Specific date at which the event is most likely to occur: 2024-10-15\n",
      "5. The likely event date is on or after the question end date\n",
      "\n",
      "Based on the provided news, it seems unlikely that Robert F. Kennedy Jr. will suspend his 2024 presidential campaign before September 24, 2024. The news indicates that Kennedy has been actively pursuing ballot access in multiple states and has expressed his intention to continue his campaign. He has also denied rumors about dropping out and endorsing Donald Trump. Given his continued efforts and statements about being \"in it to win it,\" it's more likely that he will continue his campaign past the specified date of September 24, 2024. The estimated date of October 15, 2024, for a potential suspension (if it were to occur) is based on the assumption that he might reassess his campaign closer to the general election date of November 5, 2024, but after the specified question end date.\n",
      "27133 75 Although the debate schedules have seen some uncertainties and changes, both Trump and Harris have indicated their willingness to debate, with Trump announcing a total of three debates. Harris has agreed to at least one debate on September 10. The likelihood of a second debate happening before October 1 is reasonably high, as both parties are under pressure to show up for these events.\n",
      "27136 10 Kennedy has been actively pursuing ballot access and has expressed continued commitment to his campaign. He has denied rumors about dropping out, has rallied significant campaign funds, and has qualified for multiple state ballots. Given his proactive stance and resources, it is unlikely he will suspend his campaign before September 24, 2024.\n",
      "REFINING 27133\n",
      "Pass 0 of 4 on 27133\n",
      "27133 While your rationale highlights several relevant factors, assigning a 75% probability might not fully account for the inherent uncertainties in the political climate, the possibility of last-minute cancellations, or changes in candidates' positions. Consider these contingencies in your probability assessment.\n",
      "27133 65 Acknowledging the inherent uncertainties in the political climate, including the potential for last-minute cancellations or changes in candidates' positions, it is prudent to assign a slightly lower probability. The likelihood of both debates occurring remains significant but not without risk, thus a 65% probability accounts for these contingencies.\n",
      "Pass 1 of 4 on 27133\n",
      "27133 I concur\n",
      "concur 2\n",
      "===============================================\n",
      "REFINING 27136\n",
      "Pass 0 of 4 on 27136\n",
      "27136 I concur\n",
      "concur 2\n",
      "===============================================\n"
     ]
    }
   ],
   "source": [
    "fcst.fit()"
   ]
  },
  {
   "cell_type": "code",
   "execution_count": 52,
   "metadata": {},
   "outputs": [
    {
     "name": "stdout",
     "output_type": "stream",
     "text": [
      "27132 Will Iran carry out a deadly attack within Israel before October 1, 2024?\n",
      "Forecast 70\n",
      "Rationale Given the intelligence reports indicating a high likelihood of an imminent Iranian attack, the increased military readiness of both Israel and Iran, the deployment of additional US military assets to the region, and credible reports citing specific dates of potential attacks around August 13, there is a significant probability that Iran will carry out a deadly attack within Israel before October 1, 2024. However, considering the complexities and the possibility that diplomatic efforts might prevent the attack, I assign a 70% probability. \n",
      "\n",
      "27133 Will Donald Trump debate the Democratic nominee for president more than once before October 1, 2024?\n",
      "Forecast 65\n",
      "Rationale Acknowledging the inherent uncertainties in the political climate, including the potential for last-minute cancellations or changes in candidates' positions, it is prudent to assign a slightly lower probability. The likelihood of both debates occurring remains significant but not without risk, thus a 65% probability accounts for these contingencies. \n",
      "\n",
      "27134 Will the S&P 500 index go up in September 2024?\n",
      "Forecast 55\n",
      "Rationale Given the mixture of positive indicators (e.g., recent record highs and expectations of future rate cuts) and some negative indicators (e.g., concerns about economic slowdown and recent volatility), there seems to be a slight edge towards the market having a positive trend. However, the uncertainty from mixed signals reduces the confidence level. Therefore, there is a modest probability slightly above neutral that the S&P 500 will go up in September 2024. \n",
      "\n",
      "27135 Before October 1, 2024, will Tech Crunch report new layoffs at Google or Alphabet?\n",
      "Forecast 85\n",
      "Rationale Given the ongoing trend of layoffs in the tech industry and specific reports of Google's recent job cuts in its cloud division, it is highly probable that Tech Crunch will report new layoffs at Google or Alphabet before October 1, 2024. Market pressures and economic uncertainties are continuing to drive layoffs across the tech sector, with major companies like Google focusing on cost-cutting measures to improve efficiency. The frequent mentions of Google in the context of layoffs further support the likelihood of this event. \n",
      "\n",
      "27136 Will Robert F. Kennedy Jr. suspend his 2024 presidential campaign before September 24, 2024?\n",
      "Forecast 10\n",
      "Rationale Kennedy has been actively pursuing ballot access and has expressed continued commitment to his campaign. He has denied rumors about dropping out, has rallied significant campaign funds, and has qualified for multiple state ballots. Given his proactive stance and resources, it is unlikely he will suspend his campaign before September 24, 2024. \n",
      "\n"
     ]
    }
   ],
   "source": [
    "fcst.report()"
   ]
  },
  {
   "cell_type": "code",
   "execution_count": 53,
   "metadata": {},
   "outputs": [
    {
     "name": "stdout",
     "output_type": "stream",
     "text": [
      "Prediction posted for  27132\n",
      "Comment posted for  27132\n",
      "Prediction posted for  27133\n",
      "Comment posted for  27133\n",
      "Prediction posted for  27134\n",
      "Comment posted for  27134\n",
      "Prediction posted for  27135\n",
      "Comment posted for  27135\n",
      "Prediction posted for  27136\n",
      "Comment posted for  27136\n"
     ]
    }
   ],
   "source": [
    "fcst.upload()"
   ]
  },
  {
   "cell_type": "code",
   "execution_count": null,
   "metadata": {},
   "outputs": [],
   "source": []
  }
 ],
 "metadata": {
  "colab": {
   "provenance": []
  },
  "kernelspec": {
   "display_name": "Python 3 (ipykernel)",
   "language": "python",
   "name": "python3"
  },
  "language_info": {
   "codemirror_mode": {
    "name": "ipython",
    "version": 3
   },
   "file_extension": ".py",
   "mimetype": "text/x-python",
   "name": "python",
   "nbconvert_exporter": "python",
   "pygments_lexer": "ipython3",
   "version": "3.10.6"
  }
 },
 "nbformat": 4,
 "nbformat_minor": 4
}
