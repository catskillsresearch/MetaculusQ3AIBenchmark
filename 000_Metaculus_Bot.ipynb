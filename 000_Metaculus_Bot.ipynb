{
 "cells": [
  {
   "cell_type": "markdown",
   "metadata": {},
   "source": [
    "# 000 Forecasting Bot"
   ]
  },
  {
   "cell_type": "code",
   "execution_count": 1,
   "metadata": {},
   "outputs": [],
   "source": [
    "%load_ext autoreload\n",
    "%autoreload 2"
   ]
  },
  {
   "cell_type": "code",
   "execution_count": 2,
   "metadata": {},
   "outputs": [],
   "source": [
    "from IFP import IFP, list_questions"
   ]
  },
  {
   "cell_type": "code",
   "execution_count": 3,
   "metadata": {},
   "outputs": [],
   "source": [
    "ifps = list_questions()['results']"
   ]
  },
  {
   "cell_type": "code",
   "execution_count": 4,
   "metadata": {},
   "outputs": [
    {
     "data": {
      "text/plain": [
       "[28037, 28038, 28039, 28040, 28041, 28042, 28043, 28044, 28045, 28046]"
      ]
     },
     "execution_count": 4,
     "metadata": {},
     "output_type": "execute_result"
    }
   ],
   "source": [
    "today_ids = list(sorted([x['id'] for x in ifps])) if ifps else [27238, 27239, 27240, 27241]\n",
    "today_ids"
   ]
  },
  {
   "cell_type": "code",
   "execution_count": 5,
   "metadata": {},
   "outputs": [],
   "source": [
    "ifps = {id: IFP(id) for id in today_ids}"
   ]
  },
  {
   "cell_type": "code",
   "execution_count": 6,
   "metadata": {},
   "outputs": [],
   "source": [
    "from Forecaster import Forecaster"
   ]
  },
  {
   "cell_type": "code",
   "execution_count": 7,
   "metadata": {},
   "outputs": [],
   "source": [
    "fcst = Forecaster(ifps)"
   ]
  },
  {
   "cell_type": "code",
   "execution_count": 8,
   "metadata": {},
   "outputs": [
    {
     "name": "stdout",
     "output_type": "stream",
     "text": [
      "MODEL DOMAIN\n",
      "28037 Will any major Atlantic hurricanes (Category 3 or higher) occur in September 2024?\n",
      "Weather prediction\n",
      "28038 Will exactly 1 major Atlantic hurricane (Category 3 or higher) occur in September 2024?\n",
      "Weather prediction\n",
      "28039 Will exactly 2 major Atlantic hurricanes (Category 3 or higher) occur in September 2024?\n",
      "Weather prediction\n",
      "28040 Will exactly 3 major Atlantic hurricane (Category 3 or higher) occur in September 2024?\n",
      "Weather prediction\n",
      "28041 Will 4 or more major Atlantic hurricane (Category 3 or higher) occur in September 2024?\n",
      "Weather prediction\n",
      "28042 Will AfD's vote share be more than 32% in the 2024 Brandenburg state election?\n",
      "Election outcome\n",
      "28043 Will AfD's vote share be more than 30% and less than or equal to 32% in the 2024 Brandenburg state election?\n",
      "Election outcome\n",
      "28044 Will AfD's vote share be more than 28% and less than or equal to 30% in the 2024 Brandenburg state election?\n",
      "Election outcome\n",
      "28045 Will AfD's vote share be less than or equal to 28% in the 2024 Brandenburg state election?\n",
      "Election outcome\n",
      "28046 Will the lithium carbonate (CNY/T) price fall below 70,000 before October 1, 2024?\n",
      "Market price\n",
      "CORRELATOR\n",
      "|Major Atlantic hurricanes in September 2024|28037|Will any major Atlantic hurricanes (Category 3 or higher) occur in September 2024?|\n",
      "|Major Atlantic hurricanes in September 2024|28038|Will exactly 1 major Atlantic hurricane (Category 3 or higher) occur in September 2024?|\n",
      "|Major Atlantic hurricanes in September 2024|28039|Will exactly 2 major Atlantic hurricanes (Category 3 or higher) occur in September 2024?|\n",
      "|Major Atlantic hurricanes in September 2024|28040|Will exactly 3 major Atlantic hurricane (Category 3 or higher) occur in September 2024?|\n",
      "|Major Atlantic hurricanes in September 2024|28041|Will 4 or more major Atlantic hurricane (Category 3 or higher) occur in September 2024?|\n",
      "|2024 Brandenburg state election|28042|Will AfD's vote share be more than 32% in the 2024 Brandenburg state election?|\n",
      "|2024 Brandenburg state election|28043|Will AfD's vote share be more than 30% and less than or equal to 32% in the 2024 Brandenburg state election?|\n",
      "|2024 Brandenburg state election|28044|Will AfD's vote share be more than 28% and less than or equal to 30% in the 2024 Brandenburg state election?|\n",
      "|2024 Brandenburg state election|28045|Will AfD's vote share be less than or equal to 28% in the 2024 Brandenburg state election?|\n",
      "|Lithium carbonate price|28046|Will the lithium carbonate (CNY/T) price fall below 70,000 before October 1, 2024?|\n",
      "NEWS\n",
      "ASKING\n",
      "Researching Will any major Atlantic hurricanes (Category 3 or higher) occur in September 2024?\n",
      "Will exactly 1 major Atlantic hurricane (Category 3 or higher) occur in September 2024?\n",
      "Will exactly 2 major Atlantic hurricanes (Category 3 or higher) occur in September 2024?\n",
      "Will exactly 3 major Atlantic hurricane (Category 3 or higher) occur in September 2024?\n",
      "Will 4 or more major Atlantic hurricane (Category 3 or higher) occur in September 2024?\n",
      "ALL\n",
      "The Atlantic Ocean has been relatively calm, with the last hurricane to form in its waters being Ernesto. However, the necessary ingredients are in place: record-breaking ocean temperatures and the formation of La Niña in the Pacific could combine to produce one of the most active periods in history in the Atlantic. Several forecasts have warned of an 'extraordinary' hurricane season. However, after Ernesto dissipated on August 20, a lull in cyclones occurred, leading experts to question whether the forecasts had failed. 'What the devil is going on with the Atlantic hurricane season? Will it be a huge failure of the predictions?' asked University of Colorado meteorologist Phillip Klotzbach on his X account. His first response: there is a possibility that the predictions will still hold, as the Atlantic seems to have awakened. A promising start Alberto was the storm that opened the season in the Atlantic Ocean, although it did not become a hurricane, its presence in the Gulf of Mexico was enough to trigger torrential rains in Mexican territory and floods in the United States. Shortly after the storm made landfall, a low-pressure system developed into Beryl, considered the earliest Category 5 hurricane on record in Atlantic waters. The presence and characteristics of both storms began to give body to the forecast issued by the National Oceanic and Atmospheric Administration (NOAA) and supported by the World Meteorological Organization (WMO): a higher-than-normal activity was expected, with the possibility of up to 11 hurricanes. Debby and Ernesto soon followed, resulting in a 'very above-average' season until mid-August, according to the University of Colorado's latest report. However, and contrary to all expectations, the dispersal of Ernesto also marked the dissolution of expectations: during the month in which the Atlantic is climatologically very busy, the waters remained calm. Until September 4, the National Hurricane Center (NHC) was monitoring four areas with possible cyclone formation, but the chances of them becoming a storm were very low. 'A handful of 'maybe's and a few 'probably not's on the map today. You can't ask for a more docile aspect to start September,' said hurricane expert and expert in cyclonic waves, Michael Lowry on his social media. Without new hurricanes in sight, the group of researchers from the Department of Atmospheric Sciences, Colorado State University began to seek explanations. Is there no reason? There are several reasons to explain why the forecasts (which seemed more than accurate) began to falter in the face of the wind and the sea. And it is that, more than one factor could have 'conspired' against them, as explained by Philip J. Klotzbach and colleagues from the Department of Atmospheric Sciences at the University of Colorado. Firstly, the researchers detected a change in route that could be key: usually when the monsoon trough moves north it brings more cyclones, however, this year it moved so far north that it caused dry air in the subtropics. Since a lot of humidity is required for hurricane formation, this type of air ended up stifling the possibilities. Interestingly, the fact that the trough moved further than expected could be directly related to one of the conditions that initially triggered the rapid formation of a powerful hurricane: high sea temperatures. On the other hand, despite the record-breaking heat remaining in the sea, this year there is a new element that was not experienced in 2023: high temperatures in the troposphere, the layer of the atmosphere that is in direct contact with the Earth's surface. Thus, the record-breaking heat of the ocean, added to that of the troposphere, is causing a stabilizing effect that ends up suppressing the creation of cyclones. The third element that could be hindering the process is the wind: the increase in its sudden changes in direction and speed (better known as shear) in the eastern Atlantic 'may be one of the reasons why we have seen a very anemic performance,' as detailed in the University of Colorado report. Finally, the movement of a key piece ended up disfavoring the game: it is the Madden-Julian oscillation, a zone of low pressure that travels around the world in a period of 30 to 60 days and has effects both in the ocean and in the atmosphere. According to meteorologists, usually its presence favors the formation of large hurricanes (category 3 or higher), however, after taking some steps to the east and locating itself between the Indian and Pacific Oceans, it caused more wind shear. Then.... What can be expected? The hurricane season has had two faces so far this year: the first, energetic, the second, extremely calm. Now, if the calm has ruled for a few weeks, it seems that the Atlantic is turning back to its more agitated side. Despite the elements that the climate forecasted a 'below-normal' activity in the following weeks, on September 9, the formation of Francine in the Gulf of Mexico was achieved. In addition, just two days later, the NHC alerted the monitoring of a perturbation with high probabilities of becoming the next tropical storm: Gordon. Will it then be the rest of the season a failure or will the expectations be maintained? The experts still do not rule out the possibility of an agitated cyclone period. 'The continued extreme warming of the Atlantic, the trend towards La Niña and the forecast of low wind shear indicate that the season can still recover during the second half. The climatological peak of the season is September 10,' Klotzbach said. It is expected that the conditions will continue to improve from the second half of September, not only due to the behavior of the wind, but also because the atmospheric stability could be altered. 'Climatologically, the surface temperatures of the sea and the ocean heat content increase until the end of September and early October, while the temperatures in the upper levels begin to decrease.' Therefore, a hyperactive cyclone season is still possible. Although, as the meteorologists warn, the forecasts can always change. \n",
      "saved asknews_for_question/28037.json\n",
      "saved asknews_for_question/28038.json\n",
      "saved asknews_for_question/28039.json\n",
      "saved asknews_for_question/28040.json\n",
      "saved asknews_for_question/28041.json\n",
      "ASKING\n",
      "Researching Will AfD's vote share be more than 32% in the 2024 Brandenburg state election?\n",
      "Will AfD's vote share be more than 30% and less than or equal to 32% in the 2024 Brandenburg state election?\n",
      "Will AfD's vote share be more than 28% and less than or equal to 30% in the 2024 Brandenburg state election?\n",
      "Will AfD's vote share be less than or equal to 28% in the 2024 Brandenburg state election?\n",
      "ALL\n",
      "Ten days before the Brandenburg state election, a representative survey predicts a close race between the SPD and the AfD. The SPD has gained 3 percentage points, reaching 26%, while the AfD remains stable at 27%. The survey, conducted by 'Infratest dimap' for ARD, suggests that the SPD's Minister-President Dietmar Woidke has improved his party's position. Meanwhile, other parties may struggle to enter the state parliament. According to the survey, the Bündnis Sahra Wagenknecht (BSW) is expected to achieve a two-digit result.\n",
      "saved asknews_for_question/28042.json\n",
      "saved asknews_for_question/28043.json\n",
      "saved asknews_for_question/28044.json\n",
      "saved asknews_for_question/28045.json\n",
      "ASKING\n",
      "Researching Will the lithium carbonate (CNY/T) price fall below 70,000 before October 1, 2024?\n",
      "ALL\n",
      "Citi analysts have raised their short-term price forecast for lithium carbonate to $14K/metric ton and hydroxide to $14.2K/ton, citing investor demand to cover short positions. However, they expect the rally to fade over the next 6-12 months as higher prices may trigger a supply response, potentially leading to a loosening of lithium balances. This comes after lithium futures surged 9% and lithium miner share prices spiked following reports that China's CATL, the world's largest battery producer, was suspending a mine that accounts for 5%-6% of global supply. According to S&P Global Commodity Insights analyst Alice Yu, 'There is a stronger signaling effect from CATL's cut,' as the mine's suspension reinforces the expectation of a prolonged weakness in downstream demand.\n",
      "saved asknews_for_question/28046.json\n",
      "RATES\n",
      "RATES Major Atlantic hurricanes in September 2024 {'Major Atlantic hurricanes in September 2024': \"Today's Date: 2024-09-12\\nEnd Date: 2024-09-30\\nTime in Days (D): 18\\n\\nBased on the news, storm activity is expected to remain low for the next week, and the generally slow start of this hurricane season marks a trend that may influence future activity. The peak day has passed, and significant activity is uncertain, making the likelihood of forming multiple major hurricanes in the remaining 18 days less probable. Here is an evaluation of each question:\\n\\n1. Will any major Atlantic hurricanes (Category 3 or higher) occur in September 2024?\\n   - Likely event date: Uncertain\\n   - Likely event date status: On or after the question end date\\n   \\n2. Will exactly 1 major Atlantic hurricane (Category 3 or higher) occur in September 2024?\\n   - Likely event date: Uncertain\\n   - Likely event date status: On or after the question end date\\n   \\n3. Will exactly 2 major Atlantic hurricanes (Category 3 or higher) occur in September 2024?\\n   - Likely event date: Uncertain\\n   - Likely event date status: On or after the question end date\\n   \\n4. Will exactly 3 major Atlantic hurricanes (Category 3 or higher) occur in September 2024?\\n   - Likely event date: Uncertain\\n   - Likely event date status: On or after the question end date\\n   \\n5. Will 4 or more major Atlantic hurricane (Category 3 or higher) occur in September 2024?\\n   - Likely event date: Uncertain\\n   - Likely event date status: On or after the question end date\\n   \\nBased on the current news and analysis, the likelihood of meeting the specific hurricane totals within the remaining period seems low, highlighting the uncertainty and suggesting potential for over predictions based on current observations.\", '2024 Brandenburg state election': None, 'Lithium carbonate price': None}\n",
      "RATES 2024 Brandenburg state election {'Major Atlantic hurricanes in September 2024': \"Today's Date: 2024-09-12\\nEnd Date: 2024-09-30\\nTime in Days (D): 18\\n\\nBased on the news, storm activity is expected to remain low for the next week, and the generally slow start of this hurricane season marks a trend that may influence future activity. The peak day has passed, and significant activity is uncertain, making the likelihood of forming multiple major hurricanes in the remaining 18 days less probable. Here is an evaluation of each question:\\n\\n1. Will any major Atlantic hurricanes (Category 3 or higher) occur in September 2024?\\n   - Likely event date: Uncertain\\n   - Likely event date status: On or after the question end date\\n   \\n2. Will exactly 1 major Atlantic hurricane (Category 3 or higher) occur in September 2024?\\n   - Likely event date: Uncertain\\n   - Likely event date status: On or after the question end date\\n   \\n3. Will exactly 2 major Atlantic hurricanes (Category 3 or higher) occur in September 2024?\\n   - Likely event date: Uncertain\\n   - Likely event date status: On or after the question end date\\n   \\n4. Will exactly 3 major Atlantic hurricanes (Category 3 or higher) occur in September 2024?\\n   - Likely event date: Uncertain\\n   - Likely event date status: On or after the question end date\\n   \\n5. Will 4 or more major Atlantic hurricane (Category 3 or higher) occur in September 2024?\\n   - Likely event date: Uncertain\\n   - Likely event date status: On or after the question end date\\n   \\nBased on the current news and analysis, the likelihood of meeting the specific hurricane totals within the remaining period seems low, highlighting the uncertainty and suggesting potential for over predictions based on current observations.\", '2024 Brandenburg state election': \"Today's date: 2024-09-12\\nEnd date of the question: 2024-09-22\\nTime in days (D) from today to end date: 10 days\\nMost likely event date: 2024-09-22\\nThe likely event date is on the question end date.\", 'Lithium carbonate price': None}\n",
      "RATES Lithium carbonate price {'Major Atlantic hurricanes in September 2024': \"Today's Date: 2024-09-12\\nEnd Date: 2024-09-30\\nTime in Days (D): 18\\n\\nBased on the news, storm activity is expected to remain low for the next week, and the generally slow start of this hurricane season marks a trend that may influence future activity. The peak day has passed, and significant activity is uncertain, making the likelihood of forming multiple major hurricanes in the remaining 18 days less probable. Here is an evaluation of each question:\\n\\n1. Will any major Atlantic hurricanes (Category 3 or higher) occur in September 2024?\\n   - Likely event date: Uncertain\\n   - Likely event date status: On or after the question end date\\n   \\n2. Will exactly 1 major Atlantic hurricane (Category 3 or higher) occur in September 2024?\\n   - Likely event date: Uncertain\\n   - Likely event date status: On or after the question end date\\n   \\n3. Will exactly 2 major Atlantic hurricanes (Category 3 or higher) occur in September 2024?\\n   - Likely event date: Uncertain\\n   - Likely event date status: On or after the question end date\\n   \\n4. Will exactly 3 major Atlantic hurricanes (Category 3 or higher) occur in September 2024?\\n   - Likely event date: Uncertain\\n   - Likely event date status: On or after the question end date\\n   \\n5. Will 4 or more major Atlantic hurricane (Category 3 or higher) occur in September 2024?\\n   - Likely event date: Uncertain\\n   - Likely event date status: On or after the question end date\\n   \\nBased on the current news and analysis, the likelihood of meeting the specific hurricane totals within the remaining period seems low, highlighting the uncertainty and suggesting potential for over predictions based on current observations.\", '2024 Brandenburg state election': \"Today's date: 2024-09-12\\nEnd date of the question: 2024-09-22\\nTime in days (D) from today to end date: 10 days\\nMost likely event date: 2024-09-22\\nThe likely event date is on the question end date.\", 'Lithium carbonate price': \"1. Today's date: 2024-09-12\\n2. The end date of the question: 2024-10-01\\n3. The time in days D from today to end date: 19 days\\n4. The specific date at which the event is most likely to occur: Based on current trends and market analysis, the likelihood of lithium carbonate falling below CNY 70,000 before October 1, 2024, is uncertain but plausible given the current trajectory of prices and market sentiment.\\n\\n5. Whether the likely event date is before, or on or after the question end date: on or after the question end date.\\n\\nGiven the volatility and recent trends in the lithium market, which include price fluctuations and the current price being CNY 73,500, a gradual decline is possible. However, external factors like supply curtailments from CATL and market stabilization efforts could influence the timeline. Thus, while the possibility exists, forecasting the exact date with high confidence is challenging.\"}\n",
      "FORECASTING Major Atlantic hurricanes in September 2024\n",
      "28037 40 Given the historically active period in mid-September and upcoming potentially favorable conditions, the chance of at least one major hurricane forming is still moderately high despite the lull.\n",
      "28038 30 The exact occurrence of one major hurricane is less likely due to either more or less than one major hurricane forming. The chance remains moderate due to historical hurricane peak period and potential favorable conditions.\n",
      "28039 20 The likelihood of exactly two major hurricanes forming is relatively lower, considering the current lull and the time remaining in September.\n",
      "28040 10 Formation of exactly three major hurricanes appears very unlikely given current season's activity and remaining days.\n",
      "28041 5 Four or more major hurricanes in September is extremely unlikely given current activity levels and forecast predictions for remaining days of the month.\n",
      "FORECASTING 2024 Brandenburg state election\n",
      "28042 20 Recent polls show AfD at 27%, and despite their previous strong performances in Saxony and Thuringia, achieving over 32% in Brandenburg seems unlikely.\n",
      "28043 25 AfD's current polling is around 27%. Given recent trends, a slight increase to just over 30% is possible, but not more.\n",
      "28044 40 AfD's polling stability at 27% with minor fluctuations suggests a reasonable likelihood of falling within this range.\n",
      "28045 65 AfD's steady polling at 27% with no major upward trend supports a higher probability of not exceeding 28%.\n",
      "FORECASTING Lithium carbonate price\n",
      "28046 45 Given the recent price of lithium carbonate at CNY 73,500, the market's volatility, and the potential supply curtailments by CATL, the situation is poised for fluctuations. While a decline below CNY 70,000 is possible, it is less than even odds within the short time frame until October 1, 2024. Therefore, I assess the probability as 45%.\n"
     ]
    }
   ],
   "source": [
    "fcst.fit()"
   ]
  },
  {
   "cell_type": "code",
   "execution_count": 9,
   "metadata": {},
   "outputs": [
    {
     "name": "stdout",
     "output_type": "stream",
     "text": [
      "28037 40\n",
      "28038 30\n",
      "28039 20\n",
      "28040 10\n",
      "28041 5\n",
      "28042 20\n",
      "28043 25\n",
      "28044 40\n",
      "28045 65\n",
      "28046 45\n"
     ]
    }
   ],
   "source": [
    "for ifp in ifps.values():\n",
    "    try:\n",
    "        print(ifp.id, ifp.forecast)\n",
    "    except:\n",
    "        print(ifp.id, 'none')"
   ]
  },
  {
   "cell_type": "code",
   "execution_count": 10,
   "metadata": {},
   "outputs": [
    {
     "name": "stdout",
     "output_type": "stream",
     "text": [
      "28037 Will any major Atlantic hurricanes (Category 3 or higher) occur in September 2024?\n",
      "Forecast 40\n",
      "Rationale Given the historically active period in mid-September and upcoming potentially favorable conditions, the chance of at least one major hurricane forming is still moderately high despite the lull. \n",
      "\n",
      "28038 Will exactly 1 major Atlantic hurricane (Category 3 or higher) occur in September 2024?\n",
      "Forecast 30\n",
      "Rationale The exact occurrence of one major hurricane is less likely due to either more or less than one major hurricane forming. The chance remains moderate due to historical hurricane peak period and potential favorable conditions. \n",
      "\n",
      "28039 Will exactly 2 major Atlantic hurricanes (Category 3 or higher) occur in September 2024?\n",
      "Forecast 20\n",
      "Rationale The likelihood of exactly two major hurricanes forming is relatively lower, considering the current lull and the time remaining in September. \n",
      "\n",
      "28040 Will exactly 3 major Atlantic hurricane (Category 3 or higher) occur in September 2024?\n",
      "Forecast 10\n",
      "Rationale Formation of exactly three major hurricanes appears very unlikely given current season's activity and remaining days. \n",
      "\n",
      "28041 Will 4 or more major Atlantic hurricane (Category 3 or higher) occur in September 2024?\n",
      "Forecast 5\n",
      "Rationale Four or more major hurricanes in September is extremely unlikely given current activity levels and forecast predictions for remaining days of the month. \n",
      "\n",
      "28042 Will AfD's vote share be more than 32% in the 2024 Brandenburg state election?\n",
      "Forecast 20\n",
      "Rationale Recent polls show AfD at 27%, and despite their previous strong performances in Saxony and Thuringia, achieving over 32% in Brandenburg seems unlikely. \n",
      "\n",
      "28043 Will AfD's vote share be more than 30% and less than or equal to 32% in the 2024 Brandenburg state election?\n",
      "Forecast 25\n",
      "Rationale AfD's current polling is around 27%. Given recent trends, a slight increase to just over 30% is possible, but not more. \n",
      "\n",
      "28044 Will AfD's vote share be more than 28% and less than or equal to 30% in the 2024 Brandenburg state election?\n",
      "Forecast 40\n",
      "Rationale AfD's polling stability at 27% with minor fluctuations suggests a reasonable likelihood of falling within this range. \n",
      "\n",
      "28045 Will AfD's vote share be less than or equal to 28% in the 2024 Brandenburg state election?\n",
      "Forecast 65\n",
      "Rationale AfD's steady polling at 27% with no major upward trend supports a higher probability of not exceeding 28%. \n",
      "\n",
      "28046 Will the lithium carbonate (CNY/T) price fall below 70,000 before October 1, 2024?\n",
      "Forecast 45\n",
      "Rationale Given the recent price of lithium carbonate at CNY 73,500, the market's volatility, and the potential supply curtailments by CATL, the situation is poised for fluctuations. While a decline below CNY 70,000 is possible, it is less than even odds within the short time frame until October 1, 2024. Therefore, I assess the probability as 45%. \n",
      "\n"
     ]
    }
   ],
   "source": [
    "fcst.report()"
   ]
  },
  {
   "cell_type": "code",
   "execution_count": 11,
   "metadata": {},
   "outputs": [
    {
     "name": "stdout",
     "output_type": "stream",
     "text": [
      "Prediction posted for  28037\n",
      "Comment posted for  28037\n",
      "Prediction posted for  28038\n",
      "Comment posted for  28038\n",
      "Prediction posted for  28039\n",
      "Comment posted for  28039\n",
      "Prediction posted for  28040\n",
      "Comment posted for  28040\n",
      "Prediction posted for  28041\n",
      "Comment posted for  28041\n",
      "Prediction posted for  28042\n",
      "Comment posted for  28042\n",
      "Prediction posted for  28043\n",
      "Comment posted for  28043\n",
      "Prediction posted for  28044\n",
      "Comment posted for  28044\n",
      "Prediction posted for  28045\n",
      "Comment posted for  28045\n",
      "Prediction posted for  28046\n",
      "Comment posted for  28046\n"
     ]
    }
   ],
   "source": [
    "fcst.upload()"
   ]
  },
  {
   "cell_type": "code",
   "execution_count": null,
   "metadata": {},
   "outputs": [],
   "source": []
  }
 ],
 "metadata": {
  "colab": {
   "provenance": []
  },
  "kernelspec": {
   "display_name": "trader",
   "language": "python",
   "name": "trader"
  },
  "language_info": {
   "codemirror_mode": {
    "name": "ipython",
    "version": 3
   },
   "file_extension": ".py",
   "mimetype": "text/x-python",
   "name": "python",
   "nbconvert_exporter": "python",
   "pygments_lexer": "ipython3",
   "version": "3.10.6"
  }
 },
 "nbformat": 4,
 "nbformat_minor": 4
}
