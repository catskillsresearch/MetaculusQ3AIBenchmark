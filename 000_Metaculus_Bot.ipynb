{
 "cells": [
  {
   "cell_type": "markdown",
   "metadata": {},
   "source": [
    "# 000 Forecasting Bot"
   ]
  },
  {
   "cell_type": "code",
   "execution_count": 1,
   "metadata": {},
   "outputs": [],
   "source": [
    "%load_ext autoreload\n",
    "%autoreload 2"
   ]
  },
  {
   "cell_type": "code",
   "execution_count": 2,
   "metadata": {},
   "outputs": [],
   "source": [
    "from IFP import IFP, list_questions"
   ]
  },
  {
   "cell_type": "code",
   "execution_count": 3,
   "metadata": {},
   "outputs": [],
   "source": [
    "ifps = list_questions()['results']"
   ]
  },
  {
   "cell_type": "code",
   "execution_count": 4,
   "metadata": {},
   "outputs": [
    {
     "data": {
      "text/plain": [
       "[27920, 27932, 27933, 27934, 27935, 27979, 27980, 27981, 27982, 27983]"
      ]
     },
     "execution_count": 4,
     "metadata": {},
     "output_type": "execute_result"
    }
   ],
   "source": [
    "today_ids = list(sorted([x['id'] for x in ifps])) if ifps else [27238, 27239, 27240, 27241]\n",
    "today_ids"
   ]
  },
  {
   "cell_type": "code",
   "execution_count": 5,
   "metadata": {},
   "outputs": [],
   "source": [
    "ifps = {id: IFP(id) for id in today_ids}"
   ]
  },
  {
   "cell_type": "code",
   "execution_count": 6,
   "metadata": {},
   "outputs": [],
   "source": [
    "from Forecaster import Forecaster"
   ]
  },
  {
   "cell_type": "code",
   "execution_count": 7,
   "metadata": {},
   "outputs": [],
   "source": [
    "fcst = Forecaster(ifps)"
   ]
  },
  {
   "cell_type": "code",
   "execution_count": 8,
   "metadata": {},
   "outputs": [
    {
     "name": "stdout",
     "output_type": "stream",
     "text": [
      "MODEL DOMAIN\n",
      "27920 Before October 1, 2024, will Ethiopia and Somalia announce an agreement settling their dispute over the Somaliland port deal?\n",
      "Geopolitics\n",
      "27932 Will China's youth unemployment rate be less than or equal to 16.0 for August 2024?\n",
      "Rate change\n",
      "27933 Will China's youth unemployment rate be greater than 16.0 and less than or equal to 17.0 for August 2024?\n",
      "Rate change\n",
      "27934 Will China's youth unemployment rate be greater than 17.0 and less than or equal to 18.0 for August 2024?\n",
      "Rate change\n",
      "27935 Will China's youth unemployment rate be greater than 18.0 for August 2024?\n",
      "Rate change\n",
      "27979 Will Starliner Calypso touch ground at any of the planned sites by September 30?\n",
      "Aerospace technology\n",
      "27980 Will Starliner Calypso touch ground somewhere other than at one of the planned sites by September 30?\n",
      "Aerospace technology\n",
      "27981 Will Starliner Calypso splashdown in any body of water by September 30?\n",
      "Aerospace technology\n",
      "27982 Will Starliner Calypso disintegrate in the atmosphere by September 30?\n",
      "Aerospace technology\n",
      "27983 Will Starliner Calypso be stuck in space on September 30?\n",
      "Aerospace technology\n",
      "CORRELATOR\n",
      "|Ethiopia-Somalia Dispute over Somaliland Port Deal|27920|Before October 1, 2024, will Ethiopia and Somalia announce an agreement settling their dispute over the Somaliland port deal?|\n",
      "|China Youth Unemployment Rate August 2024|27932|Will China's youth unemployment rate be less than or equal to 16.0 for August 2024?|\n",
      "|China Youth Unemployment Rate August 2024|27933|Will China's youth unemployment rate be greater than 16.0 and less than or equal to 17.0 for August 2024?|\n",
      "|China Youth Unemployment Rate August 2024|27934|Will China's youth unemployment rate be greater than 17.0 and less than or equal to 18.0 for August 2024?|\n",
      "|China Youth Unemployment Rate August 2024|27935|Will China's youth unemployment rate be greater than 18.0 for August 2024?|\n",
      "|Starliner Calypso Landing Status September 2023|27979|Will Starliner Calypso touch ground at any of the planned sites by September 30?|\n",
      "|Starliner Calypso Landing Status September 2023|27980|Will Starliner Calypso touch ground somewhere other than at one of the planned sites by September 30?|\n",
      "|Starliner Calypso Landing Status September 2023|27981|Will Starliner Calypso splashdown in any body of water by September 30?|\n",
      "|Starliner Calypso Landing Status September 2023|27982|Will Starliner Calypso disintegrate in the atmosphere by September 30?|\n",
      "|Starliner Calypso Landing Status September 2023|27983|Will Starliner Calypso be stuck in space on September 30?|\n",
      "NEWS\n",
      "ASKING\n",
      "Researching Will China's youth unemployment rate be less than or equal to 16.0 for August 2024?\n",
      "Will China's youth unemployment rate be greater than 16.0 and less than or equal to 17.0 for August 2024?\n",
      "Will China's youth unemployment rate be greater than 17.0 and less than or equal to 18.0 for August 2024?\n",
      "Will China's youth unemployment rate be greater than 18.0 for August 2024?\n",
      "ALL\n",
      "According to official data released by Statistics Canada, the unemployment rate in Canada has risen to 6.6% in August, the highest level in seven years excluding the COVID-19 pandemic period. This marks a significant increase, and the data suggests that the labor market is experiencing challenges.\n",
      "saved asknews_for_question/27932.json\n",
      "saved asknews_for_question/27933.json\n",
      "saved asknews_for_question/27934.json\n",
      "saved asknews_for_question/27935.json\n",
      "ASKING\n",
      "Researching Will Starliner Calypso touch ground at any of the planned sites by September 30?\n",
      "Will Starliner Calypso touch ground somewhere other than at one of the planned sites by September 30?\n",
      "Will Starliner Calypso splashdown in any body of water by September 30?\n",
      "Will Starliner Calypso disintegrate in the atmosphere by September 30?\n",
      "Will Starliner Calypso be stuck in space on September 30?\n",
      "ALL\n",
      "Boeing's Starliner spacecraft is set to leave the International Space Station on Friday, months later than planned, without the two astronauts it carried into orbit. The capsule will return to Earth in about six hours and land at White Sands Space Harbor in New Mexico. NASA test pilots Butch Wilmore and Suni Williams will stay at the ISS for the rest of the year and return to Earth in February aboard SpaceX's Dragon spacecraft. The return of Boeing's Starliner capsule 'Calypso' ends a test flight that was much longer than initially predicted, with Boeing investigating an issue with the capsule's thrusters for three months. NASA officials decided to send Starliner back empty to 'further understand the root causes' of the spacecraft's issues, which could threaten Boeing's future involvement in NASA's Commercial Crew program.\n",
      "saved asknews_for_question/27979.json\n",
      "saved asknews_for_question/27980.json\n",
      "saved asknews_for_question/27981.json\n",
      "saved asknews_for_question/27982.json\n",
      "saved asknews_for_question/27983.json\n",
      "ASKING\n",
      "Researching Before October 1, 2024, will Ethiopia and Somalia announce an agreement settling their dispute over the Somaliland port deal?\n",
      "ALL\n",
      "Egyptian actor Naji Sawiris expressed his support for unity and peace in the region, calling for an end to the escalation of tensions between Egypt, Somalia, and Ethiopia. He shared a tweet from an Ethiopian account, writing 'You are right', which stated 'Egypt, Somalia, and Ethiopia are like one state. We should not allow those who drum the beat of war to succeed in their attempts to destabilize us. Destabilizing the Horn of Africa will lead to the destruction of Africa.' The account added 'Africa yearns for unity, not war.' Relations between Somalia and Ethiopia have been tense in recent months, following the signing of a disputed agreement between Addis Ababa and the breakaway region of Somaliland. The agreement aims to secure a piece of land in the Gulf of Aden for Ethiopia, in exchange for recognizing Somaliland as an independent republic. Ethiopia has already sent a diplomat to Hargeisa, marking a significant step in diplomatic recognition. In response, Somali President Hassan Sheikh Mohamud visited Cairo, seeking Egyptian support, and a defense agreement was signed between the two countries in August, with Egypt sending military equipment and troops to Mogadishu. It is expected that Egypt will participate in a new UN peacekeeping mission in Somalia next year.\n",
      "saved asknews_for_question/27920.json\n",
      "RATES\n",
      "RATES China Youth Unemployment Rate August 2024 {'China Youth Unemployment Rate August 2024': \"1. Today's date: 2024-09-06  \\n2. End date: 2024-09-30  \\n3. Time in days D: 24 days  \\n4. Daily rate of change R: Not applicable, as the rate is not specified as changing daily  \\n5. Today's value V: 17.1% (July 2024 rate most recent from data)  \\n6. Change in value dV: Not applicable  \\n7. Final value of the quantity F: Based on current trends, the likely youth unemployment rate for August 2024 may be around 17.0-18.0%  \\n\\nGiven the most recent data points:\\n- Youth unemployment rate for August 2024 <= 16.0%: Unlikely\\n- Youth unemployment rate for August 2024 > 16.0 and <= 17.0%: Possible but less likely\\n- Youth unemployment rate for August 2024 > 17.0 and <= 18.0%: Likely\\n- Youth unemployment rate for August 2024 > 18.0%: Less likely but possible depending on unforeseen changes\", 'Starliner Calypso Landing Status September 2023': None, 'Ethiopia-Somalia Dispute over Somaliland Port Deal': None}\n",
      "RATES Starliner Calypso Landing Status September 2023 {'China Youth Unemployment Rate August 2024': \"1. Today's date: 2024-09-06  \\n2. End date: 2024-09-30  \\n3. Time in days D: 24 days  \\n4. Daily rate of change R: Not applicable, as the rate is not specified as changing daily  \\n5. Today's value V: 17.1% (July 2024 rate most recent from data)  \\n6. Change in value dV: Not applicable  \\n7. Final value of the quantity F: Based on current trends, the likely youth unemployment rate for August 2024 may be around 17.0-18.0%  \\n\\nGiven the most recent data points:\\n- Youth unemployment rate for August 2024 <= 16.0%: Unlikely\\n- Youth unemployment rate for August 2024 > 16.0 and <= 17.0%: Possible but less likely\\n- Youth unemployment rate for August 2024 > 17.0 and <= 18.0%: Likely\\n- Youth unemployment rate for August 2024 > 18.0%: Less likely but possible depending on unforeseen changes\", 'Starliner Calypso Landing Status September 2023': '**Date: 2024-09-06**  \\n**End Date: 2024-09-30**  \\n**Time in Days (D): 24**  \\n**Most Likely Event Date: 2024-09-07**  \\n**Event Date Relative to End Date: Before**\\n\\nGiven the detailed news, it’s clear the Boeing Starliner ‘Calypso’ is scheduled to land at White Sands Space Harbor on September 7, 2024. Thus, it will land well before the end date of September 30, 2024.', 'Ethiopia-Somalia Dispute over Somaliland Port Deal': None}\n",
      "RATES Ethiopia-Somalia Dispute over Somaliland Port Deal {'China Youth Unemployment Rate August 2024': \"1. Today's date: 2024-09-06  \\n2. End date: 2024-09-30  \\n3. Time in days D: 24 days  \\n4. Daily rate of change R: Not applicable, as the rate is not specified as changing daily  \\n5. Today's value V: 17.1% (July 2024 rate most recent from data)  \\n6. Change in value dV: Not applicable  \\n7. Final value of the quantity F: Based on current trends, the likely youth unemployment rate for August 2024 may be around 17.0-18.0%  \\n\\nGiven the most recent data points:\\n- Youth unemployment rate for August 2024 <= 16.0%: Unlikely\\n- Youth unemployment rate for August 2024 > 16.0 and <= 17.0%: Possible but less likely\\n- Youth unemployment rate for August 2024 > 17.0 and <= 18.0%: Likely\\n- Youth unemployment rate for August 2024 > 18.0%: Less likely but possible depending on unforeseen changes\", 'Starliner Calypso Landing Status September 2023': '**Date: 2024-09-06**  \\n**End Date: 2024-09-30**  \\n**Time in Days (D): 24**  \\n**Most Likely Event Date: 2024-09-07**  \\n**Event Date Relative to End Date: Before**\\n\\nGiven the detailed news, it’s clear the Boeing Starliner ‘Calypso’ is scheduled to land at White Sands Space Harbor on September 7, 2024. Thus, it will land well before the end date of September 30, 2024.', 'Ethiopia-Somalia Dispute over Somaliland Port Deal': \"1. Today's date: 2024-09-06\\n2. The end (measurement) date of the question: 2024-10-01\\n3. The time in days (D) from today to end date: 25 days\\n4. The specific date at which the event is most likely to occur: Given the complex geopolitical situation and ongoing diplomatic talks, any agreement before the October 1, 2024, deadline seems unlikely.\\n5. Whether the likely event date is before, or on or after the question end date: On or after the end date.\"}\n",
      "FORECASTING China Youth Unemployment Rate August 2024\n",
      "27932 2 The likelihood of China's youth unemployment rate being less than or equal to 16.0% for August 2024 is very low given the recent surge to 17.1% in July 2024. The economic data indicates ongoing challenges that are unlikely to reverse significantly in such a short time frame.\n",
      "27933 15 There is a possibility that the youth unemployment rate could drop slightly due to government interventions, but the likelihood remains low given the current economic conditions and recent data.\n",
      "27934 60 This range seems most likely given the recent trend and the broader economic issues at play. The rate has already surged to 17.1%, and it might slightly improve or stabilize around this mark.\n",
      "27935 25 Although the surge to over 18.0% is possible, it is less likely without additional significant negative economic shocks. The rate has just increased to 17.1%, and another sharp rise would seem less probable but remains within the realm of possibility.\n",
      "FORECASTING Starliner Calypso Landing Status September 2023\n",
      "27979 95 The extensive preparation and history of successful uncrewed landings by Boeing's Starliner suggest a high probability of touching ground at one of the planned sites, particularly White Sands Space Harbor.\n",
      "27980 5 Since the primary planned site is White Sands, and given the detailed preparations, the likelihood of landing somewhere other than a planned site is low.\n",
      "27981 1 Given the extensive land-based preparations and previous successful landings on land, the likelihood of a splashdown is extremely low.\n",
      "27982 1 The chances of disintegration in the atmosphere are extremely low given the history of successful orbital missions and landings by Starliner.\n",
      "27983 1 Considering the thorough planning and history of timely returns, the probability that the Starliner will be stuck in space by September 30 is extremely low.\n",
      "FORECASTING Ethiopia-Somalia Dispute over Somaliland Port Deal\n",
      "27920 25 Given the complex geopolitical situation and the ongoing diplomatic talks, it seems unlikely that Ethiopia and Somalia will reach an agreement before the October 1, 2024, deadline. There's significant tension between the parties involved, and although progress has been made in discussions, a resolution by the specified date appears improbable. The third round of talks is scheduled for September 17, 2024, but considering the contentious nature of the dispute and the short time frame, reaching a settlement within approximately two weeks is doubtful.\n"
     ]
    }
   ],
   "source": [
    "fcst.fit()"
   ]
  },
  {
   "cell_type": "code",
   "execution_count": 9,
   "metadata": {},
   "outputs": [
    {
     "name": "stdout",
     "output_type": "stream",
     "text": [
      "27920 25\n",
      "27932 2\n",
      "27933 15\n",
      "27934 60\n",
      "27935 25\n",
      "27979 95\n",
      "27980 5\n",
      "27981 1\n",
      "27982 1\n",
      "27983 1\n"
     ]
    }
   ],
   "source": [
    "for ifp in ifps.values():\n",
    "    try:\n",
    "        print(ifp.id, ifp.forecast)\n",
    "    except:\n",
    "        print(ifp.id, 'none')"
   ]
  },
  {
   "cell_type": "code",
   "execution_count": 10,
   "metadata": {},
   "outputs": [
    {
     "name": "stdout",
     "output_type": "stream",
     "text": [
      "27920 Before October 1, 2024, will Ethiopia and Somalia announce an agreement settling their dispute over the Somaliland port deal?\n",
      "Forecast 25\n",
      "Rationale Given the complex geopolitical situation and the ongoing diplomatic talks, it seems unlikely that Ethiopia and Somalia will reach an agreement before the October 1, 2024, deadline. There's significant tension between the parties involved, and although progress has been made in discussions, a resolution by the specified date appears improbable. The third round of talks is scheduled for September 17, 2024, but considering the contentious nature of the dispute and the short time frame, reaching a settlement within approximately two weeks is doubtful. \n",
      "\n",
      "27932 Will China's youth unemployment rate be less than or equal to 16.0 for August 2024?\n",
      "Forecast 2\n",
      "Rationale The likelihood of China's youth unemployment rate being less than or equal to 16.0% for August 2024 is very low given the recent surge to 17.1% in July 2024. The economic data indicates ongoing challenges that are unlikely to reverse significantly in such a short time frame. \n",
      "\n",
      "27933 Will China's youth unemployment rate be greater than 16.0 and less than or equal to 17.0 for August 2024?\n",
      "Forecast 15\n",
      "Rationale There is a possibility that the youth unemployment rate could drop slightly due to government interventions, but the likelihood remains low given the current economic conditions and recent data. \n",
      "\n",
      "27934 Will China's youth unemployment rate be greater than 17.0 and less than or equal to 18.0 for August 2024?\n",
      "Forecast 60\n",
      "Rationale This range seems most likely given the recent trend and the broader economic issues at play. The rate has already surged to 17.1%, and it might slightly improve or stabilize around this mark. \n",
      "\n",
      "27935 Will China's youth unemployment rate be greater than 18.0 for August 2024?\n",
      "Forecast 25\n",
      "Rationale Although the surge to over 18.0% is possible, it is less likely without additional significant negative economic shocks. The rate has just increased to 17.1%, and another sharp rise would seem less probable but remains within the realm of possibility. \n",
      "\n",
      "27979 Will Starliner Calypso touch ground at any of the planned sites by September 30?\n",
      "Forecast 95\n",
      "Rationale The extensive preparation and history of successful uncrewed landings by Boeing's Starliner suggest a high probability of touching ground at one of the planned sites, particularly White Sands Space Harbor. \n",
      "\n",
      "27980 Will Starliner Calypso touch ground somewhere other than at one of the planned sites by September 30?\n",
      "Forecast 5\n",
      "Rationale Since the primary planned site is White Sands, and given the detailed preparations, the likelihood of landing somewhere other than a planned site is low. \n",
      "\n",
      "27981 Will Starliner Calypso splashdown in any body of water by September 30?\n",
      "Forecast 1\n",
      "Rationale Given the extensive land-based preparations and previous successful landings on land, the likelihood of a splashdown is extremely low. \n",
      "\n",
      "27982 Will Starliner Calypso disintegrate in the atmosphere by September 30?\n",
      "Forecast 1\n",
      "Rationale The chances of disintegration in the atmosphere are extremely low given the history of successful orbital missions and landings by Starliner. \n",
      "\n",
      "27983 Will Starliner Calypso be stuck in space on September 30?\n",
      "Forecast 1\n",
      "Rationale Considering the thorough planning and history of timely returns, the probability that the Starliner will be stuck in space by September 30 is extremely low. \n",
      "\n"
     ]
    }
   ],
   "source": [
    "fcst.report()"
   ]
  },
  {
   "cell_type": "code",
   "execution_count": 11,
   "metadata": {},
   "outputs": [
    {
     "name": "stdout",
     "output_type": "stream",
     "text": [
      "Prediction posted for  27920\n",
      "Comment posted for  27920\n",
      "Prediction posted for  27932\n",
      "Comment posted for  27932\n",
      "Prediction posted for  27933\n",
      "Comment posted for  27933\n",
      "Prediction posted for  27934\n",
      "Comment posted for  27934\n",
      "Prediction posted for  27935\n",
      "Comment posted for  27935\n",
      "Prediction posted for  27979\n",
      "Comment posted for  27979\n",
      "Prediction posted for  27980\n",
      "Comment posted for  27980\n",
      "Prediction posted for  27981\n",
      "Comment posted for  27981\n",
      "Prediction posted for  27982\n",
      "Comment posted for  27982\n",
      "Prediction posted for  27983\n",
      "Comment posted for  27983\n"
     ]
    }
   ],
   "source": [
    "fcst.upload()"
   ]
  },
  {
   "cell_type": "code",
   "execution_count": null,
   "metadata": {},
   "outputs": [],
   "source": []
  }
 ],
 "metadata": {
  "colab": {
   "provenance": []
  },
  "kernelspec": {
   "display_name": "trader",
   "language": "python",
   "name": "trader"
  },
  "language_info": {
   "codemirror_mode": {
    "name": "ipython",
    "version": 3
   },
   "file_extension": ".py",
   "mimetype": "text/x-python",
   "name": "python",
   "nbconvert_exporter": "python",
   "pygments_lexer": "ipython3",
   "version": "3.10.6"
  }
 },
 "nbformat": 4,
 "nbformat_minor": 4
}
