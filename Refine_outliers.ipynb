{
 "cells": [
  {
   "cell_type": "code",
   "execution_count": null,
   "metadata": {},
   "outputs": [],
   "source": [
    "plt.hist(score, bins=30, density=True);"
   ]
  },
  {
   "cell_type": "code",
   "execution_count": null,
   "metadata": {},
   "outputs": [],
   "source": [
    "df['Total Spot Score'].plot.hist(bins=50, density=True)\n",
    "plt.title('PDF of scores')\n",
    "plt.xlabel('Score')\n",
    "plt.ylabel('Probability Density')\n",
    "# Show the plot\n",
    "plt.show()\n",
    "df['Take'].plot.hist(bins=50, density=True)\n",
    "plt.title('PDF of take')\n",
    "plt.xlabel('Take')\n",
    "plt.ylabel('Probability Density')\n",
    "# Show the plot\n",
    "plt.show()"
   ]
  },
  {
   "cell_type": "code",
   "execution_count": null,
   "metadata": {},
   "outputs": [],
   "source": [
    "df_nonmf = df[df.Forecaster.apply(lambda x: 'mf-' not in x)]\n",
    "top20_take = df_nonmf['Take'][df.Take > 2000]\n",
    "top20_take.plot.hist(bins=50, density=True)\n",
    "plt.title('PDF of top 20 take')\n",
    "plt.xlabel('Take')\n",
    "plt.ylabel('Probability Density')"
   ]
  },
  {
   "cell_type": "markdown",
   "metadata": {},
   "source": [
    "# Refine outliers"
   ]
  },
  {
   "cell_type": "raw",
   "metadata": {},
   "source": [
    "url_qparams = {\n",
    "    \"project\": WARMUP_TOURNAMENT_ID,\n",
    "    \"type\": \"forecast\",\n",
    "    \"include_description\": \"true\",\n",
    "    \"limit\": 1000,\n",
    "}\n",
    "url = f\"{API_BASE_URL}/questions/\"\n",
    "response = requests.get(url, **AUTH_HEADERS, params=url_qparams)\n",
    "response.raise_for_status()\n",
    "data = json.loads(response.content)\n",
    "len(data['results'])\n",
    "\n",
    "questions = data['results']\n",
    "excluded = [q for q in questions if q['resolution']==-2]\n",
    "for q in excluded:\n",
    "    print(q['id'], q['title'])\n",
    "\n",
    "import matplotlib.pylab as plt\n",
    "live = [q for q in questions if q['resolution']!=-2]\n",
    "plt.plot([q['number_of_forecasters'] for q in live]);\n",
    "plt.title('Forecasters over time for live questions')\n",
    "plt.xlabel('Question appearance order')\n",
    "plt.ylabel('Number of forecasts');\n",
    "\n",
    "unresolved = [q for q in live if q['active_state']!='RESOLVED']\n",
    "\n",
    "q = unresolved[0]\n",
    "my_forecast = q['my_predictions']['predictions'][-1]['x']\n",
    "my_forecast\n",
    "\n",
    "for x in [x for x in q.keys() if 'prediction' in x]:\n",
    "    print(x)\n",
    "    print(q[x])\n",
    "\n",
    "q.keys()\n",
    "\n",
    "df = pd.DataFrame(q['metaculus_prediction']['history'])\n",
    "df['t'] = pd.to_datetime(df['t'], unit='s')\n",
    "df.plot(x='t', y='x')\n",
    "plt.title(f'Metaculus prediction for {q[\"id\"]}');\n",
    "\n",
    "q['community_prediction'].keys()\n",
    "\n",
    "q['community_prediction']['full']['q2']\n",
    "\n",
    "df = pd.DataFrame([(q['id'], q['title'], q['my_predictions']['predictions'][-1]['x'], q['community_prediction']['full']['q2']) for q in unresolved], columns=['id', 'title', 'bot', 'community'])\n",
    "\n",
    "df.plot.scatter(y='bot', x='community')\n",
    "rho = df['bot'].corr(df['community'])\n",
    "plt.title(f'My bot vs bot crowd: Correlation {int(100*rho)}%');\n",
    "\n",
    "import numpy as np\n",
    "df = pd.DataFrame([(q['id'], q['title'], q['my_predictions']['predictions'][-1]['x'], q['community_prediction']['full']['q2']) for q in unresolved], columns=['id', 'title', 'bot', 'community'])\n",
    "df['diff'] = np.abs(df.bot-df.community)\n",
    "df = df.sort_values(by='diff',ascending=False).reset_index(drop=True)\n",
    "pd.set_option('display.max_rows', 500)\n",
    "pd.set_option('display.max_colwidth', 150)\n",
    "df[df.index < 10]\n",
    "\n",
    "diff10 = df[df.index < 10]\n",
    "diff10.plot.scatter(y='bot', x='community')\n",
    "rho = diff10['bot'].corr(diff10['community'])\n",
    "plt.title(f'My bot vs bot crowd on 10 top outliers: Correlation {int(100*rho)}%');"
   ]
  },
  {
   "cell_type": "raw",
   "metadata": {},
   "source": [
    "diff10.id.values\n",
    "\n",
    "ifps = {id: IFP(id) for id in diff10.id.values}\n",
    "\n",
    "fcst = Forecaster(ifps)\n",
    "\n",
    "fcst.fit()\n",
    "\n",
    "fcst.report()\n",
    "\n",
    "diff10 = diff10.copy()\n",
    "diff10['rebot'] = [ifps[id].forecast/100. for id in diff10.id.values]\n",
    "diff10['move'] = diff10.rebot - diff10.bot\n",
    "diff10[['bot', 'rebot', 'move']]\n",
    "\n",
    "diff10.plot.scatter(y='rebot', x='community')\n",
    "rho = diff10['rebot'].corr(diff10['community'])\n",
    "plt.title(f'Revised bot vs bot crowd on 10 top outliers: Correlation {int(100*rho)}%');"
   ]
  }
 ],
 "metadata": {
  "colab": {
   "provenance": []
  },
  "kernelspec": {
   "display_name": "Python 3 (ipykernel)",
   "language": "python",
   "name": "python3"
  },
  "language_info": {
   "codemirror_mode": {
    "name": "ipython",
    "version": 3
   },
   "file_extension": ".py",
   "mimetype": "text/x-python",
   "name": "python",
   "nbconvert_exporter": "python",
   "pygments_lexer": "ipython3",
   "version": "3.10.6"
  }
 },
 "nbformat": 4,
 "nbformat_minor": 4
}
