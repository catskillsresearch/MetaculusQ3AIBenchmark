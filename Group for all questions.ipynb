{
 "cells": [
  {
   "cell_type": "markdown",
   "id": "67037bdd-c1e8-4780-bdc2-f9d77a29387b",
   "metadata": {},
   "source": [
    "# Model domain classifier for all questions"
   ]
  },
  {
   "cell_type": "code",
   "execution_count": 2,
   "id": "25c63352-c7f1-47a2-90ba-ee0af93530aa",
   "metadata": {},
   "outputs": [],
   "source": [
    "# Query existing database\n",
    "from pony.orm import *\n",
    "from db import db, start_db\n",
    "from Question import Question\n",
    "start_db()\n",
    "\n",
    "with db_session:\n",
    "    questions = list(select(q for q in Question))"
   ]
  },
  {
   "cell_type": "code",
   "execution_count": 3,
   "id": "59e667c3-ebc2-44e1-9691-0972d0080202",
   "metadata": {},
   "outputs": [],
   "source": [
    "from MetacGPT import MetacGPT\n",
    "from ModelDomainClassifier import ModelDomainClassifier\n",
    "mdc = ModelDomainClassifier(MetacGPT)"
   ]
  },
  {
   "cell_type": "code",
   "execution_count": null,
   "id": "d3adbcc7-1b94-4c99-8072-eeb17d81fdac",
   "metadata": {},
   "outputs": [
    {
     "name": "stdout",
     "output_type": "stream",
     "text": [
      "25871 On July 17, 2024, will Nvidia's market capitalization be larger than Apple's?\n",
      "Market price\n",
      "25872 Will 4 or more goals be scored in the two semi-final games combined in the 2024 UEFA European Championship?\n",
      "Sports performance\n",
      "25873 Will the Real-time Sahm Rule Recession Indicator increase Year-over-Year for Aug 2024?\n",
      "Macroeconomics\n",
      "25874 Will the time gap between the first and second place finishers in the 2024 Tour de France be more than 3 minutes?\n",
      "Sports performance\n",
      "25875 Will Joe Biden announce before July 31, 2024 that he will not accept the Democratic Party's nomination for President?\n",
      "Election outcome\n",
      "25876 Will exactly 2 Starship launches reach reach an altitude of 160 kilometers by Sept 30, 2024?\n",
      "Astronomy\n",
      "25877 Will exactly 3 Starship launches reach reach an altitude of 160 kilometers by Sept 30, 2024?\n",
      "Astronomy\n",
      "25878 Will exactly 2 or 3 Starship launches reach reach an altitude of 160 kilometers by Sept 30, 2024?\n",
      "Astronomy\n",
      "25933 Will the  CBOE S&P 500 3-Month Volatility Index (VXVCLS)\t\n",
      " be higher Year-over-Year on July 20, 2024?\n",
      "Market price\n",
      "25934 Will US offer India a nuclear submarine before Sept 30, 2024?\n",
      "Geopolitics\n",
      "25935 Will OpenAI publish information describing Q* (Q-Star) by Sept 30, 2024?\n",
      "AI performance\n",
      "25936 Will the Crimean Bridge be hit with an attack before Sept 30, 2024?\n",
      "Military conflict\n",
      "25952 Will the Prime Minister of France belong to the New Popular Front coalition on July 30, 2024?\n",
      "Leadership change\n",
      "25953 Will the Prime Minister of France belong to the Together coalition on July 30, 2024?\n",
      "Leadership change\n",
      "25954 Will the Prime Minister of France belong to a coalition other than New Popular Front or Together on July 30, 2024?\n",
      "Leadership change\n",
      "25955 Before October 1, 2024, will there be an armed forces death in a conflict opposing China to Taiwan, the United States, the Philippines, or Japan?\n",
      "Military conflict\n",
      "25956 Will Democrats have a brokered convention in 2024?\n",
      "Election outcome\n",
      "25957 Will Tadej Pogačar win the Tour de France 2024?\n",
      "Sports performance\n",
      "25958 Will Jonas Vingegaard win the Tour de France 2024?\n",
      "Sports performance\n",
      "25959 Will someone other than Tadej Pogačar or Jonas Vingegaard win the Tour de France 2024?\n",
      "Sports performance\n",
      "25960 Will there be any reported human-to-human transmission of highly pathogenic avian influenza H5N1 globally before Sept 30, 2024?\n",
      "Epidemic\n"
     ]
    }
   ],
   "source": [
    "for ifp in questions:\n",
    "    mdc.classify(ifp)"
   ]
  },
  {
   "cell_type": "code",
   "execution_count": 5,
   "id": "147892d8-306c-4d38-bf0f-6165d48e0fba",
   "metadata": {},
   "outputs": [
    {
     "data": {
      "text/plain": [
       "'Market price'"
      ]
     },
     "execution_count": 5,
     "metadata": {},
     "output_type": "execute_result"
    }
   ],
   "source": [
    "questions[0].model_domain"
   ]
  },
  {
   "cell_type": "code",
   "execution_count": null,
   "id": "87351a6e-20fc-444d-baaa-ff85f534a552",
   "metadata": {},
   "outputs": [],
   "source": [
    "ask_dates = list(sorted(set([question.ask_date for question in questions])))"
   ]
  },
  {
   "cell_type": "code",
   "execution_count": null,
   "id": "2491d298-7bc3-4658-9795-da70b0696c4e",
   "metadata": {},
   "outputs": [],
   "source": []
  },
  {
   "cell_type": "code",
   "execution_count": null,
   "id": "7d3cb968-258a-4ca8-8e91-114a452e38c6",
   "metadata": {},
   "outputs": [],
   "source": [
    "questions_by_ask_date = {ask_date: [] for ask_date in ask_dates}"
   ]
  },
  {
   "cell_type": "code",
   "execution_count": null,
   "id": "15b7b49c-5caf-46b7-89fd-12a4f45dd267",
   "metadata": {},
   "outputs": [],
   "source": [
    "for question in questions:\n",
    "    questions_by_ask_date[question.ask_date].append(question)"
   ]
  },
  {
   "cell_type": "code",
   "execution_count": null,
   "id": "f06fbd23-b3e4-461c-9705-65f511897a8f",
   "metadata": {},
   "outputs": [],
   "source": [
    "questions_by_ask_date"
   ]
  },
  {
   "cell_type": "code",
   "execution_count": null,
   "id": "14d141f8-a976-46da-9f18-6efd13f62e43",
   "metadata": {},
   "outputs": [],
   "source": []
  },
  {
   "cell_type": "code",
   "execution_count": null,
   "id": "a428da18-fa9c-4019-9f16-b730c38907cb",
   "metadata": {},
   "outputs": [],
   "source": []
  }
 ],
 "metadata": {
  "kernelspec": {
   "display_name": "trader",
   "language": "python",
   "name": "trader"
  },
  "language_info": {
   "codemirror_mode": {
    "name": "ipython",
    "version": 3
   },
   "file_extension": ".py",
   "mimetype": "text/x-python",
   "name": "python",
   "nbconvert_exporter": "python",
   "pygments_lexer": "ipython3",
   "version": "3.10.6"
  }
 },
 "nbformat": 4,
 "nbformat_minor": 5
}
