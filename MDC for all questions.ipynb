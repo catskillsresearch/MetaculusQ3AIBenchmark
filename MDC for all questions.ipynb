{
 "cells": [
  {
   "cell_type": "markdown",
   "id": "67037bdd-c1e8-4780-bdc2-f9d77a29387b",
   "metadata": {},
   "source": [
    "# Model domain classifier for all questions"
   ]
  },
  {
   "cell_type": "code",
   "execution_count": 1,
   "id": "8fce3870-5410-467a-bb69-efc2bebebe64",
   "metadata": {},
   "outputs": [],
   "source": [
    "%load_ext autoreload\n",
    "%autoreload 2"
   ]
  },
  {
   "cell_type": "code",
   "execution_count": 2,
   "id": "25c63352-c7f1-47a2-90ba-ee0af93530aa",
   "metadata": {},
   "outputs": [],
   "source": [
    "# Query existing database\n",
    "from pony.orm import *\n",
    "from db import db, start_db\n",
    "from Question import Question\n",
    "start_db()\n",
    "\n",
    "with db_session:\n",
    "    questions = list(select(q for q in Question))"
   ]
  },
  {
   "cell_type": "code",
   "execution_count": 3,
   "id": "2215baa3-1638-4854-9913-9adaf04d3c52",
   "metadata": {},
   "outputs": [],
   "source": [
    "from MetacGPT import MetacGPT"
   ]
  },
  {
   "cell_type": "code",
   "execution_count": 4,
   "id": "59e667c3-ebc2-44e1-9691-0972d0080202",
   "metadata": {},
   "outputs": [],
   "source": [
    "from ModelDomainClassifier import ModelDomainClassifier"
   ]
  },
  {
   "cell_type": "code",
   "execution_count": 5,
   "id": "076ef409-90cf-40a9-9ec9-1d1b0554c708",
   "metadata": {},
   "outputs": [],
   "source": [
    "import pandas as pd"
   ]
  },
  {
   "cell_type": "code",
   "execution_count": 6,
   "id": "aed4951c-c7e6-4076-9b39-84833710926c",
   "metadata": {},
   "outputs": [
    {
     "data": {
      "text/plain": [
       "274"
      ]
     },
     "execution_count": 6,
     "metadata": {},
     "output_type": "execute_result"
    }
   ],
   "source": [
    "len(questions)"
   ]
  },
  {
   "cell_type": "code",
   "execution_count": 7,
   "id": "b4162a19-0ca5-448f-8519-ad4c9dad03cc",
   "metadata": {},
   "outputs": [],
   "source": [
    "backup = 'model_domain.csv'"
   ]
  },
  {
   "cell_type": "code",
   "execution_count": 14,
   "id": "7d1c3aa8-5dcf-4398-ba28-ee31ed3fac88",
   "metadata": {},
   "outputs": [],
   "source": [
    "df = pd.read_csv(backup)"
   ]
  },
  {
   "cell_type": "code",
   "execution_count": null,
   "id": "a2d237d0-997c-474b-a2de-19039744fae6",
   "metadata": {},
   "outputs": [],
   "source": [
    "df['modellen'] = df.model.apply(len)"
   ]
  },
  {
   "cell_type": "code",
   "execution_count": 18,
   "id": "9fedbaca-7628-4547-9504-9dc985213a3d",
   "metadata": {},
   "outputs": [],
   "source": [
    "df = df[df.modellen <100]"
   ]
  },
  {
   "cell_type": "code",
   "execution_count": 23,
   "id": "037f7604-dd97-4273-b08e-7e1215b70480",
   "metadata": {},
   "outputs": [],
   "source": [
    "domained = df.id.tolist()"
   ]
  },
  {
   "cell_type": "code",
   "execution_count": 26,
   "id": "ba2ad7c8-1f26-4f2d-893f-1f24ecfd34b6",
   "metadata": {},
   "outputs": [
    {
     "data": {
      "text/plain": [
       "234"
      ]
     },
     "execution_count": 26,
     "metadata": {},
     "output_type": "execute_result"
    }
   ],
   "source": [
    "len(domained)"
   ]
  },
  {
   "cell_type": "code",
   "execution_count": 24,
   "id": "d3adbcc7-1b94-4c99-8072-eeb17d81fdac",
   "metadata": {},
   "outputs": [],
   "source": [
    "for ifp in questions:\n",
    "    if ifp.id in domained:\n",
    "    \n",
    "        print(ifp.id, ifp.title)\n",
    "        mdc = ModelDomainClassifier(MetacGPT)\n",
    "        mdc.classify(ifp)"
   ]
  },
  {
   "cell_type": "code",
   "execution_count": 25,
   "id": "3f27f55a-b1db-4b2e-9365-22c6bc981b89",
   "metadata": {},
   "outputs": [
    {
     "data": {
      "text/plain": [
       "274"
      ]
     },
     "execution_count": 25,
     "metadata": {},
     "output_type": "execute_result"
    }
   ],
   "source": [
    "len(questions)"
   ]
  },
  {
   "cell_type": "code",
   "execution_count": null,
   "id": "14d141f8-a976-46da-9f18-6efd13f62e43",
   "metadata": {},
   "outputs": [],
   "source": [
    "\n",
    "df = pd.DataFrame([(q.model_domain, q.id, q.title) for q in questions], columns = ['model', 'id', 'title'])"
   ]
  },
  {
   "cell_type": "code",
   "execution_count": null,
   "id": "a428da18-fa9c-4019-9f16-b730c38907cb",
   "metadata": {},
   "outputs": [],
   "source": [
    "df"
   ]
  },
  {
   "cell_type": "code",
   "execution_count": null,
   "id": "7acf57ec-d19b-4f8a-8332-46f169313870",
   "metadata": {},
   "outputs": [],
   "source": [
    "len(df.id.unique())"
   ]
  },
  {
   "cell_type": "code",
   "execution_count": null,
   "id": "53c7e2e5-02f8-4b50-865c-57bb467d165a",
   "metadata": {},
   "outputs": [],
   "source": [
    "df.to_csv('model_domain.csv')"
   ]
  },
  {
   "cell_type": "code",
   "execution_count": null,
   "id": "d891ffff-6043-431d-998f-edb1d0024cd3",
   "metadata": {},
   "outputs": [],
   "source": []
  }
 ],
 "metadata": {
  "kernelspec": {
   "display_name": "trader",
   "language": "python",
   "name": "trader"
  },
  "language_info": {
   "codemirror_mode": {
    "name": "ipython",
    "version": 3
   },
   "file_extension": ".py",
   "mimetype": "text/x-python",
   "name": "python",
   "nbconvert_exporter": "python",
   "pygments_lexer": "ipython3",
   "version": "3.10.6"
  }
 },
 "nbformat": 4,
 "nbformat_minor": 5
}
